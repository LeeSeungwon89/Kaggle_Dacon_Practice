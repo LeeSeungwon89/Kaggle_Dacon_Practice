{
  "nbformat": 4,
  "nbformat_minor": 0,
  "metadata": {
    "colab": {
      "provenance": [],
      "toc_visible": true,
      "authorship_tag": "ABX9TyN3cN+p/iCcBaoe3E190FiM",
      "include_colab_link": true
    },
    "kernelspec": {
      "name": "python3",
      "display_name": "Python 3"
    },
    "language_info": {
      "name": "python"
    }
  },
  "cells": [
    {
      "cell_type": "markdown",
      "metadata": {
        "id": "view-in-github",
        "colab_type": "text"
      },
      "source": [
        "<a href=\"https://colab.research.google.com/github/LeeSeungwon89/Kaggle_Dacon_Practice/blob/main/2.%20Categorical_Feature_Encoding_Challenge_baseline_model.ipynb\" target=\"_parent\"><img src=\"https://colab.research.google.com/assets/colab-badge.svg\" alt=\"Open In Colab\"/></a>"
      ]
    },
    {
      "cell_type": "code",
      "execution_count": null,
      "metadata": {
        "id": "9m9nsEewr9Da"
      },
      "outputs": [],
      "source": [
        "!pip install kaggle\n",
        "from google.colab import files\n",
        "files.upload()"
      ]
    },
    {
      "cell_type": "code",
      "source": [
        "ls -1ha kaggle.json"
      ],
      "metadata": {
        "colab": {
          "base_uri": "https://localhost:8080/"
        },
        "id": "vBIPCwbvsN7X",
        "outputId": "1ac786e3-2b9b-46a7-d3b2-d9ad24735ca9"
      },
      "execution_count": null,
      "outputs": [
        {
          "output_type": "stream",
          "name": "stdout",
          "text": [
            "kaggle.json\n"
          ]
        }
      ]
    },
    {
      "cell_type": "code",
      "source": [
        "!mkdir -p ~/.kaggle\n",
        "!cp kaggle.json ~/.kaggle/\n",
        "\n",
        "# Permission Warning이 발생하지 않도록 해줍니다.\n",
        "!chmod 600 ~/.kaggle/kaggle.json\n",
        "\n",
        "# 참가한 대회 리스트를 확인합니다.\n",
        "# !kaggle competitions list"
      ],
      "metadata": {
        "id": "6abqZTxNsO-J"
      },
      "execution_count": null,
      "outputs": []
    },
    {
      "cell_type": "code",
      "source": [
        "!kaggle competitions download -c cat-in-the-dat"
      ],
      "metadata": {
        "colab": {
          "base_uri": "https://localhost:8080/"
        },
        "id": "brHHrTx_sRbP",
        "outputId": "a52484a4-54c3-4072-b862-19f64ecaafb4"
      },
      "execution_count": null,
      "outputs": [
        {
          "output_type": "stream",
          "name": "stdout",
          "text": [
            "cat-in-the-dat.zip: Skipping, found more recently modified local copy (use --force to force download)\n"
          ]
        }
      ]
    },
    {
      "cell_type": "code",
      "source": [
        "!ls"
      ],
      "metadata": {
        "colab": {
          "base_uri": "https://localhost:8080/"
        },
        "id": "6L3WGetdsUXQ",
        "outputId": "833108b5-9b9b-49c5-b6b0-c79c334a187e"
      },
      "execution_count": null,
      "outputs": [
        {
          "output_type": "stream",
          "name": "stdout",
          "text": [
            " cat-in-the-dat.zip   kaggle.json   sample_submission.csv   train.csv\n",
            "'kaggle (1).json'     sample_data   test.csv\n"
          ]
        }
      ]
    },
    {
      "cell_type": "code",
      "source": [
        "!unzip cat-in-the-dat.zip"
      ],
      "metadata": {
        "colab": {
          "base_uri": "https://localhost:8080/"
        },
        "id": "w0dL3PSNsWBG",
        "outputId": "d5c192bf-8510-48bf-c10e-57e12aa278e5"
      },
      "execution_count": null,
      "outputs": [
        {
          "output_type": "stream",
          "name": "stdout",
          "text": [
            "Archive:  cat-in-the-dat.zip\n",
            "replace sample_submission.csv? [y]es, [n]o, [A]ll, [N]one, [r]ename: A\n",
            "  inflating: sample_submission.csv   \n",
            "  inflating: test.csv                \n",
            "  inflating: train.csv               \n"
          ]
        }
      ]
    },
    {
      "cell_type": "markdown",
      "source": [
        "# **1. 피처 엔지니어링**"
      ],
      "metadata": {
        "id": "XsTi7HXishk9"
      }
    },
    {
      "cell_type": "markdown",
      "source": [
        "## **1.1. 데이터 준비**"
      ],
      "metadata": {
        "id": "Kle0eYWFsrEd"
      }
    },
    {
      "cell_type": "markdown",
      "source": [
        "데이터를 준비하겠습니다. 'id' 피처의 고윳값 개수가 레코드 개수와 일치하므로 'id' 피처를 인덱스로 삼겠습니다."
      ],
      "metadata": {
        "id": "wOyaDQuHtl_c"
      }
    },
    {
      "cell_type": "code",
      "source": [
        "import numpy as np\n",
        "import pandas as pd\n",
        "\n",
        "# 최대 행렬 수를 설정합니다.\n",
        "pd.set_option('display.max_column', 50)\n",
        "pd.set_option('display.max_rows', 50)\n",
        "\n",
        "# 데이터를 읽습니다. 'id' 피처는 인덱스로 지정합니다.\n",
        "train = pd.read_csv('train.csv', index_col='id')\n",
        "test = pd.read_csv('test.csv', index_col='id')\n",
        "submission = pd.read_csv('sample_submission.csv', index_col='id')"
      ],
      "metadata": {
        "id": "XeHtbkdbsfX-"
      },
      "execution_count": null,
      "outputs": []
    },
    {
      "cell_type": "markdown",
      "source": [
        "훈련 세트와 테스트 세트를 위아래로 쌓고 데이터 정보를 확인하겠습니다."
      ],
      "metadata": {
        "id": "VQsPJIkQt5pV"
      }
    },
    {
      "cell_type": "code",
      "source": [
        "all_data = pd.concat([train, test], ignore_index=False)\n",
        "all_data"
      ],
      "metadata": {
        "colab": {
          "base_uri": "https://localhost:8080/",
          "height": 455
        },
        "id": "sJwUrxhlsza3",
        "outputId": "af7798e1-b2fe-4aab-97f8-2cbfd673145f"
      },
      "execution_count": null,
      "outputs": [
        {
          "output_type": "execute_result",
          "data": {
            "text/plain": [
              "        bin_0  bin_1  bin_2 bin_3 bin_4  nom_0      nom_1    nom_2  \\\n",
              "id                                                                   \n",
              "0           0      0      0     T     Y  Green   Triangle    Snake   \n",
              "1           0      1      0     T     Y  Green  Trapezoid  Hamster   \n",
              "2           0      0      0     F     Y   Blue  Trapezoid     Lion   \n",
              "3           0      1      0     F     Y    Red  Trapezoid    Snake   \n",
              "4           0      0      0     F     N    Red  Trapezoid     Lion   \n",
              "...       ...    ...    ...   ...   ...    ...        ...      ...   \n",
              "499995      0      0      0     F     N  Green     Square     Lion   \n",
              "499996      1      0      0     F     Y  Green  Trapezoid     Lion   \n",
              "499997      0      1      1     T     Y  Green  Trapezoid     Lion   \n",
              "499998      1      0      0     T     Y   Blue       Star  Hamster   \n",
              "499999      0      0      0     T     Y  Green       Star     Lion   \n",
              "\n",
              "             nom_3     nom_4      nom_5      nom_6      nom_7      nom_8  \\\n",
              "id                                                                         \n",
              "0          Finland   Bassoon  50f116bcf  3ac1b8814  68f6ad3e9  c389000ab   \n",
              "1           Russia     Piano  b3b4d25d0  fbcb50fc1  3b6dd5612  4cd920251   \n",
              "2           Russia  Theremin  3263bdce5  0922e3cb8  a6a36f527  de9c9f684   \n",
              "3           Canada      Oboe  f12246592  50d7ad46a  ec69236eb  4ade6ab69   \n",
              "4           Canada      Oboe  5b0f5acd5  1fe17a1fd  04ddac2be  cb43ab175   \n",
              "...            ...       ...        ...        ...        ...        ...   \n",
              "499995      Canada  Theremin  6c90f81cd  a406a5f12  d02a6b0ba  9e4b23160   \n",
              "499996       China     Piano  2d61990e2  520806ce2  d2d8eabdb  cfbd87ed0   \n",
              "499997      Canada      Oboe  488406659  28645754b  22831fffe  1108bcd6c   \n",
              "499998  Costa Rica   Bassoon  f9d17bb93  2eadb68c5  fef807a3e  606ac930b   \n",
              "499999       India     Piano  a5c276589  c135cdf77  a8f53c631  4ea576eb6   \n",
              "\n",
              "            nom_9  ord_0        ord_1        ord_2 ord_3 ord_4 ord_5  day  \\\n",
              "id                                                                          \n",
              "0       2f4cb3d51      2  Grandmaster         Cold     h     D    kr    2   \n",
              "1       f83c56c21      1  Grandmaster          Hot     a     A    bF    7   \n",
              "2       ae6800dd0      1       Expert     Lava Hot     h     R    Jc    7   \n",
              "3       8270f0d71      1  Grandmaster  Boiling Hot     i     D    kW    2   \n",
              "4       b164b72a7      1  Grandmaster     Freezing     a     R    qP    7   \n",
              "...           ...    ...          ...          ...   ...   ...   ...  ...   \n",
              "499995  acc31291f      1       Novice     Lava Hot     j     A    Gb    1   \n",
              "499996  eae3446d0      1  Contributor     Lava Hot     f     S    Ed    2   \n",
              "499997  33dd3cf4b      1       Novice  Boiling Hot     g     V    TR    3   \n",
              "499998  d4cf587dd      2  Grandmaster  Boiling Hot     g     X    Ye    2   \n",
              "499999  2d610f52c      2       Novice     Freezing     l     J    ex    2   \n",
              "\n",
              "        month  target  \n",
              "id                     \n",
              "0           2     0.0  \n",
              "1           8     0.0  \n",
              "2           2     0.0  \n",
              "3           1     1.0  \n",
              "4           8     0.0  \n",
              "...       ...     ...  \n",
              "499995      3     NaN  \n",
              "499996      2     NaN  \n",
              "499997      1     NaN  \n",
              "499998      1     NaN  \n",
              "499999      2     NaN  \n",
              "\n",
              "[500000 rows x 24 columns]"
            ],
            "text/html": [
              "\n",
              "  <div id=\"df-0d8aba7e-b47b-4281-af1a-658b6b1a3065\">\n",
              "    <div class=\"colab-df-container\">\n",
              "      <div>\n",
              "<style scoped>\n",
              "    .dataframe tbody tr th:only-of-type {\n",
              "        vertical-align: middle;\n",
              "    }\n",
              "\n",
              "    .dataframe tbody tr th {\n",
              "        vertical-align: top;\n",
              "    }\n",
              "\n",
              "    .dataframe thead th {\n",
              "        text-align: right;\n",
              "    }\n",
              "</style>\n",
              "<table border=\"1\" class=\"dataframe\">\n",
              "  <thead>\n",
              "    <tr style=\"text-align: right;\">\n",
              "      <th></th>\n",
              "      <th>bin_0</th>\n",
              "      <th>bin_1</th>\n",
              "      <th>bin_2</th>\n",
              "      <th>bin_3</th>\n",
              "      <th>bin_4</th>\n",
              "      <th>nom_0</th>\n",
              "      <th>nom_1</th>\n",
              "      <th>nom_2</th>\n",
              "      <th>nom_3</th>\n",
              "      <th>nom_4</th>\n",
              "      <th>nom_5</th>\n",
              "      <th>nom_6</th>\n",
              "      <th>nom_7</th>\n",
              "      <th>nom_8</th>\n",
              "      <th>nom_9</th>\n",
              "      <th>ord_0</th>\n",
              "      <th>ord_1</th>\n",
              "      <th>ord_2</th>\n",
              "      <th>ord_3</th>\n",
              "      <th>ord_4</th>\n",
              "      <th>ord_5</th>\n",
              "      <th>day</th>\n",
              "      <th>month</th>\n",
              "      <th>target</th>\n",
              "    </tr>\n",
              "    <tr>\n",
              "      <th>id</th>\n",
              "      <th></th>\n",
              "      <th></th>\n",
              "      <th></th>\n",
              "      <th></th>\n",
              "      <th></th>\n",
              "      <th></th>\n",
              "      <th></th>\n",
              "      <th></th>\n",
              "      <th></th>\n",
              "      <th></th>\n",
              "      <th></th>\n",
              "      <th></th>\n",
              "      <th></th>\n",
              "      <th></th>\n",
              "      <th></th>\n",
              "      <th></th>\n",
              "      <th></th>\n",
              "      <th></th>\n",
              "      <th></th>\n",
              "      <th></th>\n",
              "      <th></th>\n",
              "      <th></th>\n",
              "      <th></th>\n",
              "      <th></th>\n",
              "    </tr>\n",
              "  </thead>\n",
              "  <tbody>\n",
              "    <tr>\n",
              "      <th>0</th>\n",
              "      <td>0</td>\n",
              "      <td>0</td>\n",
              "      <td>0</td>\n",
              "      <td>T</td>\n",
              "      <td>Y</td>\n",
              "      <td>Green</td>\n",
              "      <td>Triangle</td>\n",
              "      <td>Snake</td>\n",
              "      <td>Finland</td>\n",
              "      <td>Bassoon</td>\n",
              "      <td>50f116bcf</td>\n",
              "      <td>3ac1b8814</td>\n",
              "      <td>68f6ad3e9</td>\n",
              "      <td>c389000ab</td>\n",
              "      <td>2f4cb3d51</td>\n",
              "      <td>2</td>\n",
              "      <td>Grandmaster</td>\n",
              "      <td>Cold</td>\n",
              "      <td>h</td>\n",
              "      <td>D</td>\n",
              "      <td>kr</td>\n",
              "      <td>2</td>\n",
              "      <td>2</td>\n",
              "      <td>0.0</td>\n",
              "    </tr>\n",
              "    <tr>\n",
              "      <th>1</th>\n",
              "      <td>0</td>\n",
              "      <td>1</td>\n",
              "      <td>0</td>\n",
              "      <td>T</td>\n",
              "      <td>Y</td>\n",
              "      <td>Green</td>\n",
              "      <td>Trapezoid</td>\n",
              "      <td>Hamster</td>\n",
              "      <td>Russia</td>\n",
              "      <td>Piano</td>\n",
              "      <td>b3b4d25d0</td>\n",
              "      <td>fbcb50fc1</td>\n",
              "      <td>3b6dd5612</td>\n",
              "      <td>4cd920251</td>\n",
              "      <td>f83c56c21</td>\n",
              "      <td>1</td>\n",
              "      <td>Grandmaster</td>\n",
              "      <td>Hot</td>\n",
              "      <td>a</td>\n",
              "      <td>A</td>\n",
              "      <td>bF</td>\n",
              "      <td>7</td>\n",
              "      <td>8</td>\n",
              "      <td>0.0</td>\n",
              "    </tr>\n",
              "    <tr>\n",
              "      <th>2</th>\n",
              "      <td>0</td>\n",
              "      <td>0</td>\n",
              "      <td>0</td>\n",
              "      <td>F</td>\n",
              "      <td>Y</td>\n",
              "      <td>Blue</td>\n",
              "      <td>Trapezoid</td>\n",
              "      <td>Lion</td>\n",
              "      <td>Russia</td>\n",
              "      <td>Theremin</td>\n",
              "      <td>3263bdce5</td>\n",
              "      <td>0922e3cb8</td>\n",
              "      <td>a6a36f527</td>\n",
              "      <td>de9c9f684</td>\n",
              "      <td>ae6800dd0</td>\n",
              "      <td>1</td>\n",
              "      <td>Expert</td>\n",
              "      <td>Lava Hot</td>\n",
              "      <td>h</td>\n",
              "      <td>R</td>\n",
              "      <td>Jc</td>\n",
              "      <td>7</td>\n",
              "      <td>2</td>\n",
              "      <td>0.0</td>\n",
              "    </tr>\n",
              "    <tr>\n",
              "      <th>3</th>\n",
              "      <td>0</td>\n",
              "      <td>1</td>\n",
              "      <td>0</td>\n",
              "      <td>F</td>\n",
              "      <td>Y</td>\n",
              "      <td>Red</td>\n",
              "      <td>Trapezoid</td>\n",
              "      <td>Snake</td>\n",
              "      <td>Canada</td>\n",
              "      <td>Oboe</td>\n",
              "      <td>f12246592</td>\n",
              "      <td>50d7ad46a</td>\n",
              "      <td>ec69236eb</td>\n",
              "      <td>4ade6ab69</td>\n",
              "      <td>8270f0d71</td>\n",
              "      <td>1</td>\n",
              "      <td>Grandmaster</td>\n",
              "      <td>Boiling Hot</td>\n",
              "      <td>i</td>\n",
              "      <td>D</td>\n",
              "      <td>kW</td>\n",
              "      <td>2</td>\n",
              "      <td>1</td>\n",
              "      <td>1.0</td>\n",
              "    </tr>\n",
              "    <tr>\n",
              "      <th>4</th>\n",
              "      <td>0</td>\n",
              "      <td>0</td>\n",
              "      <td>0</td>\n",
              "      <td>F</td>\n",
              "      <td>N</td>\n",
              "      <td>Red</td>\n",
              "      <td>Trapezoid</td>\n",
              "      <td>Lion</td>\n",
              "      <td>Canada</td>\n",
              "      <td>Oboe</td>\n",
              "      <td>5b0f5acd5</td>\n",
              "      <td>1fe17a1fd</td>\n",
              "      <td>04ddac2be</td>\n",
              "      <td>cb43ab175</td>\n",
              "      <td>b164b72a7</td>\n",
              "      <td>1</td>\n",
              "      <td>Grandmaster</td>\n",
              "      <td>Freezing</td>\n",
              "      <td>a</td>\n",
              "      <td>R</td>\n",
              "      <td>qP</td>\n",
              "      <td>7</td>\n",
              "      <td>8</td>\n",
              "      <td>0.0</td>\n",
              "    </tr>\n",
              "    <tr>\n",
              "      <th>...</th>\n",
              "      <td>...</td>\n",
              "      <td>...</td>\n",
              "      <td>...</td>\n",
              "      <td>...</td>\n",
              "      <td>...</td>\n",
              "      <td>...</td>\n",
              "      <td>...</td>\n",
              "      <td>...</td>\n",
              "      <td>...</td>\n",
              "      <td>...</td>\n",
              "      <td>...</td>\n",
              "      <td>...</td>\n",
              "      <td>...</td>\n",
              "      <td>...</td>\n",
              "      <td>...</td>\n",
              "      <td>...</td>\n",
              "      <td>...</td>\n",
              "      <td>...</td>\n",
              "      <td>...</td>\n",
              "      <td>...</td>\n",
              "      <td>...</td>\n",
              "      <td>...</td>\n",
              "      <td>...</td>\n",
              "      <td>...</td>\n",
              "    </tr>\n",
              "    <tr>\n",
              "      <th>499995</th>\n",
              "      <td>0</td>\n",
              "      <td>0</td>\n",
              "      <td>0</td>\n",
              "      <td>F</td>\n",
              "      <td>N</td>\n",
              "      <td>Green</td>\n",
              "      <td>Square</td>\n",
              "      <td>Lion</td>\n",
              "      <td>Canada</td>\n",
              "      <td>Theremin</td>\n",
              "      <td>6c90f81cd</td>\n",
              "      <td>a406a5f12</td>\n",
              "      <td>d02a6b0ba</td>\n",
              "      <td>9e4b23160</td>\n",
              "      <td>acc31291f</td>\n",
              "      <td>1</td>\n",
              "      <td>Novice</td>\n",
              "      <td>Lava Hot</td>\n",
              "      <td>j</td>\n",
              "      <td>A</td>\n",
              "      <td>Gb</td>\n",
              "      <td>1</td>\n",
              "      <td>3</td>\n",
              "      <td>NaN</td>\n",
              "    </tr>\n",
              "    <tr>\n",
              "      <th>499996</th>\n",
              "      <td>1</td>\n",
              "      <td>0</td>\n",
              "      <td>0</td>\n",
              "      <td>F</td>\n",
              "      <td>Y</td>\n",
              "      <td>Green</td>\n",
              "      <td>Trapezoid</td>\n",
              "      <td>Lion</td>\n",
              "      <td>China</td>\n",
              "      <td>Piano</td>\n",
              "      <td>2d61990e2</td>\n",
              "      <td>520806ce2</td>\n",
              "      <td>d2d8eabdb</td>\n",
              "      <td>cfbd87ed0</td>\n",
              "      <td>eae3446d0</td>\n",
              "      <td>1</td>\n",
              "      <td>Contributor</td>\n",
              "      <td>Lava Hot</td>\n",
              "      <td>f</td>\n",
              "      <td>S</td>\n",
              "      <td>Ed</td>\n",
              "      <td>2</td>\n",
              "      <td>2</td>\n",
              "      <td>NaN</td>\n",
              "    </tr>\n",
              "    <tr>\n",
              "      <th>499997</th>\n",
              "      <td>0</td>\n",
              "      <td>1</td>\n",
              "      <td>1</td>\n",
              "      <td>T</td>\n",
              "      <td>Y</td>\n",
              "      <td>Green</td>\n",
              "      <td>Trapezoid</td>\n",
              "      <td>Lion</td>\n",
              "      <td>Canada</td>\n",
              "      <td>Oboe</td>\n",
              "      <td>488406659</td>\n",
              "      <td>28645754b</td>\n",
              "      <td>22831fffe</td>\n",
              "      <td>1108bcd6c</td>\n",
              "      <td>33dd3cf4b</td>\n",
              "      <td>1</td>\n",
              "      <td>Novice</td>\n",
              "      <td>Boiling Hot</td>\n",
              "      <td>g</td>\n",
              "      <td>V</td>\n",
              "      <td>TR</td>\n",
              "      <td>3</td>\n",
              "      <td>1</td>\n",
              "      <td>NaN</td>\n",
              "    </tr>\n",
              "    <tr>\n",
              "      <th>499998</th>\n",
              "      <td>1</td>\n",
              "      <td>0</td>\n",
              "      <td>0</td>\n",
              "      <td>T</td>\n",
              "      <td>Y</td>\n",
              "      <td>Blue</td>\n",
              "      <td>Star</td>\n",
              "      <td>Hamster</td>\n",
              "      <td>Costa Rica</td>\n",
              "      <td>Bassoon</td>\n",
              "      <td>f9d17bb93</td>\n",
              "      <td>2eadb68c5</td>\n",
              "      <td>fef807a3e</td>\n",
              "      <td>606ac930b</td>\n",
              "      <td>d4cf587dd</td>\n",
              "      <td>2</td>\n",
              "      <td>Grandmaster</td>\n",
              "      <td>Boiling Hot</td>\n",
              "      <td>g</td>\n",
              "      <td>X</td>\n",
              "      <td>Ye</td>\n",
              "      <td>2</td>\n",
              "      <td>1</td>\n",
              "      <td>NaN</td>\n",
              "    </tr>\n",
              "    <tr>\n",
              "      <th>499999</th>\n",
              "      <td>0</td>\n",
              "      <td>0</td>\n",
              "      <td>0</td>\n",
              "      <td>T</td>\n",
              "      <td>Y</td>\n",
              "      <td>Green</td>\n",
              "      <td>Star</td>\n",
              "      <td>Lion</td>\n",
              "      <td>India</td>\n",
              "      <td>Piano</td>\n",
              "      <td>a5c276589</td>\n",
              "      <td>c135cdf77</td>\n",
              "      <td>a8f53c631</td>\n",
              "      <td>4ea576eb6</td>\n",
              "      <td>2d610f52c</td>\n",
              "      <td>2</td>\n",
              "      <td>Novice</td>\n",
              "      <td>Freezing</td>\n",
              "      <td>l</td>\n",
              "      <td>J</td>\n",
              "      <td>ex</td>\n",
              "      <td>2</td>\n",
              "      <td>2</td>\n",
              "      <td>NaN</td>\n",
              "    </tr>\n",
              "  </tbody>\n",
              "</table>\n",
              "<p>500000 rows × 24 columns</p>\n",
              "</div>\n",
              "      <button class=\"colab-df-convert\" onclick=\"convertToInteractive('df-0d8aba7e-b47b-4281-af1a-658b6b1a3065')\"\n",
              "              title=\"Convert this dataframe to an interactive table.\"\n",
              "              style=\"display:none;\">\n",
              "        \n",
              "  <svg xmlns=\"http://www.w3.org/2000/svg\" height=\"24px\"viewBox=\"0 0 24 24\"\n",
              "       width=\"24px\">\n",
              "    <path d=\"M0 0h24v24H0V0z\" fill=\"none\"/>\n",
              "    <path d=\"M18.56 5.44l.94 2.06.94-2.06 2.06-.94-2.06-.94-.94-2.06-.94 2.06-2.06.94zm-11 1L8.5 8.5l.94-2.06 2.06-.94-2.06-.94L8.5 2.5l-.94 2.06-2.06.94zm10 10l.94 2.06.94-2.06 2.06-.94-2.06-.94-.94-2.06-.94 2.06-2.06.94z\"/><path d=\"M17.41 7.96l-1.37-1.37c-.4-.4-.92-.59-1.43-.59-.52 0-1.04.2-1.43.59L10.3 9.45l-7.72 7.72c-.78.78-.78 2.05 0 2.83L4 21.41c.39.39.9.59 1.41.59.51 0 1.02-.2 1.41-.59l7.78-7.78 2.81-2.81c.8-.78.8-2.07 0-2.86zM5.41 20L4 18.59l7.72-7.72 1.47 1.35L5.41 20z\"/>\n",
              "  </svg>\n",
              "      </button>\n",
              "      \n",
              "  <style>\n",
              "    .colab-df-container {\n",
              "      display:flex;\n",
              "      flex-wrap:wrap;\n",
              "      gap: 12px;\n",
              "    }\n",
              "\n",
              "    .colab-df-convert {\n",
              "      background-color: #E8F0FE;\n",
              "      border: none;\n",
              "      border-radius: 50%;\n",
              "      cursor: pointer;\n",
              "      display: none;\n",
              "      fill: #1967D2;\n",
              "      height: 32px;\n",
              "      padding: 0 0 0 0;\n",
              "      width: 32px;\n",
              "    }\n",
              "\n",
              "    .colab-df-convert:hover {\n",
              "      background-color: #E2EBFA;\n",
              "      box-shadow: 0px 1px 2px rgba(60, 64, 67, 0.3), 0px 1px 3px 1px rgba(60, 64, 67, 0.15);\n",
              "      fill: #174EA6;\n",
              "    }\n",
              "\n",
              "    [theme=dark] .colab-df-convert {\n",
              "      background-color: #3B4455;\n",
              "      fill: #D2E3FC;\n",
              "    }\n",
              "\n",
              "    [theme=dark] .colab-df-convert:hover {\n",
              "      background-color: #434B5C;\n",
              "      box-shadow: 0px 1px 3px 1px rgba(0, 0, 0, 0.15);\n",
              "      filter: drop-shadow(0px 1px 2px rgba(0, 0, 0, 0.3));\n",
              "      fill: #FFFFFF;\n",
              "    }\n",
              "  </style>\n",
              "\n",
              "      <script>\n",
              "        const buttonEl =\n",
              "          document.querySelector('#df-0d8aba7e-b47b-4281-af1a-658b6b1a3065 button.colab-df-convert');\n",
              "        buttonEl.style.display =\n",
              "          google.colab.kernel.accessAllowed ? 'block' : 'none';\n",
              "\n",
              "        async function convertToInteractive(key) {\n",
              "          const element = document.querySelector('#df-0d8aba7e-b47b-4281-af1a-658b6b1a3065');\n",
              "          const dataTable =\n",
              "            await google.colab.kernel.invokeFunction('convertToInteractive',\n",
              "                                                     [key], {});\n",
              "          if (!dataTable) return;\n",
              "\n",
              "          const docLinkHtml = 'Like what you see? Visit the ' +\n",
              "            '<a target=\"_blank\" href=https://colab.research.google.com/notebooks/data_table.ipynb>data table notebook</a>'\n",
              "            + ' to learn more about interactive tables.';\n",
              "          element.innerHTML = '';\n",
              "          dataTable['output_type'] = 'display_data';\n",
              "          await google.colab.output.renderOutput(dataTable, element);\n",
              "          const docLink = document.createElement('div');\n",
              "          docLink.innerHTML = docLinkHtml;\n",
              "          element.appendChild(docLink);\n",
              "        }\n",
              "      </script>\n",
              "    </div>\n",
              "  </div>\n",
              "  "
            ]
          },
          "metadata": {},
          "execution_count": 8
        }
      ]
    },
    {
      "cell_type": "code",
      "source": [
        "all_data.info()"
      ],
      "metadata": {
        "colab": {
          "base_uri": "https://localhost:8080/"
        },
        "id": "cTlv8QKhtW4m",
        "outputId": "33c326bb-51f8-469e-f53c-43e140ef5cdf"
      },
      "execution_count": null,
      "outputs": [
        {
          "output_type": "stream",
          "name": "stdout",
          "text": [
            "<class 'pandas.core.frame.DataFrame'>\n",
            "Int64Index: 500000 entries, 0 to 499999\n",
            "Data columns (total 24 columns):\n",
            " #   Column  Non-Null Count   Dtype  \n",
            "---  ------  --------------   -----  \n",
            " 0   bin_0   500000 non-null  int64  \n",
            " 1   bin_1   500000 non-null  int64  \n",
            " 2   bin_2   500000 non-null  int64  \n",
            " 3   bin_3   500000 non-null  object \n",
            " 4   bin_4   500000 non-null  object \n",
            " 5   nom_0   500000 non-null  object \n",
            " 6   nom_1   500000 non-null  object \n",
            " 7   nom_2   500000 non-null  object \n",
            " 8   nom_3   500000 non-null  object \n",
            " 9   nom_4   500000 non-null  object \n",
            " 10  nom_5   500000 non-null  object \n",
            " 11  nom_6   500000 non-null  object \n",
            " 12  nom_7   500000 non-null  object \n",
            " 13  nom_8   500000 non-null  object \n",
            " 14  nom_9   500000 non-null  object \n",
            " 15  ord_0   500000 non-null  int64  \n",
            " 16  ord_1   500000 non-null  object \n",
            " 17  ord_2   500000 non-null  object \n",
            " 18  ord_3   500000 non-null  object \n",
            " 19  ord_4   500000 non-null  object \n",
            " 20  ord_5   500000 non-null  object \n",
            " 21  day     500000 non-null  int64  \n",
            " 22  month   500000 non-null  int64  \n",
            " 23  target  300000 non-null  float64\n",
            "dtypes: float64(1), int64(6), object(17)\n",
            "memory usage: 95.4+ MB\n"
          ]
        }
      ]
    },
    {
      "cell_type": "markdown",
      "source": [
        "테스트 세트에는 'target' 피처가 없습니다. 'target' 피처를 제거하겠습니다."
      ],
      "metadata": {
        "id": "Eyrfph9MuTlR"
      }
    },
    {
      "cell_type": "code",
      "source": [
        "all_data = all_data.drop('target', axis=1)"
      ],
      "metadata": {
        "id": "wy70_4VVtZ82"
      },
      "execution_count": null,
      "outputs": []
    },
    {
      "cell_type": "markdown",
      "source": [
        "`OneHotEncoder` 클래스를 사용하여 원-핫 인코딩을 수행하겠습니다. 물론 (이 데이터에 한정하여) 판다스의 `get_dummies()` 메서드를 사용해도 무방합니다.\n",
        "\n",
        "참고로 `get_dummies()` 메서드는 결정적인 단점이 존재합니다. 학습 세트의 피처를 학습하는 과정 없이 그대로 원-핫 인코딩을 수행하기 때문에 학습 세트에만 존재하고 테스트 세트에 없는 값은 원-핫인코딩이 적용된 피처로 변환하지 않습니다. 게다가 `OneHotEncoder` 클래스보다 더 많은 메모리가 필요합니다. 따라서 원-핫 인코딩을 적용하는 경우 습관적으로 `OneHotEncoder` 클래스를 사용하는 편이 좋습니다. [링크](https://psystat.tistory.com/136)에서 상세한 설명을 확인할 수 있습니다."
      ],
      "metadata": {
        "id": "DL26N9GdZurE"
      }
    },
    {
      "cell_type": "code",
      "source": [
        "from sklearn.preprocessing import OneHotEncoder\n",
        "\n",
        "encoder = OneHotEncoder()\n",
        "# 데이터를 하나로 합쳤으므로 `fit_transform()` 메서드를 사용합니다.\n",
        "all_data_encoded = encoder.fit_transform(all_data)"
      ],
      "metadata": {
        "id": "QgzUS95owQuu"
      },
      "execution_count": null,
      "outputs": []
    },
    {
      "cell_type": "markdown",
      "source": [
        "\n",
        "\n",
        "---\n",
        "\n",
        "업데이트 중\n",
        "\n",
        "---\n",
        "\n"
      ],
      "metadata": {
        "id": "68MVJ1w8uqA-"
      }
    }
  ]
}