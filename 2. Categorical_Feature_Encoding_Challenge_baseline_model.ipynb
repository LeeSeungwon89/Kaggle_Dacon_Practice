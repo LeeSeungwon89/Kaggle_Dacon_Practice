{
  "nbformat": 4,
  "nbformat_minor": 0,
  "metadata": {
    "colab": {
      "provenance": [],
      "toc_visible": true,
      "authorship_tag": "ABX9TyOp6Ey0GMAdjdqMh1YBevgt",
      "include_colab_link": true
    },
    "kernelspec": {
      "name": "python3",
      "display_name": "Python 3"
    },
    "language_info": {
      "name": "python"
    }
  },
  "cells": [
    {
      "cell_type": "markdown",
      "metadata": {
        "id": "view-in-github",
        "colab_type": "text"
      },
      "source": [
        "<a href=\"https://colab.research.google.com/github/LeeSeungwon89/Kaggle_Dacon_Practice/blob/main/2.%20Categorical_Feature_Encoding_Challenge_baseline_model.ipynb\" target=\"_parent\"><img src=\"https://colab.research.google.com/assets/colab-badge.svg\" alt=\"Open In Colab\"/></a>"
      ]
    },
    {
      "cell_type": "code",
      "execution_count": null,
      "metadata": {
        "id": "9m9nsEewr9Da"
      },
      "outputs": [],
      "source": [
        "!pip install kaggle\n",
        "from google.colab import files\n",
        "files.upload()"
      ]
    },
    {
      "cell_type": "code",
      "source": [
        "ls -1ha kaggle.json"
      ],
      "metadata": {
        "colab": {
          "base_uri": "https://localhost:8080/"
        },
        "id": "vBIPCwbvsN7X",
        "outputId": "67653bcf-0a14-4d6f-994c-a8c95382ea63"
      },
      "execution_count": null,
      "outputs": [
        {
          "output_type": "stream",
          "name": "stdout",
          "text": [
            "kaggle.json\n"
          ]
        }
      ]
    },
    {
      "cell_type": "code",
      "source": [
        "!mkdir -p ~/.kaggle\n",
        "!cp kaggle.json ~/.kaggle/\n",
        "\n",
        "# Permission Warning이 발생하지 않도록 해줍니다.\n",
        "!chmod 600 ~/.kaggle/kaggle.json\n",
        "\n",
        "# 참가한 대회 리스트를 확인합니다.\n",
        "# !kaggle competitions list"
      ],
      "metadata": {
        "id": "6abqZTxNsO-J"
      },
      "execution_count": null,
      "outputs": []
    },
    {
      "cell_type": "code",
      "source": [
        "!kaggle competitions download -c cat-in-the-dat"
      ],
      "metadata": {
        "colab": {
          "base_uri": "https://localhost:8080/"
        },
        "id": "brHHrTx_sRbP",
        "outputId": "46ea2241-ee72-482f-db36-65a116b0eb90"
      },
      "execution_count": null,
      "outputs": [
        {
          "output_type": "stream",
          "name": "stdout",
          "text": [
            "Downloading cat-in-the-dat.zip to /content\n",
            " 90% 19.0M/21.2M [00:01<00:00, 21.8MB/s]\n",
            "100% 21.2M/21.2M [00:01<00:00, 17.9MB/s]\n"
          ]
        }
      ]
    },
    {
      "cell_type": "code",
      "source": [
        "!ls"
      ],
      "metadata": {
        "colab": {
          "base_uri": "https://localhost:8080/"
        },
        "id": "6L3WGetdsUXQ",
        "outputId": "de1342ec-2c0a-4558-8955-2f81da1eca8a"
      },
      "execution_count": null,
      "outputs": [
        {
          "output_type": "stream",
          "name": "stdout",
          "text": [
            "cat-in-the-dat.zip  kaggle.json  sample_data\n"
          ]
        }
      ]
    },
    {
      "cell_type": "code",
      "source": [
        "!unzip cat-in-the-dat.zip"
      ],
      "metadata": {
        "colab": {
          "base_uri": "https://localhost:8080/"
        },
        "id": "w0dL3PSNsWBG",
        "outputId": "c3a49846-6900-432f-9883-d86d1fa9497c"
      },
      "execution_count": null,
      "outputs": [
        {
          "output_type": "stream",
          "name": "stdout",
          "text": [
            "Archive:  cat-in-the-dat.zip\n",
            "  inflating: sample_submission.csv   \n",
            "  inflating: test.csv                \n",
            "  inflating: train.csv               \n"
          ]
        }
      ]
    },
    {
      "cell_type": "markdown",
      "source": [
        "# **1. 피처 엔지니어링**"
      ],
      "metadata": {
        "id": "XsTi7HXishk9"
      }
    },
    {
      "cell_type": "markdown",
      "source": [
        "## **1.1. 데이터 준비**"
      ],
      "metadata": {
        "id": "Kle0eYWFsrEd"
      }
    },
    {
      "cell_type": "markdown",
      "source": [
        "데이터를 준비하겠습니다. 'id' 피처의 고윳값 개수가 레코드 개수와 일치하므로 'id' 피처를 인덱스로 삼겠습니다."
      ],
      "metadata": {
        "id": "wOyaDQuHtl_c"
      }
    },
    {
      "cell_type": "code",
      "source": [
        "import numpy as np\n",
        "import pandas as pd\n",
        "\n",
        "# 최대 행렬 수를 설정합니다.\n",
        "pd.set_option('display.max_column', 50)\n",
        "pd.set_option('display.max_rows', 50)\n",
        "\n",
        "# 데이터를 읽습니다. 'id' 피처는 인덱스로 지정합니다.\n",
        "train = pd.read_csv('train.csv', index_col='id')\n",
        "test = pd.read_csv('test.csv', index_col='id')\n",
        "submission = pd.read_csv('sample_submission.csv', index_col='id')"
      ],
      "metadata": {
        "id": "XeHtbkdbsfX-"
      },
      "execution_count": null,
      "outputs": []
    },
    {
      "cell_type": "markdown",
      "source": [
        "훈련 세트와 테스트 세트를 위아래로 쌓고 데이터 정보를 확인하겠습니다."
      ],
      "metadata": {
        "id": "VQsPJIkQt5pV"
      }
    },
    {
      "cell_type": "code",
      "source": [
        "all_data = pd.concat([train, test], ignore_index=False)\n",
        "all_data"
      ],
      "metadata": {
        "colab": {
          "base_uri": "https://localhost:8080/",
          "height": 455
        },
        "id": "sJwUrxhlsza3",
        "outputId": "0cfd0afb-207b-42ed-d309-7a0672fe45cb"
      },
      "execution_count": null,
      "outputs": [
        {
          "output_type": "execute_result",
          "data": {
            "text/plain": [
              "        bin_0  bin_1  bin_2 bin_3 bin_4  nom_0      nom_1    nom_2  \\\n",
              "id                                                                   \n",
              "0           0      0      0     T     Y  Green   Triangle    Snake   \n",
              "1           0      1      0     T     Y  Green  Trapezoid  Hamster   \n",
              "2           0      0      0     F     Y   Blue  Trapezoid     Lion   \n",
              "3           0      1      0     F     Y    Red  Trapezoid    Snake   \n",
              "4           0      0      0     F     N    Red  Trapezoid     Lion   \n",
              "...       ...    ...    ...   ...   ...    ...        ...      ...   \n",
              "499995      0      0      0     F     N  Green     Square     Lion   \n",
              "499996      1      0      0     F     Y  Green  Trapezoid     Lion   \n",
              "499997      0      1      1     T     Y  Green  Trapezoid     Lion   \n",
              "499998      1      0      0     T     Y   Blue       Star  Hamster   \n",
              "499999      0      0      0     T     Y  Green       Star     Lion   \n",
              "\n",
              "             nom_3     nom_4      nom_5      nom_6      nom_7      nom_8  \\\n",
              "id                                                                         \n",
              "0          Finland   Bassoon  50f116bcf  3ac1b8814  68f6ad3e9  c389000ab   \n",
              "1           Russia     Piano  b3b4d25d0  fbcb50fc1  3b6dd5612  4cd920251   \n",
              "2           Russia  Theremin  3263bdce5  0922e3cb8  a6a36f527  de9c9f684   \n",
              "3           Canada      Oboe  f12246592  50d7ad46a  ec69236eb  4ade6ab69   \n",
              "4           Canada      Oboe  5b0f5acd5  1fe17a1fd  04ddac2be  cb43ab175   \n",
              "...            ...       ...        ...        ...        ...        ...   \n",
              "499995      Canada  Theremin  6c90f81cd  a406a5f12  d02a6b0ba  9e4b23160   \n",
              "499996       China     Piano  2d61990e2  520806ce2  d2d8eabdb  cfbd87ed0   \n",
              "499997      Canada      Oboe  488406659  28645754b  22831fffe  1108bcd6c   \n",
              "499998  Costa Rica   Bassoon  f9d17bb93  2eadb68c5  fef807a3e  606ac930b   \n",
              "499999       India     Piano  a5c276589  c135cdf77  a8f53c631  4ea576eb6   \n",
              "\n",
              "            nom_9  ord_0        ord_1        ord_2 ord_3 ord_4 ord_5  day  \\\n",
              "id                                                                          \n",
              "0       2f4cb3d51      2  Grandmaster         Cold     h     D    kr    2   \n",
              "1       f83c56c21      1  Grandmaster          Hot     a     A    bF    7   \n",
              "2       ae6800dd0      1       Expert     Lava Hot     h     R    Jc    7   \n",
              "3       8270f0d71      1  Grandmaster  Boiling Hot     i     D    kW    2   \n",
              "4       b164b72a7      1  Grandmaster     Freezing     a     R    qP    7   \n",
              "...           ...    ...          ...          ...   ...   ...   ...  ...   \n",
              "499995  acc31291f      1       Novice     Lava Hot     j     A    Gb    1   \n",
              "499996  eae3446d0      1  Contributor     Lava Hot     f     S    Ed    2   \n",
              "499997  33dd3cf4b      1       Novice  Boiling Hot     g     V    TR    3   \n",
              "499998  d4cf587dd      2  Grandmaster  Boiling Hot     g     X    Ye    2   \n",
              "499999  2d610f52c      2       Novice     Freezing     l     J    ex    2   \n",
              "\n",
              "        month  target  \n",
              "id                     \n",
              "0           2     0.0  \n",
              "1           8     0.0  \n",
              "2           2     0.0  \n",
              "3           1     1.0  \n",
              "4           8     0.0  \n",
              "...       ...     ...  \n",
              "499995      3     NaN  \n",
              "499996      2     NaN  \n",
              "499997      1     NaN  \n",
              "499998      1     NaN  \n",
              "499999      2     NaN  \n",
              "\n",
              "[500000 rows x 24 columns]"
            ],
            "text/html": [
              "\n",
              "  <div id=\"df-6519cbdc-ce86-45d9-889b-8d5218bb341c\">\n",
              "    <div class=\"colab-df-container\">\n",
              "      <div>\n",
              "<style scoped>\n",
              "    .dataframe tbody tr th:only-of-type {\n",
              "        vertical-align: middle;\n",
              "    }\n",
              "\n",
              "    .dataframe tbody tr th {\n",
              "        vertical-align: top;\n",
              "    }\n",
              "\n",
              "    .dataframe thead th {\n",
              "        text-align: right;\n",
              "    }\n",
              "</style>\n",
              "<table border=\"1\" class=\"dataframe\">\n",
              "  <thead>\n",
              "    <tr style=\"text-align: right;\">\n",
              "      <th></th>\n",
              "      <th>bin_0</th>\n",
              "      <th>bin_1</th>\n",
              "      <th>bin_2</th>\n",
              "      <th>bin_3</th>\n",
              "      <th>bin_4</th>\n",
              "      <th>nom_0</th>\n",
              "      <th>nom_1</th>\n",
              "      <th>nom_2</th>\n",
              "      <th>nom_3</th>\n",
              "      <th>nom_4</th>\n",
              "      <th>nom_5</th>\n",
              "      <th>nom_6</th>\n",
              "      <th>nom_7</th>\n",
              "      <th>nom_8</th>\n",
              "      <th>nom_9</th>\n",
              "      <th>ord_0</th>\n",
              "      <th>ord_1</th>\n",
              "      <th>ord_2</th>\n",
              "      <th>ord_3</th>\n",
              "      <th>ord_4</th>\n",
              "      <th>ord_5</th>\n",
              "      <th>day</th>\n",
              "      <th>month</th>\n",
              "      <th>target</th>\n",
              "    </tr>\n",
              "    <tr>\n",
              "      <th>id</th>\n",
              "      <th></th>\n",
              "      <th></th>\n",
              "      <th></th>\n",
              "      <th></th>\n",
              "      <th></th>\n",
              "      <th></th>\n",
              "      <th></th>\n",
              "      <th></th>\n",
              "      <th></th>\n",
              "      <th></th>\n",
              "      <th></th>\n",
              "      <th></th>\n",
              "      <th></th>\n",
              "      <th></th>\n",
              "      <th></th>\n",
              "      <th></th>\n",
              "      <th></th>\n",
              "      <th></th>\n",
              "      <th></th>\n",
              "      <th></th>\n",
              "      <th></th>\n",
              "      <th></th>\n",
              "      <th></th>\n",
              "      <th></th>\n",
              "    </tr>\n",
              "  </thead>\n",
              "  <tbody>\n",
              "    <tr>\n",
              "      <th>0</th>\n",
              "      <td>0</td>\n",
              "      <td>0</td>\n",
              "      <td>0</td>\n",
              "      <td>T</td>\n",
              "      <td>Y</td>\n",
              "      <td>Green</td>\n",
              "      <td>Triangle</td>\n",
              "      <td>Snake</td>\n",
              "      <td>Finland</td>\n",
              "      <td>Bassoon</td>\n",
              "      <td>50f116bcf</td>\n",
              "      <td>3ac1b8814</td>\n",
              "      <td>68f6ad3e9</td>\n",
              "      <td>c389000ab</td>\n",
              "      <td>2f4cb3d51</td>\n",
              "      <td>2</td>\n",
              "      <td>Grandmaster</td>\n",
              "      <td>Cold</td>\n",
              "      <td>h</td>\n",
              "      <td>D</td>\n",
              "      <td>kr</td>\n",
              "      <td>2</td>\n",
              "      <td>2</td>\n",
              "      <td>0.0</td>\n",
              "    </tr>\n",
              "    <tr>\n",
              "      <th>1</th>\n",
              "      <td>0</td>\n",
              "      <td>1</td>\n",
              "      <td>0</td>\n",
              "      <td>T</td>\n",
              "      <td>Y</td>\n",
              "      <td>Green</td>\n",
              "      <td>Trapezoid</td>\n",
              "      <td>Hamster</td>\n",
              "      <td>Russia</td>\n",
              "      <td>Piano</td>\n",
              "      <td>b3b4d25d0</td>\n",
              "      <td>fbcb50fc1</td>\n",
              "      <td>3b6dd5612</td>\n",
              "      <td>4cd920251</td>\n",
              "      <td>f83c56c21</td>\n",
              "      <td>1</td>\n",
              "      <td>Grandmaster</td>\n",
              "      <td>Hot</td>\n",
              "      <td>a</td>\n",
              "      <td>A</td>\n",
              "      <td>bF</td>\n",
              "      <td>7</td>\n",
              "      <td>8</td>\n",
              "      <td>0.0</td>\n",
              "    </tr>\n",
              "    <tr>\n",
              "      <th>2</th>\n",
              "      <td>0</td>\n",
              "      <td>0</td>\n",
              "      <td>0</td>\n",
              "      <td>F</td>\n",
              "      <td>Y</td>\n",
              "      <td>Blue</td>\n",
              "      <td>Trapezoid</td>\n",
              "      <td>Lion</td>\n",
              "      <td>Russia</td>\n",
              "      <td>Theremin</td>\n",
              "      <td>3263bdce5</td>\n",
              "      <td>0922e3cb8</td>\n",
              "      <td>a6a36f527</td>\n",
              "      <td>de9c9f684</td>\n",
              "      <td>ae6800dd0</td>\n",
              "      <td>1</td>\n",
              "      <td>Expert</td>\n",
              "      <td>Lava Hot</td>\n",
              "      <td>h</td>\n",
              "      <td>R</td>\n",
              "      <td>Jc</td>\n",
              "      <td>7</td>\n",
              "      <td>2</td>\n",
              "      <td>0.0</td>\n",
              "    </tr>\n",
              "    <tr>\n",
              "      <th>3</th>\n",
              "      <td>0</td>\n",
              "      <td>1</td>\n",
              "      <td>0</td>\n",
              "      <td>F</td>\n",
              "      <td>Y</td>\n",
              "      <td>Red</td>\n",
              "      <td>Trapezoid</td>\n",
              "      <td>Snake</td>\n",
              "      <td>Canada</td>\n",
              "      <td>Oboe</td>\n",
              "      <td>f12246592</td>\n",
              "      <td>50d7ad46a</td>\n",
              "      <td>ec69236eb</td>\n",
              "      <td>4ade6ab69</td>\n",
              "      <td>8270f0d71</td>\n",
              "      <td>1</td>\n",
              "      <td>Grandmaster</td>\n",
              "      <td>Boiling Hot</td>\n",
              "      <td>i</td>\n",
              "      <td>D</td>\n",
              "      <td>kW</td>\n",
              "      <td>2</td>\n",
              "      <td>1</td>\n",
              "      <td>1.0</td>\n",
              "    </tr>\n",
              "    <tr>\n",
              "      <th>4</th>\n",
              "      <td>0</td>\n",
              "      <td>0</td>\n",
              "      <td>0</td>\n",
              "      <td>F</td>\n",
              "      <td>N</td>\n",
              "      <td>Red</td>\n",
              "      <td>Trapezoid</td>\n",
              "      <td>Lion</td>\n",
              "      <td>Canada</td>\n",
              "      <td>Oboe</td>\n",
              "      <td>5b0f5acd5</td>\n",
              "      <td>1fe17a1fd</td>\n",
              "      <td>04ddac2be</td>\n",
              "      <td>cb43ab175</td>\n",
              "      <td>b164b72a7</td>\n",
              "      <td>1</td>\n",
              "      <td>Grandmaster</td>\n",
              "      <td>Freezing</td>\n",
              "      <td>a</td>\n",
              "      <td>R</td>\n",
              "      <td>qP</td>\n",
              "      <td>7</td>\n",
              "      <td>8</td>\n",
              "      <td>0.0</td>\n",
              "    </tr>\n",
              "    <tr>\n",
              "      <th>...</th>\n",
              "      <td>...</td>\n",
              "      <td>...</td>\n",
              "      <td>...</td>\n",
              "      <td>...</td>\n",
              "      <td>...</td>\n",
              "      <td>...</td>\n",
              "      <td>...</td>\n",
              "      <td>...</td>\n",
              "      <td>...</td>\n",
              "      <td>...</td>\n",
              "      <td>...</td>\n",
              "      <td>...</td>\n",
              "      <td>...</td>\n",
              "      <td>...</td>\n",
              "      <td>...</td>\n",
              "      <td>...</td>\n",
              "      <td>...</td>\n",
              "      <td>...</td>\n",
              "      <td>...</td>\n",
              "      <td>...</td>\n",
              "      <td>...</td>\n",
              "      <td>...</td>\n",
              "      <td>...</td>\n",
              "      <td>...</td>\n",
              "    </tr>\n",
              "    <tr>\n",
              "      <th>499995</th>\n",
              "      <td>0</td>\n",
              "      <td>0</td>\n",
              "      <td>0</td>\n",
              "      <td>F</td>\n",
              "      <td>N</td>\n",
              "      <td>Green</td>\n",
              "      <td>Square</td>\n",
              "      <td>Lion</td>\n",
              "      <td>Canada</td>\n",
              "      <td>Theremin</td>\n",
              "      <td>6c90f81cd</td>\n",
              "      <td>a406a5f12</td>\n",
              "      <td>d02a6b0ba</td>\n",
              "      <td>9e4b23160</td>\n",
              "      <td>acc31291f</td>\n",
              "      <td>1</td>\n",
              "      <td>Novice</td>\n",
              "      <td>Lava Hot</td>\n",
              "      <td>j</td>\n",
              "      <td>A</td>\n",
              "      <td>Gb</td>\n",
              "      <td>1</td>\n",
              "      <td>3</td>\n",
              "      <td>NaN</td>\n",
              "    </tr>\n",
              "    <tr>\n",
              "      <th>499996</th>\n",
              "      <td>1</td>\n",
              "      <td>0</td>\n",
              "      <td>0</td>\n",
              "      <td>F</td>\n",
              "      <td>Y</td>\n",
              "      <td>Green</td>\n",
              "      <td>Trapezoid</td>\n",
              "      <td>Lion</td>\n",
              "      <td>China</td>\n",
              "      <td>Piano</td>\n",
              "      <td>2d61990e2</td>\n",
              "      <td>520806ce2</td>\n",
              "      <td>d2d8eabdb</td>\n",
              "      <td>cfbd87ed0</td>\n",
              "      <td>eae3446d0</td>\n",
              "      <td>1</td>\n",
              "      <td>Contributor</td>\n",
              "      <td>Lava Hot</td>\n",
              "      <td>f</td>\n",
              "      <td>S</td>\n",
              "      <td>Ed</td>\n",
              "      <td>2</td>\n",
              "      <td>2</td>\n",
              "      <td>NaN</td>\n",
              "    </tr>\n",
              "    <tr>\n",
              "      <th>499997</th>\n",
              "      <td>0</td>\n",
              "      <td>1</td>\n",
              "      <td>1</td>\n",
              "      <td>T</td>\n",
              "      <td>Y</td>\n",
              "      <td>Green</td>\n",
              "      <td>Trapezoid</td>\n",
              "      <td>Lion</td>\n",
              "      <td>Canada</td>\n",
              "      <td>Oboe</td>\n",
              "      <td>488406659</td>\n",
              "      <td>28645754b</td>\n",
              "      <td>22831fffe</td>\n",
              "      <td>1108bcd6c</td>\n",
              "      <td>33dd3cf4b</td>\n",
              "      <td>1</td>\n",
              "      <td>Novice</td>\n",
              "      <td>Boiling Hot</td>\n",
              "      <td>g</td>\n",
              "      <td>V</td>\n",
              "      <td>TR</td>\n",
              "      <td>3</td>\n",
              "      <td>1</td>\n",
              "      <td>NaN</td>\n",
              "    </tr>\n",
              "    <tr>\n",
              "      <th>499998</th>\n",
              "      <td>1</td>\n",
              "      <td>0</td>\n",
              "      <td>0</td>\n",
              "      <td>T</td>\n",
              "      <td>Y</td>\n",
              "      <td>Blue</td>\n",
              "      <td>Star</td>\n",
              "      <td>Hamster</td>\n",
              "      <td>Costa Rica</td>\n",
              "      <td>Bassoon</td>\n",
              "      <td>f9d17bb93</td>\n",
              "      <td>2eadb68c5</td>\n",
              "      <td>fef807a3e</td>\n",
              "      <td>606ac930b</td>\n",
              "      <td>d4cf587dd</td>\n",
              "      <td>2</td>\n",
              "      <td>Grandmaster</td>\n",
              "      <td>Boiling Hot</td>\n",
              "      <td>g</td>\n",
              "      <td>X</td>\n",
              "      <td>Ye</td>\n",
              "      <td>2</td>\n",
              "      <td>1</td>\n",
              "      <td>NaN</td>\n",
              "    </tr>\n",
              "    <tr>\n",
              "      <th>499999</th>\n",
              "      <td>0</td>\n",
              "      <td>0</td>\n",
              "      <td>0</td>\n",
              "      <td>T</td>\n",
              "      <td>Y</td>\n",
              "      <td>Green</td>\n",
              "      <td>Star</td>\n",
              "      <td>Lion</td>\n",
              "      <td>India</td>\n",
              "      <td>Piano</td>\n",
              "      <td>a5c276589</td>\n",
              "      <td>c135cdf77</td>\n",
              "      <td>a8f53c631</td>\n",
              "      <td>4ea576eb6</td>\n",
              "      <td>2d610f52c</td>\n",
              "      <td>2</td>\n",
              "      <td>Novice</td>\n",
              "      <td>Freezing</td>\n",
              "      <td>l</td>\n",
              "      <td>J</td>\n",
              "      <td>ex</td>\n",
              "      <td>2</td>\n",
              "      <td>2</td>\n",
              "      <td>NaN</td>\n",
              "    </tr>\n",
              "  </tbody>\n",
              "</table>\n",
              "<p>500000 rows × 24 columns</p>\n",
              "</div>\n",
              "      <button class=\"colab-df-convert\" onclick=\"convertToInteractive('df-6519cbdc-ce86-45d9-889b-8d5218bb341c')\"\n",
              "              title=\"Convert this dataframe to an interactive table.\"\n",
              "              style=\"display:none;\">\n",
              "        \n",
              "  <svg xmlns=\"http://www.w3.org/2000/svg\" height=\"24px\"viewBox=\"0 0 24 24\"\n",
              "       width=\"24px\">\n",
              "    <path d=\"M0 0h24v24H0V0z\" fill=\"none\"/>\n",
              "    <path d=\"M18.56 5.44l.94 2.06.94-2.06 2.06-.94-2.06-.94-.94-2.06-.94 2.06-2.06.94zm-11 1L8.5 8.5l.94-2.06 2.06-.94-2.06-.94L8.5 2.5l-.94 2.06-2.06.94zm10 10l.94 2.06.94-2.06 2.06-.94-2.06-.94-.94-2.06-.94 2.06-2.06.94z\"/><path d=\"M17.41 7.96l-1.37-1.37c-.4-.4-.92-.59-1.43-.59-.52 0-1.04.2-1.43.59L10.3 9.45l-7.72 7.72c-.78.78-.78 2.05 0 2.83L4 21.41c.39.39.9.59 1.41.59.51 0 1.02-.2 1.41-.59l7.78-7.78 2.81-2.81c.8-.78.8-2.07 0-2.86zM5.41 20L4 18.59l7.72-7.72 1.47 1.35L5.41 20z\"/>\n",
              "  </svg>\n",
              "      </button>\n",
              "      \n",
              "  <style>\n",
              "    .colab-df-container {\n",
              "      display:flex;\n",
              "      flex-wrap:wrap;\n",
              "      gap: 12px;\n",
              "    }\n",
              "\n",
              "    .colab-df-convert {\n",
              "      background-color: #E8F0FE;\n",
              "      border: none;\n",
              "      border-radius: 50%;\n",
              "      cursor: pointer;\n",
              "      display: none;\n",
              "      fill: #1967D2;\n",
              "      height: 32px;\n",
              "      padding: 0 0 0 0;\n",
              "      width: 32px;\n",
              "    }\n",
              "\n",
              "    .colab-df-convert:hover {\n",
              "      background-color: #E2EBFA;\n",
              "      box-shadow: 0px 1px 2px rgba(60, 64, 67, 0.3), 0px 1px 3px 1px rgba(60, 64, 67, 0.15);\n",
              "      fill: #174EA6;\n",
              "    }\n",
              "\n",
              "    [theme=dark] .colab-df-convert {\n",
              "      background-color: #3B4455;\n",
              "      fill: #D2E3FC;\n",
              "    }\n",
              "\n",
              "    [theme=dark] .colab-df-convert:hover {\n",
              "      background-color: #434B5C;\n",
              "      box-shadow: 0px 1px 3px 1px rgba(0, 0, 0, 0.15);\n",
              "      filter: drop-shadow(0px 1px 2px rgba(0, 0, 0, 0.3));\n",
              "      fill: #FFFFFF;\n",
              "    }\n",
              "  </style>\n",
              "\n",
              "      <script>\n",
              "        const buttonEl =\n",
              "          document.querySelector('#df-6519cbdc-ce86-45d9-889b-8d5218bb341c button.colab-df-convert');\n",
              "        buttonEl.style.display =\n",
              "          google.colab.kernel.accessAllowed ? 'block' : 'none';\n",
              "\n",
              "        async function convertToInteractive(key) {\n",
              "          const element = document.querySelector('#df-6519cbdc-ce86-45d9-889b-8d5218bb341c');\n",
              "          const dataTable =\n",
              "            await google.colab.kernel.invokeFunction('convertToInteractive',\n",
              "                                                     [key], {});\n",
              "          if (!dataTable) return;\n",
              "\n",
              "          const docLinkHtml = 'Like what you see? Visit the ' +\n",
              "            '<a target=\"_blank\" href=https://colab.research.google.com/notebooks/data_table.ipynb>data table notebook</a>'\n",
              "            + ' to learn more about interactive tables.';\n",
              "          element.innerHTML = '';\n",
              "          dataTable['output_type'] = 'display_data';\n",
              "          await google.colab.output.renderOutput(dataTable, element);\n",
              "          const docLink = document.createElement('div');\n",
              "          docLink.innerHTML = docLinkHtml;\n",
              "          element.appendChild(docLink);\n",
              "        }\n",
              "      </script>\n",
              "    </div>\n",
              "  </div>\n",
              "  "
            ]
          },
          "metadata": {},
          "execution_count": 9
        }
      ]
    },
    {
      "cell_type": "code",
      "source": [
        "all_data.info()"
      ],
      "metadata": {
        "colab": {
          "base_uri": "https://localhost:8080/"
        },
        "id": "cTlv8QKhtW4m",
        "outputId": "378f1387-60d6-4fa3-82df-78bdf84c8968"
      },
      "execution_count": null,
      "outputs": [
        {
          "output_type": "stream",
          "name": "stdout",
          "text": [
            "<class 'pandas.core.frame.DataFrame'>\n",
            "Int64Index: 500000 entries, 0 to 499999\n",
            "Data columns (total 24 columns):\n",
            " #   Column  Non-Null Count   Dtype  \n",
            "---  ------  --------------   -----  \n",
            " 0   bin_0   500000 non-null  int64  \n",
            " 1   bin_1   500000 non-null  int64  \n",
            " 2   bin_2   500000 non-null  int64  \n",
            " 3   bin_3   500000 non-null  object \n",
            " 4   bin_4   500000 non-null  object \n",
            " 5   nom_0   500000 non-null  object \n",
            " 6   nom_1   500000 non-null  object \n",
            " 7   nom_2   500000 non-null  object \n",
            " 8   nom_3   500000 non-null  object \n",
            " 9   nom_4   500000 non-null  object \n",
            " 10  nom_5   500000 non-null  object \n",
            " 11  nom_6   500000 non-null  object \n",
            " 12  nom_7   500000 non-null  object \n",
            " 13  nom_8   500000 non-null  object \n",
            " 14  nom_9   500000 non-null  object \n",
            " 15  ord_0   500000 non-null  int64  \n",
            " 16  ord_1   500000 non-null  object \n",
            " 17  ord_2   500000 non-null  object \n",
            " 18  ord_3   500000 non-null  object \n",
            " 19  ord_4   500000 non-null  object \n",
            " 20  ord_5   500000 non-null  object \n",
            " 21  day     500000 non-null  int64  \n",
            " 22  month   500000 non-null  int64  \n",
            " 23  target  300000 non-null  float64\n",
            "dtypes: float64(1), int64(6), object(17)\n",
            "memory usage: 95.4+ MB\n"
          ]
        }
      ]
    },
    {
      "cell_type": "code",
      "source": [
        "def feature_table(df):\n",
        "    # 데이터 크기를 출력합니다.    \n",
        "    print(df.shape)\n",
        "    # 피처 이름과 유형을 담은 데이터프레임을 생성합니다.   \n",
        "    feature_description = pd.DataFrame(df.dtypes, columns=['type'])\n",
        "    # 피처 이름 피처가 인덱스이므로 인덱스를 리셋하여 새 인덱스를 만듭니다.\n",
        "    feature_description = feature_description.reset_index()\n",
        "    # 피처 이름을 값으로 가진 피처명은 'index'입니다. 'feature'로 변환합니다.\n",
        "    feature_description = feature_description.rename(columns={'index': 'feature'})\n",
        "    # 각 피처가 가진 첫 번째 ~ 다섯 번째 값을 출력합니다.\n",
        "    feature_description['first_value'] = df.loc[0].values\n",
        "    feature_description['second_value'] = df.loc[1].values\n",
        "    feature_description['third_value'] = df.loc[2].values\n",
        "    feature_description['fourth_value'] = df.loc[3].values\n",
        "    feature_description['fifth_value'] = df.loc[4].values\n",
        "    # 고윳값 개수를 산출합니다.\n",
        "    feature_description['eigenvalue_count'] = df.nunique().values\n",
        "    # 결측치 개수를 산출합니다.\n",
        "    feature_description['null_count'] = df.isnull().sum().values\n",
        "\n",
        "    return feature_description\n",
        "\n",
        "feature_table(train)"
      ],
      "metadata": {
        "colab": {
          "base_uri": "https://localhost:8080/",
          "height": 819
        },
        "id": "nQfZFSqnS66K",
        "outputId": "1eb96269-d9d1-4ded-aa4c-0121c933cd3b"
      },
      "execution_count": null,
      "outputs": [
        {
          "output_type": "stream",
          "name": "stdout",
          "text": [
            "(300000, 24)\n"
          ]
        },
        {
          "output_type": "execute_result",
          "data": {
            "text/plain": [
              "   feature    type  first_value second_value third_value fourth_value  \\\n",
              "0    bin_0   int64            0            0           0            0   \n",
              "1    bin_1   int64            0            1           0            1   \n",
              "2    bin_2   int64            0            0           0            0   \n",
              "3    bin_3  object            T            T           F            F   \n",
              "4    bin_4  object            Y            Y           Y            Y   \n",
              "5    nom_0  object        Green        Green        Blue          Red   \n",
              "6    nom_1  object     Triangle    Trapezoid   Trapezoid    Trapezoid   \n",
              "7    nom_2  object        Snake      Hamster        Lion        Snake   \n",
              "8    nom_3  object      Finland       Russia      Russia       Canada   \n",
              "9    nom_4  object      Bassoon        Piano    Theremin         Oboe   \n",
              "10   nom_5  object    50f116bcf    b3b4d25d0   3263bdce5    f12246592   \n",
              "11   nom_6  object    3ac1b8814    fbcb50fc1   0922e3cb8    50d7ad46a   \n",
              "12   nom_7  object    68f6ad3e9    3b6dd5612   a6a36f527    ec69236eb   \n",
              "13   nom_8  object    c389000ab    4cd920251   de9c9f684    4ade6ab69   \n",
              "14   nom_9  object    2f4cb3d51    f83c56c21   ae6800dd0    8270f0d71   \n",
              "15   ord_0   int64            2            1           1            1   \n",
              "16   ord_1  object  Grandmaster  Grandmaster      Expert  Grandmaster   \n",
              "17   ord_2  object         Cold          Hot    Lava Hot  Boiling Hot   \n",
              "18   ord_3  object            h            a           h            i   \n",
              "19   ord_4  object            D            A           R            D   \n",
              "20   ord_5  object           kr           bF          Jc           kW   \n",
              "21     day   int64            2            7           7            2   \n",
              "22   month   int64            2            8           2            1   \n",
              "23  target   int64            0            0           0            1   \n",
              "\n",
              "    fifth_value  eigenvalue_count  null_count  \n",
              "0             0                 2           0  \n",
              "1             0                 2           0  \n",
              "2             0                 2           0  \n",
              "3             F                 2           0  \n",
              "4             N                 2           0  \n",
              "5           Red                 3           0  \n",
              "6     Trapezoid                 6           0  \n",
              "7          Lion                 6           0  \n",
              "8        Canada                 6           0  \n",
              "9          Oboe                 4           0  \n",
              "10    5b0f5acd5               222           0  \n",
              "11    1fe17a1fd               522           0  \n",
              "12    04ddac2be              1220           0  \n",
              "13    cb43ab175              2215           0  \n",
              "14    b164b72a7             11981           0  \n",
              "15            1                 3           0  \n",
              "16  Grandmaster                 5           0  \n",
              "17     Freezing                 6           0  \n",
              "18            a                15           0  \n",
              "19            R                26           0  \n",
              "20           qP               192           0  \n",
              "21            7                 7           0  \n",
              "22            8                12           0  \n",
              "23            0                 2           0  "
            ],
            "text/html": [
              "\n",
              "  <div id=\"df-a16790c8-4332-4cf2-ba00-487095d5860d\">\n",
              "    <div class=\"colab-df-container\">\n",
              "      <div>\n",
              "<style scoped>\n",
              "    .dataframe tbody tr th:only-of-type {\n",
              "        vertical-align: middle;\n",
              "    }\n",
              "\n",
              "    .dataframe tbody tr th {\n",
              "        vertical-align: top;\n",
              "    }\n",
              "\n",
              "    .dataframe thead th {\n",
              "        text-align: right;\n",
              "    }\n",
              "</style>\n",
              "<table border=\"1\" class=\"dataframe\">\n",
              "  <thead>\n",
              "    <tr style=\"text-align: right;\">\n",
              "      <th></th>\n",
              "      <th>feature</th>\n",
              "      <th>type</th>\n",
              "      <th>first_value</th>\n",
              "      <th>second_value</th>\n",
              "      <th>third_value</th>\n",
              "      <th>fourth_value</th>\n",
              "      <th>fifth_value</th>\n",
              "      <th>eigenvalue_count</th>\n",
              "      <th>null_count</th>\n",
              "    </tr>\n",
              "  </thead>\n",
              "  <tbody>\n",
              "    <tr>\n",
              "      <th>0</th>\n",
              "      <td>bin_0</td>\n",
              "      <td>int64</td>\n",
              "      <td>0</td>\n",
              "      <td>0</td>\n",
              "      <td>0</td>\n",
              "      <td>0</td>\n",
              "      <td>0</td>\n",
              "      <td>2</td>\n",
              "      <td>0</td>\n",
              "    </tr>\n",
              "    <tr>\n",
              "      <th>1</th>\n",
              "      <td>bin_1</td>\n",
              "      <td>int64</td>\n",
              "      <td>0</td>\n",
              "      <td>1</td>\n",
              "      <td>0</td>\n",
              "      <td>1</td>\n",
              "      <td>0</td>\n",
              "      <td>2</td>\n",
              "      <td>0</td>\n",
              "    </tr>\n",
              "    <tr>\n",
              "      <th>2</th>\n",
              "      <td>bin_2</td>\n",
              "      <td>int64</td>\n",
              "      <td>0</td>\n",
              "      <td>0</td>\n",
              "      <td>0</td>\n",
              "      <td>0</td>\n",
              "      <td>0</td>\n",
              "      <td>2</td>\n",
              "      <td>0</td>\n",
              "    </tr>\n",
              "    <tr>\n",
              "      <th>3</th>\n",
              "      <td>bin_3</td>\n",
              "      <td>object</td>\n",
              "      <td>T</td>\n",
              "      <td>T</td>\n",
              "      <td>F</td>\n",
              "      <td>F</td>\n",
              "      <td>F</td>\n",
              "      <td>2</td>\n",
              "      <td>0</td>\n",
              "    </tr>\n",
              "    <tr>\n",
              "      <th>4</th>\n",
              "      <td>bin_4</td>\n",
              "      <td>object</td>\n",
              "      <td>Y</td>\n",
              "      <td>Y</td>\n",
              "      <td>Y</td>\n",
              "      <td>Y</td>\n",
              "      <td>N</td>\n",
              "      <td>2</td>\n",
              "      <td>0</td>\n",
              "    </tr>\n",
              "    <tr>\n",
              "      <th>5</th>\n",
              "      <td>nom_0</td>\n",
              "      <td>object</td>\n",
              "      <td>Green</td>\n",
              "      <td>Green</td>\n",
              "      <td>Blue</td>\n",
              "      <td>Red</td>\n",
              "      <td>Red</td>\n",
              "      <td>3</td>\n",
              "      <td>0</td>\n",
              "    </tr>\n",
              "    <tr>\n",
              "      <th>6</th>\n",
              "      <td>nom_1</td>\n",
              "      <td>object</td>\n",
              "      <td>Triangle</td>\n",
              "      <td>Trapezoid</td>\n",
              "      <td>Trapezoid</td>\n",
              "      <td>Trapezoid</td>\n",
              "      <td>Trapezoid</td>\n",
              "      <td>6</td>\n",
              "      <td>0</td>\n",
              "    </tr>\n",
              "    <tr>\n",
              "      <th>7</th>\n",
              "      <td>nom_2</td>\n",
              "      <td>object</td>\n",
              "      <td>Snake</td>\n",
              "      <td>Hamster</td>\n",
              "      <td>Lion</td>\n",
              "      <td>Snake</td>\n",
              "      <td>Lion</td>\n",
              "      <td>6</td>\n",
              "      <td>0</td>\n",
              "    </tr>\n",
              "    <tr>\n",
              "      <th>8</th>\n",
              "      <td>nom_3</td>\n",
              "      <td>object</td>\n",
              "      <td>Finland</td>\n",
              "      <td>Russia</td>\n",
              "      <td>Russia</td>\n",
              "      <td>Canada</td>\n",
              "      <td>Canada</td>\n",
              "      <td>6</td>\n",
              "      <td>0</td>\n",
              "    </tr>\n",
              "    <tr>\n",
              "      <th>9</th>\n",
              "      <td>nom_4</td>\n",
              "      <td>object</td>\n",
              "      <td>Bassoon</td>\n",
              "      <td>Piano</td>\n",
              "      <td>Theremin</td>\n",
              "      <td>Oboe</td>\n",
              "      <td>Oboe</td>\n",
              "      <td>4</td>\n",
              "      <td>0</td>\n",
              "    </tr>\n",
              "    <tr>\n",
              "      <th>10</th>\n",
              "      <td>nom_5</td>\n",
              "      <td>object</td>\n",
              "      <td>50f116bcf</td>\n",
              "      <td>b3b4d25d0</td>\n",
              "      <td>3263bdce5</td>\n",
              "      <td>f12246592</td>\n",
              "      <td>5b0f5acd5</td>\n",
              "      <td>222</td>\n",
              "      <td>0</td>\n",
              "    </tr>\n",
              "    <tr>\n",
              "      <th>11</th>\n",
              "      <td>nom_6</td>\n",
              "      <td>object</td>\n",
              "      <td>3ac1b8814</td>\n",
              "      <td>fbcb50fc1</td>\n",
              "      <td>0922e3cb8</td>\n",
              "      <td>50d7ad46a</td>\n",
              "      <td>1fe17a1fd</td>\n",
              "      <td>522</td>\n",
              "      <td>0</td>\n",
              "    </tr>\n",
              "    <tr>\n",
              "      <th>12</th>\n",
              "      <td>nom_7</td>\n",
              "      <td>object</td>\n",
              "      <td>68f6ad3e9</td>\n",
              "      <td>3b6dd5612</td>\n",
              "      <td>a6a36f527</td>\n",
              "      <td>ec69236eb</td>\n",
              "      <td>04ddac2be</td>\n",
              "      <td>1220</td>\n",
              "      <td>0</td>\n",
              "    </tr>\n",
              "    <tr>\n",
              "      <th>13</th>\n",
              "      <td>nom_8</td>\n",
              "      <td>object</td>\n",
              "      <td>c389000ab</td>\n",
              "      <td>4cd920251</td>\n",
              "      <td>de9c9f684</td>\n",
              "      <td>4ade6ab69</td>\n",
              "      <td>cb43ab175</td>\n",
              "      <td>2215</td>\n",
              "      <td>0</td>\n",
              "    </tr>\n",
              "    <tr>\n",
              "      <th>14</th>\n",
              "      <td>nom_9</td>\n",
              "      <td>object</td>\n",
              "      <td>2f4cb3d51</td>\n",
              "      <td>f83c56c21</td>\n",
              "      <td>ae6800dd0</td>\n",
              "      <td>8270f0d71</td>\n",
              "      <td>b164b72a7</td>\n",
              "      <td>11981</td>\n",
              "      <td>0</td>\n",
              "    </tr>\n",
              "    <tr>\n",
              "      <th>15</th>\n",
              "      <td>ord_0</td>\n",
              "      <td>int64</td>\n",
              "      <td>2</td>\n",
              "      <td>1</td>\n",
              "      <td>1</td>\n",
              "      <td>1</td>\n",
              "      <td>1</td>\n",
              "      <td>3</td>\n",
              "      <td>0</td>\n",
              "    </tr>\n",
              "    <tr>\n",
              "      <th>16</th>\n",
              "      <td>ord_1</td>\n",
              "      <td>object</td>\n",
              "      <td>Grandmaster</td>\n",
              "      <td>Grandmaster</td>\n",
              "      <td>Expert</td>\n",
              "      <td>Grandmaster</td>\n",
              "      <td>Grandmaster</td>\n",
              "      <td>5</td>\n",
              "      <td>0</td>\n",
              "    </tr>\n",
              "    <tr>\n",
              "      <th>17</th>\n",
              "      <td>ord_2</td>\n",
              "      <td>object</td>\n",
              "      <td>Cold</td>\n",
              "      <td>Hot</td>\n",
              "      <td>Lava Hot</td>\n",
              "      <td>Boiling Hot</td>\n",
              "      <td>Freezing</td>\n",
              "      <td>6</td>\n",
              "      <td>0</td>\n",
              "    </tr>\n",
              "    <tr>\n",
              "      <th>18</th>\n",
              "      <td>ord_3</td>\n",
              "      <td>object</td>\n",
              "      <td>h</td>\n",
              "      <td>a</td>\n",
              "      <td>h</td>\n",
              "      <td>i</td>\n",
              "      <td>a</td>\n",
              "      <td>15</td>\n",
              "      <td>0</td>\n",
              "    </tr>\n",
              "    <tr>\n",
              "      <th>19</th>\n",
              "      <td>ord_4</td>\n",
              "      <td>object</td>\n",
              "      <td>D</td>\n",
              "      <td>A</td>\n",
              "      <td>R</td>\n",
              "      <td>D</td>\n",
              "      <td>R</td>\n",
              "      <td>26</td>\n",
              "      <td>0</td>\n",
              "    </tr>\n",
              "    <tr>\n",
              "      <th>20</th>\n",
              "      <td>ord_5</td>\n",
              "      <td>object</td>\n",
              "      <td>kr</td>\n",
              "      <td>bF</td>\n",
              "      <td>Jc</td>\n",
              "      <td>kW</td>\n",
              "      <td>qP</td>\n",
              "      <td>192</td>\n",
              "      <td>0</td>\n",
              "    </tr>\n",
              "    <tr>\n",
              "      <th>21</th>\n",
              "      <td>day</td>\n",
              "      <td>int64</td>\n",
              "      <td>2</td>\n",
              "      <td>7</td>\n",
              "      <td>7</td>\n",
              "      <td>2</td>\n",
              "      <td>7</td>\n",
              "      <td>7</td>\n",
              "      <td>0</td>\n",
              "    </tr>\n",
              "    <tr>\n",
              "      <th>22</th>\n",
              "      <td>month</td>\n",
              "      <td>int64</td>\n",
              "      <td>2</td>\n",
              "      <td>8</td>\n",
              "      <td>2</td>\n",
              "      <td>1</td>\n",
              "      <td>8</td>\n",
              "      <td>12</td>\n",
              "      <td>0</td>\n",
              "    </tr>\n",
              "    <tr>\n",
              "      <th>23</th>\n",
              "      <td>target</td>\n",
              "      <td>int64</td>\n",
              "      <td>0</td>\n",
              "      <td>0</td>\n",
              "      <td>0</td>\n",
              "      <td>1</td>\n",
              "      <td>0</td>\n",
              "      <td>2</td>\n",
              "      <td>0</td>\n",
              "    </tr>\n",
              "  </tbody>\n",
              "</table>\n",
              "</div>\n",
              "      <button class=\"colab-df-convert\" onclick=\"convertToInteractive('df-a16790c8-4332-4cf2-ba00-487095d5860d')\"\n",
              "              title=\"Convert this dataframe to an interactive table.\"\n",
              "              style=\"display:none;\">\n",
              "        \n",
              "  <svg xmlns=\"http://www.w3.org/2000/svg\" height=\"24px\"viewBox=\"0 0 24 24\"\n",
              "       width=\"24px\">\n",
              "    <path d=\"M0 0h24v24H0V0z\" fill=\"none\"/>\n",
              "    <path d=\"M18.56 5.44l.94 2.06.94-2.06 2.06-.94-2.06-.94-.94-2.06-.94 2.06-2.06.94zm-11 1L8.5 8.5l.94-2.06 2.06-.94-2.06-.94L8.5 2.5l-.94 2.06-2.06.94zm10 10l.94 2.06.94-2.06 2.06-.94-2.06-.94-.94-2.06-.94 2.06-2.06.94z\"/><path d=\"M17.41 7.96l-1.37-1.37c-.4-.4-.92-.59-1.43-.59-.52 0-1.04.2-1.43.59L10.3 9.45l-7.72 7.72c-.78.78-.78 2.05 0 2.83L4 21.41c.39.39.9.59 1.41.59.51 0 1.02-.2 1.41-.59l7.78-7.78 2.81-2.81c.8-.78.8-2.07 0-2.86zM5.41 20L4 18.59l7.72-7.72 1.47 1.35L5.41 20z\"/>\n",
              "  </svg>\n",
              "      </button>\n",
              "      \n",
              "  <style>\n",
              "    .colab-df-container {\n",
              "      display:flex;\n",
              "      flex-wrap:wrap;\n",
              "      gap: 12px;\n",
              "    }\n",
              "\n",
              "    .colab-df-convert {\n",
              "      background-color: #E8F0FE;\n",
              "      border: none;\n",
              "      border-radius: 50%;\n",
              "      cursor: pointer;\n",
              "      display: none;\n",
              "      fill: #1967D2;\n",
              "      height: 32px;\n",
              "      padding: 0 0 0 0;\n",
              "      width: 32px;\n",
              "    }\n",
              "\n",
              "    .colab-df-convert:hover {\n",
              "      background-color: #E2EBFA;\n",
              "      box-shadow: 0px 1px 2px rgba(60, 64, 67, 0.3), 0px 1px 3px 1px rgba(60, 64, 67, 0.15);\n",
              "      fill: #174EA6;\n",
              "    }\n",
              "\n",
              "    [theme=dark] .colab-df-convert {\n",
              "      background-color: #3B4455;\n",
              "      fill: #D2E3FC;\n",
              "    }\n",
              "\n",
              "    [theme=dark] .colab-df-convert:hover {\n",
              "      background-color: #434B5C;\n",
              "      box-shadow: 0px 1px 3px 1px rgba(0, 0, 0, 0.15);\n",
              "      filter: drop-shadow(0px 1px 2px rgba(0, 0, 0, 0.3));\n",
              "      fill: #FFFFFF;\n",
              "    }\n",
              "  </style>\n",
              "\n",
              "      <script>\n",
              "        const buttonEl =\n",
              "          document.querySelector('#df-a16790c8-4332-4cf2-ba00-487095d5860d button.colab-df-convert');\n",
              "        buttonEl.style.display =\n",
              "          google.colab.kernel.accessAllowed ? 'block' : 'none';\n",
              "\n",
              "        async function convertToInteractive(key) {\n",
              "          const element = document.querySelector('#df-a16790c8-4332-4cf2-ba00-487095d5860d');\n",
              "          const dataTable =\n",
              "            await google.colab.kernel.invokeFunction('convertToInteractive',\n",
              "                                                     [key], {});\n",
              "          if (!dataTable) return;\n",
              "\n",
              "          const docLinkHtml = 'Like what you see? Visit the ' +\n",
              "            '<a target=\"_blank\" href=https://colab.research.google.com/notebooks/data_table.ipynb>data table notebook</a>'\n",
              "            + ' to learn more about interactive tables.';\n",
              "          element.innerHTML = '';\n",
              "          dataTable['output_type'] = 'display_data';\n",
              "          await google.colab.output.renderOutput(dataTable, element);\n",
              "          const docLink = document.createElement('div');\n",
              "          docLink.innerHTML = docLinkHtml;\n",
              "          element.appendChild(docLink);\n",
              "        }\n",
              "      </script>\n",
              "    </div>\n",
              "  </div>\n",
              "  "
            ]
          },
          "metadata": {},
          "execution_count": 11
        }
      ]
    },
    {
      "cell_type": "markdown",
      "source": [
        "테스트 세트에는 'target' 피처가 없습니다. 'target' 피처를 제거하겠습니다."
      ],
      "metadata": {
        "id": "Eyrfph9MuTlR"
      }
    },
    {
      "cell_type": "code",
      "source": [
        "all_data = all_data.drop('target', axis=1)"
      ],
      "metadata": {
        "id": "wy70_4VVtZ82"
      },
      "execution_count": null,
      "outputs": []
    },
    {
      "cell_type": "markdown",
      "source": [
        "## **1.2. bin_3, bin_4**"
      ],
      "metadata": {
        "id": "YLXL4QAzSpm6"
      }
    },
    {
      "cell_type": "markdown",
      "source": [
        "### **1.2.1. 매핑**"
      ],
      "metadata": {
        "id": "HfPbYJQ6yCP-"
      }
    },
    {
      "cell_type": "markdown",
      "source": [
        "'bin_3', 'bin_4' 피처의 각 값을 숫자로 매핑하겠습니다."
      ],
      "metadata": {
        "id": "9O1qLXTJTZSj"
      }
    },
    {
      "cell_type": "code",
      "source": [
        "all_data['bin_3'] = all_data['bin_3'].map({'T': 1, 'F': 0})\n",
        "all_data['bin_4'] = all_data['bin_4'].map({'Y': 1, 'N': 0})"
      ],
      "metadata": {
        "id": "yxLpi5O8I8do"
      },
      "execution_count": null,
      "outputs": []
    },
    {
      "cell_type": "markdown",
      "source": [
        "## **1.3. nom_num**"
      ],
      "metadata": {
        "id": "Dvc7A0iXTxZA"
      }
    },
    {
      "cell_type": "markdown",
      "source": [
        "### **1.3.1. 원-핫 인코딩**"
      ],
      "metadata": {
        "id": "UtLq6oTcyHBr"
      }
    },
    {
      "cell_type": "markdown",
      "source": [
        "전체 'nom_num' 피처에 `OneHotEncoder` 클래스를 사용하여 원-핫 인코딩을 수행하겠습니다. 물론 (이 데이터에 한정하여) 판다스의 `get_dummies()` 메서드를 사용해도 무방하지만 `get_dummies()` 메서드는 결정적인 단점을 가집니다. 학습 세트의 피처를 학습하는 과정 없이 그대로 원-핫 인코딩을 수행하기 때문에 학습 세트에만 존재하고 테스트 세트에 없는 값은 원-핫 인코딩이 적용된 피처로 변환하지 않습니다. 게다가 `OneHotEncoder` 클래스보다 더 많은 메모리가 필요합니다. `OneHotEncoder` 클래스는 원-핫 인코딩을 수행하여 CSR 형식의 행렬을 반환하기 때문입니다(데이터프레임보다 적은 메모리 소모). 따라서 원-핫 인코딩을 적용하는 경우 습관적으로 `OneHotEncoder` 클래스를 사용하는 편이 좋습니다. [링크](https://psystat.tistory.com/136)에서 상세한 설명을 확인할 수 있습니다."
      ],
      "metadata": {
        "id": "DL26N9GdZurE"
      }
    },
    {
      "cell_type": "code",
      "source": [
        "from sklearn.preprocessing import OneHotEncoder\n",
        "\n",
        "# 전체 'nom_num' 피처를 담은 리스트를 생성합니다.\n",
        "list_nom_num = ['nom_' + str(i) for i in range(10)]\n",
        "\n",
        "one_hot_encoder = OneHotEncoder()\n",
        "# 학습 및 테스트 세트를 하나로 합쳤으므로 `fit_transform()` 메서드를 사용합니다.\n",
        "# 학습 및 테스트 세트로 나뉜 상태라면 테스트 세트에는 `transform()` 메서드만 사용합니다.\n",
        "nom_num_one_hot_encoded = one_hot_encoder.fit_transform(all_data[list_nom_num])"
      ],
      "metadata": {
        "id": "QgzUS95owQuu"
      },
      "execution_count": null,
      "outputs": []
    },
    {
      "cell_type": "code",
      "source": [
        "nom_num_one_hot_encoded"
      ],
      "metadata": {
        "colab": {
          "base_uri": "https://localhost:8080/"
        },
        "id": "jY-w_bFSu56O",
        "outputId": "cb3710f5-2243-4d8e-e112-8bc5db936e48"
      },
      "execution_count": null,
      "outputs": [
        {
          "output_type": "execute_result",
          "data": {
            "text/plain": [
              "<500000x16276 sparse matrix of type '<class 'numpy.float64'>'\n",
              "\twith 5000000 stored elements in Compressed Sparse Row format>"
            ]
          },
          "metadata": {},
          "execution_count": 15
        }
      ]
    },
    {
      "cell_type": "markdown",
      "source": [
        "## **1.4. ord_num**"
      ],
      "metadata": {
        "id": "CY68URN3kir0"
      }
    },
    {
      "cell_type": "markdown",
      "source": [
        "### **1.4.1. 매핑**"
      ],
      "metadata": {
        "id": "GoJO32RNyOP5"
      }
    },
    {
      "cell_type": "markdown",
      "source": [
        "순서형 피처는 값 순서에 핵심 의미를 가집니다. 'ord_1', 'ord_2' 피처의 고윳값을 확인해 보겠습니다."
      ],
      "metadata": {
        "id": "OBMun1gAoVbF"
      }
    },
    {
      "cell_type": "code",
      "source": [
        "list_ord_1_2 = ['ord_1', 'ord_2']\n",
        "\n",
        "for feature in list_ord_1_2:\n",
        "    print(f'{feature}:\\n {all_data[feature].unique()}\\n')"
      ],
      "metadata": {
        "colab": {
          "base_uri": "https://localhost:8080/"
        },
        "id": "CCIyZgtbkxDU",
        "outputId": "792fa824-f1cd-4570-adfb-7d80e5042285"
      },
      "execution_count": null,
      "outputs": [
        {
          "output_type": "stream",
          "name": "stdout",
          "text": [
            "ord_1:\n",
            " ['Grandmaster' 'Expert' 'Novice' 'Contributor' 'Master']\n",
            "\n",
            "ord_2:\n",
            " ['Cold' 'Hot' 'Lava Hot' 'Boiling Hot' 'Freezing' 'Warm']\n",
            "\n"
          ]
        }
      ]
    },
    {
      "cell_type": "markdown",
      "source": [
        "값 순서에 알맞도록 숫자로 매핑하겠습니다."
      ],
      "metadata": {
        "id": "IisfDOBlovHw"
      }
    },
    {
      "cell_type": "code",
      "source": [
        "value_sequence_ord_1 = {'Novice':0, 'Contributor': 1, 'Expert': 2,\n",
        "                  'Master': 3, 'Grandmaster': 4}\n",
        "value_sequence_ord_2 = {'Freezing': 0, 'Cold': 1, 'Warm': 2, 'Hot': 3,\n",
        "                  'Boiling Hot': 4, 'Lava Hot': 5}\n",
        "\n",
        "all_data['ord_1'] = all_data['ord_1'].map(value_sequence_ord_1)\n",
        "all_data['ord_2'] = all_data['ord_2'].map(value_sequence_ord_2)"
      ],
      "metadata": {
        "id": "FhlUCCZ3kllf"
      },
      "execution_count": null,
      "outputs": []
    },
    {
      "cell_type": "markdown",
      "source": [
        "'ord_3 ~ 5' 피처의 고윳값을 확인해 보겠습니다."
      ],
      "metadata": {
        "id": "Y4hBY_rOo3bU"
      }
    },
    {
      "cell_type": "code",
      "source": [
        "list_ord_3_4_5 = ['ord_3', 'ord_4', 'ord_5']\n",
        "\n",
        "for feature in list_ord_3_4_5:\n",
        "    print(f'{feature}:\\n {all_data[feature].unique()}\\n')"
      ],
      "metadata": {
        "colab": {
          "base_uri": "https://localhost:8080/"
        },
        "id": "3HQ_HZVcnabK",
        "outputId": "fc5e7210-f7d2-4dbc-f1b2-aa2fa6f306a5"
      },
      "execution_count": null,
      "outputs": [
        {
          "output_type": "stream",
          "name": "stdout",
          "text": [
            "ord_3:\n",
            " ['h' 'a' 'i' 'j' 'g' 'e' 'd' 'b' 'k' 'f' 'l' 'n' 'o' 'c' 'm']\n",
            "\n",
            "ord_4:\n",
            " ['D' 'A' 'R' 'E' 'P' 'K' 'V' 'Q' 'Z' 'L' 'F' 'T' 'U' 'S' 'Y' 'B' 'H' 'J'\n",
            " 'N' 'G' 'W' 'I' 'O' 'C' 'X' 'M']\n",
            "\n",
            "ord_5:\n",
            " ['kr' 'bF' 'Jc' 'kW' 'qP' 'PZ' 'wy' 'Ed' 'qo' 'CZ' 'qX' 'su' 'dP' 'aP'\n",
            " 'MV' 'oC' 'RL' 'fh' 'gJ' 'Hj' 'TR' 'CL' 'Sc' 'eQ' 'kC' 'qK' 'dh' 'gM'\n",
            " 'Jf' 'fO' 'Eg' 'KZ' 'Vx' 'Fo' 'sV' 'eb' 'YC' 'RG' 'Ye' 'qA' 'lL' 'Qh'\n",
            " 'Bd' 'be' 'hT' 'lF' 'nX' 'kK' 'av' 'uS' 'Jt' 'PA' 'Er' 'Qb' 'od' 'ut'\n",
            " 'Dx' 'Xi' 'on' 'Dc' 'sD' 'rZ' 'Uu' 'sn' 'yc' 'Gb' 'Kq' 'dQ' 'hp' 'kL'\n",
            " 'je' 'CU' 'Fd' 'PQ' 'Bn' 'ex' 'hh' 'ac' 'rp' 'dE' 'oG' 'oK' 'cp' 'mm'\n",
            " 'vK' 'ek' 'dO' 'XI' 'CM' 'Vf' 'aO' 'qv' 'jp' 'Zq' 'Qo' 'DN' 'TZ' 'ke'\n",
            " 'cG' 'tP' 'ud' 'tv' 'aM' 'xy' 'lx' 'To' 'uy' 'ZS' 'vy' 'ZR' 'AP' 'GJ'\n",
            " 'Wv' 'ri' 'qw' 'Xh' 'FI' 'nh' 'KR' 'dB' 'BE' 'Bb' 'mc' 'MC' 'tM' 'NV'\n",
            " 'ih' 'IK' 'Ob' 'RP' 'dN' 'us' 'dZ' 'yN' 'Nf' 'QM' 'jV' 'sY' 'wu' 'SB'\n",
            " 'UO' 'Mx' 'JX' 'Ry' 'Uk' 'uJ' 'LE' 'ps' 'kE' 'MO' 'kw' 'yY' 'zU' 'bJ'\n",
            " 'Kf' 'ck' 'mb' 'Os' 'Ps' 'Ml' 'Ai' 'Wc' 'GD' 'll' 'aF' 'iT' 'cA' 'WE'\n",
            " 'Gx' 'Nk' 'OR' 'Rm' 'BA' 'eG' 'cW' 'jS' 'DH' 'hL' 'Mf' 'Yb' 'Aj' 'oH'\n",
            " 'Zc' 'qJ' 'eg' 'xP' 'vq' 'Id' 'pa' 'ux' 'kU' 'Cl']\n",
            "\n"
          ]
        }
      ]
    },
    {
      "cell_type": "markdown",
      "source": [
        "고윳값 개수가 많기 때문에 일일이 매핑하기는 번거롭습니다. `OrdinalEncoder` 클래스를 활용하여 값 순서에 맞게 숫자로 매핑하겠습니다."
      ],
      "metadata": {
        "id": "CA7H8qilpHLn"
      }
    },
    {
      "cell_type": "code",
      "source": [
        "from sklearn.preprocessing import OrdinalEncoder\n",
        "\n",
        "ord_encoder = OrdinalEncoder()\n",
        "all_data[list_ord_3_4_5] = ord_encoder.fit_transform(all_data[list_ord_3_4_5])"
      ],
      "metadata": {
        "id": "Lfa-Cl_Ll18i"
      },
      "execution_count": null,
      "outputs": []
    },
    {
      "cell_type": "markdown",
      "source": [
        "아래와 같이 값 순서가 `categories_` 속성에 저장되고, 각 값은 값 순서에 맞게 숫자로 매핑됩니다."
      ],
      "metadata": {
        "id": "kFvcmlwYpp-I"
      }
    },
    {
      "cell_type": "code",
      "source": [
        "ord_encoder.categories_"
      ],
      "metadata": {
        "colab": {
          "base_uri": "https://localhost:8080/"
        },
        "id": "78tKBv23mhD5",
        "outputId": "e9839d9e-4f78-4a0d-d858-1bc721d578eb"
      },
      "execution_count": null,
      "outputs": [
        {
          "output_type": "execute_result",
          "data": {
            "text/plain": [
              "[array(['a', 'b', 'c', 'd', 'e', 'f', 'g', 'h', 'i', 'j', 'k', 'l', 'm',\n",
              "        'n', 'o'], dtype=object),\n",
              " array(['A', 'B', 'C', 'D', 'E', 'F', 'G', 'H', 'I', 'J', 'K', 'L', 'M',\n",
              "        'N', 'O', 'P', 'Q', 'R', 'S', 'T', 'U', 'V', 'W', 'X', 'Y', 'Z'],\n",
              "       dtype=object),\n",
              " array(['AP', 'Ai', 'Aj', 'BA', 'BE', 'Bb', 'Bd', 'Bn', 'CL', 'CM', 'CU',\n",
              "        'CZ', 'Cl', 'DH', 'DN', 'Dc', 'Dx', 'Ed', 'Eg', 'Er', 'FI', 'Fd',\n",
              "        'Fo', 'GD', 'GJ', 'Gb', 'Gx', 'Hj', 'IK', 'Id', 'JX', 'Jc', 'Jf',\n",
              "        'Jt', 'KR', 'KZ', 'Kf', 'Kq', 'LE', 'MC', 'MO', 'MV', 'Mf', 'Ml',\n",
              "        'Mx', 'NV', 'Nf', 'Nk', 'OR', 'Ob', 'Os', 'PA', 'PQ', 'PZ', 'Ps',\n",
              "        'QM', 'Qb', 'Qh', 'Qo', 'RG', 'RL', 'RP', 'Rm', 'Ry', 'SB', 'Sc',\n",
              "        'TR', 'TZ', 'To', 'UO', 'Uk', 'Uu', 'Vf', 'Vx', 'WE', 'Wc', 'Wv',\n",
              "        'XI', 'Xh', 'Xi', 'YC', 'Yb', 'Ye', 'ZR', 'ZS', 'Zc', 'Zq', 'aF',\n",
              "        'aM', 'aO', 'aP', 'ac', 'av', 'bF', 'bJ', 'be', 'cA', 'cG', 'cW',\n",
              "        'ck', 'cp', 'dB', 'dE', 'dN', 'dO', 'dP', 'dQ', 'dZ', 'dh', 'eG',\n",
              "        'eQ', 'eb', 'eg', 'ek', 'ex', 'fO', 'fh', 'gJ', 'gM', 'hL', 'hT',\n",
              "        'hh', 'hp', 'iT', 'ih', 'jS', 'jV', 'je', 'jp', 'kC', 'kE', 'kK',\n",
              "        'kL', 'kU', 'kW', 'ke', 'kr', 'kw', 'lF', 'lL', 'll', 'lx', 'mb',\n",
              "        'mc', 'mm', 'nX', 'nh', 'oC', 'oG', 'oH', 'oK', 'od', 'on', 'pa',\n",
              "        'ps', 'qA', 'qJ', 'qK', 'qP', 'qX', 'qo', 'qv', 'qw', 'rZ', 'ri',\n",
              "        'rp', 'sD', 'sV', 'sY', 'sn', 'su', 'tM', 'tP', 'tv', 'uJ', 'uS',\n",
              "        'ud', 'us', 'ut', 'ux', 'uy', 'vK', 'vq', 'vy', 'wu', 'wy', 'xP',\n",
              "        'xy', 'yN', 'yY', 'yc', 'zU'], dtype=object)]"
            ]
          },
          "metadata": {},
          "execution_count": 20
        }
      ]
    },
    {
      "cell_type": "code",
      "source": [
        "for feature in list_ord_3_4_5:\n",
        "    print(f'{feature}:\\n {all_data[feature].unique()}\\n')"
      ],
      "metadata": {
        "colab": {
          "base_uri": "https://localhost:8080/"
        },
        "id": "s0fIXGMep-Jz",
        "outputId": "f9a85781-e691-4ebf-9787-690eac758227"
      },
      "execution_count": null,
      "outputs": [
        {
          "output_type": "stream",
          "name": "stdout",
          "text": [
            "ord_3:\n",
            " [ 7.  0.  8.  9.  6.  4.  3.  1. 10.  5. 11. 13. 14.  2. 12.]\n",
            "\n",
            "ord_4:\n",
            " [ 3.  0. 17.  4. 15. 10. 21. 16. 25. 11.  5. 19. 20. 18. 24.  1.  7.  9.\n",
            " 13.  6. 22.  8. 14.  2. 23. 12.]\n",
            "\n",
            "ord_5:\n",
            " [136.  93.  31. 134. 158.  53. 185.  17. 160.  11. 159. 170. 105.  90.\n",
            "  41. 147.  60. 116. 117.  27.  66.   8.  65. 110. 129. 157. 108. 118.\n",
            "  32. 115.  18.  35.  73.  22. 167. 111.  80.  59.  82. 155. 139.  57.\n",
            "   6.  95. 120. 138. 145. 131.  92. 175.  33.  51.  19.  56. 151. 178.\n",
            "  16.  79. 152.  15. 166. 163.  71. 169. 190.  25.  37. 106. 122. 132.\n",
            " 127.  10.  21.  52.   7. 114. 121.  91. 165. 102. 148. 150. 100. 144.\n",
            " 181. 113. 104.  77.   9.  72.  89. 161. 128.  86.  58.  14.  67. 135.\n",
            "  97. 172. 176. 173.  88. 187. 141.  68. 180.  84. 183.  83.   0.  24.\n",
            "  76. 164. 162.  78.  20. 146.  34. 101.   4.   5. 143.  39. 171.  45.\n",
            " 124.  28.  49.  61. 103. 177. 107. 188.  46.  55. 126. 168. 184.  64.\n",
            "  69.  44.  30.  63.  70. 174.  38. 154. 130.  40. 137. 189. 191.  94.\n",
            "  36.  99. 142.  50.  54.  43.   1.  75.  23. 140.  87. 123.  96.  74.\n",
            "  26.  47.  48.  62.   3. 109.  98. 125.  13. 119.  42.  81.   2. 149.\n",
            "  85. 156. 112. 186. 182.  29. 153. 179. 133.  12.]\n",
            "\n"
          ]
        }
      ]
    },
    {
      "cell_type": "markdown",
      "source": [
        "### **1.4.2. min-max 정규화**"
      ],
      "metadata": {
        "id": "7Q2G-oQhyRF2"
      }
    },
    {
      "cell_type": "markdown",
      "source": [
        "min-max 정규화를 수행하겠습니다."
      ],
      "metadata": {
        "id": "xVQGzSARxtvt"
      }
    },
    {
      "cell_type": "code",
      "source": [
        "from sklearn.preprocessing import MinMaxScaler\n",
        "\n",
        "list_ord_num = ['ord_' + str(i) for i in range(6)]\n",
        "\n",
        "min_max_scaler = MinMaxScaler()\n",
        "all_data[list_ord_num] = min_max_scaler.fit_transform(all_data[list_ord_num])"
      ],
      "metadata": {
        "id": "czSqojbgw1kv"
      },
      "execution_count": null,
      "outputs": []
    },
    {
      "cell_type": "code",
      "source": [
        "for feature in list_ord_num:\n",
        "    print(f'{feature}:\\n {all_data[feature].unique()}\\n')"
      ],
      "metadata": {
        "colab": {
          "base_uri": "https://localhost:8080/"
        },
        "id": "btY7h1k8xc_p",
        "outputId": "8cfbf56a-4b78-4e9a-a6d9-7ea7f0bae6db"
      },
      "execution_count": null,
      "outputs": [
        {
          "output_type": "stream",
          "name": "stdout",
          "text": [
            "ord_0:\n",
            " [0.5 0.  1. ]\n",
            "\n",
            "ord_1:\n",
            " [1.   0.5  0.   0.25 0.75]\n",
            "\n",
            "ord_2:\n",
            " [0.2 0.6 1.  0.8 0.  0.4]\n",
            "\n",
            "ord_3:\n",
            " [0.5        0.         0.57142857 0.64285714 0.42857143 0.28571429\n",
            " 0.21428571 0.07142857 0.71428571 0.35714286 0.78571429 0.92857143\n",
            " 1.         0.14285714 0.85714286]\n",
            "\n",
            "ord_4:\n",
            " [0.12 0.   0.68 0.16 0.6  0.4  0.84 0.64 1.   0.44 0.2  0.76 0.8  0.72\n",
            " 0.96 0.04 0.28 0.36 0.52 0.24 0.88 0.32 0.56 0.08 0.92 0.48]\n",
            "\n",
            "ord_5:\n",
            " [0.71204188 0.48691099 0.16230366 0.70157068 0.82722513 0.27748691\n",
            " 0.96858639 0.08900524 0.83769634 0.05759162 0.83246073 0.89005236\n",
            " 0.54973822 0.47120419 0.21465969 0.76963351 0.31413613 0.60732984\n",
            " 0.61256545 0.14136126 0.34554974 0.04188482 0.34031414 0.57591623\n",
            " 0.67539267 0.82198953 0.56544503 0.61780105 0.16753927 0.60209424\n",
            " 0.09424084 0.18324607 0.38219895 0.11518325 0.87434555 0.58115183\n",
            " 0.41884817 0.30890052 0.42931937 0.81151832 0.72774869 0.29842932\n",
            " 0.03141361 0.4973822  0.62827225 0.72251309 0.7591623  0.68586387\n",
            " 0.48167539 0.91623037 0.17277487 0.26701571 0.09947644 0.29319372\n",
            " 0.79057592 0.93193717 0.08376963 0.41361257 0.79581152 0.07853403\n",
            " 0.86910995 0.85340314 0.37172775 0.88481675 0.9947644  0.13089005\n",
            " 0.19371728 0.55497382 0.63874346 0.69109948 0.66492147 0.05235602\n",
            " 0.10994764 0.27225131 0.03664921 0.59685864 0.63350785 0.47643979\n",
            " 0.86387435 0.53403141 0.77486911 0.78534031 0.52356021 0.7539267\n",
            " 0.94764398 0.59162304 0.54450262 0.40314136 0.04712042 0.37696335\n",
            " 0.46596859 0.84293194 0.67015707 0.45026178 0.30366492 0.07329843\n",
            " 0.35078534 0.70680628 0.5078534  0.90052356 0.92146597 0.90575916\n",
            " 0.46073298 0.97905759 0.7382199  0.35602094 0.94240838 0.43979058\n",
            " 0.95811518 0.43455497 0.         0.12565445 0.39790576 0.85863874\n",
            " 0.84816754 0.40837696 0.10471204 0.76439791 0.17801047 0.52879581\n",
            " 0.02094241 0.02617801 0.7486911  0.20418848 0.89528796 0.23560209\n",
            " 0.64921466 0.14659686 0.2565445  0.31937173 0.53926702 0.92670157\n",
            " 0.56020942 0.98429319 0.2408377  0.28795812 0.65968586 0.87958115\n",
            " 0.96335079 0.33507853 0.36125654 0.23036649 0.15706806 0.32984293\n",
            " 0.36649215 0.91099476 0.19895288 0.80628272 0.68062827 0.20942408\n",
            " 0.71727749 0.9895288  1.         0.4921466  0.18848168 0.51832461\n",
            " 0.7434555  0.2617801  0.28272251 0.22513089 0.0052356  0.39267016\n",
            " 0.12041885 0.73298429 0.45549738 0.64397906 0.5026178  0.38743455\n",
            " 0.13612565 0.2460733  0.2513089  0.32460733 0.01570681 0.57068063\n",
            " 0.51308901 0.65445026 0.06806283 0.62303665 0.21989529 0.42408377\n",
            " 0.0104712  0.78010471 0.44502618 0.81675393 0.58638743 0.97382199\n",
            " 0.95287958 0.15183246 0.80104712 0.93717277 0.69633508 0.06282723]\n",
            "\n"
          ]
        }
      ]
    },
    {
      "cell_type": "markdown",
      "source": [
        "## **1.5. day, month**"
      ],
      "metadata": {
        "id": "0cBjd_1izZ8H"
      }
    },
    {
      "cell_type": "markdown",
      "source": [
        "'day', 'month' 피처에는 원-핫 인코딩을 적용하겠습니다. 순서형 피처로 간주하여 min-max 정규화를 적용해 볼 수도 있습니다."
      ],
      "metadata": {
        "id": "k1ar4SJbvtYX"
      }
    },
    {
      "cell_type": "code",
      "source": [
        "list_date = ['day', 'month']\n",
        "\n",
        "date_one_hot_encoded = one_hot_encoder.fit_transform(all_data[list_date])"
      ],
      "metadata": {
        "id": "yyWVFU54wKFP"
      },
      "execution_count": null,
      "outputs": []
    },
    {
      "cell_type": "code",
      "source": [
        "date_one_hot_encoded"
      ],
      "metadata": {
        "colab": {
          "base_uri": "https://localhost:8080/"
        },
        "id": "2_VqBJ4Wwuc-",
        "outputId": "41cb70ae-74e0-4c13-c0a1-31f3742fd3e4"
      },
      "execution_count": null,
      "outputs": [
        {
          "output_type": "execute_result",
          "data": {
            "text/plain": [
              "<500000x19 sparse matrix of type '<class 'numpy.float64'>'\n",
              "\twith 1000000 stored elements in Compressed Sparse Row format>"
            ]
          },
          "metadata": {},
          "execution_count": 25
        }
      ]
    },
    {
      "cell_type": "markdown",
      "source": [
        "## **1.6. 불필요한 피처 제거**"
      ],
      "metadata": {
        "id": "M41oshgDyz2U"
      }
    },
    {
      "cell_type": "markdown",
      "source": [
        "대부분의 피처 엔지니어링을 마쳤습니다. 원-핫 인코딩을 적용한 피처들은 CSR 형식으로 따로 저장된 상태이므로 기존 'nom_num', 'day', 'month' 피처는 불필요합니다. 삭제하겠습니다."
      ],
      "metadata": {
        "id": "RbpOcXxPy2sd"
      }
    },
    {
      "cell_type": "code",
      "source": [
        "list_nom_num = ['nom_' + str(i) for i in range(10)]\n",
        "list_date = ['day', 'month']\n",
        "\n",
        "for features in [list_nom_num, list_date]:\n",
        "    all_data = all_data.drop(features, axis=1)"
      ],
      "metadata": {
        "id": "U_8uvLnMzVGr"
      },
      "execution_count": null,
      "outputs": []
    },
    {
      "cell_type": "markdown",
      "source": [
        "## **1.7. 데이터 세트와 인코딩된 피처 간 결합**"
      ],
      "metadata": {
        "id": "I3IOcwxl0EAd"
      }
    },
    {
      "cell_type": "markdown",
      "source": [
        "데이터 세트와 인코딩된 피처를 결합하겠습니다. 기존 데이터를 CSR 형식으로 변환하여 인코딩된 CSR 행렬과 결합하고, 메모리를 절약하기 위해 CSR 형식을 그대로 유지시키겠습니다. "
      ],
      "metadata": {
        "id": "wj72tNc22MPW"
      }
    },
    {
      "cell_type": "code",
      "source": [
        "from scipy import sparse\n",
        "\n",
        "all_data_sparse = sparse.hstack([sparse.csr_matrix(all_data), # 기존 데이터를 CSR 형식으로 변환합니다.\n",
        "                                 nom_num_one_hot_encoded,\n",
        "                                 date_one_hot_encoded], format='csr')"
      ],
      "metadata": {
        "id": "KQI3gTRL1vdW"
      },
      "execution_count": null,
      "outputs": []
    },
    {
      "cell_type": "code",
      "source": [
        "all_data_sparse"
      ],
      "metadata": {
        "colab": {
          "base_uri": "https://localhost:8080/"
        },
        "id": "mzwJYiT_2J6_",
        "outputId": "072077f6-c412-4c63-8c7a-e031037b2a71"
      },
      "execution_count": null,
      "outputs": [
        {
          "output_type": "execute_result",
          "data": {
            "text/plain": [
              "<500000x16306 sparse matrix of type '<class 'numpy.float64'>'\n",
              "\twith 9163718 stored elements in Compressed Sparse Row format>"
            ]
          },
          "metadata": {},
          "execution_count": 28
        }
      ]
    },
    {
      "cell_type": "markdown",
      "source": [
        "# **2. 모델링**"
      ],
      "metadata": {
        "id": "rUpA9GDi3opf"
      }
    },
    {
      "cell_type": "markdown",
      "source": [
        "베이스라인 모델링이므로 일단 기본 파라미터를 적용해 보겠습니다."
      ],
      "metadata": {
        "id": "1tTmrkCQA9Rx"
      }
    },
    {
      "cell_type": "markdown",
      "source": [
        "## **2.1. 데이터 준비**"
      ],
      "metadata": {
        "id": "NuKFEA-FpDJ4"
      }
    },
    {
      "cell_type": "markdown",
      "source": [
        "데이터를 준비하겠습니다."
      ],
      "metadata": {
        "id": "q2GnqkCuDQBk"
      }
    },
    {
      "cell_type": "code",
      "source": [
        "from sklearn.model_selection import train_test_split\n",
        "\n",
        "train_num = len(train) # 훈련 세트 개수를 지정합니다.\n",
        "X_train_sparse = all_data_sparse[:train_num] # 훈련 세트를 지정합니다.\n",
        "X_test_sparse = all_data_sparse[train_num:] # 테스트 세트를 지정합니다.\n",
        "y_train_original = train['target'] # 타깃값을 지정합니다.\n",
        "\n",
        "X_train, X_valid, y_train, y_valid = train_test_split(\n",
        "    X_train_sparse, y_train_original, test_size=0.15, stratify=y_train_original, random_state=2023)"
      ],
      "metadata": {
        "id": "Wwh_P7fMkC6Y"
      },
      "execution_count": null,
      "outputs": []
    },
    {
      "cell_type": "markdown",
      "source": [
        "## **2.2. XGBoost**"
      ],
      "metadata": {
        "id": "Yu-vtGb6AUdI"
      }
    },
    {
      "cell_type": "code",
      "source": [
        "from xgboost import XGBClassifier\n",
        "from sklearn.metrics import roc_auc_score\n",
        "\n",
        "model_xgb = XGBClassifier()\n",
        "model_xgb.fit(X_train, y_train)\n",
        "\n",
        "# 타깃값이 1일 확률을 추출합니다.\n",
        "prediction_xgb_valid = model_xgb.predict_proba(X_valid)[:, 1]\n",
        "# roc auc 점수를 확인합니다.\n",
        "roc_auc_xgb = roc_auc_score(y_valid, prediction_xgb_valid)\n",
        "print(f'{roc_auc_xgb:.4f}')"
      ],
      "metadata": {
        "colab": {
          "base_uri": "https://localhost:8080/"
        },
        "id": "cl_ndAFSsUk7",
        "outputId": "12dc7ff8-a3f8-495c-a84b-03ff1c2a3a1e"
      },
      "execution_count": null,
      "outputs": [
        {
          "output_type": "stream",
          "name": "stdout",
          "text": [
            "0.7627\n"
          ]
        }
      ]
    },
    {
      "cell_type": "markdown",
      "source": [
        "만족스럽지 않은 점수입니다. 파일을 제출해 보겠습니다."
      ],
      "metadata": {
        "id": "tW1uPR6GjUKQ"
      }
    },
    {
      "cell_type": "code",
      "source": [
        "submission['target'] = model_xgb.predict_proba(X_test_sparse)[:, 1]\n",
        "# submission.to_csv('Categorical_Feature_Encoding_Challenge_submission1.csv')"
      ],
      "metadata": {
        "id": "0KKpUqz_fmpd"
      },
      "execution_count": null,
      "outputs": []
    },
    {
      "cell_type": "markdown",
      "source": [
        "프라이빗 스코어는 0.75567입니다."
      ],
      "metadata": {
        "id": "g3wEX8B4khnZ"
      }
    },
    {
      "cell_type": "markdown",
      "source": [
        "## **2.3. LightGBM**"
      ],
      "metadata": {
        "id": "l48ny5XSAXnL"
      }
    },
    {
      "cell_type": "code",
      "source": [
        "from lightgbm import LGBMClassifier\n",
        "\n",
        "model_lgbm = LGBMClassifier()\n",
        "model_lgbm.fit(X_train, y_train)\n",
        "\n",
        "prediction_lgbm_valid = model_lgbm.predict_proba(X_valid)[:, 1]\n",
        "roc_auc_lgbm = roc_auc_score(y_valid, prediction_lgbm_valid)\n",
        "print(f'{roc_auc_lgbm:.4f}')"
      ],
      "metadata": {
        "colab": {
          "base_uri": "https://localhost:8080/"
        },
        "id": "Yb_usxCW-Wh_",
        "outputId": "da70aaba-80a4-4fd2-a2b1-612e80ac0130"
      },
      "execution_count": null,
      "outputs": [
        {
          "output_type": "stream",
          "name": "stdout",
          "text": [
            "0.7736\n"
          ]
        }
      ]
    },
    {
      "cell_type": "markdown",
      "source": [
        "만족스럽지 않은 점수입니다. 파일을 제출해 보겠습니다."
      ],
      "metadata": {
        "id": "dbxi3txnjcAm"
      }
    },
    {
      "cell_type": "code",
      "source": [
        "submission['target'] = model_lgbm.predict_proba(X_test_sparse)[:, 1]\n",
        "# submission.to_csv('Categorical_Feature_Encoding_Challenge_submission2.csv')"
      ],
      "metadata": {
        "id": "6XyIFvtVhtAy"
      },
      "execution_count": null,
      "outputs": []
    },
    {
      "cell_type": "markdown",
      "source": [
        "프라이빗 스코어는 0.76702입니다."
      ],
      "metadata": {
        "id": "20MRVUR7lJep"
      }
    },
    {
      "cell_type": "markdown",
      "source": [
        "## **2.4. LogisticRegression**"
      ],
      "metadata": {
        "id": "Bj7WKVk9AbSW"
      }
    },
    {
      "cell_type": "code",
      "source": [
        "from sklearn.linear_model import LogisticRegression\n",
        "\n",
        "model_logistic = LogisticRegression()\n",
        "model_logistic.fit(X_train, y_train)\n",
        "prediction_logistic_valid = model_logistic.predict_proba(X_valid)[:, 1]\n",
        "\n",
        "roc_auc_logistic = roc_auc_score(y_valid, prediction_logistic_valid)\n",
        "print(f'{roc_auc_logistic:.4f}')"
      ],
      "metadata": {
        "colab": {
          "base_uri": "https://localhost:8080/"
        },
        "id": "qquy7NQ39h2f",
        "outputId": "64bdebb5-147b-4005-fb22-9753d5e4f473"
      },
      "execution_count": null,
      "outputs": [
        {
          "output_type": "stream",
          "name": "stdout",
          "text": [
            "0.7996\n"
          ]
        },
        {
          "output_type": "stream",
          "name": "stderr",
          "text": [
            "/usr/local/lib/python3.8/dist-packages/sklearn/linear_model/_logistic.py:814: ConvergenceWarning: lbfgs failed to converge (status=1):\n",
            "STOP: TOTAL NO. of ITERATIONS REACHED LIMIT.\n",
            "\n",
            "Increase the number of iterations (max_iter) or scale the data as shown in:\n",
            "    https://scikit-learn.org/stable/modules/preprocessing.html\n",
            "Please also refer to the documentation for alternative solver options:\n",
            "    https://scikit-learn.org/stable/modules/linear_model.html#logistic-regression\n",
            "  n_iter_i = _check_optimize_result(\n"
          ]
        }
      ]
    },
    {
      "cell_type": "code",
      "source": [
        "submission['target'] = model_logistic.predict_proba(X_test_sparse)[:, 1]\n",
        "# submission.to_csv('Categorical_Feature_Encoding_Challenge_submission4.csv')"
      ],
      "metadata": {
        "id": "sZujaGdQiWlW"
      },
      "execution_count": null,
      "outputs": []
    },
    {
      "cell_type": "markdown",
      "source": [
        "프라이빗 스코어는 0.79673입니다. 1338팀 중 694위입니다. 위 두 모델보다 성능이 좋습니다.\n",
        "\n",
        "이 모델을 토대로 전체 데이터를 사용하여 파일을 제출해 보겠습니다."
      ],
      "metadata": {
        "id": "OttKG7WZjIcD"
      }
    },
    {
      "cell_type": "code",
      "source": [
        "from sklearn.linear_model import LogisticRegression\n",
        "\n",
        "model_logistic = LogisticRegression()\n",
        "model_logistic.fit(X_train_sparse, y_train_original)"
      ],
      "metadata": {
        "id": "8jvb4eKellud"
      },
      "execution_count": null,
      "outputs": []
    },
    {
      "cell_type": "code",
      "source": [
        "submission['target'] = model_logistic.predict_proba(X_test_sparse)[:, 1]\n",
        "# submission.to_csv('Categorical_Feature_Encoding_Challenge_submission5.csv')"
      ],
      "metadata": {
        "id": "NQ_A_GbboVeG"
      },
      "execution_count": null,
      "outputs": []
    },
    {
      "cell_type": "markdown",
      "source": [
        "프라이빗 스코어는 0.79896입니다. 1338팀 중 627위입니다."
      ],
      "metadata": {
        "id": "bRGxGAIOo-24"
      }
    },
    {
      "cell_type": "markdown",
      "source": [
        "# **3. 결론**"
      ],
      "metadata": {
        "id": "cpfUHRFbuGux"
      }
    },
    {
      "cell_type": "markdown",
      "source": [
        "세 모델 중 기본 파라미터를 적용했을 때 성능이 가장 좋은 모델은 로지스틱 회귀입니다.\n",
        "\n",
        "피처 엔지니어링의 경우 할 수 있는 대부분의 엔지니어링을 마쳤으므로 성능 개선 챕터에서 추가 작업을 수행할 필요는 없을 것으로 사료합니다. 바로 파라미터 튜닝을 수행하여 최적 성능을 끌어내도록 하겠습니다."
      ],
      "metadata": {
        "id": "6SwQ38tfuIG6"
      }
    }
  ]
}