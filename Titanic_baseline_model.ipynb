{
  "nbformat": 4,
  "nbformat_minor": 0,
  "metadata": {
    "colab": {
      "provenance": [],
      "toc_visible": true,
      "authorship_tag": "ABX9TyPfW3EHkvEtQwDPm5YOse5T",
      "include_colab_link": true
    },
    "kernelspec": {
      "name": "python3",
      "display_name": "Python 3"
    },
    "language_info": {
      "name": "python"
    }
  },
  "cells": [
    {
      "cell_type": "markdown",
      "metadata": {
        "id": "view-in-github",
        "colab_type": "text"
      },
      "source": [
        "<a href=\"https://colab.research.google.com/github/LeeSeungwon89/Kaggle_Dacon_Practice/blob/main/Titanic_baseline_model.ipynb\" target=\"_parent\"><img src=\"https://colab.research.google.com/assets/colab-badge.svg\" alt=\"Open In Colab\"/></a>"
      ]
    },
    {
      "cell_type": "code",
      "execution_count": null,
      "metadata": {
        "id": "qFlsYDWZvlGN"
      },
      "outputs": [],
      "source": [
        "!pip install kaggle\n",
        "from google.colab import files\n",
        "files.upload()"
      ]
    },
    {
      "cell_type": "code",
      "source": [
        "ls -1ha kaggle.json"
      ],
      "metadata": {
        "id": "ZYZL2kb0CpPc",
        "colab": {
          "base_uri": "https://localhost:8080/"
        },
        "outputId": "7f097f25-a426-4cce-b3eb-d2649776d75c"
      },
      "execution_count": 2,
      "outputs": [
        {
          "output_type": "stream",
          "name": "stdout",
          "text": [
            "kaggle.json\n"
          ]
        }
      ]
    },
    {
      "cell_type": "code",
      "source": [
        "!mkdir -p ~/.kaggle\n",
        "!cp kaggle.json ~/.kaggle/\n",
        "\n",
        "# Permission Warning이 발생하지 않도록 해줍니다.\n",
        "!chmod 600 ~/.kaggle/kaggle.json\n",
        "\n",
        "# 참가한 대회 리스트를 확인합니다.\n",
        "!kaggle competitions list"
      ],
      "metadata": {
        "id": "8zdRBiQJCuQo"
      },
      "execution_count": null,
      "outputs": []
    },
    {
      "cell_type": "code",
      "source": [
        "!kaggle competitions download -c titanic"
      ],
      "metadata": {
        "id": "j0HcY5w7CyKT",
        "colab": {
          "base_uri": "https://localhost:8080/"
        },
        "outputId": "290c6db0-9cb7-4d82-a033-19081fb78c03"
      },
      "execution_count": 4,
      "outputs": [
        {
          "output_type": "stream",
          "name": "stdout",
          "text": [
            "Downloading titanic.zip to /content\n",
            "\r  0% 0.00/34.1k [00:00<?, ?B/s]\n",
            "\r100% 34.1k/34.1k [00:00<00:00, 27.9MB/s]\n"
          ]
        }
      ]
    },
    {
      "cell_type": "code",
      "source": [
        "!ls"
      ],
      "metadata": {
        "id": "sReL7PpzCzoM",
        "colab": {
          "base_uri": "https://localhost:8080/"
        },
        "outputId": "0253c332-d92e-4a5e-e8fd-aee32d10957a"
      },
      "execution_count": 5,
      "outputs": [
        {
          "output_type": "stream",
          "name": "stdout",
          "text": [
            "kaggle.json  sample_data  titanic.zip\n"
          ]
        }
      ]
    },
    {
      "cell_type": "code",
      "source": [
        "!unzip titanic.zip"
      ],
      "metadata": {
        "id": "ofXLSoZ0C1pN",
        "colab": {
          "base_uri": "https://localhost:8080/"
        },
        "outputId": "a0fd343f-c07b-47e3-fb97-f2c33b448368"
      },
      "execution_count": 6,
      "outputs": [
        {
          "output_type": "stream",
          "name": "stdout",
          "text": [
            "Archive:  titanic.zip\n",
            "  inflating: gender_submission.csv   \n",
            "  inflating: test.csv                \n",
            "  inflating: train.csv               \n"
          ]
        }
      ]
    },
    {
      "cell_type": "markdown",
      "source": [
        "# **피처 엔지니어링**"
      ],
      "metadata": {
        "id": "e_ug5ceORRUq"
      }
    },
    {
      "cell_type": "markdown",
      "source": [
        "베이스라인 모델링이므로 전체 과정을 간단하게 수행해 보겠습니다. 추후 성능 개선을 시도할 때 여러 방안을 활용하여 피처 엔지니어링과 모델링을 추가로 수행할 예정입니다.\n",
        "\n",
        "먼저 EDA를 기반으로 피처 엔지니어링을 수행해 보겠습니다."
      ],
      "metadata": {
        "id": "-PrrpUBP67Q3"
      }
    },
    {
      "cell_type": "code",
      "source": [
        "import numpy as np\n",
        "import pandas as pd\n",
        "\n",
        "pd.set_option('display.max_column', 50)\n",
        "pd.set_option('display.max_rows', 50)\n",
        "\n",
        "train = pd.read_csv('train.csv')\n",
        "test = pd.read_csv('test.csv')\n",
        "submission = pd.read_csv('gender_submission.csv')\n",
        "\n",
        "# 피처 엔지니어링을 위해 훈련 및 테스트 데이터를 결합합니다.\n",
        "all_data = pd.concat([train, test], ignore_index=True)\n",
        "all_data"
      ],
      "metadata": {
        "colab": {
          "base_uri": "https://localhost:8080/",
          "height": 423
        },
        "id": "1tQQqCRqQQqC",
        "outputId": "7d216ead-ba82-42a3-8d43-05594d8dfe9c"
      },
      "execution_count": 114,
      "outputs": [
        {
          "output_type": "execute_result",
          "data": {
            "text/plain": [
              "      PassengerId  Survived  Pclass  \\\n",
              "0               1       0.0       3   \n",
              "1               2       1.0       1   \n",
              "2               3       1.0       3   \n",
              "3               4       1.0       1   \n",
              "4               5       0.0       3   \n",
              "...           ...       ...     ...   \n",
              "1304         1305       NaN       3   \n",
              "1305         1306       NaN       1   \n",
              "1306         1307       NaN       3   \n",
              "1307         1308       NaN       3   \n",
              "1308         1309       NaN       3   \n",
              "\n",
              "                                                   Name     Sex   Age  SibSp  \\\n",
              "0                               Braund, Mr. Owen Harris    male  22.0      1   \n",
              "1     Cumings, Mrs. John Bradley (Florence Briggs Th...  female  38.0      1   \n",
              "2                                Heikkinen, Miss. Laina  female  26.0      0   \n",
              "3          Futrelle, Mrs. Jacques Heath (Lily May Peel)  female  35.0      1   \n",
              "4                              Allen, Mr. William Henry    male  35.0      0   \n",
              "...                                                 ...     ...   ...    ...   \n",
              "1304                                 Spector, Mr. Woolf    male   NaN      0   \n",
              "1305                       Oliva y Ocana, Dona. Fermina  female  39.0      0   \n",
              "1306                       Saether, Mr. Simon Sivertsen    male  38.5      0   \n",
              "1307                                Ware, Mr. Frederick    male   NaN      0   \n",
              "1308                           Peter, Master. Michael J    male   NaN      1   \n",
              "\n",
              "      Parch              Ticket      Fare Cabin Embarked  \n",
              "0         0           A/5 21171    7.2500   NaN        S  \n",
              "1         0            PC 17599   71.2833   C85        C  \n",
              "2         0    STON/O2. 3101282    7.9250   NaN        S  \n",
              "3         0              113803   53.1000  C123        S  \n",
              "4         0              373450    8.0500   NaN        S  \n",
              "...     ...                 ...       ...   ...      ...  \n",
              "1304      0           A.5. 3236    8.0500   NaN        S  \n",
              "1305      0            PC 17758  108.9000  C105        C  \n",
              "1306      0  SOTON/O.Q. 3101262    7.2500   NaN        S  \n",
              "1307      0              359309    8.0500   NaN        S  \n",
              "1308      1                2668   22.3583   NaN        C  \n",
              "\n",
              "[1309 rows x 12 columns]"
            ],
            "text/html": [
              "\n",
              "  <div id=\"df-211270d6-8d34-4e80-9880-d123b87e11d3\">\n",
              "    <div class=\"colab-df-container\">\n",
              "      <div>\n",
              "<style scoped>\n",
              "    .dataframe tbody tr th:only-of-type {\n",
              "        vertical-align: middle;\n",
              "    }\n",
              "\n",
              "    .dataframe tbody tr th {\n",
              "        vertical-align: top;\n",
              "    }\n",
              "\n",
              "    .dataframe thead th {\n",
              "        text-align: right;\n",
              "    }\n",
              "</style>\n",
              "<table border=\"1\" class=\"dataframe\">\n",
              "  <thead>\n",
              "    <tr style=\"text-align: right;\">\n",
              "      <th></th>\n",
              "      <th>PassengerId</th>\n",
              "      <th>Survived</th>\n",
              "      <th>Pclass</th>\n",
              "      <th>Name</th>\n",
              "      <th>Sex</th>\n",
              "      <th>Age</th>\n",
              "      <th>SibSp</th>\n",
              "      <th>Parch</th>\n",
              "      <th>Ticket</th>\n",
              "      <th>Fare</th>\n",
              "      <th>Cabin</th>\n",
              "      <th>Embarked</th>\n",
              "    </tr>\n",
              "  </thead>\n",
              "  <tbody>\n",
              "    <tr>\n",
              "      <th>0</th>\n",
              "      <td>1</td>\n",
              "      <td>0.0</td>\n",
              "      <td>3</td>\n",
              "      <td>Braund, Mr. Owen Harris</td>\n",
              "      <td>male</td>\n",
              "      <td>22.0</td>\n",
              "      <td>1</td>\n",
              "      <td>0</td>\n",
              "      <td>A/5 21171</td>\n",
              "      <td>7.2500</td>\n",
              "      <td>NaN</td>\n",
              "      <td>S</td>\n",
              "    </tr>\n",
              "    <tr>\n",
              "      <th>1</th>\n",
              "      <td>2</td>\n",
              "      <td>1.0</td>\n",
              "      <td>1</td>\n",
              "      <td>Cumings, Mrs. John Bradley (Florence Briggs Th...</td>\n",
              "      <td>female</td>\n",
              "      <td>38.0</td>\n",
              "      <td>1</td>\n",
              "      <td>0</td>\n",
              "      <td>PC 17599</td>\n",
              "      <td>71.2833</td>\n",
              "      <td>C85</td>\n",
              "      <td>C</td>\n",
              "    </tr>\n",
              "    <tr>\n",
              "      <th>2</th>\n",
              "      <td>3</td>\n",
              "      <td>1.0</td>\n",
              "      <td>3</td>\n",
              "      <td>Heikkinen, Miss. Laina</td>\n",
              "      <td>female</td>\n",
              "      <td>26.0</td>\n",
              "      <td>0</td>\n",
              "      <td>0</td>\n",
              "      <td>STON/O2. 3101282</td>\n",
              "      <td>7.9250</td>\n",
              "      <td>NaN</td>\n",
              "      <td>S</td>\n",
              "    </tr>\n",
              "    <tr>\n",
              "      <th>3</th>\n",
              "      <td>4</td>\n",
              "      <td>1.0</td>\n",
              "      <td>1</td>\n",
              "      <td>Futrelle, Mrs. Jacques Heath (Lily May Peel)</td>\n",
              "      <td>female</td>\n",
              "      <td>35.0</td>\n",
              "      <td>1</td>\n",
              "      <td>0</td>\n",
              "      <td>113803</td>\n",
              "      <td>53.1000</td>\n",
              "      <td>C123</td>\n",
              "      <td>S</td>\n",
              "    </tr>\n",
              "    <tr>\n",
              "      <th>4</th>\n",
              "      <td>5</td>\n",
              "      <td>0.0</td>\n",
              "      <td>3</td>\n",
              "      <td>Allen, Mr. William Henry</td>\n",
              "      <td>male</td>\n",
              "      <td>35.0</td>\n",
              "      <td>0</td>\n",
              "      <td>0</td>\n",
              "      <td>373450</td>\n",
              "      <td>8.0500</td>\n",
              "      <td>NaN</td>\n",
              "      <td>S</td>\n",
              "    </tr>\n",
              "    <tr>\n",
              "      <th>...</th>\n",
              "      <td>...</td>\n",
              "      <td>...</td>\n",
              "      <td>...</td>\n",
              "      <td>...</td>\n",
              "      <td>...</td>\n",
              "      <td>...</td>\n",
              "      <td>...</td>\n",
              "      <td>...</td>\n",
              "      <td>...</td>\n",
              "      <td>...</td>\n",
              "      <td>...</td>\n",
              "      <td>...</td>\n",
              "    </tr>\n",
              "    <tr>\n",
              "      <th>1304</th>\n",
              "      <td>1305</td>\n",
              "      <td>NaN</td>\n",
              "      <td>3</td>\n",
              "      <td>Spector, Mr. Woolf</td>\n",
              "      <td>male</td>\n",
              "      <td>NaN</td>\n",
              "      <td>0</td>\n",
              "      <td>0</td>\n",
              "      <td>A.5. 3236</td>\n",
              "      <td>8.0500</td>\n",
              "      <td>NaN</td>\n",
              "      <td>S</td>\n",
              "    </tr>\n",
              "    <tr>\n",
              "      <th>1305</th>\n",
              "      <td>1306</td>\n",
              "      <td>NaN</td>\n",
              "      <td>1</td>\n",
              "      <td>Oliva y Ocana, Dona. Fermina</td>\n",
              "      <td>female</td>\n",
              "      <td>39.0</td>\n",
              "      <td>0</td>\n",
              "      <td>0</td>\n",
              "      <td>PC 17758</td>\n",
              "      <td>108.9000</td>\n",
              "      <td>C105</td>\n",
              "      <td>C</td>\n",
              "    </tr>\n",
              "    <tr>\n",
              "      <th>1306</th>\n",
              "      <td>1307</td>\n",
              "      <td>NaN</td>\n",
              "      <td>3</td>\n",
              "      <td>Saether, Mr. Simon Sivertsen</td>\n",
              "      <td>male</td>\n",
              "      <td>38.5</td>\n",
              "      <td>0</td>\n",
              "      <td>0</td>\n",
              "      <td>SOTON/O.Q. 3101262</td>\n",
              "      <td>7.2500</td>\n",
              "      <td>NaN</td>\n",
              "      <td>S</td>\n",
              "    </tr>\n",
              "    <tr>\n",
              "      <th>1307</th>\n",
              "      <td>1308</td>\n",
              "      <td>NaN</td>\n",
              "      <td>3</td>\n",
              "      <td>Ware, Mr. Frederick</td>\n",
              "      <td>male</td>\n",
              "      <td>NaN</td>\n",
              "      <td>0</td>\n",
              "      <td>0</td>\n",
              "      <td>359309</td>\n",
              "      <td>8.0500</td>\n",
              "      <td>NaN</td>\n",
              "      <td>S</td>\n",
              "    </tr>\n",
              "    <tr>\n",
              "      <th>1308</th>\n",
              "      <td>1309</td>\n",
              "      <td>NaN</td>\n",
              "      <td>3</td>\n",
              "      <td>Peter, Master. Michael J</td>\n",
              "      <td>male</td>\n",
              "      <td>NaN</td>\n",
              "      <td>1</td>\n",
              "      <td>1</td>\n",
              "      <td>2668</td>\n",
              "      <td>22.3583</td>\n",
              "      <td>NaN</td>\n",
              "      <td>C</td>\n",
              "    </tr>\n",
              "  </tbody>\n",
              "</table>\n",
              "<p>1309 rows × 12 columns</p>\n",
              "</div>\n",
              "      <button class=\"colab-df-convert\" onclick=\"convertToInteractive('df-211270d6-8d34-4e80-9880-d123b87e11d3')\"\n",
              "              title=\"Convert this dataframe to an interactive table.\"\n",
              "              style=\"display:none;\">\n",
              "        \n",
              "  <svg xmlns=\"http://www.w3.org/2000/svg\" height=\"24px\"viewBox=\"0 0 24 24\"\n",
              "       width=\"24px\">\n",
              "    <path d=\"M0 0h24v24H0V0z\" fill=\"none\"/>\n",
              "    <path d=\"M18.56 5.44l.94 2.06.94-2.06 2.06-.94-2.06-.94-.94-2.06-.94 2.06-2.06.94zm-11 1L8.5 8.5l.94-2.06 2.06-.94-2.06-.94L8.5 2.5l-.94 2.06-2.06.94zm10 10l.94 2.06.94-2.06 2.06-.94-2.06-.94-.94-2.06-.94 2.06-2.06.94z\"/><path d=\"M17.41 7.96l-1.37-1.37c-.4-.4-.92-.59-1.43-.59-.52 0-1.04.2-1.43.59L10.3 9.45l-7.72 7.72c-.78.78-.78 2.05 0 2.83L4 21.41c.39.39.9.59 1.41.59.51 0 1.02-.2 1.41-.59l7.78-7.78 2.81-2.81c.8-.78.8-2.07 0-2.86zM5.41 20L4 18.59l7.72-7.72 1.47 1.35L5.41 20z\"/>\n",
              "  </svg>\n",
              "      </button>\n",
              "      \n",
              "  <style>\n",
              "    .colab-df-container {\n",
              "      display:flex;\n",
              "      flex-wrap:wrap;\n",
              "      gap: 12px;\n",
              "    }\n",
              "\n",
              "    .colab-df-convert {\n",
              "      background-color: #E8F0FE;\n",
              "      border: none;\n",
              "      border-radius: 50%;\n",
              "      cursor: pointer;\n",
              "      display: none;\n",
              "      fill: #1967D2;\n",
              "      height: 32px;\n",
              "      padding: 0 0 0 0;\n",
              "      width: 32px;\n",
              "    }\n",
              "\n",
              "    .colab-df-convert:hover {\n",
              "      background-color: #E2EBFA;\n",
              "      box-shadow: 0px 1px 2px rgba(60, 64, 67, 0.3), 0px 1px 3px 1px rgba(60, 64, 67, 0.15);\n",
              "      fill: #174EA6;\n",
              "    }\n",
              "\n",
              "    [theme=dark] .colab-df-convert {\n",
              "      background-color: #3B4455;\n",
              "      fill: #D2E3FC;\n",
              "    }\n",
              "\n",
              "    [theme=dark] .colab-df-convert:hover {\n",
              "      background-color: #434B5C;\n",
              "      box-shadow: 0px 1px 3px 1px rgba(0, 0, 0, 0.15);\n",
              "      filter: drop-shadow(0px 1px 2px rgba(0, 0, 0, 0.3));\n",
              "      fill: #FFFFFF;\n",
              "    }\n",
              "  </style>\n",
              "\n",
              "      <script>\n",
              "        const buttonEl =\n",
              "          document.querySelector('#df-211270d6-8d34-4e80-9880-d123b87e11d3 button.colab-df-convert');\n",
              "        buttonEl.style.display =\n",
              "          google.colab.kernel.accessAllowed ? 'block' : 'none';\n",
              "\n",
              "        async function convertToInteractive(key) {\n",
              "          const element = document.querySelector('#df-211270d6-8d34-4e80-9880-d123b87e11d3');\n",
              "          const dataTable =\n",
              "            await google.colab.kernel.invokeFunction('convertToInteractive',\n",
              "                                                     [key], {});\n",
              "          if (!dataTable) return;\n",
              "\n",
              "          const docLinkHtml = 'Like what you see? Visit the ' +\n",
              "            '<a target=\"_blank\" href=https://colab.research.google.com/notebooks/data_table.ipynb>data table notebook</a>'\n",
              "            + ' to learn more about interactive tables.';\n",
              "          element.innerHTML = '';\n",
              "          dataTable['output_type'] = 'display_data';\n",
              "          await google.colab.output.renderOutput(dataTable, element);\n",
              "          const docLink = document.createElement('div');\n",
              "          docLink.innerHTML = docLinkHtml;\n",
              "          element.appendChild(docLink);\n",
              "        }\n",
              "      </script>\n",
              "    </div>\n",
              "  </div>\n",
              "  "
            ]
          },
          "metadata": {},
          "execution_count": 114
        }
      ]
    },
    {
      "cell_type": "code",
      "source": [
        "all_data.info()"
      ],
      "metadata": {
        "colab": {
          "base_uri": "https://localhost:8080/"
        },
        "id": "wqcLo082Q8kL",
        "outputId": "df86323a-d597-4652-d158-e49a89e68217"
      },
      "execution_count": 115,
      "outputs": [
        {
          "output_type": "stream",
          "name": "stdout",
          "text": [
            "<class 'pandas.core.frame.DataFrame'>\n",
            "RangeIndex: 1309 entries, 0 to 1308\n",
            "Data columns (total 12 columns):\n",
            " #   Column       Non-Null Count  Dtype  \n",
            "---  ------       --------------  -----  \n",
            " 0   PassengerId  1309 non-null   int64  \n",
            " 1   Survived     891 non-null    float64\n",
            " 2   Pclass       1309 non-null   int64  \n",
            " 3   Name         1309 non-null   object \n",
            " 4   Sex          1309 non-null   object \n",
            " 5   Age          1046 non-null   float64\n",
            " 6   SibSp        1309 non-null   int64  \n",
            " 7   Parch        1309 non-null   int64  \n",
            " 8   Ticket       1309 non-null   object \n",
            " 9   Fare         1308 non-null   float64\n",
            " 10  Cabin        295 non-null    object \n",
            " 11  Embarked     1307 non-null   object \n",
            "dtypes: float64(3), int64(4), object(5)\n",
            "memory usage: 122.8+ KB\n"
          ]
        }
      ]
    },
    {
      "cell_type": "markdown",
      "source": [
        "피처 요약표를 출력하겠습니다."
      ],
      "metadata": {
        "id": "9UyTX2aTR_bx"
      }
    },
    {
      "cell_type": "code",
      "source": [
        "def feature_table(df):\n",
        "    # 피처 이름과 타입을 출력합니다.     \n",
        "    feature_description = pd.DataFrame(df.dtypes, columns=['type'])\n",
        "    feature_description = feature_description.reset_index()\n",
        "    feature_description = feature_description.rename(columns={'index': 'feature'})\n",
        "    # 결측치 개수를 산출합니다.\n",
        "    feature_description['null count'] = df.isnull().sum().values\n",
        "    # 고윳값 개수를 산출합니다.\n",
        "    feature_description['eigenvalue count'] = df.nunique().values\n",
        "    \n",
        "    # 데이터 크기를 출력합니다.    \n",
        "    print(df.shape)\n",
        "    \n",
        "    return feature_description"
      ],
      "metadata": {
        "id": "IsE4y6geRDY4"
      },
      "execution_count": 116,
      "outputs": []
    },
    {
      "cell_type": "code",
      "source": [
        "feature_table(all_data)"
      ],
      "metadata": {
        "colab": {
          "base_uri": "https://localhost:8080/",
          "height": 443
        },
        "id": "oL3lV8bdRHaT",
        "outputId": "7c1970ae-4363-4843-c6ba-f85c927d36bd"
      },
      "execution_count": 117,
      "outputs": [
        {
          "output_type": "stream",
          "name": "stdout",
          "text": [
            "(1309, 12)\n"
          ]
        },
        {
          "output_type": "execute_result",
          "data": {
            "text/plain": [
              "        feature     type  null count  eigenvalue count\n",
              "0   PassengerId    int64           0              1309\n",
              "1      Survived  float64         418                 2\n",
              "2        Pclass    int64           0                 3\n",
              "3          Name   object           0              1307\n",
              "4           Sex   object           0                 2\n",
              "5           Age  float64         263                98\n",
              "6         SibSp    int64           0                 7\n",
              "7         Parch    int64           0                 8\n",
              "8        Ticket   object           0               929\n",
              "9          Fare  float64           1               281\n",
              "10        Cabin   object        1014               186\n",
              "11     Embarked   object           2                 3"
            ],
            "text/html": [
              "\n",
              "  <div id=\"df-f45e3d8a-2fe0-4e92-ad27-6f6b21cc4bee\">\n",
              "    <div class=\"colab-df-container\">\n",
              "      <div>\n",
              "<style scoped>\n",
              "    .dataframe tbody tr th:only-of-type {\n",
              "        vertical-align: middle;\n",
              "    }\n",
              "\n",
              "    .dataframe tbody tr th {\n",
              "        vertical-align: top;\n",
              "    }\n",
              "\n",
              "    .dataframe thead th {\n",
              "        text-align: right;\n",
              "    }\n",
              "</style>\n",
              "<table border=\"1\" class=\"dataframe\">\n",
              "  <thead>\n",
              "    <tr style=\"text-align: right;\">\n",
              "      <th></th>\n",
              "      <th>feature</th>\n",
              "      <th>type</th>\n",
              "      <th>null count</th>\n",
              "      <th>eigenvalue count</th>\n",
              "    </tr>\n",
              "  </thead>\n",
              "  <tbody>\n",
              "    <tr>\n",
              "      <th>0</th>\n",
              "      <td>PassengerId</td>\n",
              "      <td>int64</td>\n",
              "      <td>0</td>\n",
              "      <td>1309</td>\n",
              "    </tr>\n",
              "    <tr>\n",
              "      <th>1</th>\n",
              "      <td>Survived</td>\n",
              "      <td>float64</td>\n",
              "      <td>418</td>\n",
              "      <td>2</td>\n",
              "    </tr>\n",
              "    <tr>\n",
              "      <th>2</th>\n",
              "      <td>Pclass</td>\n",
              "      <td>int64</td>\n",
              "      <td>0</td>\n",
              "      <td>3</td>\n",
              "    </tr>\n",
              "    <tr>\n",
              "      <th>3</th>\n",
              "      <td>Name</td>\n",
              "      <td>object</td>\n",
              "      <td>0</td>\n",
              "      <td>1307</td>\n",
              "    </tr>\n",
              "    <tr>\n",
              "      <th>4</th>\n",
              "      <td>Sex</td>\n",
              "      <td>object</td>\n",
              "      <td>0</td>\n",
              "      <td>2</td>\n",
              "    </tr>\n",
              "    <tr>\n",
              "      <th>5</th>\n",
              "      <td>Age</td>\n",
              "      <td>float64</td>\n",
              "      <td>263</td>\n",
              "      <td>98</td>\n",
              "    </tr>\n",
              "    <tr>\n",
              "      <th>6</th>\n",
              "      <td>SibSp</td>\n",
              "      <td>int64</td>\n",
              "      <td>0</td>\n",
              "      <td>7</td>\n",
              "    </tr>\n",
              "    <tr>\n",
              "      <th>7</th>\n",
              "      <td>Parch</td>\n",
              "      <td>int64</td>\n",
              "      <td>0</td>\n",
              "      <td>8</td>\n",
              "    </tr>\n",
              "    <tr>\n",
              "      <th>8</th>\n",
              "      <td>Ticket</td>\n",
              "      <td>object</td>\n",
              "      <td>0</td>\n",
              "      <td>929</td>\n",
              "    </tr>\n",
              "    <tr>\n",
              "      <th>9</th>\n",
              "      <td>Fare</td>\n",
              "      <td>float64</td>\n",
              "      <td>1</td>\n",
              "      <td>281</td>\n",
              "    </tr>\n",
              "    <tr>\n",
              "      <th>10</th>\n",
              "      <td>Cabin</td>\n",
              "      <td>object</td>\n",
              "      <td>1014</td>\n",
              "      <td>186</td>\n",
              "    </tr>\n",
              "    <tr>\n",
              "      <th>11</th>\n",
              "      <td>Embarked</td>\n",
              "      <td>object</td>\n",
              "      <td>2</td>\n",
              "      <td>3</td>\n",
              "    </tr>\n",
              "  </tbody>\n",
              "</table>\n",
              "</div>\n",
              "      <button class=\"colab-df-convert\" onclick=\"convertToInteractive('df-f45e3d8a-2fe0-4e92-ad27-6f6b21cc4bee')\"\n",
              "              title=\"Convert this dataframe to an interactive table.\"\n",
              "              style=\"display:none;\">\n",
              "        \n",
              "  <svg xmlns=\"http://www.w3.org/2000/svg\" height=\"24px\"viewBox=\"0 0 24 24\"\n",
              "       width=\"24px\">\n",
              "    <path d=\"M0 0h24v24H0V0z\" fill=\"none\"/>\n",
              "    <path d=\"M18.56 5.44l.94 2.06.94-2.06 2.06-.94-2.06-.94-.94-2.06-.94 2.06-2.06.94zm-11 1L8.5 8.5l.94-2.06 2.06-.94-2.06-.94L8.5 2.5l-.94 2.06-2.06.94zm10 10l.94 2.06.94-2.06 2.06-.94-2.06-.94-.94-2.06-.94 2.06-2.06.94z\"/><path d=\"M17.41 7.96l-1.37-1.37c-.4-.4-.92-.59-1.43-.59-.52 0-1.04.2-1.43.59L10.3 9.45l-7.72 7.72c-.78.78-.78 2.05 0 2.83L4 21.41c.39.39.9.59 1.41.59.51 0 1.02-.2 1.41-.59l7.78-7.78 2.81-2.81c.8-.78.8-2.07 0-2.86zM5.41 20L4 18.59l7.72-7.72 1.47 1.35L5.41 20z\"/>\n",
              "  </svg>\n",
              "      </button>\n",
              "      \n",
              "  <style>\n",
              "    .colab-df-container {\n",
              "      display:flex;\n",
              "      flex-wrap:wrap;\n",
              "      gap: 12px;\n",
              "    }\n",
              "\n",
              "    .colab-df-convert {\n",
              "      background-color: #E8F0FE;\n",
              "      border: none;\n",
              "      border-radius: 50%;\n",
              "      cursor: pointer;\n",
              "      display: none;\n",
              "      fill: #1967D2;\n",
              "      height: 32px;\n",
              "      padding: 0 0 0 0;\n",
              "      width: 32px;\n",
              "    }\n",
              "\n",
              "    .colab-df-convert:hover {\n",
              "      background-color: #E2EBFA;\n",
              "      box-shadow: 0px 1px 2px rgba(60, 64, 67, 0.3), 0px 1px 3px 1px rgba(60, 64, 67, 0.15);\n",
              "      fill: #174EA6;\n",
              "    }\n",
              "\n",
              "    [theme=dark] .colab-df-convert {\n",
              "      background-color: #3B4455;\n",
              "      fill: #D2E3FC;\n",
              "    }\n",
              "\n",
              "    [theme=dark] .colab-df-convert:hover {\n",
              "      background-color: #434B5C;\n",
              "      box-shadow: 0px 1px 3px 1px rgba(0, 0, 0, 0.15);\n",
              "      filter: drop-shadow(0px 1px 2px rgba(0, 0, 0, 0.3));\n",
              "      fill: #FFFFFF;\n",
              "    }\n",
              "  </style>\n",
              "\n",
              "      <script>\n",
              "        const buttonEl =\n",
              "          document.querySelector('#df-f45e3d8a-2fe0-4e92-ad27-6f6b21cc4bee button.colab-df-convert');\n",
              "        buttonEl.style.display =\n",
              "          google.colab.kernel.accessAllowed ? 'block' : 'none';\n",
              "\n",
              "        async function convertToInteractive(key) {\n",
              "          const element = document.querySelector('#df-f45e3d8a-2fe0-4e92-ad27-6f6b21cc4bee');\n",
              "          const dataTable =\n",
              "            await google.colab.kernel.invokeFunction('convertToInteractive',\n",
              "                                                     [key], {});\n",
              "          if (!dataTable) return;\n",
              "\n",
              "          const docLinkHtml = 'Like what you see? Visit the ' +\n",
              "            '<a target=\"_blank\" href=https://colab.research.google.com/notebooks/data_table.ipynb>data table notebook</a>'\n",
              "            + ' to learn more about interactive tables.';\n",
              "          element.innerHTML = '';\n",
              "          dataTable['output_type'] = 'display_data';\n",
              "          await google.colab.output.renderOutput(dataTable, element);\n",
              "          const docLink = document.createElement('div');\n",
              "          docLink.innerHTML = docLinkHtml;\n",
              "          element.appendChild(docLink);\n",
              "        }\n",
              "      </script>\n",
              "    </div>\n",
              "  </div>\n",
              "  "
            ]
          },
          "metadata": {},
          "execution_count": 117
        }
      ]
    },
    {
      "cell_type": "markdown",
      "source": [
        "## **결측치 처리**"
      ],
      "metadata": {
        "id": "J_Bt2MkGmtRg"
      }
    },
    {
      "cell_type": "markdown",
      "source": [
        "### **Age**"
      ],
      "metadata": {
        "id": "2YrC8SH8m6F_"
      }
    },
    {
      "cell_type": "markdown",
      "source": [
        "'Age' 피처의 결측치를 처리하겠습니다. 먼저 'Age' 피처의 값 분포를 확인하겠습니다."
      ],
      "metadata": {
        "id": "7O8FD8bTZl7D"
      }
    },
    {
      "cell_type": "code",
      "source": [
        "import matplotlib as mpl\n",
        "import matplotlib.pyplot as plt\n",
        "import seaborn as sns\n",
        "%matplotlib inline\n",
        "\n",
        "mpl.rc('font', size=20)\n",
        "plt.style.use('seaborn')\n",
        "\n",
        "sns.displot(x='Age', data=all_data)"
      ],
      "metadata": {
        "colab": {
          "base_uri": "https://localhost:8080/",
          "height": 365
        },
        "id": "FMZMCWNrZ76t",
        "outputId": "3ba804c2-a40f-4291-bc18-f475e3f53e7e"
      },
      "execution_count": 118,
      "outputs": [
        {
          "output_type": "execute_result",
          "data": {
            "text/plain": [
              "<seaborn.axisgrid.FacetGrid at 0x7fced4b45b10>"
            ]
          },
          "metadata": {},
          "execution_count": 118
        },
        {
          "output_type": "display_data",
          "data": {
            "text/plain": [
              "<Figure size 360x360 with 1 Axes>"
            ],
            "image/png": "[encoded data removed]"
          },
          "metadata": {}
        }
      ]
    },
    {
      "cell_type": "markdown",
      "source": [
        "평균값으로 채워 보겠습니다. 전체 나이를 평균하여 채우거나 다른 피처와 그룹화하여 산출한 평균으로 채우는 방법이 있습니다. EDA에서 확인하였듯이 'Pclass' 피처(티켓 등급)별로 연령대가 다르다는 점을 확인했습니다. 특히 나이가 많을수록 티켓 등급이 높아지는 경향을 보였습니다. 따라서 'Pclass' 피처별 'Age' 피처의 평균으로 결측치를 채워 보겠습니다. 'Pclass' 피처별 'Age' 피처의 평균을 담은 데이터프레임을 만들겠습니다."
      ],
      "metadata": {
        "id": "-0RyhM82aR8O"
      }
    },
    {
      "cell_type": "code",
      "source": [
        "pclass_age_mean = all_data[['Pclass', 'Age']].groupby('Pclass').mean().reset_index()\n",
        "pclass_age_mean.columns = ['Pclass', 'Age_mean']\n",
        "pclass_age_mean"
      ],
      "metadata": {
        "colab": {
          "base_uri": "https://localhost:8080/",
          "height": 143
        },
        "id": "J7PXADj8ckBd",
        "outputId": "aa1ae3da-687d-424b-ac16-024e2ec18680"
      },
      "execution_count": 119,
      "outputs": [
        {
          "output_type": "execute_result",
          "data": {
            "text/plain": [
              "   Pclass   Age_mean\n",
              "0       1  39.159930\n",
              "1       2  29.506705\n",
              "2       3  24.816367"
            ],
            "text/html": [
              "\n",
              "  <div id=\"df-11a33e55-9537-43c8-b638-21f03ed259e7\">\n",
              "    <div class=\"colab-df-container\">\n",
              "      <div>\n",
              "<style scoped>\n",
              "    .dataframe tbody tr th:only-of-type {\n",
              "        vertical-align: middle;\n",
              "    }\n",
              "\n",
              "    .dataframe tbody tr th {\n",
              "        vertical-align: top;\n",
              "    }\n",
              "\n",
              "    .dataframe thead th {\n",
              "        text-align: right;\n",
              "    }\n",
              "</style>\n",
              "<table border=\"1\" class=\"dataframe\">\n",
              "  <thead>\n",
              "    <tr style=\"text-align: right;\">\n",
              "      <th></th>\n",
              "      <th>Pclass</th>\n",
              "      <th>Age_mean</th>\n",
              "    </tr>\n",
              "  </thead>\n",
              "  <tbody>\n",
              "    <tr>\n",
              "      <th>0</th>\n",
              "      <td>1</td>\n",
              "      <td>39.159930</td>\n",
              "    </tr>\n",
              "    <tr>\n",
              "      <th>1</th>\n",
              "      <td>2</td>\n",
              "      <td>29.506705</td>\n",
              "    </tr>\n",
              "    <tr>\n",
              "      <th>2</th>\n",
              "      <td>3</td>\n",
              "      <td>24.816367</td>\n",
              "    </tr>\n",
              "  </tbody>\n",
              "</table>\n",
              "</div>\n",
              "      <button class=\"colab-df-convert\" onclick=\"convertToInteractive('df-11a33e55-9537-43c8-b638-21f03ed259e7')\"\n",
              "              title=\"Convert this dataframe to an interactive table.\"\n",
              "              style=\"display:none;\">\n",
              "        \n",
              "  <svg xmlns=\"http://www.w3.org/2000/svg\" height=\"24px\"viewBox=\"0 0 24 24\"\n",
              "       width=\"24px\">\n",
              "    <path d=\"M0 0h24v24H0V0z\" fill=\"none\"/>\n",
              "    <path d=\"M18.56 5.44l.94 2.06.94-2.06 2.06-.94-2.06-.94-.94-2.06-.94 2.06-2.06.94zm-11 1L8.5 8.5l.94-2.06 2.06-.94-2.06-.94L8.5 2.5l-.94 2.06-2.06.94zm10 10l.94 2.06.94-2.06 2.06-.94-2.06-.94-.94-2.06-.94 2.06-2.06.94z\"/><path d=\"M17.41 7.96l-1.37-1.37c-.4-.4-.92-.59-1.43-.59-.52 0-1.04.2-1.43.59L10.3 9.45l-7.72 7.72c-.78.78-.78 2.05 0 2.83L4 21.41c.39.39.9.59 1.41.59.51 0 1.02-.2 1.41-.59l7.78-7.78 2.81-2.81c.8-.78.8-2.07 0-2.86zM5.41 20L4 18.59l7.72-7.72 1.47 1.35L5.41 20z\"/>\n",
              "  </svg>\n",
              "      </button>\n",
              "      \n",
              "  <style>\n",
              "    .colab-df-container {\n",
              "      display:flex;\n",
              "      flex-wrap:wrap;\n",
              "      gap: 12px;\n",
              "    }\n",
              "\n",
              "    .colab-df-convert {\n",
              "      background-color: #E8F0FE;\n",
              "      border: none;\n",
              "      border-radius: 50%;\n",
              "      cursor: pointer;\n",
              "      display: none;\n",
              "      fill: #1967D2;\n",
              "      height: 32px;\n",
              "      padding: 0 0 0 0;\n",
              "      width: 32px;\n",
              "    }\n",
              "\n",
              "    .colab-df-convert:hover {\n",
              "      background-color: #E2EBFA;\n",
              "      box-shadow: 0px 1px 2px rgba(60, 64, 67, 0.3), 0px 1px 3px 1px rgba(60, 64, 67, 0.15);\n",
              "      fill: #174EA6;\n",
              "    }\n",
              "\n",
              "    [theme=dark] .colab-df-convert {\n",
              "      background-color: #3B4455;\n",
              "      fill: #D2E3FC;\n",
              "    }\n",
              "\n",
              "    [theme=dark] .colab-df-convert:hover {\n",
              "      background-color: #434B5C;\n",
              "      box-shadow: 0px 1px 3px 1px rgba(0, 0, 0, 0.15);\n",
              "      filter: drop-shadow(0px 1px 2px rgba(0, 0, 0, 0.3));\n",
              "      fill: #FFFFFF;\n",
              "    }\n",
              "  </style>\n",
              "\n",
              "      <script>\n",
              "        const buttonEl =\n",
              "          document.querySelector('#df-11a33e55-9537-43c8-b638-21f03ed259e7 button.colab-df-convert');\n",
              "        buttonEl.style.display =\n",
              "          google.colab.kernel.accessAllowed ? 'block' : 'none';\n",
              "\n",
              "        async function convertToInteractive(key) {\n",
              "          const element = document.querySelector('#df-11a33e55-9537-43c8-b638-21f03ed259e7');\n",
              "          const dataTable =\n",
              "            await google.colab.kernel.invokeFunction('convertToInteractive',\n",
              "                                                     [key], {});\n",
              "          if (!dataTable) return;\n",
              "\n",
              "          const docLinkHtml = 'Like what you see? Visit the ' +\n",
              "            '<a target=\"_blank\" href=https://colab.research.google.com/notebooks/data_table.ipynb>data table notebook</a>'\n",
              "            + ' to learn more about interactive tables.';\n",
              "          element.innerHTML = '';\n",
              "          dataTable['output_type'] = 'display_data';\n",
              "          await google.colab.output.renderOutput(dataTable, element);\n",
              "          const docLink = document.createElement('div');\n",
              "          docLink.innerHTML = docLinkHtml;\n",
              "          element.appendChild(docLink);\n",
              "        }\n",
              "      </script>\n",
              "    </div>\n",
              "  </div>\n",
              "  "
            ]
          },
          "metadata": {},
          "execution_count": 119
        }
      ]
    },
    {
      "cell_type": "markdown",
      "source": [
        "이 데이터프레임을 원본 데이터에 병합하겠습니다."
      ],
      "metadata": {
        "id": "aZgpXodDY0pD"
      }
    },
    {
      "cell_type": "code",
      "source": [
        "all_data = pd.merge(all_data, pclass_age_mean, on='Pclass', how='left')"
      ],
      "metadata": {
        "id": "xgq6AJDwu4eT"
      },
      "execution_count": 120,
      "outputs": []
    },
    {
      "cell_type": "markdown",
      "source": [
        "병합된 평균 피처를 결측치에 채우고 삭제하겠습니다."
      ],
      "metadata": {
        "id": "aJCuwVoVY_Ku"
      }
    },
    {
      "cell_type": "code",
      "source": [
        "all_data.loc[all_data['Age'].isnull(), 'Age'] = all_data['Age_mean']\n",
        "all_data = all_data.drop('Age_mean', axis=1)"
      ],
      "metadata": {
        "id": "IuJ2hGwRdIiB"
      },
      "execution_count": 121,
      "outputs": []
    },
    {
      "cell_type": "markdown",
      "source": [
        "나이 분포를 확인하겠습니다."
      ],
      "metadata": {
        "id": "s8ZvC9lgZIwA"
      }
    },
    {
      "cell_type": "code",
      "source": [
        "sns.displot(x='Age', data=all_data)"
      ],
      "metadata": {
        "colab": {
          "base_uri": "https://localhost:8080/",
          "height": 365
        },
        "id": "5gDFgBAeDuEL",
        "outputId": "b402f6fe-354d-4ea1-974f-f92bbcdfe65d"
      },
      "execution_count": 122,
      "outputs": [
        {
          "output_type": "execute_result",
          "data": {
            "text/plain": [
              "<seaborn.axisgrid.FacetGrid at 0x7fced497f410>"
            ]
          },
          "metadata": {},
          "execution_count": 122
        },
        {
          "output_type": "display_data",
          "data": {
            "text/plain": [
              "<Figure size 360x360 with 1 Axes>"
            ],
            "image/png": "[encoded data removed]"
          },
          "metadata": {}
        }
      ]
    },
    {
      "cell_type": "markdown",
      "source": [
        "### **Fare**"
      ],
      "metadata": {
        "id": "YZ8yzPHum_J6"
      }
    },
    {
      "cell_type": "markdown",
      "source": [
        "'Fare' 피처의 결측치를 처리하겠습니다. 'Fare' 피처는 결측치가 1개이므로 평균값으로 채울 예정입니다. 단, 'Pclass' 피처와 'Fare' 피처간 상관관계가 크므로 전체 'Fare' 피처의 평균값이 아닌 'Pclass' 피처별 'Fare' 피처의 평균값을 채우는 편이 옳다고 판단합니다. 결측치를 채우는 방법은 위에서 평균 나이를 채웠던 방법과 같습니다. 1개만 채우면 되므로 꼭 아래 과정을 거칠 필요는 없습니다."
      ],
      "metadata": {
        "id": "c4aEM36mSyLd"
      }
    },
    {
      "cell_type": "code",
      "source": [
        "pclass_fare_mean = all_data[['Pclass', 'Fare']].groupby('Pclass').mean().reset_index()\n",
        "pclass_fare_mean.columns = ['Pclass', 'Fare_mean']\n",
        "pclass_fare_mean"
      ],
      "metadata": {
        "colab": {
          "base_uri": "https://localhost:8080/",
          "height": 143
        },
        "id": "RLX9TUC9S-X8",
        "outputId": "6479582d-98e9-4fa3-a9f8-7212bc4676bc"
      },
      "execution_count": 123,
      "outputs": [
        {
          "output_type": "execute_result",
          "data": {
            "text/plain": [
              "   Pclass  Fare_mean\n",
              "0       1  87.508992\n",
              "1       2  21.179196\n",
              "2       3  13.302889"
            ],
            "text/html": [
              "\n",
              "  <div id=\"df-2d746403-2650-499a-8b68-6093d102cc90\">\n",
              "    <div class=\"colab-df-container\">\n",
              "      <div>\n",
              "<style scoped>\n",
              "    .dataframe tbody tr th:only-of-type {\n",
              "        vertical-align: middle;\n",
              "    }\n",
              "\n",
              "    .dataframe tbody tr th {\n",
              "        vertical-align: top;\n",
              "    }\n",
              "\n",
              "    .dataframe thead th {\n",
              "        text-align: right;\n",
              "    }\n",
              "</style>\n",
              "<table border=\"1\" class=\"dataframe\">\n",
              "  <thead>\n",
              "    <tr style=\"text-align: right;\">\n",
              "      <th></th>\n",
              "      <th>Pclass</th>\n",
              "      <th>Fare_mean</th>\n",
              "    </tr>\n",
              "  </thead>\n",
              "  <tbody>\n",
              "    <tr>\n",
              "      <th>0</th>\n",
              "      <td>1</td>\n",
              "      <td>87.508992</td>\n",
              "    </tr>\n",
              "    <tr>\n",
              "      <th>1</th>\n",
              "      <td>2</td>\n",
              "      <td>21.179196</td>\n",
              "    </tr>\n",
              "    <tr>\n",
              "      <th>2</th>\n",
              "      <td>3</td>\n",
              "      <td>13.302889</td>\n",
              "    </tr>\n",
              "  </tbody>\n",
              "</table>\n",
              "</div>\n",
              "      <button class=\"colab-df-convert\" onclick=\"convertToInteractive('df-2d746403-2650-499a-8b68-6093d102cc90')\"\n",
              "              title=\"Convert this dataframe to an interactive table.\"\n",
              "              style=\"display:none;\">\n",
              "        \n",
              "  <svg xmlns=\"http://www.w3.org/2000/svg\" height=\"24px\"viewBox=\"0 0 24 24\"\n",
              "       width=\"24px\">\n",
              "    <path d=\"M0 0h24v24H0V0z\" fill=\"none\"/>\n",
              "    <path d=\"M18.56 5.44l.94 2.06.94-2.06 2.06-.94-2.06-.94-.94-2.06-.94 2.06-2.06.94zm-11 1L8.5 8.5l.94-2.06 2.06-.94-2.06-.94L8.5 2.5l-.94 2.06-2.06.94zm10 10l.94 2.06.94-2.06 2.06-.94-2.06-.94-.94-2.06-.94 2.06-2.06.94z\"/><path d=\"M17.41 7.96l-1.37-1.37c-.4-.4-.92-.59-1.43-.59-.52 0-1.04.2-1.43.59L10.3 9.45l-7.72 7.72c-.78.78-.78 2.05 0 2.83L4 21.41c.39.39.9.59 1.41.59.51 0 1.02-.2 1.41-.59l7.78-7.78 2.81-2.81c.8-.78.8-2.07 0-2.86zM5.41 20L4 18.59l7.72-7.72 1.47 1.35L5.41 20z\"/>\n",
              "  </svg>\n",
              "      </button>\n",
              "      \n",
              "  <style>\n",
              "    .colab-df-container {\n",
              "      display:flex;\n",
              "      flex-wrap:wrap;\n",
              "      gap: 12px;\n",
              "    }\n",
              "\n",
              "    .colab-df-convert {\n",
              "      background-color: #E8F0FE;\n",
              "      border: none;\n",
              "      border-radius: 50%;\n",
              "      cursor: pointer;\n",
              "      display: none;\n",
              "      fill: #1967D2;\n",
              "      height: 32px;\n",
              "      padding: 0 0 0 0;\n",
              "      width: 32px;\n",
              "    }\n",
              "\n",
              "    .colab-df-convert:hover {\n",
              "      background-color: #E2EBFA;\n",
              "      box-shadow: 0px 1px 2px rgba(60, 64, 67, 0.3), 0px 1px 3px 1px rgba(60, 64, 67, 0.15);\n",
              "      fill: #174EA6;\n",
              "    }\n",
              "\n",
              "    [theme=dark] .colab-df-convert {\n",
              "      background-color: #3B4455;\n",
              "      fill: #D2E3FC;\n",
              "    }\n",
              "\n",
              "    [theme=dark] .colab-df-convert:hover {\n",
              "      background-color: #434B5C;\n",
              "      box-shadow: 0px 1px 3px 1px rgba(0, 0, 0, 0.15);\n",
              "      filter: drop-shadow(0px 1px 2px rgba(0, 0, 0, 0.3));\n",
              "      fill: #FFFFFF;\n",
              "    }\n",
              "  </style>\n",
              "\n",
              "      <script>\n",
              "        const buttonEl =\n",
              "          document.querySelector('#df-2d746403-2650-499a-8b68-6093d102cc90 button.colab-df-convert');\n",
              "        buttonEl.style.display =\n",
              "          google.colab.kernel.accessAllowed ? 'block' : 'none';\n",
              "\n",
              "        async function convertToInteractive(key) {\n",
              "          const element = document.querySelector('#df-2d746403-2650-499a-8b68-6093d102cc90');\n",
              "          const dataTable =\n",
              "            await google.colab.kernel.invokeFunction('convertToInteractive',\n",
              "                                                     [key], {});\n",
              "          if (!dataTable) return;\n",
              "\n",
              "          const docLinkHtml = 'Like what you see? Visit the ' +\n",
              "            '<a target=\"_blank\" href=https://colab.research.google.com/notebooks/data_table.ipynb>data table notebook</a>'\n",
              "            + ' to learn more about interactive tables.';\n",
              "          element.innerHTML = '';\n",
              "          dataTable['output_type'] = 'display_data';\n",
              "          await google.colab.output.renderOutput(dataTable, element);\n",
              "          const docLink = document.createElement('div');\n",
              "          docLink.innerHTML = docLinkHtml;\n",
              "          element.appendChild(docLink);\n",
              "        }\n",
              "      </script>\n",
              "    </div>\n",
              "  </div>\n",
              "  "
            ]
          },
          "metadata": {},
          "execution_count": 123
        }
      ]
    },
    {
      "cell_type": "markdown",
      "source": [
        "이 데이터프레임을 원본 데이터에 병합하겠습니다."
      ],
      "metadata": {
        "id": "iBxl52Xo4rHa"
      }
    },
    {
      "cell_type": "code",
      "source": [
        "all_data = pd.merge(all_data, pclass_fare_mean, on='Pclass', how='left')"
      ],
      "metadata": {
        "id": "tyLmJTCGUz7N"
      },
      "execution_count": 124,
      "outputs": []
    },
    {
      "cell_type": "markdown",
      "source": [
        "병합된 평균 피처를 결측치에 채우고 삭제하겠습니다."
      ],
      "metadata": {
        "id": "8FpzJJ-K4sqZ"
      }
    },
    {
      "cell_type": "code",
      "source": [
        "all_data.loc[all_data['Fare'].isnull(), 'Fare'] = all_data['Fare_mean']\n",
        "all_data = all_data.drop('Fare_mean', axis=1)"
      ],
      "metadata": {
        "id": "5YhzkMfPWcdU"
      },
      "execution_count": 125,
      "outputs": []
    },
    {
      "cell_type": "markdown",
      "source": [
        "티켓요금 분포를 확인하겠습니다."
      ],
      "metadata": {
        "id": "bdLaoI6z4uzb"
      }
    },
    {
      "cell_type": "code",
      "source": [
        "sns.displot(x='Fare', data=all_data)"
      ],
      "metadata": {
        "colab": {
          "base_uri": "https://localhost:8080/",
          "height": 365
        },
        "id": "L5ztOFbVebVl",
        "outputId": "c39bfea9-a232-4335-ddcb-1e9287b20357"
      },
      "execution_count": 126,
      "outputs": [
        {
          "output_type": "execute_result",
          "data": {
            "text/plain": [
              "<seaborn.axisgrid.FacetGrid at 0x7fced496b3d0>"
            ]
          },
          "metadata": {},
          "execution_count": 126
        },
        {
          "output_type": "display_data",
          "data": {
            "text/plain": [
              "<Figure size 360x360 with 1 Axes>"
            ],
            "image/png": "[encoded data removed]"
          },
          "metadata": {}
        }
      ]
    },
    {
      "cell_type": "markdown",
      "source": [
        "### **Cabin**"
      ],
      "metadata": {
        "id": "pijJQo3Bm1Yn"
      }
    },
    {
      "cell_type": "markdown",
      "source": [
        "EDA에서 'Cabin' 피처는 사용하기 부적절하여 제거하는 편이 낫다는 판단을 내렸습니다. 제거하겠습니다."
      ],
      "metadata": {
        "id": "XT1hQvXcYVA9"
      }
    },
    {
      "cell_type": "code",
      "source": [
        "all_data = all_data.drop('Cabin', axis=1)"
      ],
      "metadata": {
        "id": "uoaYcWfDYukK"
      },
      "execution_count": 127,
      "outputs": []
    },
    {
      "cell_type": "markdown",
      "source": [
        "### **Embarked**"
      ],
      "metadata": {
        "id": "-OpLnSV2nB6u"
      }
    },
    {
      "cell_type": "markdown",
      "source": [
        "마지막으로 'Embarked' 피처는 명목형 피처이므로 최빈값으로 대체해 보겠습니다. 간단한 방법을 사용하겠습니다."
      ],
      "metadata": {
        "id": "WAdgDMFAeq8Z"
      }
    },
    {
      "cell_type": "code",
      "source": [
        "all_data['Embarked'].value_counts()"
      ],
      "metadata": {
        "colab": {
          "base_uri": "https://localhost:8080/"
        },
        "id": "QrivSyALZT6P",
        "outputId": "ce88f0b1-b2a9-4ed7-e448-c0cbf5c8722f"
      },
      "execution_count": 128,
      "outputs": [
        {
          "output_type": "execute_result",
          "data": {
            "text/plain": [
              "S    914\n",
              "C    270\n",
              "Q    123\n",
              "Name: Embarked, dtype: int64"
            ]
          },
          "metadata": {},
          "execution_count": 128
        }
      ]
    },
    {
      "cell_type": "code",
      "source": [
        "all_data.loc[all_data['Embarked'].isnull(), 'Embarked'] = 'S'"
      ],
      "metadata": {
        "id": "v3-hJCQWkqHw"
      },
      "execution_count": 129,
      "outputs": []
    },
    {
      "cell_type": "markdown",
      "source": [
        "## **파생 피처 생성**"
      ],
      "metadata": {
        "id": "XIZcCya_3wb-"
      }
    },
    {
      "cell_type": "markdown",
      "source": [
        "### **Appellation**"
      ],
      "metadata": {
        "id": "nxiBKc-h33lK"
      }
    },
    {
      "cell_type": "markdown",
      "source": [
        "이름에서 호칭을 분리하여 새 피처를 생성하겠습니다. 먼저 고윳값을 확인하겠습니다."
      ],
      "metadata": {
        "id": "qbevy3al64FX"
      }
    },
    {
      "cell_type": "code",
      "source": [
        "all_data['Name'].unique()[:10]"
      ],
      "metadata": {
        "colab": {
          "base_uri": "https://localhost:8080/"
        },
        "id": "kS4F5xoO5OW1",
        "outputId": "566aaf94-59df-41ca-ab5b-d52d7ec3fe6f"
      },
      "execution_count": 130,
      "outputs": [
        {
          "output_type": "execute_result",
          "data": {
            "text/plain": [
              "array(['Braund, Mr. Owen Harris',\n",
              "       'Cumings, Mrs. John Bradley (Florence Briggs Thayer)',\n",
              "       'Heikkinen, Miss. Laina',\n",
              "       'Futrelle, Mrs. Jacques Heath (Lily May Peel)',\n",
              "       'Allen, Mr. William Henry', 'Moran, Mr. James',\n",
              "       'McCarthy, Mr. Timothy J', 'Palsson, Master. Gosta Leonard',\n",
              "       'Johnson, Mrs. Oscar W (Elisabeth Vilhelmina Berg)',\n",
              "       'Nasser, Mrs. Nicholas (Adele Achem)'], dtype=object)"
            ]
          },
          "metadata": {},
          "execution_count": 130
        }
      ]
    },
    {
      "cell_type": "code",
      "source": [
        "print(all_data['Name'].str.extract('([A-Za-z]*)\\.')[0].unique())"
      ],
      "metadata": {
        "colab": {
          "base_uri": "https://localhost:8080/"
        },
        "id": "1KndWTN95WBr",
        "outputId": "410ba558-d873-43db-dd01-558d4699bd16"
      },
      "execution_count": 131,
      "outputs": [
        {
          "output_type": "stream",
          "name": "stdout",
          "text": [
            "['Mr' 'Mrs' 'Miss' 'Master' 'Don' 'Rev' 'Dr' 'Mme' 'Ms' 'Major' 'Lady'\n",
            " 'Sir' 'Mlle' 'Col' 'Capt' 'Countess' 'Jonkheer' 'Dona']\n"
          ]
        }
      ]
    },
    {
      "cell_type": "markdown",
      "source": [
        "EDA에서 발견하지 못한 레이블 'Dona'가 테스트 세트에 존재하는 것으로 확인됩니다. 'Dona'의 의미는 아래와 같습니다.\n",
        "\n",
        "- Dona: 포르투갈의 귀부인 -> 'Mrs'\n",
        "\n",
        "호칭을 분리하여 새 피처를 생성하겠습니다."
      ],
      "metadata": {
        "id": "dx7qnIjA7RJL"
      }
    },
    {
      "cell_type": "code",
      "source": [
        "all_data['Appellation'] = all_data['Name'].str.extract('([A-Za-z]*)\\.')"
      ],
      "metadata": {
        "id": "JMvza9iu5YbU"
      },
      "execution_count": 132,
      "outputs": []
    },
    {
      "cell_type": "code",
      "source": [
        "pd.crosstab(all_data['Sex'], all_data['Appellation'], margins=True)"
      ],
      "metadata": {
        "colab": {
          "base_uri": "https://localhost:8080/",
          "height": 175
        },
        "id": "8czRXYb15c8_",
        "outputId": "34a3ddeb-4c1c-4862-f3d0-348aa7602ef2"
      },
      "execution_count": 133,
      "outputs": [
        {
          "output_type": "execute_result",
          "data": {
            "text/plain": [
              "Appellation  Capt  Col  Countess  Don  Dona  Dr  Jonkheer  Lady  Major  \\\n",
              "Sex                                                                      \n",
              "female          0    0         1    0     1   1         0     1      0   \n",
              "male            1    4         0    1     0   7         1     0      2   \n",
              "All             1    4         1    1     1   8         1     1      2   \n",
              "\n",
              "Appellation  Master  Miss  Mlle  Mme   Mr  Mrs  Ms  Rev  Sir   All  \n",
              "Sex                                                                 \n",
              "female            0   260     2    1    0  197   2    0    0   466  \n",
              "male             61     0     0    0  757    0   0    8    1   843  \n",
              "All              61   260     2    1  757  197   2    8    1  1309  "
            ],
            "text/html": [
              "\n",
              "  <div id=\"df-73bd738c-e846-4b1c-afcc-91a6ab8f7dca\">\n",
              "    <div class=\"colab-df-container\">\n",
              "      <div>\n",
              "<style scoped>\n",
              "    .dataframe tbody tr th:only-of-type {\n",
              "        vertical-align: middle;\n",
              "    }\n",
              "\n",
              "    .dataframe tbody tr th {\n",
              "        vertical-align: top;\n",
              "    }\n",
              "\n",
              "    .dataframe thead th {\n",
              "        text-align: right;\n",
              "    }\n",
              "</style>\n",
              "<table border=\"1\" class=\"dataframe\">\n",
              "  <thead>\n",
              "    <tr style=\"text-align: right;\">\n",
              "      <th>Appellation</th>\n",
              "      <th>Capt</th>\n",
              "      <th>Col</th>\n",
              "      <th>Countess</th>\n",
              "      <th>Don</th>\n",
              "      <th>Dona</th>\n",
              "      <th>Dr</th>\n",
              "      <th>Jonkheer</th>\n",
              "      <th>Lady</th>\n",
              "      <th>Major</th>\n",
              "      <th>Master</th>\n",
              "      <th>Miss</th>\n",
              "      <th>Mlle</th>\n",
              "      <th>Mme</th>\n",
              "      <th>Mr</th>\n",
              "      <th>Mrs</th>\n",
              "      <th>Ms</th>\n",
              "      <th>Rev</th>\n",
              "      <th>Sir</th>\n",
              "      <th>All</th>\n",
              "    </tr>\n",
              "    <tr>\n",
              "      <th>Sex</th>\n",
              "      <th></th>\n",
              "      <th></th>\n",
              "      <th></th>\n",
              "      <th></th>\n",
              "      <th></th>\n",
              "      <th></th>\n",
              "      <th></th>\n",
              "      <th></th>\n",
              "      <th></th>\n",
              "      <th></th>\n",
              "      <th></th>\n",
              "      <th></th>\n",
              "      <th></th>\n",
              "      <th></th>\n",
              "      <th></th>\n",
              "      <th></th>\n",
              "      <th></th>\n",
              "      <th></th>\n",
              "      <th></th>\n",
              "    </tr>\n",
              "  </thead>\n",
              "  <tbody>\n",
              "    <tr>\n",
              "      <th>female</th>\n",
              "      <td>0</td>\n",
              "      <td>0</td>\n",
              "      <td>1</td>\n",
              "      <td>0</td>\n",
              "      <td>1</td>\n",
              "      <td>1</td>\n",
              "      <td>0</td>\n",
              "      <td>1</td>\n",
              "      <td>0</td>\n",
              "      <td>0</td>\n",
              "      <td>260</td>\n",
              "      <td>2</td>\n",
              "      <td>1</td>\n",
              "      <td>0</td>\n",
              "      <td>197</td>\n",
              "      <td>2</td>\n",
              "      <td>0</td>\n",
              "      <td>0</td>\n",
              "      <td>466</td>\n",
              "    </tr>\n",
              "    <tr>\n",
              "      <th>male</th>\n",
              "      <td>1</td>\n",
              "      <td>4</td>\n",
              "      <td>0</td>\n",
              "      <td>1</td>\n",
              "      <td>0</td>\n",
              "      <td>7</td>\n",
              "      <td>1</td>\n",
              "      <td>0</td>\n",
              "      <td>2</td>\n",
              "      <td>61</td>\n",
              "      <td>0</td>\n",
              "      <td>0</td>\n",
              "      <td>0</td>\n",
              "      <td>757</td>\n",
              "      <td>0</td>\n",
              "      <td>0</td>\n",
              "      <td>8</td>\n",
              "      <td>1</td>\n",
              "      <td>843</td>\n",
              "    </tr>\n",
              "    <tr>\n",
              "      <th>All</th>\n",
              "      <td>1</td>\n",
              "      <td>4</td>\n",
              "      <td>1</td>\n",
              "      <td>1</td>\n",
              "      <td>1</td>\n",
              "      <td>8</td>\n",
              "      <td>1</td>\n",
              "      <td>1</td>\n",
              "      <td>2</td>\n",
              "      <td>61</td>\n",
              "      <td>260</td>\n",
              "      <td>2</td>\n",
              "      <td>1</td>\n",
              "      <td>757</td>\n",
              "      <td>197</td>\n",
              "      <td>2</td>\n",
              "      <td>8</td>\n",
              "      <td>1</td>\n",
              "      <td>1309</td>\n",
              "    </tr>\n",
              "  </tbody>\n",
              "</table>\n",
              "</div>\n",
              "      <button class=\"colab-df-convert\" onclick=\"convertToInteractive('df-73bd738c-e846-4b1c-afcc-91a6ab8f7dca')\"\n",
              "              title=\"Convert this dataframe to an interactive table.\"\n",
              "              style=\"display:none;\">\n",
              "        \n",
              "  <svg xmlns=\"http://www.w3.org/2000/svg\" height=\"24px\"viewBox=\"0 0 24 24\"\n",
              "       width=\"24px\">\n",
              "    <path d=\"M0 0h24v24H0V0z\" fill=\"none\"/>\n",
              "    <path d=\"M18.56 5.44l.94 2.06.94-2.06 2.06-.94-2.06-.94-.94-2.06-.94 2.06-2.06.94zm-11 1L8.5 8.5l.94-2.06 2.06-.94-2.06-.94L8.5 2.5l-.94 2.06-2.06.94zm10 10l.94 2.06.94-2.06 2.06-.94-2.06-.94-.94-2.06-.94 2.06-2.06.94z\"/><path d=\"M17.41 7.96l-1.37-1.37c-.4-.4-.92-.59-1.43-.59-.52 0-1.04.2-1.43.59L10.3 9.45l-7.72 7.72c-.78.78-.78 2.05 0 2.83L4 21.41c.39.39.9.59 1.41.59.51 0 1.02-.2 1.41-.59l7.78-7.78 2.81-2.81c.8-.78.8-2.07 0-2.86zM5.41 20L4 18.59l7.72-7.72 1.47 1.35L5.41 20z\"/>\n",
              "  </svg>\n",
              "      </button>\n",
              "      \n",
              "  <style>\n",
              "    .colab-df-container {\n",
              "      display:flex;\n",
              "      flex-wrap:wrap;\n",
              "      gap: 12px;\n",
              "    }\n",
              "\n",
              "    .colab-df-convert {\n",
              "      background-color: #E8F0FE;\n",
              "      border: none;\n",
              "      border-radius: 50%;\n",
              "      cursor: pointer;\n",
              "      display: none;\n",
              "      fill: #1967D2;\n",
              "      height: 32px;\n",
              "      padding: 0 0 0 0;\n",
              "      width: 32px;\n",
              "    }\n",
              "\n",
              "    .colab-df-convert:hover {\n",
              "      background-color: #E2EBFA;\n",
              "      box-shadow: 0px 1px 2px rgba(60, 64, 67, 0.3), 0px 1px 3px 1px rgba(60, 64, 67, 0.15);\n",
              "      fill: #174EA6;\n",
              "    }\n",
              "\n",
              "    [theme=dark] .colab-df-convert {\n",
              "      background-color: #3B4455;\n",
              "      fill: #D2E3FC;\n",
              "    }\n",
              "\n",
              "    [theme=dark] .colab-df-convert:hover {\n",
              "      background-color: #434B5C;\n",
              "      box-shadow: 0px 1px 3px 1px rgba(0, 0, 0, 0.15);\n",
              "      filter: drop-shadow(0px 1px 2px rgba(0, 0, 0, 0.3));\n",
              "      fill: #FFFFFF;\n",
              "    }\n",
              "  </style>\n",
              "\n",
              "      <script>\n",
              "        const buttonEl =\n",
              "          document.querySelector('#df-73bd738c-e846-4b1c-afcc-91a6ab8f7dca button.colab-df-convert');\n",
              "        buttonEl.style.display =\n",
              "          google.colab.kernel.accessAllowed ? 'block' : 'none';\n",
              "\n",
              "        async function convertToInteractive(key) {\n",
              "          const element = document.querySelector('#df-73bd738c-e846-4b1c-afcc-91a6ab8f7dca');\n",
              "          const dataTable =\n",
              "            await google.colab.kernel.invokeFunction('convertToInteractive',\n",
              "                                                     [key], {});\n",
              "          if (!dataTable) return;\n",
              "\n",
              "          const docLinkHtml = 'Like what you see? Visit the ' +\n",
              "            '<a target=\"_blank\" href=https://colab.research.google.com/notebooks/data_table.ipynb>data table notebook</a>'\n",
              "            + ' to learn more about interactive tables.';\n",
              "          element.innerHTML = '';\n",
              "          dataTable['output_type'] = 'display_data';\n",
              "          await google.colab.output.renderOutput(dataTable, element);\n",
              "          const docLink = document.createElement('div');\n",
              "          docLink.innerHTML = docLinkHtml;\n",
              "          element.appendChild(docLink);\n",
              "        }\n",
              "      </script>\n",
              "    </div>\n",
              "  </div>\n",
              "  "
            ]
          },
          "metadata": {},
          "execution_count": 133
        }
      ]
    },
    {
      "cell_type": "markdown",
      "source": [
        "'Dona' 레이블은 여성 1명입니다. 'Mrs'로 치환하기에 적합합니다. 모든 레이블을 치환하겠습니다. "
      ],
      "metadata": {
        "id": "tKPnVSiD8Ymn"
      }
    },
    {
      "cell_type": "code",
      "source": [
        "original_label = ['Capt', 'Col', 'Countess', 'Don', 'Dona', 'Dr', 'Jonkheer', 'Lady', 'Major', 'Mlle', 'Mme', 'Ms', 'Rev', 'Sir']\n",
        "replace_label = ['Mr', 'Mr', 'Mrs', 'Mr', 'Mrs', 'Mr', 'Mr', 'Mrs', 'Mr', 'Miss', 'Mrs', 'Miss', 'Mr', 'Mr']\n",
        "all_data['Appellation'].replace(original_label, replace_label, inplace=True)"
      ],
      "metadata": {
        "id": "2LpYcQxR5iuk"
      },
      "execution_count": 134,
      "outputs": []
    },
    {
      "cell_type": "code",
      "source": [
        "plt.figure(figsize=(8, 6))\n",
        "sns.countplot(x='Appellation', hue='Sex', data=all_data)\n",
        "plt.xticks(rotation=45)"
      ],
      "metadata": {
        "colab": {
          "base_uri": "https://localhost:8080/",
          "height": 424
        },
        "id": "Pue3tQfT9MvP",
        "outputId": "68c1b299-0da7-4cce-fca9-b9f72056d264"
      },
      "execution_count": 135,
      "outputs": [
        {
          "output_type": "execute_result",
          "data": {
            "text/plain": [
              "(array([0, 1, 2, 3]), <a list of 4 Text major ticklabel objects>)"
            ]
          },
          "metadata": {},
          "execution_count": 135
        },
        {
          "output_type": "display_data",
          "data": {
            "text/plain": [
              "<Figure size 576x432 with 1 Axes>"
            ],
            "image/png": "[encoded data removed]"
          },
          "metadata": {}
        }
      ]
    },
    {
      "cell_type": "code",
      "source": [
        "all_data.groupby('Appellation').mean()"
      ],
      "metadata": {
        "colab": {
          "base_uri": "https://localhost:8080/",
          "height": 206
        },
        "id": "zHvUpxwH9YlY",
        "outputId": "c96c2129-6203-4c16-a23e-6881aa22babd"
      },
      "execution_count": 136,
      "outputs": [
        {
          "output_type": "execute_result",
          "data": {
            "text/plain": [
              "             PassengerId  Survived    Pclass        Age     SibSp     Parch  \\\n",
              "Appellation                                                                   \n",
              "Master        658.852459  0.575000  2.655738   8.018212  2.049180  1.377049   \n",
              "Miss          617.928030  0.702703  2.337121  22.492231  0.655303  0.496212   \n",
              "Mr            658.936143  0.161710  2.348659  31.594625  0.286079  0.159642   \n",
              "Mrs           687.189055  0.796875  1.920398  36.075462  0.651741  0.815920   \n",
              "\n",
              "                  Fare  \n",
              "Appellation             \n",
              "Master       36.008195  \n",
              "Miss         42.566747  \n",
              "Mr           25.370250  \n",
              "Mrs          51.068470  "
            ],
            "text/html": [
              "\n",
              "  <div id=\"df-cbd8b35a-561b-496f-96e1-969422344e55\">\n",
              "    <div class=\"colab-df-container\">\n",
              "      <div>\n",
              "<style scoped>\n",
              "    .dataframe tbody tr th:only-of-type {\n",
              "        vertical-align: middle;\n",
              "    }\n",
              "\n",
              "    .dataframe tbody tr th {\n",
              "        vertical-align: top;\n",
              "    }\n",
              "\n",
              "    .dataframe thead th {\n",
              "        text-align: right;\n",
              "    }\n",
              "</style>\n",
              "<table border=\"1\" class=\"dataframe\">\n",
              "  <thead>\n",
              "    <tr style=\"text-align: right;\">\n",
              "      <th></th>\n",
              "      <th>PassengerId</th>\n",
              "      <th>Survived</th>\n",
              "      <th>Pclass</th>\n",
              "      <th>Age</th>\n",
              "      <th>SibSp</th>\n",
              "      <th>Parch</th>\n",
              "      <th>Fare</th>\n",
              "    </tr>\n",
              "    <tr>\n",
              "      <th>Appellation</th>\n",
              "      <th></th>\n",
              "      <th></th>\n",
              "      <th></th>\n",
              "      <th></th>\n",
              "      <th></th>\n",
              "      <th></th>\n",
              "      <th></th>\n",
              "    </tr>\n",
              "  </thead>\n",
              "  <tbody>\n",
              "    <tr>\n",
              "      <th>Master</th>\n",
              "      <td>658.852459</td>\n",
              "      <td>0.575000</td>\n",
              "      <td>2.655738</td>\n",
              "      <td>8.018212</td>\n",
              "      <td>2.049180</td>\n",
              "      <td>1.377049</td>\n",
              "      <td>36.008195</td>\n",
              "    </tr>\n",
              "    <tr>\n",
              "      <th>Miss</th>\n",
              "      <td>617.928030</td>\n",
              "      <td>0.702703</td>\n",
              "      <td>2.337121</td>\n",
              "      <td>22.492231</td>\n",
              "      <td>0.655303</td>\n",
              "      <td>0.496212</td>\n",
              "      <td>42.566747</td>\n",
              "    </tr>\n",
              "    <tr>\n",
              "      <th>Mr</th>\n",
              "      <td>658.936143</td>\n",
              "      <td>0.161710</td>\n",
              "      <td>2.348659</td>\n",
              "      <td>31.594625</td>\n",
              "      <td>0.286079</td>\n",
              "      <td>0.159642</td>\n",
              "      <td>25.370250</td>\n",
              "    </tr>\n",
              "    <tr>\n",
              "      <th>Mrs</th>\n",
              "      <td>687.189055</td>\n",
              "      <td>0.796875</td>\n",
              "      <td>1.920398</td>\n",
              "      <td>36.075462</td>\n",
              "      <td>0.651741</td>\n",
              "      <td>0.815920</td>\n",
              "      <td>51.068470</td>\n",
              "    </tr>\n",
              "  </tbody>\n",
              "</table>\n",
              "</div>\n",
              "      <button class=\"colab-df-convert\" onclick=\"convertToInteractive('df-cbd8b35a-561b-496f-96e1-969422344e55')\"\n",
              "              title=\"Convert this dataframe to an interactive table.\"\n",
              "              style=\"display:none;\">\n",
              "        \n",
              "  <svg xmlns=\"http://www.w3.org/2000/svg\" height=\"24px\"viewBox=\"0 0 24 24\"\n",
              "       width=\"24px\">\n",
              "    <path d=\"M0 0h24v24H0V0z\" fill=\"none\"/>\n",
              "    <path d=\"M18.56 5.44l.94 2.06.94-2.06 2.06-.94-2.06-.94-.94-2.06-.94 2.06-2.06.94zm-11 1L8.5 8.5l.94-2.06 2.06-.94-2.06-.94L8.5 2.5l-.94 2.06-2.06.94zm10 10l.94 2.06.94-2.06 2.06-.94-2.06-.94-.94-2.06-.94 2.06-2.06.94z\"/><path d=\"M17.41 7.96l-1.37-1.37c-.4-.4-.92-.59-1.43-.59-.52 0-1.04.2-1.43.59L10.3 9.45l-7.72 7.72c-.78.78-.78 2.05 0 2.83L4 21.41c.39.39.9.59 1.41.59.51 0 1.02-.2 1.41-.59l7.78-7.78 2.81-2.81c.8-.78.8-2.07 0-2.86zM5.41 20L4 18.59l7.72-7.72 1.47 1.35L5.41 20z\"/>\n",
              "  </svg>\n",
              "      </button>\n",
              "      \n",
              "  <style>\n",
              "    .colab-df-container {\n",
              "      display:flex;\n",
              "      flex-wrap:wrap;\n",
              "      gap: 12px;\n",
              "    }\n",
              "\n",
              "    .colab-df-convert {\n",
              "      background-color: #E8F0FE;\n",
              "      border: none;\n",
              "      border-radius: 50%;\n",
              "      cursor: pointer;\n",
              "      display: none;\n",
              "      fill: #1967D2;\n",
              "      height: 32px;\n",
              "      padding: 0 0 0 0;\n",
              "      width: 32px;\n",
              "    }\n",
              "\n",
              "    .colab-df-convert:hover {\n",
              "      background-color: #E2EBFA;\n",
              "      box-shadow: 0px 1px 2px rgba(60, 64, 67, 0.3), 0px 1px 3px 1px rgba(60, 64, 67, 0.15);\n",
              "      fill: #174EA6;\n",
              "    }\n",
              "\n",
              "    [theme=dark] .colab-df-convert {\n",
              "      background-color: #3B4455;\n",
              "      fill: #D2E3FC;\n",
              "    }\n",
              "\n",
              "    [theme=dark] .colab-df-convert:hover {\n",
              "      background-color: #434B5C;\n",
              "      box-shadow: 0px 1px 3px 1px rgba(0, 0, 0, 0.15);\n",
              "      filter: drop-shadow(0px 1px 2px rgba(0, 0, 0, 0.3));\n",
              "      fill: #FFFFFF;\n",
              "    }\n",
              "  </style>\n",
              "\n",
              "      <script>\n",
              "        const buttonEl =\n",
              "          document.querySelector('#df-cbd8b35a-561b-496f-96e1-969422344e55 button.colab-df-convert');\n",
              "        buttonEl.style.display =\n",
              "          google.colab.kernel.accessAllowed ? 'block' : 'none';\n",
              "\n",
              "        async function convertToInteractive(key) {\n",
              "          const element = document.querySelector('#df-cbd8b35a-561b-496f-96e1-969422344e55');\n",
              "          const dataTable =\n",
              "            await google.colab.kernel.invokeFunction('convertToInteractive',\n",
              "                                                     [key], {});\n",
              "          if (!dataTable) return;\n",
              "\n",
              "          const docLinkHtml = 'Like what you see? Visit the ' +\n",
              "            '<a target=\"_blank\" href=https://colab.research.google.com/notebooks/data_table.ipynb>data table notebook</a>'\n",
              "            + ' to learn more about interactive tables.';\n",
              "          element.innerHTML = '';\n",
              "          dataTable['output_type'] = 'display_data';\n",
              "          await google.colab.output.renderOutput(dataTable, element);\n",
              "          const docLink = document.createElement('div');\n",
              "          docLink.innerHTML = docLinkHtml;\n",
              "          element.appendChild(docLink);\n",
              "        }\n",
              "      </script>\n",
              "    </div>\n",
              "  </div>\n",
              "  "
            ]
          },
          "metadata": {},
          "execution_count": 136
        }
      ]
    },
    {
      "cell_type": "markdown",
      "source": [
        "### **Sum_sibsp_parch**"
      ],
      "metadata": {
        "id": "OK-wj0jz940L"
      }
    },
    {
      "cell_type": "markdown",
      "source": [
        "총 가족수를 나타내는 피처를 생성하겠습니다."
      ],
      "metadata": {
        "id": "BOEXnyCh-b39"
      }
    },
    {
      "cell_type": "code",
      "source": [
        "all_data['Sum_sibsp_parch'] = all_data['SibSp'] + all_data['Parch']"
      ],
      "metadata": {
        "id": "NcsvPeEc-H1c"
      },
      "execution_count": 137,
      "outputs": []
    },
    {
      "cell_type": "code",
      "source": [
        "sns.countplot(x='Sum_sibsp_parch', data=all_data)"
      ],
      "metadata": {
        "colab": {
          "base_uri": "https://localhost:8080/",
          "height": 378
        },
        "id": "2t4CdJa6_Ahe",
        "outputId": "a70044c8-2390-4a06-bb15-8e9f46fa464b"
      },
      "execution_count": 138,
      "outputs": [
        {
          "output_type": "execute_result",
          "data": {
            "text/plain": [
              "<matplotlib.axes._subplots.AxesSubplot at 0x7fced46cb9d0>"
            ]
          },
          "metadata": {},
          "execution_count": 138
        },
        {
          "output_type": "display_data",
          "data": {
            "text/plain": [
              "<Figure size 576x396 with 1 Axes>"
            ],
            "image/png": "[encoded data removed]"
          },
          "metadata": {}
        }
      ]
    },
    {
      "cell_type": "code",
      "source": [
        "all_data.groupby('Sum_sibsp_parch').mean()"
      ],
      "metadata": {
        "colab": {
          "base_uri": "https://localhost:8080/",
          "height": 363
        },
        "id": "oAZPg8ih_MSm",
        "outputId": "0a2ac7e6-73da-472c-8cb2-e0b7ef0762e4"
      },
      "execution_count": 139,
      "outputs": [
        {
          "output_type": "execute_result",
          "data": {
            "text/plain": [
              "                 PassengerId  Survived    Pclass        Age     SibSp  \\\n",
              "Sum_sibsp_parch                                                         \n",
              "0                 663.743038  0.303538  2.394937  30.492801  0.000000   \n",
              "1                 626.148936  0.552795  1.893617  32.177998  0.778723   \n",
              "2                 687.635220  0.578431  2.226415  26.372047  0.893082   \n",
              "3                 708.139535  0.724138  2.116279  19.925011  1.302326   \n",
              "4                 594.272727  0.200000  2.500000  24.003720  2.000000   \n",
              "5                 466.240000  0.136364  2.480000  20.120000  2.800000   \n",
              "6                 547.375000  0.333333  3.000000  17.375000  3.250000   \n",
              "7                 553.250000  0.000000  3.000000  18.000000  4.000000   \n",
              "10                745.000000  0.000000  3.000000  23.878516  6.727273   \n",
              "\n",
              "                    Parch       Fare  \n",
              "Sum_sibsp_parch                       \n",
              "0                0.000000  21.749475  \n",
              "1                0.221277  51.228106  \n",
              "2                1.106918  41.566062  \n",
              "3                1.697674  51.186047  \n",
              "4                2.000000  80.067432  \n",
              "5                2.200000  87.081000  \n",
              "6                2.750000  28.396094  \n",
              "7                3.000000  46.900000  \n",
              "10               3.272727  69.550000  "
            ],
            "text/html": [
              "\n",
              "  <div id=\"df-99a4f566-2de7-45b9-90b2-a7cf9e65c067\">\n",
              "    <div class=\"colab-df-container\">\n",
              "      <div>\n",
              "<style scoped>\n",
              "    .dataframe tbody tr th:only-of-type {\n",
              "        vertical-align: middle;\n",
              "    }\n",
              "\n",
              "    .dataframe tbody tr th {\n",
              "        vertical-align: top;\n",
              "    }\n",
              "\n",
              "    .dataframe thead th {\n",
              "        text-align: right;\n",
              "    }\n",
              "</style>\n",
              "<table border=\"1\" class=\"dataframe\">\n",
              "  <thead>\n",
              "    <tr style=\"text-align: right;\">\n",
              "      <th></th>\n",
              "      <th>PassengerId</th>\n",
              "      <th>Survived</th>\n",
              "      <th>Pclass</th>\n",
              "      <th>Age</th>\n",
              "      <th>SibSp</th>\n",
              "      <th>Parch</th>\n",
              "      <th>Fare</th>\n",
              "    </tr>\n",
              "    <tr>\n",
              "      <th>Sum_sibsp_parch</th>\n",
              "      <th></th>\n",
              "      <th></th>\n",
              "      <th></th>\n",
              "      <th></th>\n",
              "      <th></th>\n",
              "      <th></th>\n",
              "      <th></th>\n",
              "    </tr>\n",
              "  </thead>\n",
              "  <tbody>\n",
              "    <tr>\n",
              "      <th>0</th>\n",
              "      <td>663.743038</td>\n",
              "      <td>0.303538</td>\n",
              "      <td>2.394937</td>\n",
              "      <td>30.492801</td>\n",
              "      <td>0.000000</td>\n",
              "      <td>0.000000</td>\n",
              "      <td>21.749475</td>\n",
              "    </tr>\n",
              "    <tr>\n",
              "      <th>1</th>\n",
              "      <td>626.148936</td>\n",
              "      <td>0.552795</td>\n",
              "      <td>1.893617</td>\n",
              "      <td>32.177998</td>\n",
              "      <td>0.778723</td>\n",
              "      <td>0.221277</td>\n",
              "      <td>51.228106</td>\n",
              "    </tr>\n",
              "    <tr>\n",
              "      <th>2</th>\n",
              "      <td>687.635220</td>\n",
              "      <td>0.578431</td>\n",
              "      <td>2.226415</td>\n",
              "      <td>26.372047</td>\n",
              "      <td>0.893082</td>\n",
              "      <td>1.106918</td>\n",
              "      <td>41.566062</td>\n",
              "    </tr>\n",
              "    <tr>\n",
              "      <th>3</th>\n",
              "      <td>708.139535</td>\n",
              "      <td>0.724138</td>\n",
              "      <td>2.116279</td>\n",
              "      <td>19.925011</td>\n",
              "      <td>1.302326</td>\n",
              "      <td>1.697674</td>\n",
              "      <td>51.186047</td>\n",
              "    </tr>\n",
              "    <tr>\n",
              "      <th>4</th>\n",
              "      <td>594.272727</td>\n",
              "      <td>0.200000</td>\n",
              "      <td>2.500000</td>\n",
              "      <td>24.003720</td>\n",
              "      <td>2.000000</td>\n",
              "      <td>2.000000</td>\n",
              "      <td>80.067432</td>\n",
              "    </tr>\n",
              "    <tr>\n",
              "      <th>5</th>\n",
              "      <td>466.240000</td>\n",
              "      <td>0.136364</td>\n",
              "      <td>2.480000</td>\n",
              "      <td>20.120000</td>\n",
              "      <td>2.800000</td>\n",
              "      <td>2.200000</td>\n",
              "      <td>87.081000</td>\n",
              "    </tr>\n",
              "    <tr>\n",
              "      <th>6</th>\n",
              "      <td>547.375000</td>\n",
              "      <td>0.333333</td>\n",
              "      <td>3.000000</td>\n",
              "      <td>17.375000</td>\n",
              "      <td>3.250000</td>\n",
              "      <td>2.750000</td>\n",
              "      <td>28.396094</td>\n",
              "    </tr>\n",
              "    <tr>\n",
              "      <th>7</th>\n",
              "      <td>553.250000</td>\n",
              "      <td>0.000000</td>\n",
              "      <td>3.000000</td>\n",
              "      <td>18.000000</td>\n",
              "      <td>4.000000</td>\n",
              "      <td>3.000000</td>\n",
              "      <td>46.900000</td>\n",
              "    </tr>\n",
              "    <tr>\n",
              "      <th>10</th>\n",
              "      <td>745.000000</td>\n",
              "      <td>0.000000</td>\n",
              "      <td>3.000000</td>\n",
              "      <td>23.878516</td>\n",
              "      <td>6.727273</td>\n",
              "      <td>3.272727</td>\n",
              "      <td>69.550000</td>\n",
              "    </tr>\n",
              "  </tbody>\n",
              "</table>\n",
              "</div>\n",
              "      <button class=\"colab-df-convert\" onclick=\"convertToInteractive('df-99a4f566-2de7-45b9-90b2-a7cf9e65c067')\"\n",
              "              title=\"Convert this dataframe to an interactive table.\"\n",
              "              style=\"display:none;\">\n",
              "        \n",
              "  <svg xmlns=\"http://www.w3.org/2000/svg\" height=\"24px\"viewBox=\"0 0 24 24\"\n",
              "       width=\"24px\">\n",
              "    <path d=\"M0 0h24v24H0V0z\" fill=\"none\"/>\n",
              "    <path d=\"M18.56 5.44l.94 2.06.94-2.06 2.06-.94-2.06-.94-.94-2.06-.94 2.06-2.06.94zm-11 1L8.5 8.5l.94-2.06 2.06-.94-2.06-.94L8.5 2.5l-.94 2.06-2.06.94zm10 10l.94 2.06.94-2.06 2.06-.94-2.06-.94-.94-2.06-.94 2.06-2.06.94z\"/><path d=\"M17.41 7.96l-1.37-1.37c-.4-.4-.92-.59-1.43-.59-.52 0-1.04.2-1.43.59L10.3 9.45l-7.72 7.72c-.78.78-.78 2.05 0 2.83L4 21.41c.39.39.9.59 1.41.59.51 0 1.02-.2 1.41-.59l7.78-7.78 2.81-2.81c.8-.78.8-2.07 0-2.86zM5.41 20L4 18.59l7.72-7.72 1.47 1.35L5.41 20z\"/>\n",
              "  </svg>\n",
              "      </button>\n",
              "      \n",
              "  <style>\n",
              "    .colab-df-container {\n",
              "      display:flex;\n",
              "      flex-wrap:wrap;\n",
              "      gap: 12px;\n",
              "    }\n",
              "\n",
              "    .colab-df-convert {\n",
              "      background-color: #E8F0FE;\n",
              "      border: none;\n",
              "      border-radius: 50%;\n",
              "      cursor: pointer;\n",
              "      display: none;\n",
              "      fill: #1967D2;\n",
              "      height: 32px;\n",
              "      padding: 0 0 0 0;\n",
              "      width: 32px;\n",
              "    }\n",
              "\n",
              "    .colab-df-convert:hover {\n",
              "      background-color: #E2EBFA;\n",
              "      box-shadow: 0px 1px 2px rgba(60, 64, 67, 0.3), 0px 1px 3px 1px rgba(60, 64, 67, 0.15);\n",
              "      fill: #174EA6;\n",
              "    }\n",
              "\n",
              "    [theme=dark] .colab-df-convert {\n",
              "      background-color: #3B4455;\n",
              "      fill: #D2E3FC;\n",
              "    }\n",
              "\n",
              "    [theme=dark] .colab-df-convert:hover {\n",
              "      background-color: #434B5C;\n",
              "      box-shadow: 0px 1px 3px 1px rgba(0, 0, 0, 0.15);\n",
              "      filter: drop-shadow(0px 1px 2px rgba(0, 0, 0, 0.3));\n",
              "      fill: #FFFFFF;\n",
              "    }\n",
              "  </style>\n",
              "\n",
              "      <script>\n",
              "        const buttonEl =\n",
              "          document.querySelector('#df-99a4f566-2de7-45b9-90b2-a7cf9e65c067 button.colab-df-convert');\n",
              "        buttonEl.style.display =\n",
              "          google.colab.kernel.accessAllowed ? 'block' : 'none';\n",
              "\n",
              "        async function convertToInteractive(key) {\n",
              "          const element = document.querySelector('#df-99a4f566-2de7-45b9-90b2-a7cf9e65c067');\n",
              "          const dataTable =\n",
              "            await google.colab.kernel.invokeFunction('convertToInteractive',\n",
              "                                                     [key], {});\n",
              "          if (!dataTable) return;\n",
              "\n",
              "          const docLinkHtml = 'Like what you see? Visit the ' +\n",
              "            '<a target=\"_blank\" href=https://colab.research.google.com/notebooks/data_table.ipynb>data table notebook</a>'\n",
              "            + ' to learn more about interactive tables.';\n",
              "          element.innerHTML = '';\n",
              "          dataTable['output_type'] = 'display_data';\n",
              "          await google.colab.output.renderOutput(dataTable, element);\n",
              "          const docLink = document.createElement('div');\n",
              "          docLink.innerHTML = docLinkHtml;\n",
              "          element.appendChild(docLink);\n",
              "        }\n",
              "      </script>\n",
              "    </div>\n",
              "  </div>\n",
              "  "
            ]
          },
          "metadata": {},
          "execution_count": 139
        }
      ]
    },
    {
      "cell_type": "markdown",
      "source": [
        "## **불필요한 피처 처리**"
      ],
      "metadata": {
        "id": "-j-NsTNdpW_H"
      }
    },
    {
      "cell_type": "markdown",
      "source": [
        "분석에 불필요한 피처는 'PassengerId', 'Name', 'SibSp', 'Parch', 'Ticket'입니다. 제거하겠습니다."
      ],
      "metadata": {
        "id": "LhDuwIAspZWw"
      }
    },
    {
      "cell_type": "code",
      "source": [
        "drop_feature_list = ['PassengerId', 'Name', 'SibSp', 'Parch', 'Ticket']\n",
        "all_data = all_data.drop(drop_feature_list, axis=1)"
      ],
      "metadata": {
        "id": "SdAh9pUtpqYR"
      },
      "execution_count": 140,
      "outputs": []
    },
    {
      "cell_type": "code",
      "source": [
        "all_data.head(3)"
      ],
      "metadata": {
        "colab": {
          "base_uri": "https://localhost:8080/",
          "height": 143
        },
        "id": "tzL02e-nqtQA",
        "outputId": "2826f165-9f50-47cd-f7fa-2f16928395df"
      },
      "execution_count": 141,
      "outputs": [
        {
          "output_type": "execute_result",
          "data": {
            "text/plain": [
              "   Survived  Pclass     Sex   Age     Fare Embarked Appellation  \\\n",
              "0       0.0       3    male  22.0   7.2500        S          Mr   \n",
              "1       1.0       1  female  38.0  71.2833        C         Mrs   \n",
              "2       1.0       3  female  26.0   7.9250        S        Miss   \n",
              "\n",
              "   Sum_sibsp_parch  \n",
              "0                1  \n",
              "1                1  \n",
              "2                0  "
            ],
            "text/html": [
              "\n",
              "  <div id=\"df-93d1d907-558b-42dd-9e99-43f7fa3ca79f\">\n",
              "    <div class=\"colab-df-container\">\n",
              "      <div>\n",
              "<style scoped>\n",
              "    .dataframe tbody tr th:only-of-type {\n",
              "        vertical-align: middle;\n",
              "    }\n",
              "\n",
              "    .dataframe tbody tr th {\n",
              "        vertical-align: top;\n",
              "    }\n",
              "\n",
              "    .dataframe thead th {\n",
              "        text-align: right;\n",
              "    }\n",
              "</style>\n",
              "<table border=\"1\" class=\"dataframe\">\n",
              "  <thead>\n",
              "    <tr style=\"text-align: right;\">\n",
              "      <th></th>\n",
              "      <th>Survived</th>\n",
              "      <th>Pclass</th>\n",
              "      <th>Sex</th>\n",
              "      <th>Age</th>\n",
              "      <th>Fare</th>\n",
              "      <th>Embarked</th>\n",
              "      <th>Appellation</th>\n",
              "      <th>Sum_sibsp_parch</th>\n",
              "    </tr>\n",
              "  </thead>\n",
              "  <tbody>\n",
              "    <tr>\n",
              "      <th>0</th>\n",
              "      <td>0.0</td>\n",
              "      <td>3</td>\n",
              "      <td>male</td>\n",
              "      <td>22.0</td>\n",
              "      <td>7.2500</td>\n",
              "      <td>S</td>\n",
              "      <td>Mr</td>\n",
              "      <td>1</td>\n",
              "    </tr>\n",
              "    <tr>\n",
              "      <th>1</th>\n",
              "      <td>1.0</td>\n",
              "      <td>1</td>\n",
              "      <td>female</td>\n",
              "      <td>38.0</td>\n",
              "      <td>71.2833</td>\n",
              "      <td>C</td>\n",
              "      <td>Mrs</td>\n",
              "      <td>1</td>\n",
              "    </tr>\n",
              "    <tr>\n",
              "      <th>2</th>\n",
              "      <td>1.0</td>\n",
              "      <td>3</td>\n",
              "      <td>female</td>\n",
              "      <td>26.0</td>\n",
              "      <td>7.9250</td>\n",
              "      <td>S</td>\n",
              "      <td>Miss</td>\n",
              "      <td>0</td>\n",
              "    </tr>\n",
              "  </tbody>\n",
              "</table>\n",
              "</div>\n",
              "      <button class=\"colab-df-convert\" onclick=\"convertToInteractive('df-93d1d907-558b-42dd-9e99-43f7fa3ca79f')\"\n",
              "              title=\"Convert this dataframe to an interactive table.\"\n",
              "              style=\"display:none;\">\n",
              "        \n",
              "  <svg xmlns=\"http://www.w3.org/2000/svg\" height=\"24px\"viewBox=\"0 0 24 24\"\n",
              "       width=\"24px\">\n",
              "    <path d=\"M0 0h24v24H0V0z\" fill=\"none\"/>\n",
              "    <path d=\"M18.56 5.44l.94 2.06.94-2.06 2.06-.94-2.06-.94-.94-2.06-.94 2.06-2.06.94zm-11 1L8.5 8.5l.94-2.06 2.06-.94-2.06-.94L8.5 2.5l-.94 2.06-2.06.94zm10 10l.94 2.06.94-2.06 2.06-.94-2.06-.94-.94-2.06-.94 2.06-2.06.94z\"/><path d=\"M17.41 7.96l-1.37-1.37c-.4-.4-.92-.59-1.43-.59-.52 0-1.04.2-1.43.59L10.3 9.45l-7.72 7.72c-.78.78-.78 2.05 0 2.83L4 21.41c.39.39.9.59 1.41.59.51 0 1.02-.2 1.41-.59l7.78-7.78 2.81-2.81c.8-.78.8-2.07 0-2.86zM5.41 20L4 18.59l7.72-7.72 1.47 1.35L5.41 20z\"/>\n",
              "  </svg>\n",
              "      </button>\n",
              "      \n",
              "  <style>\n",
              "    .colab-df-container {\n",
              "      display:flex;\n",
              "      flex-wrap:wrap;\n",
              "      gap: 12px;\n",
              "    }\n",
              "\n",
              "    .colab-df-convert {\n",
              "      background-color: #E8F0FE;\n",
              "      border: none;\n",
              "      border-radius: 50%;\n",
              "      cursor: pointer;\n",
              "      display: none;\n",
              "      fill: #1967D2;\n",
              "      height: 32px;\n",
              "      padding: 0 0 0 0;\n",
              "      width: 32px;\n",
              "    }\n",
              "\n",
              "    .colab-df-convert:hover {\n",
              "      background-color: #E2EBFA;\n",
              "      box-shadow: 0px 1px 2px rgba(60, 64, 67, 0.3), 0px 1px 3px 1px rgba(60, 64, 67, 0.15);\n",
              "      fill: #174EA6;\n",
              "    }\n",
              "\n",
              "    [theme=dark] .colab-df-convert {\n",
              "      background-color: #3B4455;\n",
              "      fill: #D2E3FC;\n",
              "    }\n",
              "\n",
              "    [theme=dark] .colab-df-convert:hover {\n",
              "      background-color: #434B5C;\n",
              "      box-shadow: 0px 1px 3px 1px rgba(0, 0, 0, 0.15);\n",
              "      filter: drop-shadow(0px 1px 2px rgba(0, 0, 0, 0.3));\n",
              "      fill: #FFFFFF;\n",
              "    }\n",
              "  </style>\n",
              "\n",
              "      <script>\n",
              "        const buttonEl =\n",
              "          document.querySelector('#df-93d1d907-558b-42dd-9e99-43f7fa3ca79f button.colab-df-convert');\n",
              "        buttonEl.style.display =\n",
              "          google.colab.kernel.accessAllowed ? 'block' : 'none';\n",
              "\n",
              "        async function convertToInteractive(key) {\n",
              "          const element = document.querySelector('#df-93d1d907-558b-42dd-9e99-43f7fa3ca79f');\n",
              "          const dataTable =\n",
              "            await google.colab.kernel.invokeFunction('convertToInteractive',\n",
              "                                                     [key], {});\n",
              "          if (!dataTable) return;\n",
              "\n",
              "          const docLinkHtml = 'Like what you see? Visit the ' +\n",
              "            '<a target=\"_blank\" href=https://colab.research.google.com/notebooks/data_table.ipynb>data table notebook</a>'\n",
              "            + ' to learn more about interactive tables.';\n",
              "          element.innerHTML = '';\n",
              "          dataTable['output_type'] = 'display_data';\n",
              "          await google.colab.output.renderOutput(dataTable, element);\n",
              "          const docLink = document.createElement('div');\n",
              "          docLink.innerHTML = docLinkHtml;\n",
              "          element.appendChild(docLink);\n",
              "        }\n",
              "      </script>\n",
              "    </div>\n",
              "  </div>\n",
              "  "
            ]
          },
          "metadata": {},
          "execution_count": 141
        }
      ]
    },
    {
      "cell_type": "markdown",
      "source": [
        "## **카테고리 변수 처리**"
      ],
      "metadata": {
        "id": "RQAW7W9VqGuf"
      }
    },
    {
      "cell_type": "markdown",
      "source": [
        "### **원-핫 인코딩**"
      ],
      "metadata": {
        "id": "YwePKLw6rWrv"
      }
    },
    {
      "cell_type": "markdown",
      "source": [
        "'Sex'와 'Embarked' 피처는 명목형 피처이므로 원-핫 인코딩을 적용할 필요가 있습니다. `OneHotEncoder()` 클래스는 명목형 피처와 순위형 피처 모두 원-핫 인코딩을 수행하고, 판다스의 `get_dummies()` 메서드는 명목형 피처만 원-핫 인코딩을 수행합니다. 일단 `get_dummies()` 메서드를 적용하며, 'Pclass' 피처는 변환을 거치지 않고 그대로 사용해 보겠습니다."
      ],
      "metadata": {
        "id": "td9Qesucru4F"
      }
    },
    {
      "cell_type": "code",
      "source": [
        "all_data_ohe = pd.get_dummies(all_data)\n",
        "all_data_ohe.info()"
      ],
      "metadata": {
        "colab": {
          "base_uri": "https://localhost:8080/"
        },
        "id": "UQJPWpMBYFvK",
        "outputId": "ba6c7d9d-0373-4c5a-b026-85b5087579fb"
      },
      "execution_count": 142,
      "outputs": [
        {
          "output_type": "stream",
          "name": "stdout",
          "text": [
            "<class 'pandas.core.frame.DataFrame'>\n",
            "Int64Index: 1309 entries, 0 to 1308\n",
            "Data columns (total 14 columns):\n",
            " #   Column              Non-Null Count  Dtype  \n",
            "---  ------              --------------  -----  \n",
            " 0   Survived            891 non-null    float64\n",
            " 1   Pclass              1309 non-null   int64  \n",
            " 2   Age                 1309 non-null   float64\n",
            " 3   Fare                1309 non-null   float64\n",
            " 4   Sum_sibsp_parch     1309 non-null   int64  \n",
            " 5   Sex_female          1309 non-null   uint8  \n",
            " 6   Sex_male            1309 non-null   uint8  \n",
            " 7   Embarked_C          1309 non-null   uint8  \n",
            " 8   Embarked_Q          1309 non-null   uint8  \n",
            " 9   Embarked_S          1309 non-null   uint8  \n",
            " 10  Appellation_Master  1309 non-null   uint8  \n",
            " 11  Appellation_Miss    1309 non-null   uint8  \n",
            " 12  Appellation_Mr      1309 non-null   uint8  \n",
            " 13  Appellation_Mrs     1309 non-null   uint8  \n",
            "dtypes: float64(3), int64(2), uint8(9)\n",
            "memory usage: 105.2 KB\n"
          ]
        }
      ]
    },
    {
      "cell_type": "markdown",
      "source": [
        "이상 베이스라인 모델링을 위한 피처 엔지니어링을 마칩니다. 추후 성능 개선 과정에서 추가로 더 수행할 방법이 있을지 생각해 보겠습니다. "
      ],
      "metadata": {
        "id": "ub34VdG7bIra"
      }
    },
    {
      "cell_type": "markdown",
      "source": [
        "# **모델 훈련**"
      ],
      "metadata": {
        "id": "V1la0XrPbcbC"
      }
    },
    {
      "cell_type": "markdown",
      "source": [
        "## **데이터 분리**"
      ],
      "metadata": {
        "id": "k9uRRzy5cr7H"
      }
    },
    {
      "cell_type": "markdown",
      "source": [
        "모든 데이터 세트를 훈련 세트와 테스트 세트로 나누고 타깃값을 따로 분리하겠습니다."
      ],
      "metadata": {
        "id": "G7smQygdb4_k"
      }
    },
    {
      "cell_type": "code",
      "source": [
        "# 훈련 세트 개수를 지정합니다.\n",
        "train_num = len(train)\n",
        "\n",
        "X_train = all_data_ohe[:train_num].drop('Survived', axis=1) # 훈련 세트를 지정합니다.\n",
        "X_test = all_data_ohe[train_num:] # 테스트 세트를 지정합니다.\n",
        "y = train['Survived'] # 타깃값을 지정합니다."
      ],
      "metadata": {
        "id": "t-vG07TkcGwj"
      },
      "execution_count": 143,
      "outputs": []
    },
    {
      "cell_type": "code",
      "source": [
        "from lightgbm import LGBMClassifier\n",
        "from sklearn.model_selection import train_test_split\n",
        "from sklearn.model_selection import KFold\n",
        "\n",
        "X_train, X_valid, y_train, y_valid = train_test_split(X_train, y, test_size=0.2)"
      ],
      "metadata": {
        "id": "PPHXKGi7qmpw"
      },
      "execution_count": 145,
      "outputs": []
    },
    {
      "cell_type": "markdown",
      "source": [
        "## **모델 훈련**"
      ],
      "metadata": {
        "id": "IcsRpY9OJTDn"
      }
    },
    {
      "cell_type": "markdown",
      "source": [
        "모델을 훈련하겠습니다. 기본 파라미터로 진행합니다."
      ],
      "metadata": {
        "id": "bJBrX53QKY5S"
      }
    },
    {
      "cell_type": "code",
      "source": [
        "lgbm_clf = LGBMClassifier()\n",
        "lgbm_clf.fit(X_train, y_train)"
      ],
      "metadata": {
        "colab": {
          "base_uri": "https://localhost:8080/"
        },
        "id": "tsLWG57kGZkC",
        "outputId": "6b75864e-7a7d-42a4-9801-d062a3a11075"
      },
      "execution_count": 146,
      "outputs": [
        {
          "output_type": "execute_result",
          "data": {
            "text/plain": [
              "LGBMClassifier()"
            ]
          },
          "metadata": {},
          "execution_count": 146
        }
      ]
    },
    {
      "cell_type": "markdown",
      "source": [
        "## **피처 중요도 확인**"
      ],
      "metadata": {
        "id": "IWB_FaZ0Mj0O"
      }
    },
    {
      "cell_type": "markdown",
      "source": [
        "피처 중요도를 확인해 보겠습니다."
      ],
      "metadata": {
        "id": "TPAWlt5BKe-e"
      }
    },
    {
      "cell_type": "code",
      "source": [
        "lgbm_clf.feature_importances_"
      ],
      "metadata": {
        "colab": {
          "base_uri": "https://localhost:8080/"
        },
        "id": "B4qZa_Ru7Cky",
        "outputId": "ac8b9eff-caab-44b4-9a65-71fac8c4efb4"
      },
      "execution_count": 152,
      "outputs": [
        {
          "output_type": "execute_result",
          "data": {
            "text/plain": [
              "array([  95,  950, 1179,  148,   25,   11,   42,   25,   47,    6,   27,\n",
              "         56,   12])"
            ]
          },
          "metadata": {},
          "execution_count": 152
        }
      ]
    },
    {
      "cell_type": "code",
      "source": [
        "from lightgbm import plot_importance\n",
        "plot_importance(lgbm_clf)"
      ],
      "metadata": {
        "colab": {
          "base_uri": "https://localhost:8080/",
          "height": 393
        },
        "id": "wUCglHJJMS0O",
        "outputId": "91c8b1a9-c5a7-4fb8-9ba1-584babf85a0d"
      },
      "execution_count": 158,
      "outputs": [
        {
          "output_type": "execute_result",
          "data": {
            "text/plain": [
              "<matplotlib.axes._subplots.AxesSubplot at 0x7fced4597810>"
            ]
          },
          "metadata": {},
          "execution_count": 158
        },
        {
          "output_type": "display_data",
          "data": {
            "text/plain": [
              "<Figure size 576x396 with 1 Axes>"
            ],
            "image/png": "[encoded data removed]"
          },
          "metadata": {}
        }
      ]
    },
    {
      "cell_type": "markdown",
      "source": [
        "## **성능 검증**"
      ],
      "metadata": {
        "id": "T3eoq9zHJojn"
      }
    },
    {
      "cell_type": "markdown",
      "source": [
        "성능을 검증해 보겠습니다."
      ],
      "metadata": {
        "id": "LE7ZgCMAKijP"
      }
    },
    {
      "cell_type": "code",
      "source": [
        "y_pred = lgbm_clf.predict(X_valid, num_iteration=lgbm_clf.best_iteration_)"
      ],
      "metadata": {
        "id": "-PiRMlEN7pSW"
      },
      "execution_count": 156,
      "outputs": []
    },
    {
      "cell_type": "code",
      "source": [
        "from sklearn.metrics import accuracy_score\n",
        "\n",
        "accuracy_score(y_valid, np.round(y_pred))"
      ],
      "metadata": {
        "colab": {
          "base_uri": "https://localhost:8080/"
        },
        "id": "OLjWxKdM7zcp",
        "outputId": "eb17fe2a-e747-4076-a6ba-895be8f75a41"
      },
      "execution_count": 157,
      "outputs": [
        {
          "output_type": "execute_result",
          "data": {
            "text/plain": [
              "0.8268156424581006"
            ]
          },
          "metadata": {},
          "execution_count": 157
        }
      ]
    },
    {
      "cell_type": "markdown",
      "source": [
        "\n",
        "\n",
        "---\n",
        "\n",
        "업데이트 중\n",
        "\n",
        "---\n",
        "\n"
      ],
      "metadata": {
        "id": "OLNRO_bOl-WS"
      }
    }
  ]
}