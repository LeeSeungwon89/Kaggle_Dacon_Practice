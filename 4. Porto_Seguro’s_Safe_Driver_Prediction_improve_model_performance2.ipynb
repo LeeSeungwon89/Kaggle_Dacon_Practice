{
  "nbformat": 4,
  "nbformat_minor": 0,
  "metadata": {
    "colab": {
      "provenance": [],
      "toc_visible": true,
      "authorship_tag": "ABX9TyM8RP492u4d/4iJjuemWEhC",
      "include_colab_link": true
    },
    "kernelspec": {
      "name": "python3",
      "display_name": "Python 3"
    },
    "language_info": {
      "name": "python"
    }
  },
  "cells": [
    {
      "cell_type": "markdown",
      "metadata": {
        "id": "view-in-github",
        "colab_type": "text"
      },
      "source": [
        "<a href=\"https://colab.research.google.com/github/LeeSeungwon89/Kaggle_Dacon_Practice/blob/main/4.%20Porto_Seguro%E2%80%99s_Safe_Driver_Prediction_improve_model_performance2.ipynb\" target=\"_parent\"><img src=\"https://colab.research.google.com/assets/colab-badge.svg\" alt=\"Open In Colab\"/></a>"
      ]
    },
    {
      "cell_type": "code",
      "execution_count": null,
      "metadata": {
        "id": "9m9nsEewr9Da"
      },
      "outputs": [],
      "source": [
        "!pip install kaggle\n",
        "from google.colab import files\n",
        "files.upload()"
      ]
    },
    {
      "cell_type": "code",
      "execution_count": 2,
      "metadata": {
        "colab": {
          "base_uri": "https://localhost:8080/"
        },
        "id": "vBIPCwbvsN7X",
        "outputId": "1c72e3d4-4b84-4d5f-e97e-05ecc9e375ac"
      },
      "outputs": [
        {
          "output_type": "stream",
          "name": "stdout",
          "text": [
            "kaggle.json\n"
          ]
        }
      ],
      "source": [
        "ls -1ha kaggle.json"
      ]
    },
    {
      "cell_type": "code",
      "execution_count": 3,
      "metadata": {
        "id": "6abqZTxNsO-J"
      },
      "outputs": [],
      "source": [
        "!mkdir -p ~/.kaggle\n",
        "!cp kaggle.json ~/.kaggle/\n",
        "\n",
        "# Permission Warning이 발생하지 않도록 해줍니다.\n",
        "!chmod 600 ~/.kaggle/kaggle.json\n",
        "\n",
        "# 참가한 대회 리스트를 확인합니다.\n",
        "# !kaggle competitions list"
      ]
    },
    {
      "cell_type": "code",
      "source": [
        "!kaggle competitions download -c porto-seguro-safe-driver-prediction"
      ],
      "metadata": {
        "colab": {
          "base_uri": "https://localhost:8080/"
        },
        "id": "holj1pkjUC_e",
        "outputId": "cb0347ec-c6db-4708-f3ca-bef6ce4643db"
      },
      "execution_count": 4,
      "outputs": [
        {
          "output_type": "stream",
          "name": "stdout",
          "text": [
            "Downloading porto-seguro-safe-driver-prediction.zip to /content\n",
            " 88% 67.0M/76.5M [00:00<00:00, 79.2MB/s]\n",
            "100% 76.5M/76.5M [00:00<00:00, 89.0MB/s]\n"
          ]
        }
      ]
    },
    {
      "cell_type": "code",
      "execution_count": 5,
      "metadata": {
        "colab": {
          "base_uri": "https://localhost:8080/"
        },
        "id": "6L3WGetdsUXQ",
        "outputId": "4f0da562-4ed6-4828-cd88-0313a3e9e55f"
      },
      "outputs": [
        {
          "output_type": "stream",
          "name": "stdout",
          "text": [
            "kaggle.json  porto-seguro-safe-driver-prediction.zip  sample_data\n"
          ]
        }
      ],
      "source": [
        "!ls"
      ]
    },
    {
      "cell_type": "code",
      "execution_count": 6,
      "metadata": {
        "colab": {
          "base_uri": "https://localhost:8080/"
        },
        "id": "w0dL3PSNsWBG",
        "outputId": "fdb880ad-bd3f-47df-a9a3-c6c79f80250a"
      },
      "outputs": [
        {
          "output_type": "stream",
          "name": "stdout",
          "text": [
            "Archive:  porto-seguro-safe-driver-prediction.zip\n",
            "  inflating: sample_submission.csv   \n",
            "  inflating: test.csv                \n",
            "  inflating: train.csv               \n"
          ]
        }
      ],
      "source": [
        "!unzip porto-seguro-safe-driver-prediction.zip"
      ]
    },
    {
      "cell_type": "markdown",
      "source": [
        "# **1. 피처 엔지니어링**"
      ],
      "metadata": {
        "id": "HmBzVsHDnhon"
      }
    },
    {
      "cell_type": "markdown",
      "source": [
        "이번 성능 개선 챕터에서는 파생 피처를 생성해 성능을 측정해 보겠습니다. 하이퍼파라미터 튜닝은 다음 성능 개선 챕터에서 수행하겠습니다."
      ],
      "metadata": {
        "id": "KnlH6i_Rd66q"
      }
    },
    {
      "cell_type": "markdown",
      "source": [
        "## **1.1. 데이터 준비**"
      ],
      "metadata": {
        "id": "LcsNE64_X0C_"
      }
    },
    {
      "cell_type": "markdown",
      "source": [
        "데이터를 준비하겠습니다."
      ],
      "metadata": {
        "id": "vwclhVC0AA1y"
      }
    },
    {
      "cell_type": "code",
      "source": [
        "import numpy as np\n",
        "import pandas as pd\n",
        "\n",
        "# 최대 행렬 수를 설정합니다.\n",
        "pd.set_option('display.max_column', 80)\n",
        "pd.set_option('display.max_rows', 80)\n",
        "\n",
        "train = pd.read_csv('train.csv')\n",
        "test = pd.read_csv('test.csv')\n",
        "submission = pd.read_csv('sample_submission.csv')"
      ],
      "metadata": {
        "id": "f4EIr1n8X4N4"
      },
      "execution_count": 7,
      "outputs": []
    },
    {
      "cell_type": "code",
      "source": [
        "all_data = pd.concat([train, test], ignore_index=True) # 인덱스를 순차형으로 지정합니다.\n",
        "all_data"
      ],
      "metadata": {
        "colab": {
          "base_uri": "https://localhost:8080/",
          "height": 488
        },
        "id": "z-tsG74wYSed",
        "outputId": "9b8cafca-77bb-43b2-ad7e-900973c4e80d"
      },
      "execution_count": 8,
      "outputs": [
        {
          "output_type": "execute_result",
          "data": {
            "text/plain": [
              "              id  target  ps_ind_01  ps_ind_02_cat  ps_ind_03  ps_ind_04_cat  \\\n",
              "0              7     0.0          2              2          5              1   \n",
              "1              9     0.0          1              1          7              0   \n",
              "2             13     0.0          5              4          9              1   \n",
              "3             16     0.0          0              1          2              0   \n",
              "4             17     0.0          0              2          0              1   \n",
              "...          ...     ...        ...            ...        ...            ...   \n",
              "1488023  1488022     NaN          0              1          6              0   \n",
              "1488024  1488023     NaN          5              3          5              1   \n",
              "1488025  1488024     NaN          0              1          5              0   \n",
              "1488026  1488025     NaN          6              1          5              1   \n",
              "1488027  1488026     NaN          7              1          4              1   \n",
              "\n",
              "         ps_ind_05_cat  ps_ind_06_bin  ps_ind_07_bin  ps_ind_08_bin  \\\n",
              "0                    0              0              1              0   \n",
              "1                    0              0              0              1   \n",
              "2                    0              0              0              1   \n",
              "3                    0              1              0              0   \n",
              "4                    0              1              0              0   \n",
              "...                ...            ...            ...            ...   \n",
              "1488023              0              0              1              0   \n",
              "1488024              0              0              0              1   \n",
              "1488025              0              1              0              0   \n",
              "1488026              0              0              0              0   \n",
              "1488027              0              0              0              0   \n",
              "\n",
              "         ps_ind_09_bin  ps_ind_10_bin  ps_ind_11_bin  ps_ind_12_bin  \\\n",
              "0                    0              0              0              0   \n",
              "1                    0              0              0              0   \n",
              "2                    0              0              0              0   \n",
              "3                    0              0              0              0   \n",
              "4                    0              0              0              0   \n",
              "...                ...            ...            ...            ...   \n",
              "1488023              0              0              0              0   \n",
              "1488024              0              0              0              0   \n",
              "1488025              0              0              0              0   \n",
              "1488026              1              0              0              0   \n",
              "1488027              1              0              0              0   \n",
              "\n",
              "         ps_ind_13_bin  ps_ind_14  ps_ind_15  ps_ind_16_bin  ps_ind_17_bin  \\\n",
              "0                    0          0         11              0              1   \n",
              "1                    0          0          3              0              0   \n",
              "2                    0          0         12              1              0   \n",
              "3                    0          0          8              1              0   \n",
              "4                    0          0          9              1              0   \n",
              "...                ...        ...        ...            ...            ...   \n",
              "1488023              0          0          2              0              0   \n",
              "1488024              0          0         11              1              0   \n",
              "1488025              0          0          5              0              0   \n",
              "1488026              0          0         13              1              0   \n",
              "1488027              0          0         12              1              0   \n",
              "\n",
              "         ps_ind_18_bin  ps_reg_01  ps_reg_02  ps_reg_03  ps_car_01_cat  \\\n",
              "0                    0        0.7        0.2   0.718070             10   \n",
              "1                    1        0.8        0.4   0.766078             11   \n",
              "2                    0        0.0        0.0  -1.000000              7   \n",
              "3                    0        0.9        0.2   0.580948              7   \n",
              "4                    0        0.7        0.6   0.840759             11   \n",
              "...                ...        ...        ...        ...            ...   \n",
              "1488023              1        0.5        0.3   1.048809              0   \n",
              "1488024              0        0.7        1.0   1.246495              8   \n",
              "1488025              1        0.4        0.0   0.609303             11   \n",
              "1488026              0        0.6        0.6   0.920937             10   \n",
              "1488027              0        0.9        0.8   0.992157              9   \n",
              "\n",
              "         ps_car_02_cat  ps_car_03_cat  ps_car_04_cat  ps_car_05_cat  \\\n",
              "0                    1             -1              0              1   \n",
              "1                    1             -1              0             -1   \n",
              "2                    1             -1              0             -1   \n",
              "3                    1              0              0              1   \n",
              "4                    1             -1              0             -1   \n",
              "...                ...            ...            ...            ...   \n",
              "1488023              1             -1              8              0   \n",
              "1488024              1             -1              0              0   \n",
              "1488025              1             -1              0             -1   \n",
              "1488026              0             -1              0              1   \n",
              "1488027              1              1              0              0   \n",
              "\n",
              "         ps_car_06_cat  ps_car_07_cat  ps_car_08_cat  ps_car_09_cat  \\\n",
              "0                    4              1              0              0   \n",
              "1                   11              1              1              2   \n",
              "2                   14              1              1              2   \n",
              "3                   11              1              1              3   \n",
              "4                   14              1              1              2   \n",
              "...                ...            ...            ...            ...   \n",
              "1488023             14              0              1              0   \n",
              "1488024             10              1              0              0   \n",
              "1488025             11              1              0              1   \n",
              "1488026             10              1              1              0   \n",
              "1488027              4              1              1              2   \n",
              "\n",
              "         ps_car_10_cat  ps_car_11_cat  ps_car_11  ps_car_12  ps_car_13  \\\n",
              "0                    1             12          2   0.400000   0.883679   \n",
              "1                    1             19          3   0.316228   0.618817   \n",
              "2                    1             60          1   0.316228   0.641586   \n",
              "3                    1            104          1   0.374166   0.542949   \n",
              "4                    1             82          3   0.316070   0.565832   \n",
              "...                ...            ...        ...        ...        ...   \n",
              "1488023              1             18          2   0.565685   1.528774   \n",
              "1488024              1             83          2   0.424264   1.040567   \n",
              "1488025              1             17          2   0.374166   0.968992   \n",
              "1488026              1             28          3   0.387298   0.725125   \n",
              "1488027              1             48          1   0.316228   0.637175   \n",
              "\n",
              "         ps_car_14  ps_car_15  ps_calc_01  ps_calc_02  ps_calc_03  ps_calc_04  \\\n",
              "0         0.370810   3.605551         0.6         0.5         0.2           3   \n",
              "1         0.388716   2.449490         0.3         0.1         0.3           2   \n",
              "2         0.347275   3.316625         0.5         0.7         0.1           2   \n",
              "3         0.294958   2.000000         0.6         0.9         0.1           2   \n",
              "4         0.365103   2.000000         0.4         0.6         0.0           2   \n",
              "...            ...        ...         ...         ...         ...         ...   \n",
              "1488023   0.565685   3.605551         0.3         0.4         0.9           1   \n",
              "1488024   0.418569   3.741657         0.3         0.2         0.6           1   \n",
              "1488025   0.390384   3.741657         0.3         0.3         0.9           2   \n",
              "1488026   0.378153   2.645751         0.1         0.1         0.3           1   \n",
              "1488027   0.296648   3.316625         0.4         0.4         0.2           3   \n",
              "\n",
              "         ps_calc_05  ps_calc_06  ps_calc_07  ps_calc_08  ps_calc_09  \\\n",
              "0                 1          10           1          10           1   \n",
              "1                 1           9           5           8           1   \n",
              "2                 2           9           1           8           2   \n",
              "3                 4           7           1           8           4   \n",
              "4                 2           6           3          10           2   \n",
              "...             ...         ...         ...         ...         ...   \n",
              "1488023           1           7           3          10           3   \n",
              "1488024           3           7           3          10           4   \n",
              "1488025           1          10           4           8           2   \n",
              "1488026           1           9           2          10           1   \n",
              "1488027           4           7           2           8           4   \n",
              "\n",
              "         ps_calc_10  ps_calc_11  ps_calc_12  ps_calc_13  ps_calc_14  \\\n",
              "0                 5           9           1           5           8   \n",
              "1                 7           3           1           1           9   \n",
              "2                 7           4           2           7           7   \n",
              "3                 2           2           2           4           9   \n",
              "4                12           3           1           1           3   \n",
              "...             ...         ...         ...         ...         ...   \n",
              "1488023          10           4           2           3           4   \n",
              "1488024           9           6           2           2          11   \n",
              "1488025           8           5           2           2          11   \n",
              "1488026           8           1           1           2           7   \n",
              "1488027          15           5           2           2           7   \n",
              "\n",
              "         ps_calc_15_bin  ps_calc_16_bin  ps_calc_17_bin  ps_calc_18_bin  \\\n",
              "0                     0               1               1               0   \n",
              "1                     0               1               1               0   \n",
              "2                     0               1               1               0   \n",
              "3                     0               0               0               0   \n",
              "4                     0               0               0               1   \n",
              "...                 ...             ...             ...             ...   \n",
              "1488023               0               1               0               0   \n",
              "1488024               0               0               1               1   \n",
              "1488025               0               1               1               0   \n",
              "1488026               1               1               0               0   \n",
              "1488027               0               1               1               1   \n",
              "\n",
              "         ps_calc_19_bin  ps_calc_20_bin  \n",
              "0                     0               1  \n",
              "1                     1               0  \n",
              "2                     1               0  \n",
              "3                     0               0  \n",
              "4                     1               0  \n",
              "...                 ...             ...  \n",
              "1488023               1               0  \n",
              "1488024               0               0  \n",
              "1488025               0               0  \n",
              "1488026               0               0  \n",
              "1488027               0               0  \n",
              "\n",
              "[1488028 rows x 59 columns]"
            ],
            "text/html": [
              "\n",
              "  <div id=\"df-ad49b622-07ff-4ad5-bf77-664030779b89\">\n",
              "    <div class=\"colab-df-container\">\n",
              "      <div>\n",
              "<style scoped>\n",
              "    .dataframe tbody tr th:only-of-type {\n",
              "        vertical-align: middle;\n",
              "    }\n",
              "\n",
              "    .dataframe tbody tr th {\n",
              "        vertical-align: top;\n",
              "    }\n",
              "\n",
              "    .dataframe thead th {\n",
              "        text-align: right;\n",
              "    }\n",
              "</style>\n",
              "<table border=\"1\" class=\"dataframe\">\n",
              "  <thead>\n",
              "    <tr style=\"text-align: right;\">\n",
              "      <th></th>\n",
              "      <th>id</th>\n",
              "      <th>target</th>\n",
              "      <th>ps_ind_01</th>\n",
              "      <th>ps_ind_02_cat</th>\n",
              "      <th>ps_ind_03</th>\n",
              "      <th>ps_ind_04_cat</th>\n",
              "      <th>ps_ind_05_cat</th>\n",
              "      <th>ps_ind_06_bin</th>\n",
              "      <th>ps_ind_07_bin</th>\n",
              "      <th>ps_ind_08_bin</th>\n",
              "      <th>ps_ind_09_bin</th>\n",
              "      <th>ps_ind_10_bin</th>\n",
              "      <th>ps_ind_11_bin</th>\n",
              "      <th>ps_ind_12_bin</th>\n",
              "      <th>ps_ind_13_bin</th>\n",
              "      <th>ps_ind_14</th>\n",
              "      <th>ps_ind_15</th>\n",
              "      <th>ps_ind_16_bin</th>\n",
              "      <th>ps_ind_17_bin</th>\n",
              "      <th>ps_ind_18_bin</th>\n",
              "      <th>ps_reg_01</th>\n",
              "      <th>ps_reg_02</th>\n",
              "      <th>ps_reg_03</th>\n",
              "      <th>ps_car_01_cat</th>\n",
              "      <th>ps_car_02_cat</th>\n",
              "      <th>ps_car_03_cat</th>\n",
              "      <th>ps_car_04_cat</th>\n",
              "      <th>ps_car_05_cat</th>\n",
              "      <th>ps_car_06_cat</th>\n",
              "      <th>ps_car_07_cat</th>\n",
              "      <th>ps_car_08_cat</th>\n",
              "      <th>ps_car_09_cat</th>\n",
              "      <th>ps_car_10_cat</th>\n",
              "      <th>ps_car_11_cat</th>\n",
              "      <th>ps_car_11</th>\n",
              "      <th>ps_car_12</th>\n",
              "      <th>ps_car_13</th>\n",
              "      <th>ps_car_14</th>\n",
              "      <th>ps_car_15</th>\n",
              "      <th>ps_calc_01</th>\n",
              "      <th>ps_calc_02</th>\n",
              "      <th>ps_calc_03</th>\n",
              "      <th>ps_calc_04</th>\n",
              "      <th>ps_calc_05</th>\n",
              "      <th>ps_calc_06</th>\n",
              "      <th>ps_calc_07</th>\n",
              "      <th>ps_calc_08</th>\n",
              "      <th>ps_calc_09</th>\n",
              "      <th>ps_calc_10</th>\n",
              "      <th>ps_calc_11</th>\n",
              "      <th>ps_calc_12</th>\n",
              "      <th>ps_calc_13</th>\n",
              "      <th>ps_calc_14</th>\n",
              "      <th>ps_calc_15_bin</th>\n",
              "      <th>ps_calc_16_bin</th>\n",
              "      <th>ps_calc_17_bin</th>\n",
              "      <th>ps_calc_18_bin</th>\n",
              "      <th>ps_calc_19_bin</th>\n",
              "      <th>ps_calc_20_bin</th>\n",
              "    </tr>\n",
              "  </thead>\n",
              "  <tbody>\n",
              "    <tr>\n",
              "      <th>0</th>\n",
              "      <td>7</td>\n",
              "      <td>0.0</td>\n",
              "      <td>2</td>\n",
              "      <td>2</td>\n",
              "      <td>5</td>\n",
              "      <td>1</td>\n",
              "      <td>0</td>\n",
              "      <td>0</td>\n",
              "      <td>1</td>\n",
              "      <td>0</td>\n",
              "      <td>0</td>\n",
              "      <td>0</td>\n",
              "      <td>0</td>\n",
              "      <td>0</td>\n",
              "      <td>0</td>\n",
              "      <td>0</td>\n",
              "      <td>11</td>\n",
              "      <td>0</td>\n",
              "      <td>1</td>\n",
              "      <td>0</td>\n",
              "      <td>0.7</td>\n",
              "      <td>0.2</td>\n",
              "      <td>0.718070</td>\n",
              "      <td>10</td>\n",
              "      <td>1</td>\n",
              "      <td>-1</td>\n",
              "      <td>0</td>\n",
              "      <td>1</td>\n",
              "      <td>4</td>\n",
              "      <td>1</td>\n",
              "      <td>0</td>\n",
              "      <td>0</td>\n",
              "      <td>1</td>\n",
              "      <td>12</td>\n",
              "      <td>2</td>\n",
              "      <td>0.400000</td>\n",
              "      <td>0.883679</td>\n",
              "      <td>0.370810</td>\n",
              "      <td>3.605551</td>\n",
              "      <td>0.6</td>\n",
              "      <td>0.5</td>\n",
              "      <td>0.2</td>\n",
              "      <td>3</td>\n",
              "      <td>1</td>\n",
              "      <td>10</td>\n",
              "      <td>1</td>\n",
              "      <td>10</td>\n",
              "      <td>1</td>\n",
              "      <td>5</td>\n",
              "      <td>9</td>\n",
              "      <td>1</td>\n",
              "      <td>5</td>\n",
              "      <td>8</td>\n",
              "      <td>0</td>\n",
              "      <td>1</td>\n",
              "      <td>1</td>\n",
              "      <td>0</td>\n",
              "      <td>0</td>\n",
              "      <td>1</td>\n",
              "    </tr>\n",
              "    <tr>\n",
              "      <th>1</th>\n",
              "      <td>9</td>\n",
              "      <td>0.0</td>\n",
              "      <td>1</td>\n",
              "      <td>1</td>\n",
              "      <td>7</td>\n",
              "      <td>0</td>\n",
              "      <td>0</td>\n",
              "      <td>0</td>\n",
              "      <td>0</td>\n",
              "      <td>1</td>\n",
              "      <td>0</td>\n",
              "      <td>0</td>\n",
              "      <td>0</td>\n",
              "      <td>0</td>\n",
              "      <td>0</td>\n",
              "      <td>0</td>\n",
              "      <td>3</td>\n",
              "      <td>0</td>\n",
              "      <td>0</td>\n",
              "      <td>1</td>\n",
              "      <td>0.8</td>\n",
              "      <td>0.4</td>\n",
              "      <td>0.766078</td>\n",
              "      <td>11</td>\n",
              "      <td>1</td>\n",
              "      <td>-1</td>\n",
              "      <td>0</td>\n",
              "      <td>-1</td>\n",
              "      <td>11</td>\n",
              "      <td>1</td>\n",
              "      <td>1</td>\n",
              "      <td>2</td>\n",
              "      <td>1</td>\n",
              "      <td>19</td>\n",
              "      <td>3</td>\n",
              "      <td>0.316228</td>\n",
              "      <td>0.618817</td>\n",
              "      <td>0.388716</td>\n",
              "      <td>2.449490</td>\n",
              "      <td>0.3</td>\n",
              "      <td>0.1</td>\n",
              "      <td>0.3</td>\n",
              "      <td>2</td>\n",
              "      <td>1</td>\n",
              "      <td>9</td>\n",
              "      <td>5</td>\n",
              "      <td>8</td>\n",
              "      <td>1</td>\n",
              "      <td>7</td>\n",
              "      <td>3</td>\n",
              "      <td>1</td>\n",
              "      <td>1</td>\n",
              "      <td>9</td>\n",
              "      <td>0</td>\n",
              "      <td>1</td>\n",
              "      <td>1</td>\n",
              "      <td>0</td>\n",
              "      <td>1</td>\n",
              "      <td>0</td>\n",
              "    </tr>\n",
              "    <tr>\n",
              "      <th>2</th>\n",
              "      <td>13</td>\n",
              "      <td>0.0</td>\n",
              "      <td>5</td>\n",
              "      <td>4</td>\n",
              "      <td>9</td>\n",
              "      <td>1</td>\n",
              "      <td>0</td>\n",
              "      <td>0</td>\n",
              "      <td>0</td>\n",
              "      <td>1</td>\n",
              "      <td>0</td>\n",
              "      <td>0</td>\n",
              "      <td>0</td>\n",
              "      <td>0</td>\n",
              "      <td>0</td>\n",
              "      <td>0</td>\n",
              "      <td>12</td>\n",
              "      <td>1</td>\n",
              "      <td>0</td>\n",
              "      <td>0</td>\n",
              "      <td>0.0</td>\n",
              "      <td>0.0</td>\n",
              "      <td>-1.000000</td>\n",
              "      <td>7</td>\n",
              "      <td>1</td>\n",
              "      <td>-1</td>\n",
              "      <td>0</td>\n",
              "      <td>-1</td>\n",
              "      <td>14</td>\n",
              "      <td>1</td>\n",
              "      <td>1</td>\n",
              "      <td>2</td>\n",
              "      <td>1</td>\n",
              "      <td>60</td>\n",
              "      <td>1</td>\n",
              "      <td>0.316228</td>\n",
              "      <td>0.641586</td>\n",
              "      <td>0.347275</td>\n",
              "      <td>3.316625</td>\n",
              "      <td>0.5</td>\n",
              "      <td>0.7</td>\n",
              "      <td>0.1</td>\n",
              "      <td>2</td>\n",
              "      <td>2</td>\n",
              "      <td>9</td>\n",
              "      <td>1</td>\n",
              "      <td>8</td>\n",
              "      <td>2</td>\n",
              "      <td>7</td>\n",
              "      <td>4</td>\n",
              "      <td>2</td>\n",
              "      <td>7</td>\n",
              "      <td>7</td>\n",
              "      <td>0</td>\n",
              "      <td>1</td>\n",
              "      <td>1</td>\n",
              "      <td>0</td>\n",
              "      <td>1</td>\n",
              "      <td>0</td>\n",
              "    </tr>\n",
              "    <tr>\n",
              "      <th>3</th>\n",
              "      <td>16</td>\n",
              "      <td>0.0</td>\n",
              "      <td>0</td>\n",
              "      <td>1</td>\n",
              "      <td>2</td>\n",
              "      <td>0</td>\n",
              "      <td>0</td>\n",
              "      <td>1</td>\n",
              "      <td>0</td>\n",
              "      <td>0</td>\n",
              "      <td>0</td>\n",
              "      <td>0</td>\n",
              "      <td>0</td>\n",
              "      <td>0</td>\n",
              "      <td>0</td>\n",
              "      <td>0</td>\n",
              "      <td>8</td>\n",
              "      <td>1</td>\n",
              "      <td>0</td>\n",
              "      <td>0</td>\n",
              "      <td>0.9</td>\n",
              "      <td>0.2</td>\n",
              "      <td>0.580948</td>\n",
              "      <td>7</td>\n",
              "      <td>1</td>\n",
              "      <td>0</td>\n",
              "      <td>0</td>\n",
              "      <td>1</td>\n",
              "      <td>11</td>\n",
              "      <td>1</td>\n",
              "      <td>1</td>\n",
              "      <td>3</td>\n",
              "      <td>1</td>\n",
              "      <td>104</td>\n",
              "      <td>1</td>\n",
              "      <td>0.374166</td>\n",
              "      <td>0.542949</td>\n",
              "      <td>0.294958</td>\n",
              "      <td>2.000000</td>\n",
              "      <td>0.6</td>\n",
              "      <td>0.9</td>\n",
              "      <td>0.1</td>\n",
              "      <td>2</td>\n",
              "      <td>4</td>\n",
              "      <td>7</td>\n",
              "      <td>1</td>\n",
              "      <td>8</td>\n",
              "      <td>4</td>\n",
              "      <td>2</td>\n",
              "      <td>2</td>\n",
              "      <td>2</td>\n",
              "      <td>4</td>\n",
              "      <td>9</td>\n",
              "      <td>0</td>\n",
              "      <td>0</td>\n",
              "      <td>0</td>\n",
              "      <td>0</td>\n",
              "      <td>0</td>\n",
              "      <td>0</td>\n",
              "    </tr>\n",
              "    <tr>\n",
              "      <th>4</th>\n",
              "      <td>17</td>\n",
              "      <td>0.0</td>\n",
              "      <td>0</td>\n",
              "      <td>2</td>\n",
              "      <td>0</td>\n",
              "      <td>1</td>\n",
              "      <td>0</td>\n",
              "      <td>1</td>\n",
              "      <td>0</td>\n",
              "      <td>0</td>\n",
              "      <td>0</td>\n",
              "      <td>0</td>\n",
              "      <td>0</td>\n",
              "      <td>0</td>\n",
              "      <td>0</td>\n",
              "      <td>0</td>\n",
              "      <td>9</td>\n",
              "      <td>1</td>\n",
              "      <td>0</td>\n",
              "      <td>0</td>\n",
              "      <td>0.7</td>\n",
              "      <td>0.6</td>\n",
              "      <td>0.840759</td>\n",
              "      <td>11</td>\n",
              "      <td>1</td>\n",
              "      <td>-1</td>\n",
              "      <td>0</td>\n",
              "      <td>-1</td>\n",
              "      <td>14</td>\n",
              "      <td>1</td>\n",
              "      <td>1</td>\n",
              "      <td>2</td>\n",
              "      <td>1</td>\n",
              "      <td>82</td>\n",
              "      <td>3</td>\n",
              "      <td>0.316070</td>\n",
              "      <td>0.565832</td>\n",
              "      <td>0.365103</td>\n",
              "      <td>2.000000</td>\n",
              "      <td>0.4</td>\n",
              "      <td>0.6</td>\n",
              "      <td>0.0</td>\n",
              "      <td>2</td>\n",
              "      <td>2</td>\n",
              "      <td>6</td>\n",
              "      <td>3</td>\n",
              "      <td>10</td>\n",
              "      <td>2</td>\n",
              "      <td>12</td>\n",
              "      <td>3</td>\n",
              "      <td>1</td>\n",
              "      <td>1</td>\n",
              "      <td>3</td>\n",
              "      <td>0</td>\n",
              "      <td>0</td>\n",
              "      <td>0</td>\n",
              "      <td>1</td>\n",
              "      <td>1</td>\n",
              "      <td>0</td>\n",
              "    </tr>\n",
              "    <tr>\n",
              "      <th>...</th>\n",
              "      <td>...</td>\n",
              "      <td>...</td>\n",
              "      <td>...</td>\n",
              "      <td>...</td>\n",
              "      <td>...</td>\n",
              "      <td>...</td>\n",
              "      <td>...</td>\n",
              "      <td>...</td>\n",
              "      <td>...</td>\n",
              "      <td>...</td>\n",
              "      <td>...</td>\n",
              "      <td>...</td>\n",
              "      <td>...</td>\n",
              "      <td>...</td>\n",
              "      <td>...</td>\n",
              "      <td>...</td>\n",
              "      <td>...</td>\n",
              "      <td>...</td>\n",
              "      <td>...</td>\n",
              "      <td>...</td>\n",
              "      <td>...</td>\n",
              "      <td>...</td>\n",
              "      <td>...</td>\n",
              "      <td>...</td>\n",
              "      <td>...</td>\n",
              "      <td>...</td>\n",
              "      <td>...</td>\n",
              "      <td>...</td>\n",
              "      <td>...</td>\n",
              "      <td>...</td>\n",
              "      <td>...</td>\n",
              "      <td>...</td>\n",
              "      <td>...</td>\n",
              "      <td>...</td>\n",
              "      <td>...</td>\n",
              "      <td>...</td>\n",
              "      <td>...</td>\n",
              "      <td>...</td>\n",
              "      <td>...</td>\n",
              "      <td>...</td>\n",
              "      <td>...</td>\n",
              "      <td>...</td>\n",
              "      <td>...</td>\n",
              "      <td>...</td>\n",
              "      <td>...</td>\n",
              "      <td>...</td>\n",
              "      <td>...</td>\n",
              "      <td>...</td>\n",
              "      <td>...</td>\n",
              "      <td>...</td>\n",
              "      <td>...</td>\n",
              "      <td>...</td>\n",
              "      <td>...</td>\n",
              "      <td>...</td>\n",
              "      <td>...</td>\n",
              "      <td>...</td>\n",
              "      <td>...</td>\n",
              "      <td>...</td>\n",
              "      <td>...</td>\n",
              "    </tr>\n",
              "    <tr>\n",
              "      <th>1488023</th>\n",
              "      <td>1488022</td>\n",
              "      <td>NaN</td>\n",
              "      <td>0</td>\n",
              "      <td>1</td>\n",
              "      <td>6</td>\n",
              "      <td>0</td>\n",
              "      <td>0</td>\n",
              "      <td>0</td>\n",
              "      <td>1</td>\n",
              "      <td>0</td>\n",
              "      <td>0</td>\n",
              "      <td>0</td>\n",
              "      <td>0</td>\n",
              "      <td>0</td>\n",
              "      <td>0</td>\n",
              "      <td>0</td>\n",
              "      <td>2</td>\n",
              "      <td>0</td>\n",
              "      <td>0</td>\n",
              "      <td>1</td>\n",
              "      <td>0.5</td>\n",
              "      <td>0.3</td>\n",
              "      <td>1.048809</td>\n",
              "      <td>0</td>\n",
              "      <td>1</td>\n",
              "      <td>-1</td>\n",
              "      <td>8</td>\n",
              "      <td>0</td>\n",
              "      <td>14</td>\n",
              "      <td>0</td>\n",
              "      <td>1</td>\n",
              "      <td>0</td>\n",
              "      <td>1</td>\n",
              "      <td>18</td>\n",
              "      <td>2</td>\n",
              "      <td>0.565685</td>\n",
              "      <td>1.528774</td>\n",
              "      <td>0.565685</td>\n",
              "      <td>3.605551</td>\n",
              "      <td>0.3</td>\n",
              "      <td>0.4</td>\n",
              "      <td>0.9</td>\n",
              "      <td>1</td>\n",
              "      <td>1</td>\n",
              "      <td>7</td>\n",
              "      <td>3</td>\n",
              "      <td>10</td>\n",
              "      <td>3</td>\n",
              "      <td>10</td>\n",
              "      <td>4</td>\n",
              "      <td>2</td>\n",
              "      <td>3</td>\n",
              "      <td>4</td>\n",
              "      <td>0</td>\n",
              "      <td>1</td>\n",
              "      <td>0</td>\n",
              "      <td>0</td>\n",
              "      <td>1</td>\n",
              "      <td>0</td>\n",
              "    </tr>\n",
              "    <tr>\n",
              "      <th>1488024</th>\n",
              "      <td>1488023</td>\n",
              "      <td>NaN</td>\n",
              "      <td>5</td>\n",
              "      <td>3</td>\n",
              "      <td>5</td>\n",
              "      <td>1</td>\n",
              "      <td>0</td>\n",
              "      <td>0</td>\n",
              "      <td>0</td>\n",
              "      <td>1</td>\n",
              "      <td>0</td>\n",
              "      <td>0</td>\n",
              "      <td>0</td>\n",
              "      <td>0</td>\n",
              "      <td>0</td>\n",
              "      <td>0</td>\n",
              "      <td>11</td>\n",
              "      <td>1</td>\n",
              "      <td>0</td>\n",
              "      <td>0</td>\n",
              "      <td>0.7</td>\n",
              "      <td>1.0</td>\n",
              "      <td>1.246495</td>\n",
              "      <td>8</td>\n",
              "      <td>1</td>\n",
              "      <td>-1</td>\n",
              "      <td>0</td>\n",
              "      <td>0</td>\n",
              "      <td>10</td>\n",
              "      <td>1</td>\n",
              "      <td>0</td>\n",
              "      <td>0</td>\n",
              "      <td>1</td>\n",
              "      <td>83</td>\n",
              "      <td>2</td>\n",
              "      <td>0.424264</td>\n",
              "      <td>1.040567</td>\n",
              "      <td>0.418569</td>\n",
              "      <td>3.741657</td>\n",
              "      <td>0.3</td>\n",
              "      <td>0.2</td>\n",
              "      <td>0.6</td>\n",
              "      <td>1</td>\n",
              "      <td>3</td>\n",
              "      <td>7</td>\n",
              "      <td>3</td>\n",
              "      <td>10</td>\n",
              "      <td>4</td>\n",
              "      <td>9</td>\n",
              "      <td>6</td>\n",
              "      <td>2</td>\n",
              "      <td>2</td>\n",
              "      <td>11</td>\n",
              "      <td>0</td>\n",
              "      <td>0</td>\n",
              "      <td>1</td>\n",
              "      <td>1</td>\n",
              "      <td>0</td>\n",
              "      <td>0</td>\n",
              "    </tr>\n",
              "    <tr>\n",
              "      <th>1488025</th>\n",
              "      <td>1488024</td>\n",
              "      <td>NaN</td>\n",
              "      <td>0</td>\n",
              "      <td>1</td>\n",
              "      <td>5</td>\n",
              "      <td>0</td>\n",
              "      <td>0</td>\n",
              "      <td>1</td>\n",
              "      <td>0</td>\n",
              "      <td>0</td>\n",
              "      <td>0</td>\n",
              "      <td>0</td>\n",
              "      <td>0</td>\n",
              "      <td>0</td>\n",
              "      <td>0</td>\n",
              "      <td>0</td>\n",
              "      <td>5</td>\n",
              "      <td>0</td>\n",
              "      <td>0</td>\n",
              "      <td>1</td>\n",
              "      <td>0.4</td>\n",
              "      <td>0.0</td>\n",
              "      <td>0.609303</td>\n",
              "      <td>11</td>\n",
              "      <td>1</td>\n",
              "      <td>-1</td>\n",
              "      <td>0</td>\n",
              "      <td>-1</td>\n",
              "      <td>11</td>\n",
              "      <td>1</td>\n",
              "      <td>0</td>\n",
              "      <td>1</td>\n",
              "      <td>1</td>\n",
              "      <td>17</td>\n",
              "      <td>2</td>\n",
              "      <td>0.374166</td>\n",
              "      <td>0.968992</td>\n",
              "      <td>0.390384</td>\n",
              "      <td>3.741657</td>\n",
              "      <td>0.3</td>\n",
              "      <td>0.3</td>\n",
              "      <td>0.9</td>\n",
              "      <td>2</td>\n",
              "      <td>1</td>\n",
              "      <td>10</td>\n",
              "      <td>4</td>\n",
              "      <td>8</td>\n",
              "      <td>2</td>\n",
              "      <td>8</td>\n",
              "      <td>5</td>\n",
              "      <td>2</td>\n",
              "      <td>2</td>\n",
              "      <td>11</td>\n",
              "      <td>0</td>\n",
              "      <td>1</td>\n",
              "      <td>1</td>\n",
              "      <td>0</td>\n",
              "      <td>0</td>\n",
              "      <td>0</td>\n",
              "    </tr>\n",
              "    <tr>\n",
              "      <th>1488026</th>\n",
              "      <td>1488025</td>\n",
              "      <td>NaN</td>\n",
              "      <td>6</td>\n",
              "      <td>1</td>\n",
              "      <td>5</td>\n",
              "      <td>1</td>\n",
              "      <td>0</td>\n",
              "      <td>0</td>\n",
              "      <td>0</td>\n",
              "      <td>0</td>\n",
              "      <td>1</td>\n",
              "      <td>0</td>\n",
              "      <td>0</td>\n",
              "      <td>0</td>\n",
              "      <td>0</td>\n",
              "      <td>0</td>\n",
              "      <td>13</td>\n",
              "      <td>1</td>\n",
              "      <td>0</td>\n",
              "      <td>0</td>\n",
              "      <td>0.6</td>\n",
              "      <td>0.6</td>\n",
              "      <td>0.920937</td>\n",
              "      <td>10</td>\n",
              "      <td>0</td>\n",
              "      <td>-1</td>\n",
              "      <td>0</td>\n",
              "      <td>1</td>\n",
              "      <td>10</td>\n",
              "      <td>1</td>\n",
              "      <td>1</td>\n",
              "      <td>0</td>\n",
              "      <td>1</td>\n",
              "      <td>28</td>\n",
              "      <td>3</td>\n",
              "      <td>0.387298</td>\n",
              "      <td>0.725125</td>\n",
              "      <td>0.378153</td>\n",
              "      <td>2.645751</td>\n",
              "      <td>0.1</td>\n",
              "      <td>0.1</td>\n",
              "      <td>0.3</td>\n",
              "      <td>1</td>\n",
              "      <td>1</td>\n",
              "      <td>9</td>\n",
              "      <td>2</td>\n",
              "      <td>10</td>\n",
              "      <td>1</td>\n",
              "      <td>8</td>\n",
              "      <td>1</td>\n",
              "      <td>1</td>\n",
              "      <td>2</td>\n",
              "      <td>7</td>\n",
              "      <td>1</td>\n",
              "      <td>1</td>\n",
              "      <td>0</td>\n",
              "      <td>0</td>\n",
              "      <td>0</td>\n",
              "      <td>0</td>\n",
              "    </tr>\n",
              "    <tr>\n",
              "      <th>1488027</th>\n",
              "      <td>1488026</td>\n",
              "      <td>NaN</td>\n",
              "      <td>7</td>\n",
              "      <td>1</td>\n",
              "      <td>4</td>\n",
              "      <td>1</td>\n",
              "      <td>0</td>\n",
              "      <td>0</td>\n",
              "      <td>0</td>\n",
              "      <td>0</td>\n",
              "      <td>1</td>\n",
              "      <td>0</td>\n",
              "      <td>0</td>\n",
              "      <td>0</td>\n",
              "      <td>0</td>\n",
              "      <td>0</td>\n",
              "      <td>12</td>\n",
              "      <td>1</td>\n",
              "      <td>0</td>\n",
              "      <td>0</td>\n",
              "      <td>0.9</td>\n",
              "      <td>0.8</td>\n",
              "      <td>0.992157</td>\n",
              "      <td>9</td>\n",
              "      <td>1</td>\n",
              "      <td>1</td>\n",
              "      <td>0</td>\n",
              "      <td>0</td>\n",
              "      <td>4</td>\n",
              "      <td>1</td>\n",
              "      <td>1</td>\n",
              "      <td>2</td>\n",
              "      <td>1</td>\n",
              "      <td>48</td>\n",
              "      <td>1</td>\n",
              "      <td>0.316228</td>\n",
              "      <td>0.637175</td>\n",
              "      <td>0.296648</td>\n",
              "      <td>3.316625</td>\n",
              "      <td>0.4</td>\n",
              "      <td>0.4</td>\n",
              "      <td>0.2</td>\n",
              "      <td>3</td>\n",
              "      <td>4</td>\n",
              "      <td>7</td>\n",
              "      <td>2</td>\n",
              "      <td>8</td>\n",
              "      <td>4</td>\n",
              "      <td>15</td>\n",
              "      <td>5</td>\n",
              "      <td>2</td>\n",
              "      <td>2</td>\n",
              "      <td>7</td>\n",
              "      <td>0</td>\n",
              "      <td>1</td>\n",
              "      <td>1</td>\n",
              "      <td>1</td>\n",
              "      <td>0</td>\n",
              "      <td>0</td>\n",
              "    </tr>\n",
              "  </tbody>\n",
              "</table>\n",
              "<p>1488028 rows × 59 columns</p>\n",
              "</div>\n",
              "      <button class=\"colab-df-convert\" onclick=\"convertToInteractive('df-ad49b622-07ff-4ad5-bf77-664030779b89')\"\n",
              "              title=\"Convert this dataframe to an interactive table.\"\n",
              "              style=\"display:none;\">\n",
              "        \n",
              "  <svg xmlns=\"http://www.w3.org/2000/svg\" height=\"24px\"viewBox=\"0 0 24 24\"\n",
              "       width=\"24px\">\n",
              "    <path d=\"M0 0h24v24H0V0z\" fill=\"none\"/>\n",
              "    <path d=\"M18.56 5.44l.94 2.06.94-2.06 2.06-.94-2.06-.94-.94-2.06-.94 2.06-2.06.94zm-11 1L8.5 8.5l.94-2.06 2.06-.94-2.06-.94L8.5 2.5l-.94 2.06-2.06.94zm10 10l.94 2.06.94-2.06 2.06-.94-2.06-.94-.94-2.06-.94 2.06-2.06.94z\"/><path d=\"M17.41 7.96l-1.37-1.37c-.4-.4-.92-.59-1.43-.59-.52 0-1.04.2-1.43.59L10.3 9.45l-7.72 7.72c-.78.78-.78 2.05 0 2.83L4 21.41c.39.39.9.59 1.41.59.51 0 1.02-.2 1.41-.59l7.78-7.78 2.81-2.81c.8-.78.8-2.07 0-2.86zM5.41 20L4 18.59l7.72-7.72 1.47 1.35L5.41 20z\"/>\n",
              "  </svg>\n",
              "      </button>\n",
              "      \n",
              "  <style>\n",
              "    .colab-df-container {\n",
              "      display:flex;\n",
              "      flex-wrap:wrap;\n",
              "      gap: 12px;\n",
              "    }\n",
              "\n",
              "    .colab-df-convert {\n",
              "      background-color: #E8F0FE;\n",
              "      border: none;\n",
              "      border-radius: 50%;\n",
              "      cursor: pointer;\n",
              "      display: none;\n",
              "      fill: #1967D2;\n",
              "      height: 32px;\n",
              "      padding: 0 0 0 0;\n",
              "      width: 32px;\n",
              "    }\n",
              "\n",
              "    .colab-df-convert:hover {\n",
              "      background-color: #E2EBFA;\n",
              "      box-shadow: 0px 1px 2px rgba(60, 64, 67, 0.3), 0px 1px 3px 1px rgba(60, 64, 67, 0.15);\n",
              "      fill: #174EA6;\n",
              "    }\n",
              "\n",
              "    [theme=dark] .colab-df-convert {\n",
              "      background-color: #3B4455;\n",
              "      fill: #D2E3FC;\n",
              "    }\n",
              "\n",
              "    [theme=dark] .colab-df-convert:hover {\n",
              "      background-color: #434B5C;\n",
              "      box-shadow: 0px 1px 3px 1px rgba(0, 0, 0, 0.15);\n",
              "      filter: drop-shadow(0px 1px 2px rgba(0, 0, 0, 0.3));\n",
              "      fill: #FFFFFF;\n",
              "    }\n",
              "  </style>\n",
              "\n",
              "      <script>\n",
              "        const buttonEl =\n",
              "          document.querySelector('#df-ad49b622-07ff-4ad5-bf77-664030779b89 button.colab-df-convert');\n",
              "        buttonEl.style.display =\n",
              "          google.colab.kernel.accessAllowed ? 'block' : 'none';\n",
              "\n",
              "        async function convertToInteractive(key) {\n",
              "          const element = document.querySelector('#df-ad49b622-07ff-4ad5-bf77-664030779b89');\n",
              "          const dataTable =\n",
              "            await google.colab.kernel.invokeFunction('convertToInteractive',\n",
              "                                                     [key], {});\n",
              "          if (!dataTable) return;\n",
              "\n",
              "          const docLinkHtml = 'Like what you see? Visit the ' +\n",
              "            '<a target=\"_blank\" href=https://colab.research.google.com/notebooks/data_table.ipynb>data table notebook</a>'\n",
              "            + ' to learn more about interactive tables.';\n",
              "          element.innerHTML = '';\n",
              "          dataTable['output_type'] = 'display_data';\n",
              "          await google.colab.output.renderOutput(dataTable, element);\n",
              "          const docLink = document.createElement('div');\n",
              "          docLink.innerHTML = docLinkHtml;\n",
              "          element.appendChild(docLink);\n",
              "        }\n",
              "      </script>\n",
              "    </div>\n",
              "  </div>\n",
              "  "
            ]
          },
          "metadata": {},
          "execution_count": 8
        }
      ]
    },
    {
      "cell_type": "code",
      "source": [
        "all_data.info()"
      ],
      "metadata": {
        "colab": {
          "base_uri": "https://localhost:8080/"
        },
        "id": "cjtTvAvhOoUG",
        "outputId": "cecd9667-b7a5-418d-c6ee-67f0009ba0c0"
      },
      "execution_count": 9,
      "outputs": [
        {
          "output_type": "stream",
          "name": "stdout",
          "text": [
            "<class 'pandas.core.frame.DataFrame'>\n",
            "RangeIndex: 1488028 entries, 0 to 1488027\n",
            "Data columns (total 59 columns):\n",
            " #   Column          Non-Null Count    Dtype  \n",
            "---  ------          --------------    -----  \n",
            " 0   id              1488028 non-null  int64  \n",
            " 1   target          595212 non-null   float64\n",
            " 2   ps_ind_01       1488028 non-null  int64  \n",
            " 3   ps_ind_02_cat   1488028 non-null  int64  \n",
            " 4   ps_ind_03       1488028 non-null  int64  \n",
            " 5   ps_ind_04_cat   1488028 non-null  int64  \n",
            " 6   ps_ind_05_cat   1488028 non-null  int64  \n",
            " 7   ps_ind_06_bin   1488028 non-null  int64  \n",
            " 8   ps_ind_07_bin   1488028 non-null  int64  \n",
            " 9   ps_ind_08_bin   1488028 non-null  int64  \n",
            " 10  ps_ind_09_bin   1488028 non-null  int64  \n",
            " 11  ps_ind_10_bin   1488028 non-null  int64  \n",
            " 12  ps_ind_11_bin   1488028 non-null  int64  \n",
            " 13  ps_ind_12_bin   1488028 non-null  int64  \n",
            " 14  ps_ind_13_bin   1488028 non-null  int64  \n",
            " 15  ps_ind_14       1488028 non-null  int64  \n",
            " 16  ps_ind_15       1488028 non-null  int64  \n",
            " 17  ps_ind_16_bin   1488028 non-null  int64  \n",
            " 18  ps_ind_17_bin   1488028 non-null  int64  \n",
            " 19  ps_ind_18_bin   1488028 non-null  int64  \n",
            " 20  ps_reg_01       1488028 non-null  float64\n",
            " 21  ps_reg_02       1488028 non-null  float64\n",
            " 22  ps_reg_03       1488028 non-null  float64\n",
            " 23  ps_car_01_cat   1488028 non-null  int64  \n",
            " 24  ps_car_02_cat   1488028 non-null  int64  \n",
            " 25  ps_car_03_cat   1488028 non-null  int64  \n",
            " 26  ps_car_04_cat   1488028 non-null  int64  \n",
            " 27  ps_car_05_cat   1488028 non-null  int64  \n",
            " 28  ps_car_06_cat   1488028 non-null  int64  \n",
            " 29  ps_car_07_cat   1488028 non-null  int64  \n",
            " 30  ps_car_08_cat   1488028 non-null  int64  \n",
            " 31  ps_car_09_cat   1488028 non-null  int64  \n",
            " 32  ps_car_10_cat   1488028 non-null  int64  \n",
            " 33  ps_car_11_cat   1488028 non-null  int64  \n",
            " 34  ps_car_11       1488028 non-null  int64  \n",
            " 35  ps_car_12       1488028 non-null  float64\n",
            " 36  ps_car_13       1488028 non-null  float64\n",
            " 37  ps_car_14       1488028 non-null  float64\n",
            " 38  ps_car_15       1488028 non-null  float64\n",
            " 39  ps_calc_01      1488028 non-null  float64\n",
            " 40  ps_calc_02      1488028 non-null  float64\n",
            " 41  ps_calc_03      1488028 non-null  float64\n",
            " 42  ps_calc_04      1488028 non-null  int64  \n",
            " 43  ps_calc_05      1488028 non-null  int64  \n",
            " 44  ps_calc_06      1488028 non-null  int64  \n",
            " 45  ps_calc_07      1488028 non-null  int64  \n",
            " 46  ps_calc_08      1488028 non-null  int64  \n",
            " 47  ps_calc_09      1488028 non-null  int64  \n",
            " 48  ps_calc_10      1488028 non-null  int64  \n",
            " 49  ps_calc_11      1488028 non-null  int64  \n",
            " 50  ps_calc_12      1488028 non-null  int64  \n",
            " 51  ps_calc_13      1488028 non-null  int64  \n",
            " 52  ps_calc_14      1488028 non-null  int64  \n",
            " 53  ps_calc_15_bin  1488028 non-null  int64  \n",
            " 54  ps_calc_16_bin  1488028 non-null  int64  \n",
            " 55  ps_calc_17_bin  1488028 non-null  int64  \n",
            " 56  ps_calc_18_bin  1488028 non-null  int64  \n",
            " 57  ps_calc_19_bin  1488028 non-null  int64  \n",
            " 58  ps_calc_20_bin  1488028 non-null  int64  \n",
            "dtypes: float64(11), int64(48)\n",
            "memory usage: 669.8 MB\n"
          ]
        }
      ]
    },
    {
      "cell_type": "markdown",
      "source": [
        "'id'와 'target' 피처를 제거하겠습니다."
      ],
      "metadata": {
        "id": "iLQ4KrmCPCTO"
      }
    },
    {
      "cell_type": "code",
      "source": [
        "all_data.drop(['id', 'target'], axis=1, inplace=True)"
      ],
      "metadata": {
        "id": "P-4QfvJ-Ybq7"
      },
      "execution_count": 10,
      "outputs": []
    },
    {
      "cell_type": "markdown",
      "source": [
        "## **1.2. 파생 피처 생성(작업 중)**"
      ],
      "metadata": {
        "id": "Cjg58Pwjc3Ln"
      }
    },
    {
      "cell_type": "markdown",
      "source": [
        "파생 피처를 생성해 보겠습니다. 불필요한 피처를 제거하는 작업은 파생 피처를 생성한 후 수행할 것입니다. 본래 존재하는 피처를 최대한 활용하여 파생 피처를 생성해야 하기 때문입니다."
      ],
      "metadata": {
        "id": "GAGMfKraYpU_"
      }
    },
    {
      "cell_type": "markdown",
      "source": [
        "### **1.2.1. 결측치 개수 피처**"
      ],
      "metadata": {
        "id": "fJHGvksRc_5I"
      }
    },
    {
      "cell_type": "markdown",
      "source": [
        "결측치 개수를 가진 피처를 생성해 보겠습니다. 각 명목형 피처에 결측치는 -1로 처리되어 있습니다. 다시 말해 각 데이터(=행, 레코드, 튜플 등)가 가진 -1의 개수를 합산한 결과를 피처로 생성하는 것입니다.\n",
        "\n",
        "먼저 -1이 포함된 피처를 확인해 보겠습니다."
      ],
      "metadata": {
        "id": "poSy1u8HdSSJ"
      }
    },
    {
      "cell_type": "code",
      "source": [
        "feature_list = [column for column in all_data.columns if all_data[all_data == -1][column].any()]\n",
        "print(feature_list)"
      ],
      "metadata": {
        "colab": {
          "base_uri": "https://localhost:8080/"
        },
        "id": "1RLfBb3gfRqb",
        "outputId": "8e2e7e3d-3789-4384-cbb9-105f16b44e82"
      },
      "execution_count": 11,
      "outputs": [
        {
          "output_type": "stream",
          "name": "stdout",
          "text": [
            "['ps_ind_02_cat', 'ps_ind_04_cat', 'ps_ind_05_cat', 'ps_reg_03', 'ps_car_01_cat', 'ps_car_02_cat', 'ps_car_03_cat', 'ps_car_05_cat', 'ps_car_07_cat', 'ps_car_09_cat', 'ps_car_11', 'ps_car_12', 'ps_car_14']\n"
          ]
        }
      ]
    },
    {
      "cell_type": "markdown",
      "source": [
        "명목형 피처가 아닌 피처도 -1이 포함되어 있지만 큰 영향은 없을 것으로 판단합니다. 그대로 파생 피처를 생성하겠습니다."
      ],
      "metadata": {
        "id": "fhGQfG2d-vMC"
      }
    },
    {
      "cell_type": "code",
      "source": [
        "# `axis=1`로 지정하여 데이터마다 결측치 개수를 산출합니다.\n",
        "# `axis=0`으로 지정하면 열마다 결측치 개수가 산출됩니다.\n",
        "all_data['count_missing_data'] = (all_data == -1).sum(axis=1)"
      ],
      "metadata": {
        "id": "QwkWIYpY-OO-"
      },
      "execution_count": 12,
      "outputs": []
    },
    {
      "cell_type": "code",
      "source": [
        "all_data['count_missing_data']"
      ],
      "metadata": {
        "colab": {
          "base_uri": "https://localhost:8080/"
        },
        "id": "S0Pn69pf-jSO",
        "outputId": "ce9ba1c7-30e8-4409-bd59-7335c5a93b71"
      },
      "execution_count": 13,
      "outputs": [
        {
          "output_type": "execute_result",
          "data": {
            "text/plain": [
              "0          1\n",
              "1          2\n",
              "2          3\n",
              "3          0\n",
              "4          2\n",
              "          ..\n",
              "1488023    1\n",
              "1488024    1\n",
              "1488025    2\n",
              "1488026    1\n",
              "1488027    0\n",
              "Name: count_missing_data, Length: 1488028, dtype: int64"
            ]
          },
          "metadata": {},
          "execution_count": 13
        }
      ]
    },
    {
      "cell_type": "markdown",
      "source": [
        "가장 많은 결측치를 가진 데이터를 확인해 보겠습니다."
      ],
      "metadata": {
        "id": "qCGeIQVM_ZQM"
      }
    },
    {
      "cell_type": "code",
      "source": [
        "all_data['count_missing_data'].max()"
      ],
      "metadata": {
        "colab": {
          "base_uri": "https://localhost:8080/"
        },
        "id": "EXZIeuIf-saq",
        "outputId": "bc5fd696-fd41-4069-eb2e-f17dfc045d84"
      },
      "execution_count": 14,
      "outputs": [
        {
          "output_type": "execute_result",
          "data": {
            "text/plain": [
              "8"
            ]
          },
          "metadata": {},
          "execution_count": 14
        }
      ]
    },
    {
      "cell_type": "markdown",
      "source": [
        "### **1.2.2. 고윳값 개수 피처**"
      ],
      "metadata": {
        "id": "Rm93XlcC30OR"
      }
    },
    {
      "cell_type": "markdown",
      "source": [
        "\n",
        "\n",
        "---\n",
        "\n",
        "작업 중\n",
        "\n",
        "---\n",
        "\n"
      ],
      "metadata": {
        "id": "9OM5a5z3LX2Y"
      }
    },
    {
      "cell_type": "code",
      "source": [
        "list_category =[]\n",
        "list_bin = []\n",
        "list_continuous = []\n",
        "list_ordinal = []\n",
        "\n",
        "for column in all_data.columns:\n",
        "    if 'cat' in column:\n",
        "        list_category.append(column)\n",
        "    elif ('bin' in column):\n",
        "        list_bin.append(column)\n",
        "    elif all_data[column].dtype == 'float64':\n",
        "        list_continuous.append(column)\n",
        "    elif (all_data[column].dtype == 'int64'):\n",
        "        list_ordinal.append(column)"
      ],
      "metadata": {
        "id": "8AIzsOQ1M8g2"
      },
      "execution_count": 15,
      "outputs": []
    },
    {
      "cell_type": "code",
      "source": [
        "list_ind = [feature for feature in all_data.columns if 'ind' in feature]\n",
        "list_ind"
      ],
      "metadata": {
        "colab": {
          "base_uri": "https://localhost:8080/"
        },
        "id": "TeNvfWtbNAt_",
        "outputId": "d74333a4-9dcb-45a1-fb9e-e217c3405805"
      },
      "execution_count": 16,
      "outputs": [
        {
          "output_type": "execute_result",
          "data": {
            "text/plain": [
              "['ps_ind_01',\n",
              " 'ps_ind_02_cat',\n",
              " 'ps_ind_03',\n",
              " 'ps_ind_04_cat',\n",
              " 'ps_ind_05_cat',\n",
              " 'ps_ind_06_bin',\n",
              " 'ps_ind_07_bin',\n",
              " 'ps_ind_08_bin',\n",
              " 'ps_ind_09_bin',\n",
              " 'ps_ind_10_bin',\n",
              " 'ps_ind_11_bin',\n",
              " 'ps_ind_12_bin',\n",
              " 'ps_ind_13_bin',\n",
              " 'ps_ind_14',\n",
              " 'ps_ind_15',\n",
              " 'ps_ind_16_bin',\n",
              " 'ps_ind_17_bin',\n",
              " 'ps_ind_18_bin']"
            ]
          },
          "metadata": {},
          "execution_count": 16
        }
      ]
    },
    {
      "cell_type": "code",
      "source": [
        "first_value = True\n",
        "\n",
        "for feature in list_ind:\n",
        "    if first_value:\n",
        "        all_data['ind_values_connected'] = all_data[feature].astype(str)\n",
        "        first_value = False\n",
        "    else:\n",
        "        all_data['ind_values_connected'] += all_data[feature].astype(str)"
      ],
      "metadata": {
        "id": "9H9eQSHm8s9B"
      },
      "execution_count": 17,
      "outputs": []
    },
    {
      "cell_type": "code",
      "source": [
        "all_data['ind_values_connected']"
      ],
      "metadata": {
        "colab": {
          "base_uri": "https://localhost:8080/"
        },
        "id": "Buff2BgFDNoY",
        "outputId": "22c6df4e-504d-4a4a-8194-81cee1794852"
      },
      "execution_count": 18,
      "outputs": [
        {
          "output_type": "execute_result",
          "data": {
            "text/plain": [
              "0          2251001000000011010\n",
              "1           117000010000003001\n",
              "2          5491000100000012100\n",
              "3           012001000000008100\n",
              "4           020101000000009100\n",
              "                  ...         \n",
              "1488023     016000100000002001\n",
              "1488024    5351000100000011100\n",
              "1488025     015001000000005001\n",
              "1488026    6151000010000013100\n",
              "1488027    7141000010000012100\n",
              "Name: ind_values_connected, Length: 1488028, dtype: object"
            ]
          },
          "metadata": {},
          "execution_count": 18
        }
      ]
    },
    {
      "cell_type": "code",
      "source": [
        "all_data['ind_values_connected'].value_counts()"
      ],
      "metadata": {
        "colab": {
          "base_uri": "https://localhost:8080/"
        },
        "id": "jxetQ1-GHvqh",
        "outputId": "e6a6ab5c-d101-45e5-d140-bba9d1a3d0cc"
      },
      "execution_count": 19,
      "outputs": [
        {
          "output_type": "execute_result",
          "data": {
            "text/plain": [
              "021001000000007100     2992\n",
              "012001000000008100     2784\n",
              "012001000000007100     2568\n",
              "011001000000007100     2174\n",
              "020001000000007100     2131\n",
              "                       ... \n",
              "020060001000004010        1\n",
              "647000010000007100        1\n",
              "3481200010000012100       1\n",
              "546120100000004100        1\n",
              "518000100010013001        1\n",
              "Name: ind_values_connected, Length: 143769, dtype: int64"
            ]
          },
          "metadata": {},
          "execution_count": 19
        }
      ]
    },
    {
      "cell_type": "code",
      "source": [
        "list_count_features = []\n",
        "for feature in list_category + ['ind_values_connected']:\n",
        "    value_dictionary = all_data[feature].value_counts().to_dict()\n",
        "    lambda_values_count = lambda x: value_dictionary[x]\n",
        "    all_data[f'{feature}_values_count'] = all_data[feature].apply(lambda_values_count)\n",
        "    list_count_features.append(f'{feature}_values_count')"
      ],
      "metadata": {
        "id": "vw3Saq9nhJ1G"
      },
      "execution_count": 20,
      "outputs": []
    },
    {
      "cell_type": "code",
      "source": [
        "list_count_features"
      ],
      "metadata": {
        "colab": {
          "base_uri": "https://localhost:8080/"
        },
        "id": "TuC50SmoLPmA",
        "outputId": "782ec06d-fec0-4d6a-884d-4c6be776e724"
      },
      "execution_count": 21,
      "outputs": [
        {
          "output_type": "execute_result",
          "data": {
            "text/plain": [
              "['ps_ind_02_cat_values_count',\n",
              " 'ps_ind_04_cat_values_count',\n",
              " 'ps_ind_05_cat_values_count',\n",
              " 'ps_car_01_cat_values_count',\n",
              " 'ps_car_02_cat_values_count',\n",
              " 'ps_car_03_cat_values_count',\n",
              " 'ps_car_04_cat_values_count',\n",
              " 'ps_car_05_cat_values_count',\n",
              " 'ps_car_06_cat_values_count',\n",
              " 'ps_car_07_cat_values_count',\n",
              " 'ps_car_08_cat_values_count',\n",
              " 'ps_car_09_cat_values_count',\n",
              " 'ps_car_10_cat_values_count',\n",
              " 'ps_car_11_cat_values_count',\n",
              " 'ind_values_connected_values_count']"
            ]
          },
          "metadata": {},
          "execution_count": 21
        }
      ]
    },
    {
      "cell_type": "markdown",
      "source": [
        "\n",
        "\n",
        "---\n",
        "\n",
        "작업 중\n",
        "\n",
        "---\n",
        "\n"
      ],
      "metadata": {
        "id": "fi0b0fs5lhSF"
      }
    },
    {
      "cell_type": "markdown",
      "source": [
        "## **1.2. 불필요한 피처 제거**"
      ],
      "metadata": {
        "id": "hhEP0e4XnhmA"
      }
    },
    {
      "cell_type": "markdown",
      "source": [
        "반드시 제거해야 할 피처뿐만 아니라 제거 여부를 확정할 수 없는 피처까지 모두 제거하겠습니다."
      ],
      "metadata": {
        "id": "4eb73bQeZhDm"
      }
    },
    {
      "cell_type": "code",
      "source": [
        "drop_all = ['ps_car_10_cat', 'ps_ind_10_bin', 'ps_ind_11_bin', 'ps_ind_13_bin',\n",
        "            'ps_calc_15_bin', 'ps_calc_16_bin', 'ps_calc_17_bin', 'ps_calc_18_bin',\n",
        "            'ps_calc_19_bin', 'ps_calc_20_bin', 'ps_calc_01', 'ps_calc_02', 'ps_calc_03',\n",
        "            'ps_ind_14', 'ps_calc_04', 'ps_calc_05', 'ps_calc_06', 'ps_calc_07',\n",
        "            'ps_calc_08', 'ps_calc_09', 'ps_calc_10', 'ps_calc_11', 'ps_calc_12',\n",
        "            'ps_calc_13', 'ps_calc_14']\n",
        "all_data.drop(drop_all, axis=1, inplace=True)"
      ],
      "metadata": {
        "id": "RUN5ESD_rf44"
      },
      "execution_count": null,
      "outputs": []
    },
    {
      "cell_type": "code",
      "source": [
        "all_data.head(3)"
      ],
      "metadata": {
        "colab": {
          "base_uri": "https://localhost:8080/",
          "height": 208
        },
        "id": "tcUmxU0rvtYr",
        "outputId": "6508b954-e482-4b0a-eba7-82151b1ba117"
      },
      "execution_count": null,
      "outputs": [
        {
          "output_type": "execute_result",
          "data": {
            "text/plain": [
              "   ps_ind_01  ps_ind_02_cat  ps_ind_03  ps_ind_04_cat  ps_ind_05_cat  \\\n",
              "0          2              2          5              1              0   \n",
              "1          1              1          7              0              0   \n",
              "2          5              4          9              1              0   \n",
              "\n",
              "   ps_ind_06_bin  ps_ind_07_bin  ps_ind_08_bin  ps_ind_09_bin  ps_ind_12_bin  \\\n",
              "0              0              1              0              0              0   \n",
              "1              0              0              1              0              0   \n",
              "2              0              0              1              0              0   \n",
              "\n",
              "   ps_ind_15  ps_ind_16_bin  ps_ind_17_bin  ps_ind_18_bin  ps_reg_01  \\\n",
              "0         11              0              1              0        0.7   \n",
              "1          3              0              0              1        0.8   \n",
              "2         12              1              0              0        0.0   \n",
              "\n",
              "   ps_reg_02  ps_reg_03  ps_car_01_cat  ps_car_02_cat  ps_car_03_cat  \\\n",
              "0        0.2   0.718070             10              1             -1   \n",
              "1        0.4   0.766078             11              1             -1   \n",
              "2        0.0  -1.000000              7              1             -1   \n",
              "\n",
              "   ps_car_04_cat  ps_car_05_cat  ps_car_06_cat  ps_car_07_cat  ps_car_08_cat  \\\n",
              "0              0              1              4              1              0   \n",
              "1              0             -1             11              1              1   \n",
              "2              0             -1             14              1              1   \n",
              "\n",
              "   ps_car_09_cat  ps_car_11_cat  ps_car_11  ps_car_12  ps_car_13  ps_car_14  \\\n",
              "0              0             12          2   0.400000   0.883679   0.370810   \n",
              "1              2             19          3   0.316228   0.618817   0.388716   \n",
              "2              2             60          1   0.316228   0.641586   0.347275   \n",
              "\n",
              "   ps_car_15  \n",
              "0   3.605551  \n",
              "1   2.449490  \n",
              "2   3.316625  "
            ],
            "text/html": [
              "\n",
              "  <div id=\"df-bb147956-de7e-4ec1-a13d-8a827ffbeedc\">\n",
              "    <div class=\"colab-df-container\">\n",
              "      <div>\n",
              "<style scoped>\n",
              "    .dataframe tbody tr th:only-of-type {\n",
              "        vertical-align: middle;\n",
              "    }\n",
              "\n",
              "    .dataframe tbody tr th {\n",
              "        vertical-align: top;\n",
              "    }\n",
              "\n",
              "    .dataframe thead th {\n",
              "        text-align: right;\n",
              "    }\n",
              "</style>\n",
              "<table border=\"1\" class=\"dataframe\">\n",
              "  <thead>\n",
              "    <tr style=\"text-align: right;\">\n",
              "      <th></th>\n",
              "      <th>ps_ind_01</th>\n",
              "      <th>ps_ind_02_cat</th>\n",
              "      <th>ps_ind_03</th>\n",
              "      <th>ps_ind_04_cat</th>\n",
              "      <th>ps_ind_05_cat</th>\n",
              "      <th>ps_ind_06_bin</th>\n",
              "      <th>ps_ind_07_bin</th>\n",
              "      <th>ps_ind_08_bin</th>\n",
              "      <th>ps_ind_09_bin</th>\n",
              "      <th>ps_ind_12_bin</th>\n",
              "      <th>ps_ind_15</th>\n",
              "      <th>ps_ind_16_bin</th>\n",
              "      <th>ps_ind_17_bin</th>\n",
              "      <th>ps_ind_18_bin</th>\n",
              "      <th>ps_reg_01</th>\n",
              "      <th>ps_reg_02</th>\n",
              "      <th>ps_reg_03</th>\n",
              "      <th>ps_car_01_cat</th>\n",
              "      <th>ps_car_02_cat</th>\n",
              "      <th>ps_car_03_cat</th>\n",
              "      <th>ps_car_04_cat</th>\n",
              "      <th>ps_car_05_cat</th>\n",
              "      <th>ps_car_06_cat</th>\n",
              "      <th>ps_car_07_cat</th>\n",
              "      <th>ps_car_08_cat</th>\n",
              "      <th>ps_car_09_cat</th>\n",
              "      <th>ps_car_11_cat</th>\n",
              "      <th>ps_car_11</th>\n",
              "      <th>ps_car_12</th>\n",
              "      <th>ps_car_13</th>\n",
              "      <th>ps_car_14</th>\n",
              "      <th>ps_car_15</th>\n",
              "    </tr>\n",
              "  </thead>\n",
              "  <tbody>\n",
              "    <tr>\n",
              "      <th>0</th>\n",
              "      <td>2</td>\n",
              "      <td>2</td>\n",
              "      <td>5</td>\n",
              "      <td>1</td>\n",
              "      <td>0</td>\n",
              "      <td>0</td>\n",
              "      <td>1</td>\n",
              "      <td>0</td>\n",
              "      <td>0</td>\n",
              "      <td>0</td>\n",
              "      <td>11</td>\n",
              "      <td>0</td>\n",
              "      <td>1</td>\n",
              "      <td>0</td>\n",
              "      <td>0.7</td>\n",
              "      <td>0.2</td>\n",
              "      <td>0.718070</td>\n",
              "      <td>10</td>\n",
              "      <td>1</td>\n",
              "      <td>-1</td>\n",
              "      <td>0</td>\n",
              "      <td>1</td>\n",
              "      <td>4</td>\n",
              "      <td>1</td>\n",
              "      <td>0</td>\n",
              "      <td>0</td>\n",
              "      <td>12</td>\n",
              "      <td>2</td>\n",
              "      <td>0.400000</td>\n",
              "      <td>0.883679</td>\n",
              "      <td>0.370810</td>\n",
              "      <td>3.605551</td>\n",
              "    </tr>\n",
              "    <tr>\n",
              "      <th>1</th>\n",
              "      <td>1</td>\n",
              "      <td>1</td>\n",
              "      <td>7</td>\n",
              "      <td>0</td>\n",
              "      <td>0</td>\n",
              "      <td>0</td>\n",
              "      <td>0</td>\n",
              "      <td>1</td>\n",
              "      <td>0</td>\n",
              "      <td>0</td>\n",
              "      <td>3</td>\n",
              "      <td>0</td>\n",
              "      <td>0</td>\n",
              "      <td>1</td>\n",
              "      <td>0.8</td>\n",
              "      <td>0.4</td>\n",
              "      <td>0.766078</td>\n",
              "      <td>11</td>\n",
              "      <td>1</td>\n",
              "      <td>-1</td>\n",
              "      <td>0</td>\n",
              "      <td>-1</td>\n",
              "      <td>11</td>\n",
              "      <td>1</td>\n",
              "      <td>1</td>\n",
              "      <td>2</td>\n",
              "      <td>19</td>\n",
              "      <td>3</td>\n",
              "      <td>0.316228</td>\n",
              "      <td>0.618817</td>\n",
              "      <td>0.388716</td>\n",
              "      <td>2.449490</td>\n",
              "    </tr>\n",
              "    <tr>\n",
              "      <th>2</th>\n",
              "      <td>5</td>\n",
              "      <td>4</td>\n",
              "      <td>9</td>\n",
              "      <td>1</td>\n",
              "      <td>0</td>\n",
              "      <td>0</td>\n",
              "      <td>0</td>\n",
              "      <td>1</td>\n",
              "      <td>0</td>\n",
              "      <td>0</td>\n",
              "      <td>12</td>\n",
              "      <td>1</td>\n",
              "      <td>0</td>\n",
              "      <td>0</td>\n",
              "      <td>0.0</td>\n",
              "      <td>0.0</td>\n",
              "      <td>-1.000000</td>\n",
              "      <td>7</td>\n",
              "      <td>1</td>\n",
              "      <td>-1</td>\n",
              "      <td>0</td>\n",
              "      <td>-1</td>\n",
              "      <td>14</td>\n",
              "      <td>1</td>\n",
              "      <td>1</td>\n",
              "      <td>2</td>\n",
              "      <td>60</td>\n",
              "      <td>1</td>\n",
              "      <td>0.316228</td>\n",
              "      <td>0.641586</td>\n",
              "      <td>0.347275</td>\n",
              "      <td>3.316625</td>\n",
              "    </tr>\n",
              "  </tbody>\n",
              "</table>\n",
              "</div>\n",
              "      <button class=\"colab-df-convert\" onclick=\"convertToInteractive('df-bb147956-de7e-4ec1-a13d-8a827ffbeedc')\"\n",
              "              title=\"Convert this dataframe to an interactive table.\"\n",
              "              style=\"display:none;\">\n",
              "        \n",
              "  <svg xmlns=\"http://www.w3.org/2000/svg\" height=\"24px\"viewBox=\"0 0 24 24\"\n",
              "       width=\"24px\">\n",
              "    <path d=\"M0 0h24v24H0V0z\" fill=\"none\"/>\n",
              "    <path d=\"M18.56 5.44l.94 2.06.94-2.06 2.06-.94-2.06-.94-.94-2.06-.94 2.06-2.06.94zm-11 1L8.5 8.5l.94-2.06 2.06-.94-2.06-.94L8.5 2.5l-.94 2.06-2.06.94zm10 10l.94 2.06.94-2.06 2.06-.94-2.06-.94-.94-2.06-.94 2.06-2.06.94z\"/><path d=\"M17.41 7.96l-1.37-1.37c-.4-.4-.92-.59-1.43-.59-.52 0-1.04.2-1.43.59L10.3 9.45l-7.72 7.72c-.78.78-.78 2.05 0 2.83L4 21.41c.39.39.9.59 1.41.59.51 0 1.02-.2 1.41-.59l7.78-7.78 2.81-2.81c.8-.78.8-2.07 0-2.86zM5.41 20L4 18.59l7.72-7.72 1.47 1.35L5.41 20z\"/>\n",
              "  </svg>\n",
              "      </button>\n",
              "      \n",
              "  <style>\n",
              "    .colab-df-container {\n",
              "      display:flex;\n",
              "      flex-wrap:wrap;\n",
              "      gap: 12px;\n",
              "    }\n",
              "\n",
              "    .colab-df-convert {\n",
              "      background-color: #E8F0FE;\n",
              "      border: none;\n",
              "      border-radius: 50%;\n",
              "      cursor: pointer;\n",
              "      display: none;\n",
              "      fill: #1967D2;\n",
              "      height: 32px;\n",
              "      padding: 0 0 0 0;\n",
              "      width: 32px;\n",
              "    }\n",
              "\n",
              "    .colab-df-convert:hover {\n",
              "      background-color: #E2EBFA;\n",
              "      box-shadow: 0px 1px 2px rgba(60, 64, 67, 0.3), 0px 1px 3px 1px rgba(60, 64, 67, 0.15);\n",
              "      fill: #174EA6;\n",
              "    }\n",
              "\n",
              "    [theme=dark] .colab-df-convert {\n",
              "      background-color: #3B4455;\n",
              "      fill: #D2E3FC;\n",
              "    }\n",
              "\n",
              "    [theme=dark] .colab-df-convert:hover {\n",
              "      background-color: #434B5C;\n",
              "      box-shadow: 0px 1px 3px 1px rgba(0, 0, 0, 0.15);\n",
              "      filter: drop-shadow(0px 1px 2px rgba(0, 0, 0, 0.3));\n",
              "      fill: #FFFFFF;\n",
              "    }\n",
              "  </style>\n",
              "\n",
              "      <script>\n",
              "        const buttonEl =\n",
              "          document.querySelector('#df-bb147956-de7e-4ec1-a13d-8a827ffbeedc button.colab-df-convert');\n",
              "        buttonEl.style.display =\n",
              "          google.colab.kernel.accessAllowed ? 'block' : 'none';\n",
              "\n",
              "        async function convertToInteractive(key) {\n",
              "          const element = document.querySelector('#df-bb147956-de7e-4ec1-a13d-8a827ffbeedc');\n",
              "          const dataTable =\n",
              "            await google.colab.kernel.invokeFunction('convertToInteractive',\n",
              "                                                     [key], {});\n",
              "          if (!dataTable) return;\n",
              "\n",
              "          const docLinkHtml = 'Like what you see? Visit the ' +\n",
              "            '<a target=\"_blank\" href=https://colab.research.google.com/notebooks/data_table.ipynb>data table notebook</a>'\n",
              "            + ' to learn more about interactive tables.';\n",
              "          element.innerHTML = '';\n",
              "          dataTable['output_type'] = 'display_data';\n",
              "          await google.colab.output.renderOutput(dataTable, element);\n",
              "          const docLink = document.createElement('div');\n",
              "          docLink.innerHTML = docLinkHtml;\n",
              "          element.appendChild(docLink);\n",
              "        }\n",
              "      </script>\n",
              "    </div>\n",
              "  </div>\n",
              "  "
            ]
          },
          "metadata": {},
          "execution_count": 12
        }
      ]
    },
    {
      "cell_type": "markdown",
      "source": [
        "## **1.3. 명목형 피처에 원-핫 인코딩**"
      ],
      "metadata": {
        "id": "7RLkxL862qxS"
      }
    },
    {
      "cell_type": "markdown",
      "source": [
        "명목형 피처에 원-핫 인코딩을 수행하겠습니다. 먼저 각 피처명을 리스트에 분류하겠습니다."
      ],
      "metadata": {
        "id": "p7mvLj9tXaYf"
      }
    },
    {
      "cell_type": "code",
      "source": [
        "list_category =[]\n",
        "list_bin = []\n",
        "list_continuous = []\n",
        "list_ordinal = []\n",
        "\n",
        "for column in all_data.columns:\n",
        "    if 'cat' in column:\n",
        "        list_category.append(column)\n",
        "    elif ('bin' in column):\n",
        "        list_bin.append(column)\n",
        "    elif all_data[column].dtype == 'float64':\n",
        "        list_continuous.append(column)\n",
        "    elif (all_data[column].dtype == 'int64'):\n",
        "        list_ordinal.append(column)"
      ],
      "metadata": {
        "id": "lNxNeO4TcD52"
      },
      "execution_count": null,
      "outputs": []
    },
    {
      "cell_type": "markdown",
      "source": [
        "명목형 피처에 원-핫 인코딩을 수행하여 따로 객체화하겠습니다. 아래에서 전체 데이터와 결합할 예정입니다."
      ],
      "metadata": {
        "id": "4SzDZTh8XoRH"
      }
    },
    {
      "cell_type": "code",
      "source": [
        "from sklearn.preprocessing import OneHotEncoder\n",
        "\n",
        "one_hot_encoder = OneHotEncoder()\n",
        "category_one_hot_encoded = one_hot_encoder.fit_transform(all_data[list_category])"
      ],
      "metadata": {
        "id": "PxqHKcLu7OE5"
      },
      "execution_count": null,
      "outputs": []
    },
    {
      "cell_type": "code",
      "source": [
        "category_one_hot_encoded"
      ],
      "metadata": {
        "colab": {
          "base_uri": "https://localhost:8080/"
        },
        "id": "_76dyQ5rUbqF",
        "outputId": "1374e868-ac08-4b6e-ddde-bd137a4874a9"
      },
      "execution_count": null,
      "outputs": [
        {
          "output_type": "execute_result",
          "data": {
            "text/plain": [
              "<1488028x181 sparse matrix of type '<class 'numpy.float64'>'\n",
              "\twith 19344364 stored elements in Compressed Sparse Row format>"
            ]
          },
          "metadata": {},
          "execution_count": 15
        }
      ]
    },
    {
      "cell_type": "markdown",
      "source": [
        "전체 데이터에서 명목형 피처를 제거해 두겠습니다."
      ],
      "metadata": {
        "id": "CvBIC06JZWYQ"
      }
    },
    {
      "cell_type": "code",
      "source": [
        "all_data.drop(list_category, axis=1, inplace=True)"
      ],
      "metadata": {
        "id": "4pD_etG9U6y1"
      },
      "execution_count": null,
      "outputs": []
    },
    {
      "cell_type": "markdown",
      "source": [
        "## **1.4. 순서형 피처에 min-max 정규화**"
      ],
      "metadata": {
        "id": "l7w1426qnhjq"
      }
    },
    {
      "cell_type": "markdown",
      "source": [
        "순서형 피처에 min-max 정규화를 적용하겠습니다."
      ],
      "metadata": {
        "id": "gNl80NISXVn1"
      }
    },
    {
      "cell_type": "code",
      "source": [
        "from sklearn.preprocessing import MinMaxScaler\n",
        "\n",
        "min_max_scaler = MinMaxScaler()\n",
        "all_data[list_ordinal] = min_max_scaler.fit_transform(all_data[list_ordinal])"
      ],
      "metadata": {
        "id": "m-owZvJFW62z"
      },
      "execution_count": null,
      "outputs": []
    },
    {
      "cell_type": "code",
      "source": [
        "all_data[list_ordinal].head(3)"
      ],
      "metadata": {
        "colab": {
          "base_uri": "https://localhost:8080/",
          "height": 144
        },
        "id": "W6k5J0vCXIf0",
        "outputId": "105b6374-dc3c-4da4-ba0a-df90cc5741ef"
      },
      "execution_count": null,
      "outputs": [
        {
          "output_type": "execute_result",
          "data": {
            "text/plain": [
              "   ps_ind_01  ps_ind_03  ps_ind_15  ps_car_11\n",
              "0   0.285714   0.454545   0.846154       0.75\n",
              "1   0.142857   0.636364   0.230769       1.00\n",
              "2   0.714286   0.818182   0.923077       0.50"
            ],
            "text/html": [
              "\n",
              "  <div id=\"df-9112d840-faad-424d-a718-339a57e665f4\">\n",
              "    <div class=\"colab-df-container\">\n",
              "      <div>\n",
              "<style scoped>\n",
              "    .dataframe tbody tr th:only-of-type {\n",
              "        vertical-align: middle;\n",
              "    }\n",
              "\n",
              "    .dataframe tbody tr th {\n",
              "        vertical-align: top;\n",
              "    }\n",
              "\n",
              "    .dataframe thead th {\n",
              "        text-align: right;\n",
              "    }\n",
              "</style>\n",
              "<table border=\"1\" class=\"dataframe\">\n",
              "  <thead>\n",
              "    <tr style=\"text-align: right;\">\n",
              "      <th></th>\n",
              "      <th>ps_ind_01</th>\n",
              "      <th>ps_ind_03</th>\n",
              "      <th>ps_ind_15</th>\n",
              "      <th>ps_car_11</th>\n",
              "    </tr>\n",
              "  </thead>\n",
              "  <tbody>\n",
              "    <tr>\n",
              "      <th>0</th>\n",
              "      <td>0.285714</td>\n",
              "      <td>0.454545</td>\n",
              "      <td>0.846154</td>\n",
              "      <td>0.75</td>\n",
              "    </tr>\n",
              "    <tr>\n",
              "      <th>1</th>\n",
              "      <td>0.142857</td>\n",
              "      <td>0.636364</td>\n",
              "      <td>0.230769</td>\n",
              "      <td>1.00</td>\n",
              "    </tr>\n",
              "    <tr>\n",
              "      <th>2</th>\n",
              "      <td>0.714286</td>\n",
              "      <td>0.818182</td>\n",
              "      <td>0.923077</td>\n",
              "      <td>0.50</td>\n",
              "    </tr>\n",
              "  </tbody>\n",
              "</table>\n",
              "</div>\n",
              "      <button class=\"colab-df-convert\" onclick=\"convertToInteractive('df-9112d840-faad-424d-a718-339a57e665f4')\"\n",
              "              title=\"Convert this dataframe to an interactive table.\"\n",
              "              style=\"display:none;\">\n",
              "        \n",
              "  <svg xmlns=\"http://www.w3.org/2000/svg\" height=\"24px\"viewBox=\"0 0 24 24\"\n",
              "       width=\"24px\">\n",
              "    <path d=\"M0 0h24v24H0V0z\" fill=\"none\"/>\n",
              "    <path d=\"M18.56 5.44l.94 2.06.94-2.06 2.06-.94-2.06-.94-.94-2.06-.94 2.06-2.06.94zm-11 1L8.5 8.5l.94-2.06 2.06-.94-2.06-.94L8.5 2.5l-.94 2.06-2.06.94zm10 10l.94 2.06.94-2.06 2.06-.94-2.06-.94-.94-2.06-.94 2.06-2.06.94z\"/><path d=\"M17.41 7.96l-1.37-1.37c-.4-.4-.92-.59-1.43-.59-.52 0-1.04.2-1.43.59L10.3 9.45l-7.72 7.72c-.78.78-.78 2.05 0 2.83L4 21.41c.39.39.9.59 1.41.59.51 0 1.02-.2 1.41-.59l7.78-7.78 2.81-2.81c.8-.78.8-2.07 0-2.86zM5.41 20L4 18.59l7.72-7.72 1.47 1.35L5.41 20z\"/>\n",
              "  </svg>\n",
              "      </button>\n",
              "      \n",
              "  <style>\n",
              "    .colab-df-container {\n",
              "      display:flex;\n",
              "      flex-wrap:wrap;\n",
              "      gap: 12px;\n",
              "    }\n",
              "\n",
              "    .colab-df-convert {\n",
              "      background-color: #E8F0FE;\n",
              "      border: none;\n",
              "      border-radius: 50%;\n",
              "      cursor: pointer;\n",
              "      display: none;\n",
              "      fill: #1967D2;\n",
              "      height: 32px;\n",
              "      padding: 0 0 0 0;\n",
              "      width: 32px;\n",
              "    }\n",
              "\n",
              "    .colab-df-convert:hover {\n",
              "      background-color: #E2EBFA;\n",
              "      box-shadow: 0px 1px 2px rgba(60, 64, 67, 0.3), 0px 1px 3px 1px rgba(60, 64, 67, 0.15);\n",
              "      fill: #174EA6;\n",
              "    }\n",
              "\n",
              "    [theme=dark] .colab-df-convert {\n",
              "      background-color: #3B4455;\n",
              "      fill: #D2E3FC;\n",
              "    }\n",
              "\n",
              "    [theme=dark] .colab-df-convert:hover {\n",
              "      background-color: #434B5C;\n",
              "      box-shadow: 0px 1px 3px 1px rgba(0, 0, 0, 0.15);\n",
              "      filter: drop-shadow(0px 1px 2px rgba(0, 0, 0, 0.3));\n",
              "      fill: #FFFFFF;\n",
              "    }\n",
              "  </style>\n",
              "\n",
              "      <script>\n",
              "        const buttonEl =\n",
              "          document.querySelector('#df-9112d840-faad-424d-a718-339a57e665f4 button.colab-df-convert');\n",
              "        buttonEl.style.display =\n",
              "          google.colab.kernel.accessAllowed ? 'block' : 'none';\n",
              "\n",
              "        async function convertToInteractive(key) {\n",
              "          const element = document.querySelector('#df-9112d840-faad-424d-a718-339a57e665f4');\n",
              "          const dataTable =\n",
              "            await google.colab.kernel.invokeFunction('convertToInteractive',\n",
              "                                                     [key], {});\n",
              "          if (!dataTable) return;\n",
              "\n",
              "          const docLinkHtml = 'Like what you see? Visit the ' +\n",
              "            '<a target=\"_blank\" href=https://colab.research.google.com/notebooks/data_table.ipynb>data table notebook</a>'\n",
              "            + ' to learn more about interactive tables.';\n",
              "          element.innerHTML = '';\n",
              "          dataTable['output_type'] = 'display_data';\n",
              "          await google.colab.output.renderOutput(dataTable, element);\n",
              "          const docLink = document.createElement('div');\n",
              "          docLink.innerHTML = docLinkHtml;\n",
              "          element.appendChild(docLink);\n",
              "        }\n",
              "      </script>\n",
              "    </div>\n",
              "  </div>\n",
              "  "
            ]
          },
          "metadata": {},
          "execution_count": 18
        }
      ]
    },
    {
      "cell_type": "markdown",
      "source": [
        "## **1.5. 전체 데이터와 매트릭스 결합**"
      ],
      "metadata": {
        "id": "Gm3G6Lh4WK_M"
      }
    },
    {
      "cell_type": "markdown",
      "source": [
        "전체 데이터와 원-핫 인코딩 된 명목형 피처 매트릭스를 결합하겠습니다. "
      ],
      "metadata": {
        "id": "E0gus5tJYYJ9"
      }
    },
    {
      "cell_type": "code",
      "source": [
        "from scipy import sparse\n",
        "\n",
        "all_data_sparse_hstack = sparse.hstack([sparse.csr_matrix(all_data),\n",
        "                                       category_one_hot_encoded], format='csr')"
      ],
      "metadata": {
        "id": "2TZiQ5_CVXvq"
      },
      "execution_count": null,
      "outputs": []
    },
    {
      "cell_type": "code",
      "source": [
        "all_data_sparse_hstack"
      ],
      "metadata": {
        "colab": {
          "base_uri": "https://localhost:8080/"
        },
        "id": "Mi65xkyVV_Av",
        "outputId": "ba33ece2-549d-493b-baf4-6774fa73215d"
      },
      "execution_count": null,
      "outputs": [
        {
          "output_type": "execute_result",
          "data": {
            "text/plain": [
              "<1488028x200 sparse matrix of type '<class 'numpy.float64'>'\n",
              "\twith 37707591 stored elements in Compressed Sparse Row format>"
            ]
          },
          "metadata": {},
          "execution_count": 20
        }
      ]
    },
    {
      "cell_type": "markdown",
      "source": [
        "# **2. 모델링**"
      ],
      "metadata": {
        "id": "kgYEvoyJaWnG"
      }
    },
    {
      "cell_type": "markdown",
      "source": [
        "## **2.1. 데이터 준비**"
      ],
      "metadata": {
        "id": "MPuqZtoyc5ym"
      }
    },
    {
      "cell_type": "markdown",
      "source": [
        "데이터를 준비하겠습니다."
      ],
      "metadata": {
        "id": "Ta0ViKN8ODBr"
      }
    },
    {
      "cell_type": "code",
      "source": [
        "size_train = len(train)\n",
        "X_train_sparse = all_data_sparse_hstack[:size_train]\n",
        "X_test_sparse = all_data_sparse_hstack[size_train:]\n",
        "y_train_original = train['target'].values"
      ],
      "metadata": {
        "id": "aQlcKY4tbJZd"
      },
      "execution_count": null,
      "outputs": []
    },
    {
      "cell_type": "markdown",
      "source": [
        "## **2.2. 정규화된 지니계수 산출 함수 선언**"
      ],
      "metadata": {
        "id": "DE_mV4rL0p8a"
      }
    },
    {
      "cell_type": "markdown",
      "source": [
        "정규화된 지니계수를 계산하는 함수를 선언하겠습니다. 참고로 지니계수는 값이 클수록 불평등함을 의미하고, 정규화된 지니계수는 값이 클수록 좋은 성능을 의미합니다. "
      ],
      "metadata": {
        "id": "U5ZntM1b8RrM"
      }
    },
    {
      "cell_type": "code",
      "source": [
        "def normalized_gini_coefficient_2(y_true, y_prediction): # `y_true`는 실젯값, `y_prediction`은 예측값입니다.\n",
        "    # 실젯값 크기와 예측값 크기를 대조합니다.\n",
        "    assert y_true.shape == y_prediction.shape\n",
        "\n",
        "    number_samples = y_true.shape[0] # 데이터 개수를 객체화합니다.\n",
        "    lolenz_middle = np.linspace(1 / number_samples, 1, number_samples) # 대각선 값을 객체화합니다.\n",
        "\n",
        "    # 예측값의 지니계수를 산출합니다.\n",
        "    prediction_order = y_true[y_prediction.argsort()] # `y_prediction` 크기 순서에 맞추어 `y_true` 값을 재정렬합니다.\n",
        "    lolenz_prediction = np.cumsum(prediction_order) / np.sum(prediction_order) # 로렌츠 곡선을 객체화합니다.\n",
        "    gini_prediction = np.sum(lolenz_middle - lolenz_prediction)\n",
        "\n",
        "    # 모든 예측이 정확한 경우의 지니계수를 산출합니다.\n",
        "    true_order = y_true[y_true.argsort()] # `y_true` 크기 순서에 맞추어 `y_true` 값을 재정렬합니다.\n",
        "    lolenz_true = np.cumsum(true_order) / np.sum(true_order) # 로렌츠 곡선을 객체화합니다.\n",
        "    gini_true = np.sum(lolenz_middle - lolenz_true)\n",
        "\n",
        "    # 정규화된 지니계수를 산출합니다.\n",
        "    normalized_gini_coefficient = gini_prediction / gini_true\n",
        "\n",
        "    return normalized_gini_coefficient"
      ],
      "metadata": {
        "id": "aqxFyRomhz41"
      },
      "execution_count": null,
      "outputs": []
    },
    {
      "cell_type": "markdown",
      "source": [
        "## **2.3. 층화 K-폴드 및 OOF 예측을 위한 변수 준비**"
      ],
      "metadata": {
        "id": "5NtIu8Iu01Xz"
      }
    },
    {
      "cell_type": "markdown",
      "source": [
        "타깃값이 불균형하므로 층화 K 폴드 방식을 채택하겠습니다. 아울러 성능 측정에 OOF prediction 방식을 활용하기 위해 예측 확률을 저장하는 1차원 배열 객체를 생성하겠습니다."
      ],
      "metadata": {
        "id": "oZ_r-KNhLYhQ"
      }
    },
    {
      "cell_type": "code",
      "source": [
        "from sklearn.model_selection import StratifiedKFold\n",
        "\n",
        "stratified_kfolds = StratifiedKFold(n_splits=5, shuffle=True, random_state=2023)\n",
        "\n",
        "# 1차원 배열을 생성합니다.\n",
        "oof_valid_predictions = np.zeros(X_train_sparse.shape[0])\n",
        "oof_test_predictions = np.zeros(X_test_sparse.shape[0])"
      ],
      "metadata": {
        "id": "oyIiwLpIJV_z"
      },
      "execution_count": null,
      "outputs": []
    },
    {
      "cell_type": "markdown",
      "source": [
        "## **2.4. 모델 훈련**"
      ],
      "metadata": {
        "id": "FcncZ27A48w-"
      }
    },
    {
      "cell_type": "markdown",
      "source": [
        "데이터셋 크기가 크기 때문에 훈련 속도가 빠른 LightGBM을 적용하겠습니다. 이번에는 파이썬 래퍼 형식으로 훈련해 보겠습니다."
      ],
      "metadata": {
        "id": "9Ued-O8x6AxZ"
      }
    },
    {
      "cell_type": "code",
      "source": [
        "# 파이썬 래퍼 형식\n",
        "import lightgbm as lgb\n",
        "\n",
        "# 모델을 훈련할 때 검증용으로 지정할 함수를 선언합니다.\n",
        "def gini_feval(predictions, dtrain):\n",
        "    labels = dtrain.get_label() # 데이터셋의 타깃값을 반환합니다.\n",
        "    return 'gini', normalized_gini_coefficient_2(labels, predictions), True\n",
        "# 함수 끝\n",
        "\n",
        "parameters = {\n",
        "    'objective': 'binary',\n",
        "    'learning_rate': 0.01,\n",
        "    'force_row_wise': True, # 경고 메시지를 띄우지 않습니다.\n",
        "    'random_state': 2023\n",
        "}\n",
        "\n",
        "for index, (train_index, valid_index) in enumerate(stratified_kfolds.split(X_train_sparse, y_train_original)):\n",
        "    print('---', f'fold {index + 1} in folds {stratified_kfolds.n_splits}', '---')\n",
        "\n",
        "    X_train, y_train = X_train_sparse[train_index], y_train_original[train_index]\n",
        "    X_valid, y_valid = X_train_sparse[valid_index], y_train_original[valid_index]\n",
        "\n",
        "    dtrain = lgb.Dataset(X_train, y_train)\n",
        "    dvalid = lgb.Dataset(X_valid, y_valid)\n",
        "\n",
        "    lgb_model = lgb.train(params=parameters,\n",
        "                          train_set=dtrain,\n",
        "                          num_boost_round=5000, # 부스팅 반복 횟수를 지정합니다.\n",
        "                          valid_sets=dvalid, \n",
        "                          feval=gini_feval, # 검증 평가 지표로 `gini_feval` 함수를 지정합니다.\n",
        "                          early_stopping_rounds=100, # 100회 안에 성능이 향상되지 않으면 종료합니다.\n",
        "                          verbose_eval=50) # 50번째에서 점수를 출력합니다.\n",
        "    \n",
        "    # 테스트 세트로 OOF 예측을 수행합니다.\n",
        "    oof_test_predictions += lgb_model.predict(X_test_sparse)/stratified_kfolds.n_splits\n",
        "    # 검증 세트로 타깃값을 예측하여 모델 성능을 측정합니다.\n",
        "    oof_valid_predictions[valid_index] += lgb_model.predict(X_valid)\n",
        "    \n",
        "    # 검증 세트로 타깃값을 예측한 배열을 토대로 정규화된 지니계수를 산출합니다.\n",
        "    normalized_gini_coefficient_final = normalized_gini_coefficient_2(y_valid, oof_valid_predictions[valid_index])\n",
        "    print(f'fold {index+1}\\'s normalized gini coefficient: {normalized_gini_coefficient_final}\\n')"
      ],
      "metadata": {
        "colab": {
          "base_uri": "https://localhost:8080/"
        },
        "id": "PugDK4xXSFRb",
        "outputId": "959c705a-4921-4877-c482-47d576e38d61"
      },
      "execution_count": null,
      "outputs": [
        {
          "output_type": "stream",
          "name": "stdout",
          "text": [
            "--- fold 1 in folds 5 ---\n"
          ]
        },
        {
          "output_type": "stream",
          "name": "stderr",
          "text": [
            "/usr/local/lib/python3.9/dist-packages/lightgbm/engine.py:181: UserWarning: 'early_stopping_rounds' argument is deprecated and will be removed in a future release of LightGBM. Pass 'early_stopping()' callback via 'callbacks' argument instead.\n",
            "  _log_warning(\"'early_stopping_rounds' argument is deprecated and will be removed in a future release of LightGBM. \"\n",
            "/usr/local/lib/python3.9/dist-packages/lightgbm/engine.py:239: UserWarning: 'verbose_eval' argument is deprecated and will be removed in a future release of LightGBM. Pass 'log_evaluation()' callback via 'callbacks' argument instead.\n",
            "  _log_warning(\"'verbose_eval' argument is deprecated and will be removed in a future release of LightGBM. \"\n"
          ]
        },
        {
          "output_type": "stream",
          "name": "stdout",
          "text": [
            "[LightGBM] [Info] Number of positive: 17355, number of negative: 458814\n",
            "[LightGBM] [Info] Total Bins 1340\n",
            "[LightGBM] [Info] Number of data points in the train set: 476169, number of used features: 199\n",
            "[LightGBM] [Info] [binary:BoostFromScore]: pavg=0.036447 -> initscore=-3.274764\n",
            "[LightGBM] [Info] Start training from score -3.274764\n",
            "Training until validation scores don't improve for 100 rounds\n",
            "[50]\tvalid_0's binary_logloss: 0.154265\tvalid_0's gini: 0.246193\n",
            "[100]\tvalid_0's binary_logloss: 0.15328\tvalid_0's gini: 0.258727\n",
            "[150]\tvalid_0's binary_logloss: 0.152742\tvalid_0's gini: 0.265296\n",
            "[200]\tvalid_0's binary_logloss: 0.152409\tvalid_0's gini: 0.269537\n",
            "[250]\tvalid_0's binary_logloss: 0.152206\tvalid_0's gini: 0.272636\n",
            "[300]\tvalid_0's binary_logloss: 0.152075\tvalid_0's gini: 0.274704\n",
            "[350]\tvalid_0's binary_logloss: 0.151986\tvalid_0's gini: 0.276251\n",
            "[400]\tvalid_0's binary_logloss: 0.151934\tvalid_0's gini: 0.27719\n",
            "[450]\tvalid_0's binary_logloss: 0.151878\tvalid_0's gini: 0.278546\n",
            "[500]\tvalid_0's binary_logloss: 0.151852\tvalid_0's gini: 0.279344\n",
            "[550]\tvalid_0's binary_logloss: 0.15183\tvalid_0's gini: 0.279958\n",
            "[600]\tvalid_0's binary_logloss: 0.151823\tvalid_0's gini: 0.279856\n",
            "[650]\tvalid_0's binary_logloss: 0.151825\tvalid_0's gini: 0.279713\n",
            "Early stopping, best iteration is:\n",
            "[570]\tvalid_0's binary_logloss: 0.151822\tvalid_0's gini: 0.280062\n",
            "fold 1's normalized gini coefficient: 0.28006163608512513\n",
            "\n",
            "--- fold 2 in folds 5 ---\n",
            "[LightGBM] [Info] Number of positive: 17355, number of negative: 458814\n",
            "[LightGBM] [Info] Total Bins 1346\n",
            "[LightGBM] [Info] Number of data points in the train set: 476169, number of used features: 199\n",
            "[LightGBM] [Info] [binary:BoostFromScore]: pavg=0.036447 -> initscore=-3.274764\n",
            "[LightGBM] [Info] Start training from score -3.274764\n",
            "Training until validation scores don't improve for 100 rounds\n",
            "[50]\tvalid_0's binary_logloss: 0.154313\tvalid_0's gini: 0.250221\n",
            "[100]\tvalid_0's binary_logloss: 0.15329\tvalid_0's gini: 0.267108\n",
            "[150]\tvalid_0's binary_logloss: 0.152699\tvalid_0's gini: 0.277832\n",
            "[200]\tvalid_0's binary_logloss: 0.152334\tvalid_0's gini: 0.283619\n",
            "[250]\tvalid_0's binary_logloss: 0.152074\tvalid_0's gini: 0.288139\n",
            "[300]\tvalid_0's binary_logloss: 0.1519\tvalid_0's gini: 0.291375\n",
            "[350]\tvalid_0's binary_logloss: 0.151772\tvalid_0's gini: 0.293937\n",
            "[400]\tvalid_0's binary_logloss: 0.151684\tvalid_0's gini: 0.295697\n",
            "[450]\tvalid_0's binary_logloss: 0.151625\tvalid_0's gini: 0.29676\n",
            "[500]\tvalid_0's binary_logloss: 0.151587\tvalid_0's gini: 0.297504\n",
            "[550]\tvalid_0's binary_logloss: 0.151567\tvalid_0's gini: 0.297955\n",
            "[600]\tvalid_0's binary_logloss: 0.151559\tvalid_0's gini: 0.298026\n",
            "[650]\tvalid_0's binary_logloss: 0.151555\tvalid_0's gini: 0.297855\n",
            "Early stopping, best iteration is:\n",
            "[567]\tvalid_0's binary_logloss: 0.15156\tvalid_0's gini: 0.298148\n"
          ]
        }
      ]
    },
    {
      "cell_type": "markdown",
      "source": [
        "## **2.5. 성능 측정 및 파일 제출**"
      ],
      "metadata": {
        "id": "j-OaKlUI5EOU"
      }
    },
    {
      "cell_type": "code",
      "source": [
        "normalized_gini_coefficient_2(y_train_original, oof_valid_predictions)"
      ],
      "metadata": {
        "id": "11LP16mpIrfZ"
      },
      "execution_count": null,
      "outputs": []
    },
    {
      "cell_type": "code",
      "source": [
        "submission['target'] = oof_test_predictions\n",
        "submission.to_csv('Porto Seguro’s Safe Driver Prediction_submission_4.csv', index=False)"
      ],
      "metadata": {
        "id": "C0q60dPbVzZE"
      },
      "execution_count": null,
      "outputs": []
    },
    {
      "cell_type": "markdown",
      "source": [
        "프라이빗 스코어는 0.28357입니다. 이전 스코어인 0.28266보다 약간 올랐습니다. 순위는 5156팀 중 2608위에 위치합니다. 이전 순위인 2731위보다 약간 오른 수준입니다.\n",
        "\n",
        "다음 성능 향상 챕터에서는 파생 피처를 생성해 보겠습니다. 하이퍼파라미터 튜닝은 최종 모델링 챕터에서 수행하겠습니다."
      ],
      "metadata": {
        "id": "qFp4wSTwzWhA"
      }
    }
  ]
}