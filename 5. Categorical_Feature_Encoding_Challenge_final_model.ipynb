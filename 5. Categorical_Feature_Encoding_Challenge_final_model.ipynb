{
  "nbformat": 4,
  "nbformat_minor": 0,
  "metadata": {
    "colab": {
      "provenance": [],
      "toc_visible": true,
      "authorship_tag": "ABX9TyNx4qFTjEnUYVJFgHeaw5hi",
      "include_colab_link": true
    },
    "kernelspec": {
      "name": "python3",
      "display_name": "Python 3"
    },
    "language_info": {
      "name": "python"
    }
  },
  "cells": [
    {
      "cell_type": "markdown",
      "metadata": {
        "id": "view-in-github",
        "colab_type": "text"
      },
      "source": [
        "<a href=\"https://colab.research.google.com/github/LeeSeungwon89/Kaggle_Dacon_Practice/blob/main/5.%20Categorical_Feature_Encoding_Challenge_final_model.ipynb\" target=\"_parent\"><img src=\"https://colab.research.google.com/assets/colab-badge.svg\" alt=\"Open In Colab\"/></a>"
      ]
    },
    {
      "cell_type": "code",
      "execution_count": null,
      "metadata": {
        "id": "9m9nsEewr9Da"
      },
      "outputs": [],
      "source": [
        "!pip install kaggle\n",
        "from google.colab import files\n",
        "files.upload()"
      ]
    },
    {
      "cell_type": "code",
      "execution_count": null,
      "metadata": {
        "colab": {
          "base_uri": "https://localhost:8080/"
        },
        "id": "vBIPCwbvsN7X",
        "outputId": "f4c42adc-8abb-4474-d8ac-1049dce36eca"
      },
      "outputs": [
        {
          "name": "stdout",
          "output_type": "stream",
          "text": [
            "kaggle.json\n"
          ]
        }
      ],
      "source": [
        "ls -1ha kaggle.json"
      ]
    },
    {
      "cell_type": "code",
      "execution_count": null,
      "metadata": {
        "id": "6abqZTxNsO-J"
      },
      "outputs": [],
      "source": [
        "!mkdir -p ~/.kaggle\n",
        "!cp kaggle.json ~/.kaggle/\n",
        "\n",
        "# Permission Warning이 발생하지 않도록 해줍니다.\n",
        "!chmod 600 ~/.kaggle/kaggle.json\n",
        "\n",
        "# 참가한 대회 리스트를 확인합니다.\n",
        "# !kaggle competitions list"
      ]
    },
    {
      "cell_type": "code",
      "execution_count": null,
      "metadata": {
        "colab": {
          "base_uri": "https://localhost:8080/"
        },
        "id": "brHHrTx_sRbP",
        "outputId": "fb8e2106-3db0-41b1-a74e-dc8e5211cd39"
      },
      "outputs": [
        {
          "name": "stdout",
          "output_type": "stream",
          "text": [
            "Downloading cat-in-the-dat.zip to /content\n",
            " 42% 9.00M/21.2M [00:00<00:00, 69.4MB/s]\n",
            "100% 21.2M/21.2M [00:00<00:00, 123MB/s] \n"
          ]
        }
      ],
      "source": [
        "!kaggle competitions download -c cat-in-the-dat"
      ]
    },
    {
      "cell_type": "code",
      "execution_count": null,
      "metadata": {
        "colab": {
          "base_uri": "https://localhost:8080/"
        },
        "id": "6L3WGetdsUXQ",
        "outputId": "55ba7893-76db-4466-dfb2-e20c396cf866"
      },
      "outputs": [
        {
          "name": "stdout",
          "output_type": "stream",
          "text": [
            "cat-in-the-dat.zip  kaggle.json  sample_data\n"
          ]
        }
      ],
      "source": [
        "!ls"
      ]
    },
    {
      "cell_type": "code",
      "execution_count": null,
      "metadata": {
        "colab": {
          "base_uri": "https://localhost:8080/"
        },
        "id": "w0dL3PSNsWBG",
        "outputId": "35008887-326f-4357-df66-f805876aea72"
      },
      "outputs": [
        {
          "name": "stdout",
          "output_type": "stream",
          "text": [
            "Archive:  cat-in-the-dat.zip\n",
            "  inflating: sample_submission.csv   \n",
            "  inflating: test.csv                \n",
            "  inflating: train.csv               \n"
          ]
        }
      ],
      "source": [
        "!unzip cat-in-the-dat.zip"
      ]
    },
    {
      "cell_type": "markdown",
      "metadata": {
        "id": "DbQ-udrePSVG"
      },
      "source": [
        "# **1. 최종 모델 확정**"
      ]
    },
    {
      "cell_type": "markdown",
      "metadata": {
        "id": "CH7YNsiCPYiM"
      },
      "source": [
        "최종 모델은 로지스틱 회귀 모델입니다. "
      ]
    },
    {
      "cell_type": "markdown",
      "metadata": {
        "id": "XsTi7HXishk9"
      },
      "source": [
        "# **2. 피처 엔지니어링**"
      ]
    },
    {
      "cell_type": "markdown",
      "metadata": {
        "id": "Kle0eYWFsrEd"
      },
      "source": [
        "## **2.1. 데이터 준비**"
      ]
    },
    {
      "cell_type": "markdown",
      "metadata": {
        "id": "wOyaDQuHtl_c"
      },
      "source": [
        "데이터를 준비하겠습니다. 'id' 피처의 고윳값 개수가 레코드 개수와 일치하므로 'id' 피처를 인덱스로 삼겠습니다."
      ]
    },
    {
      "cell_type": "code",
      "execution_count": null,
      "metadata": {
        "id": "XeHtbkdbsfX-"
      },
      "outputs": [],
      "source": [
        "import numpy as np\n",
        "import pandas as pd\n",
        "\n",
        "# 최대 행렬 수를 설정합니다.\n",
        "pd.set_option('display.max_column', 50)\n",
        "pd.set_option('display.max_rows', 50)\n",
        "\n",
        "# 데이터를 읽습니다. 'id' 피처는 인덱스로 지정합니다.\n",
        "train = pd.read_csv('train.csv', index_col='id')\n",
        "test = pd.read_csv('test.csv', index_col='id')\n",
        "submission = pd.read_csv('sample_submission.csv', index_col='id')"
      ]
    },
    {
      "cell_type": "markdown",
      "metadata": {
        "id": "VQsPJIkQt5pV"
      },
      "source": [
        "훈련 세트와 테스트 세트를 위아래로 쌓고 데이터 정보를 확인하겠습니다."
      ]
    },
    {
      "cell_type": "code",
      "execution_count": null,
      "metadata": {
        "colab": {
          "base_uri": "https://localhost:8080/",
          "height": 455
        },
        "id": "sJwUrxhlsza3",
        "outputId": "6cf09796-ef16-4166-a4f8-7e479c61c599"
      },
      "outputs": [
        {
          "data": {
            "text/html": [
              "\n",
              "  <div id=\"df-0f90eae5-545e-4dd2-ac89-1cfa346a9762\">\n",
              "    <div class=\"colab-df-container\">\n",
              "      <div>\n",
              "<style scoped>\n",
              "    .dataframe tbody tr th:only-of-type {\n",
              "        vertical-align: middle;\n",
              "    }\n",
              "\n",
              "    .dataframe tbody tr th {\n",
              "        vertical-align: top;\n",
              "    }\n",
              "\n",
              "    .dataframe thead th {\n",
              "        text-align: right;\n",
              "    }\n",
              "</style>\n",
              "<table border=\"1\" class=\"dataframe\">\n",
              "  <thead>\n",
              "    <tr style=\"text-align: right;\">\n",
              "      <th></th>\n",
              "      <th>bin_0</th>\n",
              "      <th>bin_1</th>\n",
              "      <th>bin_2</th>\n",
              "      <th>bin_3</th>\n",
              "      <th>bin_4</th>\n",
              "      <th>nom_0</th>\n",
              "      <th>nom_1</th>\n",
              "      <th>nom_2</th>\n",
              "      <th>nom_3</th>\n",
              "      <th>nom_4</th>\n",
              "      <th>nom_5</th>\n",
              "      <th>nom_6</th>\n",
              "      <th>nom_7</th>\n",
              "      <th>nom_8</th>\n",
              "      <th>nom_9</th>\n",
              "      <th>ord_0</th>\n",
              "      <th>ord_1</th>\n",
              "      <th>ord_2</th>\n",
              "      <th>ord_3</th>\n",
              "      <th>ord_4</th>\n",
              "      <th>ord_5</th>\n",
              "      <th>day</th>\n",
              "      <th>month</th>\n",
              "      <th>target</th>\n",
              "    </tr>\n",
              "    <tr>\n",
              "      <th>id</th>\n",
              "      <th></th>\n",
              "      <th></th>\n",
              "      <th></th>\n",
              "      <th></th>\n",
              "      <th></th>\n",
              "      <th></th>\n",
              "      <th></th>\n",
              "      <th></th>\n",
              "      <th></th>\n",
              "      <th></th>\n",
              "      <th></th>\n",
              "      <th></th>\n",
              "      <th></th>\n",
              "      <th></th>\n",
              "      <th></th>\n",
              "      <th></th>\n",
              "      <th></th>\n",
              "      <th></th>\n",
              "      <th></th>\n",
              "      <th></th>\n",
              "      <th></th>\n",
              "      <th></th>\n",
              "      <th></th>\n",
              "      <th></th>\n",
              "    </tr>\n",
              "  </thead>\n",
              "  <tbody>\n",
              "    <tr>\n",
              "      <th>0</th>\n",
              "      <td>0</td>\n",
              "      <td>0</td>\n",
              "      <td>0</td>\n",
              "      <td>T</td>\n",
              "      <td>Y</td>\n",
              "      <td>Green</td>\n",
              "      <td>Triangle</td>\n",
              "      <td>Snake</td>\n",
              "      <td>Finland</td>\n",
              "      <td>Bassoon</td>\n",
              "      <td>50f116bcf</td>\n",
              "      <td>3ac1b8814</td>\n",
              "      <td>68f6ad3e9</td>\n",
              "      <td>c389000ab</td>\n",
              "      <td>2f4cb3d51</td>\n",
              "      <td>2</td>\n",
              "      <td>Grandmaster</td>\n",
              "      <td>Cold</td>\n",
              "      <td>h</td>\n",
              "      <td>D</td>\n",
              "      <td>kr</td>\n",
              "      <td>2</td>\n",
              "      <td>2</td>\n",
              "      <td>0.0</td>\n",
              "    </tr>\n",
              "    <tr>\n",
              "      <th>1</th>\n",
              "      <td>0</td>\n",
              "      <td>1</td>\n",
              "      <td>0</td>\n",
              "      <td>T</td>\n",
              "      <td>Y</td>\n",
              "      <td>Green</td>\n",
              "      <td>Trapezoid</td>\n",
              "      <td>Hamster</td>\n",
              "      <td>Russia</td>\n",
              "      <td>Piano</td>\n",
              "      <td>b3b4d25d0</td>\n",
              "      <td>fbcb50fc1</td>\n",
              "      <td>3b6dd5612</td>\n",
              "      <td>4cd920251</td>\n",
              "      <td>f83c56c21</td>\n",
              "      <td>1</td>\n",
              "      <td>Grandmaster</td>\n",
              "      <td>Hot</td>\n",
              "      <td>a</td>\n",
              "      <td>A</td>\n",
              "      <td>bF</td>\n",
              "      <td>7</td>\n",
              "      <td>8</td>\n",
              "      <td>0.0</td>\n",
              "    </tr>\n",
              "    <tr>\n",
              "      <th>2</th>\n",
              "      <td>0</td>\n",
              "      <td>0</td>\n",
              "      <td>0</td>\n",
              "      <td>F</td>\n",
              "      <td>Y</td>\n",
              "      <td>Blue</td>\n",
              "      <td>Trapezoid</td>\n",
              "      <td>Lion</td>\n",
              "      <td>Russia</td>\n",
              "      <td>Theremin</td>\n",
              "      <td>3263bdce5</td>\n",
              "      <td>0922e3cb8</td>\n",
              "      <td>a6a36f527</td>\n",
              "      <td>de9c9f684</td>\n",
              "      <td>ae6800dd0</td>\n",
              "      <td>1</td>\n",
              "      <td>Expert</td>\n",
              "      <td>Lava Hot</td>\n",
              "      <td>h</td>\n",
              "      <td>R</td>\n",
              "      <td>Jc</td>\n",
              "      <td>7</td>\n",
              "      <td>2</td>\n",
              "      <td>0.0</td>\n",
              "    </tr>\n",
              "    <tr>\n",
              "      <th>3</th>\n",
              "      <td>0</td>\n",
              "      <td>1</td>\n",
              "      <td>0</td>\n",
              "      <td>F</td>\n",
              "      <td>Y</td>\n",
              "      <td>Red</td>\n",
              "      <td>Trapezoid</td>\n",
              "      <td>Snake</td>\n",
              "      <td>Canada</td>\n",
              "      <td>Oboe</td>\n",
              "      <td>f12246592</td>\n",
              "      <td>50d7ad46a</td>\n",
              "      <td>ec69236eb</td>\n",
              "      <td>4ade6ab69</td>\n",
              "      <td>8270f0d71</td>\n",
              "      <td>1</td>\n",
              "      <td>Grandmaster</td>\n",
              "      <td>Boiling Hot</td>\n",
              "      <td>i</td>\n",
              "      <td>D</td>\n",
              "      <td>kW</td>\n",
              "      <td>2</td>\n",
              "      <td>1</td>\n",
              "      <td>1.0</td>\n",
              "    </tr>\n",
              "    <tr>\n",
              "      <th>4</th>\n",
              "      <td>0</td>\n",
              "      <td>0</td>\n",
              "      <td>0</td>\n",
              "      <td>F</td>\n",
              "      <td>N</td>\n",
              "      <td>Red</td>\n",
              "      <td>Trapezoid</td>\n",
              "      <td>Lion</td>\n",
              "      <td>Canada</td>\n",
              "      <td>Oboe</td>\n",
              "      <td>5b0f5acd5</td>\n",
              "      <td>1fe17a1fd</td>\n",
              "      <td>04ddac2be</td>\n",
              "      <td>cb43ab175</td>\n",
              "      <td>b164b72a7</td>\n",
              "      <td>1</td>\n",
              "      <td>Grandmaster</td>\n",
              "      <td>Freezing</td>\n",
              "      <td>a</td>\n",
              "      <td>R</td>\n",
              "      <td>qP</td>\n",
              "      <td>7</td>\n",
              "      <td>8</td>\n",
              "      <td>0.0</td>\n",
              "    </tr>\n",
              "    <tr>\n",
              "      <th>...</th>\n",
              "      <td>...</td>\n",
              "      <td>...</td>\n",
              "      <td>...</td>\n",
              "      <td>...</td>\n",
              "      <td>...</td>\n",
              "      <td>...</td>\n",
              "      <td>...</td>\n",
              "      <td>...</td>\n",
              "      <td>...</td>\n",
              "      <td>...</td>\n",
              "      <td>...</td>\n",
              "      <td>...</td>\n",
              "      <td>...</td>\n",
              "      <td>...</td>\n",
              "      <td>...</td>\n",
              "      <td>...</td>\n",
              "      <td>...</td>\n",
              "      <td>...</td>\n",
              "      <td>...</td>\n",
              "      <td>...</td>\n",
              "      <td>...</td>\n",
              "      <td>...</td>\n",
              "      <td>...</td>\n",
              "      <td>...</td>\n",
              "    </tr>\n",
              "    <tr>\n",
              "      <th>499995</th>\n",
              "      <td>0</td>\n",
              "      <td>0</td>\n",
              "      <td>0</td>\n",
              "      <td>F</td>\n",
              "      <td>N</td>\n",
              "      <td>Green</td>\n",
              "      <td>Square</td>\n",
              "      <td>Lion</td>\n",
              "      <td>Canada</td>\n",
              "      <td>Theremin</td>\n",
              "      <td>6c90f81cd</td>\n",
              "      <td>a406a5f12</td>\n",
              "      <td>d02a6b0ba</td>\n",
              "      <td>9e4b23160</td>\n",
              "      <td>acc31291f</td>\n",
              "      <td>1</td>\n",
              "      <td>Novice</td>\n",
              "      <td>Lava Hot</td>\n",
              "      <td>j</td>\n",
              "      <td>A</td>\n",
              "      <td>Gb</td>\n",
              "      <td>1</td>\n",
              "      <td>3</td>\n",
              "      <td>NaN</td>\n",
              "    </tr>\n",
              "    <tr>\n",
              "      <th>499996</th>\n",
              "      <td>1</td>\n",
              "      <td>0</td>\n",
              "      <td>0</td>\n",
              "      <td>F</td>\n",
              "      <td>Y</td>\n",
              "      <td>Green</td>\n",
              "      <td>Trapezoid</td>\n",
              "      <td>Lion</td>\n",
              "      <td>China</td>\n",
              "      <td>Piano</td>\n",
              "      <td>2d61990e2</td>\n",
              "      <td>520806ce2</td>\n",
              "      <td>d2d8eabdb</td>\n",
              "      <td>cfbd87ed0</td>\n",
              "      <td>eae3446d0</td>\n",
              "      <td>1</td>\n",
              "      <td>Contributor</td>\n",
              "      <td>Lava Hot</td>\n",
              "      <td>f</td>\n",
              "      <td>S</td>\n",
              "      <td>Ed</td>\n",
              "      <td>2</td>\n",
              "      <td>2</td>\n",
              "      <td>NaN</td>\n",
              "    </tr>\n",
              "    <tr>\n",
              "      <th>499997</th>\n",
              "      <td>0</td>\n",
              "      <td>1</td>\n",
              "      <td>1</td>\n",
              "      <td>T</td>\n",
              "      <td>Y</td>\n",
              "      <td>Green</td>\n",
              "      <td>Trapezoid</td>\n",
              "      <td>Lion</td>\n",
              "      <td>Canada</td>\n",
              "      <td>Oboe</td>\n",
              "      <td>488406659</td>\n",
              "      <td>28645754b</td>\n",
              "      <td>22831fffe</td>\n",
              "      <td>1108bcd6c</td>\n",
              "      <td>33dd3cf4b</td>\n",
              "      <td>1</td>\n",
              "      <td>Novice</td>\n",
              "      <td>Boiling Hot</td>\n",
              "      <td>g</td>\n",
              "      <td>V</td>\n",
              "      <td>TR</td>\n",
              "      <td>3</td>\n",
              "      <td>1</td>\n",
              "      <td>NaN</td>\n",
              "    </tr>\n",
              "    <tr>\n",
              "      <th>499998</th>\n",
              "      <td>1</td>\n",
              "      <td>0</td>\n",
              "      <td>0</td>\n",
              "      <td>T</td>\n",
              "      <td>Y</td>\n",
              "      <td>Blue</td>\n",
              "      <td>Star</td>\n",
              "      <td>Hamster</td>\n",
              "      <td>Costa Rica</td>\n",
              "      <td>Bassoon</td>\n",
              "      <td>f9d17bb93</td>\n",
              "      <td>2eadb68c5</td>\n",
              "      <td>fef807a3e</td>\n",
              "      <td>606ac930b</td>\n",
              "      <td>d4cf587dd</td>\n",
              "      <td>2</td>\n",
              "      <td>Grandmaster</td>\n",
              "      <td>Boiling Hot</td>\n",
              "      <td>g</td>\n",
              "      <td>X</td>\n",
              "      <td>Ye</td>\n",
              "      <td>2</td>\n",
              "      <td>1</td>\n",
              "      <td>NaN</td>\n",
              "    </tr>\n",
              "    <tr>\n",
              "      <th>499999</th>\n",
              "      <td>0</td>\n",
              "      <td>0</td>\n",
              "      <td>0</td>\n",
              "      <td>T</td>\n",
              "      <td>Y</td>\n",
              "      <td>Green</td>\n",
              "      <td>Star</td>\n",
              "      <td>Lion</td>\n",
              "      <td>India</td>\n",
              "      <td>Piano</td>\n",
              "      <td>a5c276589</td>\n",
              "      <td>c135cdf77</td>\n",
              "      <td>a8f53c631</td>\n",
              "      <td>4ea576eb6</td>\n",
              "      <td>2d610f52c</td>\n",
              "      <td>2</td>\n",
              "      <td>Novice</td>\n",
              "      <td>Freezing</td>\n",
              "      <td>l</td>\n",
              "      <td>J</td>\n",
              "      <td>ex</td>\n",
              "      <td>2</td>\n",
              "      <td>2</td>\n",
              "      <td>NaN</td>\n",
              "    </tr>\n",
              "  </tbody>\n",
              "</table>\n",
              "<p>500000 rows × 24 columns</p>\n",
              "</div>\n",
              "      <button class=\"colab-df-convert\" onclick=\"convertToInteractive('df-0f90eae5-545e-4dd2-ac89-1cfa346a9762')\"\n",
              "              title=\"Convert this dataframe to an interactive table.\"\n",
              "              style=\"display:none;\">\n",
              "        \n",
              "  <svg xmlns=\"http://www.w3.org/2000/svg\" height=\"24px\"viewBox=\"0 0 24 24\"\n",
              "       width=\"24px\">\n",
              "    <path d=\"M0 0h24v24H0V0z\" fill=\"none\"/>\n",
              "    <path d=\"M18.56 5.44l.94 2.06.94-2.06 2.06-.94-2.06-.94-.94-2.06-.94 2.06-2.06.94zm-11 1L8.5 8.5l.94-2.06 2.06-.94-2.06-.94L8.5 2.5l-.94 2.06-2.06.94zm10 10l.94 2.06.94-2.06 2.06-.94-2.06-.94-.94-2.06-.94 2.06-2.06.94z\"/><path d=\"M17.41 7.96l-1.37-1.37c-.4-.4-.92-.59-1.43-.59-.52 0-1.04.2-1.43.59L10.3 9.45l-7.72 7.72c-.78.78-.78 2.05 0 2.83L4 21.41c.39.39.9.59 1.41.59.51 0 1.02-.2 1.41-.59l7.78-7.78 2.81-2.81c.8-.78.8-2.07 0-2.86zM5.41 20L4 18.59l7.72-7.72 1.47 1.35L5.41 20z\"/>\n",
              "  </svg>\n",
              "      </button>\n",
              "      \n",
              "  <style>\n",
              "    .colab-df-container {\n",
              "      display:flex;\n",
              "      flex-wrap:wrap;\n",
              "      gap: 12px;\n",
              "    }\n",
              "\n",
              "    .colab-df-convert {\n",
              "      background-color: #E8F0FE;\n",
              "      border: none;\n",
              "      border-radius: 50%;\n",
              "      cursor: pointer;\n",
              "      display: none;\n",
              "      fill: #1967D2;\n",
              "      height: 32px;\n",
              "      padding: 0 0 0 0;\n",
              "      width: 32px;\n",
              "    }\n",
              "\n",
              "    .colab-df-convert:hover {\n",
              "      background-color: #E2EBFA;\n",
              "      box-shadow: 0px 1px 2px rgba(60, 64, 67, 0.3), 0px 1px 3px 1px rgba(60, 64, 67, 0.15);\n",
              "      fill: #174EA6;\n",
              "    }\n",
              "\n",
              "    [theme=dark] .colab-df-convert {\n",
              "      background-color: #3B4455;\n",
              "      fill: #D2E3FC;\n",
              "    }\n",
              "\n",
              "    [theme=dark] .colab-df-convert:hover {\n",
              "      background-color: #434B5C;\n",
              "      box-shadow: 0px 1px 3px 1px rgba(0, 0, 0, 0.15);\n",
              "      filter: drop-shadow(0px 1px 2px rgba(0, 0, 0, 0.3));\n",
              "      fill: #FFFFFF;\n",
              "    }\n",
              "  </style>\n",
              "\n",
              "      <script>\n",
              "        const buttonEl =\n",
              "          document.querySelector('#df-0f90eae5-545e-4dd2-ac89-1cfa346a9762 button.colab-df-convert');\n",
              "        buttonEl.style.display =\n",
              "          google.colab.kernel.accessAllowed ? 'block' : 'none';\n",
              "\n",
              "        async function convertToInteractive(key) {\n",
              "          const element = document.querySelector('#df-0f90eae5-545e-4dd2-ac89-1cfa346a9762');\n",
              "          const dataTable =\n",
              "            await google.colab.kernel.invokeFunction('convertToInteractive',\n",
              "                                                     [key], {});\n",
              "          if (!dataTable) return;\n",
              "\n",
              "          const docLinkHtml = 'Like what you see? Visit the ' +\n",
              "            '<a target=\"_blank\" href=https://colab.research.google.com/notebooks/data_table.ipynb>data table notebook</a>'\n",
              "            + ' to learn more about interactive tables.';\n",
              "          element.innerHTML = '';\n",
              "          dataTable['output_type'] = 'display_data';\n",
              "          await google.colab.output.renderOutput(dataTable, element);\n",
              "          const docLink = document.createElement('div');\n",
              "          docLink.innerHTML = docLinkHtml;\n",
              "          element.appendChild(docLink);\n",
              "        }\n",
              "      </script>\n",
              "    </div>\n",
              "  </div>\n",
              "  "
            ],
            "text/plain": [
              "        bin_0  bin_1  bin_2 bin_3 bin_4  nom_0      nom_1    nom_2  \\\n",
              "id                                                                   \n",
              "0           0      0      0     T     Y  Green   Triangle    Snake   \n",
              "1           0      1      0     T     Y  Green  Trapezoid  Hamster   \n",
              "2           0      0      0     F     Y   Blue  Trapezoid     Lion   \n",
              "3           0      1      0     F     Y    Red  Trapezoid    Snake   \n",
              "4           0      0      0     F     N    Red  Trapezoid     Lion   \n",
              "...       ...    ...    ...   ...   ...    ...        ...      ...   \n",
              "499995      0      0      0     F     N  Green     Square     Lion   \n",
              "499996      1      0      0     F     Y  Green  Trapezoid     Lion   \n",
              "499997      0      1      1     T     Y  Green  Trapezoid     Lion   \n",
              "499998      1      0      0     T     Y   Blue       Star  Hamster   \n",
              "499999      0      0      0     T     Y  Green       Star     Lion   \n",
              "\n",
              "             nom_3     nom_4      nom_5      nom_6      nom_7      nom_8  \\\n",
              "id                                                                         \n",
              "0          Finland   Bassoon  50f116bcf  3ac1b8814  68f6ad3e9  c389000ab   \n",
              "1           Russia     Piano  b3b4d25d0  fbcb50fc1  3b6dd5612  4cd920251   \n",
              "2           Russia  Theremin  3263bdce5  0922e3cb8  a6a36f527  de9c9f684   \n",
              "3           Canada      Oboe  f12246592  50d7ad46a  ec69236eb  4ade6ab69   \n",
              "4           Canada      Oboe  5b0f5acd5  1fe17a1fd  04ddac2be  cb43ab175   \n",
              "...            ...       ...        ...        ...        ...        ...   \n",
              "499995      Canada  Theremin  6c90f81cd  a406a5f12  d02a6b0ba  9e4b23160   \n",
              "499996       China     Piano  2d61990e2  520806ce2  d2d8eabdb  cfbd87ed0   \n",
              "499997      Canada      Oboe  488406659  28645754b  22831fffe  1108bcd6c   \n",
              "499998  Costa Rica   Bassoon  f9d17bb93  2eadb68c5  fef807a3e  606ac930b   \n",
              "499999       India     Piano  a5c276589  c135cdf77  a8f53c631  4ea576eb6   \n",
              "\n",
              "            nom_9  ord_0        ord_1        ord_2 ord_3 ord_4 ord_5  day  \\\n",
              "id                                                                          \n",
              "0       2f4cb3d51      2  Grandmaster         Cold     h     D    kr    2   \n",
              "1       f83c56c21      1  Grandmaster          Hot     a     A    bF    7   \n",
              "2       ae6800dd0      1       Expert     Lava Hot     h     R    Jc    7   \n",
              "3       8270f0d71      1  Grandmaster  Boiling Hot     i     D    kW    2   \n",
              "4       b164b72a7      1  Grandmaster     Freezing     a     R    qP    7   \n",
              "...           ...    ...          ...          ...   ...   ...   ...  ...   \n",
              "499995  acc31291f      1       Novice     Lava Hot     j     A    Gb    1   \n",
              "499996  eae3446d0      1  Contributor     Lava Hot     f     S    Ed    2   \n",
              "499997  33dd3cf4b      1       Novice  Boiling Hot     g     V    TR    3   \n",
              "499998  d4cf587dd      2  Grandmaster  Boiling Hot     g     X    Ye    2   \n",
              "499999  2d610f52c      2       Novice     Freezing     l     J    ex    2   \n",
              "\n",
              "        month  target  \n",
              "id                     \n",
              "0           2     0.0  \n",
              "1           8     0.0  \n",
              "2           2     0.0  \n",
              "3           1     1.0  \n",
              "4           8     0.0  \n",
              "...       ...     ...  \n",
              "499995      3     NaN  \n",
              "499996      2     NaN  \n",
              "499997      1     NaN  \n",
              "499998      1     NaN  \n",
              "499999      2     NaN  \n",
              "\n",
              "[500000 rows x 24 columns]"
            ]
          },
          "execution_count": 9,
          "metadata": {},
          "output_type": "execute_result"
        }
      ],
      "source": [
        "all_data = pd.concat([train, test], ignore_index=False)\n",
        "all_data"
      ]
    },
    {
      "cell_type": "code",
      "execution_count": null,
      "metadata": {
        "colab": {
          "base_uri": "https://localhost:8080/"
        },
        "id": "cTlv8QKhtW4m",
        "outputId": "5d05d5c2-e623-4624-cb9c-605acf96b579"
      },
      "outputs": [
        {
          "name": "stdout",
          "output_type": "stream",
          "text": [
            "<class 'pandas.core.frame.DataFrame'>\n",
            "Int64Index: 500000 entries, 0 to 499999\n",
            "Data columns (total 24 columns):\n",
            " #   Column  Non-Null Count   Dtype  \n",
            "---  ------  --------------   -----  \n",
            " 0   bin_0   500000 non-null  int64  \n",
            " 1   bin_1   500000 non-null  int64  \n",
            " 2   bin_2   500000 non-null  int64  \n",
            " 3   bin_3   500000 non-null  object \n",
            " 4   bin_4   500000 non-null  object \n",
            " 5   nom_0   500000 non-null  object \n",
            " 6   nom_1   500000 non-null  object \n",
            " 7   nom_2   500000 non-null  object \n",
            " 8   nom_3   500000 non-null  object \n",
            " 9   nom_4   500000 non-null  object \n",
            " 10  nom_5   500000 non-null  object \n",
            " 11  nom_6   500000 non-null  object \n",
            " 12  nom_7   500000 non-null  object \n",
            " 13  nom_8   500000 non-null  object \n",
            " 14  nom_9   500000 non-null  object \n",
            " 15  ord_0   500000 non-null  int64  \n",
            " 16  ord_1   500000 non-null  object \n",
            " 17  ord_2   500000 non-null  object \n",
            " 18  ord_3   500000 non-null  object \n",
            " 19  ord_4   500000 non-null  object \n",
            " 20  ord_5   500000 non-null  object \n",
            " 21  day     500000 non-null  int64  \n",
            " 22  month   500000 non-null  int64  \n",
            " 23  target  300000 non-null  float64\n",
            "dtypes: float64(1), int64(6), object(17)\n",
            "memory usage: 95.4+ MB\n"
          ]
        }
      ],
      "source": [
        "all_data.info()"
      ]
    },
    {
      "cell_type": "code",
      "execution_count": null,
      "metadata": {
        "colab": {
          "base_uri": "https://localhost:8080/",
          "height": 820
        },
        "id": "nQfZFSqnS66K",
        "outputId": "553850fb-5b95-4da6-a053-80474097a43d"
      },
      "outputs": [
        {
          "name": "stdout",
          "output_type": "stream",
          "text": [
            "(300000, 24)\n"
          ]
        },
        {
          "data": {
            "text/html": [
              "\n",
              "  <div id=\"df-d43f6fe1-6510-4aaf-8fae-716015f2b6c1\">\n",
              "    <div class=\"colab-df-container\">\n",
              "      <div>\n",
              "<style scoped>\n",
              "    .dataframe tbody tr th:only-of-type {\n",
              "        vertical-align: middle;\n",
              "    }\n",
              "\n",
              "    .dataframe tbody tr th {\n",
              "        vertical-align: top;\n",
              "    }\n",
              "\n",
              "    .dataframe thead th {\n",
              "        text-align: right;\n",
              "    }\n",
              "</style>\n",
              "<table border=\"1\" class=\"dataframe\">\n",
              "  <thead>\n",
              "    <tr style=\"text-align: right;\">\n",
              "      <th></th>\n",
              "      <th>feature</th>\n",
              "      <th>type</th>\n",
              "      <th>first_value</th>\n",
              "      <th>second_value</th>\n",
              "      <th>third_value</th>\n",
              "      <th>fourth_value</th>\n",
              "      <th>fifth_value</th>\n",
              "      <th>eigenvalue_count</th>\n",
              "      <th>null_count</th>\n",
              "    </tr>\n",
              "  </thead>\n",
              "  <tbody>\n",
              "    <tr>\n",
              "      <th>0</th>\n",
              "      <td>bin_0</td>\n",
              "      <td>int64</td>\n",
              "      <td>0</td>\n",
              "      <td>0</td>\n",
              "      <td>0</td>\n",
              "      <td>0</td>\n",
              "      <td>0</td>\n",
              "      <td>2</td>\n",
              "      <td>0</td>\n",
              "    </tr>\n",
              "    <tr>\n",
              "      <th>1</th>\n",
              "      <td>bin_1</td>\n",
              "      <td>int64</td>\n",
              "      <td>0</td>\n",
              "      <td>1</td>\n",
              "      <td>0</td>\n",
              "      <td>1</td>\n",
              "      <td>0</td>\n",
              "      <td>2</td>\n",
              "      <td>0</td>\n",
              "    </tr>\n",
              "    <tr>\n",
              "      <th>2</th>\n",
              "      <td>bin_2</td>\n",
              "      <td>int64</td>\n",
              "      <td>0</td>\n",
              "      <td>0</td>\n",
              "      <td>0</td>\n",
              "      <td>0</td>\n",
              "      <td>0</td>\n",
              "      <td>2</td>\n",
              "      <td>0</td>\n",
              "    </tr>\n",
              "    <tr>\n",
              "      <th>3</th>\n",
              "      <td>bin_3</td>\n",
              "      <td>object</td>\n",
              "      <td>T</td>\n",
              "      <td>T</td>\n",
              "      <td>F</td>\n",
              "      <td>F</td>\n",
              "      <td>F</td>\n",
              "      <td>2</td>\n",
              "      <td>0</td>\n",
              "    </tr>\n",
              "    <tr>\n",
              "      <th>4</th>\n",
              "      <td>bin_4</td>\n",
              "      <td>object</td>\n",
              "      <td>Y</td>\n",
              "      <td>Y</td>\n",
              "      <td>Y</td>\n",
              "      <td>Y</td>\n",
              "      <td>N</td>\n",
              "      <td>2</td>\n",
              "      <td>0</td>\n",
              "    </tr>\n",
              "    <tr>\n",
              "      <th>5</th>\n",
              "      <td>nom_0</td>\n",
              "      <td>object</td>\n",
              "      <td>Green</td>\n",
              "      <td>Green</td>\n",
              "      <td>Blue</td>\n",
              "      <td>Red</td>\n",
              "      <td>Red</td>\n",
              "      <td>3</td>\n",
              "      <td>0</td>\n",
              "    </tr>\n",
              "    <tr>\n",
              "      <th>6</th>\n",
              "      <td>nom_1</td>\n",
              "      <td>object</td>\n",
              "      <td>Triangle</td>\n",
              "      <td>Trapezoid</td>\n",
              "      <td>Trapezoid</td>\n",
              "      <td>Trapezoid</td>\n",
              "      <td>Trapezoid</td>\n",
              "      <td>6</td>\n",
              "      <td>0</td>\n",
              "    </tr>\n",
              "    <tr>\n",
              "      <th>7</th>\n",
              "      <td>nom_2</td>\n",
              "      <td>object</td>\n",
              "      <td>Snake</td>\n",
              "      <td>Hamster</td>\n",
              "      <td>Lion</td>\n",
              "      <td>Snake</td>\n",
              "      <td>Lion</td>\n",
              "      <td>6</td>\n",
              "      <td>0</td>\n",
              "    </tr>\n",
              "    <tr>\n",
              "      <th>8</th>\n",
              "      <td>nom_3</td>\n",
              "      <td>object</td>\n",
              "      <td>Finland</td>\n",
              "      <td>Russia</td>\n",
              "      <td>Russia</td>\n",
              "      <td>Canada</td>\n",
              "      <td>Canada</td>\n",
              "      <td>6</td>\n",
              "      <td>0</td>\n",
              "    </tr>\n",
              "    <tr>\n",
              "      <th>9</th>\n",
              "      <td>nom_4</td>\n",
              "      <td>object</td>\n",
              "      <td>Bassoon</td>\n",
              "      <td>Piano</td>\n",
              "      <td>Theremin</td>\n",
              "      <td>Oboe</td>\n",
              "      <td>Oboe</td>\n",
              "      <td>4</td>\n",
              "      <td>0</td>\n",
              "    </tr>\n",
              "    <tr>\n",
              "      <th>10</th>\n",
              "      <td>nom_5</td>\n",
              "      <td>object</td>\n",
              "      <td>50f116bcf</td>\n",
              "      <td>b3b4d25d0</td>\n",
              "      <td>3263bdce5</td>\n",
              "      <td>f12246592</td>\n",
              "      <td>5b0f5acd5</td>\n",
              "      <td>222</td>\n",
              "      <td>0</td>\n",
              "    </tr>\n",
              "    <tr>\n",
              "      <th>11</th>\n",
              "      <td>nom_6</td>\n",
              "      <td>object</td>\n",
              "      <td>3ac1b8814</td>\n",
              "      <td>fbcb50fc1</td>\n",
              "      <td>0922e3cb8</td>\n",
              "      <td>50d7ad46a</td>\n",
              "      <td>1fe17a1fd</td>\n",
              "      <td>522</td>\n",
              "      <td>0</td>\n",
              "    </tr>\n",
              "    <tr>\n",
              "      <th>12</th>\n",
              "      <td>nom_7</td>\n",
              "      <td>object</td>\n",
              "      <td>68f6ad3e9</td>\n",
              "      <td>3b6dd5612</td>\n",
              "      <td>a6a36f527</td>\n",
              "      <td>ec69236eb</td>\n",
              "      <td>04ddac2be</td>\n",
              "      <td>1220</td>\n",
              "      <td>0</td>\n",
              "    </tr>\n",
              "    <tr>\n",
              "      <th>13</th>\n",
              "      <td>nom_8</td>\n",
              "      <td>object</td>\n",
              "      <td>c389000ab</td>\n",
              "      <td>4cd920251</td>\n",
              "      <td>de9c9f684</td>\n",
              "      <td>4ade6ab69</td>\n",
              "      <td>cb43ab175</td>\n",
              "      <td>2215</td>\n",
              "      <td>0</td>\n",
              "    </tr>\n",
              "    <tr>\n",
              "      <th>14</th>\n",
              "      <td>nom_9</td>\n",
              "      <td>object</td>\n",
              "      <td>2f4cb3d51</td>\n",
              "      <td>f83c56c21</td>\n",
              "      <td>ae6800dd0</td>\n",
              "      <td>8270f0d71</td>\n",
              "      <td>b164b72a7</td>\n",
              "      <td>11981</td>\n",
              "      <td>0</td>\n",
              "    </tr>\n",
              "    <tr>\n",
              "      <th>15</th>\n",
              "      <td>ord_0</td>\n",
              "      <td>int64</td>\n",
              "      <td>2</td>\n",
              "      <td>1</td>\n",
              "      <td>1</td>\n",
              "      <td>1</td>\n",
              "      <td>1</td>\n",
              "      <td>3</td>\n",
              "      <td>0</td>\n",
              "    </tr>\n",
              "    <tr>\n",
              "      <th>16</th>\n",
              "      <td>ord_1</td>\n",
              "      <td>object</td>\n",
              "      <td>Grandmaster</td>\n",
              "      <td>Grandmaster</td>\n",
              "      <td>Expert</td>\n",
              "      <td>Grandmaster</td>\n",
              "      <td>Grandmaster</td>\n",
              "      <td>5</td>\n",
              "      <td>0</td>\n",
              "    </tr>\n",
              "    <tr>\n",
              "      <th>17</th>\n",
              "      <td>ord_2</td>\n",
              "      <td>object</td>\n",
              "      <td>Cold</td>\n",
              "      <td>Hot</td>\n",
              "      <td>Lava Hot</td>\n",
              "      <td>Boiling Hot</td>\n",
              "      <td>Freezing</td>\n",
              "      <td>6</td>\n",
              "      <td>0</td>\n",
              "    </tr>\n",
              "    <tr>\n",
              "      <th>18</th>\n",
              "      <td>ord_3</td>\n",
              "      <td>object</td>\n",
              "      <td>h</td>\n",
              "      <td>a</td>\n",
              "      <td>h</td>\n",
              "      <td>i</td>\n",
              "      <td>a</td>\n",
              "      <td>15</td>\n",
              "      <td>0</td>\n",
              "    </tr>\n",
              "    <tr>\n",
              "      <th>19</th>\n",
              "      <td>ord_4</td>\n",
              "      <td>object</td>\n",
              "      <td>D</td>\n",
              "      <td>A</td>\n",
              "      <td>R</td>\n",
              "      <td>D</td>\n",
              "      <td>R</td>\n",
              "      <td>26</td>\n",
              "      <td>0</td>\n",
              "    </tr>\n",
              "    <tr>\n",
              "      <th>20</th>\n",
              "      <td>ord_5</td>\n",
              "      <td>object</td>\n",
              "      <td>kr</td>\n",
              "      <td>bF</td>\n",
              "      <td>Jc</td>\n",
              "      <td>kW</td>\n",
              "      <td>qP</td>\n",
              "      <td>192</td>\n",
              "      <td>0</td>\n",
              "    </tr>\n",
              "    <tr>\n",
              "      <th>21</th>\n",
              "      <td>day</td>\n",
              "      <td>int64</td>\n",
              "      <td>2</td>\n",
              "      <td>7</td>\n",
              "      <td>7</td>\n",
              "      <td>2</td>\n",
              "      <td>7</td>\n",
              "      <td>7</td>\n",
              "      <td>0</td>\n",
              "    </tr>\n",
              "    <tr>\n",
              "      <th>22</th>\n",
              "      <td>month</td>\n",
              "      <td>int64</td>\n",
              "      <td>2</td>\n",
              "      <td>8</td>\n",
              "      <td>2</td>\n",
              "      <td>1</td>\n",
              "      <td>8</td>\n",
              "      <td>12</td>\n",
              "      <td>0</td>\n",
              "    </tr>\n",
              "    <tr>\n",
              "      <th>23</th>\n",
              "      <td>target</td>\n",
              "      <td>int64</td>\n",
              "      <td>0</td>\n",
              "      <td>0</td>\n",
              "      <td>0</td>\n",
              "      <td>1</td>\n",
              "      <td>0</td>\n",
              "      <td>2</td>\n",
              "      <td>0</td>\n",
              "    </tr>\n",
              "  </tbody>\n",
              "</table>\n",
              "</div>\n",
              "      <button class=\"colab-df-convert\" onclick=\"convertToInteractive('df-d43f6fe1-6510-4aaf-8fae-716015f2b6c1')\"\n",
              "              title=\"Convert this dataframe to an interactive table.\"\n",
              "              style=\"display:none;\">\n",
              "        \n",
              "  <svg xmlns=\"http://www.w3.org/2000/svg\" height=\"24px\"viewBox=\"0 0 24 24\"\n",
              "       width=\"24px\">\n",
              "    <path d=\"M0 0h24v24H0V0z\" fill=\"none\"/>\n",
              "    <path d=\"M18.56 5.44l.94 2.06.94-2.06 2.06-.94-2.06-.94-.94-2.06-.94 2.06-2.06.94zm-11 1L8.5 8.5l.94-2.06 2.06-.94-2.06-.94L8.5 2.5l-.94 2.06-2.06.94zm10 10l.94 2.06.94-2.06 2.06-.94-2.06-.94-.94-2.06-.94 2.06-2.06.94z\"/><path d=\"M17.41 7.96l-1.37-1.37c-.4-.4-.92-.59-1.43-.59-.52 0-1.04.2-1.43.59L10.3 9.45l-7.72 7.72c-.78.78-.78 2.05 0 2.83L4 21.41c.39.39.9.59 1.41.59.51 0 1.02-.2 1.41-.59l7.78-7.78 2.81-2.81c.8-.78.8-2.07 0-2.86zM5.41 20L4 18.59l7.72-7.72 1.47 1.35L5.41 20z\"/>\n",
              "  </svg>\n",
              "      </button>\n",
              "      \n",
              "  <style>\n",
              "    .colab-df-container {\n",
              "      display:flex;\n",
              "      flex-wrap:wrap;\n",
              "      gap: 12px;\n",
              "    }\n",
              "\n",
              "    .colab-df-convert {\n",
              "      background-color: #E8F0FE;\n",
              "      border: none;\n",
              "      border-radius: 50%;\n",
              "      cursor: pointer;\n",
              "      display: none;\n",
              "      fill: #1967D2;\n",
              "      height: 32px;\n",
              "      padding: 0 0 0 0;\n",
              "      width: 32px;\n",
              "    }\n",
              "\n",
              "    .colab-df-convert:hover {\n",
              "      background-color: #E2EBFA;\n",
              "      box-shadow: 0px 1px 2px rgba(60, 64, 67, 0.3), 0px 1px 3px 1px rgba(60, 64, 67, 0.15);\n",
              "      fill: #174EA6;\n",
              "    }\n",
              "\n",
              "    [theme=dark] .colab-df-convert {\n",
              "      background-color: #3B4455;\n",
              "      fill: #D2E3FC;\n",
              "    }\n",
              "\n",
              "    [theme=dark] .colab-df-convert:hover {\n",
              "      background-color: #434B5C;\n",
              "      box-shadow: 0px 1px 3px 1px rgba(0, 0, 0, 0.15);\n",
              "      filter: drop-shadow(0px 1px 2px rgba(0, 0, 0, 0.3));\n",
              "      fill: #FFFFFF;\n",
              "    }\n",
              "  </style>\n",
              "\n",
              "      <script>\n",
              "        const buttonEl =\n",
              "          document.querySelector('#df-d43f6fe1-6510-4aaf-8fae-716015f2b6c1 button.colab-df-convert');\n",
              "        buttonEl.style.display =\n",
              "          google.colab.kernel.accessAllowed ? 'block' : 'none';\n",
              "\n",
              "        async function convertToInteractive(key) {\n",
              "          const element = document.querySelector('#df-d43f6fe1-6510-4aaf-8fae-716015f2b6c1');\n",
              "          const dataTable =\n",
              "            await google.colab.kernel.invokeFunction('convertToInteractive',\n",
              "                                                     [key], {});\n",
              "          if (!dataTable) return;\n",
              "\n",
              "          const docLinkHtml = 'Like what you see? Visit the ' +\n",
              "            '<a target=\"_blank\" href=https://colab.research.google.com/notebooks/data_table.ipynb>data table notebook</a>'\n",
              "            + ' to learn more about interactive tables.';\n",
              "          element.innerHTML = '';\n",
              "          dataTable['output_type'] = 'display_data';\n",
              "          await google.colab.output.renderOutput(dataTable, element);\n",
              "          const docLink = document.createElement('div');\n",
              "          docLink.innerHTML = docLinkHtml;\n",
              "          element.appendChild(docLink);\n",
              "        }\n",
              "      </script>\n",
              "    </div>\n",
              "  </div>\n",
              "  "
            ],
            "text/plain": [
              "   feature    type  first_value second_value third_value fourth_value  \\\n",
              "0    bin_0   int64            0            0           0            0   \n",
              "1    bin_1   int64            0            1           0            1   \n",
              "2    bin_2   int64            0            0           0            0   \n",
              "3    bin_3  object            T            T           F            F   \n",
              "4    bin_4  object            Y            Y           Y            Y   \n",
              "5    nom_0  object        Green        Green        Blue          Red   \n",
              "6    nom_1  object     Triangle    Trapezoid   Trapezoid    Trapezoid   \n",
              "7    nom_2  object        Snake      Hamster        Lion        Snake   \n",
              "8    nom_3  object      Finland       Russia      Russia       Canada   \n",
              "9    nom_4  object      Bassoon        Piano    Theremin         Oboe   \n",
              "10   nom_5  object    50f116bcf    b3b4d25d0   3263bdce5    f12246592   \n",
              "11   nom_6  object    3ac1b8814    fbcb50fc1   0922e3cb8    50d7ad46a   \n",
              "12   nom_7  object    68f6ad3e9    3b6dd5612   a6a36f527    ec69236eb   \n",
              "13   nom_8  object    c389000ab    4cd920251   de9c9f684    4ade6ab69   \n",
              "14   nom_9  object    2f4cb3d51    f83c56c21   ae6800dd0    8270f0d71   \n",
              "15   ord_0   int64            2            1           1            1   \n",
              "16   ord_1  object  Grandmaster  Grandmaster      Expert  Grandmaster   \n",
              "17   ord_2  object         Cold          Hot    Lava Hot  Boiling Hot   \n",
              "18   ord_3  object            h            a           h            i   \n",
              "19   ord_4  object            D            A           R            D   \n",
              "20   ord_5  object           kr           bF          Jc           kW   \n",
              "21     day   int64            2            7           7            2   \n",
              "22   month   int64            2            8           2            1   \n",
              "23  target   int64            0            0           0            1   \n",
              "\n",
              "    fifth_value  eigenvalue_count  null_count  \n",
              "0             0                 2           0  \n",
              "1             0                 2           0  \n",
              "2             0                 2           0  \n",
              "3             F                 2           0  \n",
              "4             N                 2           0  \n",
              "5           Red                 3           0  \n",
              "6     Trapezoid                 6           0  \n",
              "7          Lion                 6           0  \n",
              "8        Canada                 6           0  \n",
              "9          Oboe                 4           0  \n",
              "10    5b0f5acd5               222           0  \n",
              "11    1fe17a1fd               522           0  \n",
              "12    04ddac2be              1220           0  \n",
              "13    cb43ab175              2215           0  \n",
              "14    b164b72a7             11981           0  \n",
              "15            1                 3           0  \n",
              "16  Grandmaster                 5           0  \n",
              "17     Freezing                 6           0  \n",
              "18            a                15           0  \n",
              "19            R                26           0  \n",
              "20           qP               192           0  \n",
              "21            7                 7           0  \n",
              "22            8                12           0  \n",
              "23            0                 2           0  "
            ]
          },
          "execution_count": 11,
          "metadata": {},
          "output_type": "execute_result"
        }
      ],
      "source": [
        "def feature_table(df):\n",
        "    # 데이터 크기를 출력합니다.    \n",
        "    print(df.shape)\n",
        "    # 피처 이름과 유형을 담은 데이터프레임을 생성합니다.   \n",
        "    feature_description = pd.DataFrame(df.dtypes, columns=['type'])\n",
        "    # 피처 이름 피처가 인덱스이므로 인덱스를 리셋하여 새 인덱스를 만듭니다.\n",
        "    feature_description = feature_description.reset_index()\n",
        "    # 피처 이름을 값으로 가진 피처명은 'index'입니다. 'feature'로 변환합니다.\n",
        "    feature_description = feature_description.rename(columns={'index': 'feature'})\n",
        "    # 각 피처가 가진 첫 번째 ~ 다섯 번째 값을 출력합니다.\n",
        "    feature_description['first_value'] = df.loc[0].values\n",
        "    feature_description['second_value'] = df.loc[1].values\n",
        "    feature_description['third_value'] = df.loc[2].values\n",
        "    feature_description['fourth_value'] = df.loc[3].values\n",
        "    feature_description['fifth_value'] = df.loc[4].values\n",
        "    # 고윳값 개수를 산출합니다.\n",
        "    feature_description['eigenvalue_count'] = df.nunique().values\n",
        "    # 결측치 개수를 산출합니다.\n",
        "    feature_description['null_count'] = df.isnull().sum().values\n",
        "\n",
        "    return feature_description\n",
        "\n",
        "feature_table(train)"
      ]
    },
    {
      "cell_type": "markdown",
      "metadata": {
        "id": "Eyrfph9MuTlR"
      },
      "source": [
        "테스트 세트에는 'target' 피처가 없습니다. 'target' 피처를 제거하겠습니다."
      ]
    },
    {
      "cell_type": "code",
      "execution_count": null,
      "metadata": {
        "id": "wy70_4VVtZ82"
      },
      "outputs": [],
      "source": [
        "all_data = all_data.drop('target', axis=1)"
      ]
    },
    {
      "cell_type": "markdown",
      "metadata": {
        "id": "YLXL4QAzSpm6"
      },
      "source": [
        "## **2.2. bin_3, bin_4**"
      ]
    },
    {
      "cell_type": "markdown",
      "metadata": {
        "id": "HfPbYJQ6yCP-"
      },
      "source": [
        "### **2.2.1. 매핑**"
      ]
    },
    {
      "cell_type": "markdown",
      "metadata": {
        "id": "9O1qLXTJTZSj"
      },
      "source": [
        "'bin_3', 'bin_4' 피처의 각 값을 숫자로 매핑하겠습니다."
      ]
    },
    {
      "cell_type": "code",
      "execution_count": null,
      "metadata": {
        "id": "yxLpi5O8I8do"
      },
      "outputs": [],
      "source": [
        "all_data['bin_3'] = all_data['bin_3'].map({'T': 1, 'F': 0})\n",
        "all_data['bin_4'] = all_data['bin_4'].map({'Y': 1, 'N': 0})"
      ]
    },
    {
      "cell_type": "markdown",
      "metadata": {
        "id": "Dvc7A0iXTxZA"
      },
      "source": [
        "## **2.3. nom_num**"
      ]
    },
    {
      "cell_type": "markdown",
      "metadata": {
        "id": "UtLq6oTcyHBr"
      },
      "source": [
        "### **2.3.1. 원-핫 인코딩**"
      ]
    },
    {
      "cell_type": "markdown",
      "metadata": {
        "id": "DL26N9GdZurE"
      },
      "source": [
        "전체 'nom_num' 피처에 `OneHotEncoder` 클래스를 사용하여 원-핫 인코딩을 수행하겠습니다. 물론 (이 데이터에 한정하여) 판다스의 `get_dummies()` 메서드를 사용해도 무방하지만 `get_dummies()` 메서드는 결정적인 단점을 가집니다. 학습 세트의 피처를 학습하는 과정 없이 그대로 원-핫 인코딩을 수행하기 때문에 학습 세트에만 존재하고 테스트 세트에 없는 값은 원-핫 인코딩이 적용된 피처로 변환하지 않습니다. 게다가 `OneHotEncoder` 클래스보다 더 많은 메모리가 필요합니다. `OneHotEncoder` 클래스는 원-핫 인코딩을 수행하여 CSR 형식의 행렬을 반환하기 때문입니다(데이터프레임보다 적은 메모리 소모). 따라서 원-핫 인코딩을 적용하는 경우 습관적으로 `OneHotEncoder` 클래스를 사용하는 편이 좋습니다. [링크](https://psystat.tistory.com/136)에서 상세한 설명을 확인할 수 있습니다."
      ]
    },
    {
      "cell_type": "code",
      "execution_count": null,
      "metadata": {
        "id": "QgzUS95owQuu"
      },
      "outputs": [],
      "source": [
        "from sklearn.preprocessing import OneHotEncoder\n",
        "\n",
        "# 전체 'nom_num' 피처를 담은 리스트를 생성합니다.\n",
        "list_nom_num = ['nom_' + str(i) for i in range(10)]\n",
        "\n",
        "one_hot_encoder = OneHotEncoder()\n",
        "# 학습 및 테스트 세트를 하나로 합쳤으므로 `fit_transform()` 메서드를 사용합니다.\n",
        "# 학습 및 테스트 세트로 나뉜 상태라면 테스트 세트에는 `transform()` 메서드만 사용합니다.\n",
        "nom_num_one_hot_encoded = one_hot_encoder.fit_transform(all_data[list_nom_num])"
      ]
    },
    {
      "cell_type": "code",
      "execution_count": null,
      "metadata": {
        "colab": {
          "base_uri": "https://localhost:8080/"
        },
        "id": "jY-w_bFSu56O",
        "outputId": "4ba89c79-ebac-4764-b792-8d7f3d393b85"
      },
      "outputs": [
        {
          "data": {
            "text/plain": [
              "<500000x16276 sparse matrix of type '<class 'numpy.float64'>'\n",
              "\twith 5000000 stored elements in Compressed Sparse Row format>"
            ]
          },
          "execution_count": 15,
          "metadata": {},
          "output_type": "execute_result"
        }
      ],
      "source": [
        "nom_num_one_hot_encoded"
      ]
    },
    {
      "cell_type": "markdown",
      "metadata": {
        "id": "CY68URN3kir0"
      },
      "source": [
        "## **2.4. ord_num**"
      ]
    },
    {
      "cell_type": "markdown",
      "metadata": {
        "id": "GoJO32RNyOP5"
      },
      "source": [
        "### **2.4.1. 매핑**"
      ]
    },
    {
      "cell_type": "markdown",
      "metadata": {
        "id": "OBMun1gAoVbF"
      },
      "source": [
        "순서형 피처는 값 순서에 핵심 의미를 가집니다. 'ord_1', 'ord_2' 피처의 고윳값을 확인해 보겠습니다."
      ]
    },
    {
      "cell_type": "code",
      "execution_count": null,
      "metadata": {
        "colab": {
          "base_uri": "https://localhost:8080/"
        },
        "id": "CCIyZgtbkxDU",
        "outputId": "bebd817a-f9c7-40f3-dcb2-d0afa5aaea9d"
      },
      "outputs": [
        {
          "name": "stdout",
          "output_type": "stream",
          "text": [
            "ord_1:\n",
            " ['Grandmaster' 'Expert' 'Novice' 'Contributor' 'Master']\n",
            "\n",
            "ord_2:\n",
            " ['Cold' 'Hot' 'Lava Hot' 'Boiling Hot' 'Freezing' 'Warm']\n",
            "\n"
          ]
        }
      ],
      "source": [
        "list_ord_1_2 = ['ord_1', 'ord_2']\n",
        "\n",
        "for feature in list_ord_1_2:\n",
        "    print(f'{feature}:\\n {all_data[feature].unique()}\\n')"
      ]
    },
    {
      "cell_type": "markdown",
      "metadata": {
        "id": "IisfDOBlovHw"
      },
      "source": [
        "값 순서에 알맞도록 숫자로 매핑하겠습니다."
      ]
    },
    {
      "cell_type": "code",
      "execution_count": null,
      "metadata": {
        "id": "FhlUCCZ3kllf"
      },
      "outputs": [],
      "source": [
        "value_sequence_ord_1 = {'Novice':0, 'Contributor': 1, 'Expert': 2,\n",
        "                  'Master': 3, 'Grandmaster': 4}\n",
        "value_sequence_ord_2 = {'Freezing': 0, 'Cold': 1, 'Warm': 2, 'Hot': 3,\n",
        "                  'Boiling Hot': 4, 'Lava Hot': 5}\n",
        "\n",
        "all_data['ord_1'] = all_data['ord_1'].map(value_sequence_ord_1)\n",
        "all_data['ord_2'] = all_data['ord_2'].map(value_sequence_ord_2)"
      ]
    },
    {
      "cell_type": "markdown",
      "metadata": {
        "id": "Y4hBY_rOo3bU"
      },
      "source": [
        "'ord_3 ~ 5' 피처의 고윳값을 확인해 보겠습니다."
      ]
    },
    {
      "cell_type": "code",
      "execution_count": null,
      "metadata": {
        "colab": {
          "base_uri": "https://localhost:8080/"
        },
        "id": "3HQ_HZVcnabK",
        "outputId": "e0ae42c6-afcb-4d19-8871-283f372e4a84"
      },
      "outputs": [
        {
          "name": "stdout",
          "output_type": "stream",
          "text": [
            "ord_3:\n",
            " ['h' 'a' 'i' 'j' 'g' 'e' 'd' 'b' 'k' 'f' 'l' 'n' 'o' 'c' 'm']\n",
            "\n",
            "ord_4:\n",
            " ['D' 'A' 'R' 'E' 'P' 'K' 'V' 'Q' 'Z' 'L' 'F' 'T' 'U' 'S' 'Y' 'B' 'H' 'J'\n",
            " 'N' 'G' 'W' 'I' 'O' 'C' 'X' 'M']\n",
            "\n",
            "ord_5:\n",
            " ['kr' 'bF' 'Jc' 'kW' 'qP' 'PZ' 'wy' 'Ed' 'qo' 'CZ' 'qX' 'su' 'dP' 'aP'\n",
            " 'MV' 'oC' 'RL' 'fh' 'gJ' 'Hj' 'TR' 'CL' 'Sc' 'eQ' 'kC' 'qK' 'dh' 'gM'\n",
            " 'Jf' 'fO' 'Eg' 'KZ' 'Vx' 'Fo' 'sV' 'eb' 'YC' 'RG' 'Ye' 'qA' 'lL' 'Qh'\n",
            " 'Bd' 'be' 'hT' 'lF' 'nX' 'kK' 'av' 'uS' 'Jt' 'PA' 'Er' 'Qb' 'od' 'ut'\n",
            " 'Dx' 'Xi' 'on' 'Dc' 'sD' 'rZ' 'Uu' 'sn' 'yc' 'Gb' 'Kq' 'dQ' 'hp' 'kL'\n",
            " 'je' 'CU' 'Fd' 'PQ' 'Bn' 'ex' 'hh' 'ac' 'rp' 'dE' 'oG' 'oK' 'cp' 'mm'\n",
            " 'vK' 'ek' 'dO' 'XI' 'CM' 'Vf' 'aO' 'qv' 'jp' 'Zq' 'Qo' 'DN' 'TZ' 'ke'\n",
            " 'cG' 'tP' 'ud' 'tv' 'aM' 'xy' 'lx' 'To' 'uy' 'ZS' 'vy' 'ZR' 'AP' 'GJ'\n",
            " 'Wv' 'ri' 'qw' 'Xh' 'FI' 'nh' 'KR' 'dB' 'BE' 'Bb' 'mc' 'MC' 'tM' 'NV'\n",
            " 'ih' 'IK' 'Ob' 'RP' 'dN' 'us' 'dZ' 'yN' 'Nf' 'QM' 'jV' 'sY' 'wu' 'SB'\n",
            " 'UO' 'Mx' 'JX' 'Ry' 'Uk' 'uJ' 'LE' 'ps' 'kE' 'MO' 'kw' 'yY' 'zU' 'bJ'\n",
            " 'Kf' 'ck' 'mb' 'Os' 'Ps' 'Ml' 'Ai' 'Wc' 'GD' 'll' 'aF' 'iT' 'cA' 'WE'\n",
            " 'Gx' 'Nk' 'OR' 'Rm' 'BA' 'eG' 'cW' 'jS' 'DH' 'hL' 'Mf' 'Yb' 'Aj' 'oH'\n",
            " 'Zc' 'qJ' 'eg' 'xP' 'vq' 'Id' 'pa' 'ux' 'kU' 'Cl']\n",
            "\n"
          ]
        }
      ],
      "source": [
        "list_ord_3_4_5 = ['ord_3', 'ord_4', 'ord_5']\n",
        "\n",
        "for feature in list_ord_3_4_5:\n",
        "    print(f'{feature}:\\n {all_data[feature].unique()}\\n')"
      ]
    },
    {
      "cell_type": "markdown",
      "metadata": {
        "id": "CA7H8qilpHLn"
      },
      "source": [
        "고윳값 개수가 많기 때문에 일일이 매핑하기는 번거롭습니다. `OrdinalEncoder` 클래스를 활용하여 값 순서에 맞게 숫자로 매핑하겠습니다."
      ]
    },
    {
      "cell_type": "code",
      "execution_count": null,
      "metadata": {
        "id": "Lfa-Cl_Ll18i"
      },
      "outputs": [],
      "source": [
        "from sklearn.preprocessing import OrdinalEncoder\n",
        "\n",
        "ord_encoder = OrdinalEncoder()\n",
        "all_data[list_ord_3_4_5] = ord_encoder.fit_transform(all_data[list_ord_3_4_5])"
      ]
    },
    {
      "cell_type": "markdown",
      "metadata": {
        "id": "kFvcmlwYpp-I"
      },
      "source": [
        "아래와 같이 값 순서가 `categories_` 속성에 저장되고, 각 값은 값 순서에 맞게 숫자로 매핑됩니다."
      ]
    },
    {
      "cell_type": "code",
      "execution_count": null,
      "metadata": {
        "colab": {
          "base_uri": "https://localhost:8080/"
        },
        "id": "78tKBv23mhD5",
        "outputId": "f292fa2d-a9e7-4dc7-bad0-641cbce88ba6"
      },
      "outputs": [
        {
          "data": {
            "text/plain": [
              "[array(['a', 'b', 'c', 'd', 'e', 'f', 'g', 'h', 'i', 'j', 'k', 'l', 'm',\n",
              "        'n', 'o'], dtype=object),\n",
              " array(['A', 'B', 'C', 'D', 'E', 'F', 'G', 'H', 'I', 'J', 'K', 'L', 'M',\n",
              "        'N', 'O', 'P', 'Q', 'R', 'S', 'T', 'U', 'V', 'W', 'X', 'Y', 'Z'],\n",
              "       dtype=object),\n",
              " array(['AP', 'Ai', 'Aj', 'BA', 'BE', 'Bb', 'Bd', 'Bn', 'CL', 'CM', 'CU',\n",
              "        'CZ', 'Cl', 'DH', 'DN', 'Dc', 'Dx', 'Ed', 'Eg', 'Er', 'FI', 'Fd',\n",
              "        'Fo', 'GD', 'GJ', 'Gb', 'Gx', 'Hj', 'IK', 'Id', 'JX', 'Jc', 'Jf',\n",
              "        'Jt', 'KR', 'KZ', 'Kf', 'Kq', 'LE', 'MC', 'MO', 'MV', 'Mf', 'Ml',\n",
              "        'Mx', 'NV', 'Nf', 'Nk', 'OR', 'Ob', 'Os', 'PA', 'PQ', 'PZ', 'Ps',\n",
              "        'QM', 'Qb', 'Qh', 'Qo', 'RG', 'RL', 'RP', 'Rm', 'Ry', 'SB', 'Sc',\n",
              "        'TR', 'TZ', 'To', 'UO', 'Uk', 'Uu', 'Vf', 'Vx', 'WE', 'Wc', 'Wv',\n",
              "        'XI', 'Xh', 'Xi', 'YC', 'Yb', 'Ye', 'ZR', 'ZS', 'Zc', 'Zq', 'aF',\n",
              "        'aM', 'aO', 'aP', 'ac', 'av', 'bF', 'bJ', 'be', 'cA', 'cG', 'cW',\n",
              "        'ck', 'cp', 'dB', 'dE', 'dN', 'dO', 'dP', 'dQ', 'dZ', 'dh', 'eG',\n",
              "        'eQ', 'eb', 'eg', 'ek', 'ex', 'fO', 'fh', 'gJ', 'gM', 'hL', 'hT',\n",
              "        'hh', 'hp', 'iT', 'ih', 'jS', 'jV', 'je', 'jp', 'kC', 'kE', 'kK',\n",
              "        'kL', 'kU', 'kW', 'ke', 'kr', 'kw', 'lF', 'lL', 'll', 'lx', 'mb',\n",
              "        'mc', 'mm', 'nX', 'nh', 'oC', 'oG', 'oH', 'oK', 'od', 'on', 'pa',\n",
              "        'ps', 'qA', 'qJ', 'qK', 'qP', 'qX', 'qo', 'qv', 'qw', 'rZ', 'ri',\n",
              "        'rp', 'sD', 'sV', 'sY', 'sn', 'su', 'tM', 'tP', 'tv', 'uJ', 'uS',\n",
              "        'ud', 'us', 'ut', 'ux', 'uy', 'vK', 'vq', 'vy', 'wu', 'wy', 'xP',\n",
              "        'xy', 'yN', 'yY', 'yc', 'zU'], dtype=object)]"
            ]
          },
          "execution_count": 20,
          "metadata": {},
          "output_type": "execute_result"
        }
      ],
      "source": [
        "ord_encoder.categories_"
      ]
    },
    {
      "cell_type": "code",
      "execution_count": null,
      "metadata": {
        "colab": {
          "base_uri": "https://localhost:8080/"
        },
        "id": "s0fIXGMep-Jz",
        "outputId": "27646a88-c412-4413-b9ee-3ab1e46ebad3"
      },
      "outputs": [
        {
          "name": "stdout",
          "output_type": "stream",
          "text": [
            "ord_3:\n",
            " [ 7.  0.  8.  9.  6.  4.  3.  1. 10.  5. 11. 13. 14.  2. 12.]\n",
            "\n",
            "ord_4:\n",
            " [ 3.  0. 17.  4. 15. 10. 21. 16. 25. 11.  5. 19. 20. 18. 24.  1.  7.  9.\n",
            " 13.  6. 22.  8. 14.  2. 23. 12.]\n",
            "\n",
            "ord_5:\n",
            " [136.  93.  31. 134. 158.  53. 185.  17. 160.  11. 159. 170. 105.  90.\n",
            "  41. 147.  60. 116. 117.  27.  66.   8.  65. 110. 129. 157. 108. 118.\n",
            "  32. 115.  18.  35.  73.  22. 167. 111.  80.  59.  82. 155. 139.  57.\n",
            "   6.  95. 120. 138. 145. 131.  92. 175.  33.  51.  19.  56. 151. 178.\n",
            "  16.  79. 152.  15. 166. 163.  71. 169. 190.  25.  37. 106. 122. 132.\n",
            " 127.  10.  21.  52.   7. 114. 121.  91. 165. 102. 148. 150. 100. 144.\n",
            " 181. 113. 104.  77.   9.  72.  89. 161. 128.  86.  58.  14.  67. 135.\n",
            "  97. 172. 176. 173.  88. 187. 141.  68. 180.  84. 183.  83.   0.  24.\n",
            "  76. 164. 162.  78.  20. 146.  34. 101.   4.   5. 143.  39. 171.  45.\n",
            " 124.  28.  49.  61. 103. 177. 107. 188.  46.  55. 126. 168. 184.  64.\n",
            "  69.  44.  30.  63.  70. 174.  38. 154. 130.  40. 137. 189. 191.  94.\n",
            "  36.  99. 142.  50.  54.  43.   1.  75.  23. 140.  87. 123.  96.  74.\n",
            "  26.  47.  48.  62.   3. 109.  98. 125.  13. 119.  42.  81.   2. 149.\n",
            "  85. 156. 112. 186. 182.  29. 153. 179. 133.  12.]\n",
            "\n"
          ]
        }
      ],
      "source": [
        "for feature in list_ord_3_4_5:\n",
        "    print(f'{feature}:\\n {all_data[feature].unique()}\\n')"
      ]
    },
    {
      "cell_type": "markdown",
      "metadata": {
        "id": "7Q2G-oQhyRF2"
      },
      "source": [
        "### **2.4.2. min-max 정규화**"
      ]
    },
    {
      "cell_type": "markdown",
      "metadata": {
        "id": "xVQGzSARxtvt"
      },
      "source": [
        "min-max 정규화를 수행하겠습니다."
      ]
    },
    {
      "cell_type": "code",
      "execution_count": null,
      "metadata": {
        "id": "czSqojbgw1kv"
      },
      "outputs": [],
      "source": [
        "from sklearn.preprocessing import MinMaxScaler\n",
        "\n",
        "list_ord_num = ['ord_' + str(i) for i in range(6)]\n",
        "\n",
        "min_max_scaler = MinMaxScaler()\n",
        "all_data[list_ord_num] = min_max_scaler.fit_transform(all_data[list_ord_num])"
      ]
    },
    {
      "cell_type": "code",
      "execution_count": null,
      "metadata": {
        "colab": {
          "base_uri": "https://localhost:8080/"
        },
        "id": "btY7h1k8xc_p",
        "outputId": "eee86080-64a1-4204-ad92-5d0bb8c94569"
      },
      "outputs": [
        {
          "name": "stdout",
          "output_type": "stream",
          "text": [
            "ord_0:\n",
            " [0.5 0.  1. ]\n",
            "\n",
            "ord_1:\n",
            " [1.   0.5  0.   0.25 0.75]\n",
            "\n",
            "ord_2:\n",
            " [0.2 0.6 1.  0.8 0.  0.4]\n",
            "\n",
            "ord_3:\n",
            " [0.5        0.         0.57142857 0.64285714 0.42857143 0.28571429\n",
            " 0.21428571 0.07142857 0.71428571 0.35714286 0.78571429 0.92857143\n",
            " 1.         0.14285714 0.85714286]\n",
            "\n",
            "ord_4:\n",
            " [0.12 0.   0.68 0.16 0.6  0.4  0.84 0.64 1.   0.44 0.2  0.76 0.8  0.72\n",
            " 0.96 0.04 0.28 0.36 0.52 0.24 0.88 0.32 0.56 0.08 0.92 0.48]\n",
            "\n",
            "ord_5:\n",
            " [0.71204188 0.48691099 0.16230366 0.70157068 0.82722513 0.27748691\n",
            " 0.96858639 0.08900524 0.83769634 0.05759162 0.83246073 0.89005236\n",
            " 0.54973822 0.47120419 0.21465969 0.76963351 0.31413613 0.60732984\n",
            " 0.61256545 0.14136126 0.34554974 0.04188482 0.34031414 0.57591623\n",
            " 0.67539267 0.82198953 0.56544503 0.61780105 0.16753927 0.60209424\n",
            " 0.09424084 0.18324607 0.38219895 0.11518325 0.87434555 0.58115183\n",
            " 0.41884817 0.30890052 0.42931937 0.81151832 0.72774869 0.29842932\n",
            " 0.03141361 0.4973822  0.62827225 0.72251309 0.7591623  0.68586387\n",
            " 0.48167539 0.91623037 0.17277487 0.26701571 0.09947644 0.29319372\n",
            " 0.79057592 0.93193717 0.08376963 0.41361257 0.79581152 0.07853403\n",
            " 0.86910995 0.85340314 0.37172775 0.88481675 0.9947644  0.13089005\n",
            " 0.19371728 0.55497382 0.63874346 0.69109948 0.66492147 0.05235602\n",
            " 0.10994764 0.27225131 0.03664921 0.59685864 0.63350785 0.47643979\n",
            " 0.86387435 0.53403141 0.77486911 0.78534031 0.52356021 0.7539267\n",
            " 0.94764398 0.59162304 0.54450262 0.40314136 0.04712042 0.37696335\n",
            " 0.46596859 0.84293194 0.67015707 0.45026178 0.30366492 0.07329843\n",
            " 0.35078534 0.70680628 0.5078534  0.90052356 0.92146597 0.90575916\n",
            " 0.46073298 0.97905759 0.7382199  0.35602094 0.94240838 0.43979058\n",
            " 0.95811518 0.43455497 0.         0.12565445 0.39790576 0.85863874\n",
            " 0.84816754 0.40837696 0.10471204 0.76439791 0.17801047 0.52879581\n",
            " 0.02094241 0.02617801 0.7486911  0.20418848 0.89528796 0.23560209\n",
            " 0.64921466 0.14659686 0.2565445  0.31937173 0.53926702 0.92670157\n",
            " 0.56020942 0.98429319 0.2408377  0.28795812 0.65968586 0.87958115\n",
            " 0.96335079 0.33507853 0.36125654 0.23036649 0.15706806 0.32984293\n",
            " 0.36649215 0.91099476 0.19895288 0.80628272 0.68062827 0.20942408\n",
            " 0.71727749 0.9895288  1.         0.4921466  0.18848168 0.51832461\n",
            " 0.7434555  0.2617801  0.28272251 0.22513089 0.0052356  0.39267016\n",
            " 0.12041885 0.73298429 0.45549738 0.64397906 0.5026178  0.38743455\n",
            " 0.13612565 0.2460733  0.2513089  0.32460733 0.01570681 0.57068063\n",
            " 0.51308901 0.65445026 0.06806283 0.62303665 0.21989529 0.42408377\n",
            " 0.0104712  0.78010471 0.44502618 0.81675393 0.58638743 0.97382199\n",
            " 0.95287958 0.15183246 0.80104712 0.93717277 0.69633508 0.06282723]\n",
            "\n"
          ]
        }
      ],
      "source": [
        "for feature in list_ord_num:\n",
        "    print(f'{feature}:\\n {all_data[feature].unique()}\\n')"
      ]
    },
    {
      "cell_type": "markdown",
      "metadata": {
        "id": "0cBjd_1izZ8H"
      },
      "source": [
        "## **2.5. day, month**"
      ]
    },
    {
      "cell_type": "markdown",
      "metadata": {
        "id": "k1ar4SJbvtYX"
      },
      "source": [
        "'day', 'month' 피처에는 원-핫 인코딩을 적용하겠습니다. 순서형 피처로 간주하여 min-max 정규화를 적용해 볼 수도 있습니다."
      ]
    },
    {
      "cell_type": "code",
      "execution_count": null,
      "metadata": {
        "id": "yyWVFU54wKFP"
      },
      "outputs": [],
      "source": [
        "list_date = ['day', 'month']\n",
        "\n",
        "date_one_hot_encoded = one_hot_encoder.fit_transform(all_data[list_date])"
      ]
    },
    {
      "cell_type": "code",
      "execution_count": null,
      "metadata": {
        "colab": {
          "base_uri": "https://localhost:8080/"
        },
        "id": "2_VqBJ4Wwuc-",
        "outputId": "9eecd40a-a269-443c-9de4-33622dd228b3"
      },
      "outputs": [
        {
          "data": {
            "text/plain": [
              "<500000x19 sparse matrix of type '<class 'numpy.float64'>'\n",
              "\twith 1000000 stored elements in Compressed Sparse Row format>"
            ]
          },
          "execution_count": 25,
          "metadata": {},
          "output_type": "execute_result"
        }
      ],
      "source": [
        "date_one_hot_encoded"
      ]
    },
    {
      "cell_type": "markdown",
      "metadata": {
        "id": "M41oshgDyz2U"
      },
      "source": [
        "## **2.6. 불필요한 피처 제거**"
      ]
    },
    {
      "cell_type": "markdown",
      "metadata": {
        "id": "RbpOcXxPy2sd"
      },
      "source": [
        "대부분의 피처 엔지니어링을 마쳤습니다. 원-핫 인코딩을 적용한 피처들은 CSR 형식으로 따로 저장된 상태이므로 기존 'nom_num', 'day', 'month' 피처는 불필요합니다. 삭제하겠습니다."
      ]
    },
    {
      "cell_type": "code",
      "execution_count": null,
      "metadata": {
        "id": "U_8uvLnMzVGr"
      },
      "outputs": [],
      "source": [
        "list_nom_num = ['nom_' + str(i) for i in range(10)]\n",
        "list_date = ['day', 'month']\n",
        "\n",
        "for features in [list_nom_num, list_date]:\n",
        "    all_data = all_data.drop(features, axis=1)"
      ]
    },
    {
      "cell_type": "markdown",
      "metadata": {
        "id": "I3IOcwxl0EAd"
      },
      "source": [
        "## **2.7. 데이터 세트와 인코딩된 피처 간 결합**"
      ]
    },
    {
      "cell_type": "markdown",
      "metadata": {
        "id": "wj72tNc22MPW"
      },
      "source": [
        "데이터 세트와 인코딩된 피처를 결합하겠습니다. 기존 데이터를 CSR 형식으로 변환하여 인코딩된 CSR 행렬과 결합하고, 메모리를 절약하기 위해 CSR 형식을 그대로 유지시키겠습니다. "
      ]
    },
    {
      "cell_type": "code",
      "execution_count": null,
      "metadata": {
        "id": "KQI3gTRL1vdW"
      },
      "outputs": [],
      "source": [
        "from scipy import sparse\n",
        "\n",
        "all_data_sparse = sparse.hstack([sparse.csr_matrix(all_data), # 기존 데이터를 CSR 형식으로 변환합니다.\n",
        "                                 nom_num_one_hot_encoded,\n",
        "                                 date_one_hot_encoded], format='csr')"
      ]
    },
    {
      "cell_type": "code",
      "execution_count": null,
      "metadata": {
        "colab": {
          "base_uri": "https://localhost:8080/"
        },
        "id": "mzwJYiT_2J6_",
        "outputId": "d0cf75e1-bb7d-4d37-c941-cd699a92a528"
      },
      "outputs": [
        {
          "data": {
            "text/plain": [
              "<500000x16306 sparse matrix of type '<class 'numpy.float64'>'\n",
              "\twith 9163718 stored elements in Compressed Sparse Row format>"
            ]
          },
          "execution_count": 28,
          "metadata": {},
          "output_type": "execute_result"
        }
      ],
      "source": [
        "all_data_sparse"
      ]
    },
    {
      "cell_type": "markdown",
      "metadata": {
        "id": "RA7nu4JMSJeS"
      },
      "source": [
        "# **4. 최종 모델링 및 하이퍼파라미터 튜닝**"
      ]
    },
    {
      "cell_type": "markdown",
      "metadata": {
        "id": "0frss9yUfwWa"
      },
      "source": [
        "## **4.1. 데이터 준비**"
      ]
    },
    {
      "cell_type": "markdown",
      "metadata": {
        "id": "RdlhEOiBetVQ"
      },
      "source": [
        "데이터를 준비하겠습니다."
      ]
    },
    {
      "cell_type": "code",
      "execution_count": null,
      "metadata": {
        "id": "NYlwyaUQdPcS"
      },
      "outputs": [],
      "source": [
        "X_train, X_valid, y_train, y_valid = train_test_split(\n",
        "    X_train_sparse, y_train_original, test_size=0.1, stratify=y_train_original, random_state=2023)"
      ]
    },
    {
      "cell_type": "markdown",
      "metadata": {
        "id": "VECdyhW1fzKM"
      },
      "source": [
        "## **4.2. LogisticRegression**"
      ]
    },
    {
      "cell_type": "markdown",
      "metadata": {
        "id": "e8VHO4ThgBAr"
      },
      "source": [
        "### **4.2.1. optuna**"
      ]
    },
    {
      "cell_type": "code",
      "execution_count": null,
      "metadata": {
        "id": "KPBz5pRZfilS"
      },
      "outputs": [],
      "source": [
        "def objective_LogisticRegression(trial, X_train, y_train, X_valid, y_valid):\n",
        "    params = {\n",
        "        'C': trial.suggest_float('C', 0.1, 10),\n",
        "        'max_iter': trial.suggest_int('max_iter', 100, 10000),\n",
        "        'solver': 'liblinear',\n",
        "        'random_state': 2023\n",
        "    }\n",
        "\n",
        "    model = LogisticRegression(**params)\n",
        "    model.fit(X_train, y_train)\n",
        "    prediction = model.predict_proba(X_valid)[:, 1]\n",
        "    roc_auc = roc_auc_score(y_valid, prediction)\n",
        "\n",
        "    return roc_auc"
      ]
    },
    {
      "cell_type": "code",
      "execution_count": null,
      "metadata": {
        "colab": {
          "base_uri": "https://localhost:8080/",
          "height": 1000,
          "referenced_widgets": [
            "4a4e1033661943ab8ff3fd93642d0bae",
            "c9f77de4f4b94a9c8578e6f833edbfa6",
            "0799200ed8e7468099f8a098464f4f6f",
            "58e9485a394c49b19fce291e015ec4ca",
            "ec74ce8fb5664ae78ec7dcab7bbfdc55",
            "2c547fe9a1584aa6b4918772c0526dd8",
            "accaf6fecc014244b4c81477ff81d877",
            "8bccdffd0937499ebe6ce92fc202f910",
            "64a078c4ebbb4b73b703d4043099b1ca",
            "9a70d3d99f5d4ffd80a8c4fa20d443ad",
            "c89f224206514d89a14bb2c54c604ce3"
          ]
        },
        "id": "BZpl4K2Yfl6c",
        "outputId": "342e384f-5a33-4957-cf3c-aa664d51f428"
      },
      "outputs": [
        {
          "name": "stderr",
          "output_type": "stream",
          "text": [
            "\u001b[32m[I 2023-01-22 18:36:21,923]\u001b[0m A new study created in memory with name: no-name-fbb0da3e-54d0-4deb-9202-de293c1ffd40\u001b[0m\n",
            "/usr/local/lib/python3.8/dist-packages/optuna/progress_bar.py:56: ExperimentalWarning: Progress bar is experimental (supported from v1.2.0). The interface can change in the future.\n",
            "  self._init_valid()\n"
          ]
        },
        {
          "data": {
            "application/vnd.jupyter.widget-view+json": {
              "model_id": "4a4e1033661943ab8ff3fd93642d0bae",
              "version_major": 2,
              "version_minor": 0
            },
            "text/plain": [
              "  0%|          | 0/500 [00:00<?, ?it/s]"
            ]
          },
          "metadata": {},
          "output_type": "display_data"
        },
        {
          "name": "stdout",
          "output_type": "stream",
          "text": [
            "\u001b[32m[I 2023-01-22 18:36:56,247]\u001b[0m Trial 0 finished with value: 0.7891953153862101 and parameters: {'C': 7.578692506041821, 'max_iter': 9286}. Best is trial 0 with value: 0.7891953153862101.\u001b[0m\n",
            "\u001b[32m[I 2023-01-22 18:37:19,258]\u001b[0m Trial 1 finished with value: 0.7942987002204887 and parameters: {'C': 1.662506209505343, 'max_iter': 1276}. Best is trial 1 with value: 0.7942987002204887.\u001b[0m\n",
            "\u001b[32m[I 2023-01-22 18:37:50,067]\u001b[0m Trial 2 finished with value: 0.7885333867584884 and parameters: {'C': 9.84151812533324, 'max_iter': 2442}. Best is trial 1 with value: 0.7942987002204887.\u001b[0m\n",
            "\u001b[32m[I 2023-01-22 18:38:19,891]\u001b[0m Trial 3 finished with value: 0.7892453726854636 and parameters: {'C': 7.410787242838828, 'max_iter': 7746}. Best is trial 1 with value: 0.7942987002204887.\u001b[0m\n",
            "\u001b[32m[I 2023-01-22 18:38:45,182]\u001b[0m Trial 4 finished with value: 0.78979574654153 and parameters: {'C': 6.009764251362852, 'max_iter': 1171}. Best is trial 1 with value: 0.7942987002204887.\u001b[0m\n",
            "\u001b[32m[I 2023-01-22 18:39:11,241]\u001b[0m Trial 5 finished with value: 0.7902620670485836 and parameters: {'C': 5.128106645250092, 'max_iter': 4242}. Best is trial 1 with value: 0.7942987002204887.\u001b[0m\n",
            "\u001b[32m[I 2023-01-22 18:39:31,275]\u001b[0m Trial 6 finished with value: 0.7925528806041986 and parameters: {'C': 2.5843257824735923, 'max_iter': 3339}. Best is trial 1 with value: 0.7942987002204887.\u001b[0m\n",
            "\u001b[32m[I 2023-01-22 18:39:52,352]\u001b[0m Trial 7 finished with value: 0.7922370145975354 and parameters: {'C': 2.7991449232526024, 'max_iter': 4362}. Best is trial 1 with value: 0.7942987002204887.\u001b[0m\n",
            "\u001b[32m[I 2023-01-22 18:40:16,500]\u001b[0m Trial 8 finished with value: 0.7899687307516208 and parameters: {'C': 5.673378436810265, 'max_iter': 8704}. Best is trial 1 with value: 0.7942987002204887.\u001b[0m\n",
            "\u001b[32m[I 2023-01-22 18:40:43,167]\u001b[0m Trial 9 finished with value: 0.7892765113086269 and parameters: {'C': 7.36419219829552, 'max_iter': 2301}. Best is trial 1 with value: 0.7942987002204887.\u001b[0m\n",
            "\u001b[32m[I 2023-01-22 18:40:52,697]\u001b[0m Trial 10 finished with value: 0.8024385351839018 and parameters: {'C': 0.20674404386512713, 'max_iter': 6135}. Best is trial 10 with value: 0.8024385351839018.\u001b[0m\n",
            "\u001b[32m[I 2023-01-22 18:41:02,294]\u001b[0m Trial 11 finished with value: 0.8027159096656296 and parameters: {'C': 0.18002247508851377, 'max_iter': 6165}. Best is trial 11 with value: 0.8027159096656296.\u001b[0m\n",
            "\u001b[32m[I 2023-01-22 18:41:11,538]\u001b[0m Trial 12 finished with value: 0.8030986321279082 and parameters: {'C': 0.13374446001707074, 'max_iter': 6519}. Best is trial 12 with value: 0.8030986321279082.\u001b[0m\n",
            "\u001b[32m[I 2023-01-22 18:41:21,198]\u001b[0m Trial 13 finished with value: 0.8025768953383879 and parameters: {'C': 0.19334559668852985, 'max_iter': 6543}. Best is trial 12 with value: 0.8030986321279082.\u001b[0m\n",
            "\u001b[32m[I 2023-01-22 18:41:41,030]\u001b[0m Trial 14 finished with value: 0.7946421095168508 and parameters: {'C': 1.5361446119864688, 'max_iter': 5819}. Best is trial 12 with value: 0.8030986321279082.\u001b[0m\n",
            "\u001b[32m[I 2023-01-22 18:42:02,733]\u001b[0m Trial 15 finished with value: 0.7912984964953924 and parameters: {'C': 3.669368846502148, 'max_iter': 7629}. Best is trial 12 with value: 0.8030986321279082.\u001b[0m\n",
            "\u001b[32m[I 2023-01-22 18:42:13,976]\u001b[0m Trial 16 finished with value: 0.8023031946908554 and parameters: {'C': 0.2192276857375512, 'max_iter': 7190}. Best is trial 12 with value: 0.8030986321279082.\u001b[0m\n",
            "\u001b[32m[I 2023-01-22 18:42:35,748]\u001b[0m Trial 17 finished with value: 0.7910661500327735 and parameters: {'C': 3.9119671087504093, 'max_iter': 5155}. Best is trial 12 with value: 0.8030986321279082.\u001b[0m\n",
            "\u001b[32m[I 2023-01-22 18:42:53,212]\u001b[0m Trial 18 finished with value: 0.7952527091334824 and parameters: {'C': 1.3232485287841873, 'max_iter': 9753}. Best is trial 12 with value: 0.8030986321279082.\u001b[0m\n",
            "\u001b[32m[I 2023-01-22 18:43:10,904]\u001b[0m Trial 19 finished with value: 0.795821514961109 and parameters: {'C': 1.163122024580904, 'max_iter': 8351}. Best is trial 12 with value: 0.8030986321279082.\u001b[0m\n",
            "\u001b[32m[I 2023-01-22 18:43:33,023]\u001b[0m Trial 20 finished with value: 0.7930425053614952 and parameters: {'C': 2.2713136863723955, 'max_iter': 5381}. Best is trial 12 with value: 0.8030986321279082.\u001b[0m\n",
            "\u001b[32m[I 2023-01-22 18:43:42,786]\u001b[0m Trial 21 finished with value: 0.8027826928538964 and parameters: {'C': 0.17281950231501103, 'max_iter': 6743}. Best is trial 12 with value: 0.8030986321279082.\u001b[0m\n",
            "\u001b[32m[I 2023-01-22 18:44:00,025]\u001b[0m Trial 22 finished with value: 0.7972190059019153 and parameters: {'C': 0.8503068450213878, 'max_iter': 6814}. Best is trial 12 with value: 0.8030986321279082.\u001b[0m\n",
            "\u001b[32m[I 2023-01-22 18:44:17,052]\u001b[0m Trial 23 finished with value: 0.797711242116852 and parameters: {'C': 0.7607927423314425, 'max_iter': 4315}. Best is trial 12 with value: 0.8030986321279082.\u001b[0m\n",
            "\u001b[32m[I 2023-01-22 18:44:40,288]\u001b[0m Trial 24 finished with value: 0.7935930309856409 and parameters: {'C': 1.9771230618136246, 'max_iter': 6127}. Best is trial 12 with value: 0.8030986321279082.\u001b[0m\n",
            "\u001b[32m[I 2023-01-22 18:44:50,174]\u001b[0m Trial 25 finished with value: 0.8028867272555542 and parameters: {'C': 0.16106239709550507, 'max_iter': 8107}. Best is trial 12 with value: 0.8030986321279082.\u001b[0m\n",
            "\u001b[32m[I 2023-01-22 18:45:06,997]\u001b[0m Trial 26 finished with value: 0.7967495819993095 and parameters: {'C': 0.9450272003631048, 'max_iter': 8027}. Best is trial 12 with value: 0.8030986321279082.\u001b[0m\n",
            "\u001b[32m[I 2023-01-22 18:45:28,340]\u001b[0m Trial 27 finished with value: 0.7932411593105133 and parameters: {'C': 2.157315993812399, 'max_iter': 9148}. Best is trial 12 with value: 0.8030986321279082.\u001b[0m\n",
            "\u001b[32m[I 2023-01-22 18:45:52,135]\u001b[0m Trial 28 finished with value: 0.7919272716478638 and parameters: {'C': 3.0811290246352843, 'max_iter': 7246}. Best is trial 12 with value: 0.8030986321279082.\u001b[0m\n",
            "\u001b[32m[I 2023-01-22 18:46:14,742]\u001b[0m Trial 29 finished with value: 0.7942775521236478 and parameters: {'C': 1.6713724993384933, 'max_iter': 8931}. Best is trial 12 with value: 0.8030986321279082.\u001b[0m\n",
            "\u001b[32m[I 2023-01-22 18:46:30,151]\u001b[0m Trial 30 finished with value: 0.796241797406319 and parameters: {'C': 1.0598450905032586, 'max_iter': 9950}. Best is trial 12 with value: 0.8030986321279082.\u001b[0m\n",
            "\u001b[32m[I 2023-01-22 18:46:41,953]\u001b[0m Trial 31 finished with value: 0.8015451026680702 and parameters: {'C': 0.28816401319695845, 'max_iter': 6655}. Best is trial 12 with value: 0.8030986321279082.\u001b[0m\n",
            "\u001b[32m[I 2023-01-22 18:46:48,826]\u001b[0m Trial 32 finished with value: 0.8031975692154549 and parameters: {'C': 0.10241403335387873, 'max_iter': 5588}. Best is trial 32 with value: 0.8031975692154549.\u001b[0m\n",
            "\u001b[32m[I 2023-01-22 18:47:03,965]\u001b[0m Trial 33 finished with value: 0.7977248279766389 and parameters: {'C': 0.7599334254276907, 'max_iter': 4724}. Best is trial 32 with value: 0.8031975692154549.\u001b[0m\n",
            "\u001b[32m[I 2023-01-22 18:47:25,902]\u001b[0m Trial 34 finished with value: 0.7940725448488282 and parameters: {'C': 1.7551814638506789, 'max_iter': 5572}. Best is trial 32 with value: 0.8031975692154549.\u001b[0m\n",
            "\u001b[32m[I 2023-01-22 18:47:48,476]\u001b[0m Trial 35 finished with value: 0.794368524003723 and parameters: {'C': 1.634129718070572, 'max_iter': 7429}. Best is trial 32 with value: 0.8031975692154549.\u001b[0m\n",
            "\u001b[32m[I 2023-01-22 18:48:02,832]\u001b[0m Trial 36 finished with value: 0.7982181527350408 and parameters: {'C': 0.6774962453057447, 'max_iter': 3598}. Best is trial 32 with value: 0.8031975692154549.\u001b[0m\n",
            "\u001b[32m[I 2023-01-22 18:48:18,275]\u001b[0m Trial 37 finished with value: 0.7960178505218811 and parameters: {'C': 1.1137970996217081, 'max_iter': 7882}. Best is trial 32 with value: 0.8031975692154549.\u001b[0m\n",
            "\u001b[32m[I 2023-01-22 18:48:38,859]\u001b[0m Trial 38 finished with value: 0.7930681594002762 and parameters: {'C': 2.2597676508659705, 'max_iter': 328}. Best is trial 32 with value: 0.8031975692154549.\u001b[0m\n",
            "\u001b[32m[I 2023-01-22 18:48:53,243]\u001b[0m Trial 39 finished with value: 0.7982816231924734 and parameters: {'C': 0.6682697078068479, 'max_iter': 7005}. Best is trial 32 with value: 0.8031975692154549.\u001b[0m\n",
            "\u001b[32m[I 2023-01-22 18:49:11,754]\u001b[0m Trial 40 finished with value: 0.7950942423251826 and parameters: {'C': 1.3750409270192476, 'max_iter': 8416}. Best is trial 32 with value: 0.8031975692154549.\u001b[0m\n",
            "\u001b[32m[I 2023-01-22 18:49:21,294]\u001b[0m Trial 41 finished with value: 0.802906676907907 and parameters: {'C': 0.15900977905091304, 'max_iter': 6294}. Best is trial 32 with value: 0.8031975692154549.\u001b[0m\n",
            "\u001b[32m[I 2023-01-22 18:49:34,746]\u001b[0m Trial 42 finished with value: 0.7997816936547294 and parameters: {'C': 0.4690862204373469, 'max_iter': 6307}. Best is trial 32 with value: 0.8031975692154549.\u001b[0m\n",
            "\u001b[32m[I 2023-01-22 18:49:44,131]\u001b[0m Trial 43 finished with value: 0.8031154993182368 and parameters: {'C': 0.13077876561289561, 'max_iter': 5675}. Best is trial 32 with value: 0.8031975692154549.\u001b[0m\n",
            "\u001b[32m[I 2023-01-22 18:49:52,168]\u001b[0m Trial 44 finished with value: 0.8031963498374386 and parameters: {'C': 0.10536792067665934, 'max_iter': 4894}. Best is trial 32 with value: 0.8031975692154549.\u001b[0m\n",
            "\u001b[32m[I 2023-01-22 18:50:06,514]\u001b[0m Trial 45 finished with value: 0.7982060793226646 and parameters: {'C': 0.6797129046500596, 'max_iter': 4834}. Best is trial 32 with value: 0.8031975692154549.\u001b[0m\n",
            "\u001b[32m[I 2023-01-22 18:50:25,043]\u001b[0m Trial 46 finished with value: 0.7954477154152156 and parameters: {'C': 1.2682412883190572, 'max_iter': 3684}. Best is trial 32 with value: 0.8031975692154549.\u001b[0m\n",
            "\u001b[32m[I 2023-01-22 18:50:40,409]\u001b[0m Trial 47 finished with value: 0.7989254338515582 and parameters: {'C': 0.5768512368424317, 'max_iter': 2847}. Best is trial 32 with value: 0.8031975692154549.\u001b[0m\n",
            "\u001b[32m[I 2023-01-22 18:51:02,252]\u001b[0m Trial 48 finished with value: 0.794259617323382 and parameters: {'C': 1.6790350327652512, 'max_iter': 5795}. Best is trial 32 with value: 0.8031975692154549.\u001b[0m\n",
            "\u001b[32m[I 2023-01-22 18:51:22,179]\u001b[0m Trial 49 finished with value: 0.7958726869707375 and parameters: {'C': 1.1530092190216275, 'max_iter': 5075}. Best is trial 32 with value: 0.8031975692154549.\u001b[0m\n",
            "\u001b[32m[I 2023-01-22 18:51:35,811]\u001b[0m Trial 50 finished with value: 0.799536394571551 and parameters: {'C': 0.49806890490110733, 'max_iter': 3913}. Best is trial 32 with value: 0.8031975692154549.\u001b[0m\n",
            "\u001b[32m[I 2023-01-22 18:51:45,889]\u001b[0m Trial 51 finished with value: 0.803049302268759 and parameters: {'C': 0.14031057355652915, 'max_iter': 4655}. Best is trial 32 with value: 0.8031975692154549.\u001b[0m\n",
            "\u001b[32m[I 2023-01-22 18:51:57,866]\u001b[0m Trial 52 finished with value: 0.8008310286216594 and parameters: {'C': 0.3553934491245896, 'max_iter': 5580}. Best is trial 32 with value: 0.8031975692154549.\u001b[0m\n",
            "\u001b[32m[I 2023-01-22 18:52:05,178]\u001b[0m Trial 53 finished with value: 0.8031990293290452 and parameters: {'C': 0.1056814501256384, 'max_iter': 4515}. Best is trial 53 with value: 0.8031990293290452.\u001b[0m\n",
            "\u001b[32m[I 2023-01-22 18:52:25,301]\u001b[0m Trial 54 finished with value: 0.7963368879580632 and parameters: {'C': 1.0379400308472677, 'max_iter': 4714}. Best is trial 53 with value: 0.8031990293290452.\u001b[0m\n",
            "\u001b[32m[I 2023-01-22 18:52:35,330]\u001b[0m Trial 55 finished with value: 0.8030731089236782 and parameters: {'C': 0.13724602622453963, 'max_iter': 3057}. Best is trial 53 with value: 0.8031990293290452.\u001b[0m\n",
            "\u001b[32m[I 2023-01-22 18:52:56,069]\u001b[0m Trial 56 finished with value: 0.7953225904839195 and parameters: {'C': 1.3093178339186207, 'max_iter': 2374}. Best is trial 53 with value: 0.8031990293290452.\u001b[0m\n",
            "\u001b[32m[I 2023-01-22 18:53:12,229]\u001b[0m Trial 57 finished with value: 0.7991139664397026 and parameters: {'C': 0.5518171983834184, 'max_iter': 3998}. Best is trial 53 with value: 0.8031990293290452.\u001b[0m\n",
            "\u001b[32m[I 2023-01-22 18:53:19,245]\u001b[0m Trial 58 finished with value: 0.8031955124963116 and parameters: {'C': 0.10389598052107434, 'max_iter': 3048}. Best is trial 53 with value: 0.8031990293290452.\u001b[0m\n",
            "\u001b[32m[I 2023-01-22 18:53:37,296]\u001b[0m Trial 59 finished with value: 0.7967965934702129 and parameters: {'C': 0.9356440576255349, 'max_iter': 3165}. Best is trial 53 with value: 0.8031990293290452.\u001b[0m\n",
            "\u001b[32m[I 2023-01-22 18:53:55,076]\u001b[0m Trial 60 finished with value: 0.797193911835013 and parameters: {'C': 0.8551708691052622, 'max_iter': 1857}. Best is trial 53 with value: 0.8031990293290452.\u001b[0m\n",
            "\u001b[32m[I 2023-01-22 18:54:04,717]\u001b[0m Trial 61 finished with value: 0.803102619965026 and parameters: {'C': 0.13285515924960373, 'max_iter': 1848}. Best is trial 53 with value: 0.8031990293290452.\u001b[0m\n",
            "\u001b[32m[I 2023-01-22 18:54:18,355]\u001b[0m Trial 62 finished with value: 0.799694369441939 and parameters: {'C': 0.4795293909844156, 'max_iter': 1340}. Best is trial 53 with value: 0.8031990293290452.\u001b[0m\n",
            "\u001b[32m[I 2023-01-22 18:54:27,621]\u001b[0m Trial 63 finished with value: 0.8031962347030337 and parameters: {'C': 0.10862638114957755, 'max_iter': 1849}. Best is trial 53 with value: 0.8031990293290452.\u001b[0m\n",
            "\u001b[32m[I 2023-01-22 18:54:42,455]\u001b[0m Trial 64 finished with value: 0.7995206891920361 and parameters: {'C': 0.5005341721976755, 'max_iter': 1838}. Best is trial 53 with value: 0.8031990293290452.\u001b[0m\n",
            "\u001b[32m[I 2023-01-22 18:55:04,095]\u001b[0m Trial 65 finished with value: 0.7948486920396658 and parameters: {'C': 1.4611970672123442, 'max_iter': 860}. Best is trial 53 with value: 0.8031990293290452.\u001b[0m\n",
            "\u001b[32m[I 2023-01-22 18:55:27,781]\u001b[0m Trial 66 finished with value: 0.7936753887188714 and parameters: {'C': 1.9373230069110379, 'max_iter': 1842}. Best is trial 53 with value: 0.8031990293290452.\u001b[0m\n",
            "\u001b[32m[I 2023-01-22 18:55:43,615]\u001b[0m Trial 67 finished with value: 0.7968547415781068 and parameters: {'C': 0.9209769709080593, 'max_iter': 2725}. Best is trial 53 with value: 0.8031990293290452.\u001b[0m\n",
            "\u001b[32m[I 2023-01-22 18:55:53,228]\u001b[0m Trial 68 finished with value: 0.8031385314326136 and parameters: {'C': 0.1256697385756646, 'max_iter': 1107}. Best is trial 53 with value: 0.8031990293290452.\u001b[0m\n",
            "\u001b[32m[I 2023-01-22 18:56:07,071]\u001b[0m Trial 69 finished with value: 0.8002370659265464 and parameters: {'C': 0.4171139687307431, 'max_iter': 160}. Best is trial 53 with value: 0.8031990293290452.\u001b[0m\n",
            "\u001b[32m[I 2023-01-22 18:56:26,615]\u001b[0m Trial 70 finished with value: 0.7951246535082416 and parameters: {'C': 1.3693445771300958, 'max_iter': 958}. Best is trial 53 with value: 0.8031990293290452.\u001b[0m\n",
            "\u001b[32m[I 2023-01-22 18:56:43,513]\u001b[0m Trial 71 finished with value: 0.7975536702168814 and parameters: {'C': 0.7886780421501236, 'max_iter': 588}. Best is trial 53 with value: 0.8031990293290452.\u001b[0m\n",
            "\u001b[32m[I 2023-01-22 18:56:57,475]\u001b[0m Trial 72 finished with value: 0.8005790831432849 and parameters: {'C': 0.3818995535541436, 'max_iter': 1427}. Best is trial 53 with value: 0.8031990293290452.\u001b[0m\n",
            "\u001b[32m[I 2023-01-22 18:57:07,024]\u001b[0m Trial 73 finished with value: 0.8029582047875146 and parameters: {'C': 0.15283328383309386, 'max_iter': 2088}. Best is trial 53 with value: 0.8031990293290452.\u001b[0m\n",
            "\u001b[32m[I 2023-01-22 18:57:13,983]\u001b[0m Trial 74 finished with value: 0.8031958788330545 and parameters: {'C': 0.10453826082563905, 'max_iter': 5197}. Best is trial 53 with value: 0.8031990293290452.\u001b[0m\n",
            "\u001b[32m[I 2023-01-22 18:57:27,152]\u001b[0m Trial 75 finished with value: 0.7977779729712983 and parameters: {'C': 0.7481136531810508, 'max_iter': 5275}. Best is trial 53 with value: 0.8031990293290452.\u001b[0m\n",
            "\u001b[32m[I 2023-01-22 18:57:42,845]\u001b[0m Trial 76 finished with value: 0.796089956059687 and parameters: {'C': 1.095051573673556, 'max_iter': 4404}. Best is trial 53 with value: 0.8031990293290452.\u001b[0m\n",
            "\u001b[32m[I 2023-01-22 18:57:56,672]\u001b[0m Trial 77 finished with value: 0.8004810409640677 and parameters: {'C': 0.3918980883388279, 'max_iter': 5784}. Best is trial 53 with value: 0.8031990293290452.\u001b[0m\n",
            "\u001b[32m[I 2023-01-22 18:58:10,963]\u001b[0m Trial 78 finished with value: 0.7985421985178393 and parameters: {'C': 0.629908494819786, 'max_iter': 5410}. Best is trial 53 with value: 0.8031990293290452.\u001b[0m\n",
            "\u001b[32m[I 2023-01-22 18:58:27,714]\u001b[0m Trial 79 finished with value: 0.7969198448507373 and parameters: {'C': 0.9094239071601959, 'max_iter': 4971}. Best is trial 53 with value: 0.8031990293290452.\u001b[0m\n",
            "\u001b[32m[I 2023-01-22 18:58:34,550]\u001b[0m Trial 80 finished with value: 0.8031970563440145 and parameters: {'C': 0.10372374260778044, 'max_iter': 5947}. Best is trial 53 with value: 0.8031990293290452.\u001b[0m\n",
            "\u001b[32m[I 2023-01-22 18:58:48,117]\u001b[0m Trial 81 finished with value: 0.8007486604216649 and parameters: {'C': 0.36447932734741284, 'max_iter': 5941}. Best is trial 53 with value: 0.8031990293290452.\u001b[0m\n",
            "\u001b[32m[I 2023-01-22 18:59:03,312]\u001b[0m Trial 82 finished with value: 0.7987269526041476 and parameters: {'C': 0.6041126578444651, 'max_iter': 4117}. Best is trial 53 with value: 0.8031990293290452.\u001b[0m\n",
            "\u001b[32m[I 2023-01-22 18:59:12,371]\u001b[0m Trial 83 finished with value: 0.8031950414919276 and parameters: {'C': 0.10912765507732523, 'max_iter': 5991}. Best is trial 53 with value: 0.8031990293290452.\u001b[0m\n",
            "\u001b[32m[I 2023-01-22 18:59:31,645]\u001b[0m Trial 84 finished with value: 0.7959348333825131 and parameters: {'C': 1.1359777636173833, 'max_iter': 4465}. Best is trial 53 with value: 0.8031990293290452.\u001b[0m\n",
            "\u001b[32m[I 2023-01-22 18:59:43,508]\u001b[0m Trial 85 finished with value: 0.8008844719190955 and parameters: {'C': 0.3504186694726651, 'max_iter': 6072}. Best is trial 53 with value: 0.8031990293290452.\u001b[0m\n",
            "\u001b[32m[I 2023-01-22 19:00:00,850]\u001b[0m Trial 86 finished with value: 0.79767032753603 and parameters: {'C': 0.7681382968671917, 'max_iter': 3442}. Best is trial 53 with value: 0.8031990293290452.\u001b[0m\n",
            "\u001b[32m[I 2023-01-22 19:00:09,864]\u001b[0m Trial 87 finished with value: 0.8031980716201312 and parameters: {'C': 0.10443157555750783, 'max_iter': 6438}. Best is trial 53 with value: 0.8031990293290452.\u001b[0m\n",
            "\u001b[32m[I 2023-01-22 19:00:24,085]\u001b[0m Trial 88 finished with value: 0.7985815535508121 and parameters: {'C': 0.6242935229272901, 'max_iter': 6312}. Best is trial 53 with value: 0.8031990293290452.\u001b[0m\n",
            "\u001b[32m[I 2023-01-22 19:00:42,200]\u001b[0m Trial 89 finished with value: 0.7946875248062308 and parameters: {'C': 1.510729342191267, 'max_iter': 7041}. Best is trial 53 with value: 0.8031990293290452.\u001b[0m\n",
            "\u001b[32m[I 2023-01-22 19:00:56,115]\u001b[0m Trial 90 finished with value: 0.8005106933067304 and parameters: {'C': 0.3889720711510203, 'max_iter': 6542}. Best is trial 53 with value: 0.8031990293290452.\u001b[0m\n",
            "\u001b[32m[I 2023-01-22 19:01:05,266]\u001b[0m Trial 91 finished with value: 0.8031013848868636 and parameters: {'C': 0.13300858007927685, 'max_iter': 5439}. Best is trial 53 with value: 0.8031990293290452.\u001b[0m\n",
            "\u001b[32m[I 2023-01-22 19:01:16,762]\u001b[0m Trial 92 finished with value: 0.801278545587028 and parameters: {'C': 0.3126605007385951, 'max_iter': 5047}. Best is trial 53 with value: 0.8031990293290452.\u001b[0m\n",
            "\u001b[32m[I 2023-01-22 19:01:24,938]\u001b[0m Trial 93 finished with value: 0.8031735375251077 and parameters: {'C': 0.11702888390456989, 'max_iter': 5224}. Best is trial 53 with value: 0.8031990293290452.\u001b[0m\n",
            "\u001b[32m[I 2023-01-22 19:01:44,260]\u001b[0m Trial 94 finished with value: 0.7965478194213571 and parameters: {'C': 0.989790299875843, 'max_iter': 5207}. Best is trial 53 with value: 0.8031990293290452.\u001b[0m\n",
            "\u001b[32m[I 2023-01-22 19:01:59,344]\u001b[0m Trial 95 finished with value: 0.7989757214196215 and parameters: {'C': 0.5700867709970137, 'max_iter': 6848}. Best is trial 53 with value: 0.8031990293290452.\u001b[0m\n",
            "\u001b[32m[I 2023-01-22 19:02:16,863]\u001b[0m Trial 96 finished with value: 0.7973587005688225 and parameters: {'C': 0.8245501939621509, 'max_iter': 5942}. Best is trial 53 with value: 0.8031990293290452.\u001b[0m\n",
            "\u001b[32m[I 2023-01-22 19:02:33,334]\u001b[0m Trial 97 finished with value: 0.7956247764299191 and parameters: {'C': 1.2211528960937033, 'max_iter': 3795}. Best is trial 53 with value: 0.8031990293290452.\u001b[0m\n",
            "\u001b[32m[I 2023-01-22 19:02:41,543]\u001b[0m Trial 98 finished with value: 0.8031963498374386 and parameters: {'C': 0.10166558056794579, 'max_iter': 5552}. Best is trial 53 with value: 0.8031990293290452.\u001b[0m\n",
            "\u001b[32m[I 2023-01-22 19:02:53,410]\u001b[0m Trial 99 finished with value: 0.8008809236860694 and parameters: {'C': 0.35069748473088835, 'max_iter': 5547}. Best is trial 53 with value: 0.8031990293290452.\u001b[0m\n",
            "\u001b[32m[I 2023-01-22 19:03:07,545]\u001b[0m Trial 100 finished with value: 0.798352038347879 and parameters: {'C': 0.6573170837680601, 'max_iter': 4863}. Best is trial 53 with value: 0.8031990293290452.\u001b[0m\n",
            "\u001b[32m[I 2023-01-22 19:03:19,242]\u001b[0m Trial 101 finished with value: 0.8014115519916828 and parameters: {'C': 0.30048441377860957, 'max_iter': 6394}. Best is trial 53 with value: 0.8031990293290452.\u001b[0m\n",
            "\u001b[32m[I 2023-01-22 19:03:32,768]\u001b[0m Trial 102 finished with value: 0.7994146190047632 and parameters: {'C': 0.5134141147656315, 'max_iter': 5210}. Best is trial 53 with value: 0.8031990293290452.\u001b[0m\n",
            "\u001b[32m[I 2023-01-22 19:03:41,068]\u001b[0m Trial 103 finished with value: 0.8031935185777527 and parameters: {'C': 0.10932133929282654, 'max_iter': 4615}. Best is trial 53 with value: 0.8031990293290452.\u001b[0m\n",
            "\u001b[32m[I 2023-01-22 19:03:58,178]\u001b[0m Trial 104 finished with value: 0.7968431025364403 and parameters: {'C': 0.9254752376376698, 'max_iter': 4578}. Best is trial 53 with value: 0.8031990293290452.\u001b[0m\n",
            "\u001b[32m[I 2023-01-22 19:04:09,949]\u001b[0m Trial 105 finished with value: 0.8014032623145247 and parameters: {'C': 0.30128927804793704, 'max_iter': 4287}. Best is trial 53 with value: 0.8031990293290452.\u001b[0m\n",
            "\u001b[32m[I 2023-01-22 19:04:26,864]\u001b[0m Trial 106 finished with value: 0.798017510100846 and parameters: {'C': 0.7102213640324695, 'max_iter': 6098}. Best is trial 53 with value: 0.8031990293290452.\u001b[0m\n",
            "\u001b[32m[I 2023-01-22 19:04:34,477]\u001b[0m Trial 107 finished with value: 0.8031957375317393 and parameters: {'C': 0.10153746441632512, 'max_iter': 5616}. Best is trial 53 with value: 0.8031990293290452.\u001b[0m\n",
            "\u001b[32m[I 2023-01-22 19:04:47,706]\u001b[0m Trial 108 finished with value: 0.79945137304686 and parameters: {'C': 0.5086988621712986, 'max_iter': 5702}. Best is trial 53 with value: 0.8031990293290452.\u001b[0m\n",
            "\u001b[32m[I 2023-01-22 19:05:03,216]\u001b[0m Trial 109 finished with value: 0.7963007148213734 and parameters: {'C': 1.0450968485539909, 'max_iter': 2551}. Best is trial 53 with value: 0.8031990293290452.\u001b[0m\n",
            "\u001b[32m[I 2023-01-22 19:05:13,705]\u001b[0m Trial 110 finished with value: 0.8012166346774445 and parameters: {'C': 0.31910584805613385, 'max_iter': 7372}. Best is trial 53 with value: 0.8031990293290452.\u001b[0m\n",
            "\u001b[32m[I 2023-01-22 19:05:25,574]\u001b[0m Trial 111 finished with value: 0.8019883648938368 and parameters: {'C': 0.24761262570624828, 'max_iter': 4911}. Best is trial 53 with value: 0.8031990293290452.\u001b[0m\n",
            "\u001b[32m[I 2023-01-22 19:05:33,734]\u001b[0m Trial 112 finished with value: 0.8031725902829576 and parameters: {'C': 0.1175977034636685, 'max_iter': 5466}. Best is trial 53 with value: 0.8031990293290452.\u001b[0m\n",
            "\u001b[32m[I 2023-01-22 19:05:49,523]\u001b[0m Trial 113 finished with value: 0.7991300433893426 and parameters: {'C': 0.5498415298026564, 'max_iter': 5874}. Best is trial 53 with value: 0.8031990293290452.\u001b[0m\n",
            "\u001b[32m[I 2023-01-22 19:06:06,855]\u001b[0m Trial 114 finished with value: 0.7976369437919695 and parameters: {'C': 0.7739329765489726, 'max_iter': 6189}. Best is trial 53 with value: 0.8031990293290452.\u001b[0m\n",
            "\u001b[32m[I 2023-01-22 19:06:15,194]\u001b[0m Trial 115 finished with value: 0.8031942250843287 and parameters: {'C': 0.10955748206184299, 'max_iter': 6675}. Best is trial 53 with value: 0.8031990293290452.\u001b[0m\n",
            "\u001b[32m[I 2023-01-22 19:06:29,046]\u001b[0m Trial 116 finished with value: 0.7999539033242777 and parameters: {'C': 0.4490428505671679, 'max_iter': 5659}. Best is trial 53 with value: 0.8031990293290452.\u001b[0m\n",
            "\u001b[32m[I 2023-01-22 19:06:47,929]\u001b[0m Trial 117 finished with value: 0.7954727205146231 and parameters: {'C': 1.2613810003952415, 'max_iter': 6687}. Best is trial 53 with value: 0.8031990293290452.\u001b[0m\n",
            "\u001b[32m[I 2023-01-22 19:07:05,344]\u001b[0m Trial 118 finished with value: 0.7973395254570124 and parameters: {'C': 0.8271037710406051, 'max_iter': 6477}. Best is trial 53 with value: 0.8031990293290452.\u001b[0m\n",
            "\u001b[32m[I 2023-01-22 19:07:17,138]\u001b[0m Trial 119 finished with value: 0.8011077227637213 and parameters: {'C': 0.3283428795097437, 'max_iter': 6950}. Best is trial 53 with value: 0.8031990293290452.\u001b[0m\n",
            "\u001b[32m[I 2023-01-22 19:07:31,762]\u001b[0m Trial 120 finished with value: 0.7986058207433513 and parameters: {'C': 0.6208188043248848, 'max_iter': 5991}. Best is trial 53 with value: 0.8031990293290452.\u001b[0m\n",
            "\u001b[32m[I 2023-01-22 19:07:41,589]\u001b[0m Trial 121 finished with value: 0.8030277041010624 and parameters: {'C': 0.1432335293206324, 'max_iter': 4623}. Best is trial 53 with value: 0.8031990293290452.\u001b[0m\n",
            "\u001b[32m[I 2023-01-22 19:07:55,187]\u001b[0m Trial 122 finished with value: 0.7997107551611196 and parameters: {'C': 0.4777194780402175, 'max_iter': 7596}. Best is trial 53 with value: 0.8031990293290452.\u001b[0m\n",
            "\u001b[32m[I 2023-01-22 19:08:03,685]\u001b[0m Trial 123 finished with value: 0.8031802467208884 and parameters: {'C': 0.11527855691127756, 'max_iter': 5378}. Best is trial 53 with value: 0.8031990293290452.\u001b[0m\n",
            "\u001b[32m[I 2023-01-22 19:08:11,220]\u001b[0m Trial 124 finished with value: 0.8031973808137013 and parameters: {'C': 0.10345440626986595, 'max_iter': 4812}. Best is trial 53 with value: 0.8031990293290452.\u001b[0m\n",
            "\u001b[32m[I 2023-01-22 19:08:22,869]\u001b[0m Trial 125 finished with value: 0.8009960685578071 and parameters: {'C': 0.3390682948736563, 'max_iter': 5032}. Best is trial 53 with value: 0.8031990293290452.\u001b[0m\n",
            "\u001b[32m[I 2023-01-22 19:08:37,002]\u001b[0m Trial 126 finished with value: 0.7981134327603352 and parameters: {'C': 0.6943892574523158, 'max_iter': 4128}. Best is trial 53 with value: 0.8031990293290452.\u001b[0m\n",
            "\u001b[32m[I 2023-01-22 19:08:53,221]\u001b[0m Trial 127 finished with value: 0.796768924579345 and parameters: {'C': 0.9412135311279475, 'max_iter': 5775}. Best is trial 53 with value: 0.8031990293290452.\u001b[0m\n",
            "\u001b[32m[I 2023-01-22 19:09:06,722]\u001b[0m Trial 128 finished with value: 0.8001071524506798 and parameters: {'C': 0.4316222513448423, 'max_iter': 6335}. Best is trial 53 with value: 0.8031990293290452.\u001b[0m\n",
            "\u001b[32m[I 2023-01-22 19:09:18,071]\u001b[0m Trial 129 finished with value: 0.8018540292101428 and parameters: {'C': 0.2600002539315901, 'max_iter': 6689}. Best is trial 53 with value: 0.8031990293290452.\u001b[0m\n",
            "\u001b[32m[I 2023-01-22 19:09:45,567]\u001b[0m Trial 130 finished with value: 0.7903804723173348 and parameters: {'C': 4.917903481723039, 'max_iter': 6191}. Best is trial 53 with value: 0.8031990293290452.\u001b[0m\n",
            "\u001b[32m[I 2023-01-22 19:09:55,115]\u001b[0m Trial 131 finished with value: 0.8031253014428057 and parameters: {'C': 0.12843103837280123, 'max_iter': 4767}. Best is trial 53 with value: 0.8031990293290452.\u001b[0m\n",
            "\u001b[32m[I 2023-01-22 19:10:10,878]\u001b[0m Trial 132 finished with value: 0.7991675562718359 and parameters: {'C': 0.5453841713198049, 'max_iter': 4433}. Best is trial 53 with value: 0.8031990293290452.\u001b[0m\n",
            "\u001b[32m[I 2023-01-22 19:10:22,457]\u001b[0m Trial 133 finished with value: 0.8014765505966726 and parameters: {'C': 0.29446501910169665, 'max_iter': 5329}. Best is trial 53 with value: 0.8031990293290452.\u001b[0m\n",
            "\u001b[32m[I 2023-01-22 19:10:32,257]\u001b[0m Trial 134 finished with value: 0.8030287089104149 and parameters: {'C': 0.14310915618830286, 'max_iter': 5578}. Best is trial 53 with value: 0.8031990293290452.\u001b[0m\n",
            "\u001b[32m[I 2023-01-22 19:10:45,826]\u001b[0m Trial 135 finished with value: 0.7981525051906777 and parameters: {'C': 0.688580614159779, 'max_iter': 5064}. Best is trial 53 with value: 0.8031990293290452.\u001b[0m\n",
            "\u001b[32m[I 2023-01-22 19:10:59,305]\u001b[0m Trial 136 finished with value: 0.7997307205136184 and parameters: {'C': 0.475274629133554, 'max_iter': 1536}. Best is trial 53 with value: 0.8031990293290452.\u001b[0m\n",
            "\u001b[32m[I 2023-01-22 19:11:18,815]\u001b[0m Trial 137 finished with value: 0.7960206974817133 and parameters: {'C': 1.1149604229750152, 'max_iter': 2115}. Best is trial 53 with value: 0.8031990293290452.\u001b[0m\n",
            "\u001b[32m[I 2023-01-22 19:11:27,007]\u001b[0m Trial 138 finished with value: 0.8031753273417668 and parameters: {'C': 0.11670182089893727, 'max_iter': 3083}. Best is trial 53 with value: 0.8031990293290452.\u001b[0m\n",
            "\u001b[32m[I 2023-01-22 19:11:45,103]\u001b[0m Trial 139 finished with value: 0.7973100615161033 and parameters: {'C': 0.8337378718856285, 'max_iter': 4843}. Best is trial 53 with value: 0.8031990293290452.\u001b[0m\n",
            "\u001b[32m[I 2023-01-22 19:12:07,305]\u001b[0m Trial 140 finished with value: 0.7927583013161997 and parameters: {'C': 2.4455445776567615, 'max_iter': 7095}. Best is trial 53 with value: 0.8031990293290452.\u001b[0m\n",
            "\u001b[32m[I 2023-01-22 19:12:17,087]\u001b[0m Trial 141 finished with value: 0.803123092955583 and parameters: {'C': 0.12885539331547322, 'max_iter': 5338}. Best is trial 53 with value: 0.8031990293290452.\u001b[0m\n",
            "\u001b[32m[I 2023-01-22 19:12:25,329]\u001b[0m Trial 142 finished with value: 0.8031894627066684 and parameters: {'C': 0.11153781879625882, 'max_iter': 5820}. Best is trial 53 with value: 0.8031990293290452.\u001b[0m\n",
            "\u001b[32m[I 2023-01-22 19:12:37,005]\u001b[0m Trial 143 finished with value: 0.801050909168249 and parameters: {'C': 0.33385373052967443, 'max_iter': 5989}. Best is trial 53 with value: 0.8031990293290452.\u001b[0m\n",
            "\u001b[32m[I 2023-01-22 19:12:49,851]\u001b[0m Trial 144 finished with value: 0.7993591085214198 and parameters: {'C': 0.5200176169494569, 'max_iter': 5857}. Best is trial 53 with value: 0.8031990293290452.\u001b[0m\n",
            "\u001b[32m[I 2023-01-22 19:12:57,009]\u001b[0m Trial 145 finished with value: 0.8031992909981475 and parameters: {'C': 0.10634777191938698, 'max_iter': 5624}. Best is trial 145 with value: 0.8031992909981475.\u001b[0m\n",
            "\u001b[32m[I 2023-01-22 19:13:08,616]\u001b[0m Trial 146 finished with value: 0.8007961271968064 and parameters: {'C': 0.3588165332589094, 'max_iter': 5156}. Best is trial 145 with value: 0.8031992909981475.\u001b[0m\n",
            "\u001b[32m[I 2023-01-22 19:13:22,787]\u001b[0m Trial 147 finished with value: 0.799074051434851 and parameters: {'C': 0.5580381250306133, 'max_iter': 5580}. Best is trial 145 with value: 0.8031992909981475.\u001b[0m\n",
            "\u001b[32m[I 2023-01-22 19:13:34,049]\u001b[0m Trial 148 finished with value: 0.8012688376633359 and parameters: {'C': 0.31366708814711886, 'max_iter': 4562}. Best is trial 145 with value: 0.8031992909981475.\u001b[0m\n",
            "\u001b[32m[I 2023-01-22 19:13:48,231]\u001b[0m Trial 149 finished with value: 0.7982256626382743 and parameters: {'C': 0.6764284348072623, 'max_iter': 3379}. Best is trial 145 with value: 0.8031992909981475.\u001b[0m\n",
            "\u001b[32m[I 2023-01-22 19:14:04,956]\u001b[0m Trial 150 finished with value: 0.7968131414242369 and parameters: {'C': 0.9310458525499653, 'max_iter': 6104}. Best is trial 145 with value: 0.8031992909981475.\u001b[0m\n",
            "\u001b[32m[I 2023-01-22 19:14:14,677]\u001b[0m Trial 151 finished with value: 0.8031359199749736 and parameters: {'C': 0.1261184036698346, 'max_iter': 6497}. Best is trial 145 with value: 0.8031992909981475.\u001b[0m\n",
            "\u001b[32m[I 2023-01-22 19:14:28,688]\u001b[0m Trial 152 finished with value: 0.8005012836858149 and parameters: {'C': 0.3898936628594425, 'max_iter': 5805}. Best is trial 145 with value: 0.8031992909981475.\u001b[0m\n",
            "\u001b[32m[I 2023-01-22 19:14:36,522]\u001b[0m Trial 153 finished with value: 0.8031953083944118 and parameters: {'C': 0.10028016116426304, 'max_iter': 5623}. Best is trial 145 with value: 0.8031992909981475.\u001b[0m\n",
            "\u001b[32m[I 2023-01-22 19:14:46,658]\u001b[0m Trial 154 finished with value: 0.8016465256120879 and parameters: {'C': 0.27964953275388793, 'max_iter': 5495}. Best is trial 145 with value: 0.8031992909981475.\u001b[0m\n",
            "\u001b[32m[I 2023-01-22 19:15:02,457]\u001b[0m Trial 155 finished with value: 0.7992482288560481 and parameters: {'C': 0.5351878328442288, 'max_iter': 4974}. Best is trial 145 with value: 0.8031992909981475.\u001b[0m\n",
            "\u001b[32m[I 2023-01-22 19:15:10,615]\u001b[0m Trial 156 finished with value: 0.8031963917044951 and parameters: {'C': 0.10704849658534721, 'max_iter': 5224}. Best is trial 145 with value: 0.8031992909981475.\u001b[0m\n",
            "\u001b[32m[I 2023-01-22 19:15:31,814]\u001b[0m Trial 157 finished with value: 0.792394120726504 and parameters: {'C': 2.6857071448757712, 'max_iter': 5322}. Best is trial 145 with value: 0.8031992909981475.\u001b[0m\n",
            "\u001b[32m[I 2023-01-22 19:15:46,995]\u001b[0m Trial 158 finished with value: 0.797690078319865 and parameters: {'C': 0.7669682038351725, 'max_iter': 5690}. Best is trial 145 with value: 0.8031992909981475.\u001b[0m\n",
            "\u001b[32m[I 2023-01-22 19:15:58,803]\u001b[0m Trial 159 finished with value: 0.8010250196272761 and parameters: {'C': 0.33646714334323957, 'max_iter': 6230}. Best is trial 145 with value: 0.8031992909981475.\u001b[0m\n",
            "\u001b[32m[I 2023-01-22 19:16:12,157]\u001b[0m Trial 160 finished with value: 0.7994976361441312 and parameters: {'C': 0.5028214219136926, 'max_iter': 5505}. Best is trial 145 with value: 0.8031992909981475.\u001b[0m\n",
            "\u001b[32m[I 2023-01-22 19:16:21,991]\u001b[0m Trial 161 finished with value: 0.8031179642411798 and parameters: {'C': 0.12994098140430657, 'max_iter': 4730}. Best is trial 145 with value: 0.8031992909981475.\u001b[0m\n",
            "\u001b[32m[I 2023-01-22 19:16:32,640]\u001b[0m Trial 162 finished with value: 0.8012364534952461 and parameters: {'C': 0.3168830535264666, 'max_iter': 5147}. Best is trial 145 with value: 0.8031992909981475.\u001b[0m\n",
            "\u001b[32m[I 2023-01-22 19:16:40,691]\u001b[0m Trial 163 finished with value: 0.8031730769874877 and parameters: {'C': 0.11749657828934408, 'max_iter': 4322}. Best is trial 145 with value: 0.8031992909981475.\u001b[0m\n",
            "\u001b[32m[I 2023-01-22 19:16:55,298]\u001b[0m Trial 164 finished with value: 0.7986399947281002 and parameters: {'C': 0.6161683915861226, 'max_iter': 4835}. Best is trial 145 with value: 0.8031992909981475.\u001b[0m\n",
            "\u001b[32m[I 2023-01-22 19:17:03,459]\u001b[0m Trial 165 finished with value: 0.8031965330058102 and parameters: {'C': 0.10161761345769663, 'max_iter': 5997}. Best is trial 145 with value: 0.8031992909981475.\u001b[0m\n",
            "\u001b[32m[I 2023-01-22 19:17:24,567]\u001b[0m Trial 166 finished with value: 0.7919672023528616 and parameters: {'C': 3.0174799076823065, 'max_iter': 6015}. Best is trial 145 with value: 0.8031992909981475.\u001b[0m\n",
            "\u001b[32m[I 2023-01-22 19:17:38,081]\u001b[0m Trial 167 finished with value: 0.800350656483817 and parameters: {'C': 0.405365738988107, 'max_iter': 6362}. Best is trial 145 with value: 0.8031992909981475.\u001b[0m\n",
            "\u001b[32m[I 2023-01-22 19:18:00,909]\u001b[0m Trial 168 finished with value: 0.7914783730696356 and parameters: {'C': 3.471314677314311, 'max_iter': 5635}. Best is trial 145 with value: 0.8031992909981475.\u001b[0m\n",
            "\u001b[32m[I 2023-01-22 19:18:12,527]\u001b[0m Trial 169 finished with value: 0.8013739082746385 and parameters: {'C': 0.30393353469284823, 'max_iter': 6810}. Best is trial 145 with value: 0.8031992909981475.\u001b[0m\n",
            "\u001b[32m[I 2023-01-22 19:18:26,877]\u001b[0m Trial 170 finished with value: 0.798515932173359 and parameters: {'C': 0.6336996521185773, 'max_iter': 5253}. Best is trial 145 with value: 0.8031992909981475.\u001b[0m\n",
            "\u001b[32m[I 2023-01-22 19:18:35,483]\u001b[0m Trial 171 finished with value: 0.8031970668107786 and parameters: {'C': 0.10136387264195591, 'max_iter': 5026}. Best is trial 145 with value: 0.8031992909981475.\u001b[0m\n",
            "\u001b[32m[I 2023-01-22 19:18:45,480]\u001b[0m Trial 172 finished with value: 0.8015784497784563 and parameters: {'C': 0.2850343122403075, 'max_iter': 5014}. Best is trial 145 with value: 0.8031992909981475.\u001b[0m\n",
            "\u001b[32m[I 2023-01-22 19:18:59,008]\u001b[0m Trial 173 finished with value: 0.7998486129109293 and parameters: {'C': 0.4612401785534828, 'max_iter': 5431}. Best is trial 145 with value: 0.8031992909981475.\u001b[0m\n",
            "\u001b[32m[I 2023-01-22 19:19:07,965]\u001b[0m Trial 174 finished with value: 0.8031976529495676 and parameters: {'C': 0.10812023968109191, 'max_iter': 5927}. Best is trial 145 with value: 0.8031992909981475.\u001b[0m\n",
            "\u001b[32m[I 2023-01-22 19:19:14,923]\u001b[0m Trial 175 finished with value: 0.8031953711949964 and parameters: {'C': 0.10483416209065247, 'max_iter': 5918}. Best is trial 145 with value: 0.8031992909981475.\u001b[0m\n",
            "\u001b[32m[I 2023-01-22 19:19:23,145]\u001b[0m Trial 176 finished with value: 0.803197108677835 and parameters: {'C': 0.10822092953196452, 'max_iter': 5737}. Best is trial 145 with value: 0.8031992909981475.\u001b[0m\n",
            "\u001b[32m[I 2023-01-22 19:19:36,479]\u001b[0m Trial 177 finished with value: 0.7998145959276416 and parameters: {'C': 0.46534669705875426, 'max_iter': 5881}. Best is trial 145 with value: 0.8031992909981475.\u001b[0m\n",
            "\u001b[32m[I 2023-01-22 19:19:51,842]\u001b[0m Trial 178 finished with value: 0.7979142188394386 and parameters: {'C': 0.7284120003130684, 'max_iter': 6090}. Best is trial 145 with value: 0.8031992909981475.\u001b[0m\n",
            "\u001b[32m[I 2023-01-22 19:20:02,081]\u001b[0m Trial 179 finished with value: 0.8012196334053558 and parameters: {'C': 0.31879377378585444, 'max_iter': 5193}. Best is trial 145 with value: 0.8031992909981475.\u001b[0m\n",
            "\u001b[32m[I 2023-01-22 19:20:13,859]\u001b[0m Trial 180 finished with value: 0.8015109443834674 and parameters: {'C': 0.29139883699990177, 'max_iter': 5703}. Best is trial 145 with value: 0.8031992909981475.\u001b[0m\n",
            "\u001b[32m[I 2023-01-22 19:20:22,250]\u001b[0m Trial 181 finished with value: 0.8031785197048138 and parameters: {'C': 0.11612006387734407, 'max_iter': 5582}. Best is trial 145 with value: 0.8031992909981475.\u001b[0m\n",
            "\u001b[32m[I 2023-01-22 19:20:31,158]\u001b[0m Trial 182 finished with value: 0.8031984274901101 and parameters: {'C': 0.10405386781118312, 'max_iter': 5380}. Best is trial 145 with value: 0.8031992909981475.\u001b[0m\n",
            "\u001b[32m[I 2023-01-22 19:20:48,475]\u001b[0m Trial 183 finished with value: 0.7939647685790088 and parameters: {'C': 1.8139896597750091, 'max_iter': 5254}. Best is trial 145 with value: 0.8031992909981475.\u001b[0m\n",
            "\u001b[32m[I 2023-01-22 19:21:22,507]\u001b[0m Trial 184 finished with value: 0.7893480778080821 and parameters: {'C': 7.130731444823921, 'max_iter': 2782}. Best is trial 145 with value: 0.8031992909981475.\u001b[0m\n",
            "\u001b[32m[I 2023-01-22 19:21:35,306]\u001b[0m Trial 185 finished with value: 0.7996111115669968 and parameters: {'C': 0.48934137234949127, 'max_iter': 5416}. Best is trial 145 with value: 0.8031992909981475.\u001b[0m\n",
            "\u001b[32m[I 2023-01-22 19:21:46,699]\u001b[0m Trial 186 finished with value: 0.8014434180549503 and parameters: {'C': 0.29774251120267925, 'max_iter': 5879}. Best is trial 145 with value: 0.8031992909981475.\u001b[0m\n",
            "\u001b[32m[I 2023-01-22 19:21:59,040]\u001b[0m Trial 187 finished with value: 0.7992695444211143 and parameters: {'C': 0.5329023695367943, 'max_iter': 4935}. Best is trial 145 with value: 0.8031992909981475.\u001b[0m\n",
            "\u001b[32m[I 2023-01-22 19:22:22,293]\u001b[0m Trial 188 finished with value: 0.7935884046759138 and parameters: {'C': 1.9793818758327384, 'max_iter': 6289}. Best is trial 145 with value: 0.8031992909981475.\u001b[0m\n",
            "\u001b[32m[I 2023-01-22 19:22:33,450]\u001b[0m Trial 189 finished with value: 0.8017300974899527 and parameters: {'C': 0.27143213935754473, 'max_iter': 5746}. Best is trial 145 with value: 0.8031992909981475.\u001b[0m\n",
            "\u001b[32m[I 2023-01-22 19:22:40,936]\u001b[0m Trial 190 finished with value: 0.8031975273483986 and parameters: {'C': 0.10040324025712635, 'max_iter': 5370}. Best is trial 145 with value: 0.8031992909981475.\u001b[0m\n",
            "\u001b[32m[I 2023-01-22 19:22:49,348]\u001b[0m Trial 191 finished with value: 0.8031794355466715 and parameters: {'C': 0.11577170145626095, 'max_iter': 5324}. Best is trial 145 with value: 0.8031992909981475.\u001b[0m\n",
            "\u001b[32m[I 2023-01-22 19:22:56,161]\u001b[0m Trial 192 finished with value: 0.8031975168816345 and parameters: {'C': 0.10283401736509895, 'max_iter': 5125}. Best is trial 145 with value: 0.8031992909981475.\u001b[0m\n",
            "\u001b[32m[I 2023-01-22 19:23:07,045]\u001b[0m Trial 193 finished with value: 0.8005730333536416 and parameters: {'C': 0.38226095685053413, 'max_iter': 5060}. Best is trial 145 with value: 0.8031992909981475.\u001b[0m\n",
            "\u001b[32m[I 2023-01-22 19:23:18,814]\u001b[0m Trial 194 finished with value: 0.8014332862273128 and parameters: {'C': 0.29857609987390216, 'max_iter': 4720}. Best is trial 145 with value: 0.8031992909981475.\u001b[0m\n",
            "\u001b[32m[I 2023-01-22 19:23:39,873]\u001b[0m Trial 195 finished with value: 0.7909313956785159 and parameters: {'C': 4.111863672434298, 'max_iter': 5456}. Best is trial 145 with value: 0.8031992909981475.\u001b[0m\n",
            "\u001b[32m[I 2023-01-22 19:23:54,034]\u001b[0m Trial 196 finished with value: 0.7982549852778682 and parameters: {'C': 0.6718843792370233, 'max_iter': 5122}. Best is trial 145 with value: 0.8031992909981475.\u001b[0m\n",
            "\u001b[32m[I 2023-01-22 19:24:07,581]\u001b[0m Trial 197 finished with value: 0.7997208241881726 and parameters: {'C': 0.47636003732310916, 'max_iter': 4907}. Best is trial 145 with value: 0.8031992909981475.\u001b[0m\n",
            "\u001b[32m[I 2023-01-22 19:24:15,766]\u001b[0m Trial 198 finished with value: 0.8031955281964576 and parameters: {'C': 0.10579162331255293, 'max_iter': 5561}. Best is trial 145 with value: 0.8031992909981475.\u001b[0m\n",
            "\u001b[32m[I 2023-01-22 19:24:27,475]\u001b[0m Trial 199 finished with value: 0.8009005331685893 and parameters: {'C': 0.34864914831178173, 'max_iter': 5496}. Best is trial 145 with value: 0.8031992909981475.\u001b[0m\n",
            "\u001b[32m[I 2023-01-22 19:24:34,897]\u001b[0m Trial 200 finished with value: 0.803197344180027 and parameters: {'C': 0.10190988512393816, 'max_iter': 5671}. Best is trial 145 with value: 0.8031992909981475.\u001b[0m\n",
            "\u001b[32m[I 2023-01-22 19:24:43,044]\u001b[0m Trial 201 finished with value: 0.8031782057018911 and parameters: {'C': 0.11552083369722381, 'max_iter': 5674}. Best is trial 145 with value: 0.8031992909981475.\u001b[0m\n",
            "\u001b[32m[I 2023-01-22 19:24:53,082]\u001b[0m Trial 202 finished with value: 0.8015593531673768 and parameters: {'C': 0.286797663463635, 'max_iter': 5204}. Best is trial 145 with value: 0.8031992909981475.\u001b[0m\n",
            "\u001b[32m[I 2023-01-22 19:25:05,758]\u001b[0m Trial 203 finished with value: 0.7993293672112622 and parameters: {'C': 0.524813779725511, 'max_iter': 5372}. Best is trial 145 with value: 0.8031992909981475.\u001b[0m\n",
            "\u001b[32m[I 2023-01-22 19:25:14,126]\u001b[0m Trial 204 finished with value: 0.8031969778432839 and parameters: {'C': 0.10821300295353588, 'max_iter': 6121}. Best is trial 145 with value: 0.8031992909981475.\u001b[0m\n",
            "\u001b[32m[I 2023-01-22 19:25:25,916]\u001b[0m Trial 205 finished with value: 0.8013756405240953 and parameters: {'C': 0.30370322499929303, 'max_iter': 6047}. Best is trial 145 with value: 0.8031992909981475.\u001b[0m\n",
            "\u001b[32m[I 2023-01-22 19:25:32,884]\u001b[0m Trial 206 finished with value: 0.8031948373900278 and parameters: {'C': 0.1082617088083841, 'max_iter': 6186}. Best is trial 145 with value: 0.8031992909981475.\u001b[0m\n",
            "\u001b[32m[I 2023-01-22 19:25:49,824]\u001b[0m Trial 207 finished with value: 0.7971304937114007 and parameters: {'C': 0.8669857069890279, 'max_iter': 5798}. Best is trial 145 with value: 0.8031992909981475.\u001b[0m\n",
            "\u001b[32m[I 2023-01-22 19:26:03,050]\u001b[0m Trial 208 finished with value: 0.799709996320723 and parameters: {'C': 0.47751583532403663, 'max_iter': 4996}. Best is trial 145 with value: 0.8031992909981475.\u001b[0m\n",
            "\u001b[32m[I 2023-01-22 19:26:19,168]\u001b[0m Trial 209 finished with value: 0.7980901599103845 and parameters: {'C': 0.7003665581324771, 'max_iter': 6408}. Best is trial 145 with value: 0.8031992909981475.\u001b[0m\n",
            "\u001b[32m[I 2023-01-22 19:26:30,769]\u001b[0m Trial 210 finished with value: 0.8013416601744818 and parameters: {'C': 0.3068142695659247, 'max_iter': 5979}. Best is trial 145 with value: 0.8031992909981475.\u001b[0m\n",
            "\u001b[32m[I 2023-01-22 19:26:37,965]\u001b[0m Trial 211 finished with value: 0.8032011540821552 and parameters: {'C': 0.10834540601334458, 'max_iter': 5585}. Best is trial 211 with value: 0.8032011540821552.\u001b[0m\n",
            "\u001b[32m[I 2023-01-22 19:26:46,430]\u001b[0m Trial 212 finished with value: 0.8031967999082944 and parameters: {'C': 0.10768597378126377, 'max_iter': 5690}. Best is trial 211 with value: 0.8032011540821552.\u001b[0m\n",
            "\u001b[32m[I 2023-01-22 19:27:16,128]\u001b[0m Trial 213 finished with value: 0.7886768860941418 and parameters: {'C': 9.335968481539032, 'max_iter': 5731}. Best is trial 211 with value: 0.8032011540821552.\u001b[0m\n",
            "\u001b[32m[I 2023-01-22 19:27:27,306]\u001b[0m Trial 214 finished with value: 0.8012582034310219 and parameters: {'C': 0.3145373533364009, 'max_iter': 5237}. Best is trial 211 with value: 0.8032011540821552.\u001b[0m\n",
            "\u001b[32m[I 2023-01-22 19:27:34,872]\u001b[0m Trial 215 finished with value: 0.8031955124963115 and parameters: {'C': 0.10136679449288556, 'max_iter': 5555}. Best is trial 211 with value: 0.8032011540821552.\u001b[0m\n",
            "\u001b[32m[I 2023-01-22 19:27:48,715]\u001b[0m Trial 216 finished with value: 0.7999370047336568 and parameters: {'C': 0.45103612115040226, 'max_iter': 6175}. Best is trial 211 with value: 0.8032011540821552.\u001b[0m\n",
            "\u001b[32m[I 2023-01-22 19:27:58,828]\u001b[0m Trial 217 finished with value: 0.8016658524919774 and parameters: {'C': 0.27745554316322685, 'max_iter': 5377}. Best is trial 211 with value: 0.8032011540821552.\u001b[0m\n",
            "\u001b[32m[I 2023-01-22 19:28:16,027]\u001b[0m Trial 218 finished with value: 0.7943093239860385 and parameters: {'C': 1.656875446767069, 'max_iter': 5826}. Best is trial 211 with value: 0.8032011540821552.\u001b[0m\n",
            "\u001b[32m[I 2023-01-22 19:28:30,765]\u001b[0m Trial 219 finished with value: 0.7987425899496958 and parameters: {'C': 0.601363207452334, 'max_iter': 4778}. Best is trial 211 with value: 0.8032011540821552.\u001b[0m\n",
            "\u001b[32m[I 2023-01-22 19:28:51,590]\u001b[0m Trial 220 finished with value: 0.7928485719230811 and parameters: {'C': 2.3810188643700507, 'max_iter': 5126}. Best is trial 211 with value: 0.8032011540821552.\u001b[0m\n",
            "\u001b[32m[I 2023-01-22 19:29:02,587]\u001b[0m Trial 221 finished with value: 0.8017506594480046 and parameters: {'C': 0.26949803379808435, 'max_iter': 5649}. Best is trial 211 with value: 0.8032011540821552.\u001b[0m\n",
            "\u001b[32m[I 2023-01-22 19:29:09,434]\u001b[0m Trial 222 finished with value: 0.8031990397958093 and parameters: {'C': 0.10248256429919181, 'max_iter': 5441}. Best is trial 211 with value: 0.8032011540821552.\u001b[0m\n",
            "\u001b[32m[I 2023-01-22 19:29:17,617]\u001b[0m Trial 223 finished with value: 0.8031649757120832 and parameters: {'C': 0.11937483493805287, 'max_iter': 5400}. Best is trial 211 with value: 0.8032011540821552.\u001b[0m\n",
            "\u001b[32m[I 2023-01-22 19:29:27,496]\u001b[0m Trial 224 finished with value: 0.8014433029205454 and parameters: {'C': 0.29835723447759854, 'max_iter': 595}. Best is trial 211 with value: 0.8032011540821552.\u001b[0m\n",
            "\u001b[32m[I 2023-01-22 19:29:41,009]\u001b[0m Trial 225 finished with value: 0.8000395109877577 and parameters: {'C': 0.43908254482677744, 'max_iter': 5975}. Best is trial 211 with value: 0.8032011540821552.\u001b[0m\n",
            "\u001b[32m[I 2023-01-22 19:29:58,614]\u001b[0m Trial 226 finished with value: 0.7946481174394376 and parameters: {'C': 1.5290993502027954, 'max_iter': 5334}. Best is trial 211 with value: 0.8032011540821552.\u001b[0m\n",
            "\u001b[32m[I 2023-01-22 19:30:06,780]\u001b[0m Trial 227 finished with value: 0.8031606058380764 and parameters: {'C': 0.12024036393374077, 'max_iter': 5742}. Best is trial 211 with value: 0.8032011540821552.\u001b[0m\n",
            "\u001b[32m[I 2023-01-22 19:30:14,255]\u001b[0m Trial 228 finished with value: 0.8031989717618429 and parameters: {'C': 0.10079510411354137, 'max_iter': 9394}. Best is trial 211 with value: 0.8032011540821552.\u001b[0m\n",
            "\u001b[32m[I 2023-01-22 19:30:27,181]\u001b[0m Trial 229 finished with value: 0.799510159627363 and parameters: {'C': 0.5012063432701368, 'max_iter': 5887}. Best is trial 211 with value: 0.8032011540821552.\u001b[0m\n",
            "\u001b[32m[I 2023-01-22 19:30:37,255]\u001b[0m Trial 230 finished with value: 0.8015234050661149 and parameters: {'C': 0.29023376383369126, 'max_iter': 4491}. Best is trial 211 with value: 0.8032011540821552.\u001b[0m\n",
            "\u001b[32m[I 2023-01-22 19:30:44,179]\u001b[0m Trial 231 finished with value: 0.8031975273483984 and parameters: {'C': 0.10302646128676624, 'max_iter': 5512}. Best is trial 211 with value: 0.8032011540821552.\u001b[0m\n",
            "\u001b[32m[I 2023-01-22 19:30:52,435]\u001b[0m Trial 232 finished with value: 0.803183983355668 and parameters: {'C': 0.11360699151894517, 'max_iter': 5537}. Best is trial 211 with value: 0.8032011540821552.\u001b[0m\n",
            "\u001b[32m[I 2023-01-22 19:30:59,385]\u001b[0m Trial 233 finished with value: 0.8031968103750584 and parameters: {'C': 0.10379661479478443, 'max_iter': 8851}. Best is trial 211 with value: 0.8032011540821552.\u001b[0m\n",
            "\u001b[32m[I 2023-01-22 19:31:10,958]\u001b[0m Trial 234 finished with value: 0.801313551679522 and parameters: {'C': 0.30946205265611954, 'max_iter': 9322}. Best is trial 211 with value: 0.8032011540821552.\u001b[0m\n",
            "\u001b[32m[I 2023-01-22 19:31:22,572]\u001b[0m Trial 235 finished with value: 0.8013749601844294 and parameters: {'C': 0.3038008967013559, 'max_iter': 9838}. Best is trial 211 with value: 0.8032011540821552.\u001b[0m\n",
            "\u001b[32m[I 2023-01-22 19:31:31,601]\u001b[0m Trial 236 finished with value: 0.8031926027358949 and parameters: {'C': 0.11009390926143124, 'max_iter': 8769}. Best is trial 211 with value: 0.8032011540821552.\u001b[0m\n",
            "\u001b[32m[I 2023-01-22 19:31:53,874]\u001b[0m Trial 237 finished with value: 0.7925271951651254 and parameters: {'C': 2.5999539192386725, 'max_iter': 9290}. Best is trial 211 with value: 0.8032011540821552.\u001b[0m\n",
            "\u001b[32m[I 2023-01-22 19:32:07,491]\u001b[0m Trial 238 finished with value: 0.7999063789819338 and parameters: {'C': 0.45451701596510086, 'max_iter': 4962}. Best is trial 211 with value: 0.8032011540821552.\u001b[0m\n",
            "\u001b[32m[I 2023-01-22 19:32:21,798]\u001b[0m Trial 239 finished with value: 0.7986155077335151 and parameters: {'C': 0.6193979731258448, 'max_iter': 5525}. Best is trial 211 with value: 0.8032011540821552.\u001b[0m\n",
            "\u001b[32m[I 2023-01-22 19:32:31,717]\u001b[0m Trial 240 finished with value: 0.8016455679031739 and parameters: {'C': 0.2793613303935764, 'max_iter': 9513}. Best is trial 211 with value: 0.8032011540821552.\u001b[0m\n",
            "\u001b[32m[I 2023-01-22 19:32:39,902]\u001b[0m Trial 241 finished with value: 0.8031781638348348 and parameters: {'C': 0.11588223056100863, 'max_iter': 5711}. Best is trial 211 with value: 0.8032011540821552.\u001b[0m\n",
            "\u001b[32m[I 2023-01-22 19:32:46,727]\u001b[0m Trial 242 finished with value: 0.8031948112231175 and parameters: {'C': 0.10868377618417675, 'max_iter': 8379}. Best is trial 211 with value: 0.8032011540821552.\u001b[0m\n",
            "\u001b[32m[I 2023-01-22 19:33:00,590]\u001b[0m Trial 243 finished with value: 0.8005142624732846 and parameters: {'C': 0.3886398694380928, 'max_iter': 8930}. Best is trial 211 with value: 0.8032011540821552.\u001b[0m\n",
            "\u001b[32m[I 2023-01-22 19:33:08,349]\u001b[0m Trial 244 finished with value: 0.8031962818034721 and parameters: {'C': 0.10188767116801119, 'max_iter': 7966}. Best is trial 211 with value: 0.8032011540821552.\u001b[0m\n",
            "\u001b[32m[I 2023-01-22 19:33:32,126]\u001b[0m Trial 245 finished with value: 0.7934904828644838 and parameters: {'C': 2.0292179814892024, 'max_iter': 7937}. Best is trial 211 with value: 0.8032011540821552.\u001b[0m\n",
            "\u001b[32m[I 2023-01-22 19:33:43,647]\u001b[0m Trial 246 finished with value: 0.8013222390937156 and parameters: {'C': 0.308681800327241, 'max_iter': 7713}. Best is trial 211 with value: 0.8032011540821552.\u001b[0m\n",
            "\u001b[32m[I 2023-01-22 19:33:50,717]\u001b[0m Trial 247 finished with value: 0.8031979564857263 and parameters: {'C': 0.10850231139726814, 'max_iter': 8104}. Best is trial 211 with value: 0.8032011540821552.\u001b[0m\n",
            "\u001b[32m[I 2023-01-22 19:34:05,721]\u001b[0m Trial 248 finished with value: 0.7996373360444207 and parameters: {'C': 0.4870580693157397, 'max_iter': 9673}. Best is trial 211 with value: 0.8032011540821552.\u001b[0m\n",
            "\u001b[32m[I 2023-01-22 19:34:27,941]\u001b[0m Trial 249 finished with value: 0.7905135676894844 and parameters: {'C': 4.682602822439302, 'max_iter': 9149}. Best is trial 211 with value: 0.8032011540821552.\u001b[0m\n",
            "\u001b[32m[I 2023-01-22 19:34:40,466]\u001b[0m Trial 250 finished with value: 0.801480732068926 and parameters: {'C': 0.29408769643946936, 'max_iter': 9446}. Best is trial 211 with value: 0.8032011540821552.\u001b[0m\n",
            "\u001b[32m[I 2023-01-22 19:34:48,662]\u001b[0m Trial 251 finished with value: 0.8031970563440145 and parameters: {'C': 0.1026375755330542, 'max_iter': 5181}. Best is trial 211 with value: 0.8032011540821552.\u001b[0m\n",
            "\u001b[32m[I 2023-01-22 19:35:11,306]\u001b[0m Trial 252 finished with value: 0.7914836954191746 and parameters: {'C': 3.4666501988039444, 'max_iter': 8793}. Best is trial 211 with value: 0.8032011540821552.\u001b[0m\n",
            "\u001b[32m[I 2023-01-22 19:35:35,946]\u001b[0m Trial 253 finished with value: 0.7900333002192829 and parameters: {'C': 5.557655286288803, 'max_iter': 8561}. Best is trial 211 with value: 0.8032011540821552.\u001b[0m\n",
            "\u001b[32m[I 2023-01-22 19:35:47,337]\u001b[0m Trial 254 finished with value: 0.7997522244804383 and parameters: {'C': 0.47363508235137086, 'max_iter': 4587}. Best is trial 211 with value: 0.8032011540821552.\u001b[0m\n",
            "\u001b[32m[I 2023-01-22 19:35:58,630]\u001b[0m Trial 255 finished with value: 0.8015020790342844 and parameters: {'C': 0.29227923719636284, 'max_iter': 8163}. Best is trial 211 with value: 0.8032011540821552.\u001b[0m\n",
            "\u001b[32m[I 2023-01-22 19:36:05,615]\u001b[0m Trial 256 finished with value: 0.8031962713367079 and parameters: {'C': 0.1044763925712988, 'max_iter': 5120}. Best is trial 211 with value: 0.8032011540821552.\u001b[0m\n",
            "\u001b[32m[I 2023-01-22 19:36:19,561]\u001b[0m Trial 257 finished with value: 0.7984111703315973 and parameters: {'C': 0.6483977039563751, 'max_iter': 4817}. Best is trial 211 with value: 0.8032011540821552.\u001b[0m\n",
            "\u001b[32m[I 2023-01-22 19:36:30,363]\u001b[0m Trial 258 finished with value: 0.8004721442145923 and parameters: {'C': 0.3937930894717548, 'max_iter': 5273}. Best is trial 211 with value: 0.8032011540821552.\u001b[0m\n",
            "\u001b[32m[I 2023-01-22 19:36:52,113]\u001b[0m Trial 259 finished with value: 0.7928347924281587 and parameters: {'C': 2.3934885515358353, 'max_iter': 5004}. Best is trial 211 with value: 0.8032011540821552.\u001b[0m\n",
            "\u001b[32m[I 2023-01-22 19:37:01,748]\u001b[0m Trial 260 finished with value: 0.8015666851356209 and parameters: {'C': 0.2858710903065027, 'max_iter': 5375}. Best is trial 211 with value: 0.8032011540821552.\u001b[0m\n",
            "\u001b[32m[I 2023-01-22 19:37:17,667]\u001b[0m Trial 261 finished with value: 0.7992722971800695 and parameters: {'C': 0.5320633302354412, 'max_iter': 6032}. Best is trial 211 with value: 0.8032011540821552.\u001b[0m\n",
            "\u001b[32m[I 2023-01-22 19:37:28,715]\u001b[0m Trial 262 finished with value: 0.8017539669454566 and parameters: {'C': 0.2692273656205762, 'max_iter': 5173}. Best is trial 211 with value: 0.8032011540821552.\u001b[0m\n",
            "\u001b[32m[I 2023-01-22 19:37:35,583]\u001b[0m Trial 263 finished with value: 0.8031953973619066 and parameters: {'C': 0.10396762849228051, 'max_iter': 5842}. Best is trial 211 with value: 0.8032011540821552.\u001b[0m\n",
            "\u001b[32m[I 2023-01-22 19:37:53,029]\u001b[0m Trial 264 finished with value: 0.7974649853247593 and parameters: {'C': 0.8050099483440653, 'max_iter': 9946}. Best is trial 211 with value: 0.8032011540821552.\u001b[0m\n",
            "\u001b[32m[I 2023-01-22 19:38:14,424]\u001b[0m Trial 265 finished with value: 0.792012785110467 and parameters: {'C': 2.9862365470573726, 'max_iter': 5500}. Best is trial 211 with value: 0.8032011540821552.\u001b[0m\n",
            "\u001b[32m[I 2023-01-22 19:38:21,777]\u001b[0m Trial 266 finished with value: 0.8031970772775429 and parameters: {'C': 0.10212171078741009, 'max_iter': 4202}. Best is trial 211 with value: 0.8032011540821552.\u001b[0m\n",
            "\u001b[32m[I 2023-01-22 19:38:43,651]\u001b[0m Trial 267 finished with value: 0.7931053635132288 and parameters: {'C': 2.234162138013845, 'max_iter': 3938}. Best is trial 211 with value: 0.8032011540821552.\u001b[0m\n",
            "\u001b[32m[I 2023-01-22 19:39:01,735]\u001b[0m Trial 268 finished with value: 0.7949886902427318 and parameters: {'C': 1.4080843383088957, 'max_iter': 5658}. Best is trial 211 with value: 0.8032011540821552.\u001b[0m\n",
            "\u001b[32m[I 2023-01-22 19:39:15,400]\u001b[0m Trial 269 finished with value: 0.7999994389814448 and parameters: {'C': 0.443680564469709, 'max_iter': 4258}. Best is trial 211 with value: 0.8032011540821552.\u001b[0m\n",
            "\u001b[32m[I 2023-01-22 19:39:25,470]\u001b[0m Trial 270 finished with value: 0.8016739851676743 and parameters: {'C': 0.2767310496310546, 'max_iter': 4162}. Best is trial 211 with value: 0.8032011540821552.\u001b[0m\n",
            "\u001b[32m[I 2023-01-22 19:39:33,416]\u001b[0m Trial 271 finished with value: 0.8031960620014262 and parameters: {'C': 0.10480340599190978, 'max_iter': 3749}. Best is trial 211 with value: 0.8032011540821552.\u001b[0m\n",
            "\u001b[32m[I 2023-01-22 19:39:48,729]\u001b[0m Trial 272 finished with value: 0.7989058348358026 and parameters: {'C': 0.5795036996955317, 'max_iter': 6151}. Best is trial 211 with value: 0.8032011540821552.\u001b[0m\n",
            "\u001b[32m[I 2023-01-22 19:40:00,344]\u001b[0m Trial 273 finished with value: 0.8014978399948286 and parameters: {'C': 0.29250162278819586, 'max_iter': 9119}. Best is trial 211 with value: 0.8032011540821552.\u001b[0m\n",
            "\u001b[32m[I 2023-01-22 19:40:22,386]\u001b[0m Trial 274 finished with value: 0.7910640933136301 and parameters: {'C': 3.9156414162222415, 'max_iter': 8555}. Best is trial 211 with value: 0.8032011540821552.\u001b[0m\n",
            "\u001b[32m[I 2023-01-22 19:40:35,857]\u001b[0m Trial 275 finished with value: 0.7999963094189824 and parameters: {'C': 0.44393052041856274, 'max_iter': 5847}. Best is trial 211 with value: 0.8032011540821552.\u001b[0m\n",
            "\u001b[32m[I 2023-01-22 19:40:57,202]\u001b[0m Trial 276 finished with value: 0.7917051512137595 and parameters: {'C': 3.251076310622862, 'max_iter': 4483}. Best is trial 211 with value: 0.8032011540821552.\u001b[0m\n",
            "\u001b[32m[I 2023-01-22 19:41:05,073]\u001b[0m Trial 277 finished with value: 0.803194863556938 and parameters: {'C': 0.10172505853116066, 'max_iter': 5390}. Best is trial 211 with value: 0.8032011540821552.\u001b[0m\n",
            "\u001b[32m[I 2023-01-22 19:41:33,673]\u001b[0m Trial 278 finished with value: 0.7895333604659771 and parameters: {'C': 6.628206126170398, 'max_iter': 5650}. Best is trial 211 with value: 0.8032011540821552.\u001b[0m\n",
            "\u001b[32m[I 2023-01-22 19:41:54,035]\u001b[0m Trial 279 finished with value: 0.7925296967217426 and parameters: {'C': 2.6060158101973214, 'max_iter': 6035}. Best is trial 211 with value: 0.8032011540821552.\u001b[0m\n",
            "\u001b[32m[I 2023-01-22 19:42:08,162]\u001b[0m Trial 280 finished with value: 0.7981225336117101 and parameters: {'C': 0.6931965835808694, 'max_iter': 4702}. Best is trial 211 with value: 0.8032011540821552.\u001b[0m\n",
            "\u001b[32m[I 2023-01-22 19:42:19,702]\u001b[0m Trial 281 finished with value: 0.8015632363368536 and parameters: {'C': 0.2863145116712931, 'max_iter': 5292}. Best is trial 211 with value: 0.8032011540821552.\u001b[0m\n",
            "\u001b[32m[I 2023-01-22 19:42:35,581]\u001b[0m Trial 282 finished with value: 0.7966810979618781 and parameters: {'C': 0.9577065985147478, 'max_iter': 5500}. Best is trial 211 with value: 0.8032011540821552.\u001b[0m\n",
            "\u001b[32m[I 2023-01-22 19:42:48,751]\u001b[0m Trial 283 finished with value: 0.7998682119266851 and parameters: {'C': 0.45884230481087646, 'max_iter': 5124}. Best is trial 211 with value: 0.8032011540821552.\u001b[0m\n",
            "\u001b[32m[I 2023-01-22 19:42:59,930]\u001b[0m Trial 284 finished with value: 0.8017029833375814 and parameters: {'C': 0.273842389099226, 'max_iter': 6305}. Best is trial 211 with value: 0.8032011540821552.\u001b[0m\n",
            "\u001b[32m[I 2023-01-22 19:43:07,191]\u001b[0m Trial 285 finished with value: 0.8031986106584816 and parameters: {'C': 0.10089079493266602, 'max_iter': 5791}. Best is trial 211 with value: 0.8032011540821552.\u001b[0m\n",
            "\u001b[32m[I 2023-01-22 19:43:28,164]\u001b[0m Trial 286 finished with value: 0.7921694935024004 and parameters: {'C': 2.852508635975939, 'max_iter': 5850}. Best is trial 211 with value: 0.8032011540821552.\u001b[0m\n",
            "\u001b[32m[I 2023-01-22 19:43:35,469]\u001b[0m Trial 287 finished with value: 0.8031987781267071 and parameters: {'C': 0.1010171431757238, 'max_iter': 5722}. Best is trial 211 with value: 0.8032011540821552.\u001b[0m\n",
            "\u001b[32m[I 2023-01-22 19:43:49,292]\u001b[0m Trial 288 finished with value: 0.7983084285753043 and parameters: {'C': 0.663418240435558, 'max_iter': 5733}. Best is trial 211 with value: 0.8032011540821552.\u001b[0m\n",
            "\u001b[32m[I 2023-01-22 19:44:12,389]\u001b[0m Trial 289 finished with value: 0.7936360441526628 and parameters: {'C': 1.9564629315100968, 'max_iter': 4353}. Best is trial 211 with value: 0.8032011540821552.\u001b[0m\n",
            "\u001b[32m[I 2023-01-22 19:44:25,801]\u001b[0m Trial 290 finished with value: 0.7998854506871389 and parameters: {'C': 0.4569088603319209, 'max_iter': 9628}. Best is trial 211 with value: 0.8032011540821552.\u001b[0m\n",
            "\u001b[32m[I 2023-01-22 19:44:33,832]\u001b[0m Trial 291 finished with value: 0.8031958840664366 and parameters: {'C': 0.10044849327041765, 'max_iter': 8248}. Best is trial 211 with value: 0.8032011540821552.\u001b[0m\n",
            "\u001b[32m[I 2023-01-22 19:44:51,894]\u001b[0m Trial 292 finished with value: 0.795717464859305 and parameters: {'C': 1.1923393675594465, 'max_iter': 5609}. Best is trial 211 with value: 0.8032011540821552.\u001b[0m\n",
            "\u001b[32m[I 2023-01-22 19:45:08,897]\u001b[0m Trial 293 finished with value: 0.7944469671671845 and parameters: {'C': 1.6005240328672938, 'max_iter': 9088}. Best is trial 211 with value: 0.8032011540821552.\u001b[0m\n",
            "\u001b[32m[I 2023-01-22 19:45:20,600]\u001b[0m Trial 294 finished with value: 0.8010815296865899 and parameters: {'C': 0.33104944108846596, 'max_iter': 5451}. Best is trial 211 with value: 0.8032011540821552.\u001b[0m\n",
            "\u001b[32m[I 2023-01-22 19:45:32,204]\u001b[0m Trial 295 finished with value: 0.8015878018321694 and parameters: {'C': 0.28416784604861384, 'max_iter': 5788}. Best is trial 211 with value: 0.8032011540821552.\u001b[0m\n",
            "\u001b[32m[I 2023-01-22 19:45:47,059]\u001b[0m Trial 296 finished with value: 0.7989020511005844 and parameters: {'C': 0.5797226287604357, 'max_iter': 6175}. Best is trial 211 with value: 0.8032011540821552.\u001b[0m\n",
            "\u001b[32m[I 2023-01-22 19:45:56,964]\u001b[0m Trial 297 finished with value: 0.8018618583496809 and parameters: {'C': 0.260036513337576, 'max_iter': 5994}. Best is trial 211 with value: 0.8032011540821552.\u001b[0m\n",
            "\u001b[32m[I 2023-01-22 19:46:26,002]\u001b[0m Trial 298 finished with value: 0.7904998405283823 and parameters: {'C': 4.7438886901660196, 'max_iter': 4039}. Best is trial 211 with value: 0.8032011540821552.\u001b[0m\n",
            "\u001b[32m[I 2023-01-22 19:46:41,103]\u001b[0m Trial 299 finished with value: 0.7977248855438414 and parameters: {'C': 0.7608796356025881, 'max_iter': 5566}. Best is trial 211 with value: 0.8032011540821552.\u001b[0m\n",
            "\u001b[32m[I 2023-01-22 19:47:09,526]\u001b[0m Trial 300 finished with value: 0.7909452484407872 and parameters: {'C': 4.103115651838956, 'max_iter': 5385}. Best is trial 211 with value: 0.8032011540821552.\u001b[0m\n",
            "\u001b[32m[I 2023-01-22 19:47:23,104]\u001b[0m Trial 301 finished with value: 0.8000662431032399 and parameters: {'C': 0.4362350826974088, 'max_iter': 7528}. Best is trial 211 with value: 0.8032011540821552.\u001b[0m\n",
            "\u001b[32m[I 2023-01-22 19:47:34,203]\u001b[0m Trial 302 finished with value: 0.8017444631236642 and parameters: {'C': 0.27007430544751965, 'max_iter': 4987}. Best is trial 211 with value: 0.8032011540821552.\u001b[0m\n",
            "\u001b[32m[I 2023-01-22 19:48:02,323]\u001b[0m Trial 303 finished with value: 0.7899351743059531 and parameters: {'C': 5.791333849501399, 'max_iter': 5693}. Best is trial 211 with value: 0.8032011540821552.\u001b[0m\n",
            "\u001b[32m[I 2023-01-22 19:48:09,617]\u001b[0m Trial 304 finished with value: 0.8031978256511751 and parameters: {'C': 0.10659148714178686, 'max_iter': 5822}. Best is trial 211 with value: 0.8032011540821552.\u001b[0m\n",
            "\u001b[32m[I 2023-01-22 19:48:36,904]\u001b[0m Trial 305 finished with value: 0.7907052507736194 and parameters: {'C': 4.428210732194043, 'max_iter': 5905}. Best is trial 211 with value: 0.8032011540821552.\u001b[0m\n",
            "\u001b[32m[I 2023-01-22 19:48:51,510]\u001b[0m Trial 306 finished with value: 0.7994059629908619 and parameters: {'C': 0.5152172435193234, 'max_iter': 4717}. Best is trial 211 with value: 0.8032011540821552.\u001b[0m\n",
            "\u001b[32m[I 2023-01-22 19:48:58,871]\u001b[0m Trial 307 finished with value: 0.8031965696394845 and parameters: {'C': 0.10223780362561824, 'max_iter': 6588}. Best is trial 211 with value: 0.8032011540821552.\u001b[0m\n",
            "\u001b[32m[I 2023-01-22 19:49:16,935]\u001b[0m Trial 308 finished with value: 0.7950066145762333 and parameters: {'C': 1.402215315520858, 'max_iter': 5216}. Best is trial 211 with value: 0.8032011540821552.\u001b[0m\n",
            "\u001b[32m[I 2023-01-22 19:49:28,515]\u001b[0m Trial 309 finished with value: 0.8013824020536963 and parameters: {'C': 0.3030674680181472, 'max_iter': 6130}. Best is trial 211 with value: 0.8032011540821552.\u001b[0m\n",
            "\u001b[32m[I 2023-01-22 19:49:44,672]\u001b[0m Trial 310 finished with value: 0.7969676517957116 and parameters: {'C': 0.8990945224767748, 'max_iter': 4885}. Best is trial 211 with value: 0.8032011540821552.\u001b[0m\n",
            "\u001b[32m[I 2023-01-22 19:49:58,165]\u001b[0m Trial 311 finished with value: 0.7999042908624983 and parameters: {'C': 0.45474035300232146, 'max_iter': 5463}. Best is trial 211 with value: 0.8032011540821552.\u001b[0m\n",
            "\u001b[32m[I 2023-01-22 19:50:25,078]\u001b[0m Trial 312 finished with value: 0.7902328909436869 and parameters: {'C': 5.161102521988845, 'max_iter': 6469}. Best is trial 211 with value: 0.8032011540821552.\u001b[0m\n",
            "\u001b[32m[I 2023-01-22 19:50:33,234]\u001b[0m Trial 313 finished with value: 0.8031957218315933 and parameters: {'C': 0.10871805298598222, 'max_iter': 5839}. Best is trial 211 with value: 0.8032011540821552.\u001b[0m\n",
            "\u001b[32m[I 2023-01-22 19:50:55,315]\u001b[0m Trial 314 finished with value: 0.7913602504035147 and parameters: {'C': 3.59618606781912, 'max_iter': 5650}. Best is trial 211 with value: 0.8032011540821552.\u001b[0m\n",
            "\u001b[32m[I 2023-01-22 19:51:09,654]\u001b[0m Trial 315 finished with value: 0.7986809721095068 and parameters: {'C': 0.6099537825125041, 'max_iter': 7269}. Best is trial 211 with value: 0.8032011540821552.\u001b[0m\n",
            "\u001b[32m[I 2023-01-22 19:51:21,410]\u001b[0m Trial 316 finished with value: 0.8009822838295027 and parameters: {'C': 0.34057983388938745, 'max_iter': 5343}. Best is trial 211 with value: 0.8032011540821552.\u001b[0m\n",
            "\u001b[32m[I 2023-01-22 19:51:29,051]\u001b[0m Trial 317 finished with value: 0.803195805565706 and parameters: {'C': 0.10179788980065181, 'max_iter': 4548}. Best is trial 211 with value: 0.8032011540821552.\u001b[0m\n",
            "\u001b[32m[I 2023-01-22 19:51:51,052]\u001b[0m Trial 318 finished with value: 0.7930462943300953 and parameters: {'C': 2.267951676922526, 'max_iter': 5964}. Best is trial 211 with value: 0.8032011540821552.\u001b[0m\n",
            "\u001b[32m[I 2023-01-22 19:52:02,324]\u001b[0m Trial 319 finished with value: 0.8015121428279555 and parameters: {'C': 0.29130971736368544, 'max_iter': 5182}. Best is trial 211 with value: 0.8032011540821552.\u001b[0m\n",
            "\u001b[32m[I 2023-01-22 19:52:25,212]\u001b[0m Trial 320 finished with value: 0.7939160614923227 and parameters: {'C': 1.8246500088376623, 'max_iter': 6256}. Best is trial 211 with value: 0.8032011540821552.\u001b[0m\n",
            "\u001b[32m[I 2023-01-22 19:52:38,588]\u001b[0m Trial 321 finished with value: 0.7998693266370605 and parameters: {'C': 0.45866256403881883, 'max_iter': 5525}. Best is trial 211 with value: 0.8032011540821552.\u001b[0m\n",
            "\u001b[32m[I 2023-01-22 19:53:10,142]\u001b[0m Trial 322 finished with value: 0.78960891480255 and parameters: {'C': 6.456097258170247, 'max_iter': 5776}. Best is trial 211 with value: 0.8032011540821552.\u001b[0m\n",
            "\u001b[32m[I 2023-01-22 19:53:39,668]\u001b[0m Trial 323 finished with value: 0.7891029723600393 and parameters: {'C': 7.854448182298446, 'max_iter': 5035}. Best is trial 211 with value: 0.8032011540821552.\u001b[0m\n",
            "\u001b[32m[I 2023-01-22 19:53:57,041]\u001b[0m Trial 324 finished with value: 0.7975849187410676 and parameters: {'C': 0.7835009061905829, 'max_iter': 8579}. Best is trial 211 with value: 0.8032011540821552.\u001b[0m\n",
            "\u001b[32m[I 2023-01-22 19:54:12,692]\u001b[0m Trial 325 finished with value: 0.7963128929013903 and parameters: {'C': 1.045144677241356, 'max_iter': 8887}. Best is trial 211 with value: 0.8032011540821552.\u001b[0m\n",
            "\u001b[32m[I 2023-01-22 19:54:35,591]\u001b[0m Trial 326 finished with value: 0.7939895434096063 and parameters: {'C': 1.7929661768385996, 'max_iter': 5347}. Best is trial 211 with value: 0.8032011540821552.\u001b[0m\n",
            "\u001b[32m[I 2023-01-22 19:54:59,312]\u001b[0m Trial 327 finished with value: 0.7919118698045076 and parameters: {'C': 3.094403209604881, 'max_iter': 6014}. Best is trial 211 with value: 0.8032011540821552.\u001b[0m\n",
            "\u001b[32m[I 2023-01-22 19:55:11,121]\u001b[0m Trial 328 finished with value: 0.8016635969043163 and parameters: {'C': 0.27722768091823535, 'max_iter': 4193}. Best is trial 211 with value: 0.8032011540821552.\u001b[0m\n",
            "\u001b[32m[I 2023-01-22 19:55:19,456]\u001b[0m Trial 329 finished with value: 0.8031981344207156 and parameters: {'C': 0.10510162524057012, 'max_iter': 5575}. Best is trial 211 with value: 0.8032011540821552.\u001b[0m\n",
            "\u001b[32m[I 2023-01-22 19:55:34,727]\u001b[0m Trial 330 finished with value: 0.7989501720484813 and parameters: {'C': 0.5734360294662408, 'max_iter': 5588}. Best is trial 211 with value: 0.8032011540821552.\u001b[0m\n",
            "\u001b[32m[I 2023-01-22 19:55:45,882]\u001b[0m Trial 331 finished with value: 0.8016666113323738 and parameters: {'C': 0.2770497016438817, 'max_iter': 5480}. Best is trial 211 with value: 0.8032011540821552.\u001b[0m\n",
            "\u001b[32m[I 2023-01-22 19:55:59,273]\u001b[0m Trial 332 finished with value: 0.7998876539409796 and parameters: {'C': 0.4565889175092287, 'max_iter': 5776}. Best is trial 211 with value: 0.8032011540821552.\u001b[0m\n",
            "\u001b[32m[I 2023-01-22 19:56:08,851]\u001b[0m Trial 333 finished with value: 0.8017540873132436 and parameters: {'C': 0.2700869255030526, 'max_iter': 4900}. Best is trial 211 with value: 0.8032011540821552.\u001b[0m\n",
            "\u001b[32m[I 2023-01-22 19:56:31,979]\u001b[0m Trial 334 finished with value: 0.7928050772849113 and parameters: {'C': 2.4271117367242723, 'max_iter': 5220}. Best is trial 211 with value: 0.8032011540821552.\u001b[0m\n",
            "\u001b[32m[I 2023-01-22 19:56:55,298]\u001b[0m Trial 335 finished with value: 0.7911933735502695 and parameters: {'C': 3.7880878113423093, 'max_iter': 5956}. Best is trial 211 with value: 0.8032011540821552.\u001b[0m\n",
            "\u001b[32m[I 2023-01-22 19:57:09,525]\u001b[0m Trial 336 finished with value: 0.7984513784058431 and parameters: {'C': 0.6432201315251127, 'max_iter': 5643}. Best is trial 211 with value: 0.8032011540821552.\u001b[0m\n",
            "\u001b[32m[I 2023-01-22 19:57:18,532]\u001b[0m Trial 337 finished with value: 0.8031834024502611 and parameters: {'C': 0.11390640732763027, 'max_iter': 6219}. Best is trial 211 with value: 0.8032011540821552.\u001b[0m\n",
            "\u001b[32m[I 2023-01-22 19:57:26,822]\u001b[0m Trial 338 finished with value: 0.8031984484236383 and parameters: {'C': 0.10366281709007666, 'max_iter': 5321}. Best is trial 211 with value: 0.8032011540821552.\u001b[0m\n",
            "\u001b[32m[I 2023-01-22 19:57:40,477]\u001b[0m Trial 339 finished with value: 0.8003469617160938 and parameters: {'C': 0.4057292217666743, 'max_iter': 5076}. Best is trial 211 with value: 0.8032011540821552.\u001b[0m\n",
            "\u001b[32m[I 2023-01-22 19:57:52,145]\u001b[0m Trial 340 finished with value: 0.8014599712423562 and parameters: {'C': 0.29609661173661816, 'max_iter': 5405}. Best is trial 211 with value: 0.8032011540821552.\u001b[0m\n",
            "\u001b[32m[I 2023-01-22 19:58:05,916]\u001b[0m Trial 341 finished with value: 0.798229404506436 and parameters: {'C': 0.67529652411835, 'max_iter': 4750}. Best is trial 211 with value: 0.8032011540821552.\u001b[0m\n",
            "\u001b[32m[I 2023-01-22 19:58:13,469]\u001b[0m Trial 342 finished with value: 0.8031962399364156 and parameters: {'C': 0.10035918696683571, 'max_iter': 5349}. Best is trial 211 with value: 0.8032011540821552.\u001b[0m\n",
            "\u001b[32m[I 2023-01-22 19:58:32,649]\u001b[0m Trial 343 finished with value: 0.7958313851196444 and parameters: {'C': 1.163719382177386, 'max_iter': 5124}. Best is trial 211 with value: 0.8032011540821552.\u001b[0m\n",
            "\u001b[32m[I 2023-01-22 19:58:47,328]\u001b[0m Trial 344 finished with value: 0.7997371104730944 and parameters: {'C': 0.47516119524186373, 'max_iter': 5561}. Best is trial 211 with value: 0.8032011540821552.\u001b[0m\n",
            "\u001b[32m[I 2023-01-22 19:59:15,798]\u001b[0m Trial 345 finished with value: 0.7907107039577095 and parameters: {'C': 4.420872214591563, 'max_iter': 5278}. Best is trial 211 with value: 0.8032011540821552.\u001b[0m\n",
            "\u001b[32m[I 2023-01-22 19:59:27,590]\u001b[0m Trial 346 finished with value: 0.8015512361918262 and parameters: {'C': 0.2875981634532592, 'max_iter': 4864}. Best is trial 211 with value: 0.8032011540821552.\u001b[0m\n",
            "\u001b[32m[I 2023-01-22 19:59:49,457]\u001b[0m Trial 347 finished with value: 0.7916468042373481 and parameters: {'C': 3.3091205410431437, 'max_iter': 5714}. Best is trial 211 with value: 0.8032011540821552.\u001b[0m\n",
            "\u001b[32m[I 2023-01-22 19:59:56,875]\u001b[0m Trial 348 finished with value: 0.8031957898655598 and parameters: {'C': 0.1089137888527117, 'max_iter': 4456}. Best is trial 211 with value: 0.8032011540821552.\u001b[0m\n",
            "\u001b[32m[I 2023-01-22 20:00:14,591]\u001b[0m Trial 349 finished with value: 0.7975220030221316 and parameters: {'C': 0.7943678397690475, 'max_iter': 5519}. Best is trial 211 with value: 0.8032011540821552.\u001b[0m\n",
            "\u001b[32m[I 2023-01-22 20:00:28,264]\u001b[0m Trial 350 finished with value: 0.8003401897197286 and parameters: {'C': 0.4064230704016335, 'max_iter': 5088}. Best is trial 211 with value: 0.8032011540821552.\u001b[0m\n",
            "\u001b[32m[I 2023-01-22 20:00:39,777]\u001b[0m Trial 351 finished with value: 0.8013924239803112 and parameters: {'C': 0.30219717866563356, 'max_iter': 5265}. Best is trial 211 with value: 0.8032011540821552.\u001b[0m\n",
            "\u001b[32m[I 2023-01-22 20:00:55,027]\u001b[0m Trial 352 finished with value: 0.7987763033968249 and parameters: {'C': 0.5972713639137188, 'max_iter': 5803}. Best is trial 211 with value: 0.8032011540821552.\u001b[0m\n",
            "\u001b[32m[I 2023-01-22 20:01:02,232]\u001b[0m Trial 353 finished with value: 0.8031980088195465 and parameters: {'C': 0.10100443296577553, 'max_iter': 5464}. Best is trial 211 with value: 0.8032011540821552.\u001b[0m\n",
            "\u001b[32m[I 2023-01-22 20:01:28,409]\u001b[0m Trial 354 finished with value: 0.7901761663157091 and parameters: {'C': 5.254517349876628, 'max_iter': 5513}. Best is trial 211 with value: 0.8032011540821552.\u001b[0m\n",
            "\u001b[32m[I 2023-01-22 20:01:50,452]\u001b[0m Trial 355 finished with value: 0.7914295508485447 and parameters: {'C': 3.5229895570557725, 'max_iter': 5704}. Best is trial 211 with value: 0.8032011540821552.\u001b[0m\n",
            "\u001b[32m[I 2023-01-22 20:02:04,141]\u001b[0m Trial 356 finished with value: 0.8000955762095978 and parameters: {'C': 0.4328671773577631, 'max_iter': 5913}. Best is trial 211 with value: 0.8032011540821552.\u001b[0m\n",
            "\u001b[32m[I 2023-01-22 20:02:11,138]\u001b[0m Trial 357 finished with value: 0.8031996154678342 and parameters: {'C': 0.10477828774304199, 'max_iter': 5503}. Best is trial 211 with value: 0.8032011540821552.\u001b[0m\n",
            "\u001b[32m[I 2023-01-22 20:02:34,519]\u001b[0m Trial 358 finished with value: 0.7934616416960378 and parameters: {'C': 2.043215003111372, 'max_iter': 5409}. Best is trial 211 with value: 0.8032011540821552.\u001b[0m\n",
            "\u001b[32m[I 2023-01-22 20:02:45,929]\u001b[0m Trial 359 finished with value: 0.8016294124528033 and parameters: {'C': 0.28034239096638114, 'max_iter': 5390}. Best is trial 211 with value: 0.8032011540821552.\u001b[0m\n",
            "\u001b[32m[I 2023-01-22 20:03:05,731]\u001b[0m Trial 360 finished with value: 0.7925012428235678 and parameters: {'C': 2.616420648408506, 'max_iter': 4934}. Best is trial 211 with value: 0.8032011540821552.\u001b[0m\n",
            "\u001b[32m[I 2023-01-22 20:03:27,231]\u001b[0m Trial 361 finished with value: 0.7922774163069171 and parameters: {'C': 2.7703033308949387, 'max_iter': 5594}. Best is trial 211 with value: 0.8032011540821552.\u001b[0m\n",
            "\u001b[32m[I 2023-01-22 20:03:48,160]\u001b[0m Trial 362 finished with value: 0.7918174700591933 and parameters: {'C': 3.1492500525475924, 'max_iter': 3577}. Best is trial 211 with value: 0.8032011540821552.\u001b[0m\n",
            "\u001b[32m[I 2023-01-22 20:04:00,728]\u001b[0m Trial 363 finished with value: 0.7993997300328473 and parameters: {'C': 0.5151506253005794, 'max_iter': 5328}. Best is trial 211 with value: 0.8032011540821552.\u001b[0m\n",
            "\u001b[32m[I 2023-01-22 20:04:12,231]\u001b[0m Trial 364 finished with value: 0.8016941389219266 and parameters: {'C': 0.27457769999162235, 'max_iter': 5643}. Best is trial 211 with value: 0.8032011540821552.\u001b[0m\n",
            "\u001b[32m[I 2023-01-22 20:04:20,306]\u001b[0m Trial 365 finished with value: 0.8031968574754969 and parameters: {'C': 0.1040645422760658, 'max_iter': 4610}. Best is trial 211 with value: 0.8032011540821552.\u001b[0m\n",
            "\u001b[32m[I 2023-01-22 20:04:36,911]\u001b[0m Trial 366 finished with value: 0.7943867780402936 and parameters: {'C': 1.6270631689014798, 'max_iter': 5132}. Best is trial 211 with value: 0.8032011540821552.\u001b[0m\n",
            "\u001b[32m[I 2023-01-22 20:04:54,102]\u001b[0m Trial 367 finished with value: 0.7975479187300147 and parameters: {'C': 0.7897722495210209, 'max_iter': 4341}. Best is trial 211 with value: 0.8032011540821552.\u001b[0m\n",
            "\u001b[32m[I 2023-01-22 20:05:02,319]\u001b[0m Trial 368 finished with value: 0.8031981867545361 and parameters: {'C': 0.10376030788539907, 'max_iter': 5490}. Best is trial 211 with value: 0.8032011540821552.\u001b[0m\n",
            "\u001b[32m[I 2023-01-22 20:05:20,948]\u001b[0m Trial 369 finished with value: 0.7965451817968068 and parameters: {'C': 0.9888018147577213, 'max_iter': 5822}. Best is trial 211 with value: 0.8032011540821552.\u001b[0m\n",
            "\u001b[32m[I 2023-01-22 20:05:31,710]\u001b[0m Trial 370 finished with value: 0.8006015081853445 and parameters: {'C': 0.3798564130648394, 'max_iter': 5484}. Best is trial 211 with value: 0.8032011540821552.\u001b[0m\n",
            "\u001b[32m[I 2023-01-22 20:05:54,149]\u001b[0m Trial 371 finished with value: 0.7912608998787865 and parameters: {'C': 3.7058389306590054, 'max_iter': 5668}. Best is trial 211 with value: 0.8032011540821552.\u001b[0m\n",
            "\u001b[32m[I 2023-01-22 20:06:08,617]\u001b[0m Trial 372 finished with value: 0.7991129040631476 and parameters: {'C': 0.5528970927966582, 'max_iter': 5523}. Best is trial 211 with value: 0.8032011540821552.\u001b[0m\n",
            "\u001b[32m[I 2023-01-22 20:06:17,582]\u001b[0m Trial 373 finished with value: 0.8031962661033258 and parameters: {'C': 0.10568091518045962, 'max_iter': 5302}. Best is trial 211 with value: 0.8032011540821552.\u001b[0m\n",
            "\u001b[32m[I 2023-01-22 20:06:27,125]\u001b[0m Trial 374 finished with value: 0.8015988076346084 and parameters: {'C': 0.2844237699822523, 'max_iter': 5797}. Best is trial 211 with value: 0.8032011540821552.\u001b[0m\n",
            "\u001b[32m[I 2023-01-22 20:06:40,588]\u001b[0m Trial 375 finished with value: 0.8001572568503715 and parameters: {'C': 0.4261213923877825, 'max_iter': 5503}. Best is trial 211 with value: 0.8032011540821552.\u001b[0m\n",
            "\u001b[32m[I 2023-01-22 20:06:58,419]\u001b[0m Trial 376 finished with value: 0.7955333230786956 and parameters: {'C': 1.2417555747763895, 'max_iter': 5828}. Best is trial 211 with value: 0.8032011540821552.\u001b[0m\n",
            "\u001b[32m[I 2023-01-22 20:07:16,238]\u001b[0m Trial 377 finished with value: 0.7947970019252149 and parameters: {'C': 1.4688301518595952, 'max_iter': 5662}. Best is trial 211 with value: 0.8032011540821552.\u001b[0m\n",
            "\u001b[32m[I 2023-01-22 20:07:23,091]\u001b[0m Trial 378 finished with value: 0.8031946699218024 and parameters: {'C': 0.1032584104425862, 'max_iter': 7006}. Best is trial 211 with value: 0.8032011540821552.\u001b[0m\n",
            "\u001b[32m[I 2023-01-22 20:07:37,031]\u001b[0m Trial 379 finished with value: 0.7983472131696342 and parameters: {'C': 0.6581039869185091, 'max_iter': 3991}. Best is trial 211 with value: 0.8032011540821552.\u001b[0m\n",
            "\u001b[32m[I 2023-01-22 20:08:02,559]\u001b[0m Trial 380 finished with value: 0.7901275952969563 and parameters: {'C': 5.342610897656912, 'max_iter': 5288}. Best is trial 211 with value: 0.8032011540821552.\u001b[0m\n",
            "\u001b[32m[I 2023-01-22 20:08:13,715]\u001b[0m Trial 381 finished with value: 0.801733787024294 and parameters: {'C': 0.27102960578508284, 'max_iter': 7772}. Best is trial 211 with value: 0.8032011540821552.\u001b[0m\n",
            "\u001b[32m[I 2023-01-22 20:08:27,261]\u001b[0m Trial 382 finished with value: 0.7999976491647857 and parameters: {'C': 0.4438170947182827, 'max_iter': 5983}. Best is trial 211 with value: 0.8032011540821552.\u001b[0m\n",
            "\u001b[32m[I 2023-01-22 20:08:38,524]\u001b[0m Trial 383 finished with value: 0.8016269684633885 and parameters: {'C': 0.2806746965287472, 'max_iter': 5423}. Best is trial 211 with value: 0.8032011540821552.\u001b[0m\n",
            "\u001b[32m[I 2023-01-22 20:08:59,742]\u001b[0m Trial 384 finished with value: 0.7908604205512317 and parameters: {'C': 4.2108512108783, 'max_iter': 5624}. Best is trial 211 with value: 0.8032011540821552.\u001b[0m\n",
            "\u001b[32m[I 2023-01-22 20:09:23,374]\u001b[0m Trial 385 finished with value: 0.7899532713410622 and parameters: {'C': 5.743237918721697, 'max_iter': 5132}. Best is trial 211 with value: 0.8032011540821552.\u001b[0m\n",
            "\u001b[32m[I 2023-01-22 20:09:30,800]\u001b[0m Trial 386 finished with value: 0.8031974122139935 and parameters: {'C': 0.10313306570369304, 'max_iter': 5999}. Best is trial 211 with value: 0.8032011540821552.\u001b[0m\n",
            "\u001b[32m[I 2023-01-22 20:09:54,234]\u001b[0m Trial 387 finished with value: 0.7912220995843104 and parameters: {'C': 3.7630519059944976, 'max_iter': 6126}. Best is trial 211 with value: 0.8032011540821552.\u001b[0m\n",
            "\u001b[32m[I 2023-01-22 20:10:18,715]\u001b[0m Trial 388 finished with value: 0.789783113157275 and parameters: {'C': 6.03040383439636, 'max_iter': 5955}. Best is trial 211 with value: 0.8032011540821552.\u001b[0m\n",
            "\u001b[32m[I 2023-01-22 20:10:33,123]\u001b[0m Trial 389 finished with value: 0.7986119071666687 and parameters: {'C': 0.620178711808679, 'max_iter': 5846}. Best is trial 211 with value: 0.8032011540821552.\u001b[0m\n",
            "\u001b[32m[I 2023-01-22 20:11:01,926]\u001b[0m Trial 390 finished with value: 0.7905287392640308 and parameters: {'C': 4.696014490461462, 'max_iter': 6155}. Best is trial 211 with value: 0.8032011540821552.\u001b[0m\n",
            "\u001b[32m[I 2023-01-22 20:11:13,826]\u001b[0m Trial 391 finished with value: 0.8015774135688116 and parameters: {'C': 0.2850750444213393, 'max_iter': 5748}. Best is trial 211 with value: 0.8032011540821552.\u001b[0m\n",
            "\u001b[32m[I 2023-01-22 20:11:42,033]\u001b[0m Trial 392 finished with value: 0.7903175042645784 and parameters: {'C': 5.030792520056178, 'max_iter': 6408}. Best is trial 211 with value: 0.8032011540821552.\u001b[0m\n",
            "\u001b[32m[I 2023-01-22 20:12:14,872]\u001b[0m Trial 393 finished with value: 0.7889901092428727 and parameters: {'C': 8.171115667695776, 'max_iter': 5509}. Best is trial 211 with value: 0.8032011540821552.\u001b[0m\n",
            "\u001b[32m[I 2023-01-22 20:12:28,360]\u001b[0m Trial 394 finished with value: 0.7999445774374749 and parameters: {'C': 0.449985610906475, 'max_iter': 6028}. Best is trial 211 with value: 0.8032011540821552.\u001b[0m\n",
            "\u001b[32m[I 2023-01-22 20:12:46,050]\u001b[0m Trial 395 finished with value: 0.7972914987099922 and parameters: {'C': 0.836479450363005, 'max_iter': 5305}. Best is trial 211 with value: 0.8032011540821552.\u001b[0m\n",
            "\u001b[32m[I 2023-01-22 20:12:57,225]\u001b[0m Trial 396 finished with value: 0.8017978488538977 and parameters: {'C': 0.2652533739794388, 'max_iter': 5626}. Best is trial 211 with value: 0.8032011540821552.\u001b[0m\n",
            "\u001b[32m[I 2023-01-22 20:13:04,000]\u001b[0m Trial 397 finished with value: 0.8031956694977729 and parameters: {'C': 0.10455229899756384, 'max_iter': 5430}. Best is trial 211 with value: 0.8032011540821552.\u001b[0m\n",
            "\u001b[32m[I 2023-01-22 20:13:24,793]\u001b[0m Trial 398 finished with value: 0.7931229058098412 and parameters: {'C': 2.2269590297570225, 'max_iter': 5900}. Best is trial 211 with value: 0.8032011540821552.\u001b[0m\n",
            "\u001b[32m[I 2023-01-22 20:13:37,812]\u001b[0m Trial 399 finished with value: 0.7996951125821893 and parameters: {'C': 0.47927122801494476, 'max_iter': 5726}. Best is trial 211 with value: 0.8032011540821552.\u001b[0m\n",
            "\u001b[32m[I 2023-01-22 20:13:45,908]\u001b[0m Trial 400 finished with value: 0.8031963393706745 and parameters: {'C': 0.10161013409879081, 'max_iter': 5025}. Best is trial 211 with value: 0.8032011540821552.\u001b[0m\n",
            "\u001b[32m[I 2023-01-22 20:13:55,394]\u001b[0m Trial 401 finished with value: 0.8015860277156563 and parameters: {'C': 0.28567284168839896, 'max_iter': 5186}. Best is trial 211 with value: 0.8032011540821552.\u001b[0m\n",
            "\u001b[32m[I 2023-01-22 20:14:19,245]\u001b[0m Trial 402 finished with value: 0.7935179110197776 and parameters: {'C': 2.0161536684807855, 'max_iter': 5470}. Best is trial 211 with value: 0.8032011540821552.\u001b[0m\n",
            "\u001b[32m[I 2023-01-22 20:14:36,556]\u001b[0m Trial 403 finished with value: 0.7981638354628035 and parameters: {'C': 0.6872753345232053, 'max_iter': 5707}. Best is trial 211 with value: 0.8032011540821552.\u001b[0m\n",
            "\u001b[32m[I 2023-01-22 20:14:57,904]\u001b[0m Trial 404 finished with value: 0.7928075631413825 and parameters: {'C': 2.409218150378978, 'max_iter': 6046}. Best is trial 211 with value: 0.8032011540821552.\u001b[0m\n",
            "\u001b[32m[I 2023-01-22 20:15:15,511]\u001b[0m Trial 405 finished with value: 0.7952353500052418 and parameters: {'C': 1.3285126118209676, 'max_iter': 5293}. Best is trial 211 with value: 0.8032011540821552.\u001b[0m\n",
            "\u001b[32m[I 2023-01-22 20:15:29,100]\u001b[0m Trial 406 finished with value: 0.8000347695436256 and parameters: {'C': 0.4396798204274623, 'max_iter': 5569}. Best is trial 211 with value: 0.8032011540821552.\u001b[0m\n",
            "\u001b[32m[I 2023-01-22 20:15:44,126]\u001b[0m Trial 407 finished with value: 0.7963226165252286 and parameters: {'C': 1.0430597645400659, 'max_iter': 6331}. Best is trial 211 with value: 0.8032011540821552.\u001b[0m\n",
            "\u001b[32m[I 2023-01-22 20:15:53,726]\u001b[0m Trial 408 finished with value: 0.8016503826146546 and parameters: {'C': 0.2796525535783371, 'max_iter': 4893}. Best is trial 211 with value: 0.8032011540821552.\u001b[0m\n",
            "\u001b[32m[I 2023-01-22 20:16:25,549]\u001b[0m Trial 409 finished with value: 0.7893530181207318 and parameters: {'C': 7.092464313579978, 'max_iter': 5869}. Best is trial 211 with value: 0.8032011540821552.\u001b[0m\n",
            "\u001b[32m[I 2023-01-22 20:16:41,701]\u001b[0m Trial 410 finished with value: 0.7991454766329911 and parameters: {'C': 0.5480591927960305, 'max_iter': 6752}. Best is trial 211 with value: 0.8032011540821552.\u001b[0m\n",
            "\u001b[32m[I 2023-01-22 20:17:06,613]\u001b[0m Trial 411 finished with value: 0.7907523930790741 and parameters: {'C': 4.3875787893339915, 'max_iter': 5353}. Best is trial 211 with value: 0.8032011540821552.\u001b[0m\n",
            "\u001b[32m[I 2023-01-22 20:17:42,150]\u001b[0m Trial 412 finished with value: 0.7885801103933795 and parameters: {'C': 9.773892237467525, 'max_iter': 5653}. Best is trial 211 with value: 0.8032011540821552.\u001b[0m\n",
            "\u001b[32m[I 2023-01-22 20:17:49,012]\u001b[0m Trial 413 finished with value: 0.8031977366836803 and parameters: {'C': 0.10520435789459455, 'max_iter': 5166}. Best is trial 211 with value: 0.8032011540821552.\u001b[0m\n",
            "\u001b[32m[I 2023-01-22 20:17:56,069]\u001b[0m Trial 414 finished with value: 0.8031988304605275 and parameters: {'C': 0.10772959619939718, 'max_iter': 5039}. Best is trial 211 with value: 0.8032011540821552.\u001b[0m\n",
            "\u001b[32m[I 2023-01-22 20:18:03,561]\u001b[0m Trial 415 finished with value: 0.8031951880266248 and parameters: {'C': 0.10015914463825892, 'max_iter': 4747}. Best is trial 211 with value: 0.8032011540821552.\u001b[0m\n",
            "\u001b[32m[I 2023-01-22 20:18:13,838]\u001b[0m Trial 416 finished with value: 0.8012132853129361 and parameters: {'C': 0.31941269205229106, 'max_iter': 5038}. Best is trial 211 with value: 0.8032011540821552.\u001b[0m\n",
            "\u001b[32m[I 2023-01-22 20:18:34,688]\u001b[0m Trial 417 finished with value: 0.7924162055987307 and parameters: {'C': 2.670802913050258, 'max_iter': 4861}. Best is trial 211 with value: 0.8032011540821552.\u001b[0m\n",
            "\u001b[32m[I 2023-01-22 20:19:03,094]\u001b[0m Trial 418 finished with value: 0.7903477898464685 and parameters: {'C': 4.984800989281207, 'max_iter': 5114}. Best is trial 211 with value: 0.8032011540821552.\u001b[0m\n",
            "\u001b[32m[I 2023-01-22 20:19:26,919]\u001b[0m Trial 419 finished with value: 0.7905169536876671 and parameters: {'C': 4.761311339426273, 'max_iter': 4747}. Best is trial 211 with value: 0.8032011540821552.\u001b[0m\n",
            "\u001b[32m[I 2023-01-22 20:19:44,049]\u001b[0m Trial 420 finished with value: 0.7972940212001376 and parameters: {'C': 0.8360103665629025, 'max_iter': 4970}. Best is trial 211 with value: 0.8032011540821552.\u001b[0m\n",
            "\u001b[32m[I 2023-01-22 20:20:06,109]\u001b[0m Trial 421 finished with value: 0.7923138720462373 and parameters: {'C': 2.7484121870611875, 'max_iter': 5195}. Best is trial 211 with value: 0.8032011540821552.\u001b[0m\n",
            "\u001b[32m[I 2023-01-22 20:20:19,562]\u001b[0m Trial 422 finished with value: 0.7997428253262867 and parameters: {'C': 0.47384064024411704, 'max_iter': 5287}. Best is trial 211 with value: 0.8032011540821552.\u001b[0m\n",
            "\u001b[32m[I 2023-01-22 20:20:50,619]\u001b[0m Trial 423 finished with value: 0.7888153509162689 and parameters: {'C': 8.792107403936473, 'max_iter': 4635}. Best is trial 211 with value: 0.8032011540821552.\u001b[0m\n",
            "\u001b[32m[I 2023-01-22 20:21:02,255]\u001b[0m Trial 424 finished with value: 0.8013700041716335 and parameters: {'C': 0.30421780042071195, 'max_iter': 5066}. Best is trial 211 with value: 0.8032011540821552.\u001b[0m\n",
            "\u001b[32m[I 2023-01-22 20:21:10,264]\u001b[0m Trial 425 finished with value: 0.8031958945332007 and parameters: {'C': 0.10254423055733407, 'max_iter': 5405}. Best is trial 211 with value: 0.8032011540821552.\u001b[0m\n",
            "\u001b[32m[I 2023-01-22 20:21:32,127]\u001b[0m Trial 426 finished with value: 0.7909058306072299 and parameters: {'C': 4.138474962359939, 'max_iter': 4973}. Best is trial 211 with value: 0.8032011540821552.\u001b[0m\n",
            "\u001b[32m[I 2023-01-22 20:21:46,363]\u001b[0m Trial 427 finished with value: 0.7985359760265887 and parameters: {'C': 0.6307344347894881, 'max_iter': 5204}. Best is trial 211 with value: 0.8032011540821552.\u001b[0m\n",
            "\u001b[32m[I 2023-01-22 20:22:09,733]\u001b[0m Trial 428 finished with value: 0.7933863071615107 and parameters: {'C': 2.0828610181443223, 'max_iter': 7442}. Best is trial 211 with value: 0.8032011540821552.\u001b[0m\n",
            "\u001b[32m[I 2023-01-22 20:22:22,337]\u001b[0m Trial 429 finished with value: 0.8015077206201281 and parameters: {'C': 0.2916542456190114, 'max_iter': 5369}. Best is trial 211 with value: 0.8032011540821552.\u001b[0m\n",
            "\u001b[32m[I 2023-01-22 20:22:45,823]\u001b[0m Trial 430 finished with value: 0.791766345150003 and parameters: {'C': 3.226048758068166, 'max_iter': 5477}. Best is trial 211 with value: 0.8032011540821552.\u001b[0m\n",
            "\u001b[32m[I 2023-01-22 20:23:13,506]\u001b[0m Trial 431 finished with value: 0.7896388654479893 and parameters: {'C': 6.476295839044943, 'max_iter': 5188}. Best is trial 211 with value: 0.8032011540821552.\u001b[0m\n",
            "\u001b[32m[I 2023-01-22 20:23:37,141]\u001b[0m Trial 432 finished with value: 0.7901605656038352 and parameters: {'C': 5.36212364040551, 'max_iter': 4804}. Best is trial 211 with value: 0.8032011540821552.\u001b[0m\n",
            "\u001b[32m[I 2023-01-22 20:23:51,511]\u001b[0m Trial 433 finished with value: 0.7997660615425631 and parameters: {'C': 0.4717776021277497, 'max_iter': 5467}. Best is trial 211 with value: 0.8032011540821552.\u001b[0m\n",
            "\u001b[32m[I 2023-01-22 20:24:02,943]\u001b[0m Trial 434 finished with value: 0.801508882430942 and parameters: {'C': 0.2915732348832869, 'max_iter': 5208}. Best is trial 211 with value: 0.8032011540821552.\u001b[0m\n",
            "\u001b[32m[I 2023-01-22 20:24:11,195]\u001b[0m Trial 435 finished with value: 0.8031976163158933 and parameters: {'C': 0.10618685202023656, 'max_iter': 5579}. Best is trial 211 with value: 0.8032011540821552.\u001b[0m\n",
            "\u001b[32m[I 2023-01-22 20:24:35,334]\u001b[0m Trial 436 finished with value: 0.7910124974000559 and parameters: {'C': 4.038828950173095, 'max_iter': 5838}. Best is trial 211 with value: 0.8032011540821552.\u001b[0m\n",
            "\u001b[32m[I 2023-01-22 20:24:49,414]\u001b[0m Trial 437 finished with value: 0.7983372174099297 and parameters: {'C': 0.6595417048983647, 'max_iter': 5543}. Best is trial 211 with value: 0.8032011540821552.\u001b[0m\n",
            "\u001b[32m[I 2023-01-22 20:25:01,059]\u001b[0m Trial 438 finished with value: 0.8016897638145376 and parameters: {'C': 0.27492316380051757, 'max_iter': 8022}. Best is trial 211 with value: 0.8032011540821552.\u001b[0m\n",
            "\u001b[32m[I 2023-01-22 20:25:09,300]\u001b[0m Trial 439 finished with value: 0.8031977680839726 and parameters: {'C': 0.1041188798259382, 'max_iter': 6056}. Best is trial 211 with value: 0.8032011540821552.\u001b[0m\n",
            "\u001b[32m[I 2023-01-22 20:25:37,614]\u001b[0m Trial 440 finished with value: 0.7892699905145997 and parameters: {'C': 7.361828120255849, 'max_iter': 5673}. Best is trial 211 with value: 0.8032011540821552.\u001b[0m\n",
            "\u001b[32m[I 2023-01-22 20:25:59,506]\u001b[0m Trial 441 finished with value: 0.7910280248445811 and parameters: {'C': 3.95821143536591, 'max_iter': 6202}. Best is trial 211 with value: 0.8032011540821552.\u001b[0m\n",
            "\u001b[32m[I 2023-01-22 20:26:12,823]\u001b[0m Trial 442 finished with value: 0.799946116051796 and parameters: {'C': 0.4498144004961056, 'max_iter': 5861}. Best is trial 211 with value: 0.8032011540821552.\u001b[0m\n",
            "\u001b[32m[I 2023-01-22 20:26:35,880]\u001b[0m Trial 443 finished with value: 0.7940335561525984 and parameters: {'C': 1.7736043009075244, 'max_iter': 5533}. Best is trial 211 with value: 0.8032011540821552.\u001b[0m\n",
            "\u001b[32m[I 2023-01-22 20:26:58,255]\u001b[0m Trial 444 finished with value: 0.791436908983699 and parameters: {'C': 3.520068431122148, 'max_iter': 9977}. Best is trial 211 with value: 0.8032011540821552.\u001b[0m\n",
            "\u001b[32m[I 2023-01-22 20:27:14,127]\u001b[0m Trial 445 finished with value: 0.7970079697709804 and parameters: {'C': 0.8909889243386625, 'max_iter': 5379}. Best is trial 211 with value: 0.8032011540821552.\u001b[0m\n",
            "\u001b[32m[I 2023-01-22 20:27:25,699]\u001b[0m Trial 446 finished with value: 0.801495406472178 and parameters: {'C': 0.29264413093845365, 'max_iter': 5690}. Best is trial 211 with value: 0.8032011540821552.\u001b[0m\n",
            "\u001b[32m[I 2023-01-22 20:27:46,951]\u001b[0m Trial 447 finished with value: 0.7907882260459311 and parameters: {'C': 4.305252572661806, 'max_iter': 6054}. Best is trial 211 with value: 0.8032011540821552.\u001b[0m\n",
            "\u001b[32m[I 2023-01-22 20:28:09,002]\u001b[0m Trial 448 finished with value: 0.7911224559901877 and parameters: {'C': 3.8476824164145396, 'max_iter': 6535}. Best is trial 211 with value: 0.8032011540821552.\u001b[0m\n",
            "\u001b[32m[I 2023-01-22 20:28:25,029]\u001b[0m Trial 449 finished with value: 0.7991113078816241 and parameters: {'C': 0.5522588963007934, 'max_iter': 5571}. Best is trial 211 with value: 0.8032011540821552.\u001b[0m\n",
            "\u001b[32m[I 2023-01-22 20:28:50,035]\u001b[0m Trial 450 finished with value: 0.7915750545695212 and parameters: {'C': 3.390980541558479, 'max_iter': 8300}. Best is trial 211 with value: 0.8032011540821552.\u001b[0m\n",
            "\u001b[32m[I 2023-01-22 20:29:18,178]\u001b[0m Trial 451 finished with value: 0.7903605226649821 and parameters: {'C': 4.959950193132669, 'max_iter': 7249}. Best is trial 211 with value: 0.8032011540821552.\u001b[0m\n",
            "\u001b[32m[I 2023-01-22 20:29:29,994]\u001b[0m Trial 452 finished with value: 0.8016759633860869 and parameters: {'C': 0.2761356086445642, 'max_iter': 5324}. Best is trial 211 with value: 0.8032011540821552.\u001b[0m\n",
            "\u001b[32m[I 2023-01-22 20:29:52,000]\u001b[0m Trial 453 finished with value: 0.7941679965039333 and parameters: {'C': 1.7171247522220954, 'max_iter': 5855}. Best is trial 211 with value: 0.8032011540821552.\u001b[0m\n",
            "\u001b[32m[I 2023-01-22 20:30:05,600]\u001b[0m Trial 454 finished with value: 0.800069105763218 and parameters: {'C': 0.4359304506917241, 'max_iter': 6302}. Best is trial 211 with value: 0.8032011540821552.\u001b[0m\n",
            "\u001b[32m[I 2023-01-22 20:30:27,418]\u001b[0m Trial 455 finished with value: 0.7921252504905982 and parameters: {'C': 2.892121830765571, 'max_iter': 5560}. Best is trial 211 with value: 0.8032011540821552.\u001b[0m\n",
            "\u001b[32m[I 2023-01-22 20:30:48,173]\u001b[0m Trial 456 finished with value: 0.7917452650871286 and parameters: {'C': 3.2154503158113226, 'max_iter': 5768}. Best is trial 211 with value: 0.8032011540821552.\u001b[0m\n",
            "\u001b[32m[I 2023-01-22 20:31:03,614]\u001b[0m Trial 457 finished with value: 0.7961167928428099 and parameters: {'C': 1.09357646691438, 'max_iter': 5294}. Best is trial 211 with value: 0.8032011540821552.\u001b[0m\n",
            "\u001b[32m[I 2023-01-22 20:31:20,751]\u001b[0m Trial 458 finished with value: 0.7979718279089817 and parameters: {'C': 0.7174582884125451, 'max_iter': 6068}. Best is trial 211 with value: 0.8032011540821552.\u001b[0m\n",
            "\u001b[32m[I 2023-01-22 20:31:30,748]\u001b[0m Trial 459 finished with value: 0.801787962995216 and parameters: {'C': 0.26642240635078657, 'max_iter': 5445}. Best is trial 211 with value: 0.8032011540821552.\u001b[0m\n",
            "\u001b[32m[I 2023-01-22 20:31:39,005]\u001b[0m Trial 460 finished with value: 0.8031787918406802 and parameters: {'C': 0.11605473155327553, 'max_iter': 5102}. Best is trial 211 with value: 0.8032011540821552.\u001b[0m\n",
            "\u001b[32m[I 2023-01-22 20:32:06,751]\u001b[0m Trial 461 finished with value: 0.7900609481766228 and parameters: {'C': 5.497950360810349, 'max_iter': 5673}. Best is trial 211 with value: 0.8032011540821552.\u001b[0m\n",
            "\u001b[32m[I 2023-01-22 20:32:15,244]\u001b[0m Trial 462 finished with value: 0.8031977785507367 and parameters: {'C': 0.10648305230901153, 'max_iter': 5918}. Best is trial 211 with value: 0.8032011540821552.\u001b[0m\n",
            "\u001b[32m[I 2023-01-22 20:32:37,540]\u001b[0m Trial 463 finished with value: 0.7945749390583128 and parameters: {'C': 1.5550252297224463, 'max_iter': 6185}. Best is trial 211 with value: 0.8032011540821552.\u001b[0m\n",
            "\u001b[32m[I 2023-01-22 20:32:50,842]\u001b[0m Trial 464 finished with value: 0.7997496862901468 and parameters: {'C': 0.4726577208086551, 'max_iter': 5927}. Best is trial 211 with value: 0.8032011540821552.\u001b[0m\n",
            "\u001b[32m[I 2023-01-22 20:33:12,108]\u001b[0m Trial 465 finished with value: 0.7920910974393773 and parameters: {'C': 2.915259826452092, 'max_iter': 6376}. Best is trial 211 with value: 0.8032011540821552.\u001b[0m\n",
            "\u001b[32m[I 2023-01-22 20:33:19,504]\u001b[0m Trial 466 finished with value: 0.8031912682234736 and parameters: {'C': 0.11067239605702474, 'max_iter': 5930}. Best is trial 211 with value: 0.8032011540821552.\u001b[0m\n",
            "\u001b[32m[I 2023-01-22 20:33:40,203]\u001b[0m Trial 467 finished with value: 0.7927807001913492 and parameters: {'C': 2.4302227013107385, 'max_iter': 5717}. Best is trial 211 with value: 0.8032011540821552.\u001b[0m\n",
            "\u001b[32m[I 2023-01-22 20:33:54,366]\u001b[0m Trial 468 finished with value: 0.8002503220832646 and parameters: {'C': 0.4158272640348058, 'max_iter': 6064}. Best is trial 211 with value: 0.8032011540821552.\u001b[0m\n",
            "\u001b[32m[I 2023-01-22 20:34:22,752]\u001b[0m Trial 469 finished with value: 0.7897007135569882 and parameters: {'C': 6.301418426908745, 'max_iter': 5702}. Best is trial 211 with value: 0.8032011540821552.\u001b[0m\n",
            "\u001b[32m[I 2023-01-22 20:34:30,937]\u001b[0m Trial 470 finished with value: 0.8031977733173545 and parameters: {'C': 0.10415499171455826, 'max_iter': 5865}. Best is trial 211 with value: 0.8032011540821552.\u001b[0m\n",
            "\u001b[32m[I 2023-01-22 20:34:55,948]\u001b[0m Trial 471 finished with value: 0.7901906680173537 and parameters: {'C': 5.2283726608040935, 'max_iter': 6220}. Best is trial 211 with value: 0.8032011540821552.\u001b[0m\n",
            "\u001b[32m[I 2023-01-22 20:35:14,373]\u001b[0m Trial 472 finished with value: 0.7953747045023163 and parameters: {'C': 1.2896829447554874, 'max_iter': 5958}. Best is trial 211 with value: 0.8032011540821552.\u001b[0m\n",
            "\u001b[32m[I 2023-01-22 20:35:28,680]\u001b[0m Trial 473 finished with value: 0.7985272781456311 and parameters: {'C': 0.6320951998783676, 'max_iter': 5854}. Best is trial 211 with value: 0.8032011540821552.\u001b[0m\n",
            "\u001b[32m[I 2023-01-22 20:35:38,596]\u001b[0m Trial 474 finished with value: 0.8016663705967999 and parameters: {'C': 0.2774024320299803, 'max_iter': 6011}. Best is trial 211 with value: 0.8032011540821552.\u001b[0m\n",
            "\u001b[32m[I 2023-01-22 20:36:11,478]\u001b[0m Trial 475 finished with value: 0.7894822669570789 and parameters: {'C': 6.812075872433921, 'max_iter': 5765}. Best is trial 211 with value: 0.8032011540821552.\u001b[0m\n",
            "\u001b[32m[I 2023-01-22 20:36:40,578]\u001b[0m Trial 476 finished with value: 0.7900453631648949 and parameters: {'C': 5.5440178851749815, 'max_iter': 6454}. Best is trial 211 with value: 0.8032011540821552.\u001b[0m\n",
            "\u001b[32m[I 2023-01-22 20:37:04,229]\u001b[0m Trial 477 finished with value: 0.7913899289130877 and parameters: {'C': 3.568145903035991, 'max_iter': 6201}. Best is trial 211 with value: 0.8032011540821552.\u001b[0m\n",
            "\u001b[32m[I 2023-01-22 20:37:16,370]\u001b[0m Trial 478 finished with value: 0.8017625758589194 and parameters: {'C': 0.26826720661406256, 'max_iter': 5543}. Best is trial 211 with value: 0.8032011540821552.\u001b[0m\n",
            "\u001b[32m[I 2023-01-22 20:37:24,612]\u001b[0m Trial 479 finished with value: 0.8031966586069792 and parameters: {'C': 0.10509905965339048, 'max_iter': 5906}. Best is trial 211 with value: 0.8032011540821552.\u001b[0m\n",
            "\u001b[32m[I 2023-01-22 20:37:38,378]\u001b[0m Trial 480 finished with value: 0.8000102877824226 and parameters: {'C': 0.442359776069169, 'max_iter': 5593}. Best is trial 211 with value: 0.8032011540821552.\u001b[0m\n",
            "\u001b[32m[I 2023-01-22 20:38:03,230]\u001b[0m Trial 481 finished with value: 0.7897682398855053 and parameters: {'C': 6.050566413877988, 'max_iter': 9691}. Best is trial 211 with value: 0.8032011540821552.\u001b[0m\n",
            "\u001b[32m[I 2023-01-22 20:38:16,674]\u001b[0m Trial 482 finished with value: 0.7976606667127764 and parameters: {'C': 0.7737403706696284, 'max_iter': 5405}. Best is trial 211 with value: 0.8032011540821552.\u001b[0m\n",
            "\u001b[32m[I 2023-01-22 20:38:24,378]\u001b[0m Trial 483 finished with value: 0.8031972133454759 and parameters: {'C': 0.1001216451950145, 'max_iter': 5782}. Best is trial 211 with value: 0.8032011540821552.\u001b[0m\n",
            "\u001b[32m[I 2023-01-22 20:38:40,207]\u001b[0m Trial 484 finished with value: 0.7989497219776256 and parameters: {'C': 0.5736762118622565, 'max_iter': 6152}. Best is trial 211 with value: 0.8032011540821552.\u001b[0m\n",
            "\u001b[32m[I 2023-01-22 20:39:04,647]\u001b[0m Trial 485 finished with value: 0.789904438653207 and parameters: {'C': 5.80019747706461, 'max_iter': 9416}. Best is trial 211 with value: 0.8032011540821552.\u001b[0m\n",
            "\u001b[32m[I 2023-01-22 20:39:35,706]\u001b[0m Trial 486 finished with value: 0.789094080843946 and parameters: {'C': 7.866955630383661, 'max_iter': 6613}. Best is trial 211 with value: 0.8032011540821552.\u001b[0m\n",
            "\u001b[32m[I 2023-01-22 20:39:47,038]\u001b[0m Trial 487 finished with value: 0.8012694081019788 and parameters: {'C': 0.31357775507719804, 'max_iter': 5298}. Best is trial 211 with value: 0.8032011540821552.\u001b[0m\n",
            "\u001b[32m[I 2023-01-22 20:40:19,338]\u001b[0m Trial 488 finished with value: 0.7888543762461729 and parameters: {'C': 8.634241243177849, 'max_iter': 5625}. Best is trial 211 with value: 0.8032011540821552.\u001b[0m\n",
            "\u001b[32m[I 2023-01-22 20:40:31,130]\u001b[0m Trial 489 finished with value: 0.8007351635293727 and parameters: {'C': 0.3650382671674645, 'max_iter': 5839}. Best is trial 211 with value: 0.8032011540821552.\u001b[0m\n",
            "\u001b[32m[I 2023-01-22 20:40:42,823]\u001b[0m Trial 490 finished with value: 0.8014779479096783 and parameters: {'C': 0.29447567702273436, 'max_iter': 5453}. Best is trial 211 with value: 0.8032011540821552.\u001b[0m\n",
            "\u001b[32m[I 2023-01-22 20:40:58,701]\u001b[0m Trial 491 finished with value: 0.798911335120331 and parameters: {'C': 0.5787551464489782, 'max_iter': 6856}. Best is trial 211 with value: 0.8032011540821552.\u001b[0m\n",
            "\u001b[32m[I 2023-01-22 20:41:07,232]\u001b[0m Trial 492 finished with value: 0.8031972709126785 and parameters: {'C': 0.10718684176569794, 'max_iter': 7691}. Best is trial 211 with value: 0.8032011540821552.\u001b[0m\n",
            "\u001b[32m[I 2023-01-22 20:41:24,606]\u001b[0m Trial 493 finished with value: 0.7967862837075858 and parameters: {'C': 0.9370631004910385, 'max_iter': 6046}. Best is trial 211 with value: 0.8032011540821552.\u001b[0m\n",
            "\u001b[32m[I 2023-01-22 20:41:53,388]\u001b[0m Trial 494 finished with value: 0.7894359410592232 and parameters: {'C': 6.872411477981612, 'max_iter': 9085}. Best is trial 211 with value: 0.8032011540821552.\u001b[0m\n",
            "\u001b[32m[I 2023-01-22 20:42:16,892]\u001b[0m Trial 495 finished with value: 0.7916551619484726 and parameters: {'C': 3.3045896022635004, 'max_iter': 6344}. Best is trial 211 with value: 0.8032011540821552.\u001b[0m\n",
            "\u001b[32m[I 2023-01-22 20:42:31,159]\u001b[0m Trial 496 finished with value: 0.8000001454880208 and parameters: {'C': 0.4437617551766323, 'max_iter': 5628}. Best is trial 211 with value: 0.8032011540821552.\u001b[0m\n",
            "\u001b[32m[I 2023-01-22 20:42:38,705]\u001b[0m Trial 497 finished with value: 0.8031961614356851 and parameters: {'C': 0.10062124411161559, 'max_iter': 5266}. Best is trial 211 with value: 0.8032011540821552.\u001b[0m\n",
            "\u001b[32m[I 2023-01-22 20:42:50,157]\u001b[0m Trial 498 finished with value: 0.8017155853215441 and parameters: {'C': 0.27265286645007064, 'max_iter': 5812}. Best is trial 211 with value: 0.8032011540821552.\u001b[0m\n",
            "\u001b[32m[I 2023-01-22 20:43:12,582]\u001b[0m Trial 499 finished with value: 0.7910343886371469 and parameters: {'C': 3.949481120332605, 'max_iter': 5472}. Best is trial 211 with value: 0.8032011540821552.\u001b[0m\n",
            "Best trial score: 0.8032011540821552\n",
            "Best params: {'C': 0.10834540601334458, 'max_iter': 5585}\n"
          ]
        }
      ],
      "source": [
        "study_logistic = optuna.create_study(direction='maximize', sampler=TPESampler())\n",
        "study_logistic.optimize(lambda trial: objective_LogisticRegression(trial, X_train, y_train, X_valid, y_valid),\n",
        "                        n_trials=500, show_progress_bar=True)\n",
        "\n",
        "print(f'Best trial score: {study_logistic.best_trial.value}')\n",
        "print(f'Best params: {study_logistic.best_trial.params}')"
      ]
    },
    {
      "cell_type": "markdown",
      "metadata": {
        "id": "phCoACbPhWmT"
      },
      "source": [
        "탐색 211회에 최적 하이퍼파라미터를 찾았습니다. 전체 데이터를 사용하여 모델을 훈련해 보겠습니다."
      ]
    },
    {
      "cell_type": "code",
      "execution_count": null,
      "metadata": {
        "colab": {
          "base_uri": "https://localhost:8080/"
        },
        "id": "eXYcEONCgJzU",
        "outputId": "91c48d8d-804c-430e-ff30-404924a85b7a"
      },
      "outputs": [
        {
          "data": {
            "text/plain": [
              "LogisticRegression(C=0.10834540601334458, max_iter=5585)"
            ]
          },
          "execution_count": 39,
          "metadata": {},
          "output_type": "execute_result"
        }
      ],
      "source": [
        "params = study_logistic.best_trial.params\n",
        "model_logistic = LogisticRegression(**params)\n",
        "model_logistic.fit(X_train_sparse, y_train_original)"
      ]
    },
    {
      "cell_type": "markdown",
      "metadata": {
        "id": "-k8aktkShO0J"
      },
      "source": [
        "파일을 제출해 보겠습니다."
      ]
    },
    {
      "cell_type": "code",
      "execution_count": null,
      "metadata": {
        "id": "h2DgX02ggLtt"
      },
      "outputs": [],
      "source": [
        "submission['target'] = model_logistic.predict_proba(X_test_sparse)[:, 1]\n",
        "submission.to_csv('Categorical_Feature_Encoding_Challenge_submission11.csv')"
      ]
    },
    {
      "cell_type": "markdown",
      "metadata": {
        "id": "BhDahZZ9SIEV"
      },
      "source": [
        "프라이빗 스코어는 0.80276입니다. 1338팀 중 14위에 위치한 기록입니다."
      ]
    },
    {
      "cell_type": "markdown",
      "metadata": {
        "id": "qAMfxEj1xDov"
      },
      "source": [
        "# **5. 결론**"
      ]
    },
    {
      "cell_type": "markdown",
      "metadata": {
        "id": "ZEA_6ZVf0dN1"
      },
      "source": [
        "XGBoost와 LightGBM의 최적 하이퍼파라미터 탐색에 성공했다면 로지스틱 회귀보다 더 나은 성능을 보였을 것입니다. 실전 대회라면 좋은 컴퓨팅 자원을 확보하고 체계적으로 스케줄을 관리하여 최적 하이퍼파라미터를 찾는 데 전념해 볼 필요가 있습니다.\n",
        "\n",
        "물론 최적 하이퍼파라미터를 찾는 작업보다 더 중요한 것은 피처 엔지니어링입니다. 주어진 시간이 충분하지 않은 경우 택할 수 있는 전략적인 방법입니다. 최적 하이퍼파라미터를 찾기 위해 많은 시간을 투입하기 보다는 피처 엔지니어링에 더욱 중점을 두는 것입니다. 후자의 작업이 성능을 향상시키는 데 효과적입니다. \n",
        "\n",
        "여기에 두 모델을 앙상블하여 약간의 점수라도 향상시킬 수 있습니다. 물론 항상 점수가 향상되는 것은 아닙니다. "
      ]
    }
  ]
}