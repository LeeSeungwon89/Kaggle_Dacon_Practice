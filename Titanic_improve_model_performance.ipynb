{
  "nbformat": 4,
  "nbformat_minor": 0,
  "metadata": {
    "colab": {
      "provenance": [],
      "toc_visible": true,
      "authorship_tag": "ABX9TyMmzCLPIS7bXi6npvYk3OQW",
      "include_colab_link": true
    },
    "kernelspec": {
      "name": "python3",
      "display_name": "Python 3"
    },
    "language_info": {
      "name": "python"
    }
  },
  "cells": [
    {
      "cell_type": "markdown",
      "metadata": {
        "id": "view-in-github",
        "colab_type": "text"
      },
      "source": [
        "<a href=\"https://colab.research.google.com/github/LeeSeungwon89/Kaggle_Dacon_Practice/blob/main/Titanic_improve_model_performance.ipynb\" target=\"_parent\"><img src=\"https://colab.research.google.com/assets/colab-badge.svg\" alt=\"Open In Colab\"/></a>"
      ]
    },
    {
      "cell_type": "markdown",
      "source": [
        "# **피처 엔지니어링**"
      ],
      "metadata": {
        "id": "J1E3XoJ_LFxA"
      }
    },
    {
      "cell_type": "markdown",
      "source": [
        "# **XGBoost**"
      ],
      "metadata": {
        "id": "e2CeEzXSLTj3"
      }
    },
    {
      "cell_type": "markdown",
      "source": [
        "## **하이퍼파라미터 튜닝**"
      ],
      "metadata": {
        "id": "dum0_-MBLkMp"
      }
    },
    {
      "cell_type": "markdown",
      "source": [
        "### **모델 훈련**"
      ],
      "metadata": {
        "id": "xXhNBobdLQXy"
      }
    },
    {
      "cell_type": "markdown",
      "source": [
        "# **LightGBM**"
      ],
      "metadata": {
        "id": "DBTVfJVTLY9m"
      }
    },
    {
      "cell_type": "markdown",
      "source": [
        "## **하이퍼파라미터 튜닝**"
      ],
      "metadata": {
        "id": "hhKfdVOfLnbr"
      }
    },
    {
      "cell_type": "markdown",
      "source": [
        "### **모델 훈련**"
      ],
      "metadata": {
        "id": "lp-JBXo9Lqp8"
      }
    }
  ]
}