{
  "nbformat": 4,
  "nbformat_minor": 0,
  "metadata": {
    "colab": {
      "provenance": [],
      "toc_visible": true,
      "authorship_tag": "ABX9TyPEd3JFcNH9HmBYkPrY+hlR",
      "include_colab_link": true
    },
    "kernelspec": {
      "name": "python3",
      "display_name": "Python 3"
    },
    "language_info": {
      "name": "python"
    },
    "accelerator": "TPU",
    "gpuClass": "standard",
    "widgets": {
      "application/vnd.jupyter.widget-state+json": {
        "c9b1d11b2a11458c84d17e8dfab075bd": {
          "model_module": "@jupyter-widgets/controls",
          "model_name": "HBoxModel",
          "model_module_version": "1.5.0",
          "state": {
            "_dom_classes": [],
            "_model_module": "@jupyter-widgets/controls",
            "_model_module_version": "1.5.0",
            "_model_name": "HBoxModel",
            "_view_count": null,
            "_view_module": "@jupyter-widgets/controls",
            "_view_module_version": "1.5.0",
            "_view_name": "HBoxView",
            "box_style": "",
            "children": [
              "IPY_MODEL_fe6d5cb3a22341bcbc54fdc8881ee305",
              "IPY_MODEL_e063405ab23148b4bf5b02785797e286",
              "IPY_MODEL_f86658a634fc4078aaa3728fc6d793f7"
            ],
            "layout": "IPY_MODEL_aa730b3d4b034e5bb72c03160984d705"
          }
        },
        "fe6d5cb3a22341bcbc54fdc8881ee305": {
          "model_module": "@jupyter-widgets/controls",
          "model_name": "HTMLModel",
          "model_module_version": "1.5.0",
          "state": {
            "_dom_classes": [],
            "_model_module": "@jupyter-widgets/controls",
            "_model_module_version": "1.5.0",
            "_model_name": "HTMLModel",
            "_view_count": null,
            "_view_module": "@jupyter-widgets/controls",
            "_view_module_version": "1.5.0",
            "_view_name": "HTMLView",
            "description": "",
            "description_tooltip": null,
            "layout": "IPY_MODEL_d48f11724a824cb1a42c8e846d17a287",
            "placeholder": "​",
            "style": "IPY_MODEL_df74e6f23c4043b6ae5fb8168dbfb218",
            "value": "Best trial: 34. Best value: 0.795179: 100%"
          }
        },
        "e063405ab23148b4bf5b02785797e286": {
          "model_module": "@jupyter-widgets/controls",
          "model_name": "FloatProgressModel",
          "model_module_version": "1.5.0",
          "state": {
            "_dom_classes": [],
            "_model_module": "@jupyter-widgets/controls",
            "_model_module_version": "1.5.0",
            "_model_name": "FloatProgressModel",
            "_view_count": null,
            "_view_module": "@jupyter-widgets/controls",
            "_view_module_version": "1.5.0",
            "_view_name": "ProgressView",
            "bar_style": "success",
            "description": "",
            "description_tooltip": null,
            "layout": "IPY_MODEL_bbc7fc091d1c4adf8ea6e08ec3f9ae03",
            "max": 50,
            "min": 0,
            "orientation": "horizontal",
            "style": "IPY_MODEL_879c1b46d9164165a47391834878efe4",
            "value": 50
          }
        },
        "f86658a634fc4078aaa3728fc6d793f7": {
          "model_module": "@jupyter-widgets/controls",
          "model_name": "HTMLModel",
          "model_module_version": "1.5.0",
          "state": {
            "_dom_classes": [],
            "_model_module": "@jupyter-widgets/controls",
            "_model_module_version": "1.5.0",
            "_model_name": "HTMLModel",
            "_view_count": null,
            "_view_module": "@jupyter-widgets/controls",
            "_view_module_version": "1.5.0",
            "_view_name": "HTMLView",
            "description": "",
            "description_tooltip": null,
            "layout": "IPY_MODEL_db60216ed10e46aa9bcba0fe12f02e82",
            "placeholder": "​",
            "style": "IPY_MODEL_abc9604654694886897faa10513224f0",
            "value": " 50/50 [1:33:27&lt;00:00, 94.06s/it]"
          }
        },
        "aa730b3d4b034e5bb72c03160984d705": {
          "model_module": "@jupyter-widgets/base",
          "model_name": "LayoutModel",
          "model_module_version": "1.2.0",
          "state": {
            "_model_module": "@jupyter-widgets/base",
            "_model_module_version": "1.2.0",
            "_model_name": "LayoutModel",
            "_view_count": null,
            "_view_module": "@jupyter-widgets/base",
            "_view_module_version": "1.2.0",
            "_view_name": "LayoutView",
            "align_content": null,
            "align_items": null,
            "align_self": null,
            "border": null,
            "bottom": null,
            "display": null,
            "flex": null,
            "flex_flow": null,
            "grid_area": null,
            "grid_auto_columns": null,
            "grid_auto_flow": null,
            "grid_auto_rows": null,
            "grid_column": null,
            "grid_gap": null,
            "grid_row": null,
            "grid_template_areas": null,
            "grid_template_columns": null,
            "grid_template_rows": null,
            "height": null,
            "justify_content": null,
            "justify_items": null,
            "left": null,
            "margin": null,
            "max_height": null,
            "max_width": null,
            "min_height": null,
            "min_width": null,
            "object_fit": null,
            "object_position": null,
            "order": null,
            "overflow": null,
            "overflow_x": null,
            "overflow_y": null,
            "padding": null,
            "right": null,
            "top": null,
            "visibility": null,
            "width": null
          }
        },
        "d48f11724a824cb1a42c8e846d17a287": {
          "model_module": "@jupyter-widgets/base",
          "model_name": "LayoutModel",
          "model_module_version": "1.2.0",
          "state": {
            "_model_module": "@jupyter-widgets/base",
            "_model_module_version": "1.2.0",
            "_model_name": "LayoutModel",
            "_view_count": null,
            "_view_module": "@jupyter-widgets/base",
            "_view_module_version": "1.2.0",
            "_view_name": "LayoutView",
            "align_content": null,
            "align_items": null,
            "align_self": null,
            "border": null,
            "bottom": null,
            "display": null,
            "flex": null,
            "flex_flow": null,
            "grid_area": null,
            "grid_auto_columns": null,
            "grid_auto_flow": null,
            "grid_auto_rows": null,
            "grid_column": null,
            "grid_gap": null,
            "grid_row": null,
            "grid_template_areas": null,
            "grid_template_columns": null,
            "grid_template_rows": null,
            "height": null,
            "justify_content": null,
            "justify_items": null,
            "left": null,
            "margin": null,
            "max_height": null,
            "max_width": null,
            "min_height": null,
            "min_width": null,
            "object_fit": null,
            "object_position": null,
            "order": null,
            "overflow": null,
            "overflow_x": null,
            "overflow_y": null,
            "padding": null,
            "right": null,
            "top": null,
            "visibility": null,
            "width": null
          }
        },
        "df74e6f23c4043b6ae5fb8168dbfb218": {
          "model_module": "@jupyter-widgets/controls",
          "model_name": "DescriptionStyleModel",
          "model_module_version": "1.5.0",
          "state": {
            "_model_module": "@jupyter-widgets/controls",
            "_model_module_version": "1.5.0",
            "_model_name": "DescriptionStyleModel",
            "_view_count": null,
            "_view_module": "@jupyter-widgets/base",
            "_view_module_version": "1.2.0",
            "_view_name": "StyleView",
            "description_width": ""
          }
        },
        "bbc7fc091d1c4adf8ea6e08ec3f9ae03": {
          "model_module": "@jupyter-widgets/base",
          "model_name": "LayoutModel",
          "model_module_version": "1.2.0",
          "state": {
            "_model_module": "@jupyter-widgets/base",
            "_model_module_version": "1.2.0",
            "_model_name": "LayoutModel",
            "_view_count": null,
            "_view_module": "@jupyter-widgets/base",
            "_view_module_version": "1.2.0",
            "_view_name": "LayoutView",
            "align_content": null,
            "align_items": null,
            "align_self": null,
            "border": null,
            "bottom": null,
            "display": null,
            "flex": null,
            "flex_flow": null,
            "grid_area": null,
            "grid_auto_columns": null,
            "grid_auto_flow": null,
            "grid_auto_rows": null,
            "grid_column": null,
            "grid_gap": null,
            "grid_row": null,
            "grid_template_areas": null,
            "grid_template_columns": null,
            "grid_template_rows": null,
            "height": null,
            "justify_content": null,
            "justify_items": null,
            "left": null,
            "margin": null,
            "max_height": null,
            "max_width": null,
            "min_height": null,
            "min_width": null,
            "object_fit": null,
            "object_position": null,
            "order": null,
            "overflow": null,
            "overflow_x": null,
            "overflow_y": null,
            "padding": null,
            "right": null,
            "top": null,
            "visibility": null,
            "width": null
          }
        },
        "879c1b46d9164165a47391834878efe4": {
          "model_module": "@jupyter-widgets/controls",
          "model_name": "ProgressStyleModel",
          "model_module_version": "1.5.0",
          "state": {
            "_model_module": "@jupyter-widgets/controls",
            "_model_module_version": "1.5.0",
            "_model_name": "ProgressStyleModel",
            "_view_count": null,
            "_view_module": "@jupyter-widgets/base",
            "_view_module_version": "1.2.0",
            "_view_name": "StyleView",
            "bar_color": null,
            "description_width": ""
          }
        },
        "db60216ed10e46aa9bcba0fe12f02e82": {
          "model_module": "@jupyter-widgets/base",
          "model_name": "LayoutModel",
          "model_module_version": "1.2.0",
          "state": {
            "_model_module": "@jupyter-widgets/base",
            "_model_module_version": "1.2.0",
            "_model_name": "LayoutModel",
            "_view_count": null,
            "_view_module": "@jupyter-widgets/base",
            "_view_module_version": "1.2.0",
            "_view_name": "LayoutView",
            "align_content": null,
            "align_items": null,
            "align_self": null,
            "border": null,
            "bottom": null,
            "display": null,
            "flex": null,
            "flex_flow": null,
            "grid_area": null,
            "grid_auto_columns": null,
            "grid_auto_flow": null,
            "grid_auto_rows": null,
            "grid_column": null,
            "grid_gap": null,
            "grid_row": null,
            "grid_template_areas": null,
            "grid_template_columns": null,
            "grid_template_rows": null,
            "height": null,
            "justify_content": null,
            "justify_items": null,
            "left": null,
            "margin": null,
            "max_height": null,
            "max_width": null,
            "min_height": null,
            "min_width": null,
            "object_fit": null,
            "object_position": null,
            "order": null,
            "overflow": null,
            "overflow_x": null,
            "overflow_y": null,
            "padding": null,
            "right": null,
            "top": null,
            "visibility": null,
            "width": null
          }
        },
        "abc9604654694886897faa10513224f0": {
          "model_module": "@jupyter-widgets/controls",
          "model_name": "DescriptionStyleModel",
          "model_module_version": "1.5.0",
          "state": {
            "_model_module": "@jupyter-widgets/controls",
            "_model_module_version": "1.5.0",
            "_model_name": "DescriptionStyleModel",
            "_view_count": null,
            "_view_module": "@jupyter-widgets/base",
            "_view_module_version": "1.2.0",
            "_view_name": "StyleView",
            "description_width": ""
          }
        },
        "f311438b01f3421bb81cffd0c2800ac7": {
          "model_module": "@jupyter-widgets/controls",
          "model_name": "HBoxModel",
          "model_module_version": "1.5.0",
          "state": {
            "_dom_classes": [],
            "_model_module": "@jupyter-widgets/controls",
            "_model_module_version": "1.5.0",
            "_model_name": "HBoxModel",
            "_view_count": null,
            "_view_module": "@jupyter-widgets/controls",
            "_view_module_version": "1.5.0",
            "_view_name": "HBoxView",
            "box_style": "",
            "children": [
              "IPY_MODEL_951faeea8d974cac8675af6a2ee1b3f7",
              "IPY_MODEL_f18c774f4aa54ea4b22306a226d02f81",
              "IPY_MODEL_a6bdb6132d3942639adbfa81d5626566"
            ],
            "layout": "IPY_MODEL_f6295c8c929c483f90cc2408bbe12a3a"
          }
        },
        "951faeea8d974cac8675af6a2ee1b3f7": {
          "model_module": "@jupyter-widgets/controls",
          "model_name": "HTMLModel",
          "model_module_version": "1.5.0",
          "state": {
            "_dom_classes": [],
            "_model_module": "@jupyter-widgets/controls",
            "_model_module_version": "1.5.0",
            "_model_name": "HTMLModel",
            "_view_count": null,
            "_view_module": "@jupyter-widgets/controls",
            "_view_module_version": "1.5.0",
            "_view_name": "HTMLView",
            "description": "",
            "description_tooltip": null,
            "layout": "IPY_MODEL_31cbb066ec6c4c73a556276417c3401b",
            "placeholder": "​",
            "style": "IPY_MODEL_dacb9d034ac44a3389891c4cf9093c66",
            "value": "Best trial: 0. Best value: 0.778179:   1%"
          }
        },
        "f18c774f4aa54ea4b22306a226d02f81": {
          "model_module": "@jupyter-widgets/controls",
          "model_name": "FloatProgressModel",
          "model_module_version": "1.5.0",
          "state": {
            "_dom_classes": [],
            "_model_module": "@jupyter-widgets/controls",
            "_model_module_version": "1.5.0",
            "_model_name": "FloatProgressModel",
            "_view_count": null,
            "_view_module": "@jupyter-widgets/controls",
            "_view_module_version": "1.5.0",
            "_view_name": "ProgressView",
            "bar_style": "",
            "description": "",
            "description_tooltip": null,
            "layout": "IPY_MODEL_e41203fa48a9474bad564cd97bd9d72f",
            "max": 500,
            "min": 0,
            "orientation": "horizontal",
            "style": "IPY_MODEL_70ad26c5c03441d5a7be92d47afa514b",
            "value": 4
          }
        },
        "a6bdb6132d3942639adbfa81d5626566": {
          "model_module": "@jupyter-widgets/controls",
          "model_name": "HTMLModel",
          "model_module_version": "1.5.0",
          "state": {
            "_dom_classes": [],
            "_model_module": "@jupyter-widgets/controls",
            "_model_module_version": "1.5.0",
            "_model_name": "HTMLModel",
            "_view_count": null,
            "_view_module": "@jupyter-widgets/controls",
            "_view_module_version": "1.5.0",
            "_view_name": "HTMLView",
            "description": "",
            "description_tooltip": null,
            "layout": "IPY_MODEL_362b57e68bc242cebdf1b0603cd4d4a0",
            "placeholder": "​",
            "style": "IPY_MODEL_5d6ac588bb78453cb0071cbd6a10d140",
            "value": " 4/500 [23:17&lt;41:24:40, 300.57s/it]"
          }
        },
        "f6295c8c929c483f90cc2408bbe12a3a": {
          "model_module": "@jupyter-widgets/base",
          "model_name": "LayoutModel",
          "model_module_version": "1.2.0",
          "state": {
            "_model_module": "@jupyter-widgets/base",
            "_model_module_version": "1.2.0",
            "_model_name": "LayoutModel",
            "_view_count": null,
            "_view_module": "@jupyter-widgets/base",
            "_view_module_version": "1.2.0",
            "_view_name": "LayoutView",
            "align_content": null,
            "align_items": null,
            "align_self": null,
            "border": null,
            "bottom": null,
            "display": null,
            "flex": null,
            "flex_flow": null,
            "grid_area": null,
            "grid_auto_columns": null,
            "grid_auto_flow": null,
            "grid_auto_rows": null,
            "grid_column": null,
            "grid_gap": null,
            "grid_row": null,
            "grid_template_areas": null,
            "grid_template_columns": null,
            "grid_template_rows": null,
            "height": null,
            "justify_content": null,
            "justify_items": null,
            "left": null,
            "margin": null,
            "max_height": null,
            "max_width": null,
            "min_height": null,
            "min_width": null,
            "object_fit": null,
            "object_position": null,
            "order": null,
            "overflow": null,
            "overflow_x": null,
            "overflow_y": null,
            "padding": null,
            "right": null,
            "top": null,
            "visibility": null,
            "width": null
          }
        },
        "31cbb066ec6c4c73a556276417c3401b": {
          "model_module": "@jupyter-widgets/base",
          "model_name": "LayoutModel",
          "model_module_version": "1.2.0",
          "state": {
            "_model_module": "@jupyter-widgets/base",
            "_model_module_version": "1.2.0",
            "_model_name": "LayoutModel",
            "_view_count": null,
            "_view_module": "@jupyter-widgets/base",
            "_view_module_version": "1.2.0",
            "_view_name": "LayoutView",
            "align_content": null,
            "align_items": null,
            "align_self": null,
            "border": null,
            "bottom": null,
            "display": null,
            "flex": null,
            "flex_flow": null,
            "grid_area": null,
            "grid_auto_columns": null,
            "grid_auto_flow": null,
            "grid_auto_rows": null,
            "grid_column": null,
            "grid_gap": null,
            "grid_row": null,
            "grid_template_areas": null,
            "grid_template_columns": null,
            "grid_template_rows": null,
            "height": null,
            "justify_content": null,
            "justify_items": null,
            "left": null,
            "margin": null,
            "max_height": null,
            "max_width": null,
            "min_height": null,
            "min_width": null,
            "object_fit": null,
            "object_position": null,
            "order": null,
            "overflow": null,
            "overflow_x": null,
            "overflow_y": null,
            "padding": null,
            "right": null,
            "top": null,
            "visibility": null,
            "width": null
          }
        },
        "dacb9d034ac44a3389891c4cf9093c66": {
          "model_module": "@jupyter-widgets/controls",
          "model_name": "DescriptionStyleModel",
          "model_module_version": "1.5.0",
          "state": {
            "_model_module": "@jupyter-widgets/controls",
            "_model_module_version": "1.5.0",
            "_model_name": "DescriptionStyleModel",
            "_view_count": null,
            "_view_module": "@jupyter-widgets/base",
            "_view_module_version": "1.2.0",
            "_view_name": "StyleView",
            "description_width": ""
          }
        },
        "e41203fa48a9474bad564cd97bd9d72f": {
          "model_module": "@jupyter-widgets/base",
          "model_name": "LayoutModel",
          "model_module_version": "1.2.0",
          "state": {
            "_model_module": "@jupyter-widgets/base",
            "_model_module_version": "1.2.0",
            "_model_name": "LayoutModel",
            "_view_count": null,
            "_view_module": "@jupyter-widgets/base",
            "_view_module_version": "1.2.0",
            "_view_name": "LayoutView",
            "align_content": null,
            "align_items": null,
            "align_self": null,
            "border": null,
            "bottom": null,
            "display": null,
            "flex": null,
            "flex_flow": null,
            "grid_area": null,
            "grid_auto_columns": null,
            "grid_auto_flow": null,
            "grid_auto_rows": null,
            "grid_column": null,
            "grid_gap": null,
            "grid_row": null,
            "grid_template_areas": null,
            "grid_template_columns": null,
            "grid_template_rows": null,
            "height": null,
            "justify_content": null,
            "justify_items": null,
            "left": null,
            "margin": null,
            "max_height": null,
            "max_width": null,
            "min_height": null,
            "min_width": null,
            "object_fit": null,
            "object_position": null,
            "order": null,
            "overflow": null,
            "overflow_x": null,
            "overflow_y": null,
            "padding": null,
            "right": null,
            "top": null,
            "visibility": null,
            "width": null
          }
        },
        "70ad26c5c03441d5a7be92d47afa514b": {
          "model_module": "@jupyter-widgets/controls",
          "model_name": "ProgressStyleModel",
          "model_module_version": "1.5.0",
          "state": {
            "_model_module": "@jupyter-widgets/controls",
            "_model_module_version": "1.5.0",
            "_model_name": "ProgressStyleModel",
            "_view_count": null,
            "_view_module": "@jupyter-widgets/base",
            "_view_module_version": "1.2.0",
            "_view_name": "StyleView",
            "bar_color": null,
            "description_width": ""
          }
        },
        "362b57e68bc242cebdf1b0603cd4d4a0": {
          "model_module": "@jupyter-widgets/base",
          "model_name": "LayoutModel",
          "model_module_version": "1.2.0",
          "state": {
            "_model_module": "@jupyter-widgets/base",
            "_model_module_version": "1.2.0",
            "_model_name": "LayoutModel",
            "_view_count": null,
            "_view_module": "@jupyter-widgets/base",
            "_view_module_version": "1.2.0",
            "_view_name": "LayoutView",
            "align_content": null,
            "align_items": null,
            "align_self": null,
            "border": null,
            "bottom": null,
            "display": null,
            "flex": null,
            "flex_flow": null,
            "grid_area": null,
            "grid_auto_columns": null,
            "grid_auto_flow": null,
            "grid_auto_rows": null,
            "grid_column": null,
            "grid_gap": null,
            "grid_row": null,
            "grid_template_areas": null,
            "grid_template_columns": null,
            "grid_template_rows": null,
            "height": null,
            "justify_content": null,
            "justify_items": null,
            "left": null,
            "margin": null,
            "max_height": null,
            "max_width": null,
            "min_height": null,
            "min_width": null,
            "object_fit": null,
            "object_position": null,
            "order": null,
            "overflow": null,
            "overflow_x": null,
            "overflow_y": null,
            "padding": null,
            "right": null,
            "top": null,
            "visibility": null,
            "width": null
          }
        },
        "5d6ac588bb78453cb0071cbd6a10d140": {
          "model_module": "@jupyter-widgets/controls",
          "model_name": "DescriptionStyleModel",
          "model_module_version": "1.5.0",
          "state": {
            "_model_module": "@jupyter-widgets/controls",
            "_model_module_version": "1.5.0",
            "_model_name": "DescriptionStyleModel",
            "_view_count": null,
            "_view_module": "@jupyter-widgets/base",
            "_view_module_version": "1.2.0",
            "_view_name": "StyleView",
            "description_width": ""
          }
        },
        "bd2ee074eee84df78ee890aa2ea16473": {
          "model_module": "@jupyter-widgets/controls",
          "model_name": "HBoxModel",
          "model_module_version": "1.5.0",
          "state": {
            "_dom_classes": [],
            "_model_module": "@jupyter-widgets/controls",
            "_model_module_version": "1.5.0",
            "_model_name": "HBoxModel",
            "_view_count": null,
            "_view_module": "@jupyter-widgets/controls",
            "_view_module_version": "1.5.0",
            "_view_name": "HBoxView",
            "box_style": "",
            "children": [
              "IPY_MODEL_357adc5279d4424ea61ede344c6aeb59",
              "IPY_MODEL_63d771b8f3da481ca9b400bfe5ba11a8",
              "IPY_MODEL_80326f88a1204dc38c71221ddd40debd"
            ],
            "layout": "IPY_MODEL_30a8c2219c45408bb6cbfaa491bccaec"
          }
        },
        "357adc5279d4424ea61ede344c6aeb59": {
          "model_module": "@jupyter-widgets/controls",
          "model_name": "HTMLModel",
          "model_module_version": "1.5.0",
          "state": {
            "_dom_classes": [],
            "_model_module": "@jupyter-widgets/controls",
            "_model_module_version": "1.5.0",
            "_model_name": "HTMLModel",
            "_view_count": null,
            "_view_module": "@jupyter-widgets/controls",
            "_view_module_version": "1.5.0",
            "_view_name": "HTMLView",
            "description": "",
            "description_tooltip": null,
            "layout": "IPY_MODEL_14acd0d317034b35a5703c6f934e7383",
            "placeholder": "​",
            "style": "IPY_MODEL_cfb3749502c94fcda1065c41ddaebbd1",
            "value": "Best trial: 231. Best value: 0.805303: 100%"
          }
        },
        "63d771b8f3da481ca9b400bfe5ba11a8": {
          "model_module": "@jupyter-widgets/controls",
          "model_name": "FloatProgressModel",
          "model_module_version": "1.5.0",
          "state": {
            "_dom_classes": [],
            "_model_module": "@jupyter-widgets/controls",
            "_model_module_version": "1.5.0",
            "_model_name": "FloatProgressModel",
            "_view_count": null,
            "_view_module": "@jupyter-widgets/controls",
            "_view_module_version": "1.5.0",
            "_view_name": "ProgressView",
            "bar_style": "success",
            "description": "",
            "description_tooltip": null,
            "layout": "IPY_MODEL_44e09adda7ce41869369fce960eb6be2",
            "max": 500,
            "min": 0,
            "orientation": "horizontal",
            "style": "IPY_MODEL_69b8ce1a0f3c4e8f9bcf03895ac22d51",
            "value": 500
          }
        },
        "80326f88a1204dc38c71221ddd40debd": {
          "model_module": "@jupyter-widgets/controls",
          "model_name": "HTMLModel",
          "model_module_version": "1.5.0",
          "state": {
            "_dom_classes": [],
            "_model_module": "@jupyter-widgets/controls",
            "_model_module_version": "1.5.0",
            "_model_name": "HTMLModel",
            "_view_count": null,
            "_view_module": "@jupyter-widgets/controls",
            "_view_module_version": "1.5.0",
            "_view_name": "HTMLView",
            "description": "",
            "description_tooltip": null,
            "layout": "IPY_MODEL_f62435581c4145b7b19f749f97f13573",
            "placeholder": "​",
            "style": "IPY_MODEL_5f683cef69f84b55b9b5af6b9a96789e",
            "value": " 500/500 [6:12:29&lt;00:00, 42.75s/it]"
          }
        },
        "30a8c2219c45408bb6cbfaa491bccaec": {
          "model_module": "@jupyter-widgets/base",
          "model_name": "LayoutModel",
          "model_module_version": "1.2.0",
          "state": {
            "_model_module": "@jupyter-widgets/base",
            "_model_module_version": "1.2.0",
            "_model_name": "LayoutModel",
            "_view_count": null,
            "_view_module": "@jupyter-widgets/base",
            "_view_module_version": "1.2.0",
            "_view_name": "LayoutView",
            "align_content": null,
            "align_items": null,
            "align_self": null,
            "border": null,
            "bottom": null,
            "display": null,
            "flex": null,
            "flex_flow": null,
            "grid_area": null,
            "grid_auto_columns": null,
            "grid_auto_flow": null,
            "grid_auto_rows": null,
            "grid_column": null,
            "grid_gap": null,
            "grid_row": null,
            "grid_template_areas": null,
            "grid_template_columns": null,
            "grid_template_rows": null,
            "height": null,
            "justify_content": null,
            "justify_items": null,
            "left": null,
            "margin": null,
            "max_height": null,
            "max_width": null,
            "min_height": null,
            "min_width": null,
            "object_fit": null,
            "object_position": null,
            "order": null,
            "overflow": null,
            "overflow_x": null,
            "overflow_y": null,
            "padding": null,
            "right": null,
            "top": null,
            "visibility": null,
            "width": null
          }
        },
        "14acd0d317034b35a5703c6f934e7383": {
          "model_module": "@jupyter-widgets/base",
          "model_name": "LayoutModel",
          "model_module_version": "1.2.0",
          "state": {
            "_model_module": "@jupyter-widgets/base",
            "_model_module_version": "1.2.0",
            "_model_name": "LayoutModel",
            "_view_count": null,
            "_view_module": "@jupyter-widgets/base",
            "_view_module_version": "1.2.0",
            "_view_name": "LayoutView",
            "align_content": null,
            "align_items": null,
            "align_self": null,
            "border": null,
            "bottom": null,
            "display": null,
            "flex": null,
            "flex_flow": null,
            "grid_area": null,
            "grid_auto_columns": null,
            "grid_auto_flow": null,
            "grid_auto_rows": null,
            "grid_column": null,
            "grid_gap": null,
            "grid_row": null,
            "grid_template_areas": null,
            "grid_template_columns": null,
            "grid_template_rows": null,
            "height": null,
            "justify_content": null,
            "justify_items": null,
            "left": null,
            "margin": null,
            "max_height": null,
            "max_width": null,
            "min_height": null,
            "min_width": null,
            "object_fit": null,
            "object_position": null,
            "order": null,
            "overflow": null,
            "overflow_x": null,
            "overflow_y": null,
            "padding": null,
            "right": null,
            "top": null,
            "visibility": null,
            "width": null
          }
        },
        "cfb3749502c94fcda1065c41ddaebbd1": {
          "model_module": "@jupyter-widgets/controls",
          "model_name": "DescriptionStyleModel",
          "model_module_version": "1.5.0",
          "state": {
            "_model_module": "@jupyter-widgets/controls",
            "_model_module_version": "1.5.0",
            "_model_name": "DescriptionStyleModel",
            "_view_count": null,
            "_view_module": "@jupyter-widgets/base",
            "_view_module_version": "1.2.0",
            "_view_name": "StyleView",
            "description_width": ""
          }
        },
        "44e09adda7ce41869369fce960eb6be2": {
          "model_module": "@jupyter-widgets/base",
          "model_name": "LayoutModel",
          "model_module_version": "1.2.0",
          "state": {
            "_model_module": "@jupyter-widgets/base",
            "_model_module_version": "1.2.0",
            "_model_name": "LayoutModel",
            "_view_count": null,
            "_view_module": "@jupyter-widgets/base",
            "_view_module_version": "1.2.0",
            "_view_name": "LayoutView",
            "align_content": null,
            "align_items": null,
            "align_self": null,
            "border": null,
            "bottom": null,
            "display": null,
            "flex": null,
            "flex_flow": null,
            "grid_area": null,
            "grid_auto_columns": null,
            "grid_auto_flow": null,
            "grid_auto_rows": null,
            "grid_column": null,
            "grid_gap": null,
            "grid_row": null,
            "grid_template_areas": null,
            "grid_template_columns": null,
            "grid_template_rows": null,
            "height": null,
            "justify_content": null,
            "justify_items": null,
            "left": null,
            "margin": null,
            "max_height": null,
            "max_width": null,
            "min_height": null,
            "min_width": null,
            "object_fit": null,
            "object_position": null,
            "order": null,
            "overflow": null,
            "overflow_x": null,
            "overflow_y": null,
            "padding": null,
            "right": null,
            "top": null,
            "visibility": null,
            "width": null
          }
        },
        "69b8ce1a0f3c4e8f9bcf03895ac22d51": {
          "model_module": "@jupyter-widgets/controls",
          "model_name": "ProgressStyleModel",
          "model_module_version": "1.5.0",
          "state": {
            "_model_module": "@jupyter-widgets/controls",
            "_model_module_version": "1.5.0",
            "_model_name": "ProgressStyleModel",
            "_view_count": null,
            "_view_module": "@jupyter-widgets/base",
            "_view_module_version": "1.2.0",
            "_view_name": "StyleView",
            "bar_color": null,
            "description_width": ""
          }
        },
        "f62435581c4145b7b19f749f97f13573": {
          "model_module": "@jupyter-widgets/base",
          "model_name": "LayoutModel",
          "model_module_version": "1.2.0",
          "state": {
            "_model_module": "@jupyter-widgets/base",
            "_model_module_version": "1.2.0",
            "_model_name": "LayoutModel",
            "_view_count": null,
            "_view_module": "@jupyter-widgets/base",
            "_view_module_version": "1.2.0",
            "_view_name": "LayoutView",
            "align_content": null,
            "align_items": null,
            "align_self": null,
            "border": null,
            "bottom": null,
            "display": null,
            "flex": null,
            "flex_flow": null,
            "grid_area": null,
            "grid_auto_columns": null,
            "grid_auto_flow": null,
            "grid_auto_rows": null,
            "grid_column": null,
            "grid_gap": null,
            "grid_row": null,
            "grid_template_areas": null,
            "grid_template_columns": null,
            "grid_template_rows": null,
            "height": null,
            "justify_content": null,
            "justify_items": null,
            "left": null,
            "margin": null,
            "max_height": null,
            "max_width": null,
            "min_height": null,
            "min_width": null,
            "object_fit": null,
            "object_position": null,
            "order": null,
            "overflow": null,
            "overflow_x": null,
            "overflow_y": null,
            "padding": null,
            "right": null,
            "top": null,
            "visibility": null,
            "width": null
          }
        },
        "5f683cef69f84b55b9b5af6b9a96789e": {
          "model_module": "@jupyter-widgets/controls",
          "model_name": "DescriptionStyleModel",
          "model_module_version": "1.5.0",
          "state": {
            "_model_module": "@jupyter-widgets/controls",
            "_model_module_version": "1.5.0",
            "_model_name": "DescriptionStyleModel",
            "_view_count": null,
            "_view_module": "@jupyter-widgets/base",
            "_view_module_version": "1.2.0",
            "_view_name": "StyleView",
            "description_width": ""
          }
        },
        "4a4e1033661943ab8ff3fd93642d0bae": {
          "model_module": "@jupyter-widgets/controls",
          "model_name": "HBoxModel",
          "model_module_version": "1.5.0",
          "state": {
            "_dom_classes": [],
            "_model_module": "@jupyter-widgets/controls",
            "_model_module_version": "1.5.0",
            "_model_name": "HBoxModel",
            "_view_count": null,
            "_view_module": "@jupyter-widgets/controls",
            "_view_module_version": "1.5.0",
            "_view_name": "HBoxView",
            "box_style": "",
            "children": [
              "IPY_MODEL_c9f77de4f4b94a9c8578e6f833edbfa6",
              "IPY_MODEL_0799200ed8e7468099f8a098464f4f6f",
              "IPY_MODEL_58e9485a394c49b19fce291e015ec4ca"
            ],
            "layout": "IPY_MODEL_ec74ce8fb5664ae78ec7dcab7bbfdc55"
          }
        },
        "c9f77de4f4b94a9c8578e6f833edbfa6": {
          "model_module": "@jupyter-widgets/controls",
          "model_name": "HTMLModel",
          "model_module_version": "1.5.0",
          "state": {
            "_dom_classes": [],
            "_model_module": "@jupyter-widgets/controls",
            "_model_module_version": "1.5.0",
            "_model_name": "HTMLModel",
            "_view_count": null,
            "_view_module": "@jupyter-widgets/controls",
            "_view_module_version": "1.5.0",
            "_view_name": "HTMLView",
            "description": "",
            "description_tooltip": null,
            "layout": "IPY_MODEL_2c547fe9a1584aa6b4918772c0526dd8",
            "placeholder": "​",
            "style": "IPY_MODEL_accaf6fecc014244b4c81477ff81d877",
            "value": "Best trial: 211. Best value: 0.803201: 100%"
          }
        },
        "0799200ed8e7468099f8a098464f4f6f": {
          "model_module": "@jupyter-widgets/controls",
          "model_name": "FloatProgressModel",
          "model_module_version": "1.5.0",
          "state": {
            "_dom_classes": [],
            "_model_module": "@jupyter-widgets/controls",
            "_model_module_version": "1.5.0",
            "_model_name": "FloatProgressModel",
            "_view_count": null,
            "_view_module": "@jupyter-widgets/controls",
            "_view_module_version": "1.5.0",
            "_view_name": "ProgressView",
            "bar_style": "success",
            "description": "",
            "description_tooltip": null,
            "layout": "IPY_MODEL_8bccdffd0937499ebe6ce92fc202f910",
            "max": 500,
            "min": 0,
            "orientation": "horizontal",
            "style": "IPY_MODEL_64a078c4ebbb4b73b703d4043099b1ca",
            "value": 500
          }
        },
        "58e9485a394c49b19fce291e015ec4ca": {
          "model_module": "@jupyter-widgets/controls",
          "model_name": "HTMLModel",
          "model_module_version": "1.5.0",
          "state": {
            "_dom_classes": [],
            "_model_module": "@jupyter-widgets/controls",
            "_model_module_version": "1.5.0",
            "_model_name": "HTMLModel",
            "_view_count": null,
            "_view_module": "@jupyter-widgets/controls",
            "_view_module_version": "1.5.0",
            "_view_name": "HTMLView",
            "description": "",
            "description_tooltip": null,
            "layout": "IPY_MODEL_9a70d3d99f5d4ffd80a8c4fa20d443ad",
            "placeholder": "​",
            "style": "IPY_MODEL_c89f224206514d89a14bb2c54c604ce3",
            "value": " 500/500 [2:06:50&lt;00:00, 16.64s/it]"
          }
        },
        "ec74ce8fb5664ae78ec7dcab7bbfdc55": {
          "model_module": "@jupyter-widgets/base",
          "model_name": "LayoutModel",
          "model_module_version": "1.2.0",
          "state": {
            "_model_module": "@jupyter-widgets/base",
            "_model_module_version": "1.2.0",
            "_model_name": "LayoutModel",
            "_view_count": null,
            "_view_module": "@jupyter-widgets/base",
            "_view_module_version": "1.2.0",
            "_view_name": "LayoutView",
            "align_content": null,
            "align_items": null,
            "align_self": null,
            "border": null,
            "bottom": null,
            "display": null,
            "flex": null,
            "flex_flow": null,
            "grid_area": null,
            "grid_auto_columns": null,
            "grid_auto_flow": null,
            "grid_auto_rows": null,
            "grid_column": null,
            "grid_gap": null,
            "grid_row": null,
            "grid_template_areas": null,
            "grid_template_columns": null,
            "grid_template_rows": null,
            "height": null,
            "justify_content": null,
            "justify_items": null,
            "left": null,
            "margin": null,
            "max_height": null,
            "max_width": null,
            "min_height": null,
            "min_width": null,
            "object_fit": null,
            "object_position": null,
            "order": null,
            "overflow": null,
            "overflow_x": null,
            "overflow_y": null,
            "padding": null,
            "right": null,
            "top": null,
            "visibility": null,
            "width": null
          }
        },
        "2c547fe9a1584aa6b4918772c0526dd8": {
          "model_module": "@jupyter-widgets/base",
          "model_name": "LayoutModel",
          "model_module_version": "1.2.0",
          "state": {
            "_model_module": "@jupyter-widgets/base",
            "_model_module_version": "1.2.0",
            "_model_name": "LayoutModel",
            "_view_count": null,
            "_view_module": "@jupyter-widgets/base",
            "_view_module_version": "1.2.0",
            "_view_name": "LayoutView",
            "align_content": null,
            "align_items": null,
            "align_self": null,
            "border": null,
            "bottom": null,
            "display": null,
            "flex": null,
            "flex_flow": null,
            "grid_area": null,
            "grid_auto_columns": null,
            "grid_auto_flow": null,
            "grid_auto_rows": null,
            "grid_column": null,
            "grid_gap": null,
            "grid_row": null,
            "grid_template_areas": null,
            "grid_template_columns": null,
            "grid_template_rows": null,
            "height": null,
            "justify_content": null,
            "justify_items": null,
            "left": null,
            "margin": null,
            "max_height": null,
            "max_width": null,
            "min_height": null,
            "min_width": null,
            "object_fit": null,
            "object_position": null,
            "order": null,
            "overflow": null,
            "overflow_x": null,
            "overflow_y": null,
            "padding": null,
            "right": null,
            "top": null,
            "visibility": null,
            "width": null
          }
        },
        "accaf6fecc014244b4c81477ff81d877": {
          "model_module": "@jupyter-widgets/controls",
          "model_name": "DescriptionStyleModel",
          "model_module_version": "1.5.0",
          "state": {
            "_model_module": "@jupyter-widgets/controls",
            "_model_module_version": "1.5.0",
            "_model_name": "DescriptionStyleModel",
            "_view_count": null,
            "_view_module": "@jupyter-widgets/base",
            "_view_module_version": "1.2.0",
            "_view_name": "StyleView",
            "description_width": ""
          }
        },
        "8bccdffd0937499ebe6ce92fc202f910": {
          "model_module": "@jupyter-widgets/base",
          "model_name": "LayoutModel",
          "model_module_version": "1.2.0",
          "state": {
            "_model_module": "@jupyter-widgets/base",
            "_model_module_version": "1.2.0",
            "_model_name": "LayoutModel",
            "_view_count": null,
            "_view_module": "@jupyter-widgets/base",
            "_view_module_version": "1.2.0",
            "_view_name": "LayoutView",
            "align_content": null,
            "align_items": null,
            "align_self": null,
            "border": null,
            "bottom": null,
            "display": null,
            "flex": null,
            "flex_flow": null,
            "grid_area": null,
            "grid_auto_columns": null,
            "grid_auto_flow": null,
            "grid_auto_rows": null,
            "grid_column": null,
            "grid_gap": null,
            "grid_row": null,
            "grid_template_areas": null,
            "grid_template_columns": null,
            "grid_template_rows": null,
            "height": null,
            "justify_content": null,
            "justify_items": null,
            "left": null,
            "margin": null,
            "max_height": null,
            "max_width": null,
            "min_height": null,
            "min_width": null,
            "object_fit": null,
            "object_position": null,
            "order": null,
            "overflow": null,
            "overflow_x": null,
            "overflow_y": null,
            "padding": null,
            "right": null,
            "top": null,
            "visibility": null,
            "width": null
          }
        },
        "64a078c4ebbb4b73b703d4043099b1ca": {
          "model_module": "@jupyter-widgets/controls",
          "model_name": "ProgressStyleModel",
          "model_module_version": "1.5.0",
          "state": {
            "_model_module": "@jupyter-widgets/controls",
            "_model_module_version": "1.5.0",
            "_model_name": "ProgressStyleModel",
            "_view_count": null,
            "_view_module": "@jupyter-widgets/base",
            "_view_module_version": "1.2.0",
            "_view_name": "StyleView",
            "bar_color": null,
            "description_width": ""
          }
        },
        "9a70d3d99f5d4ffd80a8c4fa20d443ad": {
          "model_module": "@jupyter-widgets/base",
          "model_name": "LayoutModel",
          "model_module_version": "1.2.0",
          "state": {
            "_model_module": "@jupyter-widgets/base",
            "_model_module_version": "1.2.0",
            "_model_name": "LayoutModel",
            "_view_count": null,
            "_view_module": "@jupyter-widgets/base",
            "_view_module_version": "1.2.0",
            "_view_name": "LayoutView",
            "align_content": null,
            "align_items": null,
            "align_self": null,
            "border": null,
            "bottom": null,
            "display": null,
            "flex": null,
            "flex_flow": null,
            "grid_area": null,
            "grid_auto_columns": null,
            "grid_auto_flow": null,
            "grid_auto_rows": null,
            "grid_column": null,
            "grid_gap": null,
            "grid_row": null,
            "grid_template_areas": null,
            "grid_template_columns": null,
            "grid_template_rows": null,
            "height": null,
            "justify_content": null,
            "justify_items": null,
            "left": null,
            "margin": null,
            "max_height": null,
            "max_width": null,
            "min_height": null,
            "min_width": null,
            "object_fit": null,
            "object_position": null,
            "order": null,
            "overflow": null,
            "overflow_x": null,
            "overflow_y": null,
            "padding": null,
            "right": null,
            "top": null,
            "visibility": null,
            "width": null
          }
        },
        "c89f224206514d89a14bb2c54c604ce3": {
          "model_module": "@jupyter-widgets/controls",
          "model_name": "DescriptionStyleModel",
          "model_module_version": "1.5.0",
          "state": {
            "_model_module": "@jupyter-widgets/controls",
            "_model_module_version": "1.5.0",
            "_model_name": "DescriptionStyleModel",
            "_view_count": null,
            "_view_module": "@jupyter-widgets/base",
            "_view_module_version": "1.2.0",
            "_view_name": "StyleView",
            "description_width": ""
          }
        }
      }
    }
  },
  "cells": [
    {
      "cell_type": "markdown",
      "metadata": {
        "id": "view-in-github",
        "colab_type": "text"
      },
      "source": [
        "<a href=\"https://colab.research.google.com/github/LeeSeungwon89/Kaggle_Dacon_Practice/blob/main/4.%20Categorical_Feature_Encoding_Challenge_improve_model_performance2.ipynb\" target=\"_parent\"><img src=\"https://colab.research.google.com/assets/colab-badge.svg\" alt=\"Open In Colab\"/></a>"
      ]
    },
    {
      "cell_type": "code",
      "execution_count": null,
      "metadata": {
        "id": "9m9nsEewr9Da"
      },
      "outputs": [],
      "source": [
        "!pip install kaggle\n",
        "from google.colab import files\n",
        "files.upload()"
      ]
    },
    {
      "cell_type": "code",
      "source": [
        "ls -1ha kaggle.json"
      ],
      "metadata": {
        "colab": {
          "base_uri": "https://localhost:8080/"
        },
        "id": "vBIPCwbvsN7X",
        "outputId": "f4c42adc-8abb-4474-d8ac-1049dce36eca"
      },
      "execution_count": 3,
      "outputs": [
        {
          "output_type": "stream",
          "name": "stdout",
          "text": [
            "kaggle.json\n"
          ]
        }
      ]
    },
    {
      "cell_type": "code",
      "source": [
        "!mkdir -p ~/.kaggle\n",
        "!cp kaggle.json ~/.kaggle/\n",
        "\n",
        "# Permission Warning이 발생하지 않도록 해줍니다.\n",
        "!chmod 600 ~/.kaggle/kaggle.json\n",
        "\n",
        "# 참가한 대회 리스트를 확인합니다.\n",
        "# !kaggle competitions list"
      ],
      "metadata": {
        "id": "6abqZTxNsO-J"
      },
      "execution_count": 4,
      "outputs": []
    },
    {
      "cell_type": "code",
      "source": [
        "!kaggle competitions download -c cat-in-the-dat"
      ],
      "metadata": {
        "colab": {
          "base_uri": "https://localhost:8080/"
        },
        "id": "brHHrTx_sRbP",
        "outputId": "fb8e2106-3db0-41b1-a74e-dc8e5211cd39"
      },
      "execution_count": 5,
      "outputs": [
        {
          "output_type": "stream",
          "name": "stdout",
          "text": [
            "Downloading cat-in-the-dat.zip to /content\n",
            " 42% 9.00M/21.2M [00:00<00:00, 69.4MB/s]\n",
            "100% 21.2M/21.2M [00:00<00:00, 123MB/s] \n"
          ]
        }
      ]
    },
    {
      "cell_type": "code",
      "source": [
        "!ls"
      ],
      "metadata": {
        "colab": {
          "base_uri": "https://localhost:8080/"
        },
        "id": "6L3WGetdsUXQ",
        "outputId": "55ba7893-76db-4466-dfb2-e20c396cf866"
      },
      "execution_count": 6,
      "outputs": [
        {
          "output_type": "stream",
          "name": "stdout",
          "text": [
            "cat-in-the-dat.zip  kaggle.json  sample_data\n"
          ]
        }
      ]
    },
    {
      "cell_type": "code",
      "source": [
        "!unzip cat-in-the-dat.zip"
      ],
      "metadata": {
        "colab": {
          "base_uri": "https://localhost:8080/"
        },
        "id": "w0dL3PSNsWBG",
        "outputId": "35008887-326f-4357-df66-f805876aea72"
      },
      "execution_count": 7,
      "outputs": [
        {
          "output_type": "stream",
          "name": "stdout",
          "text": [
            "Archive:  cat-in-the-dat.zip\n",
            "  inflating: sample_submission.csv   \n",
            "  inflating: test.csv                \n",
            "  inflating: train.csv               \n"
          ]
        }
      ]
    },
    {
      "cell_type": "markdown",
      "source": [
        "# **1. 모델 성능 개선 절차**"
      ],
      "metadata": {
        "id": "DbQ-udrePSVG"
      }
    },
    {
      "cell_type": "markdown",
      "source": [
        "이번 챕터에서는 XGBoost, LightGBM 모델의 하이퍼파라미터를 하나씩 추가하면서 최적 하이퍼파라미터를 도출해 보겠습니다. 아울러 학습 세트와 검증 세트의 비율을 0.1로 낮추고 다시 최적 하이퍼파라미터를 도출하여 모델 성능 차이를 확인해 보겠습니다."
      ],
      "metadata": {
        "id": "CH7YNsiCPYiM"
      }
    },
    {
      "cell_type": "markdown",
      "source": [
        "# **2. 피처 엔지니어링**"
      ],
      "metadata": {
        "id": "XsTi7HXishk9"
      }
    },
    {
      "cell_type": "markdown",
      "source": [
        "## **2.1. 데이터 준비**"
      ],
      "metadata": {
        "id": "Kle0eYWFsrEd"
      }
    },
    {
      "cell_type": "markdown",
      "source": [
        "데이터를 준비하겠습니다. 'id' 피처의 고윳값 개수가 레코드 개수와 일치하므로 'id' 피처를 인덱스로 삼겠습니다."
      ],
      "metadata": {
        "id": "wOyaDQuHtl_c"
      }
    },
    {
      "cell_type": "code",
      "source": [
        "import numpy as np\n",
        "import pandas as pd\n",
        "\n",
        "# 최대 행렬 수를 설정합니다.\n",
        "pd.set_option('display.max_column', 50)\n",
        "pd.set_option('display.max_rows', 50)\n",
        "\n",
        "# 데이터를 읽습니다. 'id' 피처는 인덱스로 지정합니다.\n",
        "train = pd.read_csv('train.csv', index_col='id')\n",
        "test = pd.read_csv('test.csv', index_col='id')\n",
        "submission = pd.read_csv('sample_submission.csv', index_col='id')"
      ],
      "metadata": {
        "id": "XeHtbkdbsfX-"
      },
      "execution_count": 8,
      "outputs": []
    },
    {
      "cell_type": "markdown",
      "source": [
        "훈련 세트와 테스트 세트를 위아래로 쌓고 데이터 정보를 확인하겠습니다."
      ],
      "metadata": {
        "id": "VQsPJIkQt5pV"
      }
    },
    {
      "cell_type": "code",
      "source": [
        "all_data = pd.concat([train, test], ignore_index=False)\n",
        "all_data"
      ],
      "metadata": {
        "colab": {
          "base_uri": "https://localhost:8080/",
          "height": 455
        },
        "id": "sJwUrxhlsza3",
        "outputId": "6cf09796-ef16-4166-a4f8-7e479c61c599"
      },
      "execution_count": 9,
      "outputs": [
        {
          "output_type": "execute_result",
          "data": {
            "text/plain": [
              "        bin_0  bin_1  bin_2 bin_3 bin_4  nom_0      nom_1    nom_2  \\\n",
              "id                                                                   \n",
              "0           0      0      0     T     Y  Green   Triangle    Snake   \n",
              "1           0      1      0     T     Y  Green  Trapezoid  Hamster   \n",
              "2           0      0      0     F     Y   Blue  Trapezoid     Lion   \n",
              "3           0      1      0     F     Y    Red  Trapezoid    Snake   \n",
              "4           0      0      0     F     N    Red  Trapezoid     Lion   \n",
              "...       ...    ...    ...   ...   ...    ...        ...      ...   \n",
              "499995      0      0      0     F     N  Green     Square     Lion   \n",
              "499996      1      0      0     F     Y  Green  Trapezoid     Lion   \n",
              "499997      0      1      1     T     Y  Green  Trapezoid     Lion   \n",
              "499998      1      0      0     T     Y   Blue       Star  Hamster   \n",
              "499999      0      0      0     T     Y  Green       Star     Lion   \n",
              "\n",
              "             nom_3     nom_4      nom_5      nom_6      nom_7      nom_8  \\\n",
              "id                                                                         \n",
              "0          Finland   Bassoon  50f116bcf  3ac1b8814  68f6ad3e9  c389000ab   \n",
              "1           Russia     Piano  b3b4d25d0  fbcb50fc1  3b6dd5612  4cd920251   \n",
              "2           Russia  Theremin  3263bdce5  0922e3cb8  a6a36f527  de9c9f684   \n",
              "3           Canada      Oboe  f12246592  50d7ad46a  ec69236eb  4ade6ab69   \n",
              "4           Canada      Oboe  5b0f5acd5  1fe17a1fd  04ddac2be  cb43ab175   \n",
              "...            ...       ...        ...        ...        ...        ...   \n",
              "499995      Canada  Theremin  6c90f81cd  a406a5f12  d02a6b0ba  9e4b23160   \n",
              "499996       China     Piano  2d61990e2  520806ce2  d2d8eabdb  cfbd87ed0   \n",
              "499997      Canada      Oboe  488406659  28645754b  22831fffe  1108bcd6c   \n",
              "499998  Costa Rica   Bassoon  f9d17bb93  2eadb68c5  fef807a3e  606ac930b   \n",
              "499999       India     Piano  a5c276589  c135cdf77  a8f53c631  4ea576eb6   \n",
              "\n",
              "            nom_9  ord_0        ord_1        ord_2 ord_3 ord_4 ord_5  day  \\\n",
              "id                                                                          \n",
              "0       2f4cb3d51      2  Grandmaster         Cold     h     D    kr    2   \n",
              "1       f83c56c21      1  Grandmaster          Hot     a     A    bF    7   \n",
              "2       ae6800dd0      1       Expert     Lava Hot     h     R    Jc    7   \n",
              "3       8270f0d71      1  Grandmaster  Boiling Hot     i     D    kW    2   \n",
              "4       b164b72a7      1  Grandmaster     Freezing     a     R    qP    7   \n",
              "...           ...    ...          ...          ...   ...   ...   ...  ...   \n",
              "499995  acc31291f      1       Novice     Lava Hot     j     A    Gb    1   \n",
              "499996  eae3446d0      1  Contributor     Lava Hot     f     S    Ed    2   \n",
              "499997  33dd3cf4b      1       Novice  Boiling Hot     g     V    TR    3   \n",
              "499998  d4cf587dd      2  Grandmaster  Boiling Hot     g     X    Ye    2   \n",
              "499999  2d610f52c      2       Novice     Freezing     l     J    ex    2   \n",
              "\n",
              "        month  target  \n",
              "id                     \n",
              "0           2     0.0  \n",
              "1           8     0.0  \n",
              "2           2     0.0  \n",
              "3           1     1.0  \n",
              "4           8     0.0  \n",
              "...       ...     ...  \n",
              "499995      3     NaN  \n",
              "499996      2     NaN  \n",
              "499997      1     NaN  \n",
              "499998      1     NaN  \n",
              "499999      2     NaN  \n",
              "\n",
              "[500000 rows x 24 columns]"
            ],
            "text/html": [
              "\n",
              "  <div id=\"df-0f90eae5-545e-4dd2-ac89-1cfa346a9762\">\n",
              "    <div class=\"colab-df-container\">\n",
              "      <div>\n",
              "<style scoped>\n",
              "    .dataframe tbody tr th:only-of-type {\n",
              "        vertical-align: middle;\n",
              "    }\n",
              "\n",
              "    .dataframe tbody tr th {\n",
              "        vertical-align: top;\n",
              "    }\n",
              "\n",
              "    .dataframe thead th {\n",
              "        text-align: right;\n",
              "    }\n",
              "</style>\n",
              "<table border=\"1\" class=\"dataframe\">\n",
              "  <thead>\n",
              "    <tr style=\"text-align: right;\">\n",
              "      <th></th>\n",
              "      <th>bin_0</th>\n",
              "      <th>bin_1</th>\n",
              "      <th>bin_2</th>\n",
              "      <th>bin_3</th>\n",
              "      <th>bin_4</th>\n",
              "      <th>nom_0</th>\n",
              "      <th>nom_1</th>\n",
              "      <th>nom_2</th>\n",
              "      <th>nom_3</th>\n",
              "      <th>nom_4</th>\n",
              "      <th>nom_5</th>\n",
              "      <th>nom_6</th>\n",
              "      <th>nom_7</th>\n",
              "      <th>nom_8</th>\n",
              "      <th>nom_9</th>\n",
              "      <th>ord_0</th>\n",
              "      <th>ord_1</th>\n",
              "      <th>ord_2</th>\n",
              "      <th>ord_3</th>\n",
              "      <th>ord_4</th>\n",
              "      <th>ord_5</th>\n",
              "      <th>day</th>\n",
              "      <th>month</th>\n",
              "      <th>target</th>\n",
              "    </tr>\n",
              "    <tr>\n",
              "      <th>id</th>\n",
              "      <th></th>\n",
              "      <th></th>\n",
              "      <th></th>\n",
              "      <th></th>\n",
              "      <th></th>\n",
              "      <th></th>\n",
              "      <th></th>\n",
              "      <th></th>\n",
              "      <th></th>\n",
              "      <th></th>\n",
              "      <th></th>\n",
              "      <th></th>\n",
              "      <th></th>\n",
              "      <th></th>\n",
              "      <th></th>\n",
              "      <th></th>\n",
              "      <th></th>\n",
              "      <th></th>\n",
              "      <th></th>\n",
              "      <th></th>\n",
              "      <th></th>\n",
              "      <th></th>\n",
              "      <th></th>\n",
              "      <th></th>\n",
              "    </tr>\n",
              "  </thead>\n",
              "  <tbody>\n",
              "    <tr>\n",
              "      <th>0</th>\n",
              "      <td>0</td>\n",
              "      <td>0</td>\n",
              "      <td>0</td>\n",
              "      <td>T</td>\n",
              "      <td>Y</td>\n",
              "      <td>Green</td>\n",
              "      <td>Triangle</td>\n",
              "      <td>Snake</td>\n",
              "      <td>Finland</td>\n",
              "      <td>Bassoon</td>\n",
              "      <td>50f116bcf</td>\n",
              "      <td>3ac1b8814</td>\n",
              "      <td>68f6ad3e9</td>\n",
              "      <td>c389000ab</td>\n",
              "      <td>2f4cb3d51</td>\n",
              "      <td>2</td>\n",
              "      <td>Grandmaster</td>\n",
              "      <td>Cold</td>\n",
              "      <td>h</td>\n",
              "      <td>D</td>\n",
              "      <td>kr</td>\n",
              "      <td>2</td>\n",
              "      <td>2</td>\n",
              "      <td>0.0</td>\n",
              "    </tr>\n",
              "    <tr>\n",
              "      <th>1</th>\n",
              "      <td>0</td>\n",
              "      <td>1</td>\n",
              "      <td>0</td>\n",
              "      <td>T</td>\n",
              "      <td>Y</td>\n",
              "      <td>Green</td>\n",
              "      <td>Trapezoid</td>\n",
              "      <td>Hamster</td>\n",
              "      <td>Russia</td>\n",
              "      <td>Piano</td>\n",
              "      <td>b3b4d25d0</td>\n",
              "      <td>fbcb50fc1</td>\n",
              "      <td>3b6dd5612</td>\n",
              "      <td>4cd920251</td>\n",
              "      <td>f83c56c21</td>\n",
              "      <td>1</td>\n",
              "      <td>Grandmaster</td>\n",
              "      <td>Hot</td>\n",
              "      <td>a</td>\n",
              "      <td>A</td>\n",
              "      <td>bF</td>\n",
              "      <td>7</td>\n",
              "      <td>8</td>\n",
              "      <td>0.0</td>\n",
              "    </tr>\n",
              "    <tr>\n",
              "      <th>2</th>\n",
              "      <td>0</td>\n",
              "      <td>0</td>\n",
              "      <td>0</td>\n",
              "      <td>F</td>\n",
              "      <td>Y</td>\n",
              "      <td>Blue</td>\n",
              "      <td>Trapezoid</td>\n",
              "      <td>Lion</td>\n",
              "      <td>Russia</td>\n",
              "      <td>Theremin</td>\n",
              "      <td>3263bdce5</td>\n",
              "      <td>0922e3cb8</td>\n",
              "      <td>a6a36f527</td>\n",
              "      <td>de9c9f684</td>\n",
              "      <td>ae6800dd0</td>\n",
              "      <td>1</td>\n",
              "      <td>Expert</td>\n",
              "      <td>Lava Hot</td>\n",
              "      <td>h</td>\n",
              "      <td>R</td>\n",
              "      <td>Jc</td>\n",
              "      <td>7</td>\n",
              "      <td>2</td>\n",
              "      <td>0.0</td>\n",
              "    </tr>\n",
              "    <tr>\n",
              "      <th>3</th>\n",
              "      <td>0</td>\n",
              "      <td>1</td>\n",
              "      <td>0</td>\n",
              "      <td>F</td>\n",
              "      <td>Y</td>\n",
              "      <td>Red</td>\n",
              "      <td>Trapezoid</td>\n",
              "      <td>Snake</td>\n",
              "      <td>Canada</td>\n",
              "      <td>Oboe</td>\n",
              "      <td>f12246592</td>\n",
              "      <td>50d7ad46a</td>\n",
              "      <td>ec69236eb</td>\n",
              "      <td>4ade6ab69</td>\n",
              "      <td>8270f0d71</td>\n",
              "      <td>1</td>\n",
              "      <td>Grandmaster</td>\n",
              "      <td>Boiling Hot</td>\n",
              "      <td>i</td>\n",
              "      <td>D</td>\n",
              "      <td>kW</td>\n",
              "      <td>2</td>\n",
              "      <td>1</td>\n",
              "      <td>1.0</td>\n",
              "    </tr>\n",
              "    <tr>\n",
              "      <th>4</th>\n",
              "      <td>0</td>\n",
              "      <td>0</td>\n",
              "      <td>0</td>\n",
              "      <td>F</td>\n",
              "      <td>N</td>\n",
              "      <td>Red</td>\n",
              "      <td>Trapezoid</td>\n",
              "      <td>Lion</td>\n",
              "      <td>Canada</td>\n",
              "      <td>Oboe</td>\n",
              "      <td>5b0f5acd5</td>\n",
              "      <td>1fe17a1fd</td>\n",
              "      <td>04ddac2be</td>\n",
              "      <td>cb43ab175</td>\n",
              "      <td>b164b72a7</td>\n",
              "      <td>1</td>\n",
              "      <td>Grandmaster</td>\n",
              "      <td>Freezing</td>\n",
              "      <td>a</td>\n",
              "      <td>R</td>\n",
              "      <td>qP</td>\n",
              "      <td>7</td>\n",
              "      <td>8</td>\n",
              "      <td>0.0</td>\n",
              "    </tr>\n",
              "    <tr>\n",
              "      <th>...</th>\n",
              "      <td>...</td>\n",
              "      <td>...</td>\n",
              "      <td>...</td>\n",
              "      <td>...</td>\n",
              "      <td>...</td>\n",
              "      <td>...</td>\n",
              "      <td>...</td>\n",
              "      <td>...</td>\n",
              "      <td>...</td>\n",
              "      <td>...</td>\n",
              "      <td>...</td>\n",
              "      <td>...</td>\n",
              "      <td>...</td>\n",
              "      <td>...</td>\n",
              "      <td>...</td>\n",
              "      <td>...</td>\n",
              "      <td>...</td>\n",
              "      <td>...</td>\n",
              "      <td>...</td>\n",
              "      <td>...</td>\n",
              "      <td>...</td>\n",
              "      <td>...</td>\n",
              "      <td>...</td>\n",
              "      <td>...</td>\n",
              "    </tr>\n",
              "    <tr>\n",
              "      <th>499995</th>\n",
              "      <td>0</td>\n",
              "      <td>0</td>\n",
              "      <td>0</td>\n",
              "      <td>F</td>\n",
              "      <td>N</td>\n",
              "      <td>Green</td>\n",
              "      <td>Square</td>\n",
              "      <td>Lion</td>\n",
              "      <td>Canada</td>\n",
              "      <td>Theremin</td>\n",
              "      <td>6c90f81cd</td>\n",
              "      <td>a406a5f12</td>\n",
              "      <td>d02a6b0ba</td>\n",
              "      <td>9e4b23160</td>\n",
              "      <td>acc31291f</td>\n",
              "      <td>1</td>\n",
              "      <td>Novice</td>\n",
              "      <td>Lava Hot</td>\n",
              "      <td>j</td>\n",
              "      <td>A</td>\n",
              "      <td>Gb</td>\n",
              "      <td>1</td>\n",
              "      <td>3</td>\n",
              "      <td>NaN</td>\n",
              "    </tr>\n",
              "    <tr>\n",
              "      <th>499996</th>\n",
              "      <td>1</td>\n",
              "      <td>0</td>\n",
              "      <td>0</td>\n",
              "      <td>F</td>\n",
              "      <td>Y</td>\n",
              "      <td>Green</td>\n",
              "      <td>Trapezoid</td>\n",
              "      <td>Lion</td>\n",
              "      <td>China</td>\n",
              "      <td>Piano</td>\n",
              "      <td>2d61990e2</td>\n",
              "      <td>520806ce2</td>\n",
              "      <td>d2d8eabdb</td>\n",
              "      <td>cfbd87ed0</td>\n",
              "      <td>eae3446d0</td>\n",
              "      <td>1</td>\n",
              "      <td>Contributor</td>\n",
              "      <td>Lava Hot</td>\n",
              "      <td>f</td>\n",
              "      <td>S</td>\n",
              "      <td>Ed</td>\n",
              "      <td>2</td>\n",
              "      <td>2</td>\n",
              "      <td>NaN</td>\n",
              "    </tr>\n",
              "    <tr>\n",
              "      <th>499997</th>\n",
              "      <td>0</td>\n",
              "      <td>1</td>\n",
              "      <td>1</td>\n",
              "      <td>T</td>\n",
              "      <td>Y</td>\n",
              "      <td>Green</td>\n",
              "      <td>Trapezoid</td>\n",
              "      <td>Lion</td>\n",
              "      <td>Canada</td>\n",
              "      <td>Oboe</td>\n",
              "      <td>488406659</td>\n",
              "      <td>28645754b</td>\n",
              "      <td>22831fffe</td>\n",
              "      <td>1108bcd6c</td>\n",
              "      <td>33dd3cf4b</td>\n",
              "      <td>1</td>\n",
              "      <td>Novice</td>\n",
              "      <td>Boiling Hot</td>\n",
              "      <td>g</td>\n",
              "      <td>V</td>\n",
              "      <td>TR</td>\n",
              "      <td>3</td>\n",
              "      <td>1</td>\n",
              "      <td>NaN</td>\n",
              "    </tr>\n",
              "    <tr>\n",
              "      <th>499998</th>\n",
              "      <td>1</td>\n",
              "      <td>0</td>\n",
              "      <td>0</td>\n",
              "      <td>T</td>\n",
              "      <td>Y</td>\n",
              "      <td>Blue</td>\n",
              "      <td>Star</td>\n",
              "      <td>Hamster</td>\n",
              "      <td>Costa Rica</td>\n",
              "      <td>Bassoon</td>\n",
              "      <td>f9d17bb93</td>\n",
              "      <td>2eadb68c5</td>\n",
              "      <td>fef807a3e</td>\n",
              "      <td>606ac930b</td>\n",
              "      <td>d4cf587dd</td>\n",
              "      <td>2</td>\n",
              "      <td>Grandmaster</td>\n",
              "      <td>Boiling Hot</td>\n",
              "      <td>g</td>\n",
              "      <td>X</td>\n",
              "      <td>Ye</td>\n",
              "      <td>2</td>\n",
              "      <td>1</td>\n",
              "      <td>NaN</td>\n",
              "    </tr>\n",
              "    <tr>\n",
              "      <th>499999</th>\n",
              "      <td>0</td>\n",
              "      <td>0</td>\n",
              "      <td>0</td>\n",
              "      <td>T</td>\n",
              "      <td>Y</td>\n",
              "      <td>Green</td>\n",
              "      <td>Star</td>\n",
              "      <td>Lion</td>\n",
              "      <td>India</td>\n",
              "      <td>Piano</td>\n",
              "      <td>a5c276589</td>\n",
              "      <td>c135cdf77</td>\n",
              "      <td>a8f53c631</td>\n",
              "      <td>4ea576eb6</td>\n",
              "      <td>2d610f52c</td>\n",
              "      <td>2</td>\n",
              "      <td>Novice</td>\n",
              "      <td>Freezing</td>\n",
              "      <td>l</td>\n",
              "      <td>J</td>\n",
              "      <td>ex</td>\n",
              "      <td>2</td>\n",
              "      <td>2</td>\n",
              "      <td>NaN</td>\n",
              "    </tr>\n",
              "  </tbody>\n",
              "</table>\n",
              "<p>500000 rows × 24 columns</p>\n",
              "</div>\n",
              "      <button class=\"colab-df-convert\" onclick=\"convertToInteractive('df-0f90eae5-545e-4dd2-ac89-1cfa346a9762')\"\n",
              "              title=\"Convert this dataframe to an interactive table.\"\n",
              "              style=\"display:none;\">\n",
              "        \n",
              "  <svg xmlns=\"http://www.w3.org/2000/svg\" height=\"24px\"viewBox=\"0 0 24 24\"\n",
              "       width=\"24px\">\n",
              "    <path d=\"M0 0h24v24H0V0z\" fill=\"none\"/>\n",
              "    <path d=\"M18.56 5.44l.94 2.06.94-2.06 2.06-.94-2.06-.94-.94-2.06-.94 2.06-2.06.94zm-11 1L8.5 8.5l.94-2.06 2.06-.94-2.06-.94L8.5 2.5l-.94 2.06-2.06.94zm10 10l.94 2.06.94-2.06 2.06-.94-2.06-.94-.94-2.06-.94 2.06-2.06.94z\"/><path d=\"M17.41 7.96l-1.37-1.37c-.4-.4-.92-.59-1.43-.59-.52 0-1.04.2-1.43.59L10.3 9.45l-7.72 7.72c-.78.78-.78 2.05 0 2.83L4 21.41c.39.39.9.59 1.41.59.51 0 1.02-.2 1.41-.59l7.78-7.78 2.81-2.81c.8-.78.8-2.07 0-2.86zM5.41 20L4 18.59l7.72-7.72 1.47 1.35L5.41 20z\"/>\n",
              "  </svg>\n",
              "      </button>\n",
              "      \n",
              "  <style>\n",
              "    .colab-df-container {\n",
              "      display:flex;\n",
              "      flex-wrap:wrap;\n",
              "      gap: 12px;\n",
              "    }\n",
              "\n",
              "    .colab-df-convert {\n",
              "      background-color: #E8F0FE;\n",
              "      border: none;\n",
              "      border-radius: 50%;\n",
              "      cursor: pointer;\n",
              "      display: none;\n",
              "      fill: #1967D2;\n",
              "      height: 32px;\n",
              "      padding: 0 0 0 0;\n",
              "      width: 32px;\n",
              "    }\n",
              "\n",
              "    .colab-df-convert:hover {\n",
              "      background-color: #E2EBFA;\n",
              "      box-shadow: 0px 1px 2px rgba(60, 64, 67, 0.3), 0px 1px 3px 1px rgba(60, 64, 67, 0.15);\n",
              "      fill: #174EA6;\n",
              "    }\n",
              "\n",
              "    [theme=dark] .colab-df-convert {\n",
              "      background-color: #3B4455;\n",
              "      fill: #D2E3FC;\n",
              "    }\n",
              "\n",
              "    [theme=dark] .colab-df-convert:hover {\n",
              "      background-color: #434B5C;\n",
              "      box-shadow: 0px 1px 3px 1px rgba(0, 0, 0, 0.15);\n",
              "      filter: drop-shadow(0px 1px 2px rgba(0, 0, 0, 0.3));\n",
              "      fill: #FFFFFF;\n",
              "    }\n",
              "  </style>\n",
              "\n",
              "      <script>\n",
              "        const buttonEl =\n",
              "          document.querySelector('#df-0f90eae5-545e-4dd2-ac89-1cfa346a9762 button.colab-df-convert');\n",
              "        buttonEl.style.display =\n",
              "          google.colab.kernel.accessAllowed ? 'block' : 'none';\n",
              "\n",
              "        async function convertToInteractive(key) {\n",
              "          const element = document.querySelector('#df-0f90eae5-545e-4dd2-ac89-1cfa346a9762');\n",
              "          const dataTable =\n",
              "            await google.colab.kernel.invokeFunction('convertToInteractive',\n",
              "                                                     [key], {});\n",
              "          if (!dataTable) return;\n",
              "\n",
              "          const docLinkHtml = 'Like what you see? Visit the ' +\n",
              "            '<a target=\"_blank\" href=https://colab.research.google.com/notebooks/data_table.ipynb>data table notebook</a>'\n",
              "            + ' to learn more about interactive tables.';\n",
              "          element.innerHTML = '';\n",
              "          dataTable['output_type'] = 'display_data';\n",
              "          await google.colab.output.renderOutput(dataTable, element);\n",
              "          const docLink = document.createElement('div');\n",
              "          docLink.innerHTML = docLinkHtml;\n",
              "          element.appendChild(docLink);\n",
              "        }\n",
              "      </script>\n",
              "    </div>\n",
              "  </div>\n",
              "  "
            ]
          },
          "metadata": {},
          "execution_count": 9
        }
      ]
    },
    {
      "cell_type": "code",
      "source": [
        "all_data.info()"
      ],
      "metadata": {
        "colab": {
          "base_uri": "https://localhost:8080/"
        },
        "id": "cTlv8QKhtW4m",
        "outputId": "5d05d5c2-e623-4624-cb9c-605acf96b579"
      },
      "execution_count": 10,
      "outputs": [
        {
          "output_type": "stream",
          "name": "stdout",
          "text": [
            "<class 'pandas.core.frame.DataFrame'>\n",
            "Int64Index: 500000 entries, 0 to 499999\n",
            "Data columns (total 24 columns):\n",
            " #   Column  Non-Null Count   Dtype  \n",
            "---  ------  --------------   -----  \n",
            " 0   bin_0   500000 non-null  int64  \n",
            " 1   bin_1   500000 non-null  int64  \n",
            " 2   bin_2   500000 non-null  int64  \n",
            " 3   bin_3   500000 non-null  object \n",
            " 4   bin_4   500000 non-null  object \n",
            " 5   nom_0   500000 non-null  object \n",
            " 6   nom_1   500000 non-null  object \n",
            " 7   nom_2   500000 non-null  object \n",
            " 8   nom_3   500000 non-null  object \n",
            " 9   nom_4   500000 non-null  object \n",
            " 10  nom_5   500000 non-null  object \n",
            " 11  nom_6   500000 non-null  object \n",
            " 12  nom_7   500000 non-null  object \n",
            " 13  nom_8   500000 non-null  object \n",
            " 14  nom_9   500000 non-null  object \n",
            " 15  ord_0   500000 non-null  int64  \n",
            " 16  ord_1   500000 non-null  object \n",
            " 17  ord_2   500000 non-null  object \n",
            " 18  ord_3   500000 non-null  object \n",
            " 19  ord_4   500000 non-null  object \n",
            " 20  ord_5   500000 non-null  object \n",
            " 21  day     500000 non-null  int64  \n",
            " 22  month   500000 non-null  int64  \n",
            " 23  target  300000 non-null  float64\n",
            "dtypes: float64(1), int64(6), object(17)\n",
            "memory usage: 95.4+ MB\n"
          ]
        }
      ]
    },
    {
      "cell_type": "code",
      "source": [
        "def feature_table(df):\n",
        "    # 데이터 크기를 출력합니다.    \n",
        "    print(df.shape)\n",
        "    # 피처 이름과 유형을 담은 데이터프레임을 생성합니다.   \n",
        "    feature_description = pd.DataFrame(df.dtypes, columns=['type'])\n",
        "    # 피처 이름 피처가 인덱스이므로 인덱스를 리셋하여 새 인덱스를 만듭니다.\n",
        "    feature_description = feature_description.reset_index()\n",
        "    # 피처 이름을 값으로 가진 피처명은 'index'입니다. 'feature'로 변환합니다.\n",
        "    feature_description = feature_description.rename(columns={'index': 'feature'})\n",
        "    # 각 피처가 가진 첫 번째 ~ 다섯 번째 값을 출력합니다.\n",
        "    feature_description['first_value'] = df.loc[0].values\n",
        "    feature_description['second_value'] = df.loc[1].values\n",
        "    feature_description['third_value'] = df.loc[2].values\n",
        "    feature_description['fourth_value'] = df.loc[3].values\n",
        "    feature_description['fifth_value'] = df.loc[4].values\n",
        "    # 고윳값 개수를 산출합니다.\n",
        "    feature_description['eigenvalue_count'] = df.nunique().values\n",
        "    # 결측치 개수를 산출합니다.\n",
        "    feature_description['null_count'] = df.isnull().sum().values\n",
        "\n",
        "    return feature_description\n",
        "\n",
        "feature_table(train)"
      ],
      "metadata": {
        "colab": {
          "base_uri": "https://localhost:8080/",
          "height": 820
        },
        "id": "nQfZFSqnS66K",
        "outputId": "553850fb-5b95-4da6-a053-80474097a43d"
      },
      "execution_count": 11,
      "outputs": [
        {
          "output_type": "stream",
          "name": "stdout",
          "text": [
            "(300000, 24)\n"
          ]
        },
        {
          "output_type": "execute_result",
          "data": {
            "text/plain": [
              "   feature    type  first_value second_value third_value fourth_value  \\\n",
              "0    bin_0   int64            0            0           0            0   \n",
              "1    bin_1   int64            0            1           0            1   \n",
              "2    bin_2   int64            0            0           0            0   \n",
              "3    bin_3  object            T            T           F            F   \n",
              "4    bin_4  object            Y            Y           Y            Y   \n",
              "5    nom_0  object        Green        Green        Blue          Red   \n",
              "6    nom_1  object     Triangle    Trapezoid   Trapezoid    Trapezoid   \n",
              "7    nom_2  object        Snake      Hamster        Lion        Snake   \n",
              "8    nom_3  object      Finland       Russia      Russia       Canada   \n",
              "9    nom_4  object      Bassoon        Piano    Theremin         Oboe   \n",
              "10   nom_5  object    50f116bcf    b3b4d25d0   3263bdce5    f12246592   \n",
              "11   nom_6  object    3ac1b8814    fbcb50fc1   0922e3cb8    50d7ad46a   \n",
              "12   nom_7  object    68f6ad3e9    3b6dd5612   a6a36f527    ec69236eb   \n",
              "13   nom_8  object    c389000ab    4cd920251   de9c9f684    4ade6ab69   \n",
              "14   nom_9  object    2f4cb3d51    f83c56c21   ae6800dd0    8270f0d71   \n",
              "15   ord_0   int64            2            1           1            1   \n",
              "16   ord_1  object  Grandmaster  Grandmaster      Expert  Grandmaster   \n",
              "17   ord_2  object         Cold          Hot    Lava Hot  Boiling Hot   \n",
              "18   ord_3  object            h            a           h            i   \n",
              "19   ord_4  object            D            A           R            D   \n",
              "20   ord_5  object           kr           bF          Jc           kW   \n",
              "21     day   int64            2            7           7            2   \n",
              "22   month   int64            2            8           2            1   \n",
              "23  target   int64            0            0           0            1   \n",
              "\n",
              "    fifth_value  eigenvalue_count  null_count  \n",
              "0             0                 2           0  \n",
              "1             0                 2           0  \n",
              "2             0                 2           0  \n",
              "3             F                 2           0  \n",
              "4             N                 2           0  \n",
              "5           Red                 3           0  \n",
              "6     Trapezoid                 6           0  \n",
              "7          Lion                 6           0  \n",
              "8        Canada                 6           0  \n",
              "9          Oboe                 4           0  \n",
              "10    5b0f5acd5               222           0  \n",
              "11    1fe17a1fd               522           0  \n",
              "12    04ddac2be              1220           0  \n",
              "13    cb43ab175              2215           0  \n",
              "14    b164b72a7             11981           0  \n",
              "15            1                 3           0  \n",
              "16  Grandmaster                 5           0  \n",
              "17     Freezing                 6           0  \n",
              "18            a                15           0  \n",
              "19            R                26           0  \n",
              "20           qP               192           0  \n",
              "21            7                 7           0  \n",
              "22            8                12           0  \n",
              "23            0                 2           0  "
            ],
            "text/html": [
              "\n",
              "  <div id=\"df-d43f6fe1-6510-4aaf-8fae-716015f2b6c1\">\n",
              "    <div class=\"colab-df-container\">\n",
              "      <div>\n",
              "<style scoped>\n",
              "    .dataframe tbody tr th:only-of-type {\n",
              "        vertical-align: middle;\n",
              "    }\n",
              "\n",
              "    .dataframe tbody tr th {\n",
              "        vertical-align: top;\n",
              "    }\n",
              "\n",
              "    .dataframe thead th {\n",
              "        text-align: right;\n",
              "    }\n",
              "</style>\n",
              "<table border=\"1\" class=\"dataframe\">\n",
              "  <thead>\n",
              "    <tr style=\"text-align: right;\">\n",
              "      <th></th>\n",
              "      <th>feature</th>\n",
              "      <th>type</th>\n",
              "      <th>first_value</th>\n",
              "      <th>second_value</th>\n",
              "      <th>third_value</th>\n",
              "      <th>fourth_value</th>\n",
              "      <th>fifth_value</th>\n",
              "      <th>eigenvalue_count</th>\n",
              "      <th>null_count</th>\n",
              "    </tr>\n",
              "  </thead>\n",
              "  <tbody>\n",
              "    <tr>\n",
              "      <th>0</th>\n",
              "      <td>bin_0</td>\n",
              "      <td>int64</td>\n",
              "      <td>0</td>\n",
              "      <td>0</td>\n",
              "      <td>0</td>\n",
              "      <td>0</td>\n",
              "      <td>0</td>\n",
              "      <td>2</td>\n",
              "      <td>0</td>\n",
              "    </tr>\n",
              "    <tr>\n",
              "      <th>1</th>\n",
              "      <td>bin_1</td>\n",
              "      <td>int64</td>\n",
              "      <td>0</td>\n",
              "      <td>1</td>\n",
              "      <td>0</td>\n",
              "      <td>1</td>\n",
              "      <td>0</td>\n",
              "      <td>2</td>\n",
              "      <td>0</td>\n",
              "    </tr>\n",
              "    <tr>\n",
              "      <th>2</th>\n",
              "      <td>bin_2</td>\n",
              "      <td>int64</td>\n",
              "      <td>0</td>\n",
              "      <td>0</td>\n",
              "      <td>0</td>\n",
              "      <td>0</td>\n",
              "      <td>0</td>\n",
              "      <td>2</td>\n",
              "      <td>0</td>\n",
              "    </tr>\n",
              "    <tr>\n",
              "      <th>3</th>\n",
              "      <td>bin_3</td>\n",
              "      <td>object</td>\n",
              "      <td>T</td>\n",
              "      <td>T</td>\n",
              "      <td>F</td>\n",
              "      <td>F</td>\n",
              "      <td>F</td>\n",
              "      <td>2</td>\n",
              "      <td>0</td>\n",
              "    </tr>\n",
              "    <tr>\n",
              "      <th>4</th>\n",
              "      <td>bin_4</td>\n",
              "      <td>object</td>\n",
              "      <td>Y</td>\n",
              "      <td>Y</td>\n",
              "      <td>Y</td>\n",
              "      <td>Y</td>\n",
              "      <td>N</td>\n",
              "      <td>2</td>\n",
              "      <td>0</td>\n",
              "    </tr>\n",
              "    <tr>\n",
              "      <th>5</th>\n",
              "      <td>nom_0</td>\n",
              "      <td>object</td>\n",
              "      <td>Green</td>\n",
              "      <td>Green</td>\n",
              "      <td>Blue</td>\n",
              "      <td>Red</td>\n",
              "      <td>Red</td>\n",
              "      <td>3</td>\n",
              "      <td>0</td>\n",
              "    </tr>\n",
              "    <tr>\n",
              "      <th>6</th>\n",
              "      <td>nom_1</td>\n",
              "      <td>object</td>\n",
              "      <td>Triangle</td>\n",
              "      <td>Trapezoid</td>\n",
              "      <td>Trapezoid</td>\n",
              "      <td>Trapezoid</td>\n",
              "      <td>Trapezoid</td>\n",
              "      <td>6</td>\n",
              "      <td>0</td>\n",
              "    </tr>\n",
              "    <tr>\n",
              "      <th>7</th>\n",
              "      <td>nom_2</td>\n",
              "      <td>object</td>\n",
              "      <td>Snake</td>\n",
              "      <td>Hamster</td>\n",
              "      <td>Lion</td>\n",
              "      <td>Snake</td>\n",
              "      <td>Lion</td>\n",
              "      <td>6</td>\n",
              "      <td>0</td>\n",
              "    </tr>\n",
              "    <tr>\n",
              "      <th>8</th>\n",
              "      <td>nom_3</td>\n",
              "      <td>object</td>\n",
              "      <td>Finland</td>\n",
              "      <td>Russia</td>\n",
              "      <td>Russia</td>\n",
              "      <td>Canada</td>\n",
              "      <td>Canada</td>\n",
              "      <td>6</td>\n",
              "      <td>0</td>\n",
              "    </tr>\n",
              "    <tr>\n",
              "      <th>9</th>\n",
              "      <td>nom_4</td>\n",
              "      <td>object</td>\n",
              "      <td>Bassoon</td>\n",
              "      <td>Piano</td>\n",
              "      <td>Theremin</td>\n",
              "      <td>Oboe</td>\n",
              "      <td>Oboe</td>\n",
              "      <td>4</td>\n",
              "      <td>0</td>\n",
              "    </tr>\n",
              "    <tr>\n",
              "      <th>10</th>\n",
              "      <td>nom_5</td>\n",
              "      <td>object</td>\n",
              "      <td>50f116bcf</td>\n",
              "      <td>b3b4d25d0</td>\n",
              "      <td>3263bdce5</td>\n",
              "      <td>f12246592</td>\n",
              "      <td>5b0f5acd5</td>\n",
              "      <td>222</td>\n",
              "      <td>0</td>\n",
              "    </tr>\n",
              "    <tr>\n",
              "      <th>11</th>\n",
              "      <td>nom_6</td>\n",
              "      <td>object</td>\n",
              "      <td>3ac1b8814</td>\n",
              "      <td>fbcb50fc1</td>\n",
              "      <td>0922e3cb8</td>\n",
              "      <td>50d7ad46a</td>\n",
              "      <td>1fe17a1fd</td>\n",
              "      <td>522</td>\n",
              "      <td>0</td>\n",
              "    </tr>\n",
              "    <tr>\n",
              "      <th>12</th>\n",
              "      <td>nom_7</td>\n",
              "      <td>object</td>\n",
              "      <td>68f6ad3e9</td>\n",
              "      <td>3b6dd5612</td>\n",
              "      <td>a6a36f527</td>\n",
              "      <td>ec69236eb</td>\n",
              "      <td>04ddac2be</td>\n",
              "      <td>1220</td>\n",
              "      <td>0</td>\n",
              "    </tr>\n",
              "    <tr>\n",
              "      <th>13</th>\n",
              "      <td>nom_8</td>\n",
              "      <td>object</td>\n",
              "      <td>c389000ab</td>\n",
              "      <td>4cd920251</td>\n",
              "      <td>de9c9f684</td>\n",
              "      <td>4ade6ab69</td>\n",
              "      <td>cb43ab175</td>\n",
              "      <td>2215</td>\n",
              "      <td>0</td>\n",
              "    </tr>\n",
              "    <tr>\n",
              "      <th>14</th>\n",
              "      <td>nom_9</td>\n",
              "      <td>object</td>\n",
              "      <td>2f4cb3d51</td>\n",
              "      <td>f83c56c21</td>\n",
              "      <td>ae6800dd0</td>\n",
              "      <td>8270f0d71</td>\n",
              "      <td>b164b72a7</td>\n",
              "      <td>11981</td>\n",
              "      <td>0</td>\n",
              "    </tr>\n",
              "    <tr>\n",
              "      <th>15</th>\n",
              "      <td>ord_0</td>\n",
              "      <td>int64</td>\n",
              "      <td>2</td>\n",
              "      <td>1</td>\n",
              "      <td>1</td>\n",
              "      <td>1</td>\n",
              "      <td>1</td>\n",
              "      <td>3</td>\n",
              "      <td>0</td>\n",
              "    </tr>\n",
              "    <tr>\n",
              "      <th>16</th>\n",
              "      <td>ord_1</td>\n",
              "      <td>object</td>\n",
              "      <td>Grandmaster</td>\n",
              "      <td>Grandmaster</td>\n",
              "      <td>Expert</td>\n",
              "      <td>Grandmaster</td>\n",
              "      <td>Grandmaster</td>\n",
              "      <td>5</td>\n",
              "      <td>0</td>\n",
              "    </tr>\n",
              "    <tr>\n",
              "      <th>17</th>\n",
              "      <td>ord_2</td>\n",
              "      <td>object</td>\n",
              "      <td>Cold</td>\n",
              "      <td>Hot</td>\n",
              "      <td>Lava Hot</td>\n",
              "      <td>Boiling Hot</td>\n",
              "      <td>Freezing</td>\n",
              "      <td>6</td>\n",
              "      <td>0</td>\n",
              "    </tr>\n",
              "    <tr>\n",
              "      <th>18</th>\n",
              "      <td>ord_3</td>\n",
              "      <td>object</td>\n",
              "      <td>h</td>\n",
              "      <td>a</td>\n",
              "      <td>h</td>\n",
              "      <td>i</td>\n",
              "      <td>a</td>\n",
              "      <td>15</td>\n",
              "      <td>0</td>\n",
              "    </tr>\n",
              "    <tr>\n",
              "      <th>19</th>\n",
              "      <td>ord_4</td>\n",
              "      <td>object</td>\n",
              "      <td>D</td>\n",
              "      <td>A</td>\n",
              "      <td>R</td>\n",
              "      <td>D</td>\n",
              "      <td>R</td>\n",
              "      <td>26</td>\n",
              "      <td>0</td>\n",
              "    </tr>\n",
              "    <tr>\n",
              "      <th>20</th>\n",
              "      <td>ord_5</td>\n",
              "      <td>object</td>\n",
              "      <td>kr</td>\n",
              "      <td>bF</td>\n",
              "      <td>Jc</td>\n",
              "      <td>kW</td>\n",
              "      <td>qP</td>\n",
              "      <td>192</td>\n",
              "      <td>0</td>\n",
              "    </tr>\n",
              "    <tr>\n",
              "      <th>21</th>\n",
              "      <td>day</td>\n",
              "      <td>int64</td>\n",
              "      <td>2</td>\n",
              "      <td>7</td>\n",
              "      <td>7</td>\n",
              "      <td>2</td>\n",
              "      <td>7</td>\n",
              "      <td>7</td>\n",
              "      <td>0</td>\n",
              "    </tr>\n",
              "    <tr>\n",
              "      <th>22</th>\n",
              "      <td>month</td>\n",
              "      <td>int64</td>\n",
              "      <td>2</td>\n",
              "      <td>8</td>\n",
              "      <td>2</td>\n",
              "      <td>1</td>\n",
              "      <td>8</td>\n",
              "      <td>12</td>\n",
              "      <td>0</td>\n",
              "    </tr>\n",
              "    <tr>\n",
              "      <th>23</th>\n",
              "      <td>target</td>\n",
              "      <td>int64</td>\n",
              "      <td>0</td>\n",
              "      <td>0</td>\n",
              "      <td>0</td>\n",
              "      <td>1</td>\n",
              "      <td>0</td>\n",
              "      <td>2</td>\n",
              "      <td>0</td>\n",
              "    </tr>\n",
              "  </tbody>\n",
              "</table>\n",
              "</div>\n",
              "      <button class=\"colab-df-convert\" onclick=\"convertToInteractive('df-d43f6fe1-6510-4aaf-8fae-716015f2b6c1')\"\n",
              "              title=\"Convert this dataframe to an interactive table.\"\n",
              "              style=\"display:none;\">\n",
              "        \n",
              "  <svg xmlns=\"http://www.w3.org/2000/svg\" height=\"24px\"viewBox=\"0 0 24 24\"\n",
              "       width=\"24px\">\n",
              "    <path d=\"M0 0h24v24H0V0z\" fill=\"none\"/>\n",
              "    <path d=\"M18.56 5.44l.94 2.06.94-2.06 2.06-.94-2.06-.94-.94-2.06-.94 2.06-2.06.94zm-11 1L8.5 8.5l.94-2.06 2.06-.94-2.06-.94L8.5 2.5l-.94 2.06-2.06.94zm10 10l.94 2.06.94-2.06 2.06-.94-2.06-.94-.94-2.06-.94 2.06-2.06.94z\"/><path d=\"M17.41 7.96l-1.37-1.37c-.4-.4-.92-.59-1.43-.59-.52 0-1.04.2-1.43.59L10.3 9.45l-7.72 7.72c-.78.78-.78 2.05 0 2.83L4 21.41c.39.39.9.59 1.41.59.51 0 1.02-.2 1.41-.59l7.78-7.78 2.81-2.81c.8-.78.8-2.07 0-2.86zM5.41 20L4 18.59l7.72-7.72 1.47 1.35L5.41 20z\"/>\n",
              "  </svg>\n",
              "      </button>\n",
              "      \n",
              "  <style>\n",
              "    .colab-df-container {\n",
              "      display:flex;\n",
              "      flex-wrap:wrap;\n",
              "      gap: 12px;\n",
              "    }\n",
              "\n",
              "    .colab-df-convert {\n",
              "      background-color: #E8F0FE;\n",
              "      border: none;\n",
              "      border-radius: 50%;\n",
              "      cursor: pointer;\n",
              "      display: none;\n",
              "      fill: #1967D2;\n",
              "      height: 32px;\n",
              "      padding: 0 0 0 0;\n",
              "      width: 32px;\n",
              "    }\n",
              "\n",
              "    .colab-df-convert:hover {\n",
              "      background-color: #E2EBFA;\n",
              "      box-shadow: 0px 1px 2px rgba(60, 64, 67, 0.3), 0px 1px 3px 1px rgba(60, 64, 67, 0.15);\n",
              "      fill: #174EA6;\n",
              "    }\n",
              "\n",
              "    [theme=dark] .colab-df-convert {\n",
              "      background-color: #3B4455;\n",
              "      fill: #D2E3FC;\n",
              "    }\n",
              "\n",
              "    [theme=dark] .colab-df-convert:hover {\n",
              "      background-color: #434B5C;\n",
              "      box-shadow: 0px 1px 3px 1px rgba(0, 0, 0, 0.15);\n",
              "      filter: drop-shadow(0px 1px 2px rgba(0, 0, 0, 0.3));\n",
              "      fill: #FFFFFF;\n",
              "    }\n",
              "  </style>\n",
              "\n",
              "      <script>\n",
              "        const buttonEl =\n",
              "          document.querySelector('#df-d43f6fe1-6510-4aaf-8fae-716015f2b6c1 button.colab-df-convert');\n",
              "        buttonEl.style.display =\n",
              "          google.colab.kernel.accessAllowed ? 'block' : 'none';\n",
              "\n",
              "        async function convertToInteractive(key) {\n",
              "          const element = document.querySelector('#df-d43f6fe1-6510-4aaf-8fae-716015f2b6c1');\n",
              "          const dataTable =\n",
              "            await google.colab.kernel.invokeFunction('convertToInteractive',\n",
              "                                                     [key], {});\n",
              "          if (!dataTable) return;\n",
              "\n",
              "          const docLinkHtml = 'Like what you see? Visit the ' +\n",
              "            '<a target=\"_blank\" href=https://colab.research.google.com/notebooks/data_table.ipynb>data table notebook</a>'\n",
              "            + ' to learn more about interactive tables.';\n",
              "          element.innerHTML = '';\n",
              "          dataTable['output_type'] = 'display_data';\n",
              "          await google.colab.output.renderOutput(dataTable, element);\n",
              "          const docLink = document.createElement('div');\n",
              "          docLink.innerHTML = docLinkHtml;\n",
              "          element.appendChild(docLink);\n",
              "        }\n",
              "      </script>\n",
              "    </div>\n",
              "  </div>\n",
              "  "
            ]
          },
          "metadata": {},
          "execution_count": 11
        }
      ]
    },
    {
      "cell_type": "markdown",
      "source": [
        "테스트 세트에는 'target' 피처가 없습니다. 'target' 피처를 제거하겠습니다."
      ],
      "metadata": {
        "id": "Eyrfph9MuTlR"
      }
    },
    {
      "cell_type": "code",
      "source": [
        "all_data = all_data.drop('target', axis=1)"
      ],
      "metadata": {
        "id": "wy70_4VVtZ82"
      },
      "execution_count": 12,
      "outputs": []
    },
    {
      "cell_type": "markdown",
      "source": [
        "## **2.2. bin_3, bin_4**"
      ],
      "metadata": {
        "id": "YLXL4QAzSpm6"
      }
    },
    {
      "cell_type": "markdown",
      "source": [
        "### **2.2.1. 매핑**"
      ],
      "metadata": {
        "id": "HfPbYJQ6yCP-"
      }
    },
    {
      "cell_type": "markdown",
      "source": [
        "'bin_3', 'bin_4' 피처의 각 값을 숫자로 매핑하겠습니다."
      ],
      "metadata": {
        "id": "9O1qLXTJTZSj"
      }
    },
    {
      "cell_type": "code",
      "source": [
        "all_data['bin_3'] = all_data['bin_3'].map({'T': 1, 'F': 0})\n",
        "all_data['bin_4'] = all_data['bin_4'].map({'Y': 1, 'N': 0})"
      ],
      "metadata": {
        "id": "yxLpi5O8I8do"
      },
      "execution_count": 13,
      "outputs": []
    },
    {
      "cell_type": "markdown",
      "source": [
        "## **2.3. nom_num**"
      ],
      "metadata": {
        "id": "Dvc7A0iXTxZA"
      }
    },
    {
      "cell_type": "markdown",
      "source": [
        "### **2.3.1. 원-핫 인코딩**"
      ],
      "metadata": {
        "id": "UtLq6oTcyHBr"
      }
    },
    {
      "cell_type": "markdown",
      "source": [
        "전체 'nom_num' 피처에 `OneHotEncoder` 클래스를 사용하여 원-핫 인코딩을 수행하겠습니다. 물론 (이 데이터에 한정하여) 판다스의 `get_dummies()` 메서드를 사용해도 무방하지만 `get_dummies()` 메서드는 결정적인 단점을 가집니다. 학습 세트의 피처를 학습하는 과정 없이 그대로 원-핫 인코딩을 수행하기 때문에 학습 세트에만 존재하고 테스트 세트에 없는 값은 원-핫 인코딩이 적용된 피처로 변환하지 않습니다. 게다가 `OneHotEncoder` 클래스보다 더 많은 메모리가 필요합니다. `OneHotEncoder` 클래스는 원-핫 인코딩을 수행하여 CSR 형식의 행렬을 반환하기 때문입니다(데이터프레임보다 적은 메모리 소모). 따라서 원-핫 인코딩을 적용하는 경우 습관적으로 `OneHotEncoder` 클래스를 사용하는 편이 좋습니다. [링크](https://psystat.tistory.com/136)에서 상세한 설명을 확인할 수 있습니다."
      ],
      "metadata": {
        "id": "DL26N9GdZurE"
      }
    },
    {
      "cell_type": "code",
      "source": [
        "from sklearn.preprocessing import OneHotEncoder\n",
        "\n",
        "# 전체 'nom_num' 피처를 담은 리스트를 생성합니다.\n",
        "list_nom_num = ['nom_' + str(i) for i in range(10)]\n",
        "\n",
        "one_hot_encoder = OneHotEncoder()\n",
        "# 학습 및 테스트 세트를 하나로 합쳤으므로 `fit_transform()` 메서드를 사용합니다.\n",
        "# 학습 및 테스트 세트로 나뉜 상태라면 테스트 세트에는 `transform()` 메서드만 사용합니다.\n",
        "nom_num_one_hot_encoded = one_hot_encoder.fit_transform(all_data[list_nom_num])"
      ],
      "metadata": {
        "id": "QgzUS95owQuu"
      },
      "execution_count": 14,
      "outputs": []
    },
    {
      "cell_type": "code",
      "source": [
        "nom_num_one_hot_encoded"
      ],
      "metadata": {
        "colab": {
          "base_uri": "https://localhost:8080/"
        },
        "id": "jY-w_bFSu56O",
        "outputId": "4ba89c79-ebac-4764-b792-8d7f3d393b85"
      },
      "execution_count": 15,
      "outputs": [
        {
          "output_type": "execute_result",
          "data": {
            "text/plain": [
              "<500000x16276 sparse matrix of type '<class 'numpy.float64'>'\n",
              "\twith 5000000 stored elements in Compressed Sparse Row format>"
            ]
          },
          "metadata": {},
          "execution_count": 15
        }
      ]
    },
    {
      "cell_type": "markdown",
      "source": [
        "## **2.4. ord_num**"
      ],
      "metadata": {
        "id": "CY68URN3kir0"
      }
    },
    {
      "cell_type": "markdown",
      "source": [
        "### **2.4.1. 매핑**"
      ],
      "metadata": {
        "id": "GoJO32RNyOP5"
      }
    },
    {
      "cell_type": "markdown",
      "source": [
        "순서형 피처는 값 순서에 핵심 의미를 가집니다. 'ord_1', 'ord_2' 피처의 고윳값을 확인해 보겠습니다."
      ],
      "metadata": {
        "id": "OBMun1gAoVbF"
      }
    },
    {
      "cell_type": "code",
      "source": [
        "list_ord_1_2 = ['ord_1', 'ord_2']\n",
        "\n",
        "for feature in list_ord_1_2:\n",
        "    print(f'{feature}:\\n {all_data[feature].unique()}\\n')"
      ],
      "metadata": {
        "colab": {
          "base_uri": "https://localhost:8080/"
        },
        "id": "CCIyZgtbkxDU",
        "outputId": "bebd817a-f9c7-40f3-dcb2-d0afa5aaea9d"
      },
      "execution_count": 16,
      "outputs": [
        {
          "output_type": "stream",
          "name": "stdout",
          "text": [
            "ord_1:\n",
            " ['Grandmaster' 'Expert' 'Novice' 'Contributor' 'Master']\n",
            "\n",
            "ord_2:\n",
            " ['Cold' 'Hot' 'Lava Hot' 'Boiling Hot' 'Freezing' 'Warm']\n",
            "\n"
          ]
        }
      ]
    },
    {
      "cell_type": "markdown",
      "source": [
        "값 순서에 알맞도록 숫자로 매핑하겠습니다."
      ],
      "metadata": {
        "id": "IisfDOBlovHw"
      }
    },
    {
      "cell_type": "code",
      "source": [
        "value_sequence_ord_1 = {'Novice':0, 'Contributor': 1, 'Expert': 2,\n",
        "                  'Master': 3, 'Grandmaster': 4}\n",
        "value_sequence_ord_2 = {'Freezing': 0, 'Cold': 1, 'Warm': 2, 'Hot': 3,\n",
        "                  'Boiling Hot': 4, 'Lava Hot': 5}\n",
        "\n",
        "all_data['ord_1'] = all_data['ord_1'].map(value_sequence_ord_1)\n",
        "all_data['ord_2'] = all_data['ord_2'].map(value_sequence_ord_2)"
      ],
      "metadata": {
        "id": "FhlUCCZ3kllf"
      },
      "execution_count": 17,
      "outputs": []
    },
    {
      "cell_type": "markdown",
      "source": [
        "'ord_3 ~ 5' 피처의 고윳값을 확인해 보겠습니다."
      ],
      "metadata": {
        "id": "Y4hBY_rOo3bU"
      }
    },
    {
      "cell_type": "code",
      "source": [
        "list_ord_3_4_5 = ['ord_3', 'ord_4', 'ord_5']\n",
        "\n",
        "for feature in list_ord_3_4_5:\n",
        "    print(f'{feature}:\\n {all_data[feature].unique()}\\n')"
      ],
      "metadata": {
        "colab": {
          "base_uri": "https://localhost:8080/"
        },
        "id": "3HQ_HZVcnabK",
        "outputId": "e0ae42c6-afcb-4d19-8871-283f372e4a84"
      },
      "execution_count": 18,
      "outputs": [
        {
          "output_type": "stream",
          "name": "stdout",
          "text": [
            "ord_3:\n",
            " ['h' 'a' 'i' 'j' 'g' 'e' 'd' 'b' 'k' 'f' 'l' 'n' 'o' 'c' 'm']\n",
            "\n",
            "ord_4:\n",
            " ['D' 'A' 'R' 'E' 'P' 'K' 'V' 'Q' 'Z' 'L' 'F' 'T' 'U' 'S' 'Y' 'B' 'H' 'J'\n",
            " 'N' 'G' 'W' 'I' 'O' 'C' 'X' 'M']\n",
            "\n",
            "ord_5:\n",
            " ['kr' 'bF' 'Jc' 'kW' 'qP' 'PZ' 'wy' 'Ed' 'qo' 'CZ' 'qX' 'su' 'dP' 'aP'\n",
            " 'MV' 'oC' 'RL' 'fh' 'gJ' 'Hj' 'TR' 'CL' 'Sc' 'eQ' 'kC' 'qK' 'dh' 'gM'\n",
            " 'Jf' 'fO' 'Eg' 'KZ' 'Vx' 'Fo' 'sV' 'eb' 'YC' 'RG' 'Ye' 'qA' 'lL' 'Qh'\n",
            " 'Bd' 'be' 'hT' 'lF' 'nX' 'kK' 'av' 'uS' 'Jt' 'PA' 'Er' 'Qb' 'od' 'ut'\n",
            " 'Dx' 'Xi' 'on' 'Dc' 'sD' 'rZ' 'Uu' 'sn' 'yc' 'Gb' 'Kq' 'dQ' 'hp' 'kL'\n",
            " 'je' 'CU' 'Fd' 'PQ' 'Bn' 'ex' 'hh' 'ac' 'rp' 'dE' 'oG' 'oK' 'cp' 'mm'\n",
            " 'vK' 'ek' 'dO' 'XI' 'CM' 'Vf' 'aO' 'qv' 'jp' 'Zq' 'Qo' 'DN' 'TZ' 'ke'\n",
            " 'cG' 'tP' 'ud' 'tv' 'aM' 'xy' 'lx' 'To' 'uy' 'ZS' 'vy' 'ZR' 'AP' 'GJ'\n",
            " 'Wv' 'ri' 'qw' 'Xh' 'FI' 'nh' 'KR' 'dB' 'BE' 'Bb' 'mc' 'MC' 'tM' 'NV'\n",
            " 'ih' 'IK' 'Ob' 'RP' 'dN' 'us' 'dZ' 'yN' 'Nf' 'QM' 'jV' 'sY' 'wu' 'SB'\n",
            " 'UO' 'Mx' 'JX' 'Ry' 'Uk' 'uJ' 'LE' 'ps' 'kE' 'MO' 'kw' 'yY' 'zU' 'bJ'\n",
            " 'Kf' 'ck' 'mb' 'Os' 'Ps' 'Ml' 'Ai' 'Wc' 'GD' 'll' 'aF' 'iT' 'cA' 'WE'\n",
            " 'Gx' 'Nk' 'OR' 'Rm' 'BA' 'eG' 'cW' 'jS' 'DH' 'hL' 'Mf' 'Yb' 'Aj' 'oH'\n",
            " 'Zc' 'qJ' 'eg' 'xP' 'vq' 'Id' 'pa' 'ux' 'kU' 'Cl']\n",
            "\n"
          ]
        }
      ]
    },
    {
      "cell_type": "markdown",
      "source": [
        "고윳값 개수가 많기 때문에 일일이 매핑하기는 번거롭습니다. `OrdinalEncoder` 클래스를 활용하여 값 순서에 맞게 숫자로 매핑하겠습니다."
      ],
      "metadata": {
        "id": "CA7H8qilpHLn"
      }
    },
    {
      "cell_type": "code",
      "source": [
        "from sklearn.preprocessing import OrdinalEncoder\n",
        "\n",
        "ord_encoder = OrdinalEncoder()\n",
        "all_data[list_ord_3_4_5] = ord_encoder.fit_transform(all_data[list_ord_3_4_5])"
      ],
      "metadata": {
        "id": "Lfa-Cl_Ll18i"
      },
      "execution_count": 19,
      "outputs": []
    },
    {
      "cell_type": "markdown",
      "source": [
        "아래와 같이 값 순서가 `categories_` 속성에 저장되고, 각 값은 값 순서에 맞게 숫자로 매핑됩니다."
      ],
      "metadata": {
        "id": "kFvcmlwYpp-I"
      }
    },
    {
      "cell_type": "code",
      "source": [
        "ord_encoder.categories_"
      ],
      "metadata": {
        "colab": {
          "base_uri": "https://localhost:8080/"
        },
        "id": "78tKBv23mhD5",
        "outputId": "f292fa2d-a9e7-4dc7-bad0-641cbce88ba6"
      },
      "execution_count": 20,
      "outputs": [
        {
          "output_type": "execute_result",
          "data": {
            "text/plain": [
              "[array(['a', 'b', 'c', 'd', 'e', 'f', 'g', 'h', 'i', 'j', 'k', 'l', 'm',\n",
              "        'n', 'o'], dtype=object),\n",
              " array(['A', 'B', 'C', 'D', 'E', 'F', 'G', 'H', 'I', 'J', 'K', 'L', 'M',\n",
              "        'N', 'O', 'P', 'Q', 'R', 'S', 'T', 'U', 'V', 'W', 'X', 'Y', 'Z'],\n",
              "       dtype=object),\n",
              " array(['AP', 'Ai', 'Aj', 'BA', 'BE', 'Bb', 'Bd', 'Bn', 'CL', 'CM', 'CU',\n",
              "        'CZ', 'Cl', 'DH', 'DN', 'Dc', 'Dx', 'Ed', 'Eg', 'Er', 'FI', 'Fd',\n",
              "        'Fo', 'GD', 'GJ', 'Gb', 'Gx', 'Hj', 'IK', 'Id', 'JX', 'Jc', 'Jf',\n",
              "        'Jt', 'KR', 'KZ', 'Kf', 'Kq', 'LE', 'MC', 'MO', 'MV', 'Mf', 'Ml',\n",
              "        'Mx', 'NV', 'Nf', 'Nk', 'OR', 'Ob', 'Os', 'PA', 'PQ', 'PZ', 'Ps',\n",
              "        'QM', 'Qb', 'Qh', 'Qo', 'RG', 'RL', 'RP', 'Rm', 'Ry', 'SB', 'Sc',\n",
              "        'TR', 'TZ', 'To', 'UO', 'Uk', 'Uu', 'Vf', 'Vx', 'WE', 'Wc', 'Wv',\n",
              "        'XI', 'Xh', 'Xi', 'YC', 'Yb', 'Ye', 'ZR', 'ZS', 'Zc', 'Zq', 'aF',\n",
              "        'aM', 'aO', 'aP', 'ac', 'av', 'bF', 'bJ', 'be', 'cA', 'cG', 'cW',\n",
              "        'ck', 'cp', 'dB', 'dE', 'dN', 'dO', 'dP', 'dQ', 'dZ', 'dh', 'eG',\n",
              "        'eQ', 'eb', 'eg', 'ek', 'ex', 'fO', 'fh', 'gJ', 'gM', 'hL', 'hT',\n",
              "        'hh', 'hp', 'iT', 'ih', 'jS', 'jV', 'je', 'jp', 'kC', 'kE', 'kK',\n",
              "        'kL', 'kU', 'kW', 'ke', 'kr', 'kw', 'lF', 'lL', 'll', 'lx', 'mb',\n",
              "        'mc', 'mm', 'nX', 'nh', 'oC', 'oG', 'oH', 'oK', 'od', 'on', 'pa',\n",
              "        'ps', 'qA', 'qJ', 'qK', 'qP', 'qX', 'qo', 'qv', 'qw', 'rZ', 'ri',\n",
              "        'rp', 'sD', 'sV', 'sY', 'sn', 'su', 'tM', 'tP', 'tv', 'uJ', 'uS',\n",
              "        'ud', 'us', 'ut', 'ux', 'uy', 'vK', 'vq', 'vy', 'wu', 'wy', 'xP',\n",
              "        'xy', 'yN', 'yY', 'yc', 'zU'], dtype=object)]"
            ]
          },
          "metadata": {},
          "execution_count": 20
        }
      ]
    },
    {
      "cell_type": "code",
      "source": [
        "for feature in list_ord_3_4_5:\n",
        "    print(f'{feature}:\\n {all_data[feature].unique()}\\n')"
      ],
      "metadata": {
        "colab": {
          "base_uri": "https://localhost:8080/"
        },
        "id": "s0fIXGMep-Jz",
        "outputId": "27646a88-c412-4413-b9ee-3ab1e46ebad3"
      },
      "execution_count": 21,
      "outputs": [
        {
          "output_type": "stream",
          "name": "stdout",
          "text": [
            "ord_3:\n",
            " [ 7.  0.  8.  9.  6.  4.  3.  1. 10.  5. 11. 13. 14.  2. 12.]\n",
            "\n",
            "ord_4:\n",
            " [ 3.  0. 17.  4. 15. 10. 21. 16. 25. 11.  5. 19. 20. 18. 24.  1.  7.  9.\n",
            " 13.  6. 22.  8. 14.  2. 23. 12.]\n",
            "\n",
            "ord_5:\n",
            " [136.  93.  31. 134. 158.  53. 185.  17. 160.  11. 159. 170. 105.  90.\n",
            "  41. 147.  60. 116. 117.  27.  66.   8.  65. 110. 129. 157. 108. 118.\n",
            "  32. 115.  18.  35.  73.  22. 167. 111.  80.  59.  82. 155. 139.  57.\n",
            "   6.  95. 120. 138. 145. 131.  92. 175.  33.  51.  19.  56. 151. 178.\n",
            "  16.  79. 152.  15. 166. 163.  71. 169. 190.  25.  37. 106. 122. 132.\n",
            " 127.  10.  21.  52.   7. 114. 121.  91. 165. 102. 148. 150. 100. 144.\n",
            " 181. 113. 104.  77.   9.  72.  89. 161. 128.  86.  58.  14.  67. 135.\n",
            "  97. 172. 176. 173.  88. 187. 141.  68. 180.  84. 183.  83.   0.  24.\n",
            "  76. 164. 162.  78.  20. 146.  34. 101.   4.   5. 143.  39. 171.  45.\n",
            " 124.  28.  49.  61. 103. 177. 107. 188.  46.  55. 126. 168. 184.  64.\n",
            "  69.  44.  30.  63.  70. 174.  38. 154. 130.  40. 137. 189. 191.  94.\n",
            "  36.  99. 142.  50.  54.  43.   1.  75.  23. 140.  87. 123.  96.  74.\n",
            "  26.  47.  48.  62.   3. 109.  98. 125.  13. 119.  42.  81.   2. 149.\n",
            "  85. 156. 112. 186. 182.  29. 153. 179. 133.  12.]\n",
            "\n"
          ]
        }
      ]
    },
    {
      "cell_type": "markdown",
      "source": [
        "### **2.4.2. min-max 정규화**"
      ],
      "metadata": {
        "id": "7Q2G-oQhyRF2"
      }
    },
    {
      "cell_type": "markdown",
      "source": [
        "min-max 정규화를 수행하겠습니다."
      ],
      "metadata": {
        "id": "xVQGzSARxtvt"
      }
    },
    {
      "cell_type": "code",
      "source": [
        "from sklearn.preprocessing import MinMaxScaler\n",
        "\n",
        "list_ord_num = ['ord_' + str(i) for i in range(6)]\n",
        "\n",
        "min_max_scaler = MinMaxScaler()\n",
        "all_data[list_ord_num] = min_max_scaler.fit_transform(all_data[list_ord_num])"
      ],
      "metadata": {
        "id": "czSqojbgw1kv"
      },
      "execution_count": 22,
      "outputs": []
    },
    {
      "cell_type": "code",
      "source": [
        "for feature in list_ord_num:\n",
        "    print(f'{feature}:\\n {all_data[feature].unique()}\\n')"
      ],
      "metadata": {
        "colab": {
          "base_uri": "https://localhost:8080/"
        },
        "id": "btY7h1k8xc_p",
        "outputId": "eee86080-64a1-4204-ad92-5d0bb8c94569"
      },
      "execution_count": 23,
      "outputs": [
        {
          "output_type": "stream",
          "name": "stdout",
          "text": [
            "ord_0:\n",
            " [0.5 0.  1. ]\n",
            "\n",
            "ord_1:\n",
            " [1.   0.5  0.   0.25 0.75]\n",
            "\n",
            "ord_2:\n",
            " [0.2 0.6 1.  0.8 0.  0.4]\n",
            "\n",
            "ord_3:\n",
            " [0.5        0.         0.57142857 0.64285714 0.42857143 0.28571429\n",
            " 0.21428571 0.07142857 0.71428571 0.35714286 0.78571429 0.92857143\n",
            " 1.         0.14285714 0.85714286]\n",
            "\n",
            "ord_4:\n",
            " [0.12 0.   0.68 0.16 0.6  0.4  0.84 0.64 1.   0.44 0.2  0.76 0.8  0.72\n",
            " 0.96 0.04 0.28 0.36 0.52 0.24 0.88 0.32 0.56 0.08 0.92 0.48]\n",
            "\n",
            "ord_5:\n",
            " [0.71204188 0.48691099 0.16230366 0.70157068 0.82722513 0.27748691\n",
            " 0.96858639 0.08900524 0.83769634 0.05759162 0.83246073 0.89005236\n",
            " 0.54973822 0.47120419 0.21465969 0.76963351 0.31413613 0.60732984\n",
            " 0.61256545 0.14136126 0.34554974 0.04188482 0.34031414 0.57591623\n",
            " 0.67539267 0.82198953 0.56544503 0.61780105 0.16753927 0.60209424\n",
            " 0.09424084 0.18324607 0.38219895 0.11518325 0.87434555 0.58115183\n",
            " 0.41884817 0.30890052 0.42931937 0.81151832 0.72774869 0.29842932\n",
            " 0.03141361 0.4973822  0.62827225 0.72251309 0.7591623  0.68586387\n",
            " 0.48167539 0.91623037 0.17277487 0.26701571 0.09947644 0.29319372\n",
            " 0.79057592 0.93193717 0.08376963 0.41361257 0.79581152 0.07853403\n",
            " 0.86910995 0.85340314 0.37172775 0.88481675 0.9947644  0.13089005\n",
            " 0.19371728 0.55497382 0.63874346 0.69109948 0.66492147 0.05235602\n",
            " 0.10994764 0.27225131 0.03664921 0.59685864 0.63350785 0.47643979\n",
            " 0.86387435 0.53403141 0.77486911 0.78534031 0.52356021 0.7539267\n",
            " 0.94764398 0.59162304 0.54450262 0.40314136 0.04712042 0.37696335\n",
            " 0.46596859 0.84293194 0.67015707 0.45026178 0.30366492 0.07329843\n",
            " 0.35078534 0.70680628 0.5078534  0.90052356 0.92146597 0.90575916\n",
            " 0.46073298 0.97905759 0.7382199  0.35602094 0.94240838 0.43979058\n",
            " 0.95811518 0.43455497 0.         0.12565445 0.39790576 0.85863874\n",
            " 0.84816754 0.40837696 0.10471204 0.76439791 0.17801047 0.52879581\n",
            " 0.02094241 0.02617801 0.7486911  0.20418848 0.89528796 0.23560209\n",
            " 0.64921466 0.14659686 0.2565445  0.31937173 0.53926702 0.92670157\n",
            " 0.56020942 0.98429319 0.2408377  0.28795812 0.65968586 0.87958115\n",
            " 0.96335079 0.33507853 0.36125654 0.23036649 0.15706806 0.32984293\n",
            " 0.36649215 0.91099476 0.19895288 0.80628272 0.68062827 0.20942408\n",
            " 0.71727749 0.9895288  1.         0.4921466  0.18848168 0.51832461\n",
            " 0.7434555  0.2617801  0.28272251 0.22513089 0.0052356  0.39267016\n",
            " 0.12041885 0.73298429 0.45549738 0.64397906 0.5026178  0.38743455\n",
            " 0.13612565 0.2460733  0.2513089  0.32460733 0.01570681 0.57068063\n",
            " 0.51308901 0.65445026 0.06806283 0.62303665 0.21989529 0.42408377\n",
            " 0.0104712  0.78010471 0.44502618 0.81675393 0.58638743 0.97382199\n",
            " 0.95287958 0.15183246 0.80104712 0.93717277 0.69633508 0.06282723]\n",
            "\n"
          ]
        }
      ]
    },
    {
      "cell_type": "markdown",
      "source": [
        "## **2.5. day, month**"
      ],
      "metadata": {
        "id": "0cBjd_1izZ8H"
      }
    },
    {
      "cell_type": "markdown",
      "source": [
        "'day', 'month' 피처에는 원-핫 인코딩을 적용하겠습니다. 순서형 피처로 간주하여 min-max 정규화를 적용해 볼 수도 있습니다."
      ],
      "metadata": {
        "id": "k1ar4SJbvtYX"
      }
    },
    {
      "cell_type": "code",
      "source": [
        "list_date = ['day', 'month']\n",
        "\n",
        "date_one_hot_encoded = one_hot_encoder.fit_transform(all_data[list_date])"
      ],
      "metadata": {
        "id": "yyWVFU54wKFP"
      },
      "execution_count": 24,
      "outputs": []
    },
    {
      "cell_type": "code",
      "source": [
        "date_one_hot_encoded"
      ],
      "metadata": {
        "colab": {
          "base_uri": "https://localhost:8080/"
        },
        "id": "2_VqBJ4Wwuc-",
        "outputId": "9eecd40a-a269-443c-9de4-33622dd228b3"
      },
      "execution_count": 25,
      "outputs": [
        {
          "output_type": "execute_result",
          "data": {
            "text/plain": [
              "<500000x19 sparse matrix of type '<class 'numpy.float64'>'\n",
              "\twith 1000000 stored elements in Compressed Sparse Row format>"
            ]
          },
          "metadata": {},
          "execution_count": 25
        }
      ]
    },
    {
      "cell_type": "markdown",
      "source": [
        "## **2.6. 불필요한 피처 제거**"
      ],
      "metadata": {
        "id": "M41oshgDyz2U"
      }
    },
    {
      "cell_type": "markdown",
      "source": [
        "대부분의 피처 엔지니어링을 마쳤습니다. 원-핫 인코딩을 적용한 피처들은 CSR 형식으로 따로 저장된 상태이므로 기존 'nom_num', 'day', 'month' 피처는 불필요합니다. 삭제하겠습니다."
      ],
      "metadata": {
        "id": "RbpOcXxPy2sd"
      }
    },
    {
      "cell_type": "code",
      "source": [
        "list_nom_num = ['nom_' + str(i) for i in range(10)]\n",
        "list_date = ['day', 'month']\n",
        "\n",
        "for features in [list_nom_num, list_date]:\n",
        "    all_data = all_data.drop(features, axis=1)"
      ],
      "metadata": {
        "id": "U_8uvLnMzVGr"
      },
      "execution_count": 26,
      "outputs": []
    },
    {
      "cell_type": "markdown",
      "source": [
        "## **2.7. 데이터 세트와 인코딩된 피처 간 결합**"
      ],
      "metadata": {
        "id": "I3IOcwxl0EAd"
      }
    },
    {
      "cell_type": "markdown",
      "source": [
        "데이터 세트와 인코딩된 피처를 결합하겠습니다. 기존 데이터를 CSR 형식으로 변환하여 인코딩된 CSR 행렬과 결합하고, 메모리를 절약하기 위해 CSR 형식을 그대로 유지시키겠습니다. "
      ],
      "metadata": {
        "id": "wj72tNc22MPW"
      }
    },
    {
      "cell_type": "code",
      "source": [
        "from scipy import sparse\n",
        "\n",
        "all_data_sparse = sparse.hstack([sparse.csr_matrix(all_data), # 기존 데이터를 CSR 형식으로 변환합니다.\n",
        "                                 nom_num_one_hot_encoded,\n",
        "                                 date_one_hot_encoded], format='csr')"
      ],
      "metadata": {
        "id": "KQI3gTRL1vdW"
      },
      "execution_count": 27,
      "outputs": []
    },
    {
      "cell_type": "code",
      "source": [
        "all_data_sparse"
      ],
      "metadata": {
        "colab": {
          "base_uri": "https://localhost:8080/"
        },
        "id": "mzwJYiT_2J6_",
        "outputId": "d0cf75e1-bb7d-4d37-c941-cd699a92a528"
      },
      "execution_count": 28,
      "outputs": [
        {
          "output_type": "execute_result",
          "data": {
            "text/plain": [
              "<500000x16306 sparse matrix of type '<class 'numpy.float64'>'\n",
              "\twith 9163718 stored elements in Compressed Sparse Row format>"
            ]
          },
          "metadata": {},
          "execution_count": 28
        }
      ]
    },
    {
      "cell_type": "markdown",
      "source": [
        "# **3. 첫 번째 모델링 및 하이퍼파라미터 튜닝**"
      ],
      "metadata": {
        "id": "rUpA9GDi3opf"
      }
    },
    {
      "cell_type": "markdown",
      "source": [
        "하이퍼파라미터 최적화를 통해 성능을 개선해 보겠습니다."
      ],
      "metadata": {
        "id": "1tTmrkCQA9Rx"
      }
    },
    {
      "cell_type": "markdown",
      "source": [
        "## **3.1. 데이터 준비**"
      ],
      "metadata": {
        "id": "NuKFEA-FpDJ4"
      }
    },
    {
      "cell_type": "markdown",
      "source": [
        "데이터를 준비하겠습니다."
      ],
      "metadata": {
        "id": "q2GnqkCuDQBk"
      }
    },
    {
      "cell_type": "code",
      "source": [
        "from sklearn.model_selection import train_test_split\n",
        "from sklearn.metrics import roc_auc_score\n",
        "from xgboost import XGBClassifier\n",
        "from lightgbm import LGBMClassifier\n",
        "from sklearn.linear_model import LogisticRegression\n",
        "from sklearn.model_selection import GridSearchCV\n",
        "\n",
        "train_num = len(train)\n",
        "X_train_sparse = all_data_sparse[:train_num]\n",
        "X_test_sparse = all_data_sparse[train_num:]\n",
        "y_train_original = train['target']\n",
        "\n",
        "X_train, X_valid, y_train, y_valid = train_test_split(\n",
        "    X_train_sparse, y_train_original, test_size=0.15, stratify=y_train_original, random_state=2023)"
      ],
      "metadata": {
        "id": "Wwh_P7fMkC6Y"
      },
      "execution_count": 29,
      "outputs": []
    },
    {
      "cell_type": "markdown",
      "source": [
        "## **3.2. XGBoost**"
      ],
      "metadata": {
        "id": "VrG_sHpXQic1"
      }
    },
    {
      "cell_type": "markdown",
      "source": [
        "### **3.2.1. optuna**"
      ],
      "metadata": {
        "id": "SutyVUiGInyC"
      }
    },
    {
      "cell_type": "markdown",
      "source": [
        "`optuna` 프레임워크를 사용하겠습니다."
      ],
      "metadata": {
        "id": "WvdSfyljLZXs"
      }
    },
    {
      "cell_type": "code",
      "source": [
        "pip install optuna"
      ],
      "metadata": {
        "colab": {
          "base_uri": "https://localhost:8080/"
        },
        "id": "DIkrcMW6UIAH",
        "outputId": "0def237c-3654-4b16-f5ff-01a14ef89bd3"
      },
      "execution_count": 30,
      "outputs": [
        {
          "output_type": "stream",
          "name": "stdout",
          "text": [
            "Looking in indexes: https://pypi.org/simple, https://us-python.pkg.dev/colab-wheels/public/simple/\n",
            "Collecting optuna\n",
            "  Downloading optuna-3.1.0-py3-none-any.whl (365 kB)\n",
            "\u001b[2K     \u001b[90m━━━━━━━━━━━━━━━━━━━━━━━━━━━━━━━━━━━━━━━\u001b[0m \u001b[32m365.3/365.3 KB\u001b[0m \u001b[31m6.2 MB/s\u001b[0m eta \u001b[36m0:00:00\u001b[0m\n",
            "\u001b[?25hRequirement already satisfied: tqdm in /usr/local/lib/python3.8/dist-packages (from optuna) (4.64.1)\n",
            "Collecting cmaes>=0.9.1\n",
            "  Downloading cmaes-0.9.1-py3-none-any.whl (21 kB)\n",
            "Requirement already satisfied: PyYAML in /usr/local/lib/python3.8/dist-packages (from optuna) (6.0)\n",
            "Requirement already satisfied: sqlalchemy>=1.3.0 in /usr/local/lib/python3.8/dist-packages (from optuna) (1.4.46)\n",
            "Collecting alembic>=1.5.0\n",
            "  Downloading alembic-1.9.2-py3-none-any.whl (210 kB)\n",
            "\u001b[2K     \u001b[90m━━━━━━━━━━━━━━━━━━━━━━━━━━━━━━━━━━━━━━\u001b[0m \u001b[32m210.6/210.6 KB\u001b[0m \u001b[31m11.4 MB/s\u001b[0m eta \u001b[36m0:00:00\u001b[0m\n",
            "\u001b[?25hRequirement already satisfied: packaging>=20.0 in /usr/local/lib/python3.8/dist-packages (from optuna) (21.3)\n",
            "Requirement already satisfied: numpy in /usr/local/lib/python3.8/dist-packages (from optuna) (1.21.6)\n",
            "Collecting colorlog\n",
            "  Downloading colorlog-6.7.0-py2.py3-none-any.whl (11 kB)\n",
            "Collecting Mako\n",
            "  Downloading Mako-1.2.4-py3-none-any.whl (78 kB)\n",
            "\u001b[2K     \u001b[90m━━━━━━━━━━━━━━━━━━━━━━━━━━━━━━━━━━━━━━━━\u001b[0m \u001b[32m78.7/78.7 KB\u001b[0m \u001b[31m8.0 MB/s\u001b[0m eta \u001b[36m0:00:00\u001b[0m\n",
            "\u001b[?25hRequirement already satisfied: importlib-metadata in /usr/local/lib/python3.8/dist-packages (from alembic>=1.5.0->optuna) (6.0.0)\n",
            "Requirement already satisfied: importlib-resources in /usr/local/lib/python3.8/dist-packages (from alembic>=1.5.0->optuna) (5.10.2)\n",
            "Requirement already satisfied: pyparsing!=3.0.5,>=2.0.2 in /usr/local/lib/python3.8/dist-packages (from packaging>=20.0->optuna) (3.0.9)\n",
            "Requirement already satisfied: greenlet!=0.4.17 in /usr/local/lib/python3.8/dist-packages (from sqlalchemy>=1.3.0->optuna) (2.0.1)\n",
            "Requirement already satisfied: zipp>=0.5 in /usr/local/lib/python3.8/dist-packages (from importlib-metadata->alembic>=1.5.0->optuna) (3.11.0)\n",
            "Requirement already satisfied: MarkupSafe>=0.9.2 in /usr/local/lib/python3.8/dist-packages (from Mako->alembic>=1.5.0->optuna) (2.0.1)\n",
            "Installing collected packages: Mako, colorlog, cmaes, alembic, optuna\n",
            "Successfully installed Mako-1.2.4 alembic-1.9.2 cmaes-0.9.1 colorlog-6.7.0 optuna-3.1.0\n"
          ]
        }
      ]
    },
    {
      "cell_type": "code",
      "source": [
        "import optuna\n",
        "from optuna.samplers import TPESampler\n",
        "\n",
        "# 시도 과정을 출력하지 않는 코드입니다.\n",
        "# optuna.logging.set_verbosity(optuna.logging.WARNING)"
      ],
      "metadata": {
        "id": "3AVSJGweUDsu"
      },
      "execution_count": 31,
      "outputs": []
    },
    {
      "cell_type": "markdown",
      "source": [
        "첫 번째 성능 개선 챕터와 달리 `'tree_method': 'gpu_hist'`로 지정하여 GPU와 협력하면서 하이퍼파라미터를 탐색하겠습니다. 아울러 학습 시간을 단축하기 위해 모델 성능 향상과 관련된 핵심적인 파라미터 몇 가지만 중점적으로 탐색해 보겠습니다. 탐색 횟수는 넉넉히 500회로 지정하겠습니다. 탐색 횟수가 높을수록 최적 하이퍼파라미터를 찾을 가능성이 높아지기 때문입니다. 캐글 노트북에서 별도로 진행하겠습니다."
      ],
      "metadata": {
        "id": "uzw_Md30AM0v"
      }
    },
    {
      "cell_type": "code",
      "source": [
        "# `optuna`를 수행할 기반(방침)이 되는 함수를 생성합니다.\n",
        "def objective_XGB(trial, X_train, y_train, X_valid, y_valid):\n",
        "    # 최적화할 하이퍼파라미터를 지정합니다.\n",
        "    params = {\n",
        "        'booster': 'gbtree',\n",
        "        'objective': 'binary:logistic',\n",
        "        'learning_rate': trial.suggest_float('learning_rate', 0.0001, 0.1),\n",
        "        'n_estimators': trial.suggest_int('n_estimators', 100, 2000),\n",
        "        'max_depth': trial.suggest_int('max_depth', 3, 10),\n",
        "        'scale_pos_weight': 2.269, # 타깃값 0의 개수를 타깃값 1의 개수로 나눈 값입니다.\n",
        "\n",
        "        'n_jobs': -1,\n",
        "        'random_state': 2023\n",
        "    }\n",
        "\n",
        "    # 모델 학습 후 roc auc까지 도출합니다.\n",
        "    model = XGBClassifier(**params)\n",
        "    model.fit(X_train, y_train, eval_set=[(X_valid, y_valid)],\n",
        "              early_stopping_rounds=50, verbose=False)\n",
        "    prediction = model.predict_proba(X_valid)[:, 1]\n",
        "    roc_auc = roc_auc_score(y_valid, prediction)\n",
        "\n",
        "    return roc_auc"
      ],
      "metadata": {
        "id": "-NqeotJ0Q3Ha"
      },
      "execution_count": 41,
      "outputs": []
    },
    {
      "cell_type": "code",
      "source": [
        "# 적용할 파라미터 목록입니다.\n",
        "    # params = {\n",
        "    #     'booster': trial.suggest_categorical('booster', ['gbtree', 'dart']),\n",
        "    #     'objective': 'binary:logistic',\n",
        "    #     'learning_rate': trial.suggest_float('learning_rate', 0.0001, 0.1),\n",
        "    #     'n_estimators': trial.suggest_int('n_estimators', 100, 2000),\n",
        "    #     'max_depth': trial.suggest_int('max_depth', 3, 10),\n",
        "    #     'subsample': trial.suggest_float('subsample', 0.6, 1),\n",
        "    #     'colsample_bytree': trial.suggest_float('colsample_bytree', 0.6, 1),\n",
        "    #     'reg_alpha': trial.suggest_float('reg_alpha', 0, 5),\n",
        "    #     'reg_lambda': trial.suggest_float('reg_lambda', 1.1, 1.5),\n",
        "    #     'gamma': trial.suggest_float('gamma', 0, 8),\n",
        "    #     'min_child_weight': trial.suggest_float('min_child_weight', 1, 2),\n",
        "    #     'scale_pos_weight': 2.269, # 타깃값 0의 개수를 타깃값 1의 개수로 나눈 값입니다.\n",
        "    #     'tree_method': 'gpu_hist', # 데이터 크기가 크므로 GPU를 사용합니다.\n",
        "    #     'n_jobs': -1,\n",
        "    #     'random_state': 2023\n",
        "    # }"
      ],
      "metadata": {
        "id": "o85q1sMSfYGP"
      },
      "execution_count": null,
      "outputs": []
    },
    {
      "cell_type": "code",
      "source": [
        "# roc auc가 최대가 되는 값을 추구합니다.\n",
        "study_xgb = optuna.create_study(direction='maximize', sampler=TPESampler())\n",
        "# 최적 하이퍼파라미터를 500회만큼 탐색합니다.\n",
        "study_xgb.optimize(lambda trial: objective_XGB(trial, X_train, y_train, X_valid, y_valid),\n",
        "                   n_trials=500, show_progress_bar=True)\n",
        "\n",
        "print(f'Best trial score: {study_xgb.best_trial.value}') # 가장 좋은 점수 및 시도 차례를 출력합니다.\n",
        "print(f'Best params: {study_xgb.best_trial.params}') # 최적 하이퍼파라미터를 출력합니다."
      ],
      "metadata": {
        "id": "BqMYvabhQ482",
        "colab": {
          "base_uri": "https://localhost:8080/",
          "height": 170,
          "referenced_widgets": [
            "f311438b01f3421bb81cffd0c2800ac7",
            "951faeea8d974cac8675af6a2ee1b3f7",
            "f18c774f4aa54ea4b22306a226d02f81",
            "a6bdb6132d3942639adbfa81d5626566",
            "f6295c8c929c483f90cc2408bbe12a3a",
            "31cbb066ec6c4c73a556276417c3401b",
            "dacb9d034ac44a3389891c4cf9093c66",
            "e41203fa48a9474bad564cd97bd9d72f",
            "70ad26c5c03441d5a7be92d47afa514b",
            "362b57e68bc242cebdf1b0603cd4d4a0",
            "5d6ac588bb78453cb0071cbd6a10d140"
          ]
        },
        "outputId": "7c893136-310a-46ae-b292-c04532a925d1"
      },
      "execution_count": null,
      "outputs": [
        {
          "output_type": "stream",
          "name": "stderr",
          "text": [
            "\u001b[32m[I 2023-01-22 20:43:42,609]\u001b[0m A new study created in memory with name: no-name-162c3b15-3f8b-4282-a384-6bc70f8431b2\u001b[0m\n",
            "/usr/local/lib/python3.8/dist-packages/optuna/progress_bar.py:56: ExperimentalWarning: Progress bar is experimental (supported from v1.2.0). The interface can change in the future.\n",
            "  self._init_valid()\n"
          ]
        },
        {
          "output_type": "display_data",
          "data": {
            "text/plain": [
              "  0%|          | 0/500 [00:00<?, ?it/s]"
            ],
            "application/vnd.jupyter.widget-view+json": {
              "version_major": 2,
              "version_minor": 0,
              "model_id": "f311438b01f3421bb81cffd0c2800ac7"
            }
          },
          "metadata": {}
        },
        {
          "output_type": "stream",
          "name": "stdout",
          "text": [
            "\u001b[32m[I 2023-01-22 20:54:21,171]\u001b[0m Trial 0 finished with value: 0.7781788682480579 and parameters: {'learning_rate': 0.09763321719869399, 'n_estimators': 1461, 'max_depth': 10}. Best is trial 0 with value: 0.7781788682480579.\u001b[0m\n",
            "\u001b[32m[I 2023-01-22 21:00:30,668]\u001b[0m Trial 1 finished with value: 0.7764150431808445 and parameters: {'learning_rate': 0.05415999027625729, 'n_estimators': 1290, 'max_depth': 9}. Best is trial 0 with value: 0.7781788682480579.\u001b[0m\n",
            "\u001b[32m[I 2023-01-22 21:02:03,337]\u001b[0m Trial 2 finished with value: 0.7658124937618086 and parameters: {'learning_rate': 0.04123974491690409, 'n_estimators': 344, 'max_depth': 3}. Best is trial 0 with value: 0.7781788682480579.\u001b[0m\n",
            "\u001b[32m[I 2023-01-22 21:06:59,720]\u001b[0m Trial 3 finished with value: 0.7757531668869432 and parameters: {'learning_rate': 0.08132461982720901, 'n_estimators': 1155, 'max_depth': 10}. Best is trial 0 with value: 0.7781788682480579.\u001b[0m\n"
          ]
        }
      ]
    },
    {
      "cell_type": "markdown",
      "source": [
        "소요시간 25시간 53분까지 탐색한 결과는 아래와 같습니다.\n",
        "\n",
        "```\n",
        "[I 2023-01-22 05:53:13,124] Trial 58 finished with value: 0.7883109672519307 and parameters: {'learning_rate': 0.09786587063265861, 'n_estimators': 9795, 'max_depth': 5}. Best is trial 57 with value: 0.7937624923748361.\n",
        "```\n",
        "\n",
        "총 58회만큼 탐색했으며 57회에 발견한 최적 하이퍼파라미터를 적용하여 훈련한 점수는 0.7938입니다. 베이스라인 모델링 챕터에서 LogisticRegression으로 하이퍼파라미터 튜닝 작업 없이 그대로 적용한 결과는 0.7996입니다. XGBoost가 약간 낮은 수준입니다. 연습 문제이므로 더 공들이지 않고 중단하겠습니다. 지나치게 오랜 시간이 소요됩니다.\n",
        "\n",
        "탐색을 통해 찾은 하이퍼파라미터를 기반으로 전체 데이터를 사용하여 모델을 훈련하겠습니다. 물론 데이터 전체를 적용하여 탐색한 하이퍼파라미터가 아니기 때문에 전체 데이터에 알맞은 최적 하이퍼파라미터는 아닐 수 있습니다. 그렇다고 큰 차이까지 나진 않습니다."
      ],
      "metadata": {
        "id": "-dXBK3aI1x7m"
      }
    },
    {
      "cell_type": "code",
      "source": [
        "model_xgb_optuna = XGBClassifier(\n",
        "    max_depth=5,\n",
        "    learning_rate=0.09786587063265861,\n",
        "    n_estimators=9795,\n",
        "    objective='binary:logistic',\n",
        "    booster='gbtree',\n",
        "    n_jobs=-1,\n",
        "    scale_pos_weight=2.269,\n",
        "    random_state=2023\n",
        "    )\n",
        "model_xgb_optuna.fit(X_train_sparse, y_train_original)"
      ],
      "metadata": {
        "id": "gx4HDl8EQ61e",
        "colab": {
          "base_uri": "https://localhost:8080/"
        },
        "outputId": "c1a8582c-3779-4feb-8f35-d8d3535c96b9"
      },
      "execution_count": 31,
      "outputs": [
        {
          "output_type": "execute_result",
          "data": {
            "text/plain": [
              "XGBClassifier(learning_rate=0.09786587063265861, max_depth=5, n_estimators=9795,\n",
              "              n_jobs=-1, random_state=2023, scale_pos_weight=2.269)"
            ]
          },
          "metadata": {},
          "execution_count": 31
        }
      ]
    },
    {
      "cell_type": "code",
      "source": [
        "submission['target'] = model_xgb_optuna.predict_proba(X_test_sparse)[:, 1]\n",
        "# submission.to_csv('Categorical_Feature_Encoding_Challenge_submission8.csv')"
      ],
      "metadata": {
        "id": "rbjPE1xqQ8UI"
      },
      "execution_count": 32,
      "outputs": []
    },
    {
      "cell_type": "markdown",
      "source": [
        "프라이빗 스코어는 0.78196입니다. 기본 하이퍼파라미터를 사용한 모델보다는 개선됐지만 만족스럽지 않은 성능입니다."
      ],
      "metadata": {
        "id": "BWlLa9-XxaYJ"
      }
    },
    {
      "cell_type": "markdown",
      "source": [
        "## **3.3. LightGBM**"
      ],
      "metadata": {
        "id": "6_KcOSe7QodI"
      }
    },
    {
      "cell_type": "markdown",
      "source": [
        "### **3.3.1. optuna**"
      ],
      "metadata": {
        "id": "fAe6cYbqIxn4"
      }
    },
    {
      "cell_type": "markdown",
      "source": [
        "LightGBM은 XGBoost보다는 수행 시간이 덜 들지만 역시 만만치 않습니다. 많은 하이퍼파라미터를 탐색하되 반복 횟수를 50회로 줄여서 탐색을 수행하겠습니다."
      ],
      "metadata": {
        "id": "4aKvPnOUAd4K"
      }
    },
    {
      "cell_type": "code",
      "source": [
        "def objective_LGBM(trial, X_train, y_train, X_valid, y_valid):\n",
        "    params = {\n",
        "        'boosting_type': trial.suggest_categorical('boosting_type', ['gbdt', 'dart']),\n",
        "        'learning_rate': trial.suggest_float('learning_rate', 0.001, 0.1),\n",
        "        'n_estimators': trial.suggest_int('n_estimators', 100, 10000),\n",
        "        'num_leaves': trial.suggest_int('num_leaves', 30, 40),\n",
        "        'max_depth': -1,\n",
        "        'subsample': trial.suggest_float('subsample', 0.6, 1),\n",
        "        'colsample_bytree': trial.suggest_float('colsample_bytree', 0.6, 1),\n",
        "        'reg_alpha': trial.suggest_float('reg_alpha', 0.7, 0.9),\n",
        "        'reg_lambda': trial.suggest_float('reg_lambda', 0.9, 1),\n",
        "        'min_child_samples': trial.suggest_int('min_child_samples', 6, 10),\n",
        "        'min_child_weight': trial.suggest_float('min_child_weight', 10, 40),\n",
        "        'random_state': 2023\n",
        "    }\n",
        "\n",
        "    model = LGBMClassifier(**params)\n",
        "    model.fit(X_train, y_train, eval_set=[(X_valid, y_valid)],\n",
        "              early_stopping_rounds=50, verbose=False)\n",
        "    prediction = model.predict_proba(X_valid)[:, 1]\n",
        "    roc_auc = roc_auc_score(y_valid, prediction)\n",
        "\n",
        "    return roc_auc"
      ],
      "metadata": {
        "id": "zd34ZEsSRPXl"
      },
      "execution_count": null,
      "outputs": []
    },
    {
      "cell_type": "code",
      "source": [
        "study_lgbm = optuna.create_study(direction='maximize', sampler=TPESampler())\n",
        "study_lgbm.optimize(lambda trial: objective_LGBM(trial, X_train, y_train, X_valid, y_valid),\n",
        "                    n_trials=50, show_progress_bar=True)\n",
        "\n",
        "print(f'Best trial score: {study_lgbm.best_trial.value}')\n",
        "print(f'Best params: {study_lgbm.best_trial.params}')"
      ],
      "metadata": {
        "id": "D5F3-kB-RRCm",
        "colab": {
          "base_uri": "https://localhost:8080/",
          "height": 1000,
          "referenced_widgets": [
            "c9b1d11b2a11458c84d17e8dfab075bd",
            "fe6d5cb3a22341bcbc54fdc8881ee305",
            "e063405ab23148b4bf5b02785797e286",
            "f86658a634fc4078aaa3728fc6d793f7",
            "aa730b3d4b034e5bb72c03160984d705",
            "d48f11724a824cb1a42c8e846d17a287",
            "df74e6f23c4043b6ae5fb8168dbfb218",
            "bbc7fc091d1c4adf8ea6e08ec3f9ae03",
            "879c1b46d9164165a47391834878efe4",
            "db60216ed10e46aa9bcba0fe12f02e82",
            "abc9604654694886897faa10513224f0"
          ]
        },
        "outputId": "ceb2fc36-4494-4d6b-8328-483ee9d5358b"
      },
      "execution_count": null,
      "outputs": [
        {
          "output_type": "stream",
          "name": "stderr",
          "text": [
            "\u001b[32m[I 2023-01-20 09:32:14,593]\u001b[0m A new study created in memory with name: no-name-a120530f-7164-4300-be24-8d36f2e06220\u001b[0m\n",
            "/usr/local/lib/python3.8/dist-packages/optuna/progress_bar.py:56: ExperimentalWarning: Progress bar is experimental (supported from v1.2.0). The interface can change in the future.\n",
            "  self._init_valid()\n"
          ]
        },
        {
          "output_type": "display_data",
          "data": {
            "text/plain": [
              "  0%|          | 0/50 [00:00<?, ?it/s]"
            ],
            "application/vnd.jupyter.widget-view+json": {
              "version_major": 2,
              "version_minor": 0,
              "model_id": "c9b1d11b2a11458c84d17e8dfab075bd"
            }
          },
          "metadata": {}
        },
        {
          "output_type": "stream",
          "name": "stdout",
          "text": [
            "\u001b[32m[I 2023-01-20 09:33:28,807]\u001b[0m Trial 0 finished with value: 0.7898965594295287 and parameters: {'learning_rate': 0.07956369894405894, 'n_estimators': 2608, 'num_leaves': 32, 'subsample': 0.6265924109019706, 'colsample_bytree': 0.8031282581540565, 'reg_alpha': 0.7156150567409125, 'reg_lambda': 0.9339930839510621, 'min_child_samples': 8, 'min_child_weight': 38.71266335179969}. Best is trial 0 with value: 0.7898965594295287.\u001b[0m\n",
            "\u001b[32m[I 2023-01-20 09:34:53,329]\u001b[0m Trial 1 finished with value: 0.7904565457674677 and parameters: {'learning_rate': 0.0733661119447559, 'n_estimators': 7057, 'num_leaves': 35, 'subsample': 0.7348837513430502, 'colsample_bytree': 0.8680469013982914, 'reg_alpha': 0.8702023037296185, 'reg_lambda': 0.9809488915749904, 'min_child_samples': 10, 'min_child_weight': 35.90811953176664}. Best is trial 1 with value: 0.7904565457674677.\u001b[0m\n",
            "\u001b[32m[I 2023-01-20 09:36:03,846]\u001b[0m Trial 2 finished with value: 0.7910656936615447 and parameters: {'learning_rate': 0.08209502738335393, 'n_estimators': 9487, 'num_leaves': 39, 'subsample': 0.7864987428070109, 'colsample_bytree': 0.7099254622382523, 'reg_alpha': 0.8257184481452209, 'reg_lambda': 0.9734749584001061, 'min_child_samples': 8, 'min_child_weight': 35.1410859226375}. Best is trial 2 with value: 0.7910656936615447.\u001b[0m\n",
            "\u001b[32m[I 2023-01-20 09:38:52,435]\u001b[0m Trial 3 finished with value: 0.7930194427942194 and parameters: {'learning_rate': 0.042631057312319275, 'n_estimators': 5719, 'num_leaves': 38, 'subsample': 0.9777989895208681, 'colsample_bytree': 0.8932656840803541, 'reg_alpha': 0.8700028666189812, 'reg_lambda': 0.9016378315111921, 'min_child_samples': 7, 'min_child_weight': 28.928504250049997}. Best is trial 3 with value: 0.7930194427942194.\u001b[0m\n",
            "\u001b[32m[I 2023-01-20 09:40:57,626]\u001b[0m Trial 4 finished with value: 0.7942882979761996 and parameters: {'learning_rate': 0.06438604154373094, 'n_estimators': 7593, 'num_leaves': 37, 'subsample': 0.8199146357426812, 'colsample_bytree': 0.9971882912703036, 'reg_alpha': 0.8820142559787905, 'reg_lambda': 0.9998323915557016, 'min_child_samples': 6, 'min_child_weight': 16.960338888342243}. Best is trial 4 with value: 0.7942882979761996.\u001b[0m\n",
            "\u001b[32m[I 2023-01-20 09:42:02,553]\u001b[0m Trial 5 finished with value: 0.7885381007583967 and parameters: {'learning_rate': 0.04534227609042028, 'n_estimators': 627, 'num_leaves': 38, 'subsample': 0.7924557803552333, 'colsample_bytree': 0.9526076642090195, 'reg_alpha': 0.7624744236170506, 'reg_lambda': 0.9170055544901344, 'min_child_samples': 8, 'min_child_weight': 36.33410217048129}. Best is trial 4 with value: 0.7942882979761996.\u001b[0m\n",
            "\u001b[32m[I 2023-01-20 09:43:03,628]\u001b[0m Trial 6 finished with value: 0.7776802906804638 and parameters: {'learning_rate': 0.01762649887621321, 'n_estimators': 708, 'num_leaves': 31, 'subsample': 0.7127216643667655, 'colsample_bytree': 0.8119921562717257, 'reg_alpha': 0.700239884006056, 'reg_lambda': 0.9105296239554278, 'min_child_samples': 6, 'min_child_weight': 12.657334008815939}. Best is trial 4 with value: 0.7942882979761996.\u001b[0m\n",
            "\u001b[32m[I 2023-01-20 09:45:29,728]\u001b[0m Trial 7 finished with value: 0.7910594487460774 and parameters: {'learning_rate': 0.036118579619344816, 'n_estimators': 5924, 'num_leaves': 35, 'subsample': 0.9440455930018137, 'colsample_bytree': 0.7007813121560752, 'reg_alpha': 0.7761536897613714, 'reg_lambda': 0.9235865624867509, 'min_child_samples': 8, 'min_child_weight': 35.399311582791285}. Best is trial 4 with value: 0.7942882979761996.\u001b[0m\n",
            "\u001b[32m[I 2023-01-20 09:47:18,104]\u001b[0m Trial 8 finished with value: 0.7912429073837753 and parameters: {'learning_rate': 0.05360943153908393, 'n_estimators': 3490, 'num_leaves': 40, 'subsample': 0.6933668536072798, 'colsample_bytree': 0.6319702544971009, 'reg_alpha': 0.8904982756195297, 'reg_lambda': 0.9092708382877825, 'min_child_samples': 6, 'min_child_weight': 35.993386088549386}. Best is trial 4 with value: 0.7942882979761996.\u001b[0m\n",
            "\u001b[32m[I 2023-01-20 09:49:57,112]\u001b[0m Trial 9 finished with value: 0.7930794311963529 and parameters: {'learning_rate': 0.03345354625251516, 'n_estimators': 1666, 'num_leaves': 34, 'subsample': 0.6293255752050634, 'colsample_bytree': 0.9696436079963332, 'reg_alpha': 0.8706929313076703, 'reg_lambda': 0.9774130272490162, 'min_child_samples': 10, 'min_child_weight': 20.954553478904398}. Best is trial 4 with value: 0.7942882979761996.\u001b[0m\n",
            "\u001b[32m[I 2023-01-20 09:51:14,759]\u001b[0m Trial 10 finished with value: 0.7934498907459597 and parameters: {'learning_rate': 0.09769239751072326, 'n_estimators': 9874, 'num_leaves': 37, 'subsample': 0.8864891801236009, 'colsample_bytree': 0.995461850308313, 'reg_alpha': 0.8265835588976583, 'reg_lambda': 0.9983873978849394, 'min_child_samples': 6, 'min_child_weight': 11.672504673412902}. Best is trial 4 with value: 0.7942882979761996.\u001b[0m\n",
            "\u001b[32m[I 2023-01-20 09:52:41,687]\u001b[0m Trial 11 finished with value: 0.7940177849843043 and parameters: {'learning_rate': 0.09077197977997693, 'n_estimators': 9853, 'num_leaves': 37, 'subsample': 0.8688114700056039, 'colsample_bytree': 0.9936347770350774, 'reg_alpha': 0.8323940831233484, 'reg_lambda': 0.9916769690898368, 'min_child_samples': 6, 'min_child_weight': 10.277346262455143}. Best is trial 4 with value: 0.7942882979761996.\u001b[0m\n",
            "\u001b[32m[I 2023-01-20 09:53:53,388]\u001b[0m Trial 12 finished with value: 0.7941161476360815 and parameters: {'learning_rate': 0.09985945010886078, 'n_estimators': 8090, 'num_leaves': 37, 'subsample': 0.8507735685317316, 'colsample_bytree': 0.9996638120105223, 'reg_alpha': 0.8372590485094528, 'reg_lambda': 0.9970768158483098, 'min_child_samples': 7, 'min_child_weight': 14.836252505452418}. Best is trial 4 with value: 0.7942882979761996.\u001b[0m\n",
            "\u001b[32m[I 2023-01-20 09:55:45,728]\u001b[0m Trial 13 finished with value: 0.7944181643076799 and parameters: {'learning_rate': 0.0685489284965402, 'n_estimators': 7682, 'num_leaves': 33, 'subsample': 0.8664518618076151, 'colsample_bytree': 0.9185407267547816, 'reg_alpha': 0.897539615750197, 'reg_lambda': 0.9615678220004713, 'min_child_samples': 7, 'min_child_weight': 17.252991564632833}. Best is trial 13 with value: 0.7944181643076799.\u001b[0m\n",
            "\u001b[32m[I 2023-01-20 09:58:11,045]\u001b[0m Trial 14 finished with value: 0.7942241346678225 and parameters: {'learning_rate': 0.058794966109805606, 'n_estimators': 7648, 'num_leaves': 33, 'subsample': 0.9149148527068557, 'colsample_bytree': 0.9111428169825839, 'reg_alpha': 0.8979417345674318, 'reg_lambda': 0.9558212402463667, 'min_child_samples': 7, 'min_child_weight': 18.86559817214266}. Best is trial 13 with value: 0.7944181643076799.\u001b[0m\n",
            "\u001b[32m[I 2023-01-20 10:00:16,014]\u001b[0m Trial 15 finished with value: 0.7947318707167599 and parameters: {'learning_rate': 0.06623652643247674, 'n_estimators': 4453, 'num_leaves': 30, 'subsample': 0.8249619282907037, 'colsample_bytree': 0.9236986486338571, 'reg_alpha': 0.8998347765828552, 'reg_lambda': 0.9580432963431746, 'min_child_samples': 7, 'min_child_weight': 16.992219175717832}. Best is trial 15 with value: 0.7947318707167599.\u001b[0m\n",
            "\u001b[32m[I 2023-01-20 10:02:21,995]\u001b[0m Trial 16 finished with value: 0.7941581083511442 and parameters: {'learning_rate': 0.06796102978516501, 'n_estimators': 4276, 'num_leaves': 30, 'subsample': 0.9923830529392677, 'colsample_bytree': 0.9263015859296766, 'reg_alpha': 0.8988641832500602, 'reg_lambda': 0.9535564355799864, 'min_child_samples': 9, 'min_child_weight': 22.49370438361817}. Best is trial 15 with value: 0.7947318707167599.\u001b[0m\n",
            "\u001b[32m[I 2023-01-20 10:04:46,875]\u001b[0m Trial 17 finished with value: 0.7948532337294513 and parameters: {'learning_rate': 0.05891316474414253, 'n_estimators': 4738, 'num_leaves': 30, 'subsample': 0.8461235017143258, 'colsample_bytree': 0.8644105976122909, 'reg_alpha': 0.8499745100408532, 'reg_lambda': 0.9624933370509468, 'min_child_samples': 7, 'min_child_weight': 16.50151362385171}. Best is trial 17 with value: 0.7948532337294513.\u001b[0m\n",
            "\u001b[32m[I 2023-01-20 10:07:02,930]\u001b[0m Trial 18 finished with value: 0.7942654255372038 and parameters: {'learning_rate': 0.05851417292963168, 'n_estimators': 4546, 'num_leaves': 30, 'subsample': 0.8166847723557524, 'colsample_bytree': 0.8543808959843181, 'reg_alpha': 0.8559026883904225, 'reg_lambda': 0.943906387612997, 'min_child_samples': 9, 'min_child_weight': 24.447970097150403}. Best is trial 17 with value: 0.7948532337294513.\u001b[0m\n",
            "\u001b[32m[I 2023-01-20 10:11:40,929]\u001b[0m Trial 19 finished with value: 0.7711754750889218 and parameters: {'learning_rate': 0.00255758699747944, 'n_estimators': 3233, 'num_leaves': 31, 'subsample': 0.9229252777058536, 'colsample_bytree': 0.8473968396778706, 'reg_alpha': 0.8536103555174217, 'reg_lambda': 0.9655623366716751, 'min_child_samples': 7, 'min_child_weight': 14.87945764754032}. Best is trial 17 with value: 0.7948532337294513.\u001b[0m\n",
            "\u001b[32m[I 2023-01-20 10:14:14,076]\u001b[0m Trial 20 finished with value: 0.7938064905371796 and parameters: {'learning_rate': 0.04947437931943924, 'n_estimators': 6221, 'num_leaves': 32, 'subsample': 0.7794522564468349, 'colsample_bytree': 0.9383520956221435, 'reg_alpha': 0.8084402349252652, 'reg_lambda': 0.9426112239050863, 'min_child_samples': 9, 'min_child_weight': 20.031061943048737}. Best is trial 17 with value: 0.7948532337294513.\u001b[0m\n",
            "\u001b[32m[I 2023-01-20 10:16:09,643]\u001b[0m Trial 21 finished with value: 0.7947295076500505 and parameters: {'learning_rate': 0.07072576401031927, 'n_estimators': 5076, 'num_leaves': 33, 'subsample': 0.8464060636197458, 'colsample_bytree': 0.8958742727438536, 'reg_alpha': 0.8827711782801374, 'reg_lambda': 0.9622468575282532, 'min_child_samples': 7, 'min_child_weight': 17.38186910541934}. Best is trial 17 with value: 0.7948532337294513.\u001b[0m\n",
            "\u001b[32m[I 2023-01-20 10:18:00,524]\u001b[0m Trial 22 finished with value: 0.7949625023062287 and parameters: {'learning_rate': 0.07810394007172, 'n_estimators': 5297, 'num_leaves': 30, 'subsample': 0.8393736465458923, 'colsample_bytree': 0.8851201935375548, 'reg_alpha': 0.8788337149624108, 'reg_lambda': 0.9658368854846896, 'min_child_samples': 7, 'min_child_weight': 14.9975855286884}. Best is trial 22 with value: 0.7949625023062287.\u001b[0m\n",
            "\u001b[32m[I 2023-01-20 10:19:38,355]\u001b[0m Trial 23 finished with value: 0.7947209694434658 and parameters: {'learning_rate': 0.08091146817120802, 'n_estimators': 3785, 'num_leaves': 30, 'subsample': 0.8290999674467159, 'colsample_bytree': 0.8769008238413157, 'reg_alpha': 0.8538982463014968, 'reg_lambda': 0.9690951196429733, 'min_child_samples': 7, 'min_child_weight': 13.297241445990153}. Best is trial 22 with value: 0.7949625023062287.\u001b[0m\n",
            "\u001b[32m[I 2023-01-20 10:22:13,066]\u001b[0m Trial 24 finished with value: 0.7946486679752305 and parameters: {'learning_rate': 0.05704105140137402, 'n_estimators': 5005, 'num_leaves': 31, 'subsample': 0.8920494353451651, 'colsample_bytree': 0.8263986614371975, 'reg_alpha': 0.8711851513371599, 'reg_lambda': 0.949579019023979, 'min_child_samples': 7, 'min_child_weight': 10.152691186732673}. Best is trial 22 with value: 0.7949625023062287.\u001b[0m\n",
            "\u001b[32m[I 2023-01-20 10:24:32,125]\u001b[0m Trial 25 finished with value: 0.7949279424556044 and parameters: {'learning_rate': 0.06164011793407535, 'n_estimators': 2665, 'num_leaves': 30, 'subsample': 0.7614878266041551, 'colsample_bytree': 0.8838092317816763, 'reg_alpha': 0.8490993451890115, 'reg_lambda': 0.9835098669349362, 'min_child_samples': 8, 'min_child_weight': 14.986079174431792}. Best is trial 22 with value: 0.7949625023062287.\u001b[0m\n",
            "\u001b[32m[I 2023-01-20 10:26:30,378]\u001b[0m Trial 26 finished with value: 0.7947652955510909 and parameters: {'learning_rate': 0.07653451901691365, 'n_estimators': 2459, 'num_leaves': 32, 'subsample': 0.7527326231538706, 'colsample_bytree': 0.8310026766944802, 'reg_alpha': 0.8453815706402616, 'reg_lambda': 0.9812633260390554, 'min_child_samples': 8, 'min_child_weight': 15.087822269798387}. Best is trial 22 with value: 0.7949625023062287.\u001b[0m\n",
            "\u001b[32m[I 2023-01-20 10:27:59,053]\u001b[0m Trial 27 finished with value: 0.7944997017384181 and parameters: {'learning_rate': 0.08754719503752409, 'n_estimators': 2096, 'num_leaves': 31, 'subsample': 0.7722869126118591, 'colsample_bytree': 0.8803458822083748, 'reg_alpha': 0.8159777313443246, 'reg_lambda': 0.9701473431854502, 'min_child_samples': 9, 'min_child_weight': 13.385142821151565}. Best is trial 22 with value: 0.7949625023062287.\u001b[0m\n",
            "\u001b[32m[I 2023-01-20 10:29:54,117]\u001b[0m Trial 28 finished with value: 0.7943646254960828 and parameters: {'learning_rate': 0.06434472133414233, 'n_estimators': 1463, 'num_leaves': 34, 'subsample': 0.7575592954742069, 'colsample_bytree': 0.7847039779597172, 'reg_alpha': 0.8452119715550138, 'reg_lambda': 0.984864305032215, 'min_child_samples': 8, 'min_child_weight': 19.235128437316334}. Best is trial 22 with value: 0.7949625023062287.\u001b[0m\n",
            "\u001b[32m[I 2023-01-20 10:31:45,857]\u001b[0m Trial 29 finished with value: 0.794375110441679 and parameters: {'learning_rate': 0.07640292150975103, 'n_estimators': 3012, 'num_leaves': 32, 'subsample': 0.8052531746118979, 'colsample_bytree': 0.8006404112408195, 'reg_alpha': 0.7997534116920123, 'reg_lambda': 0.9668204525925014, 'min_child_samples': 8, 'min_child_weight': 21.875653114757394}. Best is trial 22 with value: 0.7949625023062287.\u001b[0m\n",
            "\u001b[32m[I 2023-01-20 10:33:31,824]\u001b[0m Trial 30 finished with value: 0.7949595694055195 and parameters: {'learning_rate': 0.08434086720137136, 'n_estimators': 5254, 'num_leaves': 31, 'subsample': 0.8536072815870356, 'colsample_bytree': 0.8536693110729081, 'reg_alpha': 0.8627755829996904, 'reg_lambda': 0.9741199899463823, 'min_child_samples': 8, 'min_child_weight': 15.440105965062173}. Best is trial 22 with value: 0.7949625023062287.\u001b[0m\n",
            "\u001b[32m[I 2023-01-20 10:35:21,439]\u001b[0m Trial 31 finished with value: 0.7948047280638767 and parameters: {'learning_rate': 0.08280985041103395, 'n_estimators': 6585, 'num_leaves': 30, 'subsample': 0.8426842699355509, 'colsample_bytree': 0.8621543730248744, 'reg_alpha': 0.8574776962671027, 'reg_lambda': 0.9728369511512285, 'min_child_samples': 8, 'min_child_weight': 15.425729128853279}. Best is trial 22 with value: 0.7949625023062287.\u001b[0m\n",
            "\u001b[32m[I 2023-01-20 10:37:12,207]\u001b[0m Trial 32 finished with value: 0.7945037998915105 and parameters: {'learning_rate': 0.07525521042617424, 'n_estimators': 5421, 'num_leaves': 31, 'subsample': 0.8040188271689436, 'colsample_bytree': 0.8935977328387361, 'reg_alpha': 0.8658904359189149, 'reg_lambda': 0.9865919838419216, 'min_child_samples': 9, 'min_child_weight': 11.967727899563766}. Best is trial 22 with value: 0.7949625023062287.\u001b[0m\n",
            "\u001b[32m[I 2023-01-20 10:38:45,666]\u001b[0m Trial 33 finished with value: 0.7940592758770486 and parameters: {'learning_rate': 0.08811850175234459, 'n_estimators': 4029, 'num_leaves': 30, 'subsample': 0.8659877973394344, 'colsample_bytree': 0.8505557089299861, 'reg_alpha': 0.883301806967377, 'reg_lambda': 0.975702433903145, 'min_child_samples': 8, 'min_child_weight': 18.95493172491528}. Best is trial 22 with value: 0.7949625023062287.\u001b[0m\n",
            "\u001b[32m[I 2023-01-20 10:40:51,412]\u001b[0m Trial 34 finished with value: 0.795178636853572 and parameters: {'learning_rate': 0.07401073362642446, 'n_estimators': 6997, 'num_leaves': 31, 'subsample': 0.8016577934815098, 'colsample_bytree': 0.8747692098547708, 'reg_alpha': 0.8396867483808421, 'reg_lambda': 0.9775508631575757, 'min_child_samples': 8, 'min_child_weight': 13.444943166244059}. Best is trial 34 with value: 0.795178636853572.\u001b[0m\n",
            "\u001b[32m[I 2023-01-20 10:42:48,261]\u001b[0m Trial 35 finished with value: 0.7949983367243302 and parameters: {'learning_rate': 0.073609831431511, 'n_estimators': 8369, 'num_leaves': 32, 'subsample': 0.7943499238478915, 'colsample_bytree': 0.9056833377323376, 'reg_alpha': 0.8659556433268162, 'reg_lambda': 0.9787413500037854, 'min_child_samples': 8, 'min_child_weight': 13.777429566350424}. Best is trial 34 with value: 0.795178636853572.\u001b[0m\n",
            "\u001b[32m[I 2023-01-20 10:44:37,658]\u001b[0m Trial 36 finished with value: 0.7944856256756967 and parameters: {'learning_rate': 0.07249718609187483, 'n_estimators': 8802, 'num_leaves': 32, 'subsample': 0.7918469948843257, 'colsample_bytree': 0.9494345101306075, 'reg_alpha': 0.8782886536598679, 'reg_lambda': 0.9771558515334245, 'min_child_samples': 10, 'min_child_weight': 13.710573055984595}. Best is trial 34 with value: 0.795178636853572.\u001b[0m\n",
            "\u001b[32m[I 2023-01-20 10:46:08,961]\u001b[0m Trial 37 finished with value: 0.7933935771916615 and parameters: {'learning_rate': 0.08125968801683697, 'n_estimators': 8745, 'num_leaves': 34, 'subsample': 0.8024524055897989, 'colsample_bytree': 0.9079736805712096, 'reg_alpha': 0.8626692824053983, 'reg_lambda': 0.9715110201906345, 'min_child_samples': 9, 'min_child_weight': 11.500233201604178}. Best is trial 34 with value: 0.795178636853572.\u001b[0m\n",
            "\u001b[32m[I 2023-01-20 10:48:18,159]\u001b[0m Trial 38 finished with value: 0.794547328231536 and parameters: {'learning_rate': 0.07282860773147432, 'n_estimators': 6828, 'num_leaves': 31, 'subsample': 0.8185148787694554, 'colsample_bytree': 0.9006737817319344, 'reg_alpha': 0.8739572386514355, 'reg_lambda': 0.9889652651310015, 'min_child_samples': 8, 'min_child_weight': 13.058114531409913}. Best is trial 34 with value: 0.795178636853572.\u001b[0m\n",
            "\u001b[32m[I 2023-01-20 10:49:49,091]\u001b[0m Trial 39 finished with value: 0.7944115449298701 and parameters: {'learning_rate': 0.09222071602506693, 'n_estimators': 7242, 'num_leaves': 33, 'subsample': 0.7897936965862047, 'colsample_bytree': 0.779371086896105, 'reg_alpha': 0.8643467809895672, 'reg_lambda': 0.9780619158893706, 'min_child_samples': 8, 'min_child_weight': 10.058511413069414}. Best is trial 34 with value: 0.795178636853572.\u001b[0m\n",
            "\u001b[32m[I 2023-01-20 10:51:15,958]\u001b[0m Trial 40 finished with value: 0.7933243109616699 and parameters: {'learning_rate': 0.08494278240270353, 'n_estimators': 5761, 'num_leaves': 32, 'subsample': 0.7202151841580461, 'colsample_bytree': 0.834457136056163, 'reg_alpha': 0.8863089921787333, 'reg_lambda': 0.9735849855746782, 'min_child_samples': 8, 'min_child_weight': 27.57006513981648}. Best is trial 34 with value: 0.795178636853572.\u001b[0m\n",
            "\u001b[32m[I 2023-01-20 10:53:01,812]\u001b[0m Trial 41 finished with value: 0.7946587947394553 and parameters: {'learning_rate': 0.0760318682761228, 'n_estimators': 8588, 'num_leaves': 31, 'subsample': 0.769364165976769, 'colsample_bytree': 0.8814250658019358, 'reg_alpha': 0.8410656388649934, 'reg_lambda': 0.9828798246089204, 'min_child_samples': 8, 'min_child_weight': 14.118567986600334}. Best is trial 34 with value: 0.795178636853572.\u001b[0m\n",
            "\u001b[32m[I 2023-01-20 10:54:42,073]\u001b[0m Trial 42 finished with value: 0.7948105985170011 and parameters: {'learning_rate': 0.07826366022212883, 'n_estimators': 6272, 'num_leaves': 31, 'subsample': 0.74085088441907, 'colsample_bytree': 0.8786936598902824, 'reg_alpha': 0.8747371805956771, 'reg_lambda': 0.9807936066620694, 'min_child_samples': 8, 'min_child_weight': 15.797473489673042}. Best is trial 34 with value: 0.795178636853572.\u001b[0m\n",
            "\u001b[32m[I 2023-01-20 10:56:47,325]\u001b[0m Trial 43 finished with value: 0.794265125502159 and parameters: {'learning_rate': 0.06271331919054945, 'n_estimators': 5449, 'num_leaves': 31, 'subsample': 0.7652147640805047, 'colsample_bytree': 0.8970069823009028, 'reg_alpha': 0.8366921157832388, 'reg_lambda': 0.9888713508086457, 'min_child_samples': 9, 'min_child_weight': 12.328178890675071}. Best is trial 34 with value: 0.795178636853572.\u001b[0m\n",
            "\u001b[32m[I 2023-01-20 10:58:34,244]\u001b[0m Trial 44 finished with value: 0.7941666884230838 and parameters: {'learning_rate': 0.08394316026258274, 'n_estimators': 7051, 'num_leaves': 32, 'subsample': 0.8321002658784247, 'colsample_bytree': 0.8693080892854913, 'reg_alpha': 0.8621566989448377, 'reg_lambda': 0.9798476949139758, 'min_child_samples': 8, 'min_child_weight': 17.881794018440157}. Best is trial 34 with value: 0.795178636853572.\u001b[0m\n",
            "\u001b[32m[I 2023-01-20 10:59:00,338]\u001b[0m Trial 45 finished with value: 0.7835208914808712 and parameters: {'learning_rate': 0.07051430191210496, 'n_estimators': 258, 'num_leaves': 36, 'subsample': 0.7859690458609373, 'colsample_bytree': 0.9356613836844438, 'reg_alpha': 0.8302729166506432, 'reg_lambda': 0.9925464849470768, 'min_child_samples': 8, 'min_child_weight': 15.828523127538665}. Best is trial 34 with value: 0.795178636853572.\u001b[0m\n",
            "\u001b[32m[I 2023-01-20 11:00:38,563]\u001b[0m Trial 46 finished with value: 0.7942156197197685 and parameters: {'learning_rate': 0.07944259049767746, 'n_estimators': 8155, 'num_leaves': 30, 'subsample': 0.7423356530730454, 'colsample_bytree': 0.9584088097808422, 'reg_alpha': 0.8477923528053906, 'reg_lambda': 0.9758605815863489, 'min_child_samples': 7, 'min_child_weight': 13.998458265553563}. Best is trial 34 with value: 0.795178636853572.\u001b[0m\n",
            "\u001b[32m[I 2023-01-20 11:02:38,874]\u001b[0m Trial 47 finished with value: 0.7939114539599421 and parameters: {'learning_rate': 0.06527161912166603, 'n_estimators': 9080, 'num_leaves': 32, 'subsample': 0.8064875803811344, 'colsample_bytree': 0.917816047080995, 'reg_alpha': 0.8693657002838768, 'reg_lambda': 0.9852532065382897, 'min_child_samples': 6, 'min_child_weight': 11.450276907805268}. Best is trial 34 with value: 0.795178636853572.\u001b[0m\n",
            "\u001b[32m[I 2023-01-20 11:04:16,379]\u001b[0m Trial 48 finished with value: 0.7940339892025763 and parameters: {'learning_rate': 0.07196009594803823, 'n_estimators': 8133, 'num_leaves': 39, 'subsample': 0.7805716004903147, 'colsample_bytree': 0.8454969702706128, 'reg_alpha': 0.8895387317573117, 'reg_lambda': 0.9697128394227401, 'min_child_samples': 9, 'min_child_weight': 17.911849234024174}. Best is trial 34 with value: 0.795178636853572.\u001b[0m\n",
            "\u001b[32m[I 2023-01-20 11:05:42,181]\u001b[0m Trial 49 finished with value: 0.7946562200201175 and parameters: {'learning_rate': 0.09370617190564857, 'n_estimators': 6307, 'num_leaves': 30, 'subsample': 0.722181480247781, 'colsample_bytree': 0.8226961463807982, 'reg_alpha': 0.8795338045042633, 'reg_lambda': 0.9940226529916079, 'min_child_samples': 8, 'min_child_weight': 15.542982894879865}. Best is trial 34 with value: 0.795178636853572.\u001b[0m\n",
            "Best trial score: 0.795178636853572\n",
            "Best params: {'learning_rate': 0.07401073362642446, 'n_estimators': 6997, 'num_leaves': 31, 'subsample': 0.8016577934815098, 'colsample_bytree': 0.8747692098547708, 'reg_alpha': 0.8396867483808421, 'reg_lambda': 0.9775508631575757, 'min_child_samples': 8, 'min_child_weight': 13.444943166244059}\n"
          ]
        }
      ]
    },
    {
      "cell_type": "markdown",
      "source": [
        "탐색 34회에 최적 하이퍼파라미터를 찾았습니다.\n",
        "\n",
        "전체 데이터를 훈련에 사용하겠습니다."
      ],
      "metadata": {
        "id": "hg0WcUvM7E-w"
      }
    },
    {
      "cell_type": "code",
      "source": [
        "params = study_lgbm.best_trial.params\n",
        "model_lgbm_optuna = LGBMClassifier(**params)\n",
        "model_lgbm_optuna.fit(X_train_sparse, y_train_original)"
      ],
      "metadata": {
        "id": "wOxddUgfHPtg",
        "colab": {
          "base_uri": "https://localhost:8080/"
        },
        "outputId": "18c0d0d9-b5b7-42c1-9e35-7ce405f01f2b"
      },
      "execution_count": null,
      "outputs": [
        {
          "output_type": "execute_result",
          "data": {
            "text/plain": [
              "LGBMClassifier(colsample_bytree=0.8747692098547708,\n",
              "               learning_rate=0.07401073362642446, min_child_samples=8,\n",
              "               min_child_weight=13.444943166244059, n_estimators=6997,\n",
              "               reg_alpha=0.8396867483808421, reg_lambda=0.9775508631575757,\n",
              "               subsample=0.8016577934815098)"
            ]
          },
          "metadata": {},
          "execution_count": 68
        }
      ]
    },
    {
      "cell_type": "markdown",
      "source": [
        "파일을 제출하겠습니다."
      ],
      "metadata": {
        "id": "dYQ83SSV7VRe"
      }
    },
    {
      "cell_type": "code",
      "source": [
        "submission['target'] = model_lgbm_optuna.predict_proba(X_test_sparse)[:, 1]\n",
        "# submission.to_csv('Categorical_Feature_Encoding_Challenge_submission9.csv')"
      ],
      "metadata": {
        "id": "Ojw5IIbJRTwv"
      },
      "execution_count": null,
      "outputs": []
    },
    {
      "cell_type": "markdown",
      "source": [
        "프라이빗 스코어는 0.78439입니다. 기본 하이퍼파라미터를 사용한 모델보다는 성능이 개선되었고 XGBoost 모델보다 높은 성능이지만, 도리어 LogisticRegression 모델보다 성능이 떨어집니다."
      ],
      "metadata": {
        "id": "zKrYFeA6xsV1"
      }
    },
    {
      "cell_type": "markdown",
      "source": [
        "## **3.4. LogisticRegression**"
      ],
      "metadata": {
        "id": "ZYgpU35YQrei"
      }
    },
    {
      "cell_type": "markdown",
      "source": [
        "### **3.4.1. optuna**"
      ],
      "metadata": {
        "id": "p2gq7w0FI7KK"
      }
    },
    {
      "cell_type": "markdown",
      "source": [
        "하이퍼파라미터 탐색 범위를 늘리고 반복 횟수도 500회로 늘려 보겠습니다."
      ],
      "metadata": {
        "id": "AUOH9mu0ApFf"
      }
    },
    {
      "cell_type": "code",
      "source": [
        "def objective_LogisticRegression(trial, X_train, y_train, X_valid, y_valid):\n",
        "    params = {\n",
        "        'C': trial.suggest_float('C', 0.001, 1000),\n",
        "        'max_iter': trial.suggest_int('max_iter', 100, 10000),\n",
        "        'solver': 'liblinear',\n",
        "        'random_state': 2023\n",
        "    }\n",
        "\n",
        "    model = LogisticRegression(**params)\n",
        "    model.fit(X_train, y_train)\n",
        "    prediction = model.predict_proba(X_valid)[:, 1]\n",
        "    roc_auc = roc_auc_score(y_valid, prediction)\n",
        "\n",
        "    return roc_auc"
      ],
      "metadata": {
        "id": "XKd-I4BLGjjr"
      },
      "execution_count": 32,
      "outputs": []
    },
    {
      "cell_type": "code",
      "source": [
        "study_logistic = optuna.create_study(direction='maximize', sampler=TPESampler())\n",
        "study_logistic.optimize(lambda trial: objective_LogisticRegression(trial, X_train, y_train, X_valid, y_valid),\n",
        "                        n_trials=500, show_progress_bar=True)\n",
        "\n",
        "print(f'Best trial score: {study_logistic.best_trial.value}')\n",
        "print(f'Best params: {study_logistic.best_trial.params}')"
      ],
      "metadata": {
        "colab": {
          "base_uri": "https://localhost:8080/",
          "height": 1000,
          "referenced_widgets": [
            "bd2ee074eee84df78ee890aa2ea16473",
            "357adc5279d4424ea61ede344c6aeb59",
            "63d771b8f3da481ca9b400bfe5ba11a8",
            "80326f88a1204dc38c71221ddd40debd",
            "30a8c2219c45408bb6cbfaa491bccaec",
            "14acd0d317034b35a5703c6f934e7383",
            "cfb3749502c94fcda1065c41ddaebbd1",
            "44e09adda7ce41869369fce960eb6be2",
            "69b8ce1a0f3c4e8f9bcf03895ac22d51",
            "f62435581c4145b7b19f749f97f13573",
            "5f683cef69f84b55b9b5af6b9a96789e"
          ]
        },
        "id": "6GL_CdcyGmCx",
        "outputId": "7db5cf1f-ad73-433c-b5b9-bc4a04695157"
      },
      "execution_count": 33,
      "outputs": [
        {
          "output_type": "stream",
          "name": "stderr",
          "text": [
            "\u001b[32m[I 2023-01-22 09:28:33,531]\u001b[0m A new study created in memory with name: no-name-1ba5420e-9b22-42e4-a00a-fe6f4dec5135\u001b[0m\n",
            "/usr/local/lib/python3.8/dist-packages/optuna/progress_bar.py:56: ExperimentalWarning: Progress bar is experimental (supported from v1.2.0). The interface can change in the future.\n",
            "  self._init_valid()\n"
          ]
        },
        {
          "output_type": "display_data",
          "data": {
            "text/plain": [
              "  0%|          | 0/500 [00:00<?, ?it/s]"
            ],
            "application/vnd.jupyter.widget-view+json": {
              "version_major": 2,
              "version_minor": 0,
              "model_id": "bd2ee074eee84df78ee890aa2ea16473"
            }
          },
          "metadata": {}
        },
        {
          "output_type": "stream",
          "name": "stdout",
          "text": [
            "\u001b[32m[I 2023-01-22 09:30:06,940]\u001b[0m Trial 0 finished with value: 0.7846213153617769 and parameters: {'C': 908.5168091037731, 'max_iter': 929}. Best is trial 0 with value: 0.7846213153617769.\u001b[0m\n",
            "\u001b[32m[I 2023-01-22 09:30:57,466]\u001b[0m Trial 1 finished with value: 0.787009668745611 and parameters: {'C': 63.066799853180896, 'max_iter': 7130}. Best is trial 1 with value: 0.787009668745611.\u001b[0m\n",
            "\u001b[32m[I 2023-01-22 09:32:33,429]\u001b[0m Trial 2 finished with value: 0.7845043412338104 and parameters: {'C': 825.7711839267548, 'max_iter': 429}. Best is trial 1 with value: 0.787009668745611.\u001b[0m\n",
            "\u001b[32m[I 2023-01-22 09:33:25,507]\u001b[0m Trial 3 finished with value: 0.7862322221240842 and parameters: {'C': 222.2592241193612, 'max_iter': 8513}. Best is trial 1 with value: 0.787009668745611.\u001b[0m\n",
            "\u001b[32m[I 2023-01-22 09:34:41,041]\u001b[0m Trial 4 finished with value: 0.7856695866395093 and parameters: {'C': 195.99274614734236, 'max_iter': 7970}. Best is trial 1 with value: 0.787009668745611.\u001b[0m\n",
            "\u001b[32m[I 2023-01-22 09:35:35,539]\u001b[0m Trial 5 finished with value: 0.7882955026549322 and parameters: {'C': 28.72696771201067, 'max_iter': 424}. Best is trial 5 with value: 0.7882955026549322.\u001b[0m\n",
            "\u001b[32m[I 2023-01-22 09:36:45,748]\u001b[0m Trial 6 finished with value: 0.7852192665992209 and parameters: {'C': 538.4581144682447, 'max_iter': 7358}. Best is trial 5 with value: 0.7882955026549322.\u001b[0m\n",
            "\u001b[32m[I 2023-01-22 09:38:13,149]\u001b[0m Trial 7 finished with value: 0.784881187575921 and parameters: {'C': 581.2212670880255, 'max_iter': 2832}. Best is trial 5 with value: 0.7882955026549322.\u001b[0m\n",
            "\u001b[32m[I 2023-01-22 09:39:19,339]\u001b[0m Trial 8 finished with value: 0.7854779363473327 and parameters: {'C': 695.1227010957924, 'max_iter': 2562}. Best is trial 5 with value: 0.7882955026549322.\u001b[0m\n",
            "\u001b[32m[I 2023-01-22 09:40:04,453]\u001b[0m Trial 9 finished with value: 0.7870488733247971 and parameters: {'C': 62.3958915954282, 'max_iter': 2078}. Best is trial 5 with value: 0.7882955026549322.\u001b[0m\n",
            "\u001b[32m[I 2023-01-22 09:41:01,585]\u001b[0m Trial 10 finished with value: 0.7857664863297114 and parameters: {'C': 308.37168456207297, 'max_iter': 5122}. Best is trial 5 with value: 0.7882955026549322.\u001b[0m\n",
            "\u001b[32m[I 2023-01-22 09:41:33,456]\u001b[0m Trial 11 finished with value: 0.7900668863008475 and parameters: {'C': 11.735561940223661, 'max_iter': 2771}. Best is trial 11 with value: 0.7900668863008475.\u001b[0m\n",
            "\u001b[32m[I 2023-01-22 09:42:12,115]\u001b[0m Trial 12 finished with value: 0.7894305422069356 and parameters: {'C': 15.670855828281109, 'max_iter': 4731}. Best is trial 11 with value: 0.7900668863008475.\u001b[0m\n",
            "\u001b[32m[I 2023-01-22 09:43:38,157]\u001b[0m Trial 13 finished with value: 0.785011786551115 and parameters: {'C': 376.599433027737, 'max_iter': 4568}. Best is trial 11 with value: 0.7900668863008475.\u001b[0m\n",
            "\u001b[32m[I 2023-01-22 09:44:28,562]\u001b[0m Trial 14 finished with value: 0.786226126063213 and parameters: {'C': 181.75010023256237, 'max_iter': 4631}. Best is trial 11 with value: 0.7900668863008475.\u001b[0m\n",
            "\u001b[32m[I 2023-01-22 09:45:57,525]\u001b[0m Trial 15 finished with value: 0.7849348170957876 and parameters: {'C': 399.7341506304184, 'max_iter': 9979}. Best is trial 11 with value: 0.7900668863008475.\u001b[0m\n",
            "\u001b[32m[I 2023-01-22 09:46:42,444]\u001b[0m Trial 16 finished with value: 0.7885391846059229 and parameters: {'C': 24.728832842232173, 'max_iter': 5628}. Best is trial 11 with value: 0.7900668863008475.\u001b[0m\n",
            "\u001b[32m[I 2023-01-22 09:47:40,942]\u001b[0m Trial 17 finished with value: 0.7857986854394795 and parameters: {'C': 181.0139973531035, 'max_iter': 3645}. Best is trial 11 with value: 0.7900668863008475.\u001b[0m\n",
            "\u001b[32m[I 2023-01-22 09:48:39,022]\u001b[0m Trial 18 finished with value: 0.7860680587633755 and parameters: {'C': 129.03034789024878, 'max_iter': 6038}. Best is trial 11 with value: 0.7900668863008475.\u001b[0m\n",
            "\u001b[32m[I 2023-01-22 09:49:32,550]\u001b[0m Trial 19 finished with value: 0.7859956410024869 and parameters: {'C': 273.2527477662947, 'max_iter': 3250}. Best is trial 11 with value: 0.7900668863008475.\u001b[0m\n",
            "\u001b[32m[I 2023-01-22 09:50:09,568]\u001b[0m Trial 20 finished with value: 0.7893527540513308 and parameters: {'C': 16.179368135534716, 'max_iter': 1751}. Best is trial 11 with value: 0.7900668863008475.\u001b[0m\n",
            "\u001b[32m[I 2023-01-22 09:50:32,535]\u001b[0m Trial 21 finished with value: 0.7990775294625982 and parameters: {'C': 0.9302943255248515, 'max_iter': 1915}. Best is trial 21 with value: 0.7990775294625982.\u001b[0m\n",
            "\u001b[32m[I 2023-01-22 09:51:37,691]\u001b[0m Trial 22 finished with value: 0.7863773948945548 and parameters: {'C': 100.61212417628973, 'max_iter': 3918}. Best is trial 21 with value: 0.7990775294625982.\u001b[0m\n",
            "\u001b[32m[I 2023-01-22 09:52:42,295]\u001b[0m Trial 23 finished with value: 0.786033538452253 and parameters: {'C': 132.82761171255282, 'max_iter': 1479}. Best is trial 21 with value: 0.7990775294625982.\u001b[0m\n",
            "\u001b[32m[I 2023-01-22 09:53:29,808]\u001b[0m Trial 24 finished with value: 0.7864237142582526 and parameters: {'C': 103.95854406144157, 'max_iter': 3979}. Best is trial 21 with value: 0.7990775294625982.\u001b[0m\n",
            "\u001b[32m[I 2023-01-22 09:54:09,544]\u001b[0m Trial 25 finished with value: 0.7889632504168655 and parameters: {'C': 19.93592220014426, 'max_iter': 2360}. Best is trial 21 with value: 0.7990775294625982.\u001b[0m\n",
            "\u001b[32m[I 2023-01-22 09:55:06,880]\u001b[0m Trial 26 finished with value: 0.7856896261894776 and parameters: {'C': 272.486760207759, 'max_iter': 1270}. Best is trial 21 with value: 0.7990775294625982.\u001b[0m\n",
            "\u001b[32m[I 2023-01-22 09:56:13,398]\u001b[0m Trial 27 finished with value: 0.7860515893978547 and parameters: {'C': 129.37733472402743, 'max_iter': 6219}. Best is trial 21 with value: 0.7990775294625982.\u001b[0m\n",
            "\u001b[32m[I 2023-01-22 09:57:10,143]\u001b[0m Trial 28 finished with value: 0.7865561855451605 and parameters: {'C': 86.67921111263628, 'max_iter': 3038}. Best is trial 21 with value: 0.7990775294625982.\u001b[0m\n",
            "\u001b[32m[I 2023-01-22 09:57:49,801]\u001b[0m Trial 29 finished with value: 0.7893413969108368 and parameters: {'C': 16.270222715569332, 'max_iter': 1115}. Best is trial 21 with value: 0.7990775294625982.\u001b[0m\n",
            "\u001b[32m[I 2023-01-22 09:58:35,696]\u001b[0m Trial 30 finished with value: 0.7861689868310782 and parameters: {'C': 232.80810803883531, 'max_iter': 4529}. Best is trial 21 with value: 0.7990775294625982.\u001b[0m\n",
            "\u001b[32m[I 2023-01-22 09:59:00,190]\u001b[0m Trial 31 finished with value: 0.7945793645315897 and parameters: {'C': 2.645156104554756, 'max_iter': 111}. Best is trial 21 with value: 0.7990775294625982.\u001b[0m\n",
            "\u001b[32m[I 2023-01-22 09:59:43,072]\u001b[0m Trial 32 finished with value: 0.7902521079351652 and parameters: {'C': 10.823431517929308, 'max_iter': 103}. Best is trial 21 with value: 0.7990775294625982.\u001b[0m\n",
            "\u001b[32m[I 2023-01-22 10:00:44,594]\u001b[0m Trial 33 finished with value: 0.7866317292525622 and parameters: {'C': 82.12557015782708, 'max_iter': 189}. Best is trial 21 with value: 0.7990775294625982.\u001b[0m\n",
            "\u001b[32m[I 2023-01-22 10:01:11,471]\u001b[0m Trial 34 finished with value: 0.792470655438766 and parameters: {'C': 4.814631220296164, 'max_iter': 765}. Best is trial 21 with value: 0.7990775294625982.\u001b[0m\n",
            "\u001b[32m[I 2023-01-22 10:02:09,393]\u001b[0m Trial 35 finished with value: 0.7860909242248121 and parameters: {'C': 175.83581677815621, 'max_iter': 742}. Best is trial 21 with value: 0.7990775294625982.\u001b[0m\n",
            "\u001b[32m[I 2023-01-22 10:03:07,709]\u001b[0m Trial 36 finished with value: 0.7869551600532876 and parameters: {'C': 67.70316870951444, 'max_iter': 152}. Best is trial 21 with value: 0.7990775294625982.\u001b[0m\n",
            "\u001b[32m[I 2023-01-22 10:04:03,653]\u001b[0m Trial 37 finished with value: 0.7863043933445482 and parameters: {'C': 135.66432278538463, 'max_iter': 869}. Best is trial 21 with value: 0.7990775294625982.\u001b[0m\n",
            "\u001b[32m[I 2023-01-22 10:04:58,626]\u001b[0m Trial 38 finished with value: 0.7867768857420614 and parameters: {'C': 74.83464541828275, 'max_iter': 1819}. Best is trial 21 with value: 0.7990775294625982.\u001b[0m\n",
            "\u001b[32m[I 2023-01-22 10:06:05,684]\u001b[0m Trial 39 finished with value: 0.7857695238938083 and parameters: {'C': 163.26060121179538, 'max_iter': 774}. Best is trial 21 with value: 0.7990775294625982.\u001b[0m\n",
            "\u001b[32m[I 2023-01-22 10:07:07,272]\u001b[0m Trial 40 finished with value: 0.7855372037350177 and parameters: {'C': 213.44671593322147, 'max_iter': 500}. Best is trial 21 with value: 0.7990775294625982.\u001b[0m\n",
            "\u001b[32m[I 2023-01-22 10:07:33,131]\u001b[0m Trial 41 finished with value: 0.7908363552463773 and parameters: {'C': 8.606687820515205, 'max_iter': 1521}. Best is trial 21 with value: 0.7990775294625982.\u001b[0m\n",
            "\u001b[32m[I 2023-01-22 10:07:54,771]\u001b[0m Trial 42 finished with value: 0.793403687674915 and parameters: {'C': 3.644694312862214, 'max_iter': 1339}. Best is trial 21 with value: 0.7990775294625982.\u001b[0m\n",
            "\u001b[32m[I 2023-01-22 10:08:41,586]\u001b[0m Trial 43 finished with value: 0.7872678989074945 and parameters: {'C': 52.954676159629386, 'max_iter': 2160}. Best is trial 21 with value: 0.7990775294625982.\u001b[0m\n",
            "\u001b[32m[I 2023-01-22 10:08:58,610]\u001b[0m Trial 44 finished with value: 0.7981341471803305 and parameters: {'C': 1.1432371432999664, 'max_iter': 1411}. Best is trial 21 with value: 0.7990775294625982.\u001b[0m\n",
            "\u001b[32m[I 2023-01-22 10:09:33,549]\u001b[0m Trial 45 finished with value: 0.7873879896785618 and parameters: {'C': 65.4201313444538, 'max_iter': 1023}. Best is trial 21 with value: 0.7990775294625982.\u001b[0m\n",
            "\u001b[32m[I 2023-01-22 10:10:20,785]\u001b[0m Trial 46 finished with value: 0.7872161277442231 and parameters: {'C': 54.800832518578254, 'max_iter': 2023}. Best is trial 21 with value: 0.7990775294625982.\u001b[0m\n",
            "\u001b[32m[I 2023-01-22 10:11:17,762]\u001b[0m Trial 47 finished with value: 0.7862294380779709 and parameters: {'C': 111.33001975748465, 'max_iter': 2492}. Best is trial 21 with value: 0.7990775294625982.\u001b[0m\n",
            "\u001b[32m[I 2023-01-22 10:11:28,891]\u001b[0m Trial 48 finished with value: 0.8023853483816803 and parameters: {'C': 0.43274712337505905, 'max_iter': 1294}. Best is trial 48 with value: 0.8023853483816803.\u001b[0m\n",
            "\u001b[32m[I 2023-01-22 10:12:24,275]\u001b[0m Trial 49 finished with value: 0.7871896409295713 and parameters: {'C': 55.66148881563453, 'max_iter': 1398}. Best is trial 48 with value: 0.8023853483816803.\u001b[0m\n",
            "\u001b[32m[I 2023-01-22 10:13:27,555]\u001b[0m Trial 50 finished with value: 0.7857551454701889 and parameters: {'C': 166.7215000654145, 'max_iter': 3483}. Best is trial 48 with value: 0.8023853483816803.\u001b[0m\n",
            "\u001b[32m[I 2023-01-22 10:14:18,225]\u001b[0m Trial 51 finished with value: 0.7872410073944103 and parameters: {'C': 54.02449465210637, 'max_iter': 564}. Best is trial 48 with value: 0.8023853483816803.\u001b[0m\n",
            "\u001b[32m[I 2023-01-22 10:14:44,879]\u001b[0m Trial 52 finished with value: 0.7916572836908682 and parameters: {'C': 6.319129910911716, 'max_iter': 1091}. Best is trial 48 with value: 0.8023853483816803.\u001b[0m\n",
            "\u001b[32m[I 2023-01-22 10:15:04,436]\u001b[0m Trial 53 finished with value: 0.7939855835486831 and parameters: {'C': 3.1065380442893358, 'max_iter': 1770}. Best is trial 48 with value: 0.8023853483816803.\u001b[0m\n",
            "\u001b[32m[I 2023-01-22 10:15:42,138]\u001b[0m Trial 54 finished with value: 0.7870244937330181 and parameters: {'C': 95.60182334649726, 'max_iter': 2736}. Best is trial 48 with value: 0.8023853483816803.\u001b[0m\n",
            "\u001b[32m[I 2023-01-22 10:16:35,900]\u001b[0m Trial 55 finished with value: 0.785983860556736 and parameters: {'C': 145.45993374118245, 'max_iter': 1718}. Best is trial 48 with value: 0.8023853483816803.\u001b[0m\n",
            "\u001b[32m[I 2023-01-22 10:17:19,370]\u001b[0m Trial 56 finished with value: 0.7874931019559204 and parameters: {'C': 46.17631013715912, 'max_iter': 2241}. Best is trial 48 with value: 0.8023853483816803.\u001b[0m\n",
            "\u001b[32m[I 2023-01-22 10:18:15,803]\u001b[0m Trial 57 finished with value: 0.7862469401222503 and parameters: {'C': 110.18603191687374, 'max_iter': 9072}. Best is trial 48 with value: 0.8023853483816803.\u001b[0m\n",
            "\u001b[32m[I 2023-01-22 10:19:00,569]\u001b[0m Trial 58 finished with value: 0.7877416402881011 and parameters: {'C': 39.474476273633975, 'max_iter': 1907}. Best is trial 48 with value: 0.8023853483816803.\u001b[0m\n",
            "\u001b[32m[I 2023-01-22 10:19:58,911]\u001b[0m Trial 59 finished with value: 0.7864070937122831 and parameters: {'C': 96.912766943837, 'max_iter': 1382}. Best is trial 48 with value: 0.8023853483816803.\u001b[0m\n",
            "\u001b[32m[I 2023-01-22 10:20:50,156]\u001b[0m Trial 60 finished with value: 0.785853543009762 and parameters: {'C': 211.21917509899015, 'max_iter': 7162}. Best is trial 48 with value: 0.8023853483816803.\u001b[0m\n",
            "\u001b[32m[I 2023-01-22 10:21:21,034]\u001b[0m Trial 61 finished with value: 0.7902002297826531 and parameters: {'C': 11.124161716082597, 'max_iter': 463}. Best is trial 48 with value: 0.8023853483816803.\u001b[0m\n",
            "\u001b[32m[I 2023-01-22 10:22:03,753]\u001b[0m Trial 62 finished with value: 0.7876728066667787 and parameters: {'C': 40.92799584621487, 'max_iter': 855}. Best is trial 48 with value: 0.8023853483816803.\u001b[0m\n",
            "\u001b[32m[I 2023-01-22 10:22:28,454]\u001b[0m Trial 63 finished with value: 0.7912422538190653 and parameters: {'C': 7.380411789206843, 'max_iter': 1657}. Best is trial 48 with value: 0.8023853483816803.\u001b[0m\n",
            "\u001b[32m[I 2023-01-22 10:23:23,145]\u001b[0m Trial 64 finished with value: 0.7866806093804793 and parameters: {'C': 79.06335976062634, 'max_iter': 1053}. Best is trial 48 with value: 0.8023853483816803.\u001b[0m\n",
            "\u001b[32m[I 2023-01-22 10:24:09,221]\u001b[0m Trial 65 finished with value: 0.786377404197967 and parameters: {'C': 133.427141786789, 'max_iter': 507}. Best is trial 48 with value: 0.8023853483816803.\u001b[0m\n",
            "\u001b[32m[I 2023-01-22 10:24:59,064]\u001b[0m Trial 66 finished with value: 0.7877366815693763 and parameters: {'C': 39.327207073779476, 'max_iter': 3063}. Best is trial 48 with value: 0.8023853483816803.\u001b[0m\n",
            "\u001b[32m[I 2023-01-22 10:25:17,916]\u001b[0m Trial 67 finished with value: 0.7976155982405155 and parameters: {'C': 1.2851281731484208, 'max_iter': 2503}. Best is trial 48 with value: 0.8023853483816803.\u001b[0m\n",
            "\u001b[32m[I 2023-01-22 10:25:31,310]\u001b[0m Trial 68 finished with value: 0.8008524786412552 and parameters: {'C': 0.6258976026506351, 'max_iter': 2414}. Best is trial 48 with value: 0.8023853483816803.\u001b[0m\n",
            "\u001b[32m[I 2023-01-22 10:26:20,440]\u001b[0m Trial 69 finished with value: 0.7866343295562835 and parameters: {'C': 83.43284204895397, 'max_iter': 2670}. Best is trial 48 with value: 0.8023853483816803.\u001b[0m\n",
            "\u001b[32m[I 2023-01-22 10:27:03,132]\u001b[0m Trial 70 finished with value: 0.7877390399843796 and parameters: {'C': 39.42230890696182, 'max_iter': 2381}. Best is trial 48 with value: 0.8023853483816803.\u001b[0m\n",
            "\u001b[32m[I 2023-01-22 10:27:45,781]\u001b[0m Trial 71 finished with value: 0.7876867966729371 and parameters: {'C': 40.60193527968009, 'max_iter': 1307}. Best is trial 48 with value: 0.8023853483816803.\u001b[0m\n",
            "\u001b[32m[I 2023-01-22 10:28:04,652]\u001b[0m Trial 72 finished with value: 0.7940352637700532 and parameters: {'C': 3.0685018874968506, 'max_iter': 2153}. Best is trial 48 with value: 0.8023853483816803.\u001b[0m\n",
            "\u001b[32m[I 2023-01-22 10:28:45,543]\u001b[0m Trial 73 finished with value: 0.7867608582886223 and parameters: {'C': 111.09109275896346, 'max_iter': 2990}. Best is trial 48 with value: 0.8023853483816803.\u001b[0m\n",
            "\u001b[32m[I 2023-01-22 10:29:29,377]\u001b[0m Trial 74 finished with value: 0.7868131457912729 and parameters: {'C': 74.21616591981869, 'max_iter': 3443}. Best is trial 48 with value: 0.8023853483816803.\u001b[0m\n",
            "\u001b[32m[I 2023-01-22 10:29:53,094]\u001b[0m Trial 75 finished with value: 0.7937093001153449 and parameters: {'C': 3.3343113420657664, 'max_iter': 2045}. Best is trial 48 with value: 0.8023853483816803.\u001b[0m\n",
            "\u001b[32m[I 2023-01-22 10:30:38,312]\u001b[0m Trial 76 finished with value: 0.7880280597890765 and parameters: {'C': 32.963075958137495, 'max_iter': 2459}. Best is trial 48 with value: 0.8023853483816803.\u001b[0m\n",
            "\u001b[32m[I 2023-01-22 10:31:30,956]\u001b[0m Trial 77 finished with value: 0.7859617696043685 and parameters: {'C': 151.46298607346247, 'max_iter': 4061}. Best is trial 48 with value: 0.8023853483816803.\u001b[0m\n",
            "\u001b[32m[I 2023-01-22 10:32:22,729]\u001b[0m Trial 78 finished with value: 0.7862423512141623 and parameters: {'C': 116.93139244869704, 'max_iter': 1741}. Best is trial 48 with value: 0.8023853483816803.\u001b[0m\n",
            "\u001b[32m[I 2023-01-22 10:33:05,606]\u001b[0m Trial 79 finished with value: 0.7869009072048008 and parameters: {'C': 79.32373363521607, 'max_iter': 2144}. Best is trial 48 with value: 0.8023853483816803.\u001b[0m\n",
            "\u001b[32m[I 2023-01-22 10:33:48,634]\u001b[0m Trial 80 finished with value: 0.7882307741642613 and parameters: {'C': 29.813487783611418, 'max_iter': 3268}. Best is trial 48 with value: 0.8023853483816803.\u001b[0m\n",
            "\u001b[32m[I 2023-01-22 10:33:53,632]\u001b[0m Trial 81 finished with value: 0.802628153486067 and parameters: {'C': 0.03051411205963106, 'max_iter': 1991}. Best is trial 81 with value: 0.802628153486067.\u001b[0m\n",
            "\u001b[32m[I 2023-01-22 10:34:39,130]\u001b[0m Trial 82 finished with value: 0.7882601962054755 and parameters: {'C': 28.811284624433572, 'max_iter': 2772}. Best is trial 81 with value: 0.802628153486067.\u001b[0m\n",
            "\u001b[32m[I 2023-01-22 10:35:03,208]\u001b[0m Trial 83 finished with value: 0.7932554494301107 and parameters: {'C': 3.8138320946364326, 'max_iter': 1957}. Best is trial 81 with value: 0.802628153486067.\u001b[0m\n",
            "\u001b[32m[I 2023-01-22 10:35:56,922]\u001b[0m Trial 84 finished with value: 0.7870241750911487 and parameters: {'C': 64.04024747907177, 'max_iter': 1632}. Best is trial 81 with value: 0.802628153486067.\u001b[0m\n",
            "\u001b[32m[I 2023-01-22 10:36:12,595]\u001b[0m Trial 85 finished with value: 0.7998069309374567 and parameters: {'C': 0.7910626895400521, 'max_iter': 2367}. Best is trial 81 with value: 0.802628153486067.\u001b[0m\n",
            "\u001b[32m[I 2023-01-22 10:36:54,737]\u001b[0m Trial 86 finished with value: 0.7870689849762103 and parameters: {'C': 61.85889169813277, 'max_iter': 3843}. Best is trial 81 with value: 0.802628153486067.\u001b[0m\n",
            "\u001b[32m[I 2023-01-22 10:37:34,952]\u001b[0m Trial 87 finished with value: 0.7868934970369504 and parameters: {'C': 96.30451480800996, 'max_iter': 2562}. Best is trial 81 with value: 0.802628153486067.\u001b[0m\n",
            "\u001b[32m[I 2023-01-22 10:38:18,993]\u001b[0m Trial 88 finished with value: 0.7881067875893177 and parameters: {'C': 32.184045755605716, 'max_iter': 5486}. Best is trial 81 with value: 0.802628153486067.\u001b[0m\n",
            "\u001b[32m[I 2023-01-22 10:39:11,385]\u001b[0m Trial 89 finished with value: 0.7861975785427495 and parameters: {'C': 125.69599600085685, 'max_iter': 2310}. Best is trial 81 with value: 0.802628153486067.\u001b[0m\n",
            "\u001b[32m[I 2023-01-22 10:40:00,928]\u001b[0m Trial 90 finished with value: 0.7871016073912354 and parameters: {'C': 59.34620432041007, 'max_iter': 4340}. Best is trial 81 with value: 0.802628153486067.\u001b[0m\n",
            "\u001b[32m[I 2023-01-22 10:40:22,335]\u001b[0m Trial 91 finished with value: 0.7924132417559703 and parameters: {'C': 4.964730016478721, 'max_iter': 1190}. Best is trial 81 with value: 0.802628153486067.\u001b[0m\n",
            "\u001b[32m[I 2023-01-22 10:40:58,310]\u001b[0m Trial 92 finished with value: 0.7885406940845591 and parameters: {'C': 24.777501179609146, 'max_iter': 6513}. Best is trial 81 with value: 0.802628153486067.\u001b[0m\n",
            "\u001b[32m[I 2023-01-22 10:41:15,762]\u001b[0m Trial 93 finished with value: 0.7985859766992551 and parameters: {'C': 1.0352015229195208, 'max_iter': 1495}. Best is trial 81 with value: 0.802628153486067.\u001b[0m\n",
            "\u001b[32m[I 2023-01-22 10:41:58,652]\u001b[0m Trial 94 finished with value: 0.788504880599135 and parameters: {'C': 25.234997191127082, 'max_iter': 1479}. Best is trial 81 with value: 0.802628153486067.\u001b[0m\n",
            "\u001b[32m[I 2023-01-22 10:42:38,084]\u001b[0m Trial 95 finished with value: 0.7868037749292925 and parameters: {'C': 89.51536641346812, 'max_iter': 2928}. Best is trial 81 with value: 0.802628153486067.\u001b[0m\n",
            "\u001b[32m[I 2023-01-22 10:43:22,065]\u001b[0m Trial 96 finished with value: 0.7871471685268354 and parameters: {'C': 57.543148566413706, 'max_iter': 2041}. Best is trial 81 with value: 0.802628153486067.\u001b[0m\n",
            "\u001b[32m[I 2023-01-22 10:43:56,867]\u001b[0m Trial 97 finished with value: 0.7883186053533812 and parameters: {'C': 27.939130422117092, 'max_iter': 322}. Best is trial 81 with value: 0.802628153486067.\u001b[0m\n",
            "\u001b[32m[I 2023-01-22 10:44:49,130]\u001b[0m Trial 98 finished with value: 0.7867976253738009 and parameters: {'C': 72.63353705394886, 'max_iter': 2242}. Best is trial 81 with value: 0.802628153486067.\u001b[0m\n",
            "\u001b[32m[I 2023-01-22 10:45:38,125]\u001b[0m Trial 99 finished with value: 0.7873683338943483 and parameters: {'C': 49.75646988346167, 'max_iter': 650}. Best is trial 81 with value: 0.802628153486067.\u001b[0m\n",
            "\u001b[32m[I 2023-01-22 10:45:40,476]\u001b[0m Trial 100 finished with value: 0.7892427946961944 and parameters: {'C': 0.004174913175297501, 'max_iter': 979}. Best is trial 81 with value: 0.802628153486067.\u001b[0m\n",
            "\u001b[32m[I 2023-01-22 10:46:00,842]\u001b[0m Trial 101 finished with value: 0.7957638098543021 and parameters: {'C': 1.9703024352739045, 'max_iter': 1867}. Best is trial 81 with value: 0.802628153486067.\u001b[0m\n",
            "\u001b[32m[I 2023-01-22 10:46:33,225]\u001b[0m Trial 102 finished with value: 0.7886760657102332 and parameters: {'C': 23.244652860320738, 'max_iter': 1833}. Best is trial 81 with value: 0.802628153486067.\u001b[0m\n",
            "\u001b[32m[I 2023-01-22 10:47:21,021]\u001b[0m Trial 103 finished with value: 0.7874166139521762 and parameters: {'C': 49.57774113497317, 'max_iter': 1599}. Best is trial 81 with value: 0.802628153486067.\u001b[0m\n",
            "\u001b[32m[I 2023-01-22 10:47:53,892]\u001b[0m Trial 104 finished with value: 0.7890256646837412 and parameters: {'C': 19.33579332344652, 'max_iter': 2519}. Best is trial 81 with value: 0.802628153486067.\u001b[0m\n",
            "\u001b[32m[I 2023-01-22 10:48:49,868]\u001b[0m Trial 105 finished with value: 0.7864209767292005 and parameters: {'C': 96.21059843435764, 'max_iter': 1300}. Best is trial 81 with value: 0.802628153486067.\u001b[0m\n",
            "\u001b[32m[I 2023-01-22 10:49:34,565]\u001b[0m Trial 106 finished with value: 0.7869245681079842 and parameters: {'C': 67.1332394276443, 'max_iter': 3171}. Best is trial 81 with value: 0.802628153486067.\u001b[0m\n",
            "\u001b[32m[I 2023-01-22 10:50:17,184]\u001b[0m Trial 107 finished with value: 0.7876922531242165 and parameters: {'C': 40.464465180816696, 'max_iter': 2234}. Best is trial 81 with value: 0.802628153486067.\u001b[0m\n",
            "\u001b[32m[I 2023-01-22 10:50:35,773]\u001b[0m Trial 108 finished with value: 0.795498274187956 and parameters: {'C': 2.118930257593021, 'max_iter': 1918}. Best is trial 81 with value: 0.802628153486067.\u001b[0m\n",
            "\u001b[32m[I 2023-01-22 10:50:44,423]\u001b[0m Trial 109 finished with value: 0.8047624678952326 and parameters: {'C': 0.19651670608932165, 'max_iter': 1496}. Best is trial 109 with value: 0.8047624678952326.\u001b[0m\n",
            "\u001b[32m[I 2023-01-22 10:51:27,992]\u001b[0m Trial 110 finished with value: 0.7884410894272478 and parameters: {'C': 26.09601195658763, 'max_iter': 1842}. Best is trial 109 with value: 0.8047624678952326.\u001b[0m\n",
            "\u001b[32m[I 2023-01-22 10:52:06,564]\u001b[0m Trial 111 finished with value: 0.7888581776790091 and parameters: {'C': 21.103832927126152, 'max_iter': 1559}. Best is trial 109 with value: 0.8047624678952326.\u001b[0m\n",
            "\u001b[32m[I 2023-01-22 10:52:17,794]\u001b[0m Trial 112 finished with value: 0.8024579289522831 and parameters: {'C': 0.42520813853044637, 'max_iter': 1206}. Best is trial 109 with value: 0.8047624678952326.\u001b[0m\n",
            "\u001b[32m[I 2023-01-22 10:52:33,008]\u001b[0m Trial 113 finished with value: 0.7990225835098994 and parameters: {'C': 0.9449705054077531, 'max_iter': 1128}. Best is trial 109 with value: 0.8047624678952326.\u001b[0m\n",
            "\u001b[32m[I 2023-01-22 10:53:17,712]\u001b[0m Trial 114 finished with value: 0.7875242218698684 and parameters: {'C': 44.877687840314564, 'max_iter': 1215}. Best is trial 109 with value: 0.8047624678952326.\u001b[0m\n",
            "\u001b[32m[I 2023-01-22 10:54:14,480]\u001b[0m Trial 115 finished with value: 0.7866074473466116 and parameters: {'C': 83.28702837978474, 'max_iter': 941}. Best is trial 109 with value: 0.8047624678952326.\u001b[0m\n",
            "\u001b[32m[I 2023-01-22 10:55:03,456]\u001b[0m Trial 116 finished with value: 0.7863073029867268 and parameters: {'C': 111.8337970237802, 'max_iter': 800}. Best is trial 109 with value: 0.8047624678952326.\u001b[0m\n",
            "\u001b[32m[I 2023-01-22 10:55:50,890]\u001b[0m Trial 117 finished with value: 0.7873646171811579 and parameters: {'C': 49.8784713373411, 'max_iter': 1469}. Best is trial 109 with value: 0.8047624678952326.\u001b[0m\n",
            "\u001b[32m[I 2023-01-22 10:56:36,680]\u001b[0m Trial 118 finished with value: 0.7868783882954701 and parameters: {'C': 70.37574326460673, 'max_iter': 1133}. Best is trial 109 with value: 0.8047624678952326.\u001b[0m\n",
            "\u001b[32m[I 2023-01-22 10:56:47,253]\u001b[0m Trial 119 finished with value: 0.8039776018024432 and parameters: {'C': 0.2721118816755036, 'max_iter': 1393}. Best is trial 109 with value: 0.8047624678952326.\u001b[0m\n",
            "\u001b[32m[I 2023-01-22 10:57:37,353]\u001b[0m Trial 120 finished with value: 0.7880117741659476 and parameters: {'C': 33.24121100371507, 'max_iter': 1478}. Best is trial 109 with value: 0.8047624678952326.\u001b[0m\n",
            "\u001b[32m[I 2023-01-22 10:57:55,155]\u001b[0m Trial 121 finished with value: 0.7964753394742444 and parameters: {'C': 1.6626569729840486, 'max_iter': 1290}. Best is trial 109 with value: 0.8047624678952326.\u001b[0m\n",
            "\u001b[32m[I 2023-01-22 10:58:26,332]\u001b[0m Trial 122 finished with value: 0.788977596278542 and parameters: {'C': 19.707226513287885, 'max_iter': 1213}. Best is trial 109 with value: 0.8047624678952326.\u001b[0m\n",
            "\u001b[32m[I 2023-01-22 10:59:08,067]\u001b[0m Trial 123 finished with value: 0.7874719227379524 and parameters: {'C': 46.94118903955413, 'max_iter': 681}. Best is trial 109 with value: 0.8047624678952326.\u001b[0m\n",
            "\u001b[32m[I 2023-01-22 10:59:46,191]\u001b[0m Trial 124 finished with value: 0.7889514862520861 and parameters: {'C': 20.161421593129003, 'max_iter': 1672}. Best is trial 109 with value: 0.8047624678952326.\u001b[0m\n",
            "\u001b[32m[I 2023-01-22 11:00:40,754]\u001b[0m Trial 125 finished with value: 0.7869124038964784 and parameters: {'C': 67.05082112367081, 'max_iter': 936}. Best is trial 109 with value: 0.8047624678952326.\u001b[0m\n",
            "\u001b[32m[I 2023-01-22 11:02:00,169]\u001b[0m Trial 126 finished with value: 0.7849235785737998 and parameters: {'C': 399.29779155922853, 'max_iter': 325}. Best is trial 109 with value: 0.8047624678952326.\u001b[0m\n",
            "\u001b[32m[I 2023-01-22 11:03:09,430]\u001b[0m Trial 127 finished with value: 0.7879189633254255 and parameters: {'C': 35.180854172042274, 'max_iter': 7728}. Best is trial 109 with value: 0.8047624678952326.\u001b[0m\n",
            "\u001b[32m[I 2023-01-22 11:04:16,446]\u001b[0m Trial 128 finished with value: 0.7865277566432033 and parameters: {'C': 88.42063011187022, 'max_iter': 1387}. Best is trial 109 with value: 0.8047624678952326.\u001b[0m\n",
            "\u001b[32m[I 2023-01-22 11:05:01,388]\u001b[0m Trial 129 finished with value: 0.7890153611546836 and parameters: {'C': 19.471655719133498, 'max_iter': 1085}. Best is trial 109 with value: 0.8047624678952326.\u001b[0m\n",
            "\u001b[32m[I 2023-01-22 11:05:52,074]\u001b[0m Trial 130 finished with value: 0.7871355439132396 and parameters: {'C': 60.17853411789953, 'max_iter': 2036}. Best is trial 109 with value: 0.8047624678952326.\u001b[0m\n",
            "\u001b[32m[I 2023-01-22 11:06:32,781]\u001b[0m Trial 131 finished with value: 0.7894522331125768 and parameters: {'C': 15.543142300821936, 'max_iter': 1701}. Best is trial 109 with value: 0.8047624678952326.\u001b[0m\n",
            "\u001b[32m[I 2023-01-22 11:07:16,246]\u001b[0m Trial 132 finished with value: 0.789602311107152 and parameters: {'C': 14.440094035359095, 'max_iter': 2686}. Best is trial 109 with value: 0.8047624678952326.\u001b[0m\n",
            "\u001b[32m[I 2023-01-22 11:07:38,291]\u001b[0m Trial 133 finished with value: 0.7960214050583001 and parameters: {'C': 1.8630442467722255, 'max_iter': 2335}. Best is trial 109 with value: 0.8047624678952326.\u001b[0m\n",
            "\u001b[32m[I 2023-01-22 11:08:05,015]\u001b[0m Trial 134 finished with value: 0.793424748274377 and parameters: {'C': 3.6241861063169623, 'max_iter': 2458}. Best is trial 109 with value: 0.8047624678952326.\u001b[0m\n",
            "\u001b[32m[I 2023-01-22 11:09:03,617]\u001b[0m Trial 135 finished with value: 0.7877415007369175 and parameters: {'C': 39.263423068972905, 'max_iter': 1328}. Best is trial 109 with value: 0.8047624678952326.\u001b[0m\n",
            "\u001b[32m[I 2023-01-22 11:09:32,155]\u001b[0m Trial 136 finished with value: 0.7948675749394216 and parameters: {'C': 2.4564881189194296, 'max_iter': 2313}. Best is trial 109 with value: 0.8047624678952326.\u001b[0m\n",
            "\u001b[32m[I 2023-01-22 11:10:25,685]\u001b[0m Trial 137 finished with value: 0.7861951759365382 and parameters: {'C': 188.0230590443919, 'max_iter': 2839}. Best is trial 109 with value: 0.8047624678952326.\u001b[0m\n",
            "\u001b[32m[I 2023-01-22 11:11:21,741]\u001b[0m Trial 138 finished with value: 0.785985516564115 and parameters: {'C': 494.11722481282555, 'max_iter': 2060}. Best is trial 109 with value: 0.8047624678952326.\u001b[0m\n",
            "\u001b[32m[I 2023-01-22 11:12:22,122]\u001b[0m Trial 139 finished with value: 0.7873959068823795 and parameters: {'C': 48.874436523199634, 'max_iter': 1612}. Best is trial 109 with value: 0.8047624678952326.\u001b[0m\n",
            "\u001b[32m[I 2023-01-22 11:13:14,220]\u001b[0m Trial 140 finished with value: 0.7867935690860637 and parameters: {'C': 75.58683847938072, 'max_iter': 817}. Best is trial 109 with value: 0.8047624678952326.\u001b[0m\n",
            "\u001b[32m[I 2023-01-22 11:14:04,459]\u001b[0m Trial 141 finished with value: 0.7882468109211128 and parameters: {'C': 29.01831122146713, 'max_iter': 1881}. Best is trial 109 with value: 0.8047624678952326.\u001b[0m\n",
            "\u001b[32m[I 2023-01-22 11:14:28,699]\u001b[0m Trial 142 finished with value: 0.7934344145196959 and parameters: {'C': 3.6175006857801906, 'max_iter': 1830}. Best is trial 109 with value: 0.8047624678952326.\u001b[0m\n",
            "\u001b[32m[I 2023-01-22 11:14:53,644]\u001b[0m Trial 143 finished with value: 0.7941763058254886 and parameters: {'C': 2.929139849885891, 'max_iter': 1483}. Best is trial 109 with value: 0.8047624678952326.\u001b[0m\n",
            "\u001b[32m[I 2023-01-22 11:15:08,650]\u001b[0m Trial 144 finished with value: 0.8017694159742262 and parameters: {'C': 0.5052629626763588, 'max_iter': 2126}. Best is trial 109 with value: 0.8047624678952326.\u001b[0m\n",
            "\u001b[32m[I 2023-01-22 11:15:59,332]\u001b[0m Trial 145 finished with value: 0.787884859342001 and parameters: {'C': 35.97809939864701, 'max_iter': 2610}. Best is trial 109 with value: 0.8047624678952326.\u001b[0m\n",
            "\u001b[32m[I 2023-01-22 11:16:19,148]\u001b[0m Trial 146 finished with value: 0.7984089676520938 and parameters: {'C': 1.0772824640033452, 'max_iter': 2259}. Best is trial 109 with value: 0.8047624678952326.\u001b[0m\n",
            "\u001b[32m[I 2023-01-22 11:17:17,592]\u001b[0m Trial 147 finished with value: 0.7872206468767196 and parameters: {'C': 54.6714152028744, 'max_iter': 2155}. Best is trial 109 with value: 0.8047624678952326.\u001b[0m\n",
            "\u001b[32m[I 2023-01-22 11:17:54,243]\u001b[0m Trial 148 finished with value: 0.7884161330239097 and parameters: {'C': 30.585306143112977, 'max_iter': 1142}. Best is trial 109 with value: 0.8047624678952326.\u001b[0m\n",
            "\u001b[32m[I 2023-01-22 11:18:47,153]\u001b[0m Trial 149 finished with value: 0.7862424209897538 and parameters: {'C': 243.26961323055679, 'max_iter': 1334}. Best is trial 109 with value: 0.8047624678952326.\u001b[0m\n",
            "\u001b[32m[I 2023-01-22 11:19:48,905]\u001b[0m Trial 150 finished with value: 0.7859645885382776 and parameters: {'C': 153.25722407482277, 'max_iter': 5117}. Best is trial 109 with value: 0.8047624678952326.\u001b[0m\n",
            "\u001b[32m[I 2023-01-22 11:20:38,553]\u001b[0m Trial 151 finished with value: 0.7885796591008799 and parameters: {'C': 24.016225353159, 'max_iter': 2339}. Best is trial 109 with value: 0.8047624678952326.\u001b[0m\n",
            "\u001b[32m[I 2023-01-22 11:20:50,761]\u001b[0m Trial 152 finished with value: 0.8039443700139163 and parameters: {'C': 0.2753155330520036, 'max_iter': 1671}. Best is trial 109 with value: 0.8047624678952326.\u001b[0m\n",
            "\u001b[32m[I 2023-01-22 11:21:10,777]\u001b[0m Trial 153 finished with value: 0.7986099539184548 and parameters: {'C': 1.0306594182538193, 'max_iter': 1628}. Best is trial 109 with value: 0.8047624678952326.\u001b[0m\n",
            "\u001b[32m[I 2023-01-22 11:21:57,008]\u001b[0m Trial 154 finished with value: 0.7874117017505127 and parameters: {'C': 52.61423955233636, 'max_iter': 1723}. Best is trial 109 with value: 0.8047624678952326.\u001b[0m\n",
            "\u001b[32m[I 2023-01-22 11:22:51,162]\u001b[0m Trial 155 finished with value: 0.7882294670348415 and parameters: {'C': 29.273518061751027, 'max_iter': 1989}. Best is trial 109 with value: 0.8047624678952326.\u001b[0m\n",
            "\u001b[32m[I 2023-01-22 11:23:02,569]\u001b[0m Trial 156 finished with value: 0.8044968531498824 and parameters: {'C': 0.22242330671138422, 'max_iter': 1614}. Best is trial 109 with value: 0.8047624678952326.\u001b[0m\n",
            "\u001b[32m[I 2023-01-22 11:23:42,223]\u001b[0m Trial 157 finished with value: 0.7878437801252484 and parameters: {'C': 46.656949793007776, 'max_iter': 1586}. Best is trial 109 with value: 0.8047624678952326.\u001b[0m\n",
            "\u001b[32m[I 2023-01-22 11:24:30,800]\u001b[0m Trial 158 finished with value: 0.7889107721942639 and parameters: {'C': 20.19791294535894, 'max_iter': 1492}. Best is trial 109 with value: 0.8047624678952326.\u001b[0m\n",
            "\u001b[32m[I 2023-01-22 11:25:22,887]\u001b[0m Trial 159 finished with value: 0.7862092473475535 and parameters: {'C': 303.2831017504252, 'max_iter': 8589}. Best is trial 109 with value: 0.8047624678952326.\u001b[0m\n",
            "\u001b[32m[I 2023-01-22 11:26:11,106]\u001b[0m Trial 160 finished with value: 0.7868901385051312 and parameters: {'C': 69.71406180879781, 'max_iter': 1034}. Best is trial 109 with value: 0.8047624678952326.\u001b[0m\n",
            "\u001b[32m[I 2023-01-22 11:26:55,597]\u001b[0m Trial 161 finished with value: 0.7888464577054379 and parameters: {'C': 21.0741204606707, 'max_iter': 2085}. Best is trial 109 with value: 0.8047624678952326.\u001b[0m\n",
            "\u001b[32m[I 2023-01-22 11:27:54,840]\u001b[0m Trial 162 finished with value: 0.787683410230881 and parameters: {'C': 40.77191055960831, 'max_iter': 1737}. Best is trial 109 with value: 0.8047624678952326.\u001b[0m\n",
            "\u001b[32m[I 2023-01-22 11:28:18,854]\u001b[0m Trial 163 finished with value: 0.7943655023426864 and parameters: {'C': 2.790299984965484, 'max_iter': 1969}. Best is trial 109 with value: 0.8047624678952326.\u001b[0m\n",
            "\u001b[32m[I 2023-01-22 11:29:04,957]\u001b[0m Trial 164 finished with value: 0.7888624246866974 and parameters: {'C': 20.788918657226727, 'max_iter': 1503}. Best is trial 109 with value: 0.8047624678952326.\u001b[0m\n",
            "\u001b[32m[I 2023-01-22 11:29:47,977]\u001b[0m Trial 165 finished with value: 0.7872478756384975 and parameters: {'C': 58.84237283032525, 'max_iter': 2196}. Best is trial 109 with value: 0.8047624678952326.\u001b[0m\n",
            "\u001b[32m[I 2023-01-22 11:30:05,523]\u001b[0m Trial 166 finished with value: 0.7999629840485438 and parameters: {'C': 0.7644063052182275, 'max_iter': 1781}. Best is trial 109 with value: 0.8047624678952326.\u001b[0m\n",
            "\u001b[32m[I 2023-01-22 11:30:22,776]\u001b[0m Trial 167 finished with value: 0.8020054598237667 and parameters: {'C': 0.4769989107760012, 'max_iter': 1212}. Best is trial 109 with value: 0.8047624678952326.\u001b[0m\n",
            "\u001b[32m[I 2023-01-22 11:30:45,120]\u001b[0m Trial 168 finished with value: 0.7974108720024333 and parameters: {'C': 1.3465769140730446, 'max_iter': 9976}. Best is trial 109 with value: 0.8047624678952326.\u001b[0m\n",
            "\u001b[32m[I 2023-01-22 11:31:49,853]\u001b[0m Trial 169 finished with value: 0.786440555760263 and parameters: {'C': 94.40351005267385, 'max_iter': 1183}. Best is trial 109 with value: 0.8047624678952326.\u001b[0m\n",
            "\u001b[32m[I 2023-01-22 11:32:35,200]\u001b[0m Trial 170 finished with value: 0.7878367304646223 and parameters: {'C': 37.18528427067137, 'max_iter': 614}. Best is trial 109 with value: 0.8047624678952326.\u001b[0m\n",
            "\u001b[32m[I 2023-01-22 11:32:52,949]\u001b[0m Trial 171 finished with value: 0.7986921798016988 and parameters: {'C': 1.0112308023376384, 'max_iter': 1690}. Best is trial 109 with value: 0.8047624678952326.\u001b[0m\n",
            "\u001b[32m[I 2023-01-22 11:33:34,783]\u001b[0m Trial 172 finished with value: 0.7888148912277021 and parameters: {'C': 21.3981687533504, 'max_iter': 1762}. Best is trial 109 with value: 0.8047624678952326.\u001b[0m\n",
            "\u001b[32m[I 2023-01-22 11:34:21,112]\u001b[0m Trial 173 finished with value: 0.7887507395485903 and parameters: {'C': 21.946166529938314, 'max_iter': 968}. Best is trial 109 with value: 0.8047624678952326.\u001b[0m\n",
            "\u001b[32m[I 2023-01-22 11:34:44,091]\u001b[0m Trial 174 finished with value: 0.7953455191365084 and parameters: {'C': 2.178888837733972, 'max_iter': 1369}. Best is trial 109 with value: 0.8047624678952326.\u001b[0m\n",
            "\u001b[32m[I 2023-01-22 11:35:33,240]\u001b[0m Trial 175 finished with value: 0.787688573624675 and parameters: {'C': 40.82398737708639, 'max_iter': 1590}. Best is trial 109 with value: 0.8047624678952326.\u001b[0m\n",
            "\u001b[32m[I 2023-01-22 11:35:55,438]\u001b[0m Trial 176 finished with value: 0.7975084903812312 and parameters: {'C': 1.3171692624776348, 'max_iter': 1825}. Best is trial 109 with value: 0.8047624678952326.\u001b[0m\n",
            "\u001b[32m[I 2023-01-22 11:37:15,555]\u001b[0m Trial 177 finished with value: 0.7850999433596634 and parameters: {'C': 351.04157669523687, 'max_iter': 1285}. Best is trial 109 with value: 0.8047624678952326.\u001b[0m\n",
            "\u001b[32m[I 2023-01-22 11:38:04,129]\u001b[0m Trial 178 finished with value: 0.7870685384124227 and parameters: {'C': 62.37946257082874, 'max_iter': 1945}. Best is trial 109 with value: 0.8047624678952326.\u001b[0m\n",
            "\u001b[32m[I 2023-01-22 11:39:41,663]\u001b[0m Trial 179 finished with value: 0.7845536237343071 and parameters: {'C': 695.9194309601427, 'max_iter': 1623}. Best is trial 109 with value: 0.8047624678952326.\u001b[0m\n",
            "\u001b[32m[I 2023-01-22 11:40:21,013]\u001b[0m Trial 180 finished with value: 0.7887041154981417 and parameters: {'C': 22.786285107689103, 'max_iter': 1177}. Best is trial 109 with value: 0.8047624678952326.\u001b[0m\n",
            "\u001b[32m[I 2023-01-22 11:41:14,433]\u001b[0m Trial 181 finished with value: 0.7888442783811203 and parameters: {'C': 20.88472766113113, 'max_iter': 1465}. Best is trial 109 with value: 0.8047624678952326.\u001b[0m\n",
            "\u001b[32m[I 2023-01-22 11:42:03,748]\u001b[0m Trial 182 finished with value: 0.7877134323421846 and parameters: {'C': 39.92645964826103, 'max_iter': 953}. Best is trial 109 with value: 0.8047624678952326.\u001b[0m\n",
            "\u001b[32m[I 2023-01-22 11:42:20,347]\u001b[0m Trial 183 finished with value: 0.8008500062594519 and parameters: {'C': 0.6273507642114651, 'max_iter': 1780}. Best is trial 109 with value: 0.8047624678952326.\u001b[0m\n",
            "\u001b[32m[I 2023-01-22 11:43:01,540]\u001b[0m Trial 184 finished with value: 0.7890227457381505 and parameters: {'C': 19.273951493832286, 'max_iter': 2057}. Best is trial 109 with value: 0.8047624678952326.\u001b[0m\n",
            "\u001b[32m[I 2023-01-22 11:43:07,831]\u001b[0m Trial 185 finished with value: 0.8046929016301962 and parameters: {'C': 0.059030580864071425, 'max_iter': 1715}. Best is trial 109 with value: 0.8047624678952326.\u001b[0m\n",
            "\u001b[32m[I 2023-01-22 11:43:18,600]\u001b[0m Trial 186 finished with value: 0.8051707062760993 and parameters: {'C': 0.14852508065047798, 'max_iter': 1723}. Best is trial 186 with value: 0.8051707062760993.\u001b[0m\n",
            "\u001b[32m[I 2023-01-22 11:44:16,845]\u001b[0m Trial 187 finished with value: 0.7875340369697832 and parameters: {'C': 44.247282693542815, 'max_iter': 1778}. Best is trial 186 with value: 0.8051707062760993.\u001b[0m\n",
            "\u001b[32m[I 2023-01-22 11:45:04,638]\u001b[0m Trial 188 finished with value: 0.7879793820103755 and parameters: {'C': 33.99860999137112, 'max_iter': 1664}. Best is trial 186 with value: 0.8051707062760993.\u001b[0m\n",
            "\u001b[32m[I 2023-01-22 11:45:21,262]\u001b[0m Trial 189 finished with value: 0.7995354666716594 and parameters: {'C': 0.8389901859754362, 'max_iter': 1895}. Best is trial 186 with value: 0.8051707062760993.\u001b[0m\n",
            "\u001b[32m[I 2023-01-22 11:46:27,414]\u001b[0m Trial 190 finished with value: 0.7866660100008193 and parameters: {'C': 80.04428567157721, 'max_iter': 1940}. Best is trial 186 with value: 0.8051707062760993.\u001b[0m\n",
            "\u001b[32m[I 2023-01-22 11:47:04,219]\u001b[0m Trial 191 finished with value: 0.7894509957587488 and parameters: {'C': 15.615793735063551, 'max_iter': 1839}. Best is trial 186 with value: 0.8051707062760993.\u001b[0m\n",
            "\u001b[32m[I 2023-01-22 11:47:12,304]\u001b[0m Trial 192 finished with value: 0.8050809423030865 and parameters: {'C': 0.07500396915701796, 'max_iter': 1317}. Best is trial 186 with value: 0.8051707062760993.\u001b[0m\n",
            "\u001b[32m[I 2023-01-22 11:47:59,601]\u001b[0m Trial 193 finished with value: 0.7887715047647135 and parameters: {'C': 22.040435749821803, 'max_iter': 1308}. Best is trial 186 with value: 0.8051707062760993.\u001b[0m\n",
            "\u001b[32m[I 2023-01-22 11:48:18,141]\u001b[0m Trial 194 finished with value: 0.799699430009005 and parameters: {'C': 0.8096935909288885, 'max_iter': 1411}. Best is trial 186 with value: 0.8051707062760993.\u001b[0m\n",
            "\u001b[32m[I 2023-01-22 11:49:10,779]\u001b[0m Trial 195 finished with value: 0.7873797026641076 and parameters: {'C': 49.3554568563224, 'max_iter': 1135}. Best is trial 186 with value: 0.8051707062760993.\u001b[0m\n",
            "\u001b[32m[I 2023-01-22 11:49:49,208]\u001b[0m Trial 196 finished with value: 0.7884218104312299 and parameters: {'C': 26.447703215306568, 'max_iter': 1396}. Best is trial 186 with value: 0.8051707062760993.\u001b[0m\n",
            "\u001b[32m[I 2023-01-22 11:50:43,400]\u001b[0m Trial 197 finished with value: 0.7878147325463771 and parameters: {'C': 37.385768285073176, 'max_iter': 779}. Best is trial 186 with value: 0.8051707062760993.\u001b[0m\n",
            "\u001b[32m[I 2023-01-22 11:51:31,458]\u001b[0m Trial 198 finished with value: 0.7870554740957824 and parameters: {'C': 63.06573082910907, 'max_iter': 1428}. Best is trial 186 with value: 0.8051707062760993.\u001b[0m\n",
            "\u001b[32m[I 2023-01-22 11:52:05,771]\u001b[0m Trial 199 finished with value: 0.7889372241211197 and parameters: {'C': 20.014135785374783, 'max_iter': 2087}. Best is trial 186 with value: 0.8051707062760993.\u001b[0m\n",
            "\u001b[32m[I 2023-01-22 11:52:20,731]\u001b[0m Trial 200 finished with value: 0.8022644458878947 and parameters: {'C': 0.44751778241485296, 'max_iter': 1225}. Best is trial 186 with value: 0.8051707062760993.\u001b[0m\n",
            "\u001b[32m[I 2023-01-22 11:52:38,072]\u001b[0m Trial 201 finished with value: 0.7995020185787979 and parameters: {'C': 0.8463351223492026, 'max_iter': 1087}. Best is trial 186 with value: 0.8051707062760993.\u001b[0m\n",
            "\u001b[32m[I 2023-01-22 11:53:41,817]\u001b[0m Trial 202 finished with value: 0.785679936685628 and parameters: {'C': 215.0007829412901, 'max_iter': 927}. Best is trial 186 with value: 0.8051707062760993.\u001b[0m\n",
            "\u001b[32m[I 2023-01-22 11:54:06,003]\u001b[0m Trial 203 finished with value: 0.7961948415951607 and parameters: {'C': 1.7881449794224702, 'max_iter': 1287}. Best is trial 186 with value: 0.8051707062760993.\u001b[0m\n",
            "\u001b[32m[I 2023-01-22 11:54:56,153]\u001b[0m Trial 204 finished with value: 0.788342859349095 and parameters: {'C': 28.03309866348892, 'max_iter': 1552}. Best is trial 186 with value: 0.8051707062760993.\u001b[0m\n",
            "\u001b[32m[I 2023-01-22 11:55:19,032]\u001b[0m Trial 205 finished with value: 0.7966522252511936 and parameters: {'C': 1.603945271630856, 'max_iter': 6656}. Best is trial 186 with value: 0.8051707062760993.\u001b[0m\n",
            "\u001b[32m[I 2023-01-22 11:56:20,007]\u001b[0m Trial 206 finished with value: 0.7876893248752135 and parameters: {'C': 40.48996039845157, 'max_iter': 1865}. Best is trial 186 with value: 0.8051707062760993.\u001b[0m\n",
            "\u001b[32m[I 2023-01-22 11:57:00,706]\u001b[0m Trial 207 finished with value: 0.7890910630200935 and parameters: {'C': 18.533896237977714, 'max_iter': 1053}. Best is trial 186 with value: 0.8051707062760993.\u001b[0m\n",
            "\u001b[32m[I 2023-01-22 11:58:17,540]\u001b[0m Trial 208 finished with value: 0.7856565386038404 and parameters: {'C': 181.99741580058785, 'max_iter': 2341}. Best is trial 186 with value: 0.8051707062760993.\u001b[0m\n",
            "\u001b[32m[I 2023-01-22 11:59:34,916]\u001b[0m Trial 209 finished with value: 0.7849444577567228 and parameters: {'C': 449.0435945731565, 'max_iter': 1523}. Best is trial 186 with value: 0.8051707062760993.\u001b[0m\n",
            "\u001b[32m[I 2023-01-22 12:00:17,740]\u001b[0m Trial 210 finished with value: 0.7875287270472464 and parameters: {'C': 50.064994182945604, 'max_iter': 1260}. Best is trial 186 with value: 0.8051707062760993.\u001b[0m\n",
            "\u001b[32m[I 2023-01-22 12:00:59,442]\u001b[0m Trial 211 finished with value: 0.789108955807687 and parameters: {'C': 18.312098962490293, 'max_iter': 803}. Best is trial 186 with value: 0.8051707062760993.\u001b[0m\n",
            "\u001b[32m[I 2023-01-22 12:01:19,534]\u001b[0m Trial 212 finished with value: 0.7975145306216291 and parameters: {'C': 1.3160479222427175, 'max_iter': 1107}. Best is trial 186 with value: 0.8051707062760993.\u001b[0m\n",
            "\u001b[32m[I 2023-01-22 12:01:35,250]\u001b[0m Trial 213 finished with value: 0.7995785228635135 and parameters: {'C': 0.8318937836523599, 'max_iter': 1722}. Best is trial 186 with value: 0.8051707062760993.\u001b[0m\n",
            "\u001b[32m[I 2023-01-22 12:02:21,521]\u001b[0m Trial 214 finished with value: 0.786331496510261 and parameters: {'C': 254.9529703193965, 'max_iter': 1730}. Best is trial 186 with value: 0.8051707062760993.\u001b[0m\n",
            "\u001b[32m[I 2023-01-22 12:03:00,808]\u001b[0m Trial 215 finished with value: 0.7887931514791465 and parameters: {'C': 21.860517854279944, 'max_iter': 2181}. Best is trial 186 with value: 0.8051707062760993.\u001b[0m\n",
            "\u001b[32m[I 2023-01-22 12:03:08,684]\u001b[0m Trial 216 finished with value: 0.8051715552124665 and parameters: {'C': 0.08146589635032342, 'max_iter': 1913}. Best is trial 216 with value: 0.8051715552124665.\u001b[0m\n",
            "\u001b[32m[I 2023-01-22 12:03:28,228]\u001b[0m Trial 217 finished with value: 0.7979502280237267 and parameters: {'C': 1.1928870119106305, 'max_iter': 1970}. Best is trial 216 with value: 0.8051715552124665.\u001b[0m\n",
            "\u001b[32m[I 2023-01-22 12:04:27,346]\u001b[0m Trial 218 finished with value: 0.7878194982192978 and parameters: {'C': 37.31049137111293, 'max_iter': 1607}. Best is trial 216 with value: 0.8051715552124665.\u001b[0m\n",
            "\u001b[32m[I 2023-01-22 12:05:08,428]\u001b[0m Trial 219 finished with value: 0.789063969157793 and parameters: {'C': 18.64675671922352, 'max_iter': 1400}. Best is trial 216 with value: 0.8051715552124665.\u001b[0m\n",
            "\u001b[32m[I 2023-01-22 12:06:09,832]\u001b[0m Trial 220 finished with value: 0.7858632162326402 and parameters: {'C': 166.30044632333488, 'max_iter': 1780}. Best is trial 216 with value: 0.8051715552124665.\u001b[0m\n",
            "\u001b[32m[I 2023-01-22 12:06:26,444]\u001b[0m Trial 221 finished with value: 0.7981049158590675 and parameters: {'C': 1.1552111265614318, 'max_iter': 1927}. Best is trial 216 with value: 0.8051715552124665.\u001b[0m\n",
            "\u001b[32m[I 2023-01-22 12:07:13,865]\u001b[0m Trial 222 finished with value: 0.7889114932087127 and parameters: {'C': 20.373531627442844, 'max_iter': 2136}. Best is trial 216 with value: 0.8051715552124665.\u001b[0m\n",
            "\u001b[32m[I 2023-01-22 12:08:05,605]\u001b[0m Trial 223 finished with value: 0.78637039175099 and parameters: {'C': 139.33410664502537, 'max_iter': 1616}. Best is trial 216 with value: 0.8051715552124665.\u001b[0m\n",
            "\u001b[32m[I 2023-01-22 12:08:22,860]\u001b[0m Trial 224 finished with value: 0.8017535745890318 and parameters: {'C': 0.5072413252354278, 'max_iter': 1366}. Best is trial 216 with value: 0.8051715552124665.\u001b[0m\n",
            "\u001b[32m[I 2023-01-22 12:08:39,838]\u001b[0m Trial 225 finished with value: 0.7981022411280481 and parameters: {'C': 1.1570851490259368, 'max_iter': 1336}. Best is trial 216 with value: 0.8051715552124665.\u001b[0m\n",
            "\u001b[32m[I 2023-01-22 12:09:37,846]\u001b[0m Trial 226 finished with value: 0.7879732580392674 and parameters: {'C': 34.06536301243954, 'max_iter': 1456}. Best is trial 216 with value: 0.8051715552124665.\u001b[0m\n",
            "\u001b[32m[I 2023-01-22 12:10:48,442]\u001b[0m Trial 227 finished with value: 0.7852470907793823 and parameters: {'C': 899.5867123146004, 'max_iter': 1189}. Best is trial 216 with value: 0.8051715552124665.\u001b[0m\n",
            "\u001b[32m[I 2023-01-22 12:11:58,940]\u001b[0m Trial 228 finished with value: 0.7855398784660371 and parameters: {'C': 223.84129485919362, 'max_iter': 1722}. Best is trial 216 with value: 0.8051715552124665.\u001b[0m\n",
            "\u001b[32m[I 2023-01-22 12:12:40,614]\u001b[0m Trial 229 finished with value: 0.7890419735654007 and parameters: {'C': 18.94071861088484, 'max_iter': 1019}. Best is trial 216 with value: 0.8051715552124665.\u001b[0m\n",
            "\u001b[32m[I 2023-01-22 12:13:17,626]\u001b[0m Trial 230 finished with value: 0.7876451569255967 and parameters: {'C': 50.25202184019561, 'max_iter': 1484}. Best is trial 216 with value: 0.8051715552124665.\u001b[0m\n",
            "\u001b[32m[I 2023-01-22 12:13:25,571]\u001b[0m Trial 231 finished with value: 0.8053030822030317 and parameters: {'C': 0.09846929569930918, 'max_iter': 1898}. Best is trial 231 with value: 0.8053030822030317.\u001b[0m\n",
            "\u001b[32m[I 2023-01-22 12:13:44,674]\u001b[0m Trial 232 finished with value: 0.7988362617470843 and parameters: {'C': 0.9796846047800281, 'max_iter': 1927}. Best is trial 231 with value: 0.8053030822030317.\u001b[0m\n",
            "\u001b[32m[I 2023-01-22 12:14:37,611]\u001b[0m Trial 233 finished with value: 0.7888082113777126 and parameters: {'C': 21.415677781269117, 'max_iter': 1689}. Best is trial 231 with value: 0.8053030822030317.\u001b[0m\n",
            "\u001b[32m[I 2023-01-22 12:15:24,889]\u001b[0m Trial 234 finished with value: 0.7887590521474281 and parameters: {'C': 22.21920635623712, 'max_iter': 2424}. Best is trial 231 with value: 0.8053030822030317.\u001b[0m\n",
            "\u001b[32m[I 2023-01-22 12:15:38,235]\u001b[0m Trial 235 finished with value: 0.8044533876078899 and parameters: {'C': 0.22689177116258596, 'max_iter': 2032}. Best is trial 231 with value: 0.8053030822030317.\u001b[0m\n",
            "\u001b[32m[I 2023-01-22 12:16:39,001]\u001b[0m Trial 236 finished with value: 0.7855342173396882 and parameters: {'C': 331.79316855023666, 'max_iter': 2173}. Best is trial 231 with value: 0.8053030822030317.\u001b[0m\n",
            "\u001b[32m[I 2023-01-22 12:17:30,076]\u001b[0m Trial 237 finished with value: 0.7878602913561241 and parameters: {'C': 36.57824711517057, 'max_iter': 2010}. Best is trial 231 with value: 0.8053030822030317.\u001b[0m\n",
            "\u001b[32m[I 2023-01-22 12:17:40,474]\u001b[0m Trial 238 finished with value: 0.8051701248128342 and parameters: {'C': 0.14866160824920227, 'max_iter': 1829}. Best is trial 231 with value: 0.8053030822030317.\u001b[0m\n",
            "\u001b[32m[I 2023-01-22 12:18:30,872]\u001b[0m Trial 239 finished with value: 0.7878678085132153 and parameters: {'C': 36.344067832914014, 'max_iter': 1765}. Best is trial 231 with value: 0.8053030822030317.\u001b[0m\n",
            "\u001b[32m[I 2023-01-22 12:19:10,171]\u001b[0m Trial 240 finished with value: 0.78903178167729 and parameters: {'C': 19.194486825649822, 'max_iter': 1551}. Best is trial 231 with value: 0.8053030822030317.\u001b[0m\n",
            "\u001b[32m[I 2023-01-22 12:19:27,181]\u001b[0m Trial 241 finished with value: 0.8002399908221837 and parameters: {'C': 0.7184079141835391, 'max_iter': 1817}. Best is trial 231 with value: 0.8053030822030317.\u001b[0m\n",
            "\u001b[32m[I 2023-01-22 12:20:17,842]\u001b[0m Trial 242 finished with value: 0.7861735315479581 and parameters: {'C': 282.8541178741249, 'max_iter': 2102}. Best is trial 231 with value: 0.8053030822030317.\u001b[0m\n",
            "\u001b[32m[I 2023-01-22 12:21:29,784]\u001b[0m Trial 243 finished with value: 0.7851483862272052 and parameters: {'C': 623.1300363631917, 'max_iter': 1858}. Best is trial 231 with value: 0.8053030822030317.\u001b[0m\n",
            "\u001b[32m[I 2023-01-22 12:22:12,111]\u001b[0m Trial 244 finished with value: 0.7891552612162664 and parameters: {'C': 18.04978288108517, 'max_iter': 1623}. Best is trial 231 with value: 0.8053030822030317.\u001b[0m\n",
            "\u001b[32m[I 2023-01-22 12:22:53,628]\u001b[0m Trial 245 finished with value: 0.7891618992009009 and parameters: {'C': 17.783240237176148, 'max_iter': 1385}. Best is trial 231 with value: 0.8053030822030317.\u001b[0m\n",
            "\u001b[32m[I 2023-01-22 12:23:10,407]\u001b[0m Trial 246 finished with value: 0.8017421872124482 and parameters: {'C': 0.5087239050859511, 'max_iter': 2272}. Best is trial 231 with value: 0.8053030822030317.\u001b[0m\n",
            "\u001b[32m[I 2023-01-22 12:23:29,348]\u001b[0m Trial 247 finished with value: 0.8002210607041252 and parameters: {'C': 0.7216385893772679, 'max_iter': 2566}. Best is trial 231 with value: 0.8053030822030317.\u001b[0m\n",
            "\u001b[32m[I 2023-01-22 12:24:26,826]\u001b[0m Trial 248 finished with value: 0.7878390539918296 and parameters: {'C': 36.906535030317016, 'max_iter': 2396}. Best is trial 231 with value: 0.8053030822030317.\u001b[0m\n",
            "\u001b[32m[I 2023-01-22 12:24:43,669]\u001b[0m Trial 249 finished with value: 0.8007264615965899 and parameters: {'C': 0.644469240529274, 'max_iter': 2540}. Best is trial 231 with value: 0.8053030822030317.\u001b[0m\n",
            "\u001b[32m[I 2023-01-22 12:25:46,238]\u001b[0m Trial 250 finished with value: 0.787324991622568 and parameters: {'C': 51.20304992031152, 'max_iter': 2300}. Best is trial 231 with value: 0.8053030822030317.\u001b[0m\n",
            "\u001b[32m[I 2023-01-22 12:26:34,055]\u001b[0m Trial 251 finished with value: 0.7889237737128716 and parameters: {'C': 20.285163194828446, 'max_iter': 2715}. Best is trial 231 with value: 0.8053030822030317.\u001b[0m\n",
            "\u001b[32m[I 2023-01-22 12:26:50,899]\u001b[0m Trial 252 finished with value: 0.8000377020781091 and parameters: {'C': 0.7512085630451973, 'max_iter': 2213}. Best is trial 231 with value: 0.8053030822030317.\u001b[0m\n",
            "\u001b[32m[I 2023-01-22 12:27:43,585]\u001b[0m Trial 253 finished with value: 0.7879782214096984 and parameters: {'C': 34.00594827342384, 'max_iter': 2707}. Best is trial 231 with value: 0.8053030822030317.\u001b[0m\n",
            "\u001b[32m[I 2023-01-22 12:28:39,368]\u001b[0m Trial 254 finished with value: 0.7870388907634619 and parameters: {'C': 61.78560823915305, 'max_iter': 2431}. Best is trial 231 with value: 0.8053030822030317.\u001b[0m\n",
            "\u001b[32m[I 2023-01-22 12:28:56,318]\u001b[0m Trial 255 finished with value: 0.8011543790202007 and parameters: {'C': 0.5848630641222137, 'max_iter': 2574}. Best is trial 231 with value: 0.8053030822030317.\u001b[0m\n",
            "\u001b[32m[I 2023-01-22 12:29:43,712]\u001b[0m Trial 256 finished with value: 0.788903001519189 and parameters: {'C': 20.48549648839367, 'max_iter': 2961}. Best is trial 231 with value: 0.8053030822030317.\u001b[0m\n",
            "\u001b[32m[I 2023-01-22 12:30:36,416]\u001b[0m Trial 257 finished with value: 0.7878515182383803 and parameters: {'C': 36.77719527653014, 'max_iter': 4818}. Best is trial 231 with value: 0.8053030822030317.\u001b[0m\n",
            "\u001b[32m[I 2023-01-22 12:30:48,042]\u001b[0m Trial 258 finished with value: 0.8032774107161703 and parameters: {'C': 0.3403322699209472, 'max_iter': 2620}. Best is trial 231 with value: 0.8053030822030317.\u001b[0m\n",
            "\u001b[32m[I 2023-01-22 12:32:04,936]\u001b[0m Trial 259 finished with value: 0.786165325938361 and parameters: {'C': 117.52883993427707, 'max_iter': 2573}. Best is trial 231 with value: 0.8053030822030317.\u001b[0m\n",
            "\u001b[32m[I 2023-01-22 12:32:46,244]\u001b[0m Trial 260 finished with value: 0.7890320514762451 and parameters: {'C': 19.27683557329131, 'max_iter': 2803}. Best is trial 231 with value: 0.8053030822030317.\u001b[0m\n",
            "\u001b[32m[I 2023-01-22 12:33:41,779]\u001b[0m Trial 261 finished with value: 0.7873351742072665 and parameters: {'C': 50.7010317606419, 'max_iter': 2088}. Best is trial 231 with value: 0.8053030822030317.\u001b[0m\n",
            "\u001b[32m[I 2023-01-22 12:34:21,021]\u001b[0m Trial 262 finished with value: 0.7887299952651446 and parameters: {'C': 22.59444659773821, 'max_iter': 2207}. Best is trial 231 with value: 0.8053030822030317.\u001b[0m\n",
            "\u001b[32m[I 2023-01-22 12:34:32,116]\u001b[0m Trial 263 finished with value: 0.8052527809788945 and parameters: {'C': 0.13486303149854245, 'max_iter': 5581}. Best is trial 231 with value: 0.8053030822030317.\u001b[0m\n",
            "\u001b[32m[I 2023-01-22 12:35:38,537]\u001b[0m Trial 264 finished with value: 0.7854847929621547 and parameters: {'C': 418.7080634513582, 'max_iter': 5419}. Best is trial 231 with value: 0.8053030822030317.\u001b[0m\n",
            "\u001b[32m[I 2023-01-22 12:36:40,642]\u001b[0m Trial 265 finished with value: 0.7854515076790074 and parameters: {'C': 519.9241359993982, 'max_iter': 2398}. Best is trial 231 with value: 0.8053030822030317.\u001b[0m\n",
            "\u001b[32m[I 2023-01-22 12:37:45,397]\u001b[0m Trial 266 finished with value: 0.7868999838411359 and parameters: {'C': 67.54819250811603, 'max_iter': 5464}. Best is trial 231 with value: 0.8053030822030317.\u001b[0m\n",
            "\u001b[32m[I 2023-01-22 12:38:39,803]\u001b[0m Trial 267 finished with value: 0.787893099839394 and parameters: {'C': 35.75847930018528, 'max_iter': 5965}. Best is trial 231 with value: 0.8053030822030317.\u001b[0m\n",
            "\u001b[32m[I 2023-01-22 12:39:22,005]\u001b[0m Trial 268 finished with value: 0.7893155892452788 and parameters: {'C': 16.47280826327103, 'max_iter': 5255}. Best is trial 231 with value: 0.8053030822030317.\u001b[0m\n",
            "\u001b[32m[I 2023-01-22 12:40:30,143]\u001b[0m Trial 269 finished with value: 0.7857666491394256 and parameters: {'C': 209.44250290206304, 'max_iter': 5886}. Best is trial 231 with value: 0.8053030822030317.\u001b[0m\n",
            "\u001b[32m[I 2023-01-22 12:41:25,451]\u001b[0m Trial 270 finished with value: 0.7859725243489196 and parameters: {'C': 346.4426152775455, 'max_iter': 2559}. Best is trial 231 with value: 0.8053030822030317.\u001b[0m\n",
            "\u001b[32m[I 2023-01-22 12:42:07,118]\u001b[0m Trial 271 finished with value: 0.7890743540917076 and parameters: {'C': 18.64188114686829, 'max_iter': 3142}. Best is trial 231 with value: 0.8053030822030317.\u001b[0m\n",
            "\u001b[32m[I 2023-01-22 12:42:47,530]\u001b[0m Trial 272 finished with value: 0.7877123740790422 and parameters: {'C': 45.31684037242857, 'max_iter': 5745}. Best is trial 231 with value: 0.8053030822030317.\u001b[0m\n",
            "\u001b[32m[I 2023-01-22 12:43:34,600]\u001b[0m Trial 273 finished with value: 0.7890429341427148 and parameters: {'C': 19.075374113711586, 'max_iter': 1986}. Best is trial 231 with value: 0.8053030822030317.\u001b[0m\n",
            "\u001b[32m[I 2023-01-22 12:44:23,869]\u001b[0m Trial 274 finished with value: 0.7878206076512078 and parameters: {'C': 37.36834904173371, 'max_iter': 1248}. Best is trial 231 with value: 0.8053030822030317.\u001b[0m\n",
            "\u001b[32m[I 2023-01-22 12:44:38,619]\u001b[0m Trial 275 finished with value: 0.8009275943916937 and parameters: {'C': 0.6156526616860494, 'max_iter': 6276}. Best is trial 231 with value: 0.8053030822030317.\u001b[0m\n",
            "\u001b[32m[I 2023-01-22 12:45:35,536]\u001b[0m Trial 276 finished with value: 0.7858290331702117 and parameters: {'C': 257.2825974083112, 'max_iter': 6353}. Best is trial 231 with value: 0.8053030822030317.\u001b[0m\n",
            "\u001b[32m[I 2023-01-22 12:46:29,919]\u001b[0m Trial 277 finished with value: 0.7861077145580551 and parameters: {'C': 373.35516232028147, 'max_iter': 6428}. Best is trial 231 with value: 0.8053030822030317.\u001b[0m\n",
            "\u001b[32m[I 2023-01-22 12:46:49,497]\u001b[0m Trial 278 finished with value: 0.7985083536792176 and parameters: {'C': 1.0529395322632702, 'max_iter': 7494}. Best is trial 231 with value: 0.8053030822030317.\u001b[0m\n",
            "\u001b[32m[I 2023-01-22 12:47:32,455]\u001b[0m Trial 279 finished with value: 0.7873042194288857 and parameters: {'C': 66.06920236709392, 'max_iter': 1554}. Best is trial 231 with value: 0.8053030822030317.\u001b[0m\n",
            "\u001b[32m[I 2023-01-22 12:48:45,334]\u001b[0m Trial 280 finished with value: 0.7854896005004306 and parameters: {'C': 231.4899368693089, 'max_iter': 1309}. Best is trial 231 with value: 0.8053030822030317.\u001b[0m\n",
            "\u001b[32m[I 2023-01-22 12:50:02,006]\u001b[0m Trial 281 finished with value: 0.7865216396496545 and parameters: {'C': 88.8753587575006, 'max_iter': 7046}. Best is trial 231 with value: 0.8053030822030317.\u001b[0m\n",
            "\u001b[32m[I 2023-01-22 12:50:51,913]\u001b[0m Trial 282 finished with value: 0.7887419478240221 and parameters: {'C': 22.10608625018526, 'max_iter': 5705}. Best is trial 231 with value: 0.8053030822030317.\u001b[0m\n",
            "\u001b[32m[I 2023-01-22 12:52:09,405]\u001b[0m Trial 283 finished with value: 0.7849083209777235 and parameters: {'C': 480.35851702585416, 'max_iter': 6193}. Best is trial 231 with value: 0.8053030822030317.\u001b[0m\n",
            "\u001b[32m[I 2023-01-22 12:52:55,842]\u001b[0m Trial 284 finished with value: 0.7874501364723356 and parameters: {'C': 48.030678318103924, 'max_iter': 6736}. Best is trial 231 with value: 0.8053030822030317.\u001b[0m\n",
            "\u001b[32m[I 2023-01-22 12:53:48,901]\u001b[0m Trial 285 finished with value: 0.7880741093538193 and parameters: {'C': 32.130282298255636, 'max_iter': 4180}. Best is trial 231 with value: 0.8053030822030317.\u001b[0m\n",
            "\u001b[32m[I 2023-01-22 12:54:11,013]\u001b[0m Trial 286 finished with value: 0.7984839508289079 and parameters: {'C': 1.059284713446827, 'max_iter': 2012}. Best is trial 231 with value: 0.8053030822030317.\u001b[0m\n",
            "\u001b[32m[I 2023-01-22 12:55:09,617]\u001b[0m Trial 287 finished with value: 0.7856613321869979 and parameters: {'C': 974.7667203184615, 'max_iter': 4847}. Best is trial 231 with value: 0.8053030822030317.\u001b[0m\n",
            "\u001b[32m[I 2023-01-22 12:55:16,237]\u001b[0m Trial 288 finished with value: 0.803767602855473 and parameters: {'C': 0.04147107248626333, 'max_iter': 1558}. Best is trial 231 with value: 0.8053030822030317.\u001b[0m\n",
            "\u001b[32m[I 2023-01-22 12:55:59,970]\u001b[0m Trial 289 finished with value: 0.7888236852781235 and parameters: {'C': 21.262392772692365, 'max_iter': 1217}. Best is trial 231 with value: 0.8053030822030317.\u001b[0m\n",
            "\u001b[32m[I 2023-01-22 12:57:05,449]\u001b[0m Trial 290 finished with value: 0.7860518987363116 and parameters: {'C': 137.870601133926, 'max_iter': 3731}. Best is trial 231 with value: 0.8053030822030317.\u001b[0m\n",
            "\u001b[32m[I 2023-01-22 12:58:10,054]\u001b[0m Trial 291 finished with value: 0.7852510935724992 and parameters: {'C': 796.5628699732794, 'max_iter': 1493}. Best is trial 231 with value: 0.8053030822030317.\u001b[0m\n",
            "\u001b[32m[I 2023-01-22 12:58:19,103]\u001b[0m Trial 292 finished with value: 0.8052967698378259 and parameters: {'C': 0.12308427348457401, 'max_iter': 1553}. Best is trial 231 with value: 0.8053030822030317.\u001b[0m\n",
            "\u001b[32m[I 2023-01-22 12:59:25,137]\u001b[0m Trial 293 finished with value: 0.7857595855236812 and parameters: {'C': 201.2258846480459, 'max_iter': 4532}. Best is trial 231 with value: 0.8053030822030317.\u001b[0m\n",
            "\u001b[32m[I 2023-01-22 13:00:25,320]\u001b[0m Trial 294 finished with value: 0.7871721458628511 and parameters: {'C': 56.40703040713794, 'max_iter': 974}. Best is trial 231 with value: 0.8053030822030317.\u001b[0m\n",
            "\u001b[32m[I 2023-01-22 13:01:15,606]\u001b[0m Trial 295 finished with value: 0.7880627568650316 and parameters: {'C': 32.52457626516623, 'max_iter': 1591}. Best is trial 231 with value: 0.8053030822030317.\u001b[0m\n",
            "\u001b[32m[I 2023-01-22 13:02:37,577]\u001b[0m Trial 296 finished with value: 0.7857554734154705 and parameters: {'C': 183.06246623107026, 'max_iter': 1292}. Best is trial 231 with value: 0.8053030822030317.\u001b[0m\n",
            "\u001b[32m[I 2023-01-22 13:03:29,947]\u001b[0m Trial 297 finished with value: 0.7890472183640519 and parameters: {'C': 19.01209662807177, 'max_iter': 1485}. Best is trial 231 with value: 0.8053030822030317.\u001b[0m\n",
            "\u001b[32m[I 2023-01-22 13:03:48,224]\u001b[0m Trial 298 finished with value: 0.8011451965523182 and parameters: {'C': 0.585720332669768, 'max_iter': 1679}. Best is trial 231 with value: 0.8053030822030317.\u001b[0m\n",
            "\u001b[32m[I 2023-01-22 13:05:05,379]\u001b[0m Trial 299 finished with value: 0.7862646654484235 and parameters: {'C': 108.0955848198768, 'max_iter': 1751}. Best is trial 231 with value: 0.8053030822030317.\u001b[0m\n",
            "\u001b[32m[I 2023-01-22 13:06:16,458]\u001b[0m Trial 300 finished with value: 0.7876051429495456 and parameters: {'C': 42.6684866244011, 'max_iter': 1615}. Best is trial 231 with value: 0.8053030822030317.\u001b[0m\n",
            "\u001b[32m[I 2023-01-22 13:07:29,942]\u001b[0m Trial 301 finished with value: 0.7856412879853234 and parameters: {'C': 603.0908725996002, 'max_iter': 1933}. Best is trial 231 with value: 0.8053030822030317.\u001b[0m\n",
            "\u001b[32m[I 2023-01-22 13:08:16,211]\u001b[0m Trial 302 finished with value: 0.7890246343308356 and parameters: {'C': 19.282807369049017, 'max_iter': 1168}. Best is trial 231 with value: 0.8053030822030317.\u001b[0m\n",
            "\u001b[32m[I 2023-01-22 13:08:31,307]\u001b[0m Trial 303 finished with value: 0.8044627003235436 and parameters: {'C': 0.2259761723824259, 'max_iter': 1394}. Best is trial 231 with value: 0.8053030822030317.\u001b[0m\n",
            "\u001b[32m[I 2023-01-22 13:09:25,039]\u001b[0m Trial 304 finished with value: 0.7870511247505596 and parameters: {'C': 82.92613521111224, 'max_iter': 857}. Best is trial 231 with value: 0.8053030822030317.\u001b[0m\n",
            "\u001b[32m[I 2023-01-22 13:10:33,044]\u001b[0m Trial 305 finished with value: 0.7879514182790304 and parameters: {'C': 34.446561295847154, 'max_iter': 1362}. Best is trial 231 with value: 0.8053030822030317.\u001b[0m\n",
            "\u001b[32m[I 2023-01-22 13:11:23,480]\u001b[0m Trial 306 finished with value: 0.7892300908867785 and parameters: {'C': 17.262552961977743, 'max_iter': 1069}. Best is trial 231 with value: 0.8053030822030317.\u001b[0m\n",
            "\u001b[32m[I 2023-01-22 13:12:48,987]\u001b[0m Trial 307 finished with value: 0.784902717997701 and parameters: {'C': 551.216399392863, 'max_iter': 1409}. Best is trial 231 with value: 0.8053030822030317.\u001b[0m\n",
            "\u001b[32m[I 2023-01-22 13:13:54,172]\u001b[0m Trial 308 finished with value: 0.7855137940239647 and parameters: {'C': 393.6599489993483, 'max_iter': 1202}. Best is trial 231 with value: 0.8053030822030317.\u001b[0m\n",
            "\u001b[32m[I 2023-01-22 13:14:51,031]\u001b[0m Trial 309 finished with value: 0.7872570278702902 and parameters: {'C': 53.71359819011546, 'max_iter': 1945}. Best is trial 231 with value: 0.8053030822030317.\u001b[0m\n",
            "\u001b[32m[I 2023-01-22 13:15:32,542]\u001b[0m Trial 310 finished with value: 0.7892399594813139 and parameters: {'C': 17.146077885692858, 'max_iter': 2149}. Best is trial 231 with value: 0.8053030822030317.\u001b[0m\n",
            "\u001b[32m[I 2023-01-22 13:16:26,998]\u001b[0m Trial 311 finished with value: 0.7878823683533734 and parameters: {'C': 36.01184855504321, 'max_iter': 1482}. Best is trial 231 with value: 0.8053030822030317.\u001b[0m\n",
            "\u001b[32m[I 2023-01-22 13:17:37,951]\u001b[0m Trial 312 finished with value: 0.7853360639623548 and parameters: {'C': 284.5496343133468, 'max_iter': 1758}. Best is trial 231 with value: 0.8053030822030317.\u001b[0m\n",
            "\u001b[32m[I 2023-01-22 13:18:00,769]\u001b[0m Trial 313 finished with value: 0.7984443741132322 and parameters: {'C': 1.0684450013441653, 'max_iter': 609}. Best is trial 231 with value: 0.8053030822030317.\u001b[0m\n",
            "\u001b[32m[I 2023-01-22 13:18:56,901]\u001b[0m Trial 314 finished with value: 0.7862788717589164 and parameters: {'C': 161.3553937343728, 'max_iter': 1333}. Best is trial 231 with value: 0.8053030822030317.\u001b[0m\n",
            "\u001b[32m[I 2023-01-22 13:20:01,598]\u001b[0m Trial 315 finished with value: 0.786842416652038 and parameters: {'C': 70.64869470017047, 'max_iter': 1594}. Best is trial 231 with value: 0.8053030822030317.\u001b[0m\n",
            "\u001b[32m[I 2023-01-22 13:20:50,449]\u001b[0m Trial 316 finished with value: 0.7890753262982867 and parameters: {'C': 18.646516363954003, 'max_iter': 1004}. Best is trial 231 with value: 0.8053030822030317.\u001b[0m\n",
            "\u001b[32m[I 2023-01-22 13:22:02,833]\u001b[0m Trial 317 finished with value: 0.7852994434059188 and parameters: {'C': 298.32582360835187, 'max_iter': 1798}. Best is trial 231 with value: 0.8053030822030317.\u001b[0m\n",
            "\u001b[32m[I 2023-01-22 13:22:56,081]\u001b[0m Trial 318 finished with value: 0.7862024953961192 and parameters: {'C': 191.4470788859347, 'max_iter': 2040}. Best is trial 231 with value: 0.8053030822030317.\u001b[0m\n",
            "\u001b[32m[I 2023-01-22 13:24:00,704]\u001b[0m Trial 319 finished with value: 0.787700233126067 and parameters: {'C': 40.291833627880294, 'max_iter': 1469}. Best is trial 231 with value: 0.8053030822030317.\u001b[0m\n",
            "\u001b[32m[I 2023-01-22 13:24:45,040]\u001b[0m Trial 320 finished with value: 0.789099133730213 and parameters: {'C': 18.5870585471974, 'max_iter': 1289}. Best is trial 231 with value: 0.8053030822030317.\u001b[0m\n",
            "\u001b[32m[I 2023-01-22 13:24:57,472]\u001b[0m Trial 321 finished with value: 0.8031559104781484 and parameters: {'C': 0.352360199391912, 'max_iter': 1898}. Best is trial 231 with value: 0.8053030822030317.\u001b[0m\n",
            "\u001b[32m[I 2023-01-22 13:25:43,711]\u001b[0m Trial 322 finished with value: 0.7875425914573393 and parameters: {'C': 54.366752253798175, 'max_iter': 1872}. Best is trial 231 with value: 0.8053030822030317.\u001b[0m\n",
            "\u001b[32m[I 2023-01-22 13:26:35,276]\u001b[0m Trial 323 finished with value: 0.7881220451853941 and parameters: {'C': 31.627765943365688, 'max_iter': 1641}. Best is trial 231 with value: 0.8053030822030317.\u001b[0m\n",
            "\u001b[32m[I 2023-01-22 13:27:19,074]\u001b[0m Trial 324 finished with value: 0.7892236575772134 and parameters: {'C': 17.206857339776786, 'max_iter': 2163}. Best is trial 231 with value: 0.8053030822030317.\u001b[0m\n",
            "\u001b[32m[I 2023-01-22 13:28:22,462]\u001b[0m Trial 325 finished with value: 0.785419148085378 and parameters: {'C': 454.9003119439603, 'max_iter': 1129}. Best is trial 231 with value: 0.8053030822030317.\u001b[0m\n",
            "\u001b[32m[I 2023-01-22 13:29:16,965]\u001b[0m Trial 326 finished with value: 0.7861822721037591 and parameters: {'C': 311.93027340438266, 'max_iter': 1854}. Best is trial 231 with value: 0.8053030822030317.\u001b[0m\n",
            "\u001b[32m[I 2023-01-22 13:29:35,421]\u001b[0m Trial 327 finished with value: 0.8003086360494084 and parameters: {'C': 0.7080624367378978, 'max_iter': 1587}. Best is trial 231 with value: 0.8053030822030317.\u001b[0m\n",
            "\u001b[32m[I 2023-01-22 13:30:29,279]\u001b[0m Trial 328 finished with value: 0.78790611531312 and parameters: {'C': 35.50243459254951, 'max_iter': 1380}. Best is trial 231 with value: 0.8053030822030317.\u001b[0m\n",
            "\u001b[32m[I 2023-01-22 13:31:10,096]\u001b[0m Trial 329 finished with value: 0.7873161254707017 and parameters: {'C': 61.637164949210266, 'max_iter': 770}. Best is trial 231 with value: 0.8053030822030317.\u001b[0m\n",
            "\u001b[32m[I 2023-01-22 13:32:07,616]\u001b[0m Trial 330 finished with value: 0.78588585608633 and parameters: {'C': 249.2928220536577, 'max_iter': 1923}. Best is trial 231 with value: 0.8053030822030317.\u001b[0m\n",
            "\u001b[32m[I 2023-01-22 13:32:11,170]\u001b[0m Trial 331 finished with value: 0.7943454279049221 and parameters: {'C': 0.007949055785809664, 'max_iter': 1658}. Best is trial 231 with value: 0.8053030822030317.\u001b[0m\n",
            "\u001b[32m[I 2023-01-22 13:32:49,941]\u001b[0m Trial 332 finished with value: 0.7889816107009243 and parameters: {'C': 19.665975593145312, 'max_iter': 2220}. Best is trial 231 with value: 0.8053030822030317.\u001b[0m\n",
            "\u001b[32m[I 2023-01-22 13:33:01,966]\u001b[0m Trial 333 finished with value: 0.8041734456076876 and parameters: {'C': 0.2536351572463341, 'max_iter': 1466}. Best is trial 231 with value: 0.8053030822030317.\u001b[0m\n",
            "\u001b[32m[I 2023-01-22 13:33:51,495]\u001b[0m Trial 334 finished with value: 0.7879821218652806 and parameters: {'C': 33.92080833291801, 'max_iter': 1187}. Best is trial 231 with value: 0.8053030822030317.\u001b[0m\n",
            "\u001b[32m[I 2023-01-22 13:34:02,959]\u001b[0m Trial 335 finished with value: 0.8050600840528408 and parameters: {'C': 0.16326646569844766, 'max_iter': 1460}. Best is trial 231 with value: 0.8053030822030317.\u001b[0m\n",
            "\u001b[32m[I 2023-01-22 13:35:35,383]\u001b[0m Trial 336 finished with value: 0.7848617318150708 and parameters: {'C': 424.02372230987146, 'max_iter': 1506}. Best is trial 231 with value: 0.8053030822030317.\u001b[0m\n",
            "\u001b[32m[I 2023-01-22 13:36:23,696]\u001b[0m Trial 337 finished with value: 0.7873531995684845 and parameters: {'C': 50.37723143388631, 'max_iter': 964}. Best is trial 231 with value: 0.8053030822030317.\u001b[0m\n",
            "\u001b[32m[I 2023-01-22 13:37:26,344]\u001b[0m Trial 338 finished with value: 0.7867374322965979 and parameters: {'C': 75.92730907116453, 'max_iter': 1703}. Best is trial 231 with value: 0.8053030822030317.\u001b[0m\n",
            "\u001b[32m[I 2023-01-22 13:38:25,864]\u001b[0m Trial 339 finished with value: 0.785724455839057 and parameters: {'C': 331.42887414846876, 'max_iter': 1481}. Best is trial 231 with value: 0.8053030822030317.\u001b[0m\n",
            "\u001b[32m[I 2023-01-22 13:39:36,265]\u001b[0m Trial 340 finished with value: 0.7862721965606332 and parameters: {'C': 107.84832650484677, 'max_iter': 1191}. Best is trial 231 with value: 0.8053030822030317.\u001b[0m\n",
            "\u001b[32m[I 2023-01-22 13:40:29,061]\u001b[0m Trial 341 finished with value: 0.7862564458837081 and parameters: {'C': 236.70533392879804, 'max_iter': 1781}. Best is trial 231 with value: 0.8053030822030317.\u001b[0m\n",
            "\u001b[32m[I 2023-01-22 13:41:06,350]\u001b[0m Trial 342 finished with value: 0.7890173590624626 and parameters: {'C': 19.451200333225575, 'max_iter': 1320}. Best is trial 231 with value: 0.8053030822030317.\u001b[0m\n",
            "\u001b[32m[I 2023-01-22 13:41:52,889]\u001b[0m Trial 343 finished with value: 0.7887532979869568 and parameters: {'C': 22.254526318210765, 'max_iter': 1573}. Best is trial 231 with value: 0.8053030822030317.\u001b[0m\n",
            "\u001b[32m[I 2023-01-22 13:42:37,469]\u001b[0m Trial 344 finished with value: 0.7867030934020142 and parameters: {'C': 122.81060030933828, 'max_iter': 1975}. Best is trial 231 with value: 0.8053030822030317.\u001b[0m\n",
            "\u001b[32m[I 2023-01-22 13:43:37,380]\u001b[0m Trial 345 finished with value: 0.7857559990582621 and parameters: {'C': 268.989755871109, 'max_iter': 1434}. Best is trial 231 with value: 0.8053030822030317.\u001b[0m\n",
            "\u001b[32m[I 2023-01-22 13:44:27,088]\u001b[0m Trial 346 finished with value: 0.7877185864325665 and parameters: {'C': 39.86376945294121, 'max_iter': 1077}. Best is trial 231 with value: 0.8053030822030317.\u001b[0m\n",
            "\u001b[32m[I 2023-01-22 13:45:10,520]\u001b[0m Trial 347 finished with value: 0.7890853158371812 and parameters: {'C': 18.459092863695727, 'max_iter': 1692}. Best is trial 231 with value: 0.8053030822030317.\u001b[0m\n",
            "\u001b[32m[I 2023-01-22 13:46:02,766]\u001b[0m Trial 348 finished with value: 0.7872461731140574 and parameters: {'C': 54.43044210075191, 'max_iter': 891}. Best is trial 231 with value: 0.8053030822030317.\u001b[0m\n",
            "\u001b[32m[I 2023-01-22 13:46:40,571]\u001b[0m Trial 349 finished with value: 0.7893044251505887 and parameters: {'C': 16.73349054756848, 'max_iter': 1872}. Best is trial 231 with value: 0.8053030822030317.\u001b[0m\n",
            "\u001b[32m[I 2023-01-22 13:47:37,267]\u001b[0m Trial 350 finished with value: 0.7856148314067615 and parameters: {'C': 653.4345272750751, 'max_iter': 1290}. Best is trial 231 with value: 0.8053030822030317.\u001b[0m\n",
            "\u001b[32m[I 2023-01-22 13:48:38,231]\u001b[0m Trial 351 finished with value: 0.7853118843939388 and parameters: {'C': 380.620385106977, 'max_iter': 1584}. Best is trial 231 with value: 0.8053030822030317.\u001b[0m\n",
            "\u001b[32m[I 2023-01-22 13:48:52,886]\u001b[0m Trial 352 finished with value: 0.80182074057371 and parameters: {'C': 0.4991642494840923, 'max_iter': 2058}. Best is trial 231 with value: 0.8053030822030317.\u001b[0m\n",
            "\u001b[32m[I 2023-01-22 13:49:39,834]\u001b[0m Trial 353 finished with value: 0.7879214357072287 and parameters: {'C': 35.16756781953534, 'max_iter': 5265}. Best is trial 231 with value: 0.8053030822030317.\u001b[0m\n",
            "\u001b[32m[I 2023-01-22 13:50:45,589]\u001b[0m Trial 354 finished with value: 0.7850994572563736 and parameters: {'C': 364.26396580104444, 'max_iter': 1765}. Best is trial 231 with value: 0.8053030822030317.\u001b[0m\n",
            "\u001b[32m[I 2023-01-22 13:50:58,433]\u001b[0m Trial 355 finished with value: 0.8029102143384073 and parameters: {'C': 0.3769884327641588, 'max_iter': 1462}. Best is trial 231 with value: 0.8053030822030317.\u001b[0m\n",
            "\u001b[32m[I 2023-01-22 13:51:31,600]\u001b[0m Trial 356 finished with value: 0.7889179753611918 and parameters: {'C': 20.250953720057744, 'max_iter': 1182}. Best is trial 231 with value: 0.8053030822030317.\u001b[0m\n",
            "\u001b[32m[I 2023-01-22 13:52:27,913]\u001b[0m Trial 357 finished with value: 0.7856774689555309 and parameters: {'C': 218.4761481122696, 'max_iter': 1418}. Best is trial 231 with value: 0.8053030822030317.\u001b[0m\n",
            "\u001b[32m[I 2023-01-22 13:53:44,769]\u001b[0m Trial 358 finished with value: 0.78468971637443 and parameters: {'C': 706.4886048837488, 'max_iter': 1031}. Best is trial 231 with value: 0.8053030822030317.\u001b[0m\n",
            "\u001b[32m[I 2023-01-22 13:54:50,656]\u001b[0m Trial 359 finished with value: 0.78583489897163 and parameters: {'C': 154.59555593201824, 'max_iter': 1504}. Best is trial 231 with value: 0.8053030822030317.\u001b[0m\n",
            "\u001b[32m[I 2023-01-22 13:55:35,410]\u001b[0m Trial 360 finished with value: 0.7866810815286507 and parameters: {'C': 83.40967172937113, 'max_iter': 1281}. Best is trial 231 with value: 0.8053030822030317.\u001b[0m\n",
            "\u001b[32m[I 2023-01-22 13:56:30,111]\u001b[0m Trial 361 finished with value: 0.7857885610011076 and parameters: {'C': 181.74822655043553, 'max_iter': 1626}. Best is trial 231 with value: 0.8053030822030317.\u001b[0m\n",
            "\u001b[32m[I 2023-01-22 13:57:14,745]\u001b[0m Trial 362 finished with value: 0.7876561930983683 and parameters: {'C': 41.49698871939593, 'max_iter': 696}. Best is trial 231 with value: 0.8053030822030317.\u001b[0m\n",
            "\u001b[32m[I 2023-01-22 13:57:32,345]\u001b[0m Trial 363 finished with value: 0.7988437835558816 and parameters: {'C': 0.978067008207597, 'max_iter': 1381}. Best is trial 231 with value: 0.8053030822030317.\u001b[0m\n",
            "\u001b[32m[I 2023-01-22 13:57:45,034]\u001b[0m Trial 364 finished with value: 0.802788204738565 and parameters: {'C': 0.38977786075094534, 'max_iter': 1763}. Best is trial 231 with value: 0.8053030822030317.\u001b[0m\n",
            "\u001b[32m[I 2023-01-22 13:58:30,260]\u001b[0m Trial 365 finished with value: 0.7881258130673519 and parameters: {'C': 31.20697803989653, 'max_iter': 1797}. Best is trial 231 with value: 0.8053030822030317.\u001b[0m\n",
            "\u001b[32m[I 2023-01-22 13:59:31,306]\u001b[0m Trial 366 finished with value: 0.7871319272117308 and parameters: {'C': 57.882992311438436, 'max_iter': 1671}. Best is trial 231 with value: 0.8053030822030317.\u001b[0m\n",
            "\u001b[32m[I 2023-01-22 14:00:08,541]\u001b[0m Trial 367 finished with value: 0.7893213085179542 and parameters: {'C': 16.43194527178248, 'max_iter': 1934}. Best is trial 231 with value: 0.8053030822030317.\u001b[0m\n",
            "\u001b[32m[I 2023-01-22 14:00:28,776]\u001b[0m Trial 368 finished with value: 0.7978430969059118 and parameters: {'C': 1.2221201431268516, 'max_iter': 1556}. Best is trial 231 with value: 0.8053030822030317.\u001b[0m\n",
            "\u001b[32m[I 2023-01-22 14:01:13,574]\u001b[0m Trial 369 finished with value: 0.7880346931220048 and parameters: {'C': 32.988093660782795, 'max_iter': 1824}. Best is trial 231 with value: 0.8053030822030317.\u001b[0m\n",
            "\u001b[32m[I 2023-01-22 14:01:48,546]\u001b[0m Trial 370 finished with value: 0.7890969241698056 and parameters: {'C': 18.519544369549006, 'max_iter': 1514}. Best is trial 231 with value: 0.8053030822030317.\u001b[0m\n",
            "\u001b[32m[I 2023-01-22 14:02:40,818]\u001b[0m Trial 371 finished with value: 0.7859042535840378 and parameters: {'C': 198.84856482715475, 'max_iter': 2000}. Best is trial 231 with value: 0.8053030822030317.\u001b[0m\n",
            "\u001b[32m[I 2023-01-22 14:03:31,202]\u001b[0m Trial 372 finished with value: 0.7872155532585172 and parameters: {'C': 54.94555135612518, 'max_iter': 1698}. Best is trial 231 with value: 0.8053030822030317.\u001b[0m\n",
            "\u001b[32m[I 2023-01-22 14:04:24,485]\u001b[0m Trial 373 finished with value: 0.7858991157746275 and parameters: {'C': 162.7587866503547, 'max_iter': 1387}. Best is trial 231 with value: 0.8053030822030317.\u001b[0m\n",
            "\u001b[32m[I 2023-01-22 14:05:26,184]\u001b[0m Trial 374 finished with value: 0.7852617971482833 and parameters: {'C': 306.6970010980526, 'max_iter': 1828}. Best is trial 231 with value: 0.8053030822030317.\u001b[0m\n",
            "\u001b[32m[I 2023-01-22 14:06:07,638]\u001b[0m Trial 375 finished with value: 0.7889545400971544 and parameters: {'C': 19.769247360631617, 'max_iter': 1195}. Best is trial 231 with value: 0.8053030822030317.\u001b[0m\n",
            "\u001b[32m[I 2023-01-22 14:06:21,599]\u001b[0m Trial 376 finished with value: 0.8007316482489146 and parameters: {'C': 0.6439405183654792, 'max_iter': 3400}. Best is trial 231 with value: 0.8053030822030317.\u001b[0m\n",
            "\u001b[32m[I 2023-01-22 14:07:18,861]\u001b[0m Trial 377 finished with value: 0.7867704291739657 and parameters: {'C': 74.44478881677485, 'max_iter': 1512}. Best is trial 231 with value: 0.8053030822030317.\u001b[0m\n",
            "\u001b[32m[I 2023-01-22 14:08:10,192]\u001b[0m Trial 378 finished with value: 0.7856923055722033 and parameters: {'C': 426.75415142438027, 'max_iter': 2039}. Best is trial 231 with value: 0.8053030822030317.\u001b[0m\n",
            "\u001b[32m[I 2023-01-22 14:08:58,011]\u001b[0m Trial 379 finished with value: 0.7876759302874389 and parameters: {'C': 40.514886905029904, 'max_iter': 1700}. Best is trial 231 with value: 0.8053030822030317.\u001b[0m\n",
            "\u001b[32m[I 2023-01-22 14:09:09,969]\u001b[0m Trial 380 finished with value: 0.8019934165566198 and parameters: {'C': 0.47830543747951776, 'max_iter': 972}. Best is trial 231 with value: 0.8053030822030317.\u001b[0m\n",
            "\u001b[32m[I 2023-01-22 14:09:42,916]\u001b[0m Trial 381 finished with value: 0.7890213223160776 and parameters: {'C': 19.426631242297823, 'max_iter': 1350}. Best is trial 231 with value: 0.8053030822030317.\u001b[0m\n",
            "\u001b[32m[I 2023-01-22 14:10:22,280]\u001b[0m Trial 382 finished with value: 0.7879486505138884 and parameters: {'C': 34.98610736509595, 'max_iter': 1504}. Best is trial 231 with value: 0.8053030822030317.\u001b[0m\n",
            "\u001b[32m[I 2023-01-22 14:10:35,868]\u001b[0m Trial 383 finished with value: 0.8011769351431803 and parameters: {'C': 0.5813364052126555, 'max_iter': 4960}. Best is trial 231 with value: 0.8053030822030317.\u001b[0m\n",
            "\u001b[32m[I 2023-01-22 14:11:23,005]\u001b[0m Trial 384 finished with value: 0.7871706991822475 and parameters: {'C': 56.6371051479145, 'max_iter': 1861}. Best is trial 231 with value: 0.8053030822030317.\u001b[0m\n",
            "\u001b[32m[I 2023-01-22 14:12:25,840]\u001b[0m Trial 385 finished with value: 0.7853372036303543 and parameters: {'C': 276.8205498282199, 'max_iter': 1183}. Best is trial 231 with value: 0.8053030822030317.\u001b[0m\n",
            "\u001b[32m[I 2023-01-22 14:13:11,283]\u001b[0m Trial 386 finished with value: 0.7864913872788979 and parameters: {'C': 126.91108348490798, 'max_iter': 1664}. Best is trial 231 with value: 0.8053030822030317.\u001b[0m\n",
            "\u001b[32m[I 2023-01-22 14:14:22,093]\u001b[0m Trial 387 finished with value: 0.7848345239859702 and parameters: {'C': 544.5299865923577, 'max_iter': 8964}. Best is trial 231 with value: 0.8053030822030317.\u001b[0m\n",
            "\u001b[32m[I 2023-01-22 14:15:09,016]\u001b[0m Trial 388 finished with value: 0.7865873147625209 and parameters: {'C': 89.53984759309921, 'max_iter': 1968}. Best is trial 231 with value: 0.8053030822030317.\u001b[0m\n",
            "\u001b[32m[I 2023-01-22 14:15:44,319]\u001b[0m Trial 389 finished with value: 0.7889282416766005 and parameters: {'C': 20.15100780564328, 'max_iter': 1374}. Best is trial 231 with value: 0.8053030822030317.\u001b[0m\n",
            "\u001b[32m[I 2023-01-22 14:16:37,602]\u001b[0m Trial 390 finished with value: 0.7855591225742589 and parameters: {'C': 384.63466965044285, 'max_iter': 468}. Best is trial 231 with value: 0.8053030822030317.\u001b[0m\n",
            "\u001b[32m[I 2023-01-22 14:17:20,528]\u001b[0m Trial 391 finished with value: 0.7877620356935877 and parameters: {'C': 38.822896544660956, 'max_iter': 1649}. Best is trial 231 with value: 0.8053030822030317.\u001b[0m\n",
            "\u001b[32m[I 2023-01-22 14:17:51,469]\u001b[0m Trial 392 finished with value: 0.7890853716576547 and parameters: {'C': 18.623659086102755, 'max_iter': 2253}. Best is trial 231 with value: 0.8053030822030317.\u001b[0m\n",
            "\u001b[32m[I 2023-01-22 14:18:42,596]\u001b[0m Trial 393 finished with value: 0.7856798994719789 and parameters: {'C': 459.0427359011464, 'max_iter': 1032}. Best is trial 231 with value: 0.8053030822030317.\u001b[0m\n",
            "\u001b[32m[I 2023-01-22 14:19:40,327]\u001b[0m Trial 394 finished with value: 0.7863333176532072 and parameters: {'C': 102.97744651662038, 'max_iter': 1288}. Best is trial 231 with value: 0.8053030822030317.\u001b[0m\n",
            "\u001b[32m[I 2023-01-22 14:20:15,702]\u001b[0m Trial 395 finished with value: 0.7890663438537677 and parameters: {'C': 18.693346680185208, 'max_iter': 2094}. Best is trial 231 with value: 0.8053030822030317.\u001b[0m\n",
            "\u001b[32m[I 2023-01-22 14:21:03,568]\u001b[0m Trial 396 finished with value: 0.7874942299946546 and parameters: {'C': 45.82732257865044, 'max_iter': 1528}. Best is trial 231 with value: 0.8053030822030317.\u001b[0m\n",
            "\u001b[32m[I 2023-01-22 14:21:13,120]\u001b[0m Trial 397 finished with value: 0.8047875126809869 and parameters: {'C': 0.19358534611844389, 'max_iter': 1779}. Best is trial 231 with value: 0.8053030822030317.\u001b[0m\n",
            "\u001b[32m[I 2023-01-22 14:22:04,889]\u001b[0m Trial 398 finished with value: 0.7855583248066591 and parameters: {'C': 497.15904445710345, 'max_iter': 1850}. Best is trial 231 with value: 0.8053030822030317.\u001b[0m\n",
            "\u001b[32m[I 2023-01-22 14:22:59,999]\u001b[0m Trial 399 finished with value: 0.7854427741007656 and parameters: {'C': 566.0483047358532, 'max_iter': 1772}. Best is trial 231 with value: 0.8053030822030317.\u001b[0m\n",
            "\u001b[32m[I 2023-01-22 14:23:16,390]\u001b[0m Trial 400 finished with value: 0.800273080733674 and parameters: {'C': 0.7136149260693917, 'max_iter': 2067}. Best is trial 231 with value: 0.8053030822030317.\u001b[0m\n",
            "\u001b[32m[I 2023-01-22 14:24:19,267]\u001b[0m Trial 401 finished with value: 0.7851177384614285 and parameters: {'C': 508.8790407206976, 'max_iter': 1889}. Best is trial 231 with value: 0.8053030822030317.\u001b[0m\n",
            "\u001b[32m[I 2023-01-22 14:25:41,226]\u001b[0m Trial 402 finished with value: 0.7844788731427991 and parameters: {'C': 830.0730482797301, 'max_iter': 1635}. Best is trial 231 with value: 0.8053030822030317.\u001b[0m\n",
            "\u001b[32m[I 2023-01-22 14:26:47,717]\u001b[0m Trial 403 finished with value: 0.7850220714733482 and parameters: {'C': 411.35890105370663, 'max_iter': 2219}. Best is trial 231 with value: 0.8053030822030317.\u001b[0m\n",
            "\u001b[32m[I 2023-01-22 14:27:30,523]\u001b[0m Trial 404 finished with value: 0.7880001635074702 and parameters: {'C': 33.56703123902596, 'max_iter': 5637}. Best is trial 231 with value: 0.8053030822030317.\u001b[0m\n",
            "\u001b[32m[I 2023-01-22 14:28:19,495]\u001b[0m Trial 405 finished with value: 0.7869136482278657 and parameters: {'C': 68.2807021949123, 'max_iter': 1489}. Best is trial 231 with value: 0.8053030822030317.\u001b[0m\n",
            "\u001b[32m[I 2023-01-22 14:28:59,145]\u001b[0m Trial 406 finished with value: 0.7887800615781227 and parameters: {'C': 21.7979154557607, 'max_iter': 1700}. Best is trial 231 with value: 0.8053030822030317.\u001b[0m\n",
            "\u001b[32m[I 2023-01-22 14:29:34,281]\u001b[0m Trial 407 finished with value: 0.7890569939244647 and parameters: {'C': 18.926204916174335, 'max_iter': 1984}. Best is trial 231 with value: 0.8053030822030317.\u001b[0m\n",
            "\u001b[32m[I 2023-01-22 14:30:32,175]\u001b[0m Trial 408 finished with value: 0.7855662047968278 and parameters: {'C': 244.30133769675555, 'max_iter': 1802}. Best is trial 231 with value: 0.8053030822030317.\u001b[0m\n",
            "\u001b[32m[I 2023-01-22 14:31:22,040]\u001b[0m Trial 409 finished with value: 0.787318295491607 and parameters: {'C': 51.45859429148422, 'max_iter': 8207}. Best is trial 231 with value: 0.8053030822030317.\u001b[0m\n",
            "\u001b[32m[I 2023-01-22 14:32:25,432]\u001b[0m Trial 410 finished with value: 0.7850352776670252 and parameters: {'C': 432.2234296224922, 'max_iter': 1500}. Best is trial 231 with value: 0.8053030822030317.\u001b[0m\n",
            "\u001b[32m[I 2023-01-22 14:32:36,140]\u001b[0m Trial 411 finished with value: 0.8036718498108296 and parameters: {'C': 0.3008591276980588, 'max_iter': 1372}. Best is trial 231 with value: 0.8053030822030317.\u001b[0m\n",
            "\u001b[32m[I 2023-01-22 14:33:16,234]\u001b[0m Trial 412 finished with value: 0.788085924687366 and parameters: {'C': 32.1769051661642, 'max_iter': 1640}. Best is trial 231 with value: 0.8053030822030317.\u001b[0m\n",
            "\u001b[32m[I 2023-01-22 14:34:15,248]\u001b[0m Trial 413 finished with value: 0.785310235364119 and parameters: {'C': 577.0608526271415, 'max_iter': 2130}. Best is trial 231 with value: 0.8053030822030317.\u001b[0m\n",
            "\u001b[32m[I 2023-01-22 14:34:34,818]\u001b[0m Trial 414 finished with value: 0.800258709287614 and parameters: {'C': 0.7157317320070531, 'max_iter': 1419}. Best is trial 231 with value: 0.8053030822030317.\u001b[0m\n",
            "\u001b[32m[I 2023-01-22 14:35:40,686]\u001b[0m Trial 415 finished with value: 0.7850821482578982 and parameters: {'C': 538.8571843968704, 'max_iter': 1812}. Best is trial 231 with value: 0.8053030822030317.\u001b[0m\n",
            "\u001b[32m[I 2023-01-22 14:36:41,133]\u001b[0m Trial 416 finished with value: 0.7853908424536331 and parameters: {'C': 384.97193207028954, 'max_iter': 1929}. Best is trial 231 with value: 0.8053030822030317.\u001b[0m\n",
            "\u001b[32m[I 2023-01-22 14:37:33,655]\u001b[0m Trial 417 finished with value: 0.7859949106846259 and parameters: {'C': 147.55817600886468, 'max_iter': 1309}. Best is trial 231 with value: 0.8053030822030317.\u001b[0m\n",
            "\u001b[32m[I 2023-01-22 14:38:50,521]\u001b[0m Trial 418 finished with value: 0.7848110910163868 and parameters: {'C': 488.8843623913862, 'max_iter': 6069}. Best is trial 231 with value: 0.8053030822030317.\u001b[0m\n",
            "\u001b[32m[I 2023-01-22 14:39:40,868]\u001b[0m Trial 419 finished with value: 0.7856136056821985 and parameters: {'C': 740.3915420738333, 'max_iter': 2306}. Best is trial 231 with value: 0.8053030822030317.\u001b[0m\n",
            "\u001b[32m[I 2023-01-22 14:39:55,045]\u001b[0m Trial 420 finished with value: 0.7991683098333986 and parameters: {'C': 0.9111992678023757, 'max_iter': 1557}. Best is trial 231 with value: 0.8053030822030317.\u001b[0m\n",
            "\u001b[32m[I 2023-01-22 14:40:56,566]\u001b[0m Trial 421 finished with value: 0.7853047021596883 and parameters: {'C': 297.49976850609784, 'max_iter': 1692}. Best is trial 231 with value: 0.8053030822030317.\u001b[0m\n",
            "\u001b[32m[I 2023-01-22 14:41:27,809]\u001b[0m Trial 422 finished with value: 0.7889796407033822 and parameters: {'C': 19.739550964654168, 'max_iter': 2028}. Best is trial 231 with value: 0.8053030822030317.\u001b[0m\n",
            "\u001b[32m[I 2023-01-22 14:42:01,465]\u001b[0m Trial 423 finished with value: 0.7877804820342097 and parameters: {'C': 44.650805968152056, 'max_iter': 1125}. Best is trial 231 with value: 0.8053030822030317.\u001b[0m\n",
            "\u001b[32m[I 2023-01-22 14:42:13,197]\u001b[0m Trial 424 finished with value: 0.8024137168114578 and parameters: {'C': 0.4298496866013819, 'max_iter': 1809}. Best is trial 231 with value: 0.8053030822030317.\u001b[0m\n",
            "\u001b[32m[I 2023-01-22 14:43:27,002]\u001b[0m Trial 425 finished with value: 0.7848037738826588 and parameters: {'C': 510.0026600723389, 'max_iter': 870}. Best is trial 231 with value: 0.8053030822030317.\u001b[0m\n",
            "\u001b[32m[I 2023-01-22 14:44:19,356]\u001b[0m Trial 426 finished with value: 0.7856300843511315 and parameters: {'C': 534.8324228718237, 'max_iter': 1377}. Best is trial 231 with value: 0.8053030822030317.\u001b[0m\n",
            "\u001b[32m[I 2023-01-22 14:44:56,782]\u001b[0m Trial 427 finished with value: 0.7872513644180881 and parameters: {'C': 67.68675932863762, 'max_iter': 1589}. Best is trial 231 with value: 0.8053030822030317.\u001b[0m\n",
            "\u001b[32m[I 2023-01-22 14:45:42,751]\u001b[0m Trial 428 finished with value: 0.7880940442404 and parameters: {'C': 31.747647557344862, 'max_iter': 1191}. Best is trial 231 with value: 0.8053030822030317.\u001b[0m\n",
            "\u001b[32m[I 2023-01-22 14:46:17,165]\u001b[0m Trial 429 finished with value: 0.789147885936212 and parameters: {'C': 18.118893434050914, 'max_iter': 1457}. Best is trial 231 with value: 0.8053030822030317.\u001b[0m\n",
            "\u001b[32m[I 2023-01-22 14:46:27,490]\u001b[0m Trial 430 finished with value: 0.8032614762968535 and parameters: {'C': 0.3413422689229418, 'max_iter': 1916}. Best is trial 231 with value: 0.8053030822030317.\u001b[0m\n",
            "\u001b[32m[I 2023-01-22 14:47:22,169]\u001b[0m Trial 431 finished with value: 0.7855531800196895 and parameters: {'C': 448.4840584558742, 'max_iter': 2323}. Best is trial 231 with value: 0.8053030822030317.\u001b[0m\n",
            "\u001b[32m[I 2023-01-22 14:48:40,997]\u001b[0m Trial 432 finished with value: 0.784688639504463 and parameters: {'C': 601.9796435491245, 'max_iter': 2061}. Best is trial 231 with value: 0.8053030822030317.\u001b[0m\n",
            "\u001b[32m[I 2023-01-22 14:49:42,113]\u001b[0m Trial 433 finished with value: 0.7855454070187616 and parameters: {'C': 217.32159543249796, 'max_iter': 1907}. Best is trial 231 with value: 0.8053030822030317.\u001b[0m\n",
            "\u001b[32m[I 2023-01-22 14:50:32,543]\u001b[0m Trial 434 finished with value: 0.7874066965147266 and parameters: {'C': 48.33567379577916, 'max_iter': 2091}. Best is trial 231 with value: 0.8053030822030317.\u001b[0m\n",
            "\u001b[32m[I 2023-01-22 14:50:42,960]\u001b[0m Trial 435 finished with value: 0.8034960316004351 and parameters: {'C': 0.31797771825054977, 'max_iter': 1756}. Best is trial 231 with value: 0.8053030822030317.\u001b[0m\n",
            "\u001b[32m[I 2023-01-22 14:50:53,748]\u001b[0m Trial 436 finished with value: 0.8045043633294144 and parameters: {'C': 0.2219683407656338, 'max_iter': 1717}. Best is trial 231 with value: 0.8053030822030317.\u001b[0m\n",
            "\u001b[32m[I 2023-01-22 14:51:44,198]\u001b[0m Trial 437 finished with value: 0.7859095448997502 and parameters: {'C': 363.9939325717915, 'max_iter': 1700}. Best is trial 231 with value: 0.8053030822030317.\u001b[0m\n",
            "\u001b[32m[I 2023-01-22 14:52:44,454]\u001b[0m Trial 438 finished with value: 0.7856344150895299 and parameters: {'C': 197.20542340473543, 'max_iter': 1599}. Best is trial 231 with value: 0.8053030822030317.\u001b[0m\n",
            "\u001b[32m[I 2023-01-22 14:53:24,563]\u001b[0m Trial 439 finished with value: 0.7887681485587473 and parameters: {'C': 21.785898062853818, 'max_iter': 1924}. Best is trial 231 with value: 0.8053030822030317.\u001b[0m\n",
            "\u001b[32m[I 2023-01-22 14:54:18,649]\u001b[0m Trial 440 finished with value: 0.7878574607929497 and parameters: {'C': 36.50445618226946, 'max_iter': 1770}. Best is trial 231 with value: 0.8053030822030317.\u001b[0m\n",
            "\u001b[32m[I 2023-01-22 14:55:20,292]\u001b[0m Trial 441 finished with value: 0.7851835391703601 and parameters: {'C': 481.6950083423605, 'max_iter': 1444}. Best is trial 231 with value: 0.8053030822030317.\u001b[0m\n",
            "\u001b[32m[I 2023-01-22 14:56:09,263]\u001b[0m Trial 442 finished with value: 0.7864856028823367 and parameters: {'C': 95.11935414144114, 'max_iter': 1604}. Best is trial 231 with value: 0.8053030822030317.\u001b[0m\n",
            "\u001b[32m[I 2023-01-22 14:56:52,278]\u001b[0m Trial 443 finished with value: 0.7889454134497453 and parameters: {'C': 19.831339563992582, 'max_iter': 9748}. Best is trial 231 with value: 0.8053030822030317.\u001b[0m\n",
            "\u001b[32m[I 2023-01-22 14:57:50,700]\u001b[0m Trial 444 finished with value: 0.7859925569213287 and parameters: {'C': 136.10116081867582, 'max_iter': 1855}. Best is trial 231 with value: 0.8053030822030317.\u001b[0m\n",
            "\u001b[32m[I 2023-01-22 14:59:07,511]\u001b[0m Trial 445 finished with value: 0.7846532214140594 and parameters: {'C': 660.9557862296645, 'max_iter': 1436}. Best is trial 231 with value: 0.8053030822030317.\u001b[0m\n",
            "\u001b[32m[I 2023-01-22 14:59:55,753]\u001b[0m Trial 446 finished with value: 0.7871716318493247 and parameters: {'C': 56.53404827014464, 'max_iter': 2263}. Best is trial 231 with value: 0.8053030822030317.\u001b[0m\n",
            "\u001b[32m[I 2023-01-22 15:00:11,464]\u001b[0m Trial 447 finished with value: 0.8002200908233991 and parameters: {'C': 0.7219905342657948, 'max_iter': 1668}. Best is trial 231 with value: 0.8053030822030317.\u001b[0m\n",
            "\u001b[32m[I 2023-01-22 15:01:02,805]\u001b[0m Trial 448 finished with value: 0.7880002425864742 and parameters: {'C': 33.4613887384141, 'max_iter': 1981}. Best is trial 231 with value: 0.8053030822030317.\u001b[0m\n",
            "\u001b[32m[I 2023-01-22 15:01:38,012]\u001b[0m Trial 449 finished with value: 0.789219859459166 and parameters: {'C': 17.42969176966366, 'max_iter': 1311}. Best is trial 231 with value: 0.8053030822030317.\u001b[0m\n",
            "\u001b[32m[I 2023-01-22 15:02:21,775]\u001b[0m Trial 450 finished with value: 0.7869829377163878 and parameters: {'C': 64.64524416646074, 'max_iter': 1575}. Best is trial 231 with value: 0.8053030822030317.\u001b[0m\n",
            "\u001b[32m[I 2023-01-22 15:03:18,478]\u001b[0m Trial 451 finished with value: 0.7853826484733013 and parameters: {'C': 398.62822685546695, 'max_iter': 5831}. Best is trial 231 with value: 0.8053030822030317.\u001b[0m\n",
            "\u001b[32m[I 2023-01-22 15:03:52,724]\u001b[0m Trial 452 finished with value: 0.7891915073103597 and parameters: {'C': 17.66047501850731, 'max_iter': 5159}. Best is trial 231 with value: 0.8053030822030317.\u001b[0m\n",
            "\u001b[32m[I 2023-01-22 15:04:36,070]\u001b[0m Trial 453 finished with value: 0.7878699296912064 and parameters: {'C': 36.40124683554331, 'max_iter': 1780}. Best is trial 231 with value: 0.8053030822030317.\u001b[0m\n",
            "\u001b[32m[I 2023-01-22 15:04:45,275]\u001b[0m Trial 454 finished with value: 0.8042370576888892 and parameters: {'C': 0.24774357947480513, 'max_iter': 5388}. Best is trial 231 with value: 0.8053030822030317.\u001b[0m\n",
            "\u001b[32m[I 2023-01-22 15:05:16,681]\u001b[0m Trial 455 finished with value: 0.7889637528011266 and parameters: {'C': 19.835947817349606, 'max_iter': 5523}. Best is trial 231 with value: 0.8053030822030317.\u001b[0m\n",
            "\u001b[32m[I 2023-01-22 15:05:57,797]\u001b[0m Trial 456 finished with value: 0.7874640241409593 and parameters: {'C': 47.15866237213083, 'max_iter': 5700}. Best is trial 231 with value: 0.8053030822030317.\u001b[0m\n",
            "\u001b[32m[I 2023-01-22 15:07:01,407]\u001b[0m Trial 457 finished with value: 0.7851280908334003 and parameters: {'C': 350.5061300233058, 'max_iter': 5187}. Best is trial 231 with value: 0.8053030822030317.\u001b[0m\n",
            "\u001b[32m[I 2023-01-22 15:07:56,189]\u001b[0m Trial 458 finished with value: 0.7867243144853373 and parameters: {'C': 76.8772744752059, 'max_iter': 5049}. Best is trial 231 with value: 0.8053030822030317.\u001b[0m\n",
            "\u001b[32m[I 2023-01-22 15:08:29,963]\u001b[0m Trial 459 finished with value: 0.7892040994788286 and parameters: {'C': 17.569957906439555, 'max_iter': 5411}. Best is trial 231 with value: 0.8053030822030317.\u001b[0m\n",
            "\u001b[32m[I 2023-01-22 15:09:18,838]\u001b[0m Trial 460 finished with value: 0.7859020300685121 and parameters: {'C': 283.7356454695676, 'max_iter': 5616}. Best is trial 231 with value: 0.8053030822030317.\u001b[0m\n",
            "\u001b[32m[I 2023-01-22 15:10:01,331]\u001b[0m Trial 461 finished with value: 0.7878676526810603 and parameters: {'C': 36.40717586891775, 'max_iter': 5515}. Best is trial 231 with value: 0.8053030822030317.\u001b[0m\n",
            "\u001b[32m[I 2023-01-22 15:10:11,987]\u001b[0m Trial 462 finished with value: 0.8038262073750357 and parameters: {'C': 0.28651738624956347, 'max_iter': 2099}. Best is trial 231 with value: 0.8053030822030317.\u001b[0m\n",
            "\u001b[32m[I 2023-01-22 15:11:04,451]\u001b[0m Trial 463 finished with value: 0.7855382829308377 and parameters: {'C': 775.9513234394791, 'max_iter': 5290}. Best is trial 231 with value: 0.8053030822030317.\u001b[0m\n",
            "\u001b[32m[I 2023-01-22 15:11:57,856]\u001b[0m Trial 464 finished with value: 0.7855851581734168 and parameters: {'C': 341.47740317874803, 'max_iter': 2255}. Best is trial 231 with value: 0.8053030822030317.\u001b[0m\n",
            "\u001b[32m[I 2023-01-22 15:12:47,110]\u001b[0m Trial 465 finished with value: 0.7860290239714627 and parameters: {'C': 227.28088770856783, 'max_iter': 2402}. Best is trial 231 with value: 0.8053030822030317.\u001b[0m\n",
            "\u001b[32m[I 2023-01-22 15:13:51,278]\u001b[0m Trial 466 finished with value: 0.7861080029638347 and parameters: {'C': 123.28700018171115, 'max_iter': 2100}. Best is trial 231 with value: 0.8053030822030317.\u001b[0m\n",
            "\u001b[32m[I 2023-01-22 15:15:05,356]\u001b[0m Trial 467 finished with value: 0.7847222806431285 and parameters: {'C': 591.4743425549258, 'max_iter': 5427}. Best is trial 231 with value: 0.8053030822030317.\u001b[0m\n",
            "\u001b[32m[I 2023-01-22 15:16:27,045]\u001b[0m Trial 468 finished with value: 0.7845350797078565 and parameters: {'C': 852.2521425245353, 'max_iter': 2157}. Best is trial 231 with value: 0.8053030822030317.\u001b[0m\n",
            "\u001b[32m[I 2023-01-22 15:17:42,243]\u001b[0m Trial 469 finished with value: 0.7846400105686764 and parameters: {'C': 679.24947486496, 'max_iter': 1955}. Best is trial 231 with value: 0.8053030822030317.\u001b[0m\n",
            "\u001b[32m[I 2023-01-22 15:18:30,716]\u001b[0m Trial 470 finished with value: 0.7861090542494178 and parameters: {'C': 178.74634972129726, 'max_iter': 1750}. Best is trial 231 with value: 0.8053030822030317.\u001b[0m\n",
            "\u001b[32m[I 2023-01-22 15:18:49,630]\u001b[0m Trial 471 finished with value: 0.797892318934229 and parameters: {'C': 1.2079071039044287, 'max_iter': 6042}. Best is trial 231 with value: 0.8053030822030317.\u001b[0m\n",
            "\u001b[32m[I 2023-01-22 15:19:39,131]\u001b[0m Trial 472 finished with value: 0.7880679993378296 and parameters: {'C': 32.19992541898496, 'max_iter': 1214}. Best is trial 231 with value: 0.8053030822030317.\u001b[0m\n",
            "\u001b[32m[I 2023-01-22 15:21:03,302]\u001b[0m Trial 473 finished with value: 0.7843945260815639 and parameters: {'C': 987.3220310088318, 'max_iter': 1638}. Best is trial 231 with value: 0.8053030822030317.\u001b[0m\n",
            "\u001b[32m[I 2023-01-22 15:21:41,029]\u001b[0m Trial 474 finished with value: 0.7891601152716035 and parameters: {'C': 17.749485827114835, 'max_iter': 1387}. Best is trial 231 with value: 0.8053030822030317.\u001b[0m\n",
            "\u001b[32m[I 2023-01-22 15:22:32,453]\u001b[0m Trial 475 finished with value: 0.785557936389198 and parameters: {'C': 624.3853542206077, 'max_iter': 2071}. Best is trial 231 with value: 0.8053030822030317.\u001b[0m\n",
            "\u001b[32m[I 2023-01-22 15:23:21,923]\u001b[0m Trial 476 finished with value: 0.7873039519557836 and parameters: {'C': 51.80488012986065, 'max_iter': 1817}. Best is trial 231 with value: 0.8053030822030317.\u001b[0m\n",
            "\u001b[32m[I 2023-01-22 15:24:23,707]\u001b[0m Trial 477 finished with value: 0.7851608644288743 and parameters: {'C': 466.2715184632054, 'max_iter': 1595}. Best is trial 231 with value: 0.8053030822030317.\u001b[0m\n",
            "\u001b[32m[I 2023-01-22 15:25:16,422]\u001b[0m Trial 478 finished with value: 0.7855254674804748 and parameters: {'C': 519.8032876904791, 'max_iter': 4239}. Best is trial 231 with value: 0.8053030822030317.\u001b[0m\n",
            "\u001b[32m[I 2023-01-22 15:25:55,778]\u001b[0m Trial 479 finished with value: 0.7891964637032314 and parameters: {'C': 17.671286122413477, 'max_iter': 4764}. Best is trial 231 with value: 0.8053030822030317.\u001b[0m\n",
            "\u001b[32m[I 2023-01-22 15:26:13,477]\u001b[0m Trial 480 finished with value: 0.7984562778291953 and parameters: {'C': 1.0656650865408759, 'max_iter': 1074}. Best is trial 231 with value: 0.8053030822030317.\u001b[0m\n",
            "\u001b[32m[I 2023-01-22 15:27:04,923]\u001b[0m Trial 481 finished with value: 0.7856872724261805 and parameters: {'C': 477.32410793257316, 'max_iter': 1933}. Best is trial 231 with value: 0.8053030822030317.\u001b[0m\n",
            "\u001b[32m[I 2023-01-22 15:28:16,508]\u001b[0m Trial 482 finished with value: 0.7847086557959008 and parameters: {'C': 951.7939685035112, 'max_iter': 1358}. Best is trial 231 with value: 0.8053030822030317.\u001b[0m\n",
            "\u001b[32m[I 2023-01-22 15:29:18,154]\u001b[0m Trial 483 finished with value: 0.7852878792645024 and parameters: {'C': 401.1335645651608, 'max_iter': 2346}. Best is trial 231 with value: 0.8053030822030317.\u001b[0m\n",
            "\u001b[32m[I 2023-01-22 15:30:06,059]\u001b[0m Trial 484 finished with value: 0.7862316848520271 and parameters: {'C': 148.12015559057792, 'max_iter': 5801}. Best is trial 231 with value: 0.8053030822030317.\u001b[0m\n",
            "\u001b[32m[I 2023-01-22 15:30:56,360]\u001b[0m Trial 485 finished with value: 0.7879579027573629 and parameters: {'C': 34.376136605879914, 'max_iter': 1708}. Best is trial 231 with value: 0.8053030822030317.\u001b[0m\n",
            "\u001b[32m[I 2023-01-22 15:31:46,607]\u001b[0m Trial 486 finished with value: 0.7867027003328471 and parameters: {'C': 78.66831944240978, 'max_iter': 1525}. Best is trial 231 with value: 0.8053030822030317.\u001b[0m\n",
            "\u001b[32m[I 2023-01-22 15:32:21,635]\u001b[0m Trial 487 finished with value: 0.7891124073736288 and parameters: {'C': 18.27521759213729, 'max_iter': 2071}. Best is trial 231 with value: 0.8053030822030317.\u001b[0m\n",
            "\u001b[32m[I 2023-01-22 15:32:58,679]\u001b[0m Trial 488 finished with value: 0.787420381834134 and parameters: {'C': 54.7747674318003, 'max_iter': 1260}. Best is trial 231 with value: 0.8053030822030317.\u001b[0m\n",
            "\u001b[32m[I 2023-01-22 15:33:16,133]\u001b[0m Trial 489 finished with value: 0.7988552942026775 and parameters: {'C': 0.9758081095817326, 'max_iter': 1841}. Best is trial 231 with value: 0.8053030822030317.\u001b[0m\n",
            "\u001b[32m[I 2023-01-22 15:34:11,014]\u001b[0m Trial 490 finished with value: 0.7854545940860186 and parameters: {'C': 579.5531495993058, 'max_iter': 1487}. Best is trial 231 with value: 0.8053030822030317.\u001b[0m\n",
            "\u001b[32m[I 2023-01-22 15:35:13,000]\u001b[0m Trial 491 finished with value: 0.7862967924567469 and parameters: {'C': 110.27910983284043, 'max_iter': 1718}. Best is trial 231 with value: 0.8053030822030317.\u001b[0m\n",
            "\u001b[32m[I 2023-01-22 15:36:13,826]\u001b[0m Trial 492 finished with value: 0.7851508795416859 and parameters: {'C': 856.3030987845358, 'max_iter': 1049}. Best is trial 231 with value: 0.8053030822030317.\u001b[0m\n",
            "\u001b[32m[I 2023-01-22 15:37:06,666]\u001b[0m Trial 493 finished with value: 0.7855456675143044 and parameters: {'C': 314.4391031275579, 'max_iter': 2185}. Best is trial 231 with value: 0.8053030822030317.\u001b[0m\n",
            "\u001b[32m[I 2023-01-22 15:37:52,058]\u001b[0m Trial 494 finished with value: 0.7859499100796135 and parameters: {'C': 372.1917680806848, 'max_iter': 2510}. Best is trial 231 with value: 0.8053030822030317.\u001b[0m\n",
            "\u001b[32m[I 2023-01-22 15:38:05,673]\u001b[0m Trial 495 finished with value: 0.8007699201610234 and parameters: {'C': 0.6382946350961056, 'max_iter': 1955}. Best is trial 231 with value: 0.8053030822030317.\u001b[0m\n",
            "\u001b[32m[I 2023-01-22 15:38:50,579]\u001b[0m Trial 496 finished with value: 0.788107524884738 and parameters: {'C': 32.077545616204524, 'max_iter': 1347}. Best is trial 231 with value: 0.8053030822030317.\u001b[0m\n",
            "\u001b[32m[I 2023-01-22 15:39:41,163]\u001b[0m Trial 497 finished with value: 0.7856116891792769 and parameters: {'C': 705.8028622924705, 'max_iter': 1604}. Best is trial 231 with value: 0.8053030822030317.\u001b[0m\n",
            "\u001b[32m[I 2023-01-22 15:40:16,626]\u001b[0m Trial 498 finished with value: 0.7890534353692825 and parameters: {'C': 18.802815499101992, 'max_iter': 1821}. Best is trial 231 with value: 0.8053030822030317.\u001b[0m\n",
            "\u001b[32m[I 2023-01-22 15:41:02,831]\u001b[0m Trial 499 finished with value: 0.7859581808130962 and parameters: {'C': 434.03810125106855, 'max_iter': 1465}. Best is trial 231 with value: 0.8053030822030317.\u001b[0m\n",
            "Best trial score: 0.8053030822030317\n",
            "Best params: {'C': 0.09846929569930918, 'max_iter': 1898}\n"
          ]
        }
      ]
    },
    {
      "cell_type": "markdown",
      "source": [
        "탐색 231회에 최적 하이퍼파라미터를 찾았습니다. 최고 점수인 0.8053205237751317보다 0.00002만큼 낮은 수준입니다. 성능이 매우 미세하게 떨어질 것으로 예상합니다. 전체 데이터를 사용하여 모델을 훈련해 보겠습니다."
      ],
      "metadata": {
        "id": "Ekdsc4jHAAFb"
      }
    },
    {
      "cell_type": "code",
      "source": [
        "params = study_logistic.best_trial.params\n",
        "model_logistic = LogisticRegression(**params)\n",
        "model_logistic.fit(X_train_sparse, y_train_original)"
      ],
      "metadata": {
        "colab": {
          "base_uri": "https://localhost:8080/"
        },
        "id": "rP1zrNRK4ISP",
        "outputId": "ba30f6e2-b605-4a1d-ae4f-e4c751b8576a"
      },
      "execution_count": 34,
      "outputs": [
        {
          "output_type": "execute_result",
          "data": {
            "text/plain": [
              "LogisticRegression(C=0.09846929569930918, max_iter=1898)"
            ]
          },
          "metadata": {},
          "execution_count": 34
        }
      ]
    },
    {
      "cell_type": "markdown",
      "source": [
        "파일을 제출해 보겠습니다."
      ],
      "metadata": {
        "id": "QSUYbqahA-dD"
      }
    },
    {
      "cell_type": "code",
      "source": [
        "submission['target'] = model_logistic.predict_proba(X_test_sparse)[:, 1]\n",
        "submission.to_csv('Categorical_Feature_Encoding_Challenge_submission9.csv')"
      ],
      "metadata": {
        "id": "52N9wGHr4KFR"
      },
      "execution_count": 35,
      "outputs": []
    },
    {
      "cell_type": "markdown",
      "source": [
        "프라이빗 스코어는 0.80268입니다. 추측대로 이전 스코어인 0.80275보다 미세하게 떨어졌습니다. 순위 또한 15위에서 19위로 떨어졌습니다. 기실 실무에서 이 정도 성능 저하는 큰 문제가 되지 않습니다. `optuna` 패키지가 최적 파라미터를 잘 탐색했다고 평가할 만한 수준입니다."
      ],
      "metadata": {
        "id": "TXlZE41X_3q_"
      }
    },
    {
      "cell_type": "markdown",
      "source": [
        "# **4. 두 번째 모델링 및 하이퍼파라미터 튜닝**"
      ],
      "metadata": {
        "id": "RA7nu4JMSJeS"
      }
    },
    {
      "cell_type": "markdown",
      "source": [
        "## **4.1. 데이터 준비**"
      ],
      "metadata": {
        "id": "0frss9yUfwWa"
      }
    },
    {
      "cell_type": "markdown",
      "source": [
        "학습 및 검증 세트 비율을 0.15에서 0.1로 축소하여 하이퍼파라미터 최적화를 다시 한번 수행해 보겠습니다. 현재까지 가장 좋은 성능을 보였던 로지스틱 회귀 모델의 최적 하이퍼파라미터만 탐색하겠습니다."
      ],
      "metadata": {
        "id": "RdlhEOiBetVQ"
      }
    },
    {
      "cell_type": "code",
      "source": [
        "X_train, X_valid, y_train, y_valid = train_test_split(\n",
        "    X_train_sparse, y_train_original, test_size=0.1, stratify=y_train_original, random_state=2023)"
      ],
      "metadata": {
        "id": "NYlwyaUQdPcS"
      },
      "execution_count": 32,
      "outputs": []
    },
    {
      "cell_type": "markdown",
      "source": [
        "## **4.2. LogisticRegression**"
      ],
      "metadata": {
        "id": "VECdyhW1fzKM"
      }
    },
    {
      "cell_type": "markdown",
      "source": [
        "### **4.2.1. optuna**"
      ],
      "metadata": {
        "id": "e8VHO4ThgBAr"
      }
    },
    {
      "cell_type": "code",
      "source": [
        "def objective_LogisticRegression(trial, X_train, y_train, X_valid, y_valid):\n",
        "    params = {\n",
        "        'C': trial.suggest_float('C', 0.1, 10),\n",
        "        'max_iter': trial.suggest_int('max_iter', 100, 10000),\n",
        "        'solver': 'liblinear',\n",
        "        'random_state': 2023\n",
        "    }\n",
        "\n",
        "    model = LogisticRegression(**params)\n",
        "    model.fit(X_train, y_train)\n",
        "    prediction = model.predict_proba(X_valid)[:, 1]\n",
        "    roc_auc = roc_auc_score(y_valid, prediction)\n",
        "\n",
        "    return roc_auc"
      ],
      "metadata": {
        "id": "KPBz5pRZfilS"
      },
      "execution_count": 37,
      "outputs": []
    },
    {
      "cell_type": "code",
      "source": [
        "study_logistic = optuna.create_study(direction='maximize', sampler=TPESampler())\n",
        "study_logistic.optimize(lambda trial: objective_LogisticRegression(trial, X_train, y_train, X_valid, y_valid),\n",
        "                        n_trials=500, show_progress_bar=True)\n",
        "\n",
        "print(f'Best trial score: {study_logistic.best_trial.value}')\n",
        "print(f'Best params: {study_logistic.best_trial.params}')"
      ],
      "metadata": {
        "colab": {
          "base_uri": "https://localhost:8080/",
          "height": 1000,
          "referenced_widgets": [
            "4a4e1033661943ab8ff3fd93642d0bae",
            "c9f77de4f4b94a9c8578e6f833edbfa6",
            "0799200ed8e7468099f8a098464f4f6f",
            "58e9485a394c49b19fce291e015ec4ca",
            "ec74ce8fb5664ae78ec7dcab7bbfdc55",
            "2c547fe9a1584aa6b4918772c0526dd8",
            "accaf6fecc014244b4c81477ff81d877",
            "8bccdffd0937499ebe6ce92fc202f910",
            "64a078c4ebbb4b73b703d4043099b1ca",
            "9a70d3d99f5d4ffd80a8c4fa20d443ad",
            "c89f224206514d89a14bb2c54c604ce3"
          ]
        },
        "id": "BZpl4K2Yfl6c",
        "outputId": "342e384f-5a33-4957-cf3c-aa664d51f428"
      },
      "execution_count": 38,
      "outputs": [
        {
          "output_type": "stream",
          "name": "stderr",
          "text": [
            "\u001b[32m[I 2023-01-22 18:36:21,923]\u001b[0m A new study created in memory with name: no-name-fbb0da3e-54d0-4deb-9202-de293c1ffd40\u001b[0m\n",
            "/usr/local/lib/python3.8/dist-packages/optuna/progress_bar.py:56: ExperimentalWarning: Progress bar is experimental (supported from v1.2.0). The interface can change in the future.\n",
            "  self._init_valid()\n"
          ]
        },
        {
          "output_type": "display_data",
          "data": {
            "text/plain": [
              "  0%|          | 0/500 [00:00<?, ?it/s]"
            ],
            "application/vnd.jupyter.widget-view+json": {
              "version_major": 2,
              "version_minor": 0,
              "model_id": "4a4e1033661943ab8ff3fd93642d0bae"
            }
          },
          "metadata": {}
        },
        {
          "output_type": "stream",
          "name": "stdout",
          "text": [
            "\u001b[32m[I 2023-01-22 18:36:56,247]\u001b[0m Trial 0 finished with value: 0.7891953153862101 and parameters: {'C': 7.578692506041821, 'max_iter': 9286}. Best is trial 0 with value: 0.7891953153862101.\u001b[0m\n",
            "\u001b[32m[I 2023-01-22 18:37:19,258]\u001b[0m Trial 1 finished with value: 0.7942987002204887 and parameters: {'C': 1.662506209505343, 'max_iter': 1276}. Best is trial 1 with value: 0.7942987002204887.\u001b[0m\n",
            "\u001b[32m[I 2023-01-22 18:37:50,067]\u001b[0m Trial 2 finished with value: 0.7885333867584884 and parameters: {'C': 9.84151812533324, 'max_iter': 2442}. Best is trial 1 with value: 0.7942987002204887.\u001b[0m\n",
            "\u001b[32m[I 2023-01-22 18:38:19,891]\u001b[0m Trial 3 finished with value: 0.7892453726854636 and parameters: {'C': 7.410787242838828, 'max_iter': 7746}. Best is trial 1 with value: 0.7942987002204887.\u001b[0m\n",
            "\u001b[32m[I 2023-01-22 18:38:45,182]\u001b[0m Trial 4 finished with value: 0.78979574654153 and parameters: {'C': 6.009764251362852, 'max_iter': 1171}. Best is trial 1 with value: 0.7942987002204887.\u001b[0m\n",
            "\u001b[32m[I 2023-01-22 18:39:11,241]\u001b[0m Trial 5 finished with value: 0.7902620670485836 and parameters: {'C': 5.128106645250092, 'max_iter': 4242}. Best is trial 1 with value: 0.7942987002204887.\u001b[0m\n",
            "\u001b[32m[I 2023-01-22 18:39:31,275]\u001b[0m Trial 6 finished with value: 0.7925528806041986 and parameters: {'C': 2.5843257824735923, 'max_iter': 3339}. Best is trial 1 with value: 0.7942987002204887.\u001b[0m\n",
            "\u001b[32m[I 2023-01-22 18:39:52,352]\u001b[0m Trial 7 finished with value: 0.7922370145975354 and parameters: {'C': 2.7991449232526024, 'max_iter': 4362}. Best is trial 1 with value: 0.7942987002204887.\u001b[0m\n",
            "\u001b[32m[I 2023-01-22 18:40:16,500]\u001b[0m Trial 8 finished with value: 0.7899687307516208 and parameters: {'C': 5.673378436810265, 'max_iter': 8704}. Best is trial 1 with value: 0.7942987002204887.\u001b[0m\n",
            "\u001b[32m[I 2023-01-22 18:40:43,167]\u001b[0m Trial 9 finished with value: 0.7892765113086269 and parameters: {'C': 7.36419219829552, 'max_iter': 2301}. Best is trial 1 with value: 0.7942987002204887.\u001b[0m\n",
            "\u001b[32m[I 2023-01-22 18:40:52,697]\u001b[0m Trial 10 finished with value: 0.8024385351839018 and parameters: {'C': 0.20674404386512713, 'max_iter': 6135}. Best is trial 10 with value: 0.8024385351839018.\u001b[0m\n",
            "\u001b[32m[I 2023-01-22 18:41:02,294]\u001b[0m Trial 11 finished with value: 0.8027159096656296 and parameters: {'C': 0.18002247508851377, 'max_iter': 6165}. Best is trial 11 with value: 0.8027159096656296.\u001b[0m\n",
            "\u001b[32m[I 2023-01-22 18:41:11,538]\u001b[0m Trial 12 finished with value: 0.8030986321279082 and parameters: {'C': 0.13374446001707074, 'max_iter': 6519}. Best is trial 12 with value: 0.8030986321279082.\u001b[0m\n",
            "\u001b[32m[I 2023-01-22 18:41:21,198]\u001b[0m Trial 13 finished with value: 0.8025768953383879 and parameters: {'C': 0.19334559668852985, 'max_iter': 6543}. Best is trial 12 with value: 0.8030986321279082.\u001b[0m\n",
            "\u001b[32m[I 2023-01-22 18:41:41,030]\u001b[0m Trial 14 finished with value: 0.7946421095168508 and parameters: {'C': 1.5361446119864688, 'max_iter': 5819}. Best is trial 12 with value: 0.8030986321279082.\u001b[0m\n",
            "\u001b[32m[I 2023-01-22 18:42:02,733]\u001b[0m Trial 15 finished with value: 0.7912984964953924 and parameters: {'C': 3.669368846502148, 'max_iter': 7629}. Best is trial 12 with value: 0.8030986321279082.\u001b[0m\n",
            "\u001b[32m[I 2023-01-22 18:42:13,976]\u001b[0m Trial 16 finished with value: 0.8023031946908554 and parameters: {'C': 0.2192276857375512, 'max_iter': 7190}. Best is trial 12 with value: 0.8030986321279082.\u001b[0m\n",
            "\u001b[32m[I 2023-01-22 18:42:35,748]\u001b[0m Trial 17 finished with value: 0.7910661500327735 and parameters: {'C': 3.9119671087504093, 'max_iter': 5155}. Best is trial 12 with value: 0.8030986321279082.\u001b[0m\n",
            "\u001b[32m[I 2023-01-22 18:42:53,212]\u001b[0m Trial 18 finished with value: 0.7952527091334824 and parameters: {'C': 1.3232485287841873, 'max_iter': 9753}. Best is trial 12 with value: 0.8030986321279082.\u001b[0m\n",
            "\u001b[32m[I 2023-01-22 18:43:10,904]\u001b[0m Trial 19 finished with value: 0.795821514961109 and parameters: {'C': 1.163122024580904, 'max_iter': 8351}. Best is trial 12 with value: 0.8030986321279082.\u001b[0m\n",
            "\u001b[32m[I 2023-01-22 18:43:33,023]\u001b[0m Trial 20 finished with value: 0.7930425053614952 and parameters: {'C': 2.2713136863723955, 'max_iter': 5381}. Best is trial 12 with value: 0.8030986321279082.\u001b[0m\n",
            "\u001b[32m[I 2023-01-22 18:43:42,786]\u001b[0m Trial 21 finished with value: 0.8027826928538964 and parameters: {'C': 0.17281950231501103, 'max_iter': 6743}. Best is trial 12 with value: 0.8030986321279082.\u001b[0m\n",
            "\u001b[32m[I 2023-01-22 18:44:00,025]\u001b[0m Trial 22 finished with value: 0.7972190059019153 and parameters: {'C': 0.8503068450213878, 'max_iter': 6814}. Best is trial 12 with value: 0.8030986321279082.\u001b[0m\n",
            "\u001b[32m[I 2023-01-22 18:44:17,052]\u001b[0m Trial 23 finished with value: 0.797711242116852 and parameters: {'C': 0.7607927423314425, 'max_iter': 4315}. Best is trial 12 with value: 0.8030986321279082.\u001b[0m\n",
            "\u001b[32m[I 2023-01-22 18:44:40,288]\u001b[0m Trial 24 finished with value: 0.7935930309856409 and parameters: {'C': 1.9771230618136246, 'max_iter': 6127}. Best is trial 12 with value: 0.8030986321279082.\u001b[0m\n",
            "\u001b[32m[I 2023-01-22 18:44:50,174]\u001b[0m Trial 25 finished with value: 0.8028867272555542 and parameters: {'C': 0.16106239709550507, 'max_iter': 8107}. Best is trial 12 with value: 0.8030986321279082.\u001b[0m\n",
            "\u001b[32m[I 2023-01-22 18:45:06,997]\u001b[0m Trial 26 finished with value: 0.7967495819993095 and parameters: {'C': 0.9450272003631048, 'max_iter': 8027}. Best is trial 12 with value: 0.8030986321279082.\u001b[0m\n",
            "\u001b[32m[I 2023-01-22 18:45:28,340]\u001b[0m Trial 27 finished with value: 0.7932411593105133 and parameters: {'C': 2.157315993812399, 'max_iter': 9148}. Best is trial 12 with value: 0.8030986321279082.\u001b[0m\n",
            "\u001b[32m[I 2023-01-22 18:45:52,135]\u001b[0m Trial 28 finished with value: 0.7919272716478638 and parameters: {'C': 3.0811290246352843, 'max_iter': 7246}. Best is trial 12 with value: 0.8030986321279082.\u001b[0m\n",
            "\u001b[32m[I 2023-01-22 18:46:14,742]\u001b[0m Trial 29 finished with value: 0.7942775521236478 and parameters: {'C': 1.6713724993384933, 'max_iter': 8931}. Best is trial 12 with value: 0.8030986321279082.\u001b[0m\n",
            "\u001b[32m[I 2023-01-22 18:46:30,151]\u001b[0m Trial 30 finished with value: 0.796241797406319 and parameters: {'C': 1.0598450905032586, 'max_iter': 9950}. Best is trial 12 with value: 0.8030986321279082.\u001b[0m\n",
            "\u001b[32m[I 2023-01-22 18:46:41,953]\u001b[0m Trial 31 finished with value: 0.8015451026680702 and parameters: {'C': 0.28816401319695845, 'max_iter': 6655}. Best is trial 12 with value: 0.8030986321279082.\u001b[0m\n",
            "\u001b[32m[I 2023-01-22 18:46:48,826]\u001b[0m Trial 32 finished with value: 0.8031975692154549 and parameters: {'C': 0.10241403335387873, 'max_iter': 5588}. Best is trial 32 with value: 0.8031975692154549.\u001b[0m\n",
            "\u001b[32m[I 2023-01-22 18:47:03,965]\u001b[0m Trial 33 finished with value: 0.7977248279766389 and parameters: {'C': 0.7599334254276907, 'max_iter': 4724}. Best is trial 32 with value: 0.8031975692154549.\u001b[0m\n",
            "\u001b[32m[I 2023-01-22 18:47:25,902]\u001b[0m Trial 34 finished with value: 0.7940725448488282 and parameters: {'C': 1.7551814638506789, 'max_iter': 5572}. Best is trial 32 with value: 0.8031975692154549.\u001b[0m\n",
            "\u001b[32m[I 2023-01-22 18:47:48,476]\u001b[0m Trial 35 finished with value: 0.794368524003723 and parameters: {'C': 1.634129718070572, 'max_iter': 7429}. Best is trial 32 with value: 0.8031975692154549.\u001b[0m\n",
            "\u001b[32m[I 2023-01-22 18:48:02,832]\u001b[0m Trial 36 finished with value: 0.7982181527350408 and parameters: {'C': 0.6774962453057447, 'max_iter': 3598}. Best is trial 32 with value: 0.8031975692154549.\u001b[0m\n",
            "\u001b[32m[I 2023-01-22 18:48:18,275]\u001b[0m Trial 37 finished with value: 0.7960178505218811 and parameters: {'C': 1.1137970996217081, 'max_iter': 7882}. Best is trial 32 with value: 0.8031975692154549.\u001b[0m\n",
            "\u001b[32m[I 2023-01-22 18:48:38,859]\u001b[0m Trial 38 finished with value: 0.7930681594002762 and parameters: {'C': 2.2597676508659705, 'max_iter': 328}. Best is trial 32 with value: 0.8031975692154549.\u001b[0m\n",
            "\u001b[32m[I 2023-01-22 18:48:53,243]\u001b[0m Trial 39 finished with value: 0.7982816231924734 and parameters: {'C': 0.6682697078068479, 'max_iter': 7005}. Best is trial 32 with value: 0.8031975692154549.\u001b[0m\n",
            "\u001b[32m[I 2023-01-22 18:49:11,754]\u001b[0m Trial 40 finished with value: 0.7950942423251826 and parameters: {'C': 1.3750409270192476, 'max_iter': 8416}. Best is trial 32 with value: 0.8031975692154549.\u001b[0m\n",
            "\u001b[32m[I 2023-01-22 18:49:21,294]\u001b[0m Trial 41 finished with value: 0.802906676907907 and parameters: {'C': 0.15900977905091304, 'max_iter': 6294}. Best is trial 32 with value: 0.8031975692154549.\u001b[0m\n",
            "\u001b[32m[I 2023-01-22 18:49:34,746]\u001b[0m Trial 42 finished with value: 0.7997816936547294 and parameters: {'C': 0.4690862204373469, 'max_iter': 6307}. Best is trial 32 with value: 0.8031975692154549.\u001b[0m\n",
            "\u001b[32m[I 2023-01-22 18:49:44,131]\u001b[0m Trial 43 finished with value: 0.8031154993182368 and parameters: {'C': 0.13077876561289561, 'max_iter': 5675}. Best is trial 32 with value: 0.8031975692154549.\u001b[0m\n",
            "\u001b[32m[I 2023-01-22 18:49:52,168]\u001b[0m Trial 44 finished with value: 0.8031963498374386 and parameters: {'C': 0.10536792067665934, 'max_iter': 4894}. Best is trial 32 with value: 0.8031975692154549.\u001b[0m\n",
            "\u001b[32m[I 2023-01-22 18:50:06,514]\u001b[0m Trial 45 finished with value: 0.7982060793226646 and parameters: {'C': 0.6797129046500596, 'max_iter': 4834}. Best is trial 32 with value: 0.8031975692154549.\u001b[0m\n",
            "\u001b[32m[I 2023-01-22 18:50:25,043]\u001b[0m Trial 46 finished with value: 0.7954477154152156 and parameters: {'C': 1.2682412883190572, 'max_iter': 3684}. Best is trial 32 with value: 0.8031975692154549.\u001b[0m\n",
            "\u001b[32m[I 2023-01-22 18:50:40,409]\u001b[0m Trial 47 finished with value: 0.7989254338515582 and parameters: {'C': 0.5768512368424317, 'max_iter': 2847}. Best is trial 32 with value: 0.8031975692154549.\u001b[0m\n",
            "\u001b[32m[I 2023-01-22 18:51:02,252]\u001b[0m Trial 48 finished with value: 0.794259617323382 and parameters: {'C': 1.6790350327652512, 'max_iter': 5795}. Best is trial 32 with value: 0.8031975692154549.\u001b[0m\n",
            "\u001b[32m[I 2023-01-22 18:51:22,179]\u001b[0m Trial 49 finished with value: 0.7958726869707375 and parameters: {'C': 1.1530092190216275, 'max_iter': 5075}. Best is trial 32 with value: 0.8031975692154549.\u001b[0m\n",
            "\u001b[32m[I 2023-01-22 18:51:35,811]\u001b[0m Trial 50 finished with value: 0.799536394571551 and parameters: {'C': 0.49806890490110733, 'max_iter': 3913}. Best is trial 32 with value: 0.8031975692154549.\u001b[0m\n",
            "\u001b[32m[I 2023-01-22 18:51:45,889]\u001b[0m Trial 51 finished with value: 0.803049302268759 and parameters: {'C': 0.14031057355652915, 'max_iter': 4655}. Best is trial 32 with value: 0.8031975692154549.\u001b[0m\n",
            "\u001b[32m[I 2023-01-22 18:51:57,866]\u001b[0m Trial 52 finished with value: 0.8008310286216594 and parameters: {'C': 0.3553934491245896, 'max_iter': 5580}. Best is trial 32 with value: 0.8031975692154549.\u001b[0m\n",
            "\u001b[32m[I 2023-01-22 18:52:05,178]\u001b[0m Trial 53 finished with value: 0.8031990293290452 and parameters: {'C': 0.1056814501256384, 'max_iter': 4515}. Best is trial 53 with value: 0.8031990293290452.\u001b[0m\n",
            "\u001b[32m[I 2023-01-22 18:52:25,301]\u001b[0m Trial 54 finished with value: 0.7963368879580632 and parameters: {'C': 1.0379400308472677, 'max_iter': 4714}. Best is trial 53 with value: 0.8031990293290452.\u001b[0m\n",
            "\u001b[32m[I 2023-01-22 18:52:35,330]\u001b[0m Trial 55 finished with value: 0.8030731089236782 and parameters: {'C': 0.13724602622453963, 'max_iter': 3057}. Best is trial 53 with value: 0.8031990293290452.\u001b[0m\n",
            "\u001b[32m[I 2023-01-22 18:52:56,069]\u001b[0m Trial 56 finished with value: 0.7953225904839195 and parameters: {'C': 1.3093178339186207, 'max_iter': 2374}. Best is trial 53 with value: 0.8031990293290452.\u001b[0m\n",
            "\u001b[32m[I 2023-01-22 18:53:12,229]\u001b[0m Trial 57 finished with value: 0.7991139664397026 and parameters: {'C': 0.5518171983834184, 'max_iter': 3998}. Best is trial 53 with value: 0.8031990293290452.\u001b[0m\n",
            "\u001b[32m[I 2023-01-22 18:53:19,245]\u001b[0m Trial 58 finished with value: 0.8031955124963116 and parameters: {'C': 0.10389598052107434, 'max_iter': 3048}. Best is trial 53 with value: 0.8031990293290452.\u001b[0m\n",
            "\u001b[32m[I 2023-01-22 18:53:37,296]\u001b[0m Trial 59 finished with value: 0.7967965934702129 and parameters: {'C': 0.9356440576255349, 'max_iter': 3165}. Best is trial 53 with value: 0.8031990293290452.\u001b[0m\n",
            "\u001b[32m[I 2023-01-22 18:53:55,076]\u001b[0m Trial 60 finished with value: 0.797193911835013 and parameters: {'C': 0.8551708691052622, 'max_iter': 1857}. Best is trial 53 with value: 0.8031990293290452.\u001b[0m\n",
            "\u001b[32m[I 2023-01-22 18:54:04,717]\u001b[0m Trial 61 finished with value: 0.803102619965026 and parameters: {'C': 0.13285515924960373, 'max_iter': 1848}. Best is trial 53 with value: 0.8031990293290452.\u001b[0m\n",
            "\u001b[32m[I 2023-01-22 18:54:18,355]\u001b[0m Trial 62 finished with value: 0.799694369441939 and parameters: {'C': 0.4795293909844156, 'max_iter': 1340}. Best is trial 53 with value: 0.8031990293290452.\u001b[0m\n",
            "\u001b[32m[I 2023-01-22 18:54:27,621]\u001b[0m Trial 63 finished with value: 0.8031962347030337 and parameters: {'C': 0.10862638114957755, 'max_iter': 1849}. Best is trial 53 with value: 0.8031990293290452.\u001b[0m\n",
            "\u001b[32m[I 2023-01-22 18:54:42,455]\u001b[0m Trial 64 finished with value: 0.7995206891920361 and parameters: {'C': 0.5005341721976755, 'max_iter': 1838}. Best is trial 53 with value: 0.8031990293290452.\u001b[0m\n",
            "\u001b[32m[I 2023-01-22 18:55:04,095]\u001b[0m Trial 65 finished with value: 0.7948486920396658 and parameters: {'C': 1.4611970672123442, 'max_iter': 860}. Best is trial 53 with value: 0.8031990293290452.\u001b[0m\n",
            "\u001b[32m[I 2023-01-22 18:55:27,781]\u001b[0m Trial 66 finished with value: 0.7936753887188714 and parameters: {'C': 1.9373230069110379, 'max_iter': 1842}. Best is trial 53 with value: 0.8031990293290452.\u001b[0m\n",
            "\u001b[32m[I 2023-01-22 18:55:43,615]\u001b[0m Trial 67 finished with value: 0.7968547415781068 and parameters: {'C': 0.9209769709080593, 'max_iter': 2725}. Best is trial 53 with value: 0.8031990293290452.\u001b[0m\n",
            "\u001b[32m[I 2023-01-22 18:55:53,228]\u001b[0m Trial 68 finished with value: 0.8031385314326136 and parameters: {'C': 0.1256697385756646, 'max_iter': 1107}. Best is trial 53 with value: 0.8031990293290452.\u001b[0m\n",
            "\u001b[32m[I 2023-01-22 18:56:07,071]\u001b[0m Trial 69 finished with value: 0.8002370659265464 and parameters: {'C': 0.4171139687307431, 'max_iter': 160}. Best is trial 53 with value: 0.8031990293290452.\u001b[0m\n",
            "\u001b[32m[I 2023-01-22 18:56:26,615]\u001b[0m Trial 70 finished with value: 0.7951246535082416 and parameters: {'C': 1.3693445771300958, 'max_iter': 958}. Best is trial 53 with value: 0.8031990293290452.\u001b[0m\n",
            "\u001b[32m[I 2023-01-22 18:56:43,513]\u001b[0m Trial 71 finished with value: 0.7975536702168814 and parameters: {'C': 0.7886780421501236, 'max_iter': 588}. Best is trial 53 with value: 0.8031990293290452.\u001b[0m\n",
            "\u001b[32m[I 2023-01-22 18:56:57,475]\u001b[0m Trial 72 finished with value: 0.8005790831432849 and parameters: {'C': 0.3818995535541436, 'max_iter': 1427}. Best is trial 53 with value: 0.8031990293290452.\u001b[0m\n",
            "\u001b[32m[I 2023-01-22 18:57:07,024]\u001b[0m Trial 73 finished with value: 0.8029582047875146 and parameters: {'C': 0.15283328383309386, 'max_iter': 2088}. Best is trial 53 with value: 0.8031990293290452.\u001b[0m\n",
            "\u001b[32m[I 2023-01-22 18:57:13,983]\u001b[0m Trial 74 finished with value: 0.8031958788330545 and parameters: {'C': 0.10453826082563905, 'max_iter': 5197}. Best is trial 53 with value: 0.8031990293290452.\u001b[0m\n",
            "\u001b[32m[I 2023-01-22 18:57:27,152]\u001b[0m Trial 75 finished with value: 0.7977779729712983 and parameters: {'C': 0.7481136531810508, 'max_iter': 5275}. Best is trial 53 with value: 0.8031990293290452.\u001b[0m\n",
            "\u001b[32m[I 2023-01-22 18:57:42,845]\u001b[0m Trial 76 finished with value: 0.796089956059687 and parameters: {'C': 1.095051573673556, 'max_iter': 4404}. Best is trial 53 with value: 0.8031990293290452.\u001b[0m\n",
            "\u001b[32m[I 2023-01-22 18:57:56,672]\u001b[0m Trial 77 finished with value: 0.8004810409640677 and parameters: {'C': 0.3918980883388279, 'max_iter': 5784}. Best is trial 53 with value: 0.8031990293290452.\u001b[0m\n",
            "\u001b[32m[I 2023-01-22 18:58:10,963]\u001b[0m Trial 78 finished with value: 0.7985421985178393 and parameters: {'C': 0.629908494819786, 'max_iter': 5410}. Best is trial 53 with value: 0.8031990293290452.\u001b[0m\n",
            "\u001b[32m[I 2023-01-22 18:58:27,714]\u001b[0m Trial 79 finished with value: 0.7969198448507373 and parameters: {'C': 0.9094239071601959, 'max_iter': 4971}. Best is trial 53 with value: 0.8031990293290452.\u001b[0m\n",
            "\u001b[32m[I 2023-01-22 18:58:34,550]\u001b[0m Trial 80 finished with value: 0.8031970563440145 and parameters: {'C': 0.10372374260778044, 'max_iter': 5947}. Best is trial 53 with value: 0.8031990293290452.\u001b[0m\n",
            "\u001b[32m[I 2023-01-22 18:58:48,117]\u001b[0m Trial 81 finished with value: 0.8007486604216649 and parameters: {'C': 0.36447932734741284, 'max_iter': 5941}. Best is trial 53 with value: 0.8031990293290452.\u001b[0m\n",
            "\u001b[32m[I 2023-01-22 18:59:03,312]\u001b[0m Trial 82 finished with value: 0.7987269526041476 and parameters: {'C': 0.6041126578444651, 'max_iter': 4117}. Best is trial 53 with value: 0.8031990293290452.\u001b[0m\n",
            "\u001b[32m[I 2023-01-22 18:59:12,371]\u001b[0m Trial 83 finished with value: 0.8031950414919276 and parameters: {'C': 0.10912765507732523, 'max_iter': 5991}. Best is trial 53 with value: 0.8031990293290452.\u001b[0m\n",
            "\u001b[32m[I 2023-01-22 18:59:31,645]\u001b[0m Trial 84 finished with value: 0.7959348333825131 and parameters: {'C': 1.1359777636173833, 'max_iter': 4465}. Best is trial 53 with value: 0.8031990293290452.\u001b[0m\n",
            "\u001b[32m[I 2023-01-22 18:59:43,508]\u001b[0m Trial 85 finished with value: 0.8008844719190955 and parameters: {'C': 0.3504186694726651, 'max_iter': 6072}. Best is trial 53 with value: 0.8031990293290452.\u001b[0m\n",
            "\u001b[32m[I 2023-01-22 19:00:00,850]\u001b[0m Trial 86 finished with value: 0.79767032753603 and parameters: {'C': 0.7681382968671917, 'max_iter': 3442}. Best is trial 53 with value: 0.8031990293290452.\u001b[0m\n",
            "\u001b[32m[I 2023-01-22 19:00:09,864]\u001b[0m Trial 87 finished with value: 0.8031980716201312 and parameters: {'C': 0.10443157555750783, 'max_iter': 6438}. Best is trial 53 with value: 0.8031990293290452.\u001b[0m\n",
            "\u001b[32m[I 2023-01-22 19:00:24,085]\u001b[0m Trial 88 finished with value: 0.7985815535508121 and parameters: {'C': 0.6242935229272901, 'max_iter': 6312}. Best is trial 53 with value: 0.8031990293290452.\u001b[0m\n",
            "\u001b[32m[I 2023-01-22 19:00:42,200]\u001b[0m Trial 89 finished with value: 0.7946875248062308 and parameters: {'C': 1.510729342191267, 'max_iter': 7041}. Best is trial 53 with value: 0.8031990293290452.\u001b[0m\n",
            "\u001b[32m[I 2023-01-22 19:00:56,115]\u001b[0m Trial 90 finished with value: 0.8005106933067304 and parameters: {'C': 0.3889720711510203, 'max_iter': 6542}. Best is trial 53 with value: 0.8031990293290452.\u001b[0m\n",
            "\u001b[32m[I 2023-01-22 19:01:05,266]\u001b[0m Trial 91 finished with value: 0.8031013848868636 and parameters: {'C': 0.13300858007927685, 'max_iter': 5439}. Best is trial 53 with value: 0.8031990293290452.\u001b[0m\n",
            "\u001b[32m[I 2023-01-22 19:01:16,762]\u001b[0m Trial 92 finished with value: 0.801278545587028 and parameters: {'C': 0.3126605007385951, 'max_iter': 5047}. Best is trial 53 with value: 0.8031990293290452.\u001b[0m\n",
            "\u001b[32m[I 2023-01-22 19:01:24,938]\u001b[0m Trial 93 finished with value: 0.8031735375251077 and parameters: {'C': 0.11702888390456989, 'max_iter': 5224}. Best is trial 53 with value: 0.8031990293290452.\u001b[0m\n",
            "\u001b[32m[I 2023-01-22 19:01:44,260]\u001b[0m Trial 94 finished with value: 0.7965478194213571 and parameters: {'C': 0.989790299875843, 'max_iter': 5207}. Best is trial 53 with value: 0.8031990293290452.\u001b[0m\n",
            "\u001b[32m[I 2023-01-22 19:01:59,344]\u001b[0m Trial 95 finished with value: 0.7989757214196215 and parameters: {'C': 0.5700867709970137, 'max_iter': 6848}. Best is trial 53 with value: 0.8031990293290452.\u001b[0m\n",
            "\u001b[32m[I 2023-01-22 19:02:16,863]\u001b[0m Trial 96 finished with value: 0.7973587005688225 and parameters: {'C': 0.8245501939621509, 'max_iter': 5942}. Best is trial 53 with value: 0.8031990293290452.\u001b[0m\n",
            "\u001b[32m[I 2023-01-22 19:02:33,334]\u001b[0m Trial 97 finished with value: 0.7956247764299191 and parameters: {'C': 1.2211528960937033, 'max_iter': 3795}. Best is trial 53 with value: 0.8031990293290452.\u001b[0m\n",
            "\u001b[32m[I 2023-01-22 19:02:41,543]\u001b[0m Trial 98 finished with value: 0.8031963498374386 and parameters: {'C': 0.10166558056794579, 'max_iter': 5552}. Best is trial 53 with value: 0.8031990293290452.\u001b[0m\n",
            "\u001b[32m[I 2023-01-22 19:02:53,410]\u001b[0m Trial 99 finished with value: 0.8008809236860694 and parameters: {'C': 0.35069748473088835, 'max_iter': 5547}. Best is trial 53 with value: 0.8031990293290452.\u001b[0m\n",
            "\u001b[32m[I 2023-01-22 19:03:07,545]\u001b[0m Trial 100 finished with value: 0.798352038347879 and parameters: {'C': 0.6573170837680601, 'max_iter': 4863}. Best is trial 53 with value: 0.8031990293290452.\u001b[0m\n",
            "\u001b[32m[I 2023-01-22 19:03:19,242]\u001b[0m Trial 101 finished with value: 0.8014115519916828 and parameters: {'C': 0.30048441377860957, 'max_iter': 6394}. Best is trial 53 with value: 0.8031990293290452.\u001b[0m\n",
            "\u001b[32m[I 2023-01-22 19:03:32,768]\u001b[0m Trial 102 finished with value: 0.7994146190047632 and parameters: {'C': 0.5134141147656315, 'max_iter': 5210}. Best is trial 53 with value: 0.8031990293290452.\u001b[0m\n",
            "\u001b[32m[I 2023-01-22 19:03:41,068]\u001b[0m Trial 103 finished with value: 0.8031935185777527 and parameters: {'C': 0.10932133929282654, 'max_iter': 4615}. Best is trial 53 with value: 0.8031990293290452.\u001b[0m\n",
            "\u001b[32m[I 2023-01-22 19:03:58,178]\u001b[0m Trial 104 finished with value: 0.7968431025364403 and parameters: {'C': 0.9254752376376698, 'max_iter': 4578}. Best is trial 53 with value: 0.8031990293290452.\u001b[0m\n",
            "\u001b[32m[I 2023-01-22 19:04:09,949]\u001b[0m Trial 105 finished with value: 0.8014032623145247 and parameters: {'C': 0.30128927804793704, 'max_iter': 4287}. Best is trial 53 with value: 0.8031990293290452.\u001b[0m\n",
            "\u001b[32m[I 2023-01-22 19:04:26,864]\u001b[0m Trial 106 finished with value: 0.798017510100846 and parameters: {'C': 0.7102213640324695, 'max_iter': 6098}. Best is trial 53 with value: 0.8031990293290452.\u001b[0m\n",
            "\u001b[32m[I 2023-01-22 19:04:34,477]\u001b[0m Trial 107 finished with value: 0.8031957375317393 and parameters: {'C': 0.10153746441632512, 'max_iter': 5616}. Best is trial 53 with value: 0.8031990293290452.\u001b[0m\n",
            "\u001b[32m[I 2023-01-22 19:04:47,706]\u001b[0m Trial 108 finished with value: 0.79945137304686 and parameters: {'C': 0.5086988621712986, 'max_iter': 5702}. Best is trial 53 with value: 0.8031990293290452.\u001b[0m\n",
            "\u001b[32m[I 2023-01-22 19:05:03,216]\u001b[0m Trial 109 finished with value: 0.7963007148213734 and parameters: {'C': 1.0450968485539909, 'max_iter': 2551}. Best is trial 53 with value: 0.8031990293290452.\u001b[0m\n",
            "\u001b[32m[I 2023-01-22 19:05:13,705]\u001b[0m Trial 110 finished with value: 0.8012166346774445 and parameters: {'C': 0.31910584805613385, 'max_iter': 7372}. Best is trial 53 with value: 0.8031990293290452.\u001b[0m\n",
            "\u001b[32m[I 2023-01-22 19:05:25,574]\u001b[0m Trial 111 finished with value: 0.8019883648938368 and parameters: {'C': 0.24761262570624828, 'max_iter': 4911}. Best is trial 53 with value: 0.8031990293290452.\u001b[0m\n",
            "\u001b[32m[I 2023-01-22 19:05:33,734]\u001b[0m Trial 112 finished with value: 0.8031725902829576 and parameters: {'C': 0.1175977034636685, 'max_iter': 5466}. Best is trial 53 with value: 0.8031990293290452.\u001b[0m\n",
            "\u001b[32m[I 2023-01-22 19:05:49,523]\u001b[0m Trial 113 finished with value: 0.7991300433893426 and parameters: {'C': 0.5498415298026564, 'max_iter': 5874}. Best is trial 53 with value: 0.8031990293290452.\u001b[0m\n",
            "\u001b[32m[I 2023-01-22 19:06:06,855]\u001b[0m Trial 114 finished with value: 0.7976369437919695 and parameters: {'C': 0.7739329765489726, 'max_iter': 6189}. Best is trial 53 with value: 0.8031990293290452.\u001b[0m\n",
            "\u001b[32m[I 2023-01-22 19:06:15,194]\u001b[0m Trial 115 finished with value: 0.8031942250843287 and parameters: {'C': 0.10955748206184299, 'max_iter': 6675}. Best is trial 53 with value: 0.8031990293290452.\u001b[0m\n",
            "\u001b[32m[I 2023-01-22 19:06:29,046]\u001b[0m Trial 116 finished with value: 0.7999539033242777 and parameters: {'C': 0.4490428505671679, 'max_iter': 5659}. Best is trial 53 with value: 0.8031990293290452.\u001b[0m\n",
            "\u001b[32m[I 2023-01-22 19:06:47,929]\u001b[0m Trial 117 finished with value: 0.7954727205146231 and parameters: {'C': 1.2613810003952415, 'max_iter': 6687}. Best is trial 53 with value: 0.8031990293290452.\u001b[0m\n",
            "\u001b[32m[I 2023-01-22 19:07:05,344]\u001b[0m Trial 118 finished with value: 0.7973395254570124 and parameters: {'C': 0.8271037710406051, 'max_iter': 6477}. Best is trial 53 with value: 0.8031990293290452.\u001b[0m\n",
            "\u001b[32m[I 2023-01-22 19:07:17,138]\u001b[0m Trial 119 finished with value: 0.8011077227637213 and parameters: {'C': 0.3283428795097437, 'max_iter': 6950}. Best is trial 53 with value: 0.8031990293290452.\u001b[0m\n",
            "\u001b[32m[I 2023-01-22 19:07:31,762]\u001b[0m Trial 120 finished with value: 0.7986058207433513 and parameters: {'C': 0.6208188043248848, 'max_iter': 5991}. Best is trial 53 with value: 0.8031990293290452.\u001b[0m\n",
            "\u001b[32m[I 2023-01-22 19:07:41,589]\u001b[0m Trial 121 finished with value: 0.8030277041010624 and parameters: {'C': 0.1432335293206324, 'max_iter': 4623}. Best is trial 53 with value: 0.8031990293290452.\u001b[0m\n",
            "\u001b[32m[I 2023-01-22 19:07:55,187]\u001b[0m Trial 122 finished with value: 0.7997107551611196 and parameters: {'C': 0.4777194780402175, 'max_iter': 7596}. Best is trial 53 with value: 0.8031990293290452.\u001b[0m\n",
            "\u001b[32m[I 2023-01-22 19:08:03,685]\u001b[0m Trial 123 finished with value: 0.8031802467208884 and parameters: {'C': 0.11527855691127756, 'max_iter': 5378}. Best is trial 53 with value: 0.8031990293290452.\u001b[0m\n",
            "\u001b[32m[I 2023-01-22 19:08:11,220]\u001b[0m Trial 124 finished with value: 0.8031973808137013 and parameters: {'C': 0.10345440626986595, 'max_iter': 4812}. Best is trial 53 with value: 0.8031990293290452.\u001b[0m\n",
            "\u001b[32m[I 2023-01-22 19:08:22,869]\u001b[0m Trial 125 finished with value: 0.8009960685578071 and parameters: {'C': 0.3390682948736563, 'max_iter': 5032}. Best is trial 53 with value: 0.8031990293290452.\u001b[0m\n",
            "\u001b[32m[I 2023-01-22 19:08:37,002]\u001b[0m Trial 126 finished with value: 0.7981134327603352 and parameters: {'C': 0.6943892574523158, 'max_iter': 4128}. Best is trial 53 with value: 0.8031990293290452.\u001b[0m\n",
            "\u001b[32m[I 2023-01-22 19:08:53,221]\u001b[0m Trial 127 finished with value: 0.796768924579345 and parameters: {'C': 0.9412135311279475, 'max_iter': 5775}. Best is trial 53 with value: 0.8031990293290452.\u001b[0m\n",
            "\u001b[32m[I 2023-01-22 19:09:06,722]\u001b[0m Trial 128 finished with value: 0.8001071524506798 and parameters: {'C': 0.4316222513448423, 'max_iter': 6335}. Best is trial 53 with value: 0.8031990293290452.\u001b[0m\n",
            "\u001b[32m[I 2023-01-22 19:09:18,071]\u001b[0m Trial 129 finished with value: 0.8018540292101428 and parameters: {'C': 0.2600002539315901, 'max_iter': 6689}. Best is trial 53 with value: 0.8031990293290452.\u001b[0m\n",
            "\u001b[32m[I 2023-01-22 19:09:45,567]\u001b[0m Trial 130 finished with value: 0.7903804723173348 and parameters: {'C': 4.917903481723039, 'max_iter': 6191}. Best is trial 53 with value: 0.8031990293290452.\u001b[0m\n",
            "\u001b[32m[I 2023-01-22 19:09:55,115]\u001b[0m Trial 131 finished with value: 0.8031253014428057 and parameters: {'C': 0.12843103837280123, 'max_iter': 4767}. Best is trial 53 with value: 0.8031990293290452.\u001b[0m\n",
            "\u001b[32m[I 2023-01-22 19:10:10,878]\u001b[0m Trial 132 finished with value: 0.7991675562718359 and parameters: {'C': 0.5453841713198049, 'max_iter': 4433}. Best is trial 53 with value: 0.8031990293290452.\u001b[0m\n",
            "\u001b[32m[I 2023-01-22 19:10:22,457]\u001b[0m Trial 133 finished with value: 0.8014765505966726 and parameters: {'C': 0.29446501910169665, 'max_iter': 5329}. Best is trial 53 with value: 0.8031990293290452.\u001b[0m\n",
            "\u001b[32m[I 2023-01-22 19:10:32,257]\u001b[0m Trial 134 finished with value: 0.8030287089104149 and parameters: {'C': 0.14310915618830286, 'max_iter': 5578}. Best is trial 53 with value: 0.8031990293290452.\u001b[0m\n",
            "\u001b[32m[I 2023-01-22 19:10:45,826]\u001b[0m Trial 135 finished with value: 0.7981525051906777 and parameters: {'C': 0.688580614159779, 'max_iter': 5064}. Best is trial 53 with value: 0.8031990293290452.\u001b[0m\n",
            "\u001b[32m[I 2023-01-22 19:10:59,305]\u001b[0m Trial 136 finished with value: 0.7997307205136184 and parameters: {'C': 0.475274629133554, 'max_iter': 1536}. Best is trial 53 with value: 0.8031990293290452.\u001b[0m\n",
            "\u001b[32m[I 2023-01-22 19:11:18,815]\u001b[0m Trial 137 finished with value: 0.7960206974817133 and parameters: {'C': 1.1149604229750152, 'max_iter': 2115}. Best is trial 53 with value: 0.8031990293290452.\u001b[0m\n",
            "\u001b[32m[I 2023-01-22 19:11:27,007]\u001b[0m Trial 138 finished with value: 0.8031753273417668 and parameters: {'C': 0.11670182089893727, 'max_iter': 3083}. Best is trial 53 with value: 0.8031990293290452.\u001b[0m\n",
            "\u001b[32m[I 2023-01-22 19:11:45,103]\u001b[0m Trial 139 finished with value: 0.7973100615161033 and parameters: {'C': 0.8337378718856285, 'max_iter': 4843}. Best is trial 53 with value: 0.8031990293290452.\u001b[0m\n",
            "\u001b[32m[I 2023-01-22 19:12:07,305]\u001b[0m Trial 140 finished with value: 0.7927583013161997 and parameters: {'C': 2.4455445776567615, 'max_iter': 7095}. Best is trial 53 with value: 0.8031990293290452.\u001b[0m\n",
            "\u001b[32m[I 2023-01-22 19:12:17,087]\u001b[0m Trial 141 finished with value: 0.803123092955583 and parameters: {'C': 0.12885539331547322, 'max_iter': 5338}. Best is trial 53 with value: 0.8031990293290452.\u001b[0m\n",
            "\u001b[32m[I 2023-01-22 19:12:25,329]\u001b[0m Trial 142 finished with value: 0.8031894627066684 and parameters: {'C': 0.11153781879625882, 'max_iter': 5820}. Best is trial 53 with value: 0.8031990293290452.\u001b[0m\n",
            "\u001b[32m[I 2023-01-22 19:12:37,005]\u001b[0m Trial 143 finished with value: 0.801050909168249 and parameters: {'C': 0.33385373052967443, 'max_iter': 5989}. Best is trial 53 with value: 0.8031990293290452.\u001b[0m\n",
            "\u001b[32m[I 2023-01-22 19:12:49,851]\u001b[0m Trial 144 finished with value: 0.7993591085214198 and parameters: {'C': 0.5200176169494569, 'max_iter': 5857}. Best is trial 53 with value: 0.8031990293290452.\u001b[0m\n",
            "\u001b[32m[I 2023-01-22 19:12:57,009]\u001b[0m Trial 145 finished with value: 0.8031992909981475 and parameters: {'C': 0.10634777191938698, 'max_iter': 5624}. Best is trial 145 with value: 0.8031992909981475.\u001b[0m\n",
            "\u001b[32m[I 2023-01-22 19:13:08,616]\u001b[0m Trial 146 finished with value: 0.8007961271968064 and parameters: {'C': 0.3588165332589094, 'max_iter': 5156}. Best is trial 145 with value: 0.8031992909981475.\u001b[0m\n",
            "\u001b[32m[I 2023-01-22 19:13:22,787]\u001b[0m Trial 147 finished with value: 0.799074051434851 and parameters: {'C': 0.5580381250306133, 'max_iter': 5580}. Best is trial 145 with value: 0.8031992909981475.\u001b[0m\n",
            "\u001b[32m[I 2023-01-22 19:13:34,049]\u001b[0m Trial 148 finished with value: 0.8012688376633359 and parameters: {'C': 0.31366708814711886, 'max_iter': 4562}. Best is trial 145 with value: 0.8031992909981475.\u001b[0m\n",
            "\u001b[32m[I 2023-01-22 19:13:48,231]\u001b[0m Trial 149 finished with value: 0.7982256626382743 and parameters: {'C': 0.6764284348072623, 'max_iter': 3379}. Best is trial 145 with value: 0.8031992909981475.\u001b[0m\n",
            "\u001b[32m[I 2023-01-22 19:14:04,956]\u001b[0m Trial 150 finished with value: 0.7968131414242369 and parameters: {'C': 0.9310458525499653, 'max_iter': 6104}. Best is trial 145 with value: 0.8031992909981475.\u001b[0m\n",
            "\u001b[32m[I 2023-01-22 19:14:14,677]\u001b[0m Trial 151 finished with value: 0.8031359199749736 and parameters: {'C': 0.1261184036698346, 'max_iter': 6497}. Best is trial 145 with value: 0.8031992909981475.\u001b[0m\n",
            "\u001b[32m[I 2023-01-22 19:14:28,688]\u001b[0m Trial 152 finished with value: 0.8005012836858149 and parameters: {'C': 0.3898936628594425, 'max_iter': 5805}. Best is trial 145 with value: 0.8031992909981475.\u001b[0m\n",
            "\u001b[32m[I 2023-01-22 19:14:36,522]\u001b[0m Trial 153 finished with value: 0.8031953083944118 and parameters: {'C': 0.10028016116426304, 'max_iter': 5623}. Best is trial 145 with value: 0.8031992909981475.\u001b[0m\n",
            "\u001b[32m[I 2023-01-22 19:14:46,658]\u001b[0m Trial 154 finished with value: 0.8016465256120879 and parameters: {'C': 0.27964953275388793, 'max_iter': 5495}. Best is trial 145 with value: 0.8031992909981475.\u001b[0m\n",
            "\u001b[32m[I 2023-01-22 19:15:02,457]\u001b[0m Trial 155 finished with value: 0.7992482288560481 and parameters: {'C': 0.5351878328442288, 'max_iter': 4974}. Best is trial 145 with value: 0.8031992909981475.\u001b[0m\n",
            "\u001b[32m[I 2023-01-22 19:15:10,615]\u001b[0m Trial 156 finished with value: 0.8031963917044951 and parameters: {'C': 0.10704849658534721, 'max_iter': 5224}. Best is trial 145 with value: 0.8031992909981475.\u001b[0m\n",
            "\u001b[32m[I 2023-01-22 19:15:31,814]\u001b[0m Trial 157 finished with value: 0.792394120726504 and parameters: {'C': 2.6857071448757712, 'max_iter': 5322}. Best is trial 145 with value: 0.8031992909981475.\u001b[0m\n",
            "\u001b[32m[I 2023-01-22 19:15:46,995]\u001b[0m Trial 158 finished with value: 0.797690078319865 and parameters: {'C': 0.7669682038351725, 'max_iter': 5690}. Best is trial 145 with value: 0.8031992909981475.\u001b[0m\n",
            "\u001b[32m[I 2023-01-22 19:15:58,803]\u001b[0m Trial 159 finished with value: 0.8010250196272761 and parameters: {'C': 0.33646714334323957, 'max_iter': 6230}. Best is trial 145 with value: 0.8031992909981475.\u001b[0m\n",
            "\u001b[32m[I 2023-01-22 19:16:12,157]\u001b[0m Trial 160 finished with value: 0.7994976361441312 and parameters: {'C': 0.5028214219136926, 'max_iter': 5505}. Best is trial 145 with value: 0.8031992909981475.\u001b[0m\n",
            "\u001b[32m[I 2023-01-22 19:16:21,991]\u001b[0m Trial 161 finished with value: 0.8031179642411798 and parameters: {'C': 0.12994098140430657, 'max_iter': 4730}. Best is trial 145 with value: 0.8031992909981475.\u001b[0m\n",
            "\u001b[32m[I 2023-01-22 19:16:32,640]\u001b[0m Trial 162 finished with value: 0.8012364534952461 and parameters: {'C': 0.3168830535264666, 'max_iter': 5147}. Best is trial 145 with value: 0.8031992909981475.\u001b[0m\n",
            "\u001b[32m[I 2023-01-22 19:16:40,691]\u001b[0m Trial 163 finished with value: 0.8031730769874877 and parameters: {'C': 0.11749657828934408, 'max_iter': 4322}. Best is trial 145 with value: 0.8031992909981475.\u001b[0m\n",
            "\u001b[32m[I 2023-01-22 19:16:55,298]\u001b[0m Trial 164 finished with value: 0.7986399947281002 and parameters: {'C': 0.6161683915861226, 'max_iter': 4835}. Best is trial 145 with value: 0.8031992909981475.\u001b[0m\n",
            "\u001b[32m[I 2023-01-22 19:17:03,459]\u001b[0m Trial 165 finished with value: 0.8031965330058102 and parameters: {'C': 0.10161761345769663, 'max_iter': 5997}. Best is trial 145 with value: 0.8031992909981475.\u001b[0m\n",
            "\u001b[32m[I 2023-01-22 19:17:24,567]\u001b[0m Trial 166 finished with value: 0.7919672023528616 and parameters: {'C': 3.0174799076823065, 'max_iter': 6015}. Best is trial 145 with value: 0.8031992909981475.\u001b[0m\n",
            "\u001b[32m[I 2023-01-22 19:17:38,081]\u001b[0m Trial 167 finished with value: 0.800350656483817 and parameters: {'C': 0.405365738988107, 'max_iter': 6362}. Best is trial 145 with value: 0.8031992909981475.\u001b[0m\n",
            "\u001b[32m[I 2023-01-22 19:18:00,909]\u001b[0m Trial 168 finished with value: 0.7914783730696356 and parameters: {'C': 3.471314677314311, 'max_iter': 5635}. Best is trial 145 with value: 0.8031992909981475.\u001b[0m\n",
            "\u001b[32m[I 2023-01-22 19:18:12,527]\u001b[0m Trial 169 finished with value: 0.8013739082746385 and parameters: {'C': 0.30393353469284823, 'max_iter': 6810}. Best is trial 145 with value: 0.8031992909981475.\u001b[0m\n",
            "\u001b[32m[I 2023-01-22 19:18:26,877]\u001b[0m Trial 170 finished with value: 0.798515932173359 and parameters: {'C': 0.6336996521185773, 'max_iter': 5253}. Best is trial 145 with value: 0.8031992909981475.\u001b[0m\n",
            "\u001b[32m[I 2023-01-22 19:18:35,483]\u001b[0m Trial 171 finished with value: 0.8031970668107786 and parameters: {'C': 0.10136387264195591, 'max_iter': 5026}. Best is trial 145 with value: 0.8031992909981475.\u001b[0m\n",
            "\u001b[32m[I 2023-01-22 19:18:45,480]\u001b[0m Trial 172 finished with value: 0.8015784497784563 and parameters: {'C': 0.2850343122403075, 'max_iter': 5014}. Best is trial 145 with value: 0.8031992909981475.\u001b[0m\n",
            "\u001b[32m[I 2023-01-22 19:18:59,008]\u001b[0m Trial 173 finished with value: 0.7998486129109293 and parameters: {'C': 0.4612401785534828, 'max_iter': 5431}. Best is trial 145 with value: 0.8031992909981475.\u001b[0m\n",
            "\u001b[32m[I 2023-01-22 19:19:07,965]\u001b[0m Trial 174 finished with value: 0.8031976529495676 and parameters: {'C': 0.10812023968109191, 'max_iter': 5927}. Best is trial 145 with value: 0.8031992909981475.\u001b[0m\n",
            "\u001b[32m[I 2023-01-22 19:19:14,923]\u001b[0m Trial 175 finished with value: 0.8031953711949964 and parameters: {'C': 0.10483416209065247, 'max_iter': 5918}. Best is trial 145 with value: 0.8031992909981475.\u001b[0m\n",
            "\u001b[32m[I 2023-01-22 19:19:23,145]\u001b[0m Trial 176 finished with value: 0.803197108677835 and parameters: {'C': 0.10822092953196452, 'max_iter': 5737}. Best is trial 145 with value: 0.8031992909981475.\u001b[0m\n",
            "\u001b[32m[I 2023-01-22 19:19:36,479]\u001b[0m Trial 177 finished with value: 0.7998145959276416 and parameters: {'C': 0.46534669705875426, 'max_iter': 5881}. Best is trial 145 with value: 0.8031992909981475.\u001b[0m\n",
            "\u001b[32m[I 2023-01-22 19:19:51,842]\u001b[0m Trial 178 finished with value: 0.7979142188394386 and parameters: {'C': 0.7284120003130684, 'max_iter': 6090}. Best is trial 145 with value: 0.8031992909981475.\u001b[0m\n",
            "\u001b[32m[I 2023-01-22 19:20:02,081]\u001b[0m Trial 179 finished with value: 0.8012196334053558 and parameters: {'C': 0.31879377378585444, 'max_iter': 5193}. Best is trial 145 with value: 0.8031992909981475.\u001b[0m\n",
            "\u001b[32m[I 2023-01-22 19:20:13,859]\u001b[0m Trial 180 finished with value: 0.8015109443834674 and parameters: {'C': 0.29139883699990177, 'max_iter': 5703}. Best is trial 145 with value: 0.8031992909981475.\u001b[0m\n",
            "\u001b[32m[I 2023-01-22 19:20:22,250]\u001b[0m Trial 181 finished with value: 0.8031785197048138 and parameters: {'C': 0.11612006387734407, 'max_iter': 5582}. Best is trial 145 with value: 0.8031992909981475.\u001b[0m\n",
            "\u001b[32m[I 2023-01-22 19:20:31,158]\u001b[0m Trial 182 finished with value: 0.8031984274901101 and parameters: {'C': 0.10405386781118312, 'max_iter': 5380}. Best is trial 145 with value: 0.8031992909981475.\u001b[0m\n",
            "\u001b[32m[I 2023-01-22 19:20:48,475]\u001b[0m Trial 183 finished with value: 0.7939647685790088 and parameters: {'C': 1.8139896597750091, 'max_iter': 5254}. Best is trial 145 with value: 0.8031992909981475.\u001b[0m\n",
            "\u001b[32m[I 2023-01-22 19:21:22,507]\u001b[0m Trial 184 finished with value: 0.7893480778080821 and parameters: {'C': 7.130731444823921, 'max_iter': 2782}. Best is trial 145 with value: 0.8031992909981475.\u001b[0m\n",
            "\u001b[32m[I 2023-01-22 19:21:35,306]\u001b[0m Trial 185 finished with value: 0.7996111115669968 and parameters: {'C': 0.48934137234949127, 'max_iter': 5416}. Best is trial 145 with value: 0.8031992909981475.\u001b[0m\n",
            "\u001b[32m[I 2023-01-22 19:21:46,699]\u001b[0m Trial 186 finished with value: 0.8014434180549503 and parameters: {'C': 0.29774251120267925, 'max_iter': 5879}. Best is trial 145 with value: 0.8031992909981475.\u001b[0m\n",
            "\u001b[32m[I 2023-01-22 19:21:59,040]\u001b[0m Trial 187 finished with value: 0.7992695444211143 and parameters: {'C': 0.5329023695367943, 'max_iter': 4935}. Best is trial 145 with value: 0.8031992909981475.\u001b[0m\n",
            "\u001b[32m[I 2023-01-22 19:22:22,293]\u001b[0m Trial 188 finished with value: 0.7935884046759138 and parameters: {'C': 1.9793818758327384, 'max_iter': 6289}. Best is trial 145 with value: 0.8031992909981475.\u001b[0m\n",
            "\u001b[32m[I 2023-01-22 19:22:33,450]\u001b[0m Trial 189 finished with value: 0.8017300974899527 and parameters: {'C': 0.27143213935754473, 'max_iter': 5746}. Best is trial 145 with value: 0.8031992909981475.\u001b[0m\n",
            "\u001b[32m[I 2023-01-22 19:22:40,936]\u001b[0m Trial 190 finished with value: 0.8031975273483986 and parameters: {'C': 0.10040324025712635, 'max_iter': 5370}. Best is trial 145 with value: 0.8031992909981475.\u001b[0m\n",
            "\u001b[32m[I 2023-01-22 19:22:49,348]\u001b[0m Trial 191 finished with value: 0.8031794355466715 and parameters: {'C': 0.11577170145626095, 'max_iter': 5324}. Best is trial 145 with value: 0.8031992909981475.\u001b[0m\n",
            "\u001b[32m[I 2023-01-22 19:22:56,161]\u001b[0m Trial 192 finished with value: 0.8031975168816345 and parameters: {'C': 0.10283401736509895, 'max_iter': 5125}. Best is trial 145 with value: 0.8031992909981475.\u001b[0m\n",
            "\u001b[32m[I 2023-01-22 19:23:07,045]\u001b[0m Trial 193 finished with value: 0.8005730333536416 and parameters: {'C': 0.38226095685053413, 'max_iter': 5060}. Best is trial 145 with value: 0.8031992909981475.\u001b[0m\n",
            "\u001b[32m[I 2023-01-22 19:23:18,814]\u001b[0m Trial 194 finished with value: 0.8014332862273128 and parameters: {'C': 0.29857609987390216, 'max_iter': 4720}. Best is trial 145 with value: 0.8031992909981475.\u001b[0m\n",
            "\u001b[32m[I 2023-01-22 19:23:39,873]\u001b[0m Trial 195 finished with value: 0.7909313956785159 and parameters: {'C': 4.111863672434298, 'max_iter': 5456}. Best is trial 145 with value: 0.8031992909981475.\u001b[0m\n",
            "\u001b[32m[I 2023-01-22 19:23:54,034]\u001b[0m Trial 196 finished with value: 0.7982549852778682 and parameters: {'C': 0.6718843792370233, 'max_iter': 5122}. Best is trial 145 with value: 0.8031992909981475.\u001b[0m\n",
            "\u001b[32m[I 2023-01-22 19:24:07,581]\u001b[0m Trial 197 finished with value: 0.7997208241881726 and parameters: {'C': 0.47636003732310916, 'max_iter': 4907}. Best is trial 145 with value: 0.8031992909981475.\u001b[0m\n",
            "\u001b[32m[I 2023-01-22 19:24:15,766]\u001b[0m Trial 198 finished with value: 0.8031955281964576 and parameters: {'C': 0.10579162331255293, 'max_iter': 5561}. Best is trial 145 with value: 0.8031992909981475.\u001b[0m\n",
            "\u001b[32m[I 2023-01-22 19:24:27,475]\u001b[0m Trial 199 finished with value: 0.8009005331685893 and parameters: {'C': 0.34864914831178173, 'max_iter': 5496}. Best is trial 145 with value: 0.8031992909981475.\u001b[0m\n",
            "\u001b[32m[I 2023-01-22 19:24:34,897]\u001b[0m Trial 200 finished with value: 0.803197344180027 and parameters: {'C': 0.10190988512393816, 'max_iter': 5671}. Best is trial 145 with value: 0.8031992909981475.\u001b[0m\n",
            "\u001b[32m[I 2023-01-22 19:24:43,044]\u001b[0m Trial 201 finished with value: 0.8031782057018911 and parameters: {'C': 0.11552083369722381, 'max_iter': 5674}. Best is trial 145 with value: 0.8031992909981475.\u001b[0m\n",
            "\u001b[32m[I 2023-01-22 19:24:53,082]\u001b[0m Trial 202 finished with value: 0.8015593531673768 and parameters: {'C': 0.286797663463635, 'max_iter': 5204}. Best is trial 145 with value: 0.8031992909981475.\u001b[0m\n",
            "\u001b[32m[I 2023-01-22 19:25:05,758]\u001b[0m Trial 203 finished with value: 0.7993293672112622 and parameters: {'C': 0.524813779725511, 'max_iter': 5372}. Best is trial 145 with value: 0.8031992909981475.\u001b[0m\n",
            "\u001b[32m[I 2023-01-22 19:25:14,126]\u001b[0m Trial 204 finished with value: 0.8031969778432839 and parameters: {'C': 0.10821300295353588, 'max_iter': 6121}. Best is trial 145 with value: 0.8031992909981475.\u001b[0m\n",
            "\u001b[32m[I 2023-01-22 19:25:25,916]\u001b[0m Trial 205 finished with value: 0.8013756405240953 and parameters: {'C': 0.30370322499929303, 'max_iter': 6047}. Best is trial 145 with value: 0.8031992909981475.\u001b[0m\n",
            "\u001b[32m[I 2023-01-22 19:25:32,884]\u001b[0m Trial 206 finished with value: 0.8031948373900278 and parameters: {'C': 0.1082617088083841, 'max_iter': 6186}. Best is trial 145 with value: 0.8031992909981475.\u001b[0m\n",
            "\u001b[32m[I 2023-01-22 19:25:49,824]\u001b[0m Trial 207 finished with value: 0.7971304937114007 and parameters: {'C': 0.8669857069890279, 'max_iter': 5798}. Best is trial 145 with value: 0.8031992909981475.\u001b[0m\n",
            "\u001b[32m[I 2023-01-22 19:26:03,050]\u001b[0m Trial 208 finished with value: 0.799709996320723 and parameters: {'C': 0.47751583532403663, 'max_iter': 4996}. Best is trial 145 with value: 0.8031992909981475.\u001b[0m\n",
            "\u001b[32m[I 2023-01-22 19:26:19,168]\u001b[0m Trial 209 finished with value: 0.7980901599103845 and parameters: {'C': 0.7003665581324771, 'max_iter': 6408}. Best is trial 145 with value: 0.8031992909981475.\u001b[0m\n",
            "\u001b[32m[I 2023-01-22 19:26:30,769]\u001b[0m Trial 210 finished with value: 0.8013416601744818 and parameters: {'C': 0.3068142695659247, 'max_iter': 5979}. Best is trial 145 with value: 0.8031992909981475.\u001b[0m\n",
            "\u001b[32m[I 2023-01-22 19:26:37,965]\u001b[0m Trial 211 finished with value: 0.8032011540821552 and parameters: {'C': 0.10834540601334458, 'max_iter': 5585}. Best is trial 211 with value: 0.8032011540821552.\u001b[0m\n",
            "\u001b[32m[I 2023-01-22 19:26:46,430]\u001b[0m Trial 212 finished with value: 0.8031967999082944 and parameters: {'C': 0.10768597378126377, 'max_iter': 5690}. Best is trial 211 with value: 0.8032011540821552.\u001b[0m\n",
            "\u001b[32m[I 2023-01-22 19:27:16,128]\u001b[0m Trial 213 finished with value: 0.7886768860941418 and parameters: {'C': 9.335968481539032, 'max_iter': 5731}. Best is trial 211 with value: 0.8032011540821552.\u001b[0m\n",
            "\u001b[32m[I 2023-01-22 19:27:27,306]\u001b[0m Trial 214 finished with value: 0.8012582034310219 and parameters: {'C': 0.3145373533364009, 'max_iter': 5237}. Best is trial 211 with value: 0.8032011540821552.\u001b[0m\n",
            "\u001b[32m[I 2023-01-22 19:27:34,872]\u001b[0m Trial 215 finished with value: 0.8031955124963115 and parameters: {'C': 0.10136679449288556, 'max_iter': 5555}. Best is trial 211 with value: 0.8032011540821552.\u001b[0m\n",
            "\u001b[32m[I 2023-01-22 19:27:48,715]\u001b[0m Trial 216 finished with value: 0.7999370047336568 and parameters: {'C': 0.45103612115040226, 'max_iter': 6175}. Best is trial 211 with value: 0.8032011540821552.\u001b[0m\n",
            "\u001b[32m[I 2023-01-22 19:27:58,828]\u001b[0m Trial 217 finished with value: 0.8016658524919774 and parameters: {'C': 0.27745554316322685, 'max_iter': 5377}. Best is trial 211 with value: 0.8032011540821552.\u001b[0m\n",
            "\u001b[32m[I 2023-01-22 19:28:16,027]\u001b[0m Trial 218 finished with value: 0.7943093239860385 and parameters: {'C': 1.656875446767069, 'max_iter': 5826}. Best is trial 211 with value: 0.8032011540821552.\u001b[0m\n",
            "\u001b[32m[I 2023-01-22 19:28:30,765]\u001b[0m Trial 219 finished with value: 0.7987425899496958 and parameters: {'C': 0.601363207452334, 'max_iter': 4778}. Best is trial 211 with value: 0.8032011540821552.\u001b[0m\n",
            "\u001b[32m[I 2023-01-22 19:28:51,590]\u001b[0m Trial 220 finished with value: 0.7928485719230811 and parameters: {'C': 2.3810188643700507, 'max_iter': 5126}. Best is trial 211 with value: 0.8032011540821552.\u001b[0m\n",
            "\u001b[32m[I 2023-01-22 19:29:02,587]\u001b[0m Trial 221 finished with value: 0.8017506594480046 and parameters: {'C': 0.26949803379808435, 'max_iter': 5649}. Best is trial 211 with value: 0.8032011540821552.\u001b[0m\n",
            "\u001b[32m[I 2023-01-22 19:29:09,434]\u001b[0m Trial 222 finished with value: 0.8031990397958093 and parameters: {'C': 0.10248256429919181, 'max_iter': 5441}. Best is trial 211 with value: 0.8032011540821552.\u001b[0m\n",
            "\u001b[32m[I 2023-01-22 19:29:17,617]\u001b[0m Trial 223 finished with value: 0.8031649757120832 and parameters: {'C': 0.11937483493805287, 'max_iter': 5400}. Best is trial 211 with value: 0.8032011540821552.\u001b[0m\n",
            "\u001b[32m[I 2023-01-22 19:29:27,496]\u001b[0m Trial 224 finished with value: 0.8014433029205454 and parameters: {'C': 0.29835723447759854, 'max_iter': 595}. Best is trial 211 with value: 0.8032011540821552.\u001b[0m\n",
            "\u001b[32m[I 2023-01-22 19:29:41,009]\u001b[0m Trial 225 finished with value: 0.8000395109877577 and parameters: {'C': 0.43908254482677744, 'max_iter': 5975}. Best is trial 211 with value: 0.8032011540821552.\u001b[0m\n",
            "\u001b[32m[I 2023-01-22 19:29:58,614]\u001b[0m Trial 226 finished with value: 0.7946481174394376 and parameters: {'C': 1.5290993502027954, 'max_iter': 5334}. Best is trial 211 with value: 0.8032011540821552.\u001b[0m\n",
            "\u001b[32m[I 2023-01-22 19:30:06,780]\u001b[0m Trial 227 finished with value: 0.8031606058380764 and parameters: {'C': 0.12024036393374077, 'max_iter': 5742}. Best is trial 211 with value: 0.8032011540821552.\u001b[0m\n",
            "\u001b[32m[I 2023-01-22 19:30:14,255]\u001b[0m Trial 228 finished with value: 0.8031989717618429 and parameters: {'C': 0.10079510411354137, 'max_iter': 9394}. Best is trial 211 with value: 0.8032011540821552.\u001b[0m\n",
            "\u001b[32m[I 2023-01-22 19:30:27,181]\u001b[0m Trial 229 finished with value: 0.799510159627363 and parameters: {'C': 0.5012063432701368, 'max_iter': 5887}. Best is trial 211 with value: 0.8032011540821552.\u001b[0m\n",
            "\u001b[32m[I 2023-01-22 19:30:37,255]\u001b[0m Trial 230 finished with value: 0.8015234050661149 and parameters: {'C': 0.29023376383369126, 'max_iter': 4491}. Best is trial 211 with value: 0.8032011540821552.\u001b[0m\n",
            "\u001b[32m[I 2023-01-22 19:30:44,179]\u001b[0m Trial 231 finished with value: 0.8031975273483984 and parameters: {'C': 0.10302646128676624, 'max_iter': 5512}. Best is trial 211 with value: 0.8032011540821552.\u001b[0m\n",
            "\u001b[32m[I 2023-01-22 19:30:52,435]\u001b[0m Trial 232 finished with value: 0.803183983355668 and parameters: {'C': 0.11360699151894517, 'max_iter': 5537}. Best is trial 211 with value: 0.8032011540821552.\u001b[0m\n",
            "\u001b[32m[I 2023-01-22 19:30:59,385]\u001b[0m Trial 233 finished with value: 0.8031968103750584 and parameters: {'C': 0.10379661479478443, 'max_iter': 8851}. Best is trial 211 with value: 0.8032011540821552.\u001b[0m\n",
            "\u001b[32m[I 2023-01-22 19:31:10,958]\u001b[0m Trial 234 finished with value: 0.801313551679522 and parameters: {'C': 0.30946205265611954, 'max_iter': 9322}. Best is trial 211 with value: 0.8032011540821552.\u001b[0m\n",
            "\u001b[32m[I 2023-01-22 19:31:22,572]\u001b[0m Trial 235 finished with value: 0.8013749601844294 and parameters: {'C': 0.3038008967013559, 'max_iter': 9838}. Best is trial 211 with value: 0.8032011540821552.\u001b[0m\n",
            "\u001b[32m[I 2023-01-22 19:31:31,601]\u001b[0m Trial 236 finished with value: 0.8031926027358949 and parameters: {'C': 0.11009390926143124, 'max_iter': 8769}. Best is trial 211 with value: 0.8032011540821552.\u001b[0m\n",
            "\u001b[32m[I 2023-01-22 19:31:53,874]\u001b[0m Trial 237 finished with value: 0.7925271951651254 and parameters: {'C': 2.5999539192386725, 'max_iter': 9290}. Best is trial 211 with value: 0.8032011540821552.\u001b[0m\n",
            "\u001b[32m[I 2023-01-22 19:32:07,491]\u001b[0m Trial 238 finished with value: 0.7999063789819338 and parameters: {'C': 0.45451701596510086, 'max_iter': 4962}. Best is trial 211 with value: 0.8032011540821552.\u001b[0m\n",
            "\u001b[32m[I 2023-01-22 19:32:21,798]\u001b[0m Trial 239 finished with value: 0.7986155077335151 and parameters: {'C': 0.6193979731258448, 'max_iter': 5525}. Best is trial 211 with value: 0.8032011540821552.\u001b[0m\n",
            "\u001b[32m[I 2023-01-22 19:32:31,717]\u001b[0m Trial 240 finished with value: 0.8016455679031739 and parameters: {'C': 0.2793613303935764, 'max_iter': 9513}. Best is trial 211 with value: 0.8032011540821552.\u001b[0m\n",
            "\u001b[32m[I 2023-01-22 19:32:39,902]\u001b[0m Trial 241 finished with value: 0.8031781638348348 and parameters: {'C': 0.11588223056100863, 'max_iter': 5711}. Best is trial 211 with value: 0.8032011540821552.\u001b[0m\n",
            "\u001b[32m[I 2023-01-22 19:32:46,727]\u001b[0m Trial 242 finished with value: 0.8031948112231175 and parameters: {'C': 0.10868377618417675, 'max_iter': 8379}. Best is trial 211 with value: 0.8032011540821552.\u001b[0m\n",
            "\u001b[32m[I 2023-01-22 19:33:00,590]\u001b[0m Trial 243 finished with value: 0.8005142624732846 and parameters: {'C': 0.3886398694380928, 'max_iter': 8930}. Best is trial 211 with value: 0.8032011540821552.\u001b[0m\n",
            "\u001b[32m[I 2023-01-22 19:33:08,349]\u001b[0m Trial 244 finished with value: 0.8031962818034721 and parameters: {'C': 0.10188767116801119, 'max_iter': 7966}. Best is trial 211 with value: 0.8032011540821552.\u001b[0m\n",
            "\u001b[32m[I 2023-01-22 19:33:32,126]\u001b[0m Trial 245 finished with value: 0.7934904828644838 and parameters: {'C': 2.0292179814892024, 'max_iter': 7937}. Best is trial 211 with value: 0.8032011540821552.\u001b[0m\n",
            "\u001b[32m[I 2023-01-22 19:33:43,647]\u001b[0m Trial 246 finished with value: 0.8013222390937156 and parameters: {'C': 0.308681800327241, 'max_iter': 7713}. Best is trial 211 with value: 0.8032011540821552.\u001b[0m\n",
            "\u001b[32m[I 2023-01-22 19:33:50,717]\u001b[0m Trial 247 finished with value: 0.8031979564857263 and parameters: {'C': 0.10850231139726814, 'max_iter': 8104}. Best is trial 211 with value: 0.8032011540821552.\u001b[0m\n",
            "\u001b[32m[I 2023-01-22 19:34:05,721]\u001b[0m Trial 248 finished with value: 0.7996373360444207 and parameters: {'C': 0.4870580693157397, 'max_iter': 9673}. Best is trial 211 with value: 0.8032011540821552.\u001b[0m\n",
            "\u001b[32m[I 2023-01-22 19:34:27,941]\u001b[0m Trial 249 finished with value: 0.7905135676894844 and parameters: {'C': 4.682602822439302, 'max_iter': 9149}. Best is trial 211 with value: 0.8032011540821552.\u001b[0m\n",
            "\u001b[32m[I 2023-01-22 19:34:40,466]\u001b[0m Trial 250 finished with value: 0.801480732068926 and parameters: {'C': 0.29408769643946936, 'max_iter': 9446}. Best is trial 211 with value: 0.8032011540821552.\u001b[0m\n",
            "\u001b[32m[I 2023-01-22 19:34:48,662]\u001b[0m Trial 251 finished with value: 0.8031970563440145 and parameters: {'C': 0.1026375755330542, 'max_iter': 5181}. Best is trial 211 with value: 0.8032011540821552.\u001b[0m\n",
            "\u001b[32m[I 2023-01-22 19:35:11,306]\u001b[0m Trial 252 finished with value: 0.7914836954191746 and parameters: {'C': 3.4666501988039444, 'max_iter': 8793}. Best is trial 211 with value: 0.8032011540821552.\u001b[0m\n",
            "\u001b[32m[I 2023-01-22 19:35:35,946]\u001b[0m Trial 253 finished with value: 0.7900333002192829 and parameters: {'C': 5.557655286288803, 'max_iter': 8561}. Best is trial 211 with value: 0.8032011540821552.\u001b[0m\n",
            "\u001b[32m[I 2023-01-22 19:35:47,337]\u001b[0m Trial 254 finished with value: 0.7997522244804383 and parameters: {'C': 0.47363508235137086, 'max_iter': 4587}. Best is trial 211 with value: 0.8032011540821552.\u001b[0m\n",
            "\u001b[32m[I 2023-01-22 19:35:58,630]\u001b[0m Trial 255 finished with value: 0.8015020790342844 and parameters: {'C': 0.29227923719636284, 'max_iter': 8163}. Best is trial 211 with value: 0.8032011540821552.\u001b[0m\n",
            "\u001b[32m[I 2023-01-22 19:36:05,615]\u001b[0m Trial 256 finished with value: 0.8031962713367079 and parameters: {'C': 0.1044763925712988, 'max_iter': 5120}. Best is trial 211 with value: 0.8032011540821552.\u001b[0m\n",
            "\u001b[32m[I 2023-01-22 19:36:19,561]\u001b[0m Trial 257 finished with value: 0.7984111703315973 and parameters: {'C': 0.6483977039563751, 'max_iter': 4817}. Best is trial 211 with value: 0.8032011540821552.\u001b[0m\n",
            "\u001b[32m[I 2023-01-22 19:36:30,363]\u001b[0m Trial 258 finished with value: 0.8004721442145923 and parameters: {'C': 0.3937930894717548, 'max_iter': 5273}. Best is trial 211 with value: 0.8032011540821552.\u001b[0m\n",
            "\u001b[32m[I 2023-01-22 19:36:52,113]\u001b[0m Trial 259 finished with value: 0.7928347924281587 and parameters: {'C': 2.3934885515358353, 'max_iter': 5004}. Best is trial 211 with value: 0.8032011540821552.\u001b[0m\n",
            "\u001b[32m[I 2023-01-22 19:37:01,748]\u001b[0m Trial 260 finished with value: 0.8015666851356209 and parameters: {'C': 0.2858710903065027, 'max_iter': 5375}. Best is trial 211 with value: 0.8032011540821552.\u001b[0m\n",
            "\u001b[32m[I 2023-01-22 19:37:17,667]\u001b[0m Trial 261 finished with value: 0.7992722971800695 and parameters: {'C': 0.5320633302354412, 'max_iter': 6032}. Best is trial 211 with value: 0.8032011540821552.\u001b[0m\n",
            "\u001b[32m[I 2023-01-22 19:37:28,715]\u001b[0m Trial 262 finished with value: 0.8017539669454566 and parameters: {'C': 0.2692273656205762, 'max_iter': 5173}. Best is trial 211 with value: 0.8032011540821552.\u001b[0m\n",
            "\u001b[32m[I 2023-01-22 19:37:35,583]\u001b[0m Trial 263 finished with value: 0.8031953973619066 and parameters: {'C': 0.10396762849228051, 'max_iter': 5842}. Best is trial 211 with value: 0.8032011540821552.\u001b[0m\n",
            "\u001b[32m[I 2023-01-22 19:37:53,029]\u001b[0m Trial 264 finished with value: 0.7974649853247593 and parameters: {'C': 0.8050099483440653, 'max_iter': 9946}. Best is trial 211 with value: 0.8032011540821552.\u001b[0m\n",
            "\u001b[32m[I 2023-01-22 19:38:14,424]\u001b[0m Trial 265 finished with value: 0.792012785110467 and parameters: {'C': 2.9862365470573726, 'max_iter': 5500}. Best is trial 211 with value: 0.8032011540821552.\u001b[0m\n",
            "\u001b[32m[I 2023-01-22 19:38:21,777]\u001b[0m Trial 266 finished with value: 0.8031970772775429 and parameters: {'C': 0.10212171078741009, 'max_iter': 4202}. Best is trial 211 with value: 0.8032011540821552.\u001b[0m\n",
            "\u001b[32m[I 2023-01-22 19:38:43,651]\u001b[0m Trial 267 finished with value: 0.7931053635132288 and parameters: {'C': 2.234162138013845, 'max_iter': 3938}. Best is trial 211 with value: 0.8032011540821552.\u001b[0m\n",
            "\u001b[32m[I 2023-01-22 19:39:01,735]\u001b[0m Trial 268 finished with value: 0.7949886902427318 and parameters: {'C': 1.4080843383088957, 'max_iter': 5658}. Best is trial 211 with value: 0.8032011540821552.\u001b[0m\n",
            "\u001b[32m[I 2023-01-22 19:39:15,400]\u001b[0m Trial 269 finished with value: 0.7999994389814448 and parameters: {'C': 0.443680564469709, 'max_iter': 4258}. Best is trial 211 with value: 0.8032011540821552.\u001b[0m\n",
            "\u001b[32m[I 2023-01-22 19:39:25,470]\u001b[0m Trial 270 finished with value: 0.8016739851676743 and parameters: {'C': 0.2767310496310546, 'max_iter': 4162}. Best is trial 211 with value: 0.8032011540821552.\u001b[0m\n",
            "\u001b[32m[I 2023-01-22 19:39:33,416]\u001b[0m Trial 271 finished with value: 0.8031960620014262 and parameters: {'C': 0.10480340599190978, 'max_iter': 3749}. Best is trial 211 with value: 0.8032011540821552.\u001b[0m\n",
            "\u001b[32m[I 2023-01-22 19:39:48,729]\u001b[0m Trial 272 finished with value: 0.7989058348358026 and parameters: {'C': 0.5795036996955317, 'max_iter': 6151}. Best is trial 211 with value: 0.8032011540821552.\u001b[0m\n",
            "\u001b[32m[I 2023-01-22 19:40:00,344]\u001b[0m Trial 273 finished with value: 0.8014978399948286 and parameters: {'C': 0.29250162278819586, 'max_iter': 9119}. Best is trial 211 with value: 0.8032011540821552.\u001b[0m\n",
            "\u001b[32m[I 2023-01-22 19:40:22,386]\u001b[0m Trial 274 finished with value: 0.7910640933136301 and parameters: {'C': 3.9156414162222415, 'max_iter': 8555}. Best is trial 211 with value: 0.8032011540821552.\u001b[0m\n",
            "\u001b[32m[I 2023-01-22 19:40:35,857]\u001b[0m Trial 275 finished with value: 0.7999963094189824 and parameters: {'C': 0.44393052041856274, 'max_iter': 5847}. Best is trial 211 with value: 0.8032011540821552.\u001b[0m\n",
            "\u001b[32m[I 2023-01-22 19:40:57,202]\u001b[0m Trial 276 finished with value: 0.7917051512137595 and parameters: {'C': 3.251076310622862, 'max_iter': 4483}. Best is trial 211 with value: 0.8032011540821552.\u001b[0m\n",
            "\u001b[32m[I 2023-01-22 19:41:05,073]\u001b[0m Trial 277 finished with value: 0.803194863556938 and parameters: {'C': 0.10172505853116066, 'max_iter': 5390}. Best is trial 211 with value: 0.8032011540821552.\u001b[0m\n",
            "\u001b[32m[I 2023-01-22 19:41:33,673]\u001b[0m Trial 278 finished with value: 0.7895333604659771 and parameters: {'C': 6.628206126170398, 'max_iter': 5650}. Best is trial 211 with value: 0.8032011540821552.\u001b[0m\n",
            "\u001b[32m[I 2023-01-22 19:41:54,035]\u001b[0m Trial 279 finished with value: 0.7925296967217426 and parameters: {'C': 2.6060158101973214, 'max_iter': 6035}. Best is trial 211 with value: 0.8032011540821552.\u001b[0m\n",
            "\u001b[32m[I 2023-01-22 19:42:08,162]\u001b[0m Trial 280 finished with value: 0.7981225336117101 and parameters: {'C': 0.6931965835808694, 'max_iter': 4702}. Best is trial 211 with value: 0.8032011540821552.\u001b[0m\n",
            "\u001b[32m[I 2023-01-22 19:42:19,702]\u001b[0m Trial 281 finished with value: 0.8015632363368536 and parameters: {'C': 0.2863145116712931, 'max_iter': 5292}. Best is trial 211 with value: 0.8032011540821552.\u001b[0m\n",
            "\u001b[32m[I 2023-01-22 19:42:35,581]\u001b[0m Trial 282 finished with value: 0.7966810979618781 and parameters: {'C': 0.9577065985147478, 'max_iter': 5500}. Best is trial 211 with value: 0.8032011540821552.\u001b[0m\n",
            "\u001b[32m[I 2023-01-22 19:42:48,751]\u001b[0m Trial 283 finished with value: 0.7998682119266851 and parameters: {'C': 0.45884230481087646, 'max_iter': 5124}. Best is trial 211 with value: 0.8032011540821552.\u001b[0m\n",
            "\u001b[32m[I 2023-01-22 19:42:59,930]\u001b[0m Trial 284 finished with value: 0.8017029833375814 and parameters: {'C': 0.273842389099226, 'max_iter': 6305}. Best is trial 211 with value: 0.8032011540821552.\u001b[0m\n",
            "\u001b[32m[I 2023-01-22 19:43:07,191]\u001b[0m Trial 285 finished with value: 0.8031986106584816 and parameters: {'C': 0.10089079493266602, 'max_iter': 5791}. Best is trial 211 with value: 0.8032011540821552.\u001b[0m\n",
            "\u001b[32m[I 2023-01-22 19:43:28,164]\u001b[0m Trial 286 finished with value: 0.7921694935024004 and parameters: {'C': 2.852508635975939, 'max_iter': 5850}. Best is trial 211 with value: 0.8032011540821552.\u001b[0m\n",
            "\u001b[32m[I 2023-01-22 19:43:35,469]\u001b[0m Trial 287 finished with value: 0.8031987781267071 and parameters: {'C': 0.1010171431757238, 'max_iter': 5722}. Best is trial 211 with value: 0.8032011540821552.\u001b[0m\n",
            "\u001b[32m[I 2023-01-22 19:43:49,292]\u001b[0m Trial 288 finished with value: 0.7983084285753043 and parameters: {'C': 0.663418240435558, 'max_iter': 5733}. Best is trial 211 with value: 0.8032011540821552.\u001b[0m\n",
            "\u001b[32m[I 2023-01-22 19:44:12,389]\u001b[0m Trial 289 finished with value: 0.7936360441526628 and parameters: {'C': 1.9564629315100968, 'max_iter': 4353}. Best is trial 211 with value: 0.8032011540821552.\u001b[0m\n",
            "\u001b[32m[I 2023-01-22 19:44:25,801]\u001b[0m Trial 290 finished with value: 0.7998854506871389 and parameters: {'C': 0.4569088603319209, 'max_iter': 9628}. Best is trial 211 with value: 0.8032011540821552.\u001b[0m\n",
            "\u001b[32m[I 2023-01-22 19:44:33,832]\u001b[0m Trial 291 finished with value: 0.8031958840664366 and parameters: {'C': 0.10044849327041765, 'max_iter': 8248}. Best is trial 211 with value: 0.8032011540821552.\u001b[0m\n",
            "\u001b[32m[I 2023-01-22 19:44:51,894]\u001b[0m Trial 292 finished with value: 0.795717464859305 and parameters: {'C': 1.1923393675594465, 'max_iter': 5609}. Best is trial 211 with value: 0.8032011540821552.\u001b[0m\n",
            "\u001b[32m[I 2023-01-22 19:45:08,897]\u001b[0m Trial 293 finished with value: 0.7944469671671845 and parameters: {'C': 1.6005240328672938, 'max_iter': 9088}. Best is trial 211 with value: 0.8032011540821552.\u001b[0m\n",
            "\u001b[32m[I 2023-01-22 19:45:20,600]\u001b[0m Trial 294 finished with value: 0.8010815296865899 and parameters: {'C': 0.33104944108846596, 'max_iter': 5451}. Best is trial 211 with value: 0.8032011540821552.\u001b[0m\n",
            "\u001b[32m[I 2023-01-22 19:45:32,204]\u001b[0m Trial 295 finished with value: 0.8015878018321694 and parameters: {'C': 0.28416784604861384, 'max_iter': 5788}. Best is trial 211 with value: 0.8032011540821552.\u001b[0m\n",
            "\u001b[32m[I 2023-01-22 19:45:47,059]\u001b[0m Trial 296 finished with value: 0.7989020511005844 and parameters: {'C': 0.5797226287604357, 'max_iter': 6175}. Best is trial 211 with value: 0.8032011540821552.\u001b[0m\n",
            "\u001b[32m[I 2023-01-22 19:45:56,964]\u001b[0m Trial 297 finished with value: 0.8018618583496809 and parameters: {'C': 0.260036513337576, 'max_iter': 5994}. Best is trial 211 with value: 0.8032011540821552.\u001b[0m\n",
            "\u001b[32m[I 2023-01-22 19:46:26,002]\u001b[0m Trial 298 finished with value: 0.7904998405283823 and parameters: {'C': 4.7438886901660196, 'max_iter': 4039}. Best is trial 211 with value: 0.8032011540821552.\u001b[0m\n",
            "\u001b[32m[I 2023-01-22 19:46:41,103]\u001b[0m Trial 299 finished with value: 0.7977248855438414 and parameters: {'C': 0.7608796356025881, 'max_iter': 5566}. Best is trial 211 with value: 0.8032011540821552.\u001b[0m\n",
            "\u001b[32m[I 2023-01-22 19:47:09,526]\u001b[0m Trial 300 finished with value: 0.7909452484407872 and parameters: {'C': 4.103115651838956, 'max_iter': 5385}. Best is trial 211 with value: 0.8032011540821552.\u001b[0m\n",
            "\u001b[32m[I 2023-01-22 19:47:23,104]\u001b[0m Trial 301 finished with value: 0.8000662431032399 and parameters: {'C': 0.4362350826974088, 'max_iter': 7528}. Best is trial 211 with value: 0.8032011540821552.\u001b[0m\n",
            "\u001b[32m[I 2023-01-22 19:47:34,203]\u001b[0m Trial 302 finished with value: 0.8017444631236642 and parameters: {'C': 0.27007430544751965, 'max_iter': 4987}. Best is trial 211 with value: 0.8032011540821552.\u001b[0m\n",
            "\u001b[32m[I 2023-01-22 19:48:02,323]\u001b[0m Trial 303 finished with value: 0.7899351743059531 and parameters: {'C': 5.791333849501399, 'max_iter': 5693}. Best is trial 211 with value: 0.8032011540821552.\u001b[0m\n",
            "\u001b[32m[I 2023-01-22 19:48:09,617]\u001b[0m Trial 304 finished with value: 0.8031978256511751 and parameters: {'C': 0.10659148714178686, 'max_iter': 5822}. Best is trial 211 with value: 0.8032011540821552.\u001b[0m\n",
            "\u001b[32m[I 2023-01-22 19:48:36,904]\u001b[0m Trial 305 finished with value: 0.7907052507736194 and parameters: {'C': 4.428210732194043, 'max_iter': 5905}. Best is trial 211 with value: 0.8032011540821552.\u001b[0m\n",
            "\u001b[32m[I 2023-01-22 19:48:51,510]\u001b[0m Trial 306 finished with value: 0.7994059629908619 and parameters: {'C': 0.5152172435193234, 'max_iter': 4717}. Best is trial 211 with value: 0.8032011540821552.\u001b[0m\n",
            "\u001b[32m[I 2023-01-22 19:48:58,871]\u001b[0m Trial 307 finished with value: 0.8031965696394845 and parameters: {'C': 0.10223780362561824, 'max_iter': 6588}. Best is trial 211 with value: 0.8032011540821552.\u001b[0m\n",
            "\u001b[32m[I 2023-01-22 19:49:16,935]\u001b[0m Trial 308 finished with value: 0.7950066145762333 and parameters: {'C': 1.402215315520858, 'max_iter': 5216}. Best is trial 211 with value: 0.8032011540821552.\u001b[0m\n",
            "\u001b[32m[I 2023-01-22 19:49:28,515]\u001b[0m Trial 309 finished with value: 0.8013824020536963 and parameters: {'C': 0.3030674680181472, 'max_iter': 6130}. Best is trial 211 with value: 0.8032011540821552.\u001b[0m\n",
            "\u001b[32m[I 2023-01-22 19:49:44,672]\u001b[0m Trial 310 finished with value: 0.7969676517957116 and parameters: {'C': 0.8990945224767748, 'max_iter': 4885}. Best is trial 211 with value: 0.8032011540821552.\u001b[0m\n",
            "\u001b[32m[I 2023-01-22 19:49:58,165]\u001b[0m Trial 311 finished with value: 0.7999042908624983 and parameters: {'C': 0.45474035300232146, 'max_iter': 5463}. Best is trial 211 with value: 0.8032011540821552.\u001b[0m\n",
            "\u001b[32m[I 2023-01-22 19:50:25,078]\u001b[0m Trial 312 finished with value: 0.7902328909436869 and parameters: {'C': 5.161102521988845, 'max_iter': 6469}. Best is trial 211 with value: 0.8032011540821552.\u001b[0m\n",
            "\u001b[32m[I 2023-01-22 19:50:33,234]\u001b[0m Trial 313 finished with value: 0.8031957218315933 and parameters: {'C': 0.10871805298598222, 'max_iter': 5839}. Best is trial 211 with value: 0.8032011540821552.\u001b[0m\n",
            "\u001b[32m[I 2023-01-22 19:50:55,315]\u001b[0m Trial 314 finished with value: 0.7913602504035147 and parameters: {'C': 3.59618606781912, 'max_iter': 5650}. Best is trial 211 with value: 0.8032011540821552.\u001b[0m\n",
            "\u001b[32m[I 2023-01-22 19:51:09,654]\u001b[0m Trial 315 finished with value: 0.7986809721095068 and parameters: {'C': 0.6099537825125041, 'max_iter': 7269}. Best is trial 211 with value: 0.8032011540821552.\u001b[0m\n",
            "\u001b[32m[I 2023-01-22 19:51:21,410]\u001b[0m Trial 316 finished with value: 0.8009822838295027 and parameters: {'C': 0.34057983388938745, 'max_iter': 5343}. Best is trial 211 with value: 0.8032011540821552.\u001b[0m\n",
            "\u001b[32m[I 2023-01-22 19:51:29,051]\u001b[0m Trial 317 finished with value: 0.803195805565706 and parameters: {'C': 0.10179788980065181, 'max_iter': 4548}. Best is trial 211 with value: 0.8032011540821552.\u001b[0m\n",
            "\u001b[32m[I 2023-01-22 19:51:51,052]\u001b[0m Trial 318 finished with value: 0.7930462943300953 and parameters: {'C': 2.267951676922526, 'max_iter': 5964}. Best is trial 211 with value: 0.8032011540821552.\u001b[0m\n",
            "\u001b[32m[I 2023-01-22 19:52:02,324]\u001b[0m Trial 319 finished with value: 0.8015121428279555 and parameters: {'C': 0.29130971736368544, 'max_iter': 5182}. Best is trial 211 with value: 0.8032011540821552.\u001b[0m\n",
            "\u001b[32m[I 2023-01-22 19:52:25,212]\u001b[0m Trial 320 finished with value: 0.7939160614923227 and parameters: {'C': 1.8246500088376623, 'max_iter': 6256}. Best is trial 211 with value: 0.8032011540821552.\u001b[0m\n",
            "\u001b[32m[I 2023-01-22 19:52:38,588]\u001b[0m Trial 321 finished with value: 0.7998693266370605 and parameters: {'C': 0.45866256403881883, 'max_iter': 5525}. Best is trial 211 with value: 0.8032011540821552.\u001b[0m\n",
            "\u001b[32m[I 2023-01-22 19:53:10,142]\u001b[0m Trial 322 finished with value: 0.78960891480255 and parameters: {'C': 6.456097258170247, 'max_iter': 5776}. Best is trial 211 with value: 0.8032011540821552.\u001b[0m\n",
            "\u001b[32m[I 2023-01-22 19:53:39,668]\u001b[0m Trial 323 finished with value: 0.7891029723600393 and parameters: {'C': 7.854448182298446, 'max_iter': 5035}. Best is trial 211 with value: 0.8032011540821552.\u001b[0m\n",
            "\u001b[32m[I 2023-01-22 19:53:57,041]\u001b[0m Trial 324 finished with value: 0.7975849187410676 and parameters: {'C': 0.7835009061905829, 'max_iter': 8579}. Best is trial 211 with value: 0.8032011540821552.\u001b[0m\n",
            "\u001b[32m[I 2023-01-22 19:54:12,692]\u001b[0m Trial 325 finished with value: 0.7963128929013903 and parameters: {'C': 1.045144677241356, 'max_iter': 8887}. Best is trial 211 with value: 0.8032011540821552.\u001b[0m\n",
            "\u001b[32m[I 2023-01-22 19:54:35,591]\u001b[0m Trial 326 finished with value: 0.7939895434096063 and parameters: {'C': 1.7929661768385996, 'max_iter': 5347}. Best is trial 211 with value: 0.8032011540821552.\u001b[0m\n",
            "\u001b[32m[I 2023-01-22 19:54:59,312]\u001b[0m Trial 327 finished with value: 0.7919118698045076 and parameters: {'C': 3.094403209604881, 'max_iter': 6014}. Best is trial 211 with value: 0.8032011540821552.\u001b[0m\n",
            "\u001b[32m[I 2023-01-22 19:55:11,121]\u001b[0m Trial 328 finished with value: 0.8016635969043163 and parameters: {'C': 0.27722768091823535, 'max_iter': 4193}. Best is trial 211 with value: 0.8032011540821552.\u001b[0m\n",
            "\u001b[32m[I 2023-01-22 19:55:19,456]\u001b[0m Trial 329 finished with value: 0.8031981344207156 and parameters: {'C': 0.10510162524057012, 'max_iter': 5575}. Best is trial 211 with value: 0.8032011540821552.\u001b[0m\n",
            "\u001b[32m[I 2023-01-22 19:55:34,727]\u001b[0m Trial 330 finished with value: 0.7989501720484813 and parameters: {'C': 0.5734360294662408, 'max_iter': 5588}. Best is trial 211 with value: 0.8032011540821552.\u001b[0m\n",
            "\u001b[32m[I 2023-01-22 19:55:45,882]\u001b[0m Trial 331 finished with value: 0.8016666113323738 and parameters: {'C': 0.2770497016438817, 'max_iter': 5480}. Best is trial 211 with value: 0.8032011540821552.\u001b[0m\n",
            "\u001b[32m[I 2023-01-22 19:55:59,273]\u001b[0m Trial 332 finished with value: 0.7998876539409796 and parameters: {'C': 0.4565889175092287, 'max_iter': 5776}. Best is trial 211 with value: 0.8032011540821552.\u001b[0m\n",
            "\u001b[32m[I 2023-01-22 19:56:08,851]\u001b[0m Trial 333 finished with value: 0.8017540873132436 and parameters: {'C': 0.2700869255030526, 'max_iter': 4900}. Best is trial 211 with value: 0.8032011540821552.\u001b[0m\n",
            "\u001b[32m[I 2023-01-22 19:56:31,979]\u001b[0m Trial 334 finished with value: 0.7928050772849113 and parameters: {'C': 2.4271117367242723, 'max_iter': 5220}. Best is trial 211 with value: 0.8032011540821552.\u001b[0m\n",
            "\u001b[32m[I 2023-01-22 19:56:55,298]\u001b[0m Trial 335 finished with value: 0.7911933735502695 and parameters: {'C': 3.7880878113423093, 'max_iter': 5956}. Best is trial 211 with value: 0.8032011540821552.\u001b[0m\n",
            "\u001b[32m[I 2023-01-22 19:57:09,525]\u001b[0m Trial 336 finished with value: 0.7984513784058431 and parameters: {'C': 0.6432201315251127, 'max_iter': 5643}. Best is trial 211 with value: 0.8032011540821552.\u001b[0m\n",
            "\u001b[32m[I 2023-01-22 19:57:18,532]\u001b[0m Trial 337 finished with value: 0.8031834024502611 and parameters: {'C': 0.11390640732763027, 'max_iter': 6219}. Best is trial 211 with value: 0.8032011540821552.\u001b[0m\n",
            "\u001b[32m[I 2023-01-22 19:57:26,822]\u001b[0m Trial 338 finished with value: 0.8031984484236383 and parameters: {'C': 0.10366281709007666, 'max_iter': 5321}. Best is trial 211 with value: 0.8032011540821552.\u001b[0m\n",
            "\u001b[32m[I 2023-01-22 19:57:40,477]\u001b[0m Trial 339 finished with value: 0.8003469617160938 and parameters: {'C': 0.4057292217666743, 'max_iter': 5076}. Best is trial 211 with value: 0.8032011540821552.\u001b[0m\n",
            "\u001b[32m[I 2023-01-22 19:57:52,145]\u001b[0m Trial 340 finished with value: 0.8014599712423562 and parameters: {'C': 0.29609661173661816, 'max_iter': 5405}. Best is trial 211 with value: 0.8032011540821552.\u001b[0m\n",
            "\u001b[32m[I 2023-01-22 19:58:05,916]\u001b[0m Trial 341 finished with value: 0.798229404506436 and parameters: {'C': 0.67529652411835, 'max_iter': 4750}. Best is trial 211 with value: 0.8032011540821552.\u001b[0m\n",
            "\u001b[32m[I 2023-01-22 19:58:13,469]\u001b[0m Trial 342 finished with value: 0.8031962399364156 and parameters: {'C': 0.10035918696683571, 'max_iter': 5349}. Best is trial 211 with value: 0.8032011540821552.\u001b[0m\n",
            "\u001b[32m[I 2023-01-22 19:58:32,649]\u001b[0m Trial 343 finished with value: 0.7958313851196444 and parameters: {'C': 1.163719382177386, 'max_iter': 5124}. Best is trial 211 with value: 0.8032011540821552.\u001b[0m\n",
            "\u001b[32m[I 2023-01-22 19:58:47,328]\u001b[0m Trial 344 finished with value: 0.7997371104730944 and parameters: {'C': 0.47516119524186373, 'max_iter': 5561}. Best is trial 211 with value: 0.8032011540821552.\u001b[0m\n",
            "\u001b[32m[I 2023-01-22 19:59:15,798]\u001b[0m Trial 345 finished with value: 0.7907107039577095 and parameters: {'C': 4.420872214591563, 'max_iter': 5278}. Best is trial 211 with value: 0.8032011540821552.\u001b[0m\n",
            "\u001b[32m[I 2023-01-22 19:59:27,590]\u001b[0m Trial 346 finished with value: 0.8015512361918262 and parameters: {'C': 0.2875981634532592, 'max_iter': 4864}. Best is trial 211 with value: 0.8032011540821552.\u001b[0m\n",
            "\u001b[32m[I 2023-01-22 19:59:49,457]\u001b[0m Trial 347 finished with value: 0.7916468042373481 and parameters: {'C': 3.3091205410431437, 'max_iter': 5714}. Best is trial 211 with value: 0.8032011540821552.\u001b[0m\n",
            "\u001b[32m[I 2023-01-22 19:59:56,875]\u001b[0m Trial 348 finished with value: 0.8031957898655598 and parameters: {'C': 0.1089137888527117, 'max_iter': 4456}. Best is trial 211 with value: 0.8032011540821552.\u001b[0m\n",
            "\u001b[32m[I 2023-01-22 20:00:14,591]\u001b[0m Trial 349 finished with value: 0.7975220030221316 and parameters: {'C': 0.7943678397690475, 'max_iter': 5519}. Best is trial 211 with value: 0.8032011540821552.\u001b[0m\n",
            "\u001b[32m[I 2023-01-22 20:00:28,264]\u001b[0m Trial 350 finished with value: 0.8003401897197286 and parameters: {'C': 0.4064230704016335, 'max_iter': 5088}. Best is trial 211 with value: 0.8032011540821552.\u001b[0m\n",
            "\u001b[32m[I 2023-01-22 20:00:39,777]\u001b[0m Trial 351 finished with value: 0.8013924239803112 and parameters: {'C': 0.30219717866563356, 'max_iter': 5265}. Best is trial 211 with value: 0.8032011540821552.\u001b[0m\n",
            "\u001b[32m[I 2023-01-22 20:00:55,027]\u001b[0m Trial 352 finished with value: 0.7987763033968249 and parameters: {'C': 0.5972713639137188, 'max_iter': 5803}. Best is trial 211 with value: 0.8032011540821552.\u001b[0m\n",
            "\u001b[32m[I 2023-01-22 20:01:02,232]\u001b[0m Trial 353 finished with value: 0.8031980088195465 and parameters: {'C': 0.10100443296577553, 'max_iter': 5464}. Best is trial 211 with value: 0.8032011540821552.\u001b[0m\n",
            "\u001b[32m[I 2023-01-22 20:01:28,409]\u001b[0m Trial 354 finished with value: 0.7901761663157091 and parameters: {'C': 5.254517349876628, 'max_iter': 5513}. Best is trial 211 with value: 0.8032011540821552.\u001b[0m\n",
            "\u001b[32m[I 2023-01-22 20:01:50,452]\u001b[0m Trial 355 finished with value: 0.7914295508485447 and parameters: {'C': 3.5229895570557725, 'max_iter': 5704}. Best is trial 211 with value: 0.8032011540821552.\u001b[0m\n",
            "\u001b[32m[I 2023-01-22 20:02:04,141]\u001b[0m Trial 356 finished with value: 0.8000955762095978 and parameters: {'C': 0.4328671773577631, 'max_iter': 5913}. Best is trial 211 with value: 0.8032011540821552.\u001b[0m\n",
            "\u001b[32m[I 2023-01-22 20:02:11,138]\u001b[0m Trial 357 finished with value: 0.8031996154678342 and parameters: {'C': 0.10477828774304199, 'max_iter': 5503}. Best is trial 211 with value: 0.8032011540821552.\u001b[0m\n",
            "\u001b[32m[I 2023-01-22 20:02:34,519]\u001b[0m Trial 358 finished with value: 0.7934616416960378 and parameters: {'C': 2.043215003111372, 'max_iter': 5409}. Best is trial 211 with value: 0.8032011540821552.\u001b[0m\n",
            "\u001b[32m[I 2023-01-22 20:02:45,929]\u001b[0m Trial 359 finished with value: 0.8016294124528033 and parameters: {'C': 0.28034239096638114, 'max_iter': 5390}. Best is trial 211 with value: 0.8032011540821552.\u001b[0m\n",
            "\u001b[32m[I 2023-01-22 20:03:05,731]\u001b[0m Trial 360 finished with value: 0.7925012428235678 and parameters: {'C': 2.616420648408506, 'max_iter': 4934}. Best is trial 211 with value: 0.8032011540821552.\u001b[0m\n",
            "\u001b[32m[I 2023-01-22 20:03:27,231]\u001b[0m Trial 361 finished with value: 0.7922774163069171 and parameters: {'C': 2.7703033308949387, 'max_iter': 5594}. Best is trial 211 with value: 0.8032011540821552.\u001b[0m\n",
            "\u001b[32m[I 2023-01-22 20:03:48,160]\u001b[0m Trial 362 finished with value: 0.7918174700591933 and parameters: {'C': 3.1492500525475924, 'max_iter': 3577}. Best is trial 211 with value: 0.8032011540821552.\u001b[0m\n",
            "\u001b[32m[I 2023-01-22 20:04:00,728]\u001b[0m Trial 363 finished with value: 0.7993997300328473 and parameters: {'C': 0.5151506253005794, 'max_iter': 5328}. Best is trial 211 with value: 0.8032011540821552.\u001b[0m\n",
            "\u001b[32m[I 2023-01-22 20:04:12,231]\u001b[0m Trial 364 finished with value: 0.8016941389219266 and parameters: {'C': 0.27457769999162235, 'max_iter': 5643}. Best is trial 211 with value: 0.8032011540821552.\u001b[0m\n",
            "\u001b[32m[I 2023-01-22 20:04:20,306]\u001b[0m Trial 365 finished with value: 0.8031968574754969 and parameters: {'C': 0.1040645422760658, 'max_iter': 4610}. Best is trial 211 with value: 0.8032011540821552.\u001b[0m\n",
            "\u001b[32m[I 2023-01-22 20:04:36,911]\u001b[0m Trial 366 finished with value: 0.7943867780402936 and parameters: {'C': 1.6270631689014798, 'max_iter': 5132}. Best is trial 211 with value: 0.8032011540821552.\u001b[0m\n",
            "\u001b[32m[I 2023-01-22 20:04:54,102]\u001b[0m Trial 367 finished with value: 0.7975479187300147 and parameters: {'C': 0.7897722495210209, 'max_iter': 4341}. Best is trial 211 with value: 0.8032011540821552.\u001b[0m\n",
            "\u001b[32m[I 2023-01-22 20:05:02,319]\u001b[0m Trial 368 finished with value: 0.8031981867545361 and parameters: {'C': 0.10376030788539907, 'max_iter': 5490}. Best is trial 211 with value: 0.8032011540821552.\u001b[0m\n",
            "\u001b[32m[I 2023-01-22 20:05:20,948]\u001b[0m Trial 369 finished with value: 0.7965451817968068 and parameters: {'C': 0.9888018147577213, 'max_iter': 5822}. Best is trial 211 with value: 0.8032011540821552.\u001b[0m\n",
            "\u001b[32m[I 2023-01-22 20:05:31,710]\u001b[0m Trial 370 finished with value: 0.8006015081853445 and parameters: {'C': 0.3798564130648394, 'max_iter': 5484}. Best is trial 211 with value: 0.8032011540821552.\u001b[0m\n",
            "\u001b[32m[I 2023-01-22 20:05:54,149]\u001b[0m Trial 371 finished with value: 0.7912608998787865 and parameters: {'C': 3.7058389306590054, 'max_iter': 5668}. Best is trial 211 with value: 0.8032011540821552.\u001b[0m\n",
            "\u001b[32m[I 2023-01-22 20:06:08,617]\u001b[0m Trial 372 finished with value: 0.7991129040631476 and parameters: {'C': 0.5528970927966582, 'max_iter': 5523}. Best is trial 211 with value: 0.8032011540821552.\u001b[0m\n",
            "\u001b[32m[I 2023-01-22 20:06:17,582]\u001b[0m Trial 373 finished with value: 0.8031962661033258 and parameters: {'C': 0.10568091518045962, 'max_iter': 5302}. Best is trial 211 with value: 0.8032011540821552.\u001b[0m\n",
            "\u001b[32m[I 2023-01-22 20:06:27,125]\u001b[0m Trial 374 finished with value: 0.8015988076346084 and parameters: {'C': 0.2844237699822523, 'max_iter': 5797}. Best is trial 211 with value: 0.8032011540821552.\u001b[0m\n",
            "\u001b[32m[I 2023-01-22 20:06:40,588]\u001b[0m Trial 375 finished with value: 0.8001572568503715 and parameters: {'C': 0.4261213923877825, 'max_iter': 5503}. Best is trial 211 with value: 0.8032011540821552.\u001b[0m\n",
            "\u001b[32m[I 2023-01-22 20:06:58,419]\u001b[0m Trial 376 finished with value: 0.7955333230786956 and parameters: {'C': 1.2417555747763895, 'max_iter': 5828}. Best is trial 211 with value: 0.8032011540821552.\u001b[0m\n",
            "\u001b[32m[I 2023-01-22 20:07:16,238]\u001b[0m Trial 377 finished with value: 0.7947970019252149 and parameters: {'C': 1.4688301518595952, 'max_iter': 5662}. Best is trial 211 with value: 0.8032011540821552.\u001b[0m\n",
            "\u001b[32m[I 2023-01-22 20:07:23,091]\u001b[0m Trial 378 finished with value: 0.8031946699218024 and parameters: {'C': 0.1032584104425862, 'max_iter': 7006}. Best is trial 211 with value: 0.8032011540821552.\u001b[0m\n",
            "\u001b[32m[I 2023-01-22 20:07:37,031]\u001b[0m Trial 379 finished with value: 0.7983472131696342 and parameters: {'C': 0.6581039869185091, 'max_iter': 3991}. Best is trial 211 with value: 0.8032011540821552.\u001b[0m\n",
            "\u001b[32m[I 2023-01-22 20:08:02,559]\u001b[0m Trial 380 finished with value: 0.7901275952969563 and parameters: {'C': 5.342610897656912, 'max_iter': 5288}. Best is trial 211 with value: 0.8032011540821552.\u001b[0m\n",
            "\u001b[32m[I 2023-01-22 20:08:13,715]\u001b[0m Trial 381 finished with value: 0.801733787024294 and parameters: {'C': 0.27102960578508284, 'max_iter': 7772}. Best is trial 211 with value: 0.8032011540821552.\u001b[0m\n",
            "\u001b[32m[I 2023-01-22 20:08:27,261]\u001b[0m Trial 382 finished with value: 0.7999976491647857 and parameters: {'C': 0.4438170947182827, 'max_iter': 5983}. Best is trial 211 with value: 0.8032011540821552.\u001b[0m\n",
            "\u001b[32m[I 2023-01-22 20:08:38,524]\u001b[0m Trial 383 finished with value: 0.8016269684633885 and parameters: {'C': 0.2806746965287472, 'max_iter': 5423}. Best is trial 211 with value: 0.8032011540821552.\u001b[0m\n",
            "\u001b[32m[I 2023-01-22 20:08:59,742]\u001b[0m Trial 384 finished with value: 0.7908604205512317 and parameters: {'C': 4.2108512108783, 'max_iter': 5624}. Best is trial 211 with value: 0.8032011540821552.\u001b[0m\n",
            "\u001b[32m[I 2023-01-22 20:09:23,374]\u001b[0m Trial 385 finished with value: 0.7899532713410622 and parameters: {'C': 5.743237918721697, 'max_iter': 5132}. Best is trial 211 with value: 0.8032011540821552.\u001b[0m\n",
            "\u001b[32m[I 2023-01-22 20:09:30,800]\u001b[0m Trial 386 finished with value: 0.8031974122139935 and parameters: {'C': 0.10313306570369304, 'max_iter': 5999}. Best is trial 211 with value: 0.8032011540821552.\u001b[0m\n",
            "\u001b[32m[I 2023-01-22 20:09:54,234]\u001b[0m Trial 387 finished with value: 0.7912220995843104 and parameters: {'C': 3.7630519059944976, 'max_iter': 6126}. Best is trial 211 with value: 0.8032011540821552.\u001b[0m\n",
            "\u001b[32m[I 2023-01-22 20:10:18,715]\u001b[0m Trial 388 finished with value: 0.789783113157275 and parameters: {'C': 6.03040383439636, 'max_iter': 5955}. Best is trial 211 with value: 0.8032011540821552.\u001b[0m\n",
            "\u001b[32m[I 2023-01-22 20:10:33,123]\u001b[0m Trial 389 finished with value: 0.7986119071666687 and parameters: {'C': 0.620178711808679, 'max_iter': 5846}. Best is trial 211 with value: 0.8032011540821552.\u001b[0m\n",
            "\u001b[32m[I 2023-01-22 20:11:01,926]\u001b[0m Trial 390 finished with value: 0.7905287392640308 and parameters: {'C': 4.696014490461462, 'max_iter': 6155}. Best is trial 211 with value: 0.8032011540821552.\u001b[0m\n",
            "\u001b[32m[I 2023-01-22 20:11:13,826]\u001b[0m Trial 391 finished with value: 0.8015774135688116 and parameters: {'C': 0.2850750444213393, 'max_iter': 5748}. Best is trial 211 with value: 0.8032011540821552.\u001b[0m\n",
            "\u001b[32m[I 2023-01-22 20:11:42,033]\u001b[0m Trial 392 finished with value: 0.7903175042645784 and parameters: {'C': 5.030792520056178, 'max_iter': 6408}. Best is trial 211 with value: 0.8032011540821552.\u001b[0m\n",
            "\u001b[32m[I 2023-01-22 20:12:14,872]\u001b[0m Trial 393 finished with value: 0.7889901092428727 and parameters: {'C': 8.171115667695776, 'max_iter': 5509}. Best is trial 211 with value: 0.8032011540821552.\u001b[0m\n",
            "\u001b[32m[I 2023-01-22 20:12:28,360]\u001b[0m Trial 394 finished with value: 0.7999445774374749 and parameters: {'C': 0.449985610906475, 'max_iter': 6028}. Best is trial 211 with value: 0.8032011540821552.\u001b[0m\n",
            "\u001b[32m[I 2023-01-22 20:12:46,050]\u001b[0m Trial 395 finished with value: 0.7972914987099922 and parameters: {'C': 0.836479450363005, 'max_iter': 5305}. Best is trial 211 with value: 0.8032011540821552.\u001b[0m\n",
            "\u001b[32m[I 2023-01-22 20:12:57,225]\u001b[0m Trial 396 finished with value: 0.8017978488538977 and parameters: {'C': 0.2652533739794388, 'max_iter': 5626}. Best is trial 211 with value: 0.8032011540821552.\u001b[0m\n",
            "\u001b[32m[I 2023-01-22 20:13:04,000]\u001b[0m Trial 397 finished with value: 0.8031956694977729 and parameters: {'C': 0.10455229899756384, 'max_iter': 5430}. Best is trial 211 with value: 0.8032011540821552.\u001b[0m\n",
            "\u001b[32m[I 2023-01-22 20:13:24,793]\u001b[0m Trial 398 finished with value: 0.7931229058098412 and parameters: {'C': 2.2269590297570225, 'max_iter': 5900}. Best is trial 211 with value: 0.8032011540821552.\u001b[0m\n",
            "\u001b[32m[I 2023-01-22 20:13:37,812]\u001b[0m Trial 399 finished with value: 0.7996951125821893 and parameters: {'C': 0.47927122801494476, 'max_iter': 5726}. Best is trial 211 with value: 0.8032011540821552.\u001b[0m\n",
            "\u001b[32m[I 2023-01-22 20:13:45,908]\u001b[0m Trial 400 finished with value: 0.8031963393706745 and parameters: {'C': 0.10161013409879081, 'max_iter': 5025}. Best is trial 211 with value: 0.8032011540821552.\u001b[0m\n",
            "\u001b[32m[I 2023-01-22 20:13:55,394]\u001b[0m Trial 401 finished with value: 0.8015860277156563 and parameters: {'C': 0.28567284168839896, 'max_iter': 5186}. Best is trial 211 with value: 0.8032011540821552.\u001b[0m\n",
            "\u001b[32m[I 2023-01-22 20:14:19,245]\u001b[0m Trial 402 finished with value: 0.7935179110197776 and parameters: {'C': 2.0161536684807855, 'max_iter': 5470}. Best is trial 211 with value: 0.8032011540821552.\u001b[0m\n",
            "\u001b[32m[I 2023-01-22 20:14:36,556]\u001b[0m Trial 403 finished with value: 0.7981638354628035 and parameters: {'C': 0.6872753345232053, 'max_iter': 5707}. Best is trial 211 with value: 0.8032011540821552.\u001b[0m\n",
            "\u001b[32m[I 2023-01-22 20:14:57,904]\u001b[0m Trial 404 finished with value: 0.7928075631413825 and parameters: {'C': 2.409218150378978, 'max_iter': 6046}. Best is trial 211 with value: 0.8032011540821552.\u001b[0m\n",
            "\u001b[32m[I 2023-01-22 20:15:15,511]\u001b[0m Trial 405 finished with value: 0.7952353500052418 and parameters: {'C': 1.3285126118209676, 'max_iter': 5293}. Best is trial 211 with value: 0.8032011540821552.\u001b[0m\n",
            "\u001b[32m[I 2023-01-22 20:15:29,100]\u001b[0m Trial 406 finished with value: 0.8000347695436256 and parameters: {'C': 0.4396798204274623, 'max_iter': 5569}. Best is trial 211 with value: 0.8032011540821552.\u001b[0m\n",
            "\u001b[32m[I 2023-01-22 20:15:44,126]\u001b[0m Trial 407 finished with value: 0.7963226165252286 and parameters: {'C': 1.0430597645400659, 'max_iter': 6331}. Best is trial 211 with value: 0.8032011540821552.\u001b[0m\n",
            "\u001b[32m[I 2023-01-22 20:15:53,726]\u001b[0m Trial 408 finished with value: 0.8016503826146546 and parameters: {'C': 0.2796525535783371, 'max_iter': 4893}. Best is trial 211 with value: 0.8032011540821552.\u001b[0m\n",
            "\u001b[32m[I 2023-01-22 20:16:25,549]\u001b[0m Trial 409 finished with value: 0.7893530181207318 and parameters: {'C': 7.092464313579978, 'max_iter': 5869}. Best is trial 211 with value: 0.8032011540821552.\u001b[0m\n",
            "\u001b[32m[I 2023-01-22 20:16:41,701]\u001b[0m Trial 410 finished with value: 0.7991454766329911 and parameters: {'C': 0.5480591927960305, 'max_iter': 6752}. Best is trial 211 with value: 0.8032011540821552.\u001b[0m\n",
            "\u001b[32m[I 2023-01-22 20:17:06,613]\u001b[0m Trial 411 finished with value: 0.7907523930790741 and parameters: {'C': 4.3875787893339915, 'max_iter': 5353}. Best is trial 211 with value: 0.8032011540821552.\u001b[0m\n",
            "\u001b[32m[I 2023-01-22 20:17:42,150]\u001b[0m Trial 412 finished with value: 0.7885801103933795 and parameters: {'C': 9.773892237467525, 'max_iter': 5653}. Best is trial 211 with value: 0.8032011540821552.\u001b[0m\n",
            "\u001b[32m[I 2023-01-22 20:17:49,012]\u001b[0m Trial 413 finished with value: 0.8031977366836803 and parameters: {'C': 0.10520435789459455, 'max_iter': 5166}. Best is trial 211 with value: 0.8032011540821552.\u001b[0m\n",
            "\u001b[32m[I 2023-01-22 20:17:56,069]\u001b[0m Trial 414 finished with value: 0.8031988304605275 and parameters: {'C': 0.10772959619939718, 'max_iter': 5039}. Best is trial 211 with value: 0.8032011540821552.\u001b[0m\n",
            "\u001b[32m[I 2023-01-22 20:18:03,561]\u001b[0m Trial 415 finished with value: 0.8031951880266248 and parameters: {'C': 0.10015914463825892, 'max_iter': 4747}. Best is trial 211 with value: 0.8032011540821552.\u001b[0m\n",
            "\u001b[32m[I 2023-01-22 20:18:13,838]\u001b[0m Trial 416 finished with value: 0.8012132853129361 and parameters: {'C': 0.31941269205229106, 'max_iter': 5038}. Best is trial 211 with value: 0.8032011540821552.\u001b[0m\n",
            "\u001b[32m[I 2023-01-22 20:18:34,688]\u001b[0m Trial 417 finished with value: 0.7924162055987307 and parameters: {'C': 2.670802913050258, 'max_iter': 4861}. Best is trial 211 with value: 0.8032011540821552.\u001b[0m\n",
            "\u001b[32m[I 2023-01-22 20:19:03,094]\u001b[0m Trial 418 finished with value: 0.7903477898464685 and parameters: {'C': 4.984800989281207, 'max_iter': 5114}. Best is trial 211 with value: 0.8032011540821552.\u001b[0m\n",
            "\u001b[32m[I 2023-01-22 20:19:26,919]\u001b[0m Trial 419 finished with value: 0.7905169536876671 and parameters: {'C': 4.761311339426273, 'max_iter': 4747}. Best is trial 211 with value: 0.8032011540821552.\u001b[0m\n",
            "\u001b[32m[I 2023-01-22 20:19:44,049]\u001b[0m Trial 420 finished with value: 0.7972940212001376 and parameters: {'C': 0.8360103665629025, 'max_iter': 4970}. Best is trial 211 with value: 0.8032011540821552.\u001b[0m\n",
            "\u001b[32m[I 2023-01-22 20:20:06,109]\u001b[0m Trial 421 finished with value: 0.7923138720462373 and parameters: {'C': 2.7484121870611875, 'max_iter': 5195}. Best is trial 211 with value: 0.8032011540821552.\u001b[0m\n",
            "\u001b[32m[I 2023-01-22 20:20:19,562]\u001b[0m Trial 422 finished with value: 0.7997428253262867 and parameters: {'C': 0.47384064024411704, 'max_iter': 5287}. Best is trial 211 with value: 0.8032011540821552.\u001b[0m\n",
            "\u001b[32m[I 2023-01-22 20:20:50,619]\u001b[0m Trial 423 finished with value: 0.7888153509162689 and parameters: {'C': 8.792107403936473, 'max_iter': 4635}. Best is trial 211 with value: 0.8032011540821552.\u001b[0m\n",
            "\u001b[32m[I 2023-01-22 20:21:02,255]\u001b[0m Trial 424 finished with value: 0.8013700041716335 and parameters: {'C': 0.30421780042071195, 'max_iter': 5066}. Best is trial 211 with value: 0.8032011540821552.\u001b[0m\n",
            "\u001b[32m[I 2023-01-22 20:21:10,264]\u001b[0m Trial 425 finished with value: 0.8031958945332007 and parameters: {'C': 0.10254423055733407, 'max_iter': 5405}. Best is trial 211 with value: 0.8032011540821552.\u001b[0m\n",
            "\u001b[32m[I 2023-01-22 20:21:32,127]\u001b[0m Trial 426 finished with value: 0.7909058306072299 and parameters: {'C': 4.138474962359939, 'max_iter': 4973}. Best is trial 211 with value: 0.8032011540821552.\u001b[0m\n",
            "\u001b[32m[I 2023-01-22 20:21:46,363]\u001b[0m Trial 427 finished with value: 0.7985359760265887 and parameters: {'C': 0.6307344347894881, 'max_iter': 5204}. Best is trial 211 with value: 0.8032011540821552.\u001b[0m\n",
            "\u001b[32m[I 2023-01-22 20:22:09,733]\u001b[0m Trial 428 finished with value: 0.7933863071615107 and parameters: {'C': 2.0828610181443223, 'max_iter': 7442}. Best is trial 211 with value: 0.8032011540821552.\u001b[0m\n",
            "\u001b[32m[I 2023-01-22 20:22:22,337]\u001b[0m Trial 429 finished with value: 0.8015077206201281 and parameters: {'C': 0.2916542456190114, 'max_iter': 5369}. Best is trial 211 with value: 0.8032011540821552.\u001b[0m\n",
            "\u001b[32m[I 2023-01-22 20:22:45,823]\u001b[0m Trial 430 finished with value: 0.791766345150003 and parameters: {'C': 3.226048758068166, 'max_iter': 5477}. Best is trial 211 with value: 0.8032011540821552.\u001b[0m\n",
            "\u001b[32m[I 2023-01-22 20:23:13,506]\u001b[0m Trial 431 finished with value: 0.7896388654479893 and parameters: {'C': 6.476295839044943, 'max_iter': 5188}. Best is trial 211 with value: 0.8032011540821552.\u001b[0m\n",
            "\u001b[32m[I 2023-01-22 20:23:37,141]\u001b[0m Trial 432 finished with value: 0.7901605656038352 and parameters: {'C': 5.36212364040551, 'max_iter': 4804}. Best is trial 211 with value: 0.8032011540821552.\u001b[0m\n",
            "\u001b[32m[I 2023-01-22 20:23:51,511]\u001b[0m Trial 433 finished with value: 0.7997660615425631 and parameters: {'C': 0.4717776021277497, 'max_iter': 5467}. Best is trial 211 with value: 0.8032011540821552.\u001b[0m\n",
            "\u001b[32m[I 2023-01-22 20:24:02,943]\u001b[0m Trial 434 finished with value: 0.801508882430942 and parameters: {'C': 0.2915732348832869, 'max_iter': 5208}. Best is trial 211 with value: 0.8032011540821552.\u001b[0m\n",
            "\u001b[32m[I 2023-01-22 20:24:11,195]\u001b[0m Trial 435 finished with value: 0.8031976163158933 and parameters: {'C': 0.10618685202023656, 'max_iter': 5579}. Best is trial 211 with value: 0.8032011540821552.\u001b[0m\n",
            "\u001b[32m[I 2023-01-22 20:24:35,334]\u001b[0m Trial 436 finished with value: 0.7910124974000559 and parameters: {'C': 4.038828950173095, 'max_iter': 5838}. Best is trial 211 with value: 0.8032011540821552.\u001b[0m\n",
            "\u001b[32m[I 2023-01-22 20:24:49,414]\u001b[0m Trial 437 finished with value: 0.7983372174099297 and parameters: {'C': 0.6595417048983647, 'max_iter': 5543}. Best is trial 211 with value: 0.8032011540821552.\u001b[0m\n",
            "\u001b[32m[I 2023-01-22 20:25:01,059]\u001b[0m Trial 438 finished with value: 0.8016897638145376 and parameters: {'C': 0.27492316380051757, 'max_iter': 8022}. Best is trial 211 with value: 0.8032011540821552.\u001b[0m\n",
            "\u001b[32m[I 2023-01-22 20:25:09,300]\u001b[0m Trial 439 finished with value: 0.8031977680839726 and parameters: {'C': 0.1041188798259382, 'max_iter': 6056}. Best is trial 211 with value: 0.8032011540821552.\u001b[0m\n",
            "\u001b[32m[I 2023-01-22 20:25:37,614]\u001b[0m Trial 440 finished with value: 0.7892699905145997 and parameters: {'C': 7.361828120255849, 'max_iter': 5673}. Best is trial 211 with value: 0.8032011540821552.\u001b[0m\n",
            "\u001b[32m[I 2023-01-22 20:25:59,506]\u001b[0m Trial 441 finished with value: 0.7910280248445811 and parameters: {'C': 3.95821143536591, 'max_iter': 6202}. Best is trial 211 with value: 0.8032011540821552.\u001b[0m\n",
            "\u001b[32m[I 2023-01-22 20:26:12,823]\u001b[0m Trial 442 finished with value: 0.799946116051796 and parameters: {'C': 0.4498144004961056, 'max_iter': 5861}. Best is trial 211 with value: 0.8032011540821552.\u001b[0m\n",
            "\u001b[32m[I 2023-01-22 20:26:35,880]\u001b[0m Trial 443 finished with value: 0.7940335561525984 and parameters: {'C': 1.7736043009075244, 'max_iter': 5533}. Best is trial 211 with value: 0.8032011540821552.\u001b[0m\n",
            "\u001b[32m[I 2023-01-22 20:26:58,255]\u001b[0m Trial 444 finished with value: 0.791436908983699 and parameters: {'C': 3.520068431122148, 'max_iter': 9977}. Best is trial 211 with value: 0.8032011540821552.\u001b[0m\n",
            "\u001b[32m[I 2023-01-22 20:27:14,127]\u001b[0m Trial 445 finished with value: 0.7970079697709804 and parameters: {'C': 0.8909889243386625, 'max_iter': 5379}. Best is trial 211 with value: 0.8032011540821552.\u001b[0m\n",
            "\u001b[32m[I 2023-01-22 20:27:25,699]\u001b[0m Trial 446 finished with value: 0.801495406472178 and parameters: {'C': 0.29264413093845365, 'max_iter': 5690}. Best is trial 211 with value: 0.8032011540821552.\u001b[0m\n",
            "\u001b[32m[I 2023-01-22 20:27:46,951]\u001b[0m Trial 447 finished with value: 0.7907882260459311 and parameters: {'C': 4.305252572661806, 'max_iter': 6054}. Best is trial 211 with value: 0.8032011540821552.\u001b[0m\n",
            "\u001b[32m[I 2023-01-22 20:28:09,002]\u001b[0m Trial 448 finished with value: 0.7911224559901877 and parameters: {'C': 3.8476824164145396, 'max_iter': 6535}. Best is trial 211 with value: 0.8032011540821552.\u001b[0m\n",
            "\u001b[32m[I 2023-01-22 20:28:25,029]\u001b[0m Trial 449 finished with value: 0.7991113078816241 and parameters: {'C': 0.5522588963007934, 'max_iter': 5571}. Best is trial 211 with value: 0.8032011540821552.\u001b[0m\n",
            "\u001b[32m[I 2023-01-22 20:28:50,035]\u001b[0m Trial 450 finished with value: 0.7915750545695212 and parameters: {'C': 3.390980541558479, 'max_iter': 8300}. Best is trial 211 with value: 0.8032011540821552.\u001b[0m\n",
            "\u001b[32m[I 2023-01-22 20:29:18,178]\u001b[0m Trial 451 finished with value: 0.7903605226649821 and parameters: {'C': 4.959950193132669, 'max_iter': 7249}. Best is trial 211 with value: 0.8032011540821552.\u001b[0m\n",
            "\u001b[32m[I 2023-01-22 20:29:29,994]\u001b[0m Trial 452 finished with value: 0.8016759633860869 and parameters: {'C': 0.2761356086445642, 'max_iter': 5324}. Best is trial 211 with value: 0.8032011540821552.\u001b[0m\n",
            "\u001b[32m[I 2023-01-22 20:29:52,000]\u001b[0m Trial 453 finished with value: 0.7941679965039333 and parameters: {'C': 1.7171247522220954, 'max_iter': 5855}. Best is trial 211 with value: 0.8032011540821552.\u001b[0m\n",
            "\u001b[32m[I 2023-01-22 20:30:05,600]\u001b[0m Trial 454 finished with value: 0.800069105763218 and parameters: {'C': 0.4359304506917241, 'max_iter': 6302}. Best is trial 211 with value: 0.8032011540821552.\u001b[0m\n",
            "\u001b[32m[I 2023-01-22 20:30:27,418]\u001b[0m Trial 455 finished with value: 0.7921252504905982 and parameters: {'C': 2.892121830765571, 'max_iter': 5560}. Best is trial 211 with value: 0.8032011540821552.\u001b[0m\n",
            "\u001b[32m[I 2023-01-22 20:30:48,173]\u001b[0m Trial 456 finished with value: 0.7917452650871286 and parameters: {'C': 3.2154503158113226, 'max_iter': 5768}. Best is trial 211 with value: 0.8032011540821552.\u001b[0m\n",
            "\u001b[32m[I 2023-01-22 20:31:03,614]\u001b[0m Trial 457 finished with value: 0.7961167928428099 and parameters: {'C': 1.09357646691438, 'max_iter': 5294}. Best is trial 211 with value: 0.8032011540821552.\u001b[0m\n",
            "\u001b[32m[I 2023-01-22 20:31:20,751]\u001b[0m Trial 458 finished with value: 0.7979718279089817 and parameters: {'C': 0.7174582884125451, 'max_iter': 6068}. Best is trial 211 with value: 0.8032011540821552.\u001b[0m\n",
            "\u001b[32m[I 2023-01-22 20:31:30,748]\u001b[0m Trial 459 finished with value: 0.801787962995216 and parameters: {'C': 0.26642240635078657, 'max_iter': 5445}. Best is trial 211 with value: 0.8032011540821552.\u001b[0m\n",
            "\u001b[32m[I 2023-01-22 20:31:39,005]\u001b[0m Trial 460 finished with value: 0.8031787918406802 and parameters: {'C': 0.11605473155327553, 'max_iter': 5102}. Best is trial 211 with value: 0.8032011540821552.\u001b[0m\n",
            "\u001b[32m[I 2023-01-22 20:32:06,751]\u001b[0m Trial 461 finished with value: 0.7900609481766228 and parameters: {'C': 5.497950360810349, 'max_iter': 5673}. Best is trial 211 with value: 0.8032011540821552.\u001b[0m\n",
            "\u001b[32m[I 2023-01-22 20:32:15,244]\u001b[0m Trial 462 finished with value: 0.8031977785507367 and parameters: {'C': 0.10648305230901153, 'max_iter': 5918}. Best is trial 211 with value: 0.8032011540821552.\u001b[0m\n",
            "\u001b[32m[I 2023-01-22 20:32:37,540]\u001b[0m Trial 463 finished with value: 0.7945749390583128 and parameters: {'C': 1.5550252297224463, 'max_iter': 6185}. Best is trial 211 with value: 0.8032011540821552.\u001b[0m\n",
            "\u001b[32m[I 2023-01-22 20:32:50,842]\u001b[0m Trial 464 finished with value: 0.7997496862901468 and parameters: {'C': 0.4726577208086551, 'max_iter': 5927}. Best is trial 211 with value: 0.8032011540821552.\u001b[0m\n",
            "\u001b[32m[I 2023-01-22 20:33:12,108]\u001b[0m Trial 465 finished with value: 0.7920910974393773 and parameters: {'C': 2.915259826452092, 'max_iter': 6376}. Best is trial 211 with value: 0.8032011540821552.\u001b[0m\n",
            "\u001b[32m[I 2023-01-22 20:33:19,504]\u001b[0m Trial 466 finished with value: 0.8031912682234736 and parameters: {'C': 0.11067239605702474, 'max_iter': 5930}. Best is trial 211 with value: 0.8032011540821552.\u001b[0m\n",
            "\u001b[32m[I 2023-01-22 20:33:40,203]\u001b[0m Trial 467 finished with value: 0.7927807001913492 and parameters: {'C': 2.4302227013107385, 'max_iter': 5717}. Best is trial 211 with value: 0.8032011540821552.\u001b[0m\n",
            "\u001b[32m[I 2023-01-22 20:33:54,366]\u001b[0m Trial 468 finished with value: 0.8002503220832646 and parameters: {'C': 0.4158272640348058, 'max_iter': 6064}. Best is trial 211 with value: 0.8032011540821552.\u001b[0m\n",
            "\u001b[32m[I 2023-01-22 20:34:22,752]\u001b[0m Trial 469 finished with value: 0.7897007135569882 and parameters: {'C': 6.301418426908745, 'max_iter': 5702}. Best is trial 211 with value: 0.8032011540821552.\u001b[0m\n",
            "\u001b[32m[I 2023-01-22 20:34:30,937]\u001b[0m Trial 470 finished with value: 0.8031977733173545 and parameters: {'C': 0.10415499171455826, 'max_iter': 5865}. Best is trial 211 with value: 0.8032011540821552.\u001b[0m\n",
            "\u001b[32m[I 2023-01-22 20:34:55,948]\u001b[0m Trial 471 finished with value: 0.7901906680173537 and parameters: {'C': 5.2283726608040935, 'max_iter': 6220}. Best is trial 211 with value: 0.8032011540821552.\u001b[0m\n",
            "\u001b[32m[I 2023-01-22 20:35:14,373]\u001b[0m Trial 472 finished with value: 0.7953747045023163 and parameters: {'C': 1.2896829447554874, 'max_iter': 5958}. Best is trial 211 with value: 0.8032011540821552.\u001b[0m\n",
            "\u001b[32m[I 2023-01-22 20:35:28,680]\u001b[0m Trial 473 finished with value: 0.7985272781456311 and parameters: {'C': 0.6320951998783676, 'max_iter': 5854}. Best is trial 211 with value: 0.8032011540821552.\u001b[0m\n",
            "\u001b[32m[I 2023-01-22 20:35:38,596]\u001b[0m Trial 474 finished with value: 0.8016663705967999 and parameters: {'C': 0.2774024320299803, 'max_iter': 6011}. Best is trial 211 with value: 0.8032011540821552.\u001b[0m\n",
            "\u001b[32m[I 2023-01-22 20:36:11,478]\u001b[0m Trial 475 finished with value: 0.7894822669570789 and parameters: {'C': 6.812075872433921, 'max_iter': 5765}. Best is trial 211 with value: 0.8032011540821552.\u001b[0m\n",
            "\u001b[32m[I 2023-01-22 20:36:40,578]\u001b[0m Trial 476 finished with value: 0.7900453631648949 and parameters: {'C': 5.5440178851749815, 'max_iter': 6454}. Best is trial 211 with value: 0.8032011540821552.\u001b[0m\n",
            "\u001b[32m[I 2023-01-22 20:37:04,229]\u001b[0m Trial 477 finished with value: 0.7913899289130877 and parameters: {'C': 3.568145903035991, 'max_iter': 6201}. Best is trial 211 with value: 0.8032011540821552.\u001b[0m\n",
            "\u001b[32m[I 2023-01-22 20:37:16,370]\u001b[0m Trial 478 finished with value: 0.8017625758589194 and parameters: {'C': 0.26826720661406256, 'max_iter': 5543}. Best is trial 211 with value: 0.8032011540821552.\u001b[0m\n",
            "\u001b[32m[I 2023-01-22 20:37:24,612]\u001b[0m Trial 479 finished with value: 0.8031966586069792 and parameters: {'C': 0.10509905965339048, 'max_iter': 5906}. Best is trial 211 with value: 0.8032011540821552.\u001b[0m\n",
            "\u001b[32m[I 2023-01-22 20:37:38,378]\u001b[0m Trial 480 finished with value: 0.8000102877824226 and parameters: {'C': 0.442359776069169, 'max_iter': 5593}. Best is trial 211 with value: 0.8032011540821552.\u001b[0m\n",
            "\u001b[32m[I 2023-01-22 20:38:03,230]\u001b[0m Trial 481 finished with value: 0.7897682398855053 and parameters: {'C': 6.050566413877988, 'max_iter': 9691}. Best is trial 211 with value: 0.8032011540821552.\u001b[0m\n",
            "\u001b[32m[I 2023-01-22 20:38:16,674]\u001b[0m Trial 482 finished with value: 0.7976606667127764 and parameters: {'C': 0.7737403706696284, 'max_iter': 5405}. Best is trial 211 with value: 0.8032011540821552.\u001b[0m\n",
            "\u001b[32m[I 2023-01-22 20:38:24,378]\u001b[0m Trial 483 finished with value: 0.8031972133454759 and parameters: {'C': 0.1001216451950145, 'max_iter': 5782}. Best is trial 211 with value: 0.8032011540821552.\u001b[0m\n",
            "\u001b[32m[I 2023-01-22 20:38:40,207]\u001b[0m Trial 484 finished with value: 0.7989497219776256 and parameters: {'C': 0.5736762118622565, 'max_iter': 6152}. Best is trial 211 with value: 0.8032011540821552.\u001b[0m\n",
            "\u001b[32m[I 2023-01-22 20:39:04,647]\u001b[0m Trial 485 finished with value: 0.789904438653207 and parameters: {'C': 5.80019747706461, 'max_iter': 9416}. Best is trial 211 with value: 0.8032011540821552.\u001b[0m\n",
            "\u001b[32m[I 2023-01-22 20:39:35,706]\u001b[0m Trial 486 finished with value: 0.789094080843946 and parameters: {'C': 7.866955630383661, 'max_iter': 6613}. Best is trial 211 with value: 0.8032011540821552.\u001b[0m\n",
            "\u001b[32m[I 2023-01-22 20:39:47,038]\u001b[0m Trial 487 finished with value: 0.8012694081019788 and parameters: {'C': 0.31357775507719804, 'max_iter': 5298}. Best is trial 211 with value: 0.8032011540821552.\u001b[0m\n",
            "\u001b[32m[I 2023-01-22 20:40:19,338]\u001b[0m Trial 488 finished with value: 0.7888543762461729 and parameters: {'C': 8.634241243177849, 'max_iter': 5625}. Best is trial 211 with value: 0.8032011540821552.\u001b[0m\n",
            "\u001b[32m[I 2023-01-22 20:40:31,130]\u001b[0m Trial 489 finished with value: 0.8007351635293727 and parameters: {'C': 0.3650382671674645, 'max_iter': 5839}. Best is trial 211 with value: 0.8032011540821552.\u001b[0m\n",
            "\u001b[32m[I 2023-01-22 20:40:42,823]\u001b[0m Trial 490 finished with value: 0.8014779479096783 and parameters: {'C': 0.29447567702273436, 'max_iter': 5453}. Best is trial 211 with value: 0.8032011540821552.\u001b[0m\n",
            "\u001b[32m[I 2023-01-22 20:40:58,701]\u001b[0m Trial 491 finished with value: 0.798911335120331 and parameters: {'C': 0.5787551464489782, 'max_iter': 6856}. Best is trial 211 with value: 0.8032011540821552.\u001b[0m\n",
            "\u001b[32m[I 2023-01-22 20:41:07,232]\u001b[0m Trial 492 finished with value: 0.8031972709126785 and parameters: {'C': 0.10718684176569794, 'max_iter': 7691}. Best is trial 211 with value: 0.8032011540821552.\u001b[0m\n",
            "\u001b[32m[I 2023-01-22 20:41:24,606]\u001b[0m Trial 493 finished with value: 0.7967862837075858 and parameters: {'C': 0.9370631004910385, 'max_iter': 6046}. Best is trial 211 with value: 0.8032011540821552.\u001b[0m\n",
            "\u001b[32m[I 2023-01-22 20:41:53,388]\u001b[0m Trial 494 finished with value: 0.7894359410592232 and parameters: {'C': 6.872411477981612, 'max_iter': 9085}. Best is trial 211 with value: 0.8032011540821552.\u001b[0m\n",
            "\u001b[32m[I 2023-01-22 20:42:16,892]\u001b[0m Trial 495 finished with value: 0.7916551619484726 and parameters: {'C': 3.3045896022635004, 'max_iter': 6344}. Best is trial 211 with value: 0.8032011540821552.\u001b[0m\n",
            "\u001b[32m[I 2023-01-22 20:42:31,159]\u001b[0m Trial 496 finished with value: 0.8000001454880208 and parameters: {'C': 0.4437617551766323, 'max_iter': 5628}. Best is trial 211 with value: 0.8032011540821552.\u001b[0m\n",
            "\u001b[32m[I 2023-01-22 20:42:38,705]\u001b[0m Trial 497 finished with value: 0.8031961614356851 and parameters: {'C': 0.10062124411161559, 'max_iter': 5266}. Best is trial 211 with value: 0.8032011540821552.\u001b[0m\n",
            "\u001b[32m[I 2023-01-22 20:42:50,157]\u001b[0m Trial 498 finished with value: 0.8017155853215441 and parameters: {'C': 0.27265286645007064, 'max_iter': 5812}. Best is trial 211 with value: 0.8032011540821552.\u001b[0m\n",
            "\u001b[32m[I 2023-01-22 20:43:12,582]\u001b[0m Trial 499 finished with value: 0.7910343886371469 and parameters: {'C': 3.949481120332605, 'max_iter': 5472}. Best is trial 211 with value: 0.8032011540821552.\u001b[0m\n",
            "Best trial score: 0.8032011540821552\n",
            "Best params: {'C': 0.10834540601334458, 'max_iter': 5585}\n"
          ]
        }
      ]
    },
    {
      "cell_type": "markdown",
      "source": [
        "\n",
        "탐색 211회에 최적 하이퍼파라미터를 찾았습니다. 최고 점수인 0.8053205237751317보다 0.002만큼 낮은 수준입니다. 성능이 매우 미세하게 떨어질 것으로 예상합니다. 전체 데이터를 사용하여 모델을 훈련해 보겠습니다."
      ],
      "metadata": {
        "id": "phCoACbPhWmT"
      }
    },
    {
      "cell_type": "code",
      "source": [
        "params = study_logistic.best_trial.params\n",
        "model_logistic = LogisticRegression(**params)\n",
        "model_logistic.fit(X_train_sparse, y_train_original)"
      ],
      "metadata": {
        "colab": {
          "base_uri": "https://localhost:8080/"
        },
        "id": "eXYcEONCgJzU",
        "outputId": "91c48d8d-804c-430e-ff30-404924a85b7a"
      },
      "execution_count": 39,
      "outputs": [
        {
          "output_type": "execute_result",
          "data": {
            "text/plain": [
              "LogisticRegression(C=0.10834540601334458, max_iter=5585)"
            ]
          },
          "metadata": {},
          "execution_count": 39
        }
      ]
    },
    {
      "cell_type": "markdown",
      "source": [
        "파일을 제출해 보겠습니다."
      ],
      "metadata": {
        "id": "-k8aktkShO0J"
      }
    },
    {
      "cell_type": "code",
      "source": [
        "submission['target'] = model_logistic.predict_proba(X_test_sparse)[:, 1]\n",
        "submission.to_csv('Categorical_Feature_Encoding_Challenge_submission11.csv')"
      ],
      "metadata": {
        "id": "h2DgX02ggLtt"
      },
      "execution_count": 40,
      "outputs": []
    },
    {
      "cell_type": "markdown",
      "source": [
        "예상과 달리 최고 점수인 0.80275보다 0.00001 높은 0.80276입니다. 15위에서 한 계단 오른 14위입니다."
      ],
      "metadata": {
        "id": "BhDahZZ9SIEV"
      }
    },
    {
      "cell_type": "markdown",
      "source": [
        "# **5. 결론**"
      ],
      "metadata": {
        "id": "qAMfxEj1xDov"
      }
    },
    {
      "cell_type": "markdown",
      "source": [
        "최종 모델링을 수행하는 다음 챕터에서 가장 좋은 성능을 내는 로지스틱 회귀 모델을 최종 모델로 선정하겠습니다. 일반적으로 앙상블 기반 결정트리 알고리즘은 로지스틱 회귀 알고리즘보다 좋은 성능을 냅니다. 결정적인 단점이라면 데이터 수가 많을 때 학습 시간이 매우 오래 걸립니다.\n",
        "\n",
        "다시 강조하지만 실무에서는 모델 성능보다 우선해야 할 중요한 게 있습니다. 약간의 성능 저하를 감안하더라도 과(소)적합을 방지하는 조치가 훨씬 더 유의미하고 필수적입니다.\n",
        "\n",
        "물론 대회에서는 매우 작은 점수 차로 순위가 뒤바뀝니다. 연습 대회가 아닌 실제 대회였다면 다른 알고리즘을 토대로 더 높은 점수를 획득하는 데 전념했을 것입니다."
      ],
      "metadata": {
        "id": "ZEA_6ZVf0dN1"
      }
    }
  ]
}
