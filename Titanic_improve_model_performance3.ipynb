{
  "nbformat": 4,
  "nbformat_minor": 0,
  "metadata": {
    "colab": {
      "provenance": [],
      "toc_visible": true,
      "authorship_tag": "ABX9TyPnSoE96RhZMqpetTZ4fZhj",
      "include_colab_link": true
    },
    "kernelspec": {
      "name": "python3",
      "display_name": "Python 3"
    },
    "language_info": {
      "name": "python"
    },
    "widgets": {
      "application/vnd.jupyter.widget-state+json": {
        "8e9dd6632bf74ce59b7a133cf99bdbea": {
          "model_module": "@jupyter-widgets/controls",
          "model_name": "HBoxModel",
          "model_module_version": "1.5.0",
          "state": {
            "_dom_classes": [],
            "_model_module": "@jupyter-widgets/controls",
            "_model_module_version": "1.5.0",
            "_model_name": "HBoxModel",
            "_view_count": null,
            "_view_module": "@jupyter-widgets/controls",
            "_view_module_version": "1.5.0",
            "_view_name": "HBoxView",
            "box_style": "",
            "children": [
              "IPY_MODEL_0a0c07e825504b1c982ec1a6cd200143",
              "IPY_MODEL_28d3320912f24fcaadd1be0b101a0827",
              "IPY_MODEL_06304a24e0b7401bb53ffb9c727e60be"
            ],
            "layout": "IPY_MODEL_bd4058ff5add405ca7d2ee577deba106"
          }
        },
        "0a0c07e825504b1c982ec1a6cd200143": {
          "model_module": "@jupyter-widgets/controls",
          "model_name": "HTMLModel",
          "model_module_version": "1.5.0",
          "state": {
            "_dom_classes": [],
            "_model_module": "@jupyter-widgets/controls",
            "_model_module_version": "1.5.0",
            "_model_name": "HTMLModel",
            "_view_count": null,
            "_view_module": "@jupyter-widgets/controls",
            "_view_module_version": "1.5.0",
            "_view_name": "HTMLView",
            "description": "",
            "description_tooltip": null,
            "layout": "IPY_MODEL_af65b59f4ef2401a90b6456828b9278a",
            "placeholder": "​",
            "style": "IPY_MODEL_b0241e370ad84463af6ca63cbe7eb90c",
            "value": "100%"
          }
        },
        "28d3320912f24fcaadd1be0b101a0827": {
          "model_module": "@jupyter-widgets/controls",
          "model_name": "FloatProgressModel",
          "model_module_version": "1.5.0",
          "state": {
            "_dom_classes": [],
            "_model_module": "@jupyter-widgets/controls",
            "_model_module_version": "1.5.0",
            "_model_name": "FloatProgressModel",
            "_view_count": null,
            "_view_module": "@jupyter-widgets/controls",
            "_view_module_version": "1.5.0",
            "_view_name": "ProgressView",
            "bar_style": "success",
            "description": "",
            "description_tooltip": null,
            "layout": "IPY_MODEL_dba5b3e61839476197f4d8e5104da3e5",
            "max": 500,
            "min": 0,
            "orientation": "horizontal",
            "style": "IPY_MODEL_ce508ff7503b42e0acd09f9ffe6c99b2",
            "value": 500
          }
        },
        "06304a24e0b7401bb53ffb9c727e60be": {
          "model_module": "@jupyter-widgets/controls",
          "model_name": "HTMLModel",
          "model_module_version": "1.5.0",
          "state": {
            "_dom_classes": [],
            "_model_module": "@jupyter-widgets/controls",
            "_model_module_version": "1.5.0",
            "_model_name": "HTMLModel",
            "_view_count": null,
            "_view_module": "@jupyter-widgets/controls",
            "_view_module_version": "1.5.0",
            "_view_name": "HTMLView",
            "description": "",
            "description_tooltip": null,
            "layout": "IPY_MODEL_cfbf48e08bda4101bf7ad6c6432e4b11",
            "placeholder": "​",
            "style": "IPY_MODEL_d19cc45e418c4128819be4f14eba0dad",
            "value": " 500/500 [06:09&lt;00:00,  1.07it/s]"
          }
        },
        "bd4058ff5add405ca7d2ee577deba106": {
          "model_module": "@jupyter-widgets/base",
          "model_name": "LayoutModel",
          "model_module_version": "1.2.0",
          "state": {
            "_model_module": "@jupyter-widgets/base",
            "_model_module_version": "1.2.0",
            "_model_name": "LayoutModel",
            "_view_count": null,
            "_view_module": "@jupyter-widgets/base",
            "_view_module_version": "1.2.0",
            "_view_name": "LayoutView",
            "align_content": null,
            "align_items": null,
            "align_self": null,
            "border": null,
            "bottom": null,
            "display": null,
            "flex": null,
            "flex_flow": null,
            "grid_area": null,
            "grid_auto_columns": null,
            "grid_auto_flow": null,
            "grid_auto_rows": null,
            "grid_column": null,
            "grid_gap": null,
            "grid_row": null,
            "grid_template_areas": null,
            "grid_template_columns": null,
            "grid_template_rows": null,
            "height": null,
            "justify_content": null,
            "justify_items": null,
            "left": null,
            "margin": null,
            "max_height": null,
            "max_width": null,
            "min_height": null,
            "min_width": null,
            "object_fit": null,
            "object_position": null,
            "order": null,
            "overflow": null,
            "overflow_x": null,
            "overflow_y": null,
            "padding": null,
            "right": null,
            "top": null,
            "visibility": null,
            "width": null
          }
        },
        "af65b59f4ef2401a90b6456828b9278a": {
          "model_module": "@jupyter-widgets/base",
          "model_name": "LayoutModel",
          "model_module_version": "1.2.0",
          "state": {
            "_model_module": "@jupyter-widgets/base",
            "_model_module_version": "1.2.0",
            "_model_name": "LayoutModel",
            "_view_count": null,
            "_view_module": "@jupyter-widgets/base",
            "_view_module_version": "1.2.0",
            "_view_name": "LayoutView",
            "align_content": null,
            "align_items": null,
            "align_self": null,
            "border": null,
            "bottom": null,
            "display": null,
            "flex": null,
            "flex_flow": null,
            "grid_area": null,
            "grid_auto_columns": null,
            "grid_auto_flow": null,
            "grid_auto_rows": null,
            "grid_column": null,
            "grid_gap": null,
            "grid_row": null,
            "grid_template_areas": null,
            "grid_template_columns": null,
            "grid_template_rows": null,
            "height": null,
            "justify_content": null,
            "justify_items": null,
            "left": null,
            "margin": null,
            "max_height": null,
            "max_width": null,
            "min_height": null,
            "min_width": null,
            "object_fit": null,
            "object_position": null,
            "order": null,
            "overflow": null,
            "overflow_x": null,
            "overflow_y": null,
            "padding": null,
            "right": null,
            "top": null,
            "visibility": null,
            "width": null
          }
        },
        "b0241e370ad84463af6ca63cbe7eb90c": {
          "model_module": "@jupyter-widgets/controls",
          "model_name": "DescriptionStyleModel",
          "model_module_version": "1.5.0",
          "state": {
            "_model_module": "@jupyter-widgets/controls",
            "_model_module_version": "1.5.0",
            "_model_name": "DescriptionStyleModel",
            "_view_count": null,
            "_view_module": "@jupyter-widgets/base",
            "_view_module_version": "1.2.0",
            "_view_name": "StyleView",
            "description_width": ""
          }
        },
        "dba5b3e61839476197f4d8e5104da3e5": {
          "model_module": "@jupyter-widgets/base",
          "model_name": "LayoutModel",
          "model_module_version": "1.2.0",
          "state": {
            "_model_module": "@jupyter-widgets/base",
            "_model_module_version": "1.2.0",
            "_model_name": "LayoutModel",
            "_view_count": null,
            "_view_module": "@jupyter-widgets/base",
            "_view_module_version": "1.2.0",
            "_view_name": "LayoutView",
            "align_content": null,
            "align_items": null,
            "align_self": null,
            "border": null,
            "bottom": null,
            "display": null,
            "flex": null,
            "flex_flow": null,
            "grid_area": null,
            "grid_auto_columns": null,
            "grid_auto_flow": null,
            "grid_auto_rows": null,
            "grid_column": null,
            "grid_gap": null,
            "grid_row": null,
            "grid_template_areas": null,
            "grid_template_columns": null,
            "grid_template_rows": null,
            "height": null,
            "justify_content": null,
            "justify_items": null,
            "left": null,
            "margin": null,
            "max_height": null,
            "max_width": null,
            "min_height": null,
            "min_width": null,
            "object_fit": null,
            "object_position": null,
            "order": null,
            "overflow": null,
            "overflow_x": null,
            "overflow_y": null,
            "padding": null,
            "right": null,
            "top": null,
            "visibility": null,
            "width": null
          }
        },
        "ce508ff7503b42e0acd09f9ffe6c99b2": {
          "model_module": "@jupyter-widgets/controls",
          "model_name": "ProgressStyleModel",
          "model_module_version": "1.5.0",
          "state": {
            "_model_module": "@jupyter-widgets/controls",
            "_model_module_version": "1.5.0",
            "_model_name": "ProgressStyleModel",
            "_view_count": null,
            "_view_module": "@jupyter-widgets/base",
            "_view_module_version": "1.2.0",
            "_view_name": "StyleView",
            "bar_color": null,
            "description_width": ""
          }
        },
        "cfbf48e08bda4101bf7ad6c6432e4b11": {
          "model_module": "@jupyter-widgets/base",
          "model_name": "LayoutModel",
          "model_module_version": "1.2.0",
          "state": {
            "_model_module": "@jupyter-widgets/base",
            "_model_module_version": "1.2.0",
            "_model_name": "LayoutModel",
            "_view_count": null,
            "_view_module": "@jupyter-widgets/base",
            "_view_module_version": "1.2.0",
            "_view_name": "LayoutView",
            "align_content": null,
            "align_items": null,
            "align_self": null,
            "border": null,
            "bottom": null,
            "display": null,
            "flex": null,
            "flex_flow": null,
            "grid_area": null,
            "grid_auto_columns": null,
            "grid_auto_flow": null,
            "grid_auto_rows": null,
            "grid_column": null,
            "grid_gap": null,
            "grid_row": null,
            "grid_template_areas": null,
            "grid_template_columns": null,
            "grid_template_rows": null,
            "height": null,
            "justify_content": null,
            "justify_items": null,
            "left": null,
            "margin": null,
            "max_height": null,
            "max_width": null,
            "min_height": null,
            "min_width": null,
            "object_fit": null,
            "object_position": null,
            "order": null,
            "overflow": null,
            "overflow_x": null,
            "overflow_y": null,
            "padding": null,
            "right": null,
            "top": null,
            "visibility": null,
            "width": null
          }
        },
        "d19cc45e418c4128819be4f14eba0dad": {
          "model_module": "@jupyter-widgets/controls",
          "model_name": "DescriptionStyleModel",
          "model_module_version": "1.5.0",
          "state": {
            "_model_module": "@jupyter-widgets/controls",
            "_model_module_version": "1.5.0",
            "_model_name": "DescriptionStyleModel",
            "_view_count": null,
            "_view_module": "@jupyter-widgets/base",
            "_view_module_version": "1.2.0",
            "_view_name": "StyleView",
            "description_width": ""
          }
        }
      }
    }
  },
  "cells": [
    {
      "cell_type": "markdown",
      "metadata": {
        "id": "view-in-github",
        "colab_type": "text"
      },
      "source": [
        "<a href=\"https://colab.research.google.com/github/LeeSeungwon89/Kaggle_Dacon_Practice/blob/main/Titanic_improve_model_performance3.ipynb\" target=\"_parent\"><img src=\"https://colab.research.google.com/assets/colab-badge.svg\" alt=\"Open In Colab\"/></a>"
      ]
    },
    {
      "cell_type": "code",
      "execution_count": null,
      "metadata": {
        "id": "qFlsYDWZvlGN"
      },
      "outputs": [],
      "source": [
        "!pip install kaggle\n",
        "from google.colab import files\n",
        "files.upload()"
      ]
    },
    {
      "cell_type": "code",
      "source": [
        "ls -1ha kaggle.json"
      ],
      "metadata": {
        "id": "ZYZL2kb0CpPc",
        "colab": {
          "base_uri": "https://localhost:8080/"
        },
        "outputId": "6a62bfa5-66d2-47e3-adc4-6b11756112b4"
      },
      "execution_count": 2,
      "outputs": [
        {
          "output_type": "stream",
          "name": "stdout",
          "text": [
            "kaggle.json\n"
          ]
        }
      ]
    },
    {
      "cell_type": "code",
      "source": [
        "!mkdir -p ~/.kaggle\n",
        "!cp kaggle.json ~/.kaggle/\n",
        "\n",
        "# Permission Warning이 발생하지 않도록 해줍니다.\n",
        "!chmod 600 ~/.kaggle/kaggle.json\n",
        "\n",
        "# 참가한 대회 리스트를 확인합니다.\n",
        "!kaggle competitions list"
      ],
      "metadata": {
        "id": "8zdRBiQJCuQo"
      },
      "execution_count": null,
      "outputs": []
    },
    {
      "cell_type": "code",
      "source": [
        "!kaggle competitions download -c titanic"
      ],
      "metadata": {
        "id": "j0HcY5w7CyKT",
        "colab": {
          "base_uri": "https://localhost:8080/"
        },
        "outputId": "0a5fb875-8430-4351-dd2e-e989c319aafa"
      },
      "execution_count": 4,
      "outputs": [
        {
          "output_type": "stream",
          "name": "stdout",
          "text": [
            "Downloading titanic.zip to /content\n",
            "\r  0% 0.00/34.1k [00:00<?, ?B/s]\n",
            "\r100% 34.1k/34.1k [00:00<00:00, 9.01MB/s]\n"
          ]
        }
      ]
    },
    {
      "cell_type": "code",
      "source": [
        "!ls"
      ],
      "metadata": {
        "id": "sReL7PpzCzoM",
        "colab": {
          "base_uri": "https://localhost:8080/"
        },
        "outputId": "8ecfe5bd-d4e2-4206-acc9-6f24646fe1ea"
      },
      "execution_count": 5,
      "outputs": [
        {
          "output_type": "stream",
          "name": "stdout",
          "text": [
            "kaggle.json  sample_data  titanic.zip\n"
          ]
        }
      ]
    },
    {
      "cell_type": "code",
      "source": [
        "!unzip titanic.zip"
      ],
      "metadata": {
        "id": "ofXLSoZ0C1pN",
        "colab": {
          "base_uri": "https://localhost:8080/"
        },
        "outputId": "7a6d6947-ca3e-476b-a345-6d3213721e2f"
      },
      "execution_count": 6,
      "outputs": [
        {
          "output_type": "stream",
          "name": "stdout",
          "text": [
            "Archive:  titanic.zip\n",
            "  inflating: gender_submission.csv   \n",
            "  inflating: test.csv                \n",
            "  inflating: train.csv               \n"
          ]
        }
      ]
    },
    {
      "cell_type": "markdown",
      "source": [
        "# **1. 세 번째 성능 개선 시도(업데이트 중)**"
      ],
      "metadata": {
        "id": "TP4Ipo3t1tMC"
      }
    },
    {
      "cell_type": "markdown",
      "source": [
        "이번엔 두 번째 성능 시도를 토대로 개선할 점이 있는지 모색해 보겠습니다."
      ],
      "metadata": {
        "id": "OwBFDD7i15an"
      }
    },
    {
      "cell_type": "markdown",
      "source": [
        "# **2. 새로운 피처 엔지니어링**"
      ],
      "metadata": {
        "id": "e_ug5ceORRUq"
      }
    },
    {
      "cell_type": "code",
      "source": [
        "import numpy as np\n",
        "import pandas as pd\n",
        "\n",
        "pd.set_option('display.max_column', 50)\n",
        "pd.set_option('display.max_rows', 50)\n",
        "\n",
        "train = pd.read_csv('train.csv')\n",
        "test = pd.read_csv('test.csv')\n",
        "submission = pd.read_csv('gender_submission.csv')\n",
        "\n",
        "# 피처 엔지니어링을 위해 훈련 및 테스트 데이터를 결합합니다.\n",
        "all_data = pd.concat([train, test], ignore_index=True)\n",
        "all_data"
      ],
      "metadata": {
        "colab": {
          "base_uri": "https://localhost:8080/",
          "height": 423
        },
        "id": "1tQQqCRqQQqC",
        "outputId": "bd7e5887-47b4-4025-fbdc-f27bd3c80183"
      },
      "execution_count": 7,
      "outputs": [
        {
          "output_type": "execute_result",
          "data": {
            "text/plain": [
              "      PassengerId  Survived  Pclass  \\\n",
              "0               1       0.0       3   \n",
              "1               2       1.0       1   \n",
              "2               3       1.0       3   \n",
              "3               4       1.0       1   \n",
              "4               5       0.0       3   \n",
              "...           ...       ...     ...   \n",
              "1304         1305       NaN       3   \n",
              "1305         1306       NaN       1   \n",
              "1306         1307       NaN       3   \n",
              "1307         1308       NaN       3   \n",
              "1308         1309       NaN       3   \n",
              "\n",
              "                                                   Name     Sex   Age  SibSp  \\\n",
              "0                               Braund, Mr. Owen Harris    male  22.0      1   \n",
              "1     Cumings, Mrs. John Bradley (Florence Briggs Th...  female  38.0      1   \n",
              "2                                Heikkinen, Miss. Laina  female  26.0      0   \n",
              "3          Futrelle, Mrs. Jacques Heath (Lily May Peel)  female  35.0      1   \n",
              "4                              Allen, Mr. William Henry    male  35.0      0   \n",
              "...                                                 ...     ...   ...    ...   \n",
              "1304                                 Spector, Mr. Woolf    male   NaN      0   \n",
              "1305                       Oliva y Ocana, Dona. Fermina  female  39.0      0   \n",
              "1306                       Saether, Mr. Simon Sivertsen    male  38.5      0   \n",
              "1307                                Ware, Mr. Frederick    male   NaN      0   \n",
              "1308                           Peter, Master. Michael J    male   NaN      1   \n",
              "\n",
              "      Parch              Ticket      Fare Cabin Embarked  \n",
              "0         0           A/5 21171    7.2500   NaN        S  \n",
              "1         0            PC 17599   71.2833   C85        C  \n",
              "2         0    STON/O2. 3101282    7.9250   NaN        S  \n",
              "3         0              113803   53.1000  C123        S  \n",
              "4         0              373450    8.0500   NaN        S  \n",
              "...     ...                 ...       ...   ...      ...  \n",
              "1304      0           A.5. 3236    8.0500   NaN        S  \n",
              "1305      0            PC 17758  108.9000  C105        C  \n",
              "1306      0  SOTON/O.Q. 3101262    7.2500   NaN        S  \n",
              "1307      0              359309    8.0500   NaN        S  \n",
              "1308      1                2668   22.3583   NaN        C  \n",
              "\n",
              "[1309 rows x 12 columns]"
            ],
            "text/html": [
              "\n",
              "  <div id=\"df-0c110226-8a35-4b69-8ff0-fb5867459653\">\n",
              "    <div class=\"colab-df-container\">\n",
              "      <div>\n",
              "<style scoped>\n",
              "    .dataframe tbody tr th:only-of-type {\n",
              "        vertical-align: middle;\n",
              "    }\n",
              "\n",
              "    .dataframe tbody tr th {\n",
              "        vertical-align: top;\n",
              "    }\n",
              "\n",
              "    .dataframe thead th {\n",
              "        text-align: right;\n",
              "    }\n",
              "</style>\n",
              "<table border=\"1\" class=\"dataframe\">\n",
              "  <thead>\n",
              "    <tr style=\"text-align: right;\">\n",
              "      <th></th>\n",
              "      <th>PassengerId</th>\n",
              "      <th>Survived</th>\n",
              "      <th>Pclass</th>\n",
              "      <th>Name</th>\n",
              "      <th>Sex</th>\n",
              "      <th>Age</th>\n",
              "      <th>SibSp</th>\n",
              "      <th>Parch</th>\n",
              "      <th>Ticket</th>\n",
              "      <th>Fare</th>\n",
              "      <th>Cabin</th>\n",
              "      <th>Embarked</th>\n",
              "    </tr>\n",
              "  </thead>\n",
              "  <tbody>\n",
              "    <tr>\n",
              "      <th>0</th>\n",
              "      <td>1</td>\n",
              "      <td>0.0</td>\n",
              "      <td>3</td>\n",
              "      <td>Braund, Mr. Owen Harris</td>\n",
              "      <td>male</td>\n",
              "      <td>22.0</td>\n",
              "      <td>1</td>\n",
              "      <td>0</td>\n",
              "      <td>A/5 21171</td>\n",
              "      <td>7.2500</td>\n",
              "      <td>NaN</td>\n",
              "      <td>S</td>\n",
              "    </tr>\n",
              "    <tr>\n",
              "      <th>1</th>\n",
              "      <td>2</td>\n",
              "      <td>1.0</td>\n",
              "      <td>1</td>\n",
              "      <td>Cumings, Mrs. John Bradley (Florence Briggs Th...</td>\n",
              "      <td>female</td>\n",
              "      <td>38.0</td>\n",
              "      <td>1</td>\n",
              "      <td>0</td>\n",
              "      <td>PC 17599</td>\n",
              "      <td>71.2833</td>\n",
              "      <td>C85</td>\n",
              "      <td>C</td>\n",
              "    </tr>\n",
              "    <tr>\n",
              "      <th>2</th>\n",
              "      <td>3</td>\n",
              "      <td>1.0</td>\n",
              "      <td>3</td>\n",
              "      <td>Heikkinen, Miss. Laina</td>\n",
              "      <td>female</td>\n",
              "      <td>26.0</td>\n",
              "      <td>0</td>\n",
              "      <td>0</td>\n",
              "      <td>STON/O2. 3101282</td>\n",
              "      <td>7.9250</td>\n",
              "      <td>NaN</td>\n",
              "      <td>S</td>\n",
              "    </tr>\n",
              "    <tr>\n",
              "      <th>3</th>\n",
              "      <td>4</td>\n",
              "      <td>1.0</td>\n",
              "      <td>1</td>\n",
              "      <td>Futrelle, Mrs. Jacques Heath (Lily May Peel)</td>\n",
              "      <td>female</td>\n",
              "      <td>35.0</td>\n",
              "      <td>1</td>\n",
              "      <td>0</td>\n",
              "      <td>113803</td>\n",
              "      <td>53.1000</td>\n",
              "      <td>C123</td>\n",
              "      <td>S</td>\n",
              "    </tr>\n",
              "    <tr>\n",
              "      <th>4</th>\n",
              "      <td>5</td>\n",
              "      <td>0.0</td>\n",
              "      <td>3</td>\n",
              "      <td>Allen, Mr. William Henry</td>\n",
              "      <td>male</td>\n",
              "      <td>35.0</td>\n",
              "      <td>0</td>\n",
              "      <td>0</td>\n",
              "      <td>373450</td>\n",
              "      <td>8.0500</td>\n",
              "      <td>NaN</td>\n",
              "      <td>S</td>\n",
              "    </tr>\n",
              "    <tr>\n",
              "      <th>...</th>\n",
              "      <td>...</td>\n",
              "      <td>...</td>\n",
              "      <td>...</td>\n",
              "      <td>...</td>\n",
              "      <td>...</td>\n",
              "      <td>...</td>\n",
              "      <td>...</td>\n",
              "      <td>...</td>\n",
              "      <td>...</td>\n",
              "      <td>...</td>\n",
              "      <td>...</td>\n",
              "      <td>...</td>\n",
              "    </tr>\n",
              "    <tr>\n",
              "      <th>1304</th>\n",
              "      <td>1305</td>\n",
              "      <td>NaN</td>\n",
              "      <td>3</td>\n",
              "      <td>Spector, Mr. Woolf</td>\n",
              "      <td>male</td>\n",
              "      <td>NaN</td>\n",
              "      <td>0</td>\n",
              "      <td>0</td>\n",
              "      <td>A.5. 3236</td>\n",
              "      <td>8.0500</td>\n",
              "      <td>NaN</td>\n",
              "      <td>S</td>\n",
              "    </tr>\n",
              "    <tr>\n",
              "      <th>1305</th>\n",
              "      <td>1306</td>\n",
              "      <td>NaN</td>\n",
              "      <td>1</td>\n",
              "      <td>Oliva y Ocana, Dona. Fermina</td>\n",
              "      <td>female</td>\n",
              "      <td>39.0</td>\n",
              "      <td>0</td>\n",
              "      <td>0</td>\n",
              "      <td>PC 17758</td>\n",
              "      <td>108.9000</td>\n",
              "      <td>C105</td>\n",
              "      <td>C</td>\n",
              "    </tr>\n",
              "    <tr>\n",
              "      <th>1306</th>\n",
              "      <td>1307</td>\n",
              "      <td>NaN</td>\n",
              "      <td>3</td>\n",
              "      <td>Saether, Mr. Simon Sivertsen</td>\n",
              "      <td>male</td>\n",
              "      <td>38.5</td>\n",
              "      <td>0</td>\n",
              "      <td>0</td>\n",
              "      <td>SOTON/O.Q. 3101262</td>\n",
              "      <td>7.2500</td>\n",
              "      <td>NaN</td>\n",
              "      <td>S</td>\n",
              "    </tr>\n",
              "    <tr>\n",
              "      <th>1307</th>\n",
              "      <td>1308</td>\n",
              "      <td>NaN</td>\n",
              "      <td>3</td>\n",
              "      <td>Ware, Mr. Frederick</td>\n",
              "      <td>male</td>\n",
              "      <td>NaN</td>\n",
              "      <td>0</td>\n",
              "      <td>0</td>\n",
              "      <td>359309</td>\n",
              "      <td>8.0500</td>\n",
              "      <td>NaN</td>\n",
              "      <td>S</td>\n",
              "    </tr>\n",
              "    <tr>\n",
              "      <th>1308</th>\n",
              "      <td>1309</td>\n",
              "      <td>NaN</td>\n",
              "      <td>3</td>\n",
              "      <td>Peter, Master. Michael J</td>\n",
              "      <td>male</td>\n",
              "      <td>NaN</td>\n",
              "      <td>1</td>\n",
              "      <td>1</td>\n",
              "      <td>2668</td>\n",
              "      <td>22.3583</td>\n",
              "      <td>NaN</td>\n",
              "      <td>C</td>\n",
              "    </tr>\n",
              "  </tbody>\n",
              "</table>\n",
              "<p>1309 rows × 12 columns</p>\n",
              "</div>\n",
              "      <button class=\"colab-df-convert\" onclick=\"convertToInteractive('df-0c110226-8a35-4b69-8ff0-fb5867459653')\"\n",
              "              title=\"Convert this dataframe to an interactive table.\"\n",
              "              style=\"display:none;\">\n",
              "        \n",
              "  <svg xmlns=\"http://www.w3.org/2000/svg\" height=\"24px\"viewBox=\"0 0 24 24\"\n",
              "       width=\"24px\">\n",
              "    <path d=\"M0 0h24v24H0V0z\" fill=\"none\"/>\n",
              "    <path d=\"M18.56 5.44l.94 2.06.94-2.06 2.06-.94-2.06-.94-.94-2.06-.94 2.06-2.06.94zm-11 1L8.5 8.5l.94-2.06 2.06-.94-2.06-.94L8.5 2.5l-.94 2.06-2.06.94zm10 10l.94 2.06.94-2.06 2.06-.94-2.06-.94-.94-2.06-.94 2.06-2.06.94z\"/><path d=\"M17.41 7.96l-1.37-1.37c-.4-.4-.92-.59-1.43-.59-.52 0-1.04.2-1.43.59L10.3 9.45l-7.72 7.72c-.78.78-.78 2.05 0 2.83L4 21.41c.39.39.9.59 1.41.59.51 0 1.02-.2 1.41-.59l7.78-7.78 2.81-2.81c.8-.78.8-2.07 0-2.86zM5.41 20L4 18.59l7.72-7.72 1.47 1.35L5.41 20z\"/>\n",
              "  </svg>\n",
              "      </button>\n",
              "      \n",
              "  <style>\n",
              "    .colab-df-container {\n",
              "      display:flex;\n",
              "      flex-wrap:wrap;\n",
              "      gap: 12px;\n",
              "    }\n",
              "\n",
              "    .colab-df-convert {\n",
              "      background-color: #E8F0FE;\n",
              "      border: none;\n",
              "      border-radius: 50%;\n",
              "      cursor: pointer;\n",
              "      display: none;\n",
              "      fill: #1967D2;\n",
              "      height: 32px;\n",
              "      padding: 0 0 0 0;\n",
              "      width: 32px;\n",
              "    }\n",
              "\n",
              "    .colab-df-convert:hover {\n",
              "      background-color: #E2EBFA;\n",
              "      box-shadow: 0px 1px 2px rgba(60, 64, 67, 0.3), 0px 1px 3px 1px rgba(60, 64, 67, 0.15);\n",
              "      fill: #174EA6;\n",
              "    }\n",
              "\n",
              "    [theme=dark] .colab-df-convert {\n",
              "      background-color: #3B4455;\n",
              "      fill: #D2E3FC;\n",
              "    }\n",
              "\n",
              "    [theme=dark] .colab-df-convert:hover {\n",
              "      background-color: #434B5C;\n",
              "      box-shadow: 0px 1px 3px 1px rgba(0, 0, 0, 0.15);\n",
              "      filter: drop-shadow(0px 1px 2px rgba(0, 0, 0, 0.3));\n",
              "      fill: #FFFFFF;\n",
              "    }\n",
              "  </style>\n",
              "\n",
              "      <script>\n",
              "        const buttonEl =\n",
              "          document.querySelector('#df-0c110226-8a35-4b69-8ff0-fb5867459653 button.colab-df-convert');\n",
              "        buttonEl.style.display =\n",
              "          google.colab.kernel.accessAllowed ? 'block' : 'none';\n",
              "\n",
              "        async function convertToInteractive(key) {\n",
              "          const element = document.querySelector('#df-0c110226-8a35-4b69-8ff0-fb5867459653');\n",
              "          const dataTable =\n",
              "            await google.colab.kernel.invokeFunction('convertToInteractive',\n",
              "                                                     [key], {});\n",
              "          if (!dataTable) return;\n",
              "\n",
              "          const docLinkHtml = 'Like what you see? Visit the ' +\n",
              "            '<a target=\"_blank\" href=https://colab.research.google.com/notebooks/data_table.ipynb>data table notebook</a>'\n",
              "            + ' to learn more about interactive tables.';\n",
              "          element.innerHTML = '';\n",
              "          dataTable['output_type'] = 'display_data';\n",
              "          await google.colab.output.renderOutput(dataTable, element);\n",
              "          const docLink = document.createElement('div');\n",
              "          docLink.innerHTML = docLinkHtml;\n",
              "          element.appendChild(docLink);\n",
              "        }\n",
              "      </script>\n",
              "    </div>\n",
              "  </div>\n",
              "  "
            ]
          },
          "metadata": {},
          "execution_count": 7
        }
      ]
    },
    {
      "cell_type": "code",
      "source": [
        "all_data.info()"
      ],
      "metadata": {
        "colab": {
          "base_uri": "https://localhost:8080/"
        },
        "id": "wqcLo082Q8kL",
        "outputId": "2b375339-f0fd-4a8e-e2d6-ae03b18b2845"
      },
      "execution_count": 8,
      "outputs": [
        {
          "output_type": "stream",
          "name": "stdout",
          "text": [
            "<class 'pandas.core.frame.DataFrame'>\n",
            "RangeIndex: 1309 entries, 0 to 1308\n",
            "Data columns (total 12 columns):\n",
            " #   Column       Non-Null Count  Dtype  \n",
            "---  ------       --------------  -----  \n",
            " 0   PassengerId  1309 non-null   int64  \n",
            " 1   Survived     891 non-null    float64\n",
            " 2   Pclass       1309 non-null   int64  \n",
            " 3   Name         1309 non-null   object \n",
            " 4   Sex          1309 non-null   object \n",
            " 5   Age          1046 non-null   float64\n",
            " 6   SibSp        1309 non-null   int64  \n",
            " 7   Parch        1309 non-null   int64  \n",
            " 8   Ticket       1309 non-null   object \n",
            " 9   Fare         1308 non-null   float64\n",
            " 10  Cabin        295 non-null    object \n",
            " 11  Embarked     1307 non-null   object \n",
            "dtypes: float64(3), int64(4), object(5)\n",
            "memory usage: 122.8+ KB\n"
          ]
        }
      ]
    },
    {
      "cell_type": "markdown",
      "source": [
        "피처 요약표를 출력하겠습니다."
      ],
      "metadata": {
        "id": "9UyTX2aTR_bx"
      }
    },
    {
      "cell_type": "code",
      "source": [
        "def feature_table(df):\n",
        "    # 피처 이름과 타입을 출력합니다.     \n",
        "    feature_description = pd.DataFrame(df.dtypes, columns=['type'])\n",
        "    feature_description = feature_description.reset_index()\n",
        "    feature_description = feature_description.rename(columns={'index': 'feature'})\n",
        "    # 결측치 개수를 산출합니다.\n",
        "    feature_description['null count'] = df.isnull().sum().values\n",
        "    # 고윳값 개수를 산출합니다.\n",
        "    feature_description['eigenvalue count'] = df.nunique().values\n",
        "    \n",
        "    # 데이터 크기를 출력합니다.    \n",
        "    print(df.shape)\n",
        "    \n",
        "    return feature_description"
      ],
      "metadata": {
        "id": "IsE4y6geRDY4"
      },
      "execution_count": 9,
      "outputs": []
    },
    {
      "cell_type": "code",
      "source": [
        "feature_table(all_data)"
      ],
      "metadata": {
        "colab": {
          "base_uri": "https://localhost:8080/",
          "height": 443
        },
        "id": "oL3lV8bdRHaT",
        "outputId": "26d8e8d4-979f-41b3-bfda-b9242faaefc3"
      },
      "execution_count": 10,
      "outputs": [
        {
          "output_type": "stream",
          "name": "stdout",
          "text": [
            "(1309, 12)\n"
          ]
        },
        {
          "output_type": "execute_result",
          "data": {
            "text/plain": [
              "        feature     type  null count  eigenvalue count\n",
              "0   PassengerId    int64           0              1309\n",
              "1      Survived  float64         418                 2\n",
              "2        Pclass    int64           0                 3\n",
              "3          Name   object           0              1307\n",
              "4           Sex   object           0                 2\n",
              "5           Age  float64         263                98\n",
              "6         SibSp    int64           0                 7\n",
              "7         Parch    int64           0                 8\n",
              "8        Ticket   object           0               929\n",
              "9          Fare  float64           1               281\n",
              "10        Cabin   object        1014               186\n",
              "11     Embarked   object           2                 3"
            ],
            "text/html": [
              "\n",
              "  <div id=\"df-3b1db29b-1821-41b6-8e3e-4b78f20c4a1c\">\n",
              "    <div class=\"colab-df-container\">\n",
              "      <div>\n",
              "<style scoped>\n",
              "    .dataframe tbody tr th:only-of-type {\n",
              "        vertical-align: middle;\n",
              "    }\n",
              "\n",
              "    .dataframe tbody tr th {\n",
              "        vertical-align: top;\n",
              "    }\n",
              "\n",
              "    .dataframe thead th {\n",
              "        text-align: right;\n",
              "    }\n",
              "</style>\n",
              "<table border=\"1\" class=\"dataframe\">\n",
              "  <thead>\n",
              "    <tr style=\"text-align: right;\">\n",
              "      <th></th>\n",
              "      <th>feature</th>\n",
              "      <th>type</th>\n",
              "      <th>null count</th>\n",
              "      <th>eigenvalue count</th>\n",
              "    </tr>\n",
              "  </thead>\n",
              "  <tbody>\n",
              "    <tr>\n",
              "      <th>0</th>\n",
              "      <td>PassengerId</td>\n",
              "      <td>int64</td>\n",
              "      <td>0</td>\n",
              "      <td>1309</td>\n",
              "    </tr>\n",
              "    <tr>\n",
              "      <th>1</th>\n",
              "      <td>Survived</td>\n",
              "      <td>float64</td>\n",
              "      <td>418</td>\n",
              "      <td>2</td>\n",
              "    </tr>\n",
              "    <tr>\n",
              "      <th>2</th>\n",
              "      <td>Pclass</td>\n",
              "      <td>int64</td>\n",
              "      <td>0</td>\n",
              "      <td>3</td>\n",
              "    </tr>\n",
              "    <tr>\n",
              "      <th>3</th>\n",
              "      <td>Name</td>\n",
              "      <td>object</td>\n",
              "      <td>0</td>\n",
              "      <td>1307</td>\n",
              "    </tr>\n",
              "    <tr>\n",
              "      <th>4</th>\n",
              "      <td>Sex</td>\n",
              "      <td>object</td>\n",
              "      <td>0</td>\n",
              "      <td>2</td>\n",
              "    </tr>\n",
              "    <tr>\n",
              "      <th>5</th>\n",
              "      <td>Age</td>\n",
              "      <td>float64</td>\n",
              "      <td>263</td>\n",
              "      <td>98</td>\n",
              "    </tr>\n",
              "    <tr>\n",
              "      <th>6</th>\n",
              "      <td>SibSp</td>\n",
              "      <td>int64</td>\n",
              "      <td>0</td>\n",
              "      <td>7</td>\n",
              "    </tr>\n",
              "    <tr>\n",
              "      <th>7</th>\n",
              "      <td>Parch</td>\n",
              "      <td>int64</td>\n",
              "      <td>0</td>\n",
              "      <td>8</td>\n",
              "    </tr>\n",
              "    <tr>\n",
              "      <th>8</th>\n",
              "      <td>Ticket</td>\n",
              "      <td>object</td>\n",
              "      <td>0</td>\n",
              "      <td>929</td>\n",
              "    </tr>\n",
              "    <tr>\n",
              "      <th>9</th>\n",
              "      <td>Fare</td>\n",
              "      <td>float64</td>\n",
              "      <td>1</td>\n",
              "      <td>281</td>\n",
              "    </tr>\n",
              "    <tr>\n",
              "      <th>10</th>\n",
              "      <td>Cabin</td>\n",
              "      <td>object</td>\n",
              "      <td>1014</td>\n",
              "      <td>186</td>\n",
              "    </tr>\n",
              "    <tr>\n",
              "      <th>11</th>\n",
              "      <td>Embarked</td>\n",
              "      <td>object</td>\n",
              "      <td>2</td>\n",
              "      <td>3</td>\n",
              "    </tr>\n",
              "  </tbody>\n",
              "</table>\n",
              "</div>\n",
              "      <button class=\"colab-df-convert\" onclick=\"convertToInteractive('df-3b1db29b-1821-41b6-8e3e-4b78f20c4a1c')\"\n",
              "              title=\"Convert this dataframe to an interactive table.\"\n",
              "              style=\"display:none;\">\n",
              "        \n",
              "  <svg xmlns=\"http://www.w3.org/2000/svg\" height=\"24px\"viewBox=\"0 0 24 24\"\n",
              "       width=\"24px\">\n",
              "    <path d=\"M0 0h24v24H0V0z\" fill=\"none\"/>\n",
              "    <path d=\"M18.56 5.44l.94 2.06.94-2.06 2.06-.94-2.06-.94-.94-2.06-.94 2.06-2.06.94zm-11 1L8.5 8.5l.94-2.06 2.06-.94-2.06-.94L8.5 2.5l-.94 2.06-2.06.94zm10 10l.94 2.06.94-2.06 2.06-.94-2.06-.94-.94-2.06-.94 2.06-2.06.94z\"/><path d=\"M17.41 7.96l-1.37-1.37c-.4-.4-.92-.59-1.43-.59-.52 0-1.04.2-1.43.59L10.3 9.45l-7.72 7.72c-.78.78-.78 2.05 0 2.83L4 21.41c.39.39.9.59 1.41.59.51 0 1.02-.2 1.41-.59l7.78-7.78 2.81-2.81c.8-.78.8-2.07 0-2.86zM5.41 20L4 18.59l7.72-7.72 1.47 1.35L5.41 20z\"/>\n",
              "  </svg>\n",
              "      </button>\n",
              "      \n",
              "  <style>\n",
              "    .colab-df-container {\n",
              "      display:flex;\n",
              "      flex-wrap:wrap;\n",
              "      gap: 12px;\n",
              "    }\n",
              "\n",
              "    .colab-df-convert {\n",
              "      background-color: #E8F0FE;\n",
              "      border: none;\n",
              "      border-radius: 50%;\n",
              "      cursor: pointer;\n",
              "      display: none;\n",
              "      fill: #1967D2;\n",
              "      height: 32px;\n",
              "      padding: 0 0 0 0;\n",
              "      width: 32px;\n",
              "    }\n",
              "\n",
              "    .colab-df-convert:hover {\n",
              "      background-color: #E2EBFA;\n",
              "      box-shadow: 0px 1px 2px rgba(60, 64, 67, 0.3), 0px 1px 3px 1px rgba(60, 64, 67, 0.15);\n",
              "      fill: #174EA6;\n",
              "    }\n",
              "\n",
              "    [theme=dark] .colab-df-convert {\n",
              "      background-color: #3B4455;\n",
              "      fill: #D2E3FC;\n",
              "    }\n",
              "\n",
              "    [theme=dark] .colab-df-convert:hover {\n",
              "      background-color: #434B5C;\n",
              "      box-shadow: 0px 1px 3px 1px rgba(0, 0, 0, 0.15);\n",
              "      filter: drop-shadow(0px 1px 2px rgba(0, 0, 0, 0.3));\n",
              "      fill: #FFFFFF;\n",
              "    }\n",
              "  </style>\n",
              "\n",
              "      <script>\n",
              "        const buttonEl =\n",
              "          document.querySelector('#df-3b1db29b-1821-41b6-8e3e-4b78f20c4a1c button.colab-df-convert');\n",
              "        buttonEl.style.display =\n",
              "          google.colab.kernel.accessAllowed ? 'block' : 'none';\n",
              "\n",
              "        async function convertToInteractive(key) {\n",
              "          const element = document.querySelector('#df-3b1db29b-1821-41b6-8e3e-4b78f20c4a1c');\n",
              "          const dataTable =\n",
              "            await google.colab.kernel.invokeFunction('convertToInteractive',\n",
              "                                                     [key], {});\n",
              "          if (!dataTable) return;\n",
              "\n",
              "          const docLinkHtml = 'Like what you see? Visit the ' +\n",
              "            '<a target=\"_blank\" href=https://colab.research.google.com/notebooks/data_table.ipynb>data table notebook</a>'\n",
              "            + ' to learn more about interactive tables.';\n",
              "          element.innerHTML = '';\n",
              "          dataTable['output_type'] = 'display_data';\n",
              "          await google.colab.output.renderOutput(dataTable, element);\n",
              "          const docLink = document.createElement('div');\n",
              "          docLink.innerHTML = docLinkHtml;\n",
              "          element.appendChild(docLink);\n",
              "        }\n",
              "      </script>\n",
              "    </div>\n",
              "  </div>\n",
              "  "
            ]
          },
          "metadata": {},
          "execution_count": 10
        }
      ]
    },
    {
      "cell_type": "markdown",
      "source": [
        "## **2.1. 결측치 처리**"
      ],
      "metadata": {
        "id": "J_Bt2MkGmtRg"
      }
    },
    {
      "cell_type": "markdown",
      "source": [
        "### **2.1.1. Age**"
      ],
      "metadata": {
        "id": "2YrC8SH8m6F_"
      }
    },
    {
      "cell_type": "markdown",
      "source": [
        "'Age' 피처의 결측치를 처리하겠습니다. 먼저 'Age' 피처의 값 분포를 확인하겠습니다."
      ],
      "metadata": {
        "id": "7O8FD8bTZl7D"
      }
    },
    {
      "cell_type": "code",
      "source": [
        "import matplotlib as mpl\n",
        "import matplotlib.pyplot as plt\n",
        "import seaborn as sns\n",
        "%matplotlib inline\n",
        "\n",
        "mpl.rc('font', size=20)\n",
        "plt.style.use('seaborn')\n",
        "\n",
        "sns.displot(x='Age', data=all_data)"
      ],
      "metadata": {
        "colab": {
          "base_uri": "https://localhost:8080/",
          "height": 365
        },
        "id": "FMZMCWNrZ76t",
        "outputId": "fa9bbb03-f7b5-402a-a0c6-60752e2d5cec"
      },
      "execution_count": 11,
      "outputs": [
        {
          "output_type": "execute_result",
          "data": {
            "text/plain": [
              "<seaborn.axisgrid.FacetGrid at 0x7f5866c5c4c0>"
            ]
          },
          "metadata": {},
          "execution_count": 11
        },
        {
          "output_type": "display_data",
          "data": {
            "text/plain": [
              "<Figure size 360x360 with 1 Axes>"
            ],
            "image/png": "[encoded data removed]"
          },
          "metadata": {}
        }
      ]
    },
    {
      "cell_type": "markdown",
      "source": [
        "베이스라인 모델링에서는 'Pclass' 피처별 'Age' 피처의 평균값으로 결측치를 채웠습니다. 이번엔 다른 피처별로 평균값을 채워볼 것입니다. 일단 다른 피처부터 처리하고 **2.7. 추가 작업** 파트에서 처리하겠습니다."
      ],
      "metadata": {
        "id": "-0RyhM82aR8O"
      }
    },
    {
      "cell_type": "markdown",
      "source": [
        "### **2.1.2. Fare**"
      ],
      "metadata": {
        "id": "YZ8yzPHum_J6"
      }
    },
    {
      "cell_type": "markdown",
      "source": [
        "'Fare' 피처의 결측치를 처리하겠습니다. 'Fare' 피처는 결측치가 1개이므로 평균값으로 채울 예정입니다. 'Pclass' 피처별 'Fare' 피처의 평균값을 채우는 편이 옳다고 판단합니다."
      ],
      "metadata": {
        "id": "c4aEM36mSyLd"
      }
    },
    {
      "cell_type": "code",
      "source": [
        "pclass_fare_mean = all_data[['Pclass', 'Fare']].groupby('Pclass').mean().reset_index()\n",
        "pclass_fare_mean.columns = ['Pclass', 'Fare_mean']\n",
        "pclass_fare_mean"
      ],
      "metadata": {
        "colab": {
          "base_uri": "https://localhost:8080/",
          "height": 143
        },
        "id": "RLX9TUC9S-X8",
        "outputId": "93558c04-6a55-4393-be15-6fa82cba4fd8"
      },
      "execution_count": 12,
      "outputs": [
        {
          "output_type": "execute_result",
          "data": {
            "text/plain": [
              "   Pclass  Fare_mean\n",
              "0       1  87.508992\n",
              "1       2  21.179196\n",
              "2       3  13.302889"
            ],
            "text/html": [
              "\n",
              "  <div id=\"df-5a7b1702-7e24-43e4-a364-9db62e459f34\">\n",
              "    <div class=\"colab-df-container\">\n",
              "      <div>\n",
              "<style scoped>\n",
              "    .dataframe tbody tr th:only-of-type {\n",
              "        vertical-align: middle;\n",
              "    }\n",
              "\n",
              "    .dataframe tbody tr th {\n",
              "        vertical-align: top;\n",
              "    }\n",
              "\n",
              "    .dataframe thead th {\n",
              "        text-align: right;\n",
              "    }\n",
              "</style>\n",
              "<table border=\"1\" class=\"dataframe\">\n",
              "  <thead>\n",
              "    <tr style=\"text-align: right;\">\n",
              "      <th></th>\n",
              "      <th>Pclass</th>\n",
              "      <th>Fare_mean</th>\n",
              "    </tr>\n",
              "  </thead>\n",
              "  <tbody>\n",
              "    <tr>\n",
              "      <th>0</th>\n",
              "      <td>1</td>\n",
              "      <td>87.508992</td>\n",
              "    </tr>\n",
              "    <tr>\n",
              "      <th>1</th>\n",
              "      <td>2</td>\n",
              "      <td>21.179196</td>\n",
              "    </tr>\n",
              "    <tr>\n",
              "      <th>2</th>\n",
              "      <td>3</td>\n",
              "      <td>13.302889</td>\n",
              "    </tr>\n",
              "  </tbody>\n",
              "</table>\n",
              "</div>\n",
              "      <button class=\"colab-df-convert\" onclick=\"convertToInteractive('df-5a7b1702-7e24-43e4-a364-9db62e459f34')\"\n",
              "              title=\"Convert this dataframe to an interactive table.\"\n",
              "              style=\"display:none;\">\n",
              "        \n",
              "  <svg xmlns=\"http://www.w3.org/2000/svg\" height=\"24px\"viewBox=\"0 0 24 24\"\n",
              "       width=\"24px\">\n",
              "    <path d=\"M0 0h24v24H0V0z\" fill=\"none\"/>\n",
              "    <path d=\"M18.56 5.44l.94 2.06.94-2.06 2.06-.94-2.06-.94-.94-2.06-.94 2.06-2.06.94zm-11 1L8.5 8.5l.94-2.06 2.06-.94-2.06-.94L8.5 2.5l-.94 2.06-2.06.94zm10 10l.94 2.06.94-2.06 2.06-.94-2.06-.94-.94-2.06-.94 2.06-2.06.94z\"/><path d=\"M17.41 7.96l-1.37-1.37c-.4-.4-.92-.59-1.43-.59-.52 0-1.04.2-1.43.59L10.3 9.45l-7.72 7.72c-.78.78-.78 2.05 0 2.83L4 21.41c.39.39.9.59 1.41.59.51 0 1.02-.2 1.41-.59l7.78-7.78 2.81-2.81c.8-.78.8-2.07 0-2.86zM5.41 20L4 18.59l7.72-7.72 1.47 1.35L5.41 20z\"/>\n",
              "  </svg>\n",
              "      </button>\n",
              "      \n",
              "  <style>\n",
              "    .colab-df-container {\n",
              "      display:flex;\n",
              "      flex-wrap:wrap;\n",
              "      gap: 12px;\n",
              "    }\n",
              "\n",
              "    .colab-df-convert {\n",
              "      background-color: #E8F0FE;\n",
              "      border: none;\n",
              "      border-radius: 50%;\n",
              "      cursor: pointer;\n",
              "      display: none;\n",
              "      fill: #1967D2;\n",
              "      height: 32px;\n",
              "      padding: 0 0 0 0;\n",
              "      width: 32px;\n",
              "    }\n",
              "\n",
              "    .colab-df-convert:hover {\n",
              "      background-color: #E2EBFA;\n",
              "      box-shadow: 0px 1px 2px rgba(60, 64, 67, 0.3), 0px 1px 3px 1px rgba(60, 64, 67, 0.15);\n",
              "      fill: #174EA6;\n",
              "    }\n",
              "\n",
              "    [theme=dark] .colab-df-convert {\n",
              "      background-color: #3B4455;\n",
              "      fill: #D2E3FC;\n",
              "    }\n",
              "\n",
              "    [theme=dark] .colab-df-convert:hover {\n",
              "      background-color: #434B5C;\n",
              "      box-shadow: 0px 1px 3px 1px rgba(0, 0, 0, 0.15);\n",
              "      filter: drop-shadow(0px 1px 2px rgba(0, 0, 0, 0.3));\n",
              "      fill: #FFFFFF;\n",
              "    }\n",
              "  </style>\n",
              "\n",
              "      <script>\n",
              "        const buttonEl =\n",
              "          document.querySelector('#df-5a7b1702-7e24-43e4-a364-9db62e459f34 button.colab-df-convert');\n",
              "        buttonEl.style.display =\n",
              "          google.colab.kernel.accessAllowed ? 'block' : 'none';\n",
              "\n",
              "        async function convertToInteractive(key) {\n",
              "          const element = document.querySelector('#df-5a7b1702-7e24-43e4-a364-9db62e459f34');\n",
              "          const dataTable =\n",
              "            await google.colab.kernel.invokeFunction('convertToInteractive',\n",
              "                                                     [key], {});\n",
              "          if (!dataTable) return;\n",
              "\n",
              "          const docLinkHtml = 'Like what you see? Visit the ' +\n",
              "            '<a target=\"_blank\" href=https://colab.research.google.com/notebooks/data_table.ipynb>data table notebook</a>'\n",
              "            + ' to learn more about interactive tables.';\n",
              "          element.innerHTML = '';\n",
              "          dataTable['output_type'] = 'display_data';\n",
              "          await google.colab.output.renderOutput(dataTable, element);\n",
              "          const docLink = document.createElement('div');\n",
              "          docLink.innerHTML = docLinkHtml;\n",
              "          element.appendChild(docLink);\n",
              "        }\n",
              "      </script>\n",
              "    </div>\n",
              "  </div>\n",
              "  "
            ]
          },
          "metadata": {},
          "execution_count": 12
        }
      ]
    },
    {
      "cell_type": "markdown",
      "source": [
        "이 데이터프레임을 원본 데이터에 병합하겠습니다."
      ],
      "metadata": {
        "id": "iBxl52Xo4rHa"
      }
    },
    {
      "cell_type": "code",
      "source": [
        "all_data = pd.merge(all_data, pclass_fare_mean, on='Pclass', how='left')"
      ],
      "metadata": {
        "id": "tyLmJTCGUz7N"
      },
      "execution_count": 13,
      "outputs": []
    },
    {
      "cell_type": "markdown",
      "source": [
        "병합된 평균 피처를 결측치에 채우고 삭제하겠습니다."
      ],
      "metadata": {
        "id": "8FpzJJ-K4sqZ"
      }
    },
    {
      "cell_type": "code",
      "source": [
        "all_data.loc[all_data['Fare'].isnull(), 'Fare'] = all_data['Fare_mean']\n",
        "all_data = all_data.drop('Fare_mean', axis=1)"
      ],
      "metadata": {
        "id": "5YhzkMfPWcdU"
      },
      "execution_count": 14,
      "outputs": []
    },
    {
      "cell_type": "markdown",
      "source": [
        "티켓요금 분포를 확인하겠습니다."
      ],
      "metadata": {
        "id": "bdLaoI6z4uzb"
      }
    },
    {
      "cell_type": "code",
      "source": [
        "sns.displot(x='Fare', data=all_data)"
      ],
      "metadata": {
        "colab": {
          "base_uri": "https://localhost:8080/",
          "height": 365
        },
        "id": "L5ztOFbVebVl",
        "outputId": "0bbab26d-6c21-4139-d10c-b615c26e9729"
      },
      "execution_count": 15,
      "outputs": [
        {
          "output_type": "execute_result",
          "data": {
            "text/plain": [
              "<seaborn.axisgrid.FacetGrid at 0x7f586e3474c0>"
            ]
          },
          "metadata": {},
          "execution_count": 15
        },
        {
          "output_type": "display_data",
          "data": {
            "text/plain": [
              "<Figure size 360x360 with 1 Axes>"
            ],
            "image/png": "[encoded data removed]"
          },
          "metadata": {}
        }
      ]
    },
    {
      "cell_type": "markdown",
      "source": [
        "### **2.1.3. Cabin**"
      ],
      "metadata": {
        "id": "pijJQo3Bm1Yn"
      }
    },
    {
      "cell_type": "markdown",
      "source": [
        "EDA에서 'Cabin' 피처는 사용하기 부적절하여 제거하는 편이 낫다는 판단을 내렸습니다. 제거하겠습니다."
      ],
      "metadata": {
        "id": "XT1hQvXcYVA9"
      }
    },
    {
      "cell_type": "code",
      "source": [
        "all_data = all_data.drop('Cabin', axis=1)"
      ],
      "metadata": {
        "id": "uoaYcWfDYukK"
      },
      "execution_count": 16,
      "outputs": []
    },
    {
      "cell_type": "markdown",
      "source": [
        "### **2.1.4. Embarked**"
      ],
      "metadata": {
        "id": "-OpLnSV2nB6u"
      }
    },
    {
      "cell_type": "markdown",
      "source": [
        "마지막으로 'Embarked' 피처는 명목형 피처이므로 최빈값으로 대체해 보겠습니다."
      ],
      "metadata": {
        "id": "WAdgDMFAeq8Z"
      }
    },
    {
      "cell_type": "code",
      "source": [
        "all_data['Embarked'].value_counts()"
      ],
      "metadata": {
        "colab": {
          "base_uri": "https://localhost:8080/"
        },
        "id": "QrivSyALZT6P",
        "outputId": "80a4663f-d0f3-4e89-c86f-f87f8993aed8"
      },
      "execution_count": 17,
      "outputs": [
        {
          "output_type": "execute_result",
          "data": {
            "text/plain": [
              "S    914\n",
              "C    270\n",
              "Q    123\n",
              "Name: Embarked, dtype: int64"
            ]
          },
          "metadata": {},
          "execution_count": 17
        }
      ]
    },
    {
      "cell_type": "code",
      "source": [
        "# all_data['Embarked'] = all_data['Embarked'].fillna('S')\n",
        "all_data.loc[all_data['Embarked'].isnull(), 'Embarked'] = 'S'"
      ],
      "metadata": {
        "id": "v3-hJCQWkqHw"
      },
      "execution_count": 18,
      "outputs": []
    },
    {
      "cell_type": "markdown",
      "source": [
        "## **2.2. 파생 피처 생성**"
      ],
      "metadata": {
        "id": "XIZcCya_3wb-"
      }
    },
    {
      "cell_type": "markdown",
      "source": [
        "### **2.2.1. Appellation**"
      ],
      "metadata": {
        "id": "nxiBKc-h33lK"
      }
    },
    {
      "cell_type": "markdown",
      "source": [
        "이름에서 호칭을 분리하여 새 피처를 생성하겠습니다. 먼저 고윳값을 확인하겠습니다."
      ],
      "metadata": {
        "id": "qbevy3al64FX"
      }
    },
    {
      "cell_type": "code",
      "source": [
        "all_data['Name'].unique()[:10]"
      ],
      "metadata": {
        "colab": {
          "base_uri": "https://localhost:8080/"
        },
        "id": "kS4F5xoO5OW1",
        "outputId": "73c9eeca-5e74-405f-991a-f447a2b72d87"
      },
      "execution_count": 19,
      "outputs": [
        {
          "output_type": "execute_result",
          "data": {
            "text/plain": [
              "array(['Braund, Mr. Owen Harris',\n",
              "       'Cumings, Mrs. John Bradley (Florence Briggs Thayer)',\n",
              "       'Heikkinen, Miss. Laina',\n",
              "       'Futrelle, Mrs. Jacques Heath (Lily May Peel)',\n",
              "       'Allen, Mr. William Henry', 'Moran, Mr. James',\n",
              "       'McCarthy, Mr. Timothy J', 'Palsson, Master. Gosta Leonard',\n",
              "       'Johnson, Mrs. Oscar W (Elisabeth Vilhelmina Berg)',\n",
              "       'Nasser, Mrs. Nicholas (Adele Achem)'], dtype=object)"
            ]
          },
          "metadata": {},
          "execution_count": 19
        }
      ]
    },
    {
      "cell_type": "code",
      "source": [
        "print(all_data['Name'].str.extract('([A-Za-z]*)\\.')[0].unique())"
      ],
      "metadata": {
        "colab": {
          "base_uri": "https://localhost:8080/"
        },
        "id": "1KndWTN95WBr",
        "outputId": "c08f37e5-aeb7-4101-f16f-ea78fb9aaccb"
      },
      "execution_count": 20,
      "outputs": [
        {
          "output_type": "stream",
          "name": "stdout",
          "text": [
            "['Mr' 'Mrs' 'Miss' 'Master' 'Don' 'Rev' 'Dr' 'Mme' 'Ms' 'Major' 'Lady'\n",
            " 'Sir' 'Mlle' 'Col' 'Capt' 'Countess' 'Jonkheer' 'Dona']\n"
          ]
        }
      ]
    },
    {
      "cell_type": "markdown",
      "source": [
        "EDA에서 발견하지 못한 레이블 'Dona'가 테스트 세트에 존재하는 것으로 확인됩니다. 'Dona'의 의미는 아래와 같습니다.\n",
        "\n",
        "- Dona: 포르투갈의 귀부인 -> 'Mrs'\n",
        "\n",
        "호칭을 분리하여 새 피처를 생성하겠습니다."
      ],
      "metadata": {
        "id": "dx7qnIjA7RJL"
      }
    },
    {
      "cell_type": "code",
      "source": [
        "all_data['Appellation'] = all_data['Name'].str.extract('([A-Za-z]*)\\.')"
      ],
      "metadata": {
        "id": "JMvza9iu5YbU"
      },
      "execution_count": 21,
      "outputs": []
    },
    {
      "cell_type": "code",
      "source": [
        "pd.crosstab(all_data['Sex'], all_data['Appellation'], margins=True)"
      ],
      "metadata": {
        "colab": {
          "base_uri": "https://localhost:8080/",
          "height": 175
        },
        "id": "8czRXYb15c8_",
        "outputId": "c5ab1030-13ea-4acc-9490-6c66871286a2"
      },
      "execution_count": 22,
      "outputs": [
        {
          "output_type": "execute_result",
          "data": {
            "text/plain": [
              "Appellation  Capt  Col  Countess  Don  Dona  Dr  Jonkheer  Lady  Major  \\\n",
              "Sex                                                                      \n",
              "female          0    0         1    0     1   1         0     1      0   \n",
              "male            1    4         0    1     0   7         1     0      2   \n",
              "All             1    4         1    1     1   8         1     1      2   \n",
              "\n",
              "Appellation  Master  Miss  Mlle  Mme   Mr  Mrs  Ms  Rev  Sir   All  \n",
              "Sex                                                                 \n",
              "female            0   260     2    1    0  197   2    0    0   466  \n",
              "male             61     0     0    0  757    0   0    8    1   843  \n",
              "All              61   260     2    1  757  197   2    8    1  1309  "
            ],
            "text/html": [
              "\n",
              "  <div id=\"df-cdc1e50e-3180-406a-8944-28707281bd5d\">\n",
              "    <div class=\"colab-df-container\">\n",
              "      <div>\n",
              "<style scoped>\n",
              "    .dataframe tbody tr th:only-of-type {\n",
              "        vertical-align: middle;\n",
              "    }\n",
              "\n",
              "    .dataframe tbody tr th {\n",
              "        vertical-align: top;\n",
              "    }\n",
              "\n",
              "    .dataframe thead th {\n",
              "        text-align: right;\n",
              "    }\n",
              "</style>\n",
              "<table border=\"1\" class=\"dataframe\">\n",
              "  <thead>\n",
              "    <tr style=\"text-align: right;\">\n",
              "      <th>Appellation</th>\n",
              "      <th>Capt</th>\n",
              "      <th>Col</th>\n",
              "      <th>Countess</th>\n",
              "      <th>Don</th>\n",
              "      <th>Dona</th>\n",
              "      <th>Dr</th>\n",
              "      <th>Jonkheer</th>\n",
              "      <th>Lady</th>\n",
              "      <th>Major</th>\n",
              "      <th>Master</th>\n",
              "      <th>Miss</th>\n",
              "      <th>Mlle</th>\n",
              "      <th>Mme</th>\n",
              "      <th>Mr</th>\n",
              "      <th>Mrs</th>\n",
              "      <th>Ms</th>\n",
              "      <th>Rev</th>\n",
              "      <th>Sir</th>\n",
              "      <th>All</th>\n",
              "    </tr>\n",
              "    <tr>\n",
              "      <th>Sex</th>\n",
              "      <th></th>\n",
              "      <th></th>\n",
              "      <th></th>\n",
              "      <th></th>\n",
              "      <th></th>\n",
              "      <th></th>\n",
              "      <th></th>\n",
              "      <th></th>\n",
              "      <th></th>\n",
              "      <th></th>\n",
              "      <th></th>\n",
              "      <th></th>\n",
              "      <th></th>\n",
              "      <th></th>\n",
              "      <th></th>\n",
              "      <th></th>\n",
              "      <th></th>\n",
              "      <th></th>\n",
              "      <th></th>\n",
              "    </tr>\n",
              "  </thead>\n",
              "  <tbody>\n",
              "    <tr>\n",
              "      <th>female</th>\n",
              "      <td>0</td>\n",
              "      <td>0</td>\n",
              "      <td>1</td>\n",
              "      <td>0</td>\n",
              "      <td>1</td>\n",
              "      <td>1</td>\n",
              "      <td>0</td>\n",
              "      <td>1</td>\n",
              "      <td>0</td>\n",
              "      <td>0</td>\n",
              "      <td>260</td>\n",
              "      <td>2</td>\n",
              "      <td>1</td>\n",
              "      <td>0</td>\n",
              "      <td>197</td>\n",
              "      <td>2</td>\n",
              "      <td>0</td>\n",
              "      <td>0</td>\n",
              "      <td>466</td>\n",
              "    </tr>\n",
              "    <tr>\n",
              "      <th>male</th>\n",
              "      <td>1</td>\n",
              "      <td>4</td>\n",
              "      <td>0</td>\n",
              "      <td>1</td>\n",
              "      <td>0</td>\n",
              "      <td>7</td>\n",
              "      <td>1</td>\n",
              "      <td>0</td>\n",
              "      <td>2</td>\n",
              "      <td>61</td>\n",
              "      <td>0</td>\n",
              "      <td>0</td>\n",
              "      <td>0</td>\n",
              "      <td>757</td>\n",
              "      <td>0</td>\n",
              "      <td>0</td>\n",
              "      <td>8</td>\n",
              "      <td>1</td>\n",
              "      <td>843</td>\n",
              "    </tr>\n",
              "    <tr>\n",
              "      <th>All</th>\n",
              "      <td>1</td>\n",
              "      <td>4</td>\n",
              "      <td>1</td>\n",
              "      <td>1</td>\n",
              "      <td>1</td>\n",
              "      <td>8</td>\n",
              "      <td>1</td>\n",
              "      <td>1</td>\n",
              "      <td>2</td>\n",
              "      <td>61</td>\n",
              "      <td>260</td>\n",
              "      <td>2</td>\n",
              "      <td>1</td>\n",
              "      <td>757</td>\n",
              "      <td>197</td>\n",
              "      <td>2</td>\n",
              "      <td>8</td>\n",
              "      <td>1</td>\n",
              "      <td>1309</td>\n",
              "    </tr>\n",
              "  </tbody>\n",
              "</table>\n",
              "</div>\n",
              "      <button class=\"colab-df-convert\" onclick=\"convertToInteractive('df-cdc1e50e-3180-406a-8944-28707281bd5d')\"\n",
              "              title=\"Convert this dataframe to an interactive table.\"\n",
              "              style=\"display:none;\">\n",
              "        \n",
              "  <svg xmlns=\"http://www.w3.org/2000/svg\" height=\"24px\"viewBox=\"0 0 24 24\"\n",
              "       width=\"24px\">\n",
              "    <path d=\"M0 0h24v24H0V0z\" fill=\"none\"/>\n",
              "    <path d=\"M18.56 5.44l.94 2.06.94-2.06 2.06-.94-2.06-.94-.94-2.06-.94 2.06-2.06.94zm-11 1L8.5 8.5l.94-2.06 2.06-.94-2.06-.94L8.5 2.5l-.94 2.06-2.06.94zm10 10l.94 2.06.94-2.06 2.06-.94-2.06-.94-.94-2.06-.94 2.06-2.06.94z\"/><path d=\"M17.41 7.96l-1.37-1.37c-.4-.4-.92-.59-1.43-.59-.52 0-1.04.2-1.43.59L10.3 9.45l-7.72 7.72c-.78.78-.78 2.05 0 2.83L4 21.41c.39.39.9.59 1.41.59.51 0 1.02-.2 1.41-.59l7.78-7.78 2.81-2.81c.8-.78.8-2.07 0-2.86zM5.41 20L4 18.59l7.72-7.72 1.47 1.35L5.41 20z\"/>\n",
              "  </svg>\n",
              "      </button>\n",
              "      \n",
              "  <style>\n",
              "    .colab-df-container {\n",
              "      display:flex;\n",
              "      flex-wrap:wrap;\n",
              "      gap: 12px;\n",
              "    }\n",
              "\n",
              "    .colab-df-convert {\n",
              "      background-color: #E8F0FE;\n",
              "      border: none;\n",
              "      border-radius: 50%;\n",
              "      cursor: pointer;\n",
              "      display: none;\n",
              "      fill: #1967D2;\n",
              "      height: 32px;\n",
              "      padding: 0 0 0 0;\n",
              "      width: 32px;\n",
              "    }\n",
              "\n",
              "    .colab-df-convert:hover {\n",
              "      background-color: #E2EBFA;\n",
              "      box-shadow: 0px 1px 2px rgba(60, 64, 67, 0.3), 0px 1px 3px 1px rgba(60, 64, 67, 0.15);\n",
              "      fill: #174EA6;\n",
              "    }\n",
              "\n",
              "    [theme=dark] .colab-df-convert {\n",
              "      background-color: #3B4455;\n",
              "      fill: #D2E3FC;\n",
              "    }\n",
              "\n",
              "    [theme=dark] .colab-df-convert:hover {\n",
              "      background-color: #434B5C;\n",
              "      box-shadow: 0px 1px 3px 1px rgba(0, 0, 0, 0.15);\n",
              "      filter: drop-shadow(0px 1px 2px rgba(0, 0, 0, 0.3));\n",
              "      fill: #FFFFFF;\n",
              "    }\n",
              "  </style>\n",
              "\n",
              "      <script>\n",
              "        const buttonEl =\n",
              "          document.querySelector('#df-cdc1e50e-3180-406a-8944-28707281bd5d button.colab-df-convert');\n",
              "        buttonEl.style.display =\n",
              "          google.colab.kernel.accessAllowed ? 'block' : 'none';\n",
              "\n",
              "        async function convertToInteractive(key) {\n",
              "          const element = document.querySelector('#df-cdc1e50e-3180-406a-8944-28707281bd5d');\n",
              "          const dataTable =\n",
              "            await google.colab.kernel.invokeFunction('convertToInteractive',\n",
              "                                                     [key], {});\n",
              "          if (!dataTable) return;\n",
              "\n",
              "          const docLinkHtml = 'Like what you see? Visit the ' +\n",
              "            '<a target=\"_blank\" href=https://colab.research.google.com/notebooks/data_table.ipynb>data table notebook</a>'\n",
              "            + ' to learn more about interactive tables.';\n",
              "          element.innerHTML = '';\n",
              "          dataTable['output_type'] = 'display_data';\n",
              "          await google.colab.output.renderOutput(dataTable, element);\n",
              "          const docLink = document.createElement('div');\n",
              "          docLink.innerHTML = docLinkHtml;\n",
              "          element.appendChild(docLink);\n",
              "        }\n",
              "      </script>\n",
              "    </div>\n",
              "  </div>\n",
              "  "
            ]
          },
          "metadata": {},
          "execution_count": 22
        }
      ]
    },
    {
      "cell_type": "markdown",
      "source": [
        "'Dona' 레이블은 여성 1명입니다. 'Mrs'로 치환하기에 적합합니다. 모든 레이블을 치환하겠습니다. "
      ],
      "metadata": {
        "id": "tKPnVSiD8Ymn"
      }
    },
    {
      "cell_type": "code",
      "source": [
        "original_label = ['Capt', 'Col', 'Countess', 'Don', 'Dona', 'Dr', 'Jonkheer', 'Lady', 'Major', 'Mlle', 'Mme', 'Ms', 'Rev', 'Sir']\n",
        "replace_label = ['Mr', 'Mr', 'Mrs', 'Mr', 'Mrs', 'Mr', 'Mr', 'Mrs', 'Mr', 'Miss', 'Mrs', 'Miss', 'Mr', 'Mr']\n",
        "all_data['Appellation'].replace(original_label, replace_label, inplace=True)"
      ],
      "metadata": {
        "id": "2LpYcQxR5iuk"
      },
      "execution_count": 23,
      "outputs": []
    },
    {
      "cell_type": "code",
      "source": [
        "plt.figure(figsize=(8, 6))\n",
        "sns.countplot(x='Appellation', hue='Sex', data=all_data)\n",
        "plt.xticks(rotation=45)"
      ],
      "metadata": {
        "colab": {
          "base_uri": "https://localhost:8080/",
          "height": 424
        },
        "id": "Pue3tQfT9MvP",
        "outputId": "524a35aa-3991-4312-f8fe-1f8792954fd4"
      },
      "execution_count": 24,
      "outputs": [
        {
          "output_type": "execute_result",
          "data": {
            "text/plain": [
              "(array([0, 1, 2, 3]), <a list of 4 Text major ticklabel objects>)"
            ]
          },
          "metadata": {},
          "execution_count": 24
        },
        {
          "output_type": "display_data",
          "data": {
            "text/plain": [
              "<Figure size 576x432 with 1 Axes>"
            ],
            "image/png": "[encoded data removed]"
          },
          "metadata": {}
        }
      ]
    },
    {
      "cell_type": "code",
      "source": [
        "all_data.groupby('Appellation').mean()"
      ],
      "metadata": {
        "colab": {
          "base_uri": "https://localhost:8080/",
          "height": 206
        },
        "id": "zHvUpxwH9YlY",
        "outputId": "8b11d648-52f6-462d-a1d2-4cd478a8ab58"
      },
      "execution_count": 25,
      "outputs": [
        {
          "output_type": "execute_result",
          "data": {
            "text/plain": [
              "             PassengerId  Survived    Pclass        Age     SibSp     Parch  \\\n",
              "Appellation                                                                   \n",
              "Master        658.852459  0.575000  2.655738   5.482642  2.049180  1.377049   \n",
              "Miss          617.928030  0.702703  2.337121  21.824366  0.655303  0.496212   \n",
              "Mr            658.936143  0.161710  2.348659  32.811056  0.286079  0.159642   \n",
              "Mrs           687.189055  0.796875  1.920398  36.971264  0.651741  0.815920   \n",
              "\n",
              "                  Fare  \n",
              "Appellation             \n",
              "Master       36.008195  \n",
              "Miss         42.566747  \n",
              "Mr           25.370250  \n",
              "Mrs          51.068470  "
            ],
            "text/html": [
              "\n",
              "  <div id=\"df-32d3f075-0b2d-4ac5-a2c5-04dca3ede4c2\">\n",
              "    <div class=\"colab-df-container\">\n",
              "      <div>\n",
              "<style scoped>\n",
              "    .dataframe tbody tr th:only-of-type {\n",
              "        vertical-align: middle;\n",
              "    }\n",
              "\n",
              "    .dataframe tbody tr th {\n",
              "        vertical-align: top;\n",
              "    }\n",
              "\n",
              "    .dataframe thead th {\n",
              "        text-align: right;\n",
              "    }\n",
              "</style>\n",
              "<table border=\"1\" class=\"dataframe\">\n",
              "  <thead>\n",
              "    <tr style=\"text-align: right;\">\n",
              "      <th></th>\n",
              "      <th>PassengerId</th>\n",
              "      <th>Survived</th>\n",
              "      <th>Pclass</th>\n",
              "      <th>Age</th>\n",
              "      <th>SibSp</th>\n",
              "      <th>Parch</th>\n",
              "      <th>Fare</th>\n",
              "    </tr>\n",
              "    <tr>\n",
              "      <th>Appellation</th>\n",
              "      <th></th>\n",
              "      <th></th>\n",
              "      <th></th>\n",
              "      <th></th>\n",
              "      <th></th>\n",
              "      <th></th>\n",
              "      <th></th>\n",
              "    </tr>\n",
              "  </thead>\n",
              "  <tbody>\n",
              "    <tr>\n",
              "      <th>Master</th>\n",
              "      <td>658.852459</td>\n",
              "      <td>0.575000</td>\n",
              "      <td>2.655738</td>\n",
              "      <td>5.482642</td>\n",
              "      <td>2.049180</td>\n",
              "      <td>1.377049</td>\n",
              "      <td>36.008195</td>\n",
              "    </tr>\n",
              "    <tr>\n",
              "      <th>Miss</th>\n",
              "      <td>617.928030</td>\n",
              "      <td>0.702703</td>\n",
              "      <td>2.337121</td>\n",
              "      <td>21.824366</td>\n",
              "      <td>0.655303</td>\n",
              "      <td>0.496212</td>\n",
              "      <td>42.566747</td>\n",
              "    </tr>\n",
              "    <tr>\n",
              "      <th>Mr</th>\n",
              "      <td>658.936143</td>\n",
              "      <td>0.161710</td>\n",
              "      <td>2.348659</td>\n",
              "      <td>32.811056</td>\n",
              "      <td>0.286079</td>\n",
              "      <td>0.159642</td>\n",
              "      <td>25.370250</td>\n",
              "    </tr>\n",
              "    <tr>\n",
              "      <th>Mrs</th>\n",
              "      <td>687.189055</td>\n",
              "      <td>0.796875</td>\n",
              "      <td>1.920398</td>\n",
              "      <td>36.971264</td>\n",
              "      <td>0.651741</td>\n",
              "      <td>0.815920</td>\n",
              "      <td>51.068470</td>\n",
              "    </tr>\n",
              "  </tbody>\n",
              "</table>\n",
              "</div>\n",
              "      <button class=\"colab-df-convert\" onclick=\"convertToInteractive('df-32d3f075-0b2d-4ac5-a2c5-04dca3ede4c2')\"\n",
              "              title=\"Convert this dataframe to an interactive table.\"\n",
              "              style=\"display:none;\">\n",
              "        \n",
              "  <svg xmlns=\"http://www.w3.org/2000/svg\" height=\"24px\"viewBox=\"0 0 24 24\"\n",
              "       width=\"24px\">\n",
              "    <path d=\"M0 0h24v24H0V0z\" fill=\"none\"/>\n",
              "    <path d=\"M18.56 5.44l.94 2.06.94-2.06 2.06-.94-2.06-.94-.94-2.06-.94 2.06-2.06.94zm-11 1L8.5 8.5l.94-2.06 2.06-.94-2.06-.94L8.5 2.5l-.94 2.06-2.06.94zm10 10l.94 2.06.94-2.06 2.06-.94-2.06-.94-.94-2.06-.94 2.06-2.06.94z\"/><path d=\"M17.41 7.96l-1.37-1.37c-.4-.4-.92-.59-1.43-.59-.52 0-1.04.2-1.43.59L10.3 9.45l-7.72 7.72c-.78.78-.78 2.05 0 2.83L4 21.41c.39.39.9.59 1.41.59.51 0 1.02-.2 1.41-.59l7.78-7.78 2.81-2.81c.8-.78.8-2.07 0-2.86zM5.41 20L4 18.59l7.72-7.72 1.47 1.35L5.41 20z\"/>\n",
              "  </svg>\n",
              "      </button>\n",
              "      \n",
              "  <style>\n",
              "    .colab-df-container {\n",
              "      display:flex;\n",
              "      flex-wrap:wrap;\n",
              "      gap: 12px;\n",
              "    }\n",
              "\n",
              "    .colab-df-convert {\n",
              "      background-color: #E8F0FE;\n",
              "      border: none;\n",
              "      border-radius: 50%;\n",
              "      cursor: pointer;\n",
              "      display: none;\n",
              "      fill: #1967D2;\n",
              "      height: 32px;\n",
              "      padding: 0 0 0 0;\n",
              "      width: 32px;\n",
              "    }\n",
              "\n",
              "    .colab-df-convert:hover {\n",
              "      background-color: #E2EBFA;\n",
              "      box-shadow: 0px 1px 2px rgba(60, 64, 67, 0.3), 0px 1px 3px 1px rgba(60, 64, 67, 0.15);\n",
              "      fill: #174EA6;\n",
              "    }\n",
              "\n",
              "    [theme=dark] .colab-df-convert {\n",
              "      background-color: #3B4455;\n",
              "      fill: #D2E3FC;\n",
              "    }\n",
              "\n",
              "    [theme=dark] .colab-df-convert:hover {\n",
              "      background-color: #434B5C;\n",
              "      box-shadow: 0px 1px 3px 1px rgba(0, 0, 0, 0.15);\n",
              "      filter: drop-shadow(0px 1px 2px rgba(0, 0, 0, 0.3));\n",
              "      fill: #FFFFFF;\n",
              "    }\n",
              "  </style>\n",
              "\n",
              "      <script>\n",
              "        const buttonEl =\n",
              "          document.querySelector('#df-32d3f075-0b2d-4ac5-a2c5-04dca3ede4c2 button.colab-df-convert');\n",
              "        buttonEl.style.display =\n",
              "          google.colab.kernel.accessAllowed ? 'block' : 'none';\n",
              "\n",
              "        async function convertToInteractive(key) {\n",
              "          const element = document.querySelector('#df-32d3f075-0b2d-4ac5-a2c5-04dca3ede4c2');\n",
              "          const dataTable =\n",
              "            await google.colab.kernel.invokeFunction('convertToInteractive',\n",
              "                                                     [key], {});\n",
              "          if (!dataTable) return;\n",
              "\n",
              "          const docLinkHtml = 'Like what you see? Visit the ' +\n",
              "            '<a target=\"_blank\" href=https://colab.research.google.com/notebooks/data_table.ipynb>data table notebook</a>'\n",
              "            + ' to learn more about interactive tables.';\n",
              "          element.innerHTML = '';\n",
              "          dataTable['output_type'] = 'display_data';\n",
              "          await google.colab.output.renderOutput(dataTable, element);\n",
              "          const docLink = document.createElement('div');\n",
              "          docLink.innerHTML = docLinkHtml;\n",
              "          element.appendChild(docLink);\n",
              "        }\n",
              "      </script>\n",
              "    </div>\n",
              "  </div>\n",
              "  "
            ]
          },
          "metadata": {},
          "execution_count": 25
        }
      ]
    },
    {
      "cell_type": "markdown",
      "source": [
        "### **2.2.2. um_sibsp_parch**"
      ],
      "metadata": {
        "id": "OK-wj0jz940L"
      }
    },
    {
      "cell_type": "markdown",
      "source": [
        "총 가족수를 나타내는 피처를 생성하겠습니다. 베이스라인 모델링과 달리 1을 더하여 1명을 가리키는 값을 만들겠습니다."
      ],
      "metadata": {
        "id": "BOEXnyCh-b39"
      }
    },
    {
      "cell_type": "code",
      "source": [
        "all_data['Sum_sibsp_parch'] = all_data['SibSp'] + all_data['Parch'] + 1"
      ],
      "metadata": {
        "id": "NcsvPeEc-H1c"
      },
      "execution_count": 26,
      "outputs": []
    },
    {
      "cell_type": "code",
      "source": [
        "sns.countplot(x='Sum_sibsp_parch', data=all_data)"
      ],
      "metadata": {
        "colab": {
          "base_uri": "https://localhost:8080/",
          "height": 378
        },
        "id": "2t4CdJa6_Ahe",
        "outputId": "b505737f-c547-4f00-bba6-6834745d4a07"
      },
      "execution_count": 27,
      "outputs": [
        {
          "output_type": "execute_result",
          "data": {
            "text/plain": [
              "<matplotlib.axes._subplots.AxesSubplot at 0x7f5863b800d0>"
            ]
          },
          "metadata": {},
          "execution_count": 27
        },
        {
          "output_type": "display_data",
          "data": {
            "text/plain": [
              "<Figure size 576x396 with 1 Axes>"
            ],
            "image/png": "[encoded data removed]"
          },
          "metadata": {}
        }
      ]
    },
    {
      "cell_type": "code",
      "source": [
        "all_data.groupby('Sum_sibsp_parch').mean()"
      ],
      "metadata": {
        "colab": {
          "base_uri": "https://localhost:8080/",
          "height": 363
        },
        "id": "oAZPg8ih_MSm",
        "outputId": "f3e229d2-9055-4f23-e8f4-b90580f0fff8"
      },
      "execution_count": 28,
      "outputs": [
        {
          "output_type": "execute_result",
          "data": {
            "text/plain": [
              "                 PassengerId  Survived    Pclass        Age     SibSp  \\\n",
              "Sum_sibsp_parch                                                         \n",
              "1                 663.743038  0.303538  2.394937  31.511864  0.000000   \n",
              "2                 626.148936  0.552795  1.893617  32.726942  0.778723   \n",
              "3                 687.635220  0.578431  2.226415  26.534097  0.893082   \n",
              "4                 708.139535  0.724138  2.116279  19.423333  1.302326   \n",
              "5                 594.272727  0.200000  2.500000  23.764706  2.000000   \n",
              "6                 466.240000  0.136364  2.480000  20.120000  2.800000   \n",
              "7                 547.375000  0.333333  3.000000  17.375000  3.250000   \n",
              "8                 553.250000  0.000000  3.000000  18.000000  4.000000   \n",
              "11                745.000000  0.000000  3.000000  14.500000  6.727273   \n",
              "\n",
              "                    Parch       Fare  \n",
              "Sum_sibsp_parch                       \n",
              "1                0.000000  21.749475  \n",
              "2                0.221277  51.228106  \n",
              "3                1.106918  41.566062  \n",
              "4                1.697674  51.186047  \n",
              "5                2.000000  80.067432  \n",
              "6                2.200000  87.081000  \n",
              "7                2.750000  28.396094  \n",
              "8                3.000000  46.900000  \n",
              "11               3.272727  69.550000  "
            ],
            "text/html": [
              "\n",
              "  <div id=\"df-6d87b089-d84e-440f-97d4-8d552d3ba824\">\n",
              "    <div class=\"colab-df-container\">\n",
              "      <div>\n",
              "<style scoped>\n",
              "    .dataframe tbody tr th:only-of-type {\n",
              "        vertical-align: middle;\n",
              "    }\n",
              "\n",
              "    .dataframe tbody tr th {\n",
              "        vertical-align: top;\n",
              "    }\n",
              "\n",
              "    .dataframe thead th {\n",
              "        text-align: right;\n",
              "    }\n",
              "</style>\n",
              "<table border=\"1\" class=\"dataframe\">\n",
              "  <thead>\n",
              "    <tr style=\"text-align: right;\">\n",
              "      <th></th>\n",
              "      <th>PassengerId</th>\n",
              "      <th>Survived</th>\n",
              "      <th>Pclass</th>\n",
              "      <th>Age</th>\n",
              "      <th>SibSp</th>\n",
              "      <th>Parch</th>\n",
              "      <th>Fare</th>\n",
              "    </tr>\n",
              "    <tr>\n",
              "      <th>Sum_sibsp_parch</th>\n",
              "      <th></th>\n",
              "      <th></th>\n",
              "      <th></th>\n",
              "      <th></th>\n",
              "      <th></th>\n",
              "      <th></th>\n",
              "      <th></th>\n",
              "    </tr>\n",
              "  </thead>\n",
              "  <tbody>\n",
              "    <tr>\n",
              "      <th>1</th>\n",
              "      <td>663.743038</td>\n",
              "      <td>0.303538</td>\n",
              "      <td>2.394937</td>\n",
              "      <td>31.511864</td>\n",
              "      <td>0.000000</td>\n",
              "      <td>0.000000</td>\n",
              "      <td>21.749475</td>\n",
              "    </tr>\n",
              "    <tr>\n",
              "      <th>2</th>\n",
              "      <td>626.148936</td>\n",
              "      <td>0.552795</td>\n",
              "      <td>1.893617</td>\n",
              "      <td>32.726942</td>\n",
              "      <td>0.778723</td>\n",
              "      <td>0.221277</td>\n",
              "      <td>51.228106</td>\n",
              "    </tr>\n",
              "    <tr>\n",
              "      <th>3</th>\n",
              "      <td>687.635220</td>\n",
              "      <td>0.578431</td>\n",
              "      <td>2.226415</td>\n",
              "      <td>26.534097</td>\n",
              "      <td>0.893082</td>\n",
              "      <td>1.106918</td>\n",
              "      <td>41.566062</td>\n",
              "    </tr>\n",
              "    <tr>\n",
              "      <th>4</th>\n",
              "      <td>708.139535</td>\n",
              "      <td>0.724138</td>\n",
              "      <td>2.116279</td>\n",
              "      <td>19.423333</td>\n",
              "      <td>1.302326</td>\n",
              "      <td>1.697674</td>\n",
              "      <td>51.186047</td>\n",
              "    </tr>\n",
              "    <tr>\n",
              "      <th>5</th>\n",
              "      <td>594.272727</td>\n",
              "      <td>0.200000</td>\n",
              "      <td>2.500000</td>\n",
              "      <td>23.764706</td>\n",
              "      <td>2.000000</td>\n",
              "      <td>2.000000</td>\n",
              "      <td>80.067432</td>\n",
              "    </tr>\n",
              "    <tr>\n",
              "      <th>6</th>\n",
              "      <td>466.240000</td>\n",
              "      <td>0.136364</td>\n",
              "      <td>2.480000</td>\n",
              "      <td>20.120000</td>\n",
              "      <td>2.800000</td>\n",
              "      <td>2.200000</td>\n",
              "      <td>87.081000</td>\n",
              "    </tr>\n",
              "    <tr>\n",
              "      <th>7</th>\n",
              "      <td>547.375000</td>\n",
              "      <td>0.333333</td>\n",
              "      <td>3.000000</td>\n",
              "      <td>17.375000</td>\n",
              "      <td>3.250000</td>\n",
              "      <td>2.750000</td>\n",
              "      <td>28.396094</td>\n",
              "    </tr>\n",
              "    <tr>\n",
              "      <th>8</th>\n",
              "      <td>553.250000</td>\n",
              "      <td>0.000000</td>\n",
              "      <td>3.000000</td>\n",
              "      <td>18.000000</td>\n",
              "      <td>4.000000</td>\n",
              "      <td>3.000000</td>\n",
              "      <td>46.900000</td>\n",
              "    </tr>\n",
              "    <tr>\n",
              "      <th>11</th>\n",
              "      <td>745.000000</td>\n",
              "      <td>0.000000</td>\n",
              "      <td>3.000000</td>\n",
              "      <td>14.500000</td>\n",
              "      <td>6.727273</td>\n",
              "      <td>3.272727</td>\n",
              "      <td>69.550000</td>\n",
              "    </tr>\n",
              "  </tbody>\n",
              "</table>\n",
              "</div>\n",
              "      <button class=\"colab-df-convert\" onclick=\"convertToInteractive('df-6d87b089-d84e-440f-97d4-8d552d3ba824')\"\n",
              "              title=\"Convert this dataframe to an interactive table.\"\n",
              "              style=\"display:none;\">\n",
              "        \n",
              "  <svg xmlns=\"http://www.w3.org/2000/svg\" height=\"24px\"viewBox=\"0 0 24 24\"\n",
              "       width=\"24px\">\n",
              "    <path d=\"M0 0h24v24H0V0z\" fill=\"none\"/>\n",
              "    <path d=\"M18.56 5.44l.94 2.06.94-2.06 2.06-.94-2.06-.94-.94-2.06-.94 2.06-2.06.94zm-11 1L8.5 8.5l.94-2.06 2.06-.94-2.06-.94L8.5 2.5l-.94 2.06-2.06.94zm10 10l.94 2.06.94-2.06 2.06-.94-2.06-.94-.94-2.06-.94 2.06-2.06.94z\"/><path d=\"M17.41 7.96l-1.37-1.37c-.4-.4-.92-.59-1.43-.59-.52 0-1.04.2-1.43.59L10.3 9.45l-7.72 7.72c-.78.78-.78 2.05 0 2.83L4 21.41c.39.39.9.59 1.41.59.51 0 1.02-.2 1.41-.59l7.78-7.78 2.81-2.81c.8-.78.8-2.07 0-2.86zM5.41 20L4 18.59l7.72-7.72 1.47 1.35L5.41 20z\"/>\n",
              "  </svg>\n",
              "      </button>\n",
              "      \n",
              "  <style>\n",
              "    .colab-df-container {\n",
              "      display:flex;\n",
              "      flex-wrap:wrap;\n",
              "      gap: 12px;\n",
              "    }\n",
              "\n",
              "    .colab-df-convert {\n",
              "      background-color: #E8F0FE;\n",
              "      border: none;\n",
              "      border-radius: 50%;\n",
              "      cursor: pointer;\n",
              "      display: none;\n",
              "      fill: #1967D2;\n",
              "      height: 32px;\n",
              "      padding: 0 0 0 0;\n",
              "      width: 32px;\n",
              "    }\n",
              "\n",
              "    .colab-df-convert:hover {\n",
              "      background-color: #E2EBFA;\n",
              "      box-shadow: 0px 1px 2px rgba(60, 64, 67, 0.3), 0px 1px 3px 1px rgba(60, 64, 67, 0.15);\n",
              "      fill: #174EA6;\n",
              "    }\n",
              "\n",
              "    [theme=dark] .colab-df-convert {\n",
              "      background-color: #3B4455;\n",
              "      fill: #D2E3FC;\n",
              "    }\n",
              "\n",
              "    [theme=dark] .colab-df-convert:hover {\n",
              "      background-color: #434B5C;\n",
              "      box-shadow: 0px 1px 3px 1px rgba(0, 0, 0, 0.15);\n",
              "      filter: drop-shadow(0px 1px 2px rgba(0, 0, 0, 0.3));\n",
              "      fill: #FFFFFF;\n",
              "    }\n",
              "  </style>\n",
              "\n",
              "      <script>\n",
              "        const buttonEl =\n",
              "          document.querySelector('#df-6d87b089-d84e-440f-97d4-8d552d3ba824 button.colab-df-convert');\n",
              "        buttonEl.style.display =\n",
              "          google.colab.kernel.accessAllowed ? 'block' : 'none';\n",
              "\n",
              "        async function convertToInteractive(key) {\n",
              "          const element = document.querySelector('#df-6d87b089-d84e-440f-97d4-8d552d3ba824');\n",
              "          const dataTable =\n",
              "            await google.colab.kernel.invokeFunction('convertToInteractive',\n",
              "                                                     [key], {});\n",
              "          if (!dataTable) return;\n",
              "\n",
              "          const docLinkHtml = 'Like what you see? Visit the ' +\n",
              "            '<a target=\"_blank\" href=https://colab.research.google.com/notebooks/data_table.ipynb>data table notebook</a>'\n",
              "            + ' to learn more about interactive tables.';\n",
              "          element.innerHTML = '';\n",
              "          dataTable['output_type'] = 'display_data';\n",
              "          await google.colab.output.renderOutput(dataTable, element);\n",
              "          const docLink = document.createElement('div');\n",
              "          docLink.innerHTML = docLinkHtml;\n",
              "          element.appendChild(docLink);\n",
              "        }\n",
              "      </script>\n",
              "    </div>\n",
              "  </div>\n",
              "  "
            ]
          },
          "metadata": {},
          "execution_count": 28
        }
      ]
    },
    {
      "cell_type": "markdown",
      "source": [
        "## **2.4. 피처 스케일링**"
      ],
      "metadata": {
        "id": "cPILyMRtTgCT"
      }
    },
    {
      "cell_type": "markdown",
      "source": [
        "### **2.4.1. Fare**"
      ],
      "metadata": {
        "id": "KBJyvanbeg_e"
      }
    },
    {
      "cell_type": "markdown",
      "source": [
        "'Fare' 피처는 왜도가 큽니다. 넘파이의 `log()` 메서드를 적용하여 로그 변환을 수행하겠습니다. 언더 플로우를 방지하기 위해 `log1p()` 메서드를 사용하는 편이 좋지만 일단 그대로 적용해 보겠습니다."
      ],
      "metadata": {
        "id": "zKkOOqhpTsmm"
      }
    },
    {
      "cell_type": "code",
      "source": [
        "all_data['Fare'] = all_data['Fare'].map(lambda i: np.log(i) if i > 0 else 0)"
      ],
      "metadata": {
        "id": "XIovH9AjUPj1"
      },
      "execution_count": 29,
      "outputs": []
    },
    {
      "cell_type": "code",
      "source": [
        "sns.histplot(x=all_data['Fare'], kde=True, stat='probability')"
      ],
      "metadata": {
        "colab": {
          "base_uri": "https://localhost:8080/",
          "height": 378
        },
        "id": "FGjfnA9FWx8_",
        "outputId": "27b5b069-6e98-4560-b5ea-e3233a3ff584"
      },
      "execution_count": 30,
      "outputs": [
        {
          "output_type": "execute_result",
          "data": {
            "text/plain": [
              "<matplotlib.axes._subplots.AxesSubplot at 0x7f5863cf7d60>"
            ]
          },
          "metadata": {},
          "execution_count": 30
        },
        {
          "output_type": "display_data",
          "data": {
            "text/plain": [
              "<Figure size 576x396 with 1 Axes>"
            ],
            "image/png": "[encoded data removed]"
          },
          "metadata": {}
        }
      ]
    },
    {
      "cell_type": "markdown",
      "source": [
        "## **2.5. 불필요한 피처 처리**"
      ],
      "metadata": {
        "id": "-j-NsTNdpW_H"
      }
    },
    {
      "cell_type": "markdown",
      "source": [
        "분석에 불필요한 피처는 'PassengerId', 'Name', 'SibSp', 'Parch', 'Ticket'입니다. 제거하겠습니다."
      ],
      "metadata": {
        "id": "LhDuwIAspZWw"
      }
    },
    {
      "cell_type": "code",
      "source": [
        "drop_feature_list = ['PassengerId', 'Name', 'SibSp', 'Parch', 'Ticket']\n",
        "all_data = all_data.drop(drop_feature_list, axis=1)"
      ],
      "metadata": {
        "id": "SdAh9pUtpqYR"
      },
      "execution_count": 31,
      "outputs": []
    },
    {
      "cell_type": "code",
      "source": [
        "all_data.head(3)"
      ],
      "metadata": {
        "colab": {
          "base_uri": "https://localhost:8080/",
          "height": 143
        },
        "id": "tzL02e-nqtQA",
        "outputId": "29750fda-1c62-4f74-bdeb-bb4f3649d0de"
      },
      "execution_count": 32,
      "outputs": [
        {
          "output_type": "execute_result",
          "data": {
            "text/plain": [
              "   Survived  Pclass     Sex   Age      Fare Embarked Appellation  \\\n",
              "0       0.0       3    male  22.0  1.981001        S          Mr   \n",
              "1       1.0       1  female  38.0  4.266662        C         Mrs   \n",
              "2       1.0       3  female  26.0  2.070022        S        Miss   \n",
              "\n",
              "   Sum_sibsp_parch  \n",
              "0                2  \n",
              "1                2  \n",
              "2                1  "
            ],
            "text/html": [
              "\n",
              "  <div id=\"df-285c9ff1-ed6d-4d9b-ba79-3475db8ef1e1\">\n",
              "    <div class=\"colab-df-container\">\n",
              "      <div>\n",
              "<style scoped>\n",
              "    .dataframe tbody tr th:only-of-type {\n",
              "        vertical-align: middle;\n",
              "    }\n",
              "\n",
              "    .dataframe tbody tr th {\n",
              "        vertical-align: top;\n",
              "    }\n",
              "\n",
              "    .dataframe thead th {\n",
              "        text-align: right;\n",
              "    }\n",
              "</style>\n",
              "<table border=\"1\" class=\"dataframe\">\n",
              "  <thead>\n",
              "    <tr style=\"text-align: right;\">\n",
              "      <th></th>\n",
              "      <th>Survived</th>\n",
              "      <th>Pclass</th>\n",
              "      <th>Sex</th>\n",
              "      <th>Age</th>\n",
              "      <th>Fare</th>\n",
              "      <th>Embarked</th>\n",
              "      <th>Appellation</th>\n",
              "      <th>Sum_sibsp_parch</th>\n",
              "    </tr>\n",
              "  </thead>\n",
              "  <tbody>\n",
              "    <tr>\n",
              "      <th>0</th>\n",
              "      <td>0.0</td>\n",
              "      <td>3</td>\n",
              "      <td>male</td>\n",
              "      <td>22.0</td>\n",
              "      <td>1.981001</td>\n",
              "      <td>S</td>\n",
              "      <td>Mr</td>\n",
              "      <td>2</td>\n",
              "    </tr>\n",
              "    <tr>\n",
              "      <th>1</th>\n",
              "      <td>1.0</td>\n",
              "      <td>1</td>\n",
              "      <td>female</td>\n",
              "      <td>38.0</td>\n",
              "      <td>4.266662</td>\n",
              "      <td>C</td>\n",
              "      <td>Mrs</td>\n",
              "      <td>2</td>\n",
              "    </tr>\n",
              "    <tr>\n",
              "      <th>2</th>\n",
              "      <td>1.0</td>\n",
              "      <td>3</td>\n",
              "      <td>female</td>\n",
              "      <td>26.0</td>\n",
              "      <td>2.070022</td>\n",
              "      <td>S</td>\n",
              "      <td>Miss</td>\n",
              "      <td>1</td>\n",
              "    </tr>\n",
              "  </tbody>\n",
              "</table>\n",
              "</div>\n",
              "      <button class=\"colab-df-convert\" onclick=\"convertToInteractive('df-285c9ff1-ed6d-4d9b-ba79-3475db8ef1e1')\"\n",
              "              title=\"Convert this dataframe to an interactive table.\"\n",
              "              style=\"display:none;\">\n",
              "        \n",
              "  <svg xmlns=\"http://www.w3.org/2000/svg\" height=\"24px\"viewBox=\"0 0 24 24\"\n",
              "       width=\"24px\">\n",
              "    <path d=\"M0 0h24v24H0V0z\" fill=\"none\"/>\n",
              "    <path d=\"M18.56 5.44l.94 2.06.94-2.06 2.06-.94-2.06-.94-.94-2.06-.94 2.06-2.06.94zm-11 1L8.5 8.5l.94-2.06 2.06-.94-2.06-.94L8.5 2.5l-.94 2.06-2.06.94zm10 10l.94 2.06.94-2.06 2.06-.94-2.06-.94-.94-2.06-.94 2.06-2.06.94z\"/><path d=\"M17.41 7.96l-1.37-1.37c-.4-.4-.92-.59-1.43-.59-.52 0-1.04.2-1.43.59L10.3 9.45l-7.72 7.72c-.78.78-.78 2.05 0 2.83L4 21.41c.39.39.9.59 1.41.59.51 0 1.02-.2 1.41-.59l7.78-7.78 2.81-2.81c.8-.78.8-2.07 0-2.86zM5.41 20L4 18.59l7.72-7.72 1.47 1.35L5.41 20z\"/>\n",
              "  </svg>\n",
              "      </button>\n",
              "      \n",
              "  <style>\n",
              "    .colab-df-container {\n",
              "      display:flex;\n",
              "      flex-wrap:wrap;\n",
              "      gap: 12px;\n",
              "    }\n",
              "\n",
              "    .colab-df-convert {\n",
              "      background-color: #E8F0FE;\n",
              "      border: none;\n",
              "      border-radius: 50%;\n",
              "      cursor: pointer;\n",
              "      display: none;\n",
              "      fill: #1967D2;\n",
              "      height: 32px;\n",
              "      padding: 0 0 0 0;\n",
              "      width: 32px;\n",
              "    }\n",
              "\n",
              "    .colab-df-convert:hover {\n",
              "      background-color: #E2EBFA;\n",
              "      box-shadow: 0px 1px 2px rgba(60, 64, 67, 0.3), 0px 1px 3px 1px rgba(60, 64, 67, 0.15);\n",
              "      fill: #174EA6;\n",
              "    }\n",
              "\n",
              "    [theme=dark] .colab-df-convert {\n",
              "      background-color: #3B4455;\n",
              "      fill: #D2E3FC;\n",
              "    }\n",
              "\n",
              "    [theme=dark] .colab-df-convert:hover {\n",
              "      background-color: #434B5C;\n",
              "      box-shadow: 0px 1px 3px 1px rgba(0, 0, 0, 0.15);\n",
              "      filter: drop-shadow(0px 1px 2px rgba(0, 0, 0, 0.3));\n",
              "      fill: #FFFFFF;\n",
              "    }\n",
              "  </style>\n",
              "\n",
              "      <script>\n",
              "        const buttonEl =\n",
              "          document.querySelector('#df-285c9ff1-ed6d-4d9b-ba79-3475db8ef1e1 button.colab-df-convert');\n",
              "        buttonEl.style.display =\n",
              "          google.colab.kernel.accessAllowed ? 'block' : 'none';\n",
              "\n",
              "        async function convertToInteractive(key) {\n",
              "          const element = document.querySelector('#df-285c9ff1-ed6d-4d9b-ba79-3475db8ef1e1');\n",
              "          const dataTable =\n",
              "            await google.colab.kernel.invokeFunction('convertToInteractive',\n",
              "                                                     [key], {});\n",
              "          if (!dataTable) return;\n",
              "\n",
              "          const docLinkHtml = 'Like what you see? Visit the ' +\n",
              "            '<a target=\"_blank\" href=https://colab.research.google.com/notebooks/data_table.ipynb>data table notebook</a>'\n",
              "            + ' to learn more about interactive tables.';\n",
              "          element.innerHTML = '';\n",
              "          dataTable['output_type'] = 'display_data';\n",
              "          await google.colab.output.renderOutput(dataTable, element);\n",
              "          const docLink = document.createElement('div');\n",
              "          docLink.innerHTML = docLinkHtml;\n",
              "          element.appendChild(docLink);\n",
              "        }\n",
              "      </script>\n",
              "    </div>\n",
              "  </div>\n",
              "  "
            ]
          },
          "metadata": {},
          "execution_count": 32
        }
      ]
    },
    {
      "cell_type": "markdown",
      "source": [
        "## **2.7. 추가 작업**"
      ],
      "metadata": {
        "id": "OtRUa1j55x-O"
      }
    },
    {
      "cell_type": "markdown",
      "source": [
        "베이스라인 모델링에서 수행하지 않은 방법으로 추가 피처 엔지니어링을 수행하겠습니다."
      ],
      "metadata": {
        "id": "1eHnxZLf1Xpu"
      }
    },
    {
      "cell_type": "markdown",
      "source": [
        "### **2.7.1. Age**"
      ],
      "metadata": {
        "id": "UEGy1q6Aw4yr"
      }
    },
    {
      "cell_type": "markdown",
      "source": [
        "#### **2.7.1.1. 결측치 처리**"
      ],
      "metadata": {
        "id": "2UT_hozL2oW6"
      }
    },
    {
      "cell_type": "markdown",
      "source": [
        "이번엔 'Appellation'별 'Age'의 평균값으로 결측치를 채워 보겠습니다."
      ],
      "metadata": {
        "id": "-UiTx93t2bkm"
      }
    },
    {
      "cell_type": "code",
      "source": [
        "appellation_age_mean = all_data[['Appellation', 'Age']].groupby('Appellation').mean().reset_index()\n",
        "appellation_age_mean.columns = ['Appellation', 'Age_mean']\n",
        "appellation_age_mean"
      ],
      "metadata": {
        "colab": {
          "base_uri": "https://localhost:8080/",
          "height": 175
        },
        "id": "StV9kWuAxXyG",
        "outputId": "315cd146-83a3-4c2a-cefe-66867ca8b585"
      },
      "execution_count": 33,
      "outputs": [
        {
          "output_type": "execute_result",
          "data": {
            "text/plain": [
              "  Appellation   Age_mean\n",
              "0      Master   5.482642\n",
              "1        Miss  21.824366\n",
              "2          Mr  32.811056\n",
              "3         Mrs  36.971264"
            ],
            "text/html": [
              "\n",
              "  <div id=\"df-ef0fffe4-fe9d-436b-96ad-cb3a3f3ca2bb\">\n",
              "    <div class=\"colab-df-container\">\n",
              "      <div>\n",
              "<style scoped>\n",
              "    .dataframe tbody tr th:only-of-type {\n",
              "        vertical-align: middle;\n",
              "    }\n",
              "\n",
              "    .dataframe tbody tr th {\n",
              "        vertical-align: top;\n",
              "    }\n",
              "\n",
              "    .dataframe thead th {\n",
              "        text-align: right;\n",
              "    }\n",
              "</style>\n",
              "<table border=\"1\" class=\"dataframe\">\n",
              "  <thead>\n",
              "    <tr style=\"text-align: right;\">\n",
              "      <th></th>\n",
              "      <th>Appellation</th>\n",
              "      <th>Age_mean</th>\n",
              "    </tr>\n",
              "  </thead>\n",
              "  <tbody>\n",
              "    <tr>\n",
              "      <th>0</th>\n",
              "      <td>Master</td>\n",
              "      <td>5.482642</td>\n",
              "    </tr>\n",
              "    <tr>\n",
              "      <th>1</th>\n",
              "      <td>Miss</td>\n",
              "      <td>21.824366</td>\n",
              "    </tr>\n",
              "    <tr>\n",
              "      <th>2</th>\n",
              "      <td>Mr</td>\n",
              "      <td>32.811056</td>\n",
              "    </tr>\n",
              "    <tr>\n",
              "      <th>3</th>\n",
              "      <td>Mrs</td>\n",
              "      <td>36.971264</td>\n",
              "    </tr>\n",
              "  </tbody>\n",
              "</table>\n",
              "</div>\n",
              "      <button class=\"colab-df-convert\" onclick=\"convertToInteractive('df-ef0fffe4-fe9d-436b-96ad-cb3a3f3ca2bb')\"\n",
              "              title=\"Convert this dataframe to an interactive table.\"\n",
              "              style=\"display:none;\">\n",
              "        \n",
              "  <svg xmlns=\"http://www.w3.org/2000/svg\" height=\"24px\"viewBox=\"0 0 24 24\"\n",
              "       width=\"24px\">\n",
              "    <path d=\"M0 0h24v24H0V0z\" fill=\"none\"/>\n",
              "    <path d=\"M18.56 5.44l.94 2.06.94-2.06 2.06-.94-2.06-.94-.94-2.06-.94 2.06-2.06.94zm-11 1L8.5 8.5l.94-2.06 2.06-.94-2.06-.94L8.5 2.5l-.94 2.06-2.06.94zm10 10l.94 2.06.94-2.06 2.06-.94-2.06-.94-.94-2.06-.94 2.06-2.06.94z\"/><path d=\"M17.41 7.96l-1.37-1.37c-.4-.4-.92-.59-1.43-.59-.52 0-1.04.2-1.43.59L10.3 9.45l-7.72 7.72c-.78.78-.78 2.05 0 2.83L4 21.41c.39.39.9.59 1.41.59.51 0 1.02-.2 1.41-.59l7.78-7.78 2.81-2.81c.8-.78.8-2.07 0-2.86zM5.41 20L4 18.59l7.72-7.72 1.47 1.35L5.41 20z\"/>\n",
              "  </svg>\n",
              "      </button>\n",
              "      \n",
              "  <style>\n",
              "    .colab-df-container {\n",
              "      display:flex;\n",
              "      flex-wrap:wrap;\n",
              "      gap: 12px;\n",
              "    }\n",
              "\n",
              "    .colab-df-convert {\n",
              "      background-color: #E8F0FE;\n",
              "      border: none;\n",
              "      border-radius: 50%;\n",
              "      cursor: pointer;\n",
              "      display: none;\n",
              "      fill: #1967D2;\n",
              "      height: 32px;\n",
              "      padding: 0 0 0 0;\n",
              "      width: 32px;\n",
              "    }\n",
              "\n",
              "    .colab-df-convert:hover {\n",
              "      background-color: #E2EBFA;\n",
              "      box-shadow: 0px 1px 2px rgba(60, 64, 67, 0.3), 0px 1px 3px 1px rgba(60, 64, 67, 0.15);\n",
              "      fill: #174EA6;\n",
              "    }\n",
              "\n",
              "    [theme=dark] .colab-df-convert {\n",
              "      background-color: #3B4455;\n",
              "      fill: #D2E3FC;\n",
              "    }\n",
              "\n",
              "    [theme=dark] .colab-df-convert:hover {\n",
              "      background-color: #434B5C;\n",
              "      box-shadow: 0px 1px 3px 1px rgba(0, 0, 0, 0.15);\n",
              "      filter: drop-shadow(0px 1px 2px rgba(0, 0, 0, 0.3));\n",
              "      fill: #FFFFFF;\n",
              "    }\n",
              "  </style>\n",
              "\n",
              "      <script>\n",
              "        const buttonEl =\n",
              "          document.querySelector('#df-ef0fffe4-fe9d-436b-96ad-cb3a3f3ca2bb button.colab-df-convert');\n",
              "        buttonEl.style.display =\n",
              "          google.colab.kernel.accessAllowed ? 'block' : 'none';\n",
              "\n",
              "        async function convertToInteractive(key) {\n",
              "          const element = document.querySelector('#df-ef0fffe4-fe9d-436b-96ad-cb3a3f3ca2bb');\n",
              "          const dataTable =\n",
              "            await google.colab.kernel.invokeFunction('convertToInteractive',\n",
              "                                                     [key], {});\n",
              "          if (!dataTable) return;\n",
              "\n",
              "          const docLinkHtml = 'Like what you see? Visit the ' +\n",
              "            '<a target=\"_blank\" href=https://colab.research.google.com/notebooks/data_table.ipynb>data table notebook</a>'\n",
              "            + ' to learn more about interactive tables.';\n",
              "          element.innerHTML = '';\n",
              "          dataTable['output_type'] = 'display_data';\n",
              "          await google.colab.output.renderOutput(dataTable, element);\n",
              "          const docLink = document.createElement('div');\n",
              "          docLink.innerHTML = docLinkHtml;\n",
              "          element.appendChild(docLink);\n",
              "        }\n",
              "      </script>\n",
              "    </div>\n",
              "  </div>\n",
              "  "
            ]
          },
          "metadata": {},
          "execution_count": 33
        }
      ]
    },
    {
      "cell_type": "code",
      "source": [
        "all_data = pd.merge(all_data, appellation_age_mean, on='Appellation', how='left')"
      ],
      "metadata": {
        "id": "2GXWPB0yxuuY"
      },
      "execution_count": 34,
      "outputs": []
    },
    {
      "cell_type": "code",
      "source": [
        "all_data.loc[all_data['Age'].isnull(), 'Age'] = all_data['Age_mean']\n",
        "all_data = all_data.drop('Age_mean', axis=1)"
      ],
      "metadata": {
        "id": "vehSZMCkxv0o"
      },
      "execution_count": 35,
      "outputs": []
    },
    {
      "cell_type": "code",
      "source": [
        "sns.displot(x='Age', data=all_data)"
      ],
      "metadata": {
        "colab": {
          "base_uri": "https://localhost:8080/",
          "height": 365
        },
        "id": "5sHIsukaxwnx",
        "outputId": "01d25ab7-ca2b-4bf3-9855-aa50677baf34"
      },
      "execution_count": 36,
      "outputs": [
        {
          "output_type": "execute_result",
          "data": {
            "text/plain": [
              "<seaborn.axisgrid.FacetGrid at 0x7f5861a6b4f0>"
            ]
          },
          "metadata": {},
          "execution_count": 36
        },
        {
          "output_type": "display_data",
          "data": {
            "text/plain": [
              "<Figure size 360x360 with 1 Axes>"
            ],
            "image/png": "[encoded data removed]"
          },
          "metadata": {}
        }
      ]
    },
    {
      "cell_type": "code",
      "source": [
        "all_data.head(3)"
      ],
      "metadata": {
        "colab": {
          "base_uri": "https://localhost:8080/",
          "height": 143
        },
        "id": "Q1ST-hwjybW1",
        "outputId": "7b0f492e-5c51-4223-bb78-f15fc22146de"
      },
      "execution_count": 37,
      "outputs": [
        {
          "output_type": "execute_result",
          "data": {
            "text/plain": [
              "   Survived  Pclass     Sex   Age      Fare Embarked Appellation  \\\n",
              "0       0.0       3    male  22.0  1.981001        S          Mr   \n",
              "1       1.0       1  female  38.0  4.266662        C         Mrs   \n",
              "2       1.0       3  female  26.0  2.070022        S        Miss   \n",
              "\n",
              "   Sum_sibsp_parch  \n",
              "0                2  \n",
              "1                2  \n",
              "2                1  "
            ],
            "text/html": [
              "\n",
              "  <div id=\"df-37d22379-5f18-4cf6-a2e1-63ce46897ddc\">\n",
              "    <div class=\"colab-df-container\">\n",
              "      <div>\n",
              "<style scoped>\n",
              "    .dataframe tbody tr th:only-of-type {\n",
              "        vertical-align: middle;\n",
              "    }\n",
              "\n",
              "    .dataframe tbody tr th {\n",
              "        vertical-align: top;\n",
              "    }\n",
              "\n",
              "    .dataframe thead th {\n",
              "        text-align: right;\n",
              "    }\n",
              "</style>\n",
              "<table border=\"1\" class=\"dataframe\">\n",
              "  <thead>\n",
              "    <tr style=\"text-align: right;\">\n",
              "      <th></th>\n",
              "      <th>Survived</th>\n",
              "      <th>Pclass</th>\n",
              "      <th>Sex</th>\n",
              "      <th>Age</th>\n",
              "      <th>Fare</th>\n",
              "      <th>Embarked</th>\n",
              "      <th>Appellation</th>\n",
              "      <th>Sum_sibsp_parch</th>\n",
              "    </tr>\n",
              "  </thead>\n",
              "  <tbody>\n",
              "    <tr>\n",
              "      <th>0</th>\n",
              "      <td>0.0</td>\n",
              "      <td>3</td>\n",
              "      <td>male</td>\n",
              "      <td>22.0</td>\n",
              "      <td>1.981001</td>\n",
              "      <td>S</td>\n",
              "      <td>Mr</td>\n",
              "      <td>2</td>\n",
              "    </tr>\n",
              "    <tr>\n",
              "      <th>1</th>\n",
              "      <td>1.0</td>\n",
              "      <td>1</td>\n",
              "      <td>female</td>\n",
              "      <td>38.0</td>\n",
              "      <td>4.266662</td>\n",
              "      <td>C</td>\n",
              "      <td>Mrs</td>\n",
              "      <td>2</td>\n",
              "    </tr>\n",
              "    <tr>\n",
              "      <th>2</th>\n",
              "      <td>1.0</td>\n",
              "      <td>3</td>\n",
              "      <td>female</td>\n",
              "      <td>26.0</td>\n",
              "      <td>2.070022</td>\n",
              "      <td>S</td>\n",
              "      <td>Miss</td>\n",
              "      <td>1</td>\n",
              "    </tr>\n",
              "  </tbody>\n",
              "</table>\n",
              "</div>\n",
              "      <button class=\"colab-df-convert\" onclick=\"convertToInteractive('df-37d22379-5f18-4cf6-a2e1-63ce46897ddc')\"\n",
              "              title=\"Convert this dataframe to an interactive table.\"\n",
              "              style=\"display:none;\">\n",
              "        \n",
              "  <svg xmlns=\"http://www.w3.org/2000/svg\" height=\"24px\"viewBox=\"0 0 24 24\"\n",
              "       width=\"24px\">\n",
              "    <path d=\"M0 0h24v24H0V0z\" fill=\"none\"/>\n",
              "    <path d=\"M18.56 5.44l.94 2.06.94-2.06 2.06-.94-2.06-.94-.94-2.06-.94 2.06-2.06.94zm-11 1L8.5 8.5l.94-2.06 2.06-.94-2.06-.94L8.5 2.5l-.94 2.06-2.06.94zm10 10l.94 2.06.94-2.06 2.06-.94-2.06-.94-.94-2.06-.94 2.06-2.06.94z\"/><path d=\"M17.41 7.96l-1.37-1.37c-.4-.4-.92-.59-1.43-.59-.52 0-1.04.2-1.43.59L10.3 9.45l-7.72 7.72c-.78.78-.78 2.05 0 2.83L4 21.41c.39.39.9.59 1.41.59.51 0 1.02-.2 1.41-.59l7.78-7.78 2.81-2.81c.8-.78.8-2.07 0-2.86zM5.41 20L4 18.59l7.72-7.72 1.47 1.35L5.41 20z\"/>\n",
              "  </svg>\n",
              "      </button>\n",
              "      \n",
              "  <style>\n",
              "    .colab-df-container {\n",
              "      display:flex;\n",
              "      flex-wrap:wrap;\n",
              "      gap: 12px;\n",
              "    }\n",
              "\n",
              "    .colab-df-convert {\n",
              "      background-color: #E8F0FE;\n",
              "      border: none;\n",
              "      border-radius: 50%;\n",
              "      cursor: pointer;\n",
              "      display: none;\n",
              "      fill: #1967D2;\n",
              "      height: 32px;\n",
              "      padding: 0 0 0 0;\n",
              "      width: 32px;\n",
              "    }\n",
              "\n",
              "    .colab-df-convert:hover {\n",
              "      background-color: #E2EBFA;\n",
              "      box-shadow: 0px 1px 2px rgba(60, 64, 67, 0.3), 0px 1px 3px 1px rgba(60, 64, 67, 0.15);\n",
              "      fill: #174EA6;\n",
              "    }\n",
              "\n",
              "    [theme=dark] .colab-df-convert {\n",
              "      background-color: #3B4455;\n",
              "      fill: #D2E3FC;\n",
              "    }\n",
              "\n",
              "    [theme=dark] .colab-df-convert:hover {\n",
              "      background-color: #434B5C;\n",
              "      box-shadow: 0px 1px 3px 1px rgba(0, 0, 0, 0.15);\n",
              "      filter: drop-shadow(0px 1px 2px rgba(0, 0, 0, 0.3));\n",
              "      fill: #FFFFFF;\n",
              "    }\n",
              "  </style>\n",
              "\n",
              "      <script>\n",
              "        const buttonEl =\n",
              "          document.querySelector('#df-37d22379-5f18-4cf6-a2e1-63ce46897ddc button.colab-df-convert');\n",
              "        buttonEl.style.display =\n",
              "          google.colab.kernel.accessAllowed ? 'block' : 'none';\n",
              "\n",
              "        async function convertToInteractive(key) {\n",
              "          const element = document.querySelector('#df-37d22379-5f18-4cf6-a2e1-63ce46897ddc');\n",
              "          const dataTable =\n",
              "            await google.colab.kernel.invokeFunction('convertToInteractive',\n",
              "                                                     [key], {});\n",
              "          if (!dataTable) return;\n",
              "\n",
              "          const docLinkHtml = 'Like what you see? Visit the ' +\n",
              "            '<a target=\"_blank\" href=https://colab.research.google.com/notebooks/data_table.ipynb>data table notebook</a>'\n",
              "            + ' to learn more about interactive tables.';\n",
              "          element.innerHTML = '';\n",
              "          dataTable['output_type'] = 'display_data';\n",
              "          await google.colab.output.renderOutput(dataTable, element);\n",
              "          const docLink = document.createElement('div');\n",
              "          docLink.innerHTML = docLinkHtml;\n",
              "          element.appendChild(docLink);\n",
              "        }\n",
              "      </script>\n",
              "    </div>\n",
              "  </div>\n",
              "  "
            ]
          },
          "metadata": {},
          "execution_count": 37
        }
      ]
    },
    {
      "cell_type": "markdown",
      "source": [
        "#### **2.7.1.1. 피처 범주화**"
      ],
      "metadata": {
        "id": "XcqgPCBNeU30"
      }
    },
    {
      "cell_type": "markdown",
      "source": [
        "'Age' 피처는 범위가 매우 넓은 편입니다. 범위를 몇 개의 범주로 나누겠습니다. 기준은 임의로 지정하겠습니다."
      ],
      "metadata": {
        "id": "-ZUC2vO8e7LI"
      }
    },
    {
      "cell_type": "code",
      "source": [
        "def age_category(age):\n",
        "    cat = ''\n",
        "    if age <= 5:\n",
        "        cat = 'Baby'\n",
        "    elif age <= 12:\n",
        "        cat = 'Child'\n",
        "    elif age <= 19:\n",
        "        cat = 'Teen'\n",
        "    elif age <= 29:\n",
        "        cat = 'Young'\n",
        "    elif age <= 44:\n",
        "        cat = 'Adult'\n",
        "    elif age <= 65:\n",
        "        cat = 'Middle Adult'\n",
        "    else:\n",
        "        cat = 'old'\n",
        "\n",
        "    return cat"
      ],
      "metadata": {
        "id": "ViEESxv5fOjZ"
      },
      "execution_count": 38,
      "outputs": []
    },
    {
      "cell_type": "code",
      "source": [
        "all_data['Age'] = all_data['Age'].map(lambda x: age_category(x))"
      ],
      "metadata": {
        "id": "Ieph6rZOhdUc"
      },
      "execution_count": 39,
      "outputs": []
    },
    {
      "cell_type": "code",
      "source": [
        "all_data['Age'].value_counts()"
      ],
      "metadata": {
        "colab": {
          "base_uri": "https://localhost:8080/"
        },
        "id": "Zdhn6ZdNk5xk",
        "outputId": "c5907f3b-eeeb-42e4-9d6c-eaab4febefca"
      },
      "execution_count": 40,
      "outputs": [
        {
          "output_type": "execute_result",
          "data": {
            "text/plain": [
              "Adult           505\n",
              "Young           395\n",
              "Middle Adult    166\n",
              "Teen            131\n",
              "Baby             56\n",
              "Child            46\n",
              "old              10\n",
              "Name: Age, dtype: int64"
            ]
          },
          "metadata": {},
          "execution_count": 40
        }
      ]
    },
    {
      "cell_type": "code",
      "source": [
        "sns.countplot(x='Age', hue='Sex', data=all_data)"
      ],
      "metadata": {
        "colab": {
          "base_uri": "https://localhost:8080/",
          "height": 378
        },
        "id": "D0u-JRldlEAN",
        "outputId": "d9843616-23f0-4ab4-cf81-2155cdbba242"
      },
      "execution_count": 41,
      "outputs": [
        {
          "output_type": "execute_result",
          "data": {
            "text/plain": [
              "<matplotlib.axes._subplots.AxesSubplot at 0x7f58619c87c0>"
            ]
          },
          "metadata": {},
          "execution_count": 41
        },
        {
          "output_type": "display_data",
          "data": {
            "text/plain": [
              "<Figure size 576x396 with 1 Axes>"
            ],
            "image/png": "[encoded data removed]"
          },
          "metadata": {}
        }
      ]
    },
    {
      "cell_type": "markdown",
      "source": [
        "## **2.8. 카테고리 피처 처리**"
      ],
      "metadata": {
        "id": "RQAW7W9VqGuf"
      }
    },
    {
      "cell_type": "markdown",
      "source": [
        "### **2.8.1. 원-핫 인코딩**"
      ],
      "metadata": {
        "id": "YwePKLw6rWrv"
      }
    },
    {
      "cell_type": "markdown",
      "source": [
        "'Sex'와 'Embarked' 피처는 명목형 피처이므로 원-핫 인코딩을 적용할 필요가 있습니다. `OneHotEncoder()` 클래스는 명목형 피처와 순위형 피처 모두 원-핫 인코딩을 수행하고, 판다스의 `get_dummies()` 메서드는 명목형 피처만 원-핫 인코딩을 수행합니다. 일단 `get_dummies()` 메서드를 적용하며, 'Pclass' 피처는 변환을 거치지 않고 그대로 사용해 보겠습니다."
      ],
      "metadata": {
        "id": "td9Qesucru4F"
      }
    },
    {
      "cell_type": "code",
      "source": [
        "all_data_ohe = pd.get_dummies(all_data)\n",
        "all_data_ohe.head(3)"
      ],
      "metadata": {
        "colab": {
          "base_uri": "https://localhost:8080/",
          "height": 225
        },
        "id": "UQJPWpMBYFvK",
        "outputId": "e520d3c4-2623-48b1-e1e8-30882d4a76cf"
      },
      "execution_count": 42,
      "outputs": [
        {
          "output_type": "execute_result",
          "data": {
            "text/plain": [
              "   Survived  Pclass      Fare  Sum_sibsp_parch  Sex_female  Sex_male  \\\n",
              "0       0.0       3  1.981001                2           0         1   \n",
              "1       1.0       1  4.266662                2           1         0   \n",
              "2       1.0       3  2.070022                1           1         0   \n",
              "\n",
              "   Age_Adult  Age_Baby  Age_Child  Age_Middle Adult  Age_Teen  Age_Young  \\\n",
              "0          0         0          0                 0         0          1   \n",
              "1          1         0          0                 0         0          0   \n",
              "2          0         0          0                 0         0          1   \n",
              "\n",
              "   Age_old  Embarked_C  Embarked_Q  Embarked_S  Appellation_Master  \\\n",
              "0        0           0           0           1                   0   \n",
              "1        0           1           0           0                   0   \n",
              "2        0           0           0           1                   0   \n",
              "\n",
              "   Appellation_Miss  Appellation_Mr  Appellation_Mrs  \n",
              "0                 0               1                0  \n",
              "1                 0               0                1  \n",
              "2                 1               0                0  "
            ],
            "text/html": [
              "\n",
              "  <div id=\"df-608e25c4-5270-4b93-a12a-e41932ae73d1\">\n",
              "    <div class=\"colab-df-container\">\n",
              "      <div>\n",
              "<style scoped>\n",
              "    .dataframe tbody tr th:only-of-type {\n",
              "        vertical-align: middle;\n",
              "    }\n",
              "\n",
              "    .dataframe tbody tr th {\n",
              "        vertical-align: top;\n",
              "    }\n",
              "\n",
              "    .dataframe thead th {\n",
              "        text-align: right;\n",
              "    }\n",
              "</style>\n",
              "<table border=\"1\" class=\"dataframe\">\n",
              "  <thead>\n",
              "    <tr style=\"text-align: right;\">\n",
              "      <th></th>\n",
              "      <th>Survived</th>\n",
              "      <th>Pclass</th>\n",
              "      <th>Fare</th>\n",
              "      <th>Sum_sibsp_parch</th>\n",
              "      <th>Sex_female</th>\n",
              "      <th>Sex_male</th>\n",
              "      <th>Age_Adult</th>\n",
              "      <th>Age_Baby</th>\n",
              "      <th>Age_Child</th>\n",
              "      <th>Age_Middle Adult</th>\n",
              "      <th>Age_Teen</th>\n",
              "      <th>Age_Young</th>\n",
              "      <th>Age_old</th>\n",
              "      <th>Embarked_C</th>\n",
              "      <th>Embarked_Q</th>\n",
              "      <th>Embarked_S</th>\n",
              "      <th>Appellation_Master</th>\n",
              "      <th>Appellation_Miss</th>\n",
              "      <th>Appellation_Mr</th>\n",
              "      <th>Appellation_Mrs</th>\n",
              "    </tr>\n",
              "  </thead>\n",
              "  <tbody>\n",
              "    <tr>\n",
              "      <th>0</th>\n",
              "      <td>0.0</td>\n",
              "      <td>3</td>\n",
              "      <td>1.981001</td>\n",
              "      <td>2</td>\n",
              "      <td>0</td>\n",
              "      <td>1</td>\n",
              "      <td>0</td>\n",
              "      <td>0</td>\n",
              "      <td>0</td>\n",
              "      <td>0</td>\n",
              "      <td>0</td>\n",
              "      <td>1</td>\n",
              "      <td>0</td>\n",
              "      <td>0</td>\n",
              "      <td>0</td>\n",
              "      <td>1</td>\n",
              "      <td>0</td>\n",
              "      <td>0</td>\n",
              "      <td>1</td>\n",
              "      <td>0</td>\n",
              "    </tr>\n",
              "    <tr>\n",
              "      <th>1</th>\n",
              "      <td>1.0</td>\n",
              "      <td>1</td>\n",
              "      <td>4.266662</td>\n",
              "      <td>2</td>\n",
              "      <td>1</td>\n",
              "      <td>0</td>\n",
              "      <td>1</td>\n",
              "      <td>0</td>\n",
              "      <td>0</td>\n",
              "      <td>0</td>\n",
              "      <td>0</td>\n",
              "      <td>0</td>\n",
              "      <td>0</td>\n",
              "      <td>1</td>\n",
              "      <td>0</td>\n",
              "      <td>0</td>\n",
              "      <td>0</td>\n",
              "      <td>0</td>\n",
              "      <td>0</td>\n",
              "      <td>1</td>\n",
              "    </tr>\n",
              "    <tr>\n",
              "      <th>2</th>\n",
              "      <td>1.0</td>\n",
              "      <td>3</td>\n",
              "      <td>2.070022</td>\n",
              "      <td>1</td>\n",
              "      <td>1</td>\n",
              "      <td>0</td>\n",
              "      <td>0</td>\n",
              "      <td>0</td>\n",
              "      <td>0</td>\n",
              "      <td>0</td>\n",
              "      <td>0</td>\n",
              "      <td>1</td>\n",
              "      <td>0</td>\n",
              "      <td>0</td>\n",
              "      <td>0</td>\n",
              "      <td>1</td>\n",
              "      <td>0</td>\n",
              "      <td>1</td>\n",
              "      <td>0</td>\n",
              "      <td>0</td>\n",
              "    </tr>\n",
              "  </tbody>\n",
              "</table>\n",
              "</div>\n",
              "      <button class=\"colab-df-convert\" onclick=\"convertToInteractive('df-608e25c4-5270-4b93-a12a-e41932ae73d1')\"\n",
              "              title=\"Convert this dataframe to an interactive table.\"\n",
              "              style=\"display:none;\">\n",
              "        \n",
              "  <svg xmlns=\"http://www.w3.org/2000/svg\" height=\"24px\"viewBox=\"0 0 24 24\"\n",
              "       width=\"24px\">\n",
              "    <path d=\"M0 0h24v24H0V0z\" fill=\"none\"/>\n",
              "    <path d=\"M18.56 5.44l.94 2.06.94-2.06 2.06-.94-2.06-.94-.94-2.06-.94 2.06-2.06.94zm-11 1L8.5 8.5l.94-2.06 2.06-.94-2.06-.94L8.5 2.5l-.94 2.06-2.06.94zm10 10l.94 2.06.94-2.06 2.06-.94-2.06-.94-.94-2.06-.94 2.06-2.06.94z\"/><path d=\"M17.41 7.96l-1.37-1.37c-.4-.4-.92-.59-1.43-.59-.52 0-1.04.2-1.43.59L10.3 9.45l-7.72 7.72c-.78.78-.78 2.05 0 2.83L4 21.41c.39.39.9.59 1.41.59.51 0 1.02-.2 1.41-.59l7.78-7.78 2.81-2.81c.8-.78.8-2.07 0-2.86zM5.41 20L4 18.59l7.72-7.72 1.47 1.35L5.41 20z\"/>\n",
              "  </svg>\n",
              "      </button>\n",
              "      \n",
              "  <style>\n",
              "    .colab-df-container {\n",
              "      display:flex;\n",
              "      flex-wrap:wrap;\n",
              "      gap: 12px;\n",
              "    }\n",
              "\n",
              "    .colab-df-convert {\n",
              "      background-color: #E8F0FE;\n",
              "      border: none;\n",
              "      border-radius: 50%;\n",
              "      cursor: pointer;\n",
              "      display: none;\n",
              "      fill: #1967D2;\n",
              "      height: 32px;\n",
              "      padding: 0 0 0 0;\n",
              "      width: 32px;\n",
              "    }\n",
              "\n",
              "    .colab-df-convert:hover {\n",
              "      background-color: #E2EBFA;\n",
              "      box-shadow: 0px 1px 2px rgba(60, 64, 67, 0.3), 0px 1px 3px 1px rgba(60, 64, 67, 0.15);\n",
              "      fill: #174EA6;\n",
              "    }\n",
              "\n",
              "    [theme=dark] .colab-df-convert {\n",
              "      background-color: #3B4455;\n",
              "      fill: #D2E3FC;\n",
              "    }\n",
              "\n",
              "    [theme=dark] .colab-df-convert:hover {\n",
              "      background-color: #434B5C;\n",
              "      box-shadow: 0px 1px 3px 1px rgba(0, 0, 0, 0.15);\n",
              "      filter: drop-shadow(0px 1px 2px rgba(0, 0, 0, 0.3));\n",
              "      fill: #FFFFFF;\n",
              "    }\n",
              "  </style>\n",
              "\n",
              "      <script>\n",
              "        const buttonEl =\n",
              "          document.querySelector('#df-608e25c4-5270-4b93-a12a-e41932ae73d1 button.colab-df-convert');\n",
              "        buttonEl.style.display =\n",
              "          google.colab.kernel.accessAllowed ? 'block' : 'none';\n",
              "\n",
              "        async function convertToInteractive(key) {\n",
              "          const element = document.querySelector('#df-608e25c4-5270-4b93-a12a-e41932ae73d1');\n",
              "          const dataTable =\n",
              "            await google.colab.kernel.invokeFunction('convertToInteractive',\n",
              "                                                     [key], {});\n",
              "          if (!dataTable) return;\n",
              "\n",
              "          const docLinkHtml = 'Like what you see? Visit the ' +\n",
              "            '<a target=\"_blank\" href=https://colab.research.google.com/notebooks/data_table.ipynb>data table notebook</a>'\n",
              "            + ' to learn more about interactive tables.';\n",
              "          element.innerHTML = '';\n",
              "          dataTable['output_type'] = 'display_data';\n",
              "          await google.colab.output.renderOutput(dataTable, element);\n",
              "          const docLink = document.createElement('div');\n",
              "          docLink.innerHTML = docLinkHtml;\n",
              "          element.appendChild(docLink);\n",
              "        }\n",
              "      </script>\n",
              "    </div>\n",
              "  </div>\n",
              "  "
            ]
          },
          "metadata": {},
          "execution_count": 42
        }
      ]
    },
    {
      "cell_type": "code",
      "source": [
        "all_data_ohe_corr = all_data_ohe.corr()\n",
        "plt.figure(figsize=(14, 12))\n",
        "sns.heatmap(all_data_ohe_corr, annot=True, annot_kws={\"size\": 10})"
      ],
      "metadata": {
        "colab": {
          "base_uri": "https://localhost:8080/",
          "height": 797
        },
        "id": "A0ocIhV_d8hl",
        "outputId": "2ed61943-f5c7-4d6c-f8b5-67e0cd614d50"
      },
      "execution_count": 43,
      "outputs": [
        {
          "output_type": "execute_result",
          "data": {
            "text/plain": [
              "<matplotlib.axes._subplots.AxesSubplot at 0x7f58619b9520>"
            ]
          },
          "metadata": {},
          "execution_count": 43
        },
        {
          "output_type": "display_data",
          "data": {
            "text/plain": [
              "<Figure size 1008x864 with 2 Axes>"
            ],
            "image/png": "[encoded data removed]"
          },
          "metadata": {}
        }
      ]
    },
    {
      "cell_type": "code",
      "source": [
        "all_data_ohe.drop(['Sex_female'], axis=1, inplace=True)"
      ],
      "metadata": {
        "id": "q1lXe0noeqn9"
      },
      "execution_count": 44,
      "outputs": []
    },
    {
      "cell_type": "markdown",
      "source": [
        "# **3. 모델링**"
      ],
      "metadata": {
        "id": "kfH6ew9N5LRx"
      }
    },
    {
      "cell_type": "markdown",
      "source": [
        "## **3.1. 모델 생성 및 성능 검증**"
      ],
      "metadata": {
        "id": "iiQIWpSqOXZw"
      }
    },
    {
      "cell_type": "code",
      "source": [
        "from sklearn.model_selection import train_test_split\n",
        "\n",
        "# 훈련 세트 개수를 지정합니다.\n",
        "train_num = len(train)\n",
        "\n",
        "X_train_df = all_data_ohe[:train_num].drop('Survived', axis=1) # 훈련 세트를 지정합니다.\n",
        "X_test_df = all_data_ohe[train_num:].drop('Survived', axis=1) # 테스트 세트를 지정합니다.\n",
        "y_train_df = train['Survived'] # 타깃값을 지정합니다."
      ],
      "metadata": {
        "id": "_iTwEa_1enFH"
      },
      "execution_count": 50,
      "outputs": []
    },
    {
      "cell_type": "markdown",
      "source": [
        "### **3.1.1. LogisticRegression**"
      ],
      "metadata": {
        "id": "XntPH6mxVMuP"
      }
    },
    {
      "cell_type": "markdown",
      "source": [
        "#### **3.1.1.1. 하이퍼파라미터 튜닝**"
      ],
      "metadata": {
        "id": "IgPbr6RqVPu_"
      }
    },
    {
      "cell_type": "markdown",
      "source": [
        "하이퍼파라미터 튜닝에 사용할 패키지는 `optuna`입니다."
      ],
      "metadata": {
        "id": "b20qUiKwzhXa"
      }
    },
    {
      "cell_type": "code",
      "source": [
        "pip install optuna"
      ],
      "metadata": {
        "id": "5rKfFlaQgdPL",
        "colab": {
          "base_uri": "https://localhost:8080/"
        },
        "outputId": "1a701c8e-485e-4332-faa2-14807a66c4ac"
      },
      "execution_count": 47,
      "outputs": [
        {
          "output_type": "stream",
          "name": "stdout",
          "text": [
            "Looking in indexes: https://pypi.org/simple, https://us-python.pkg.dev/colab-wheels/public/simple/\n",
            "Collecting optuna\n",
            "  Downloading optuna-3.0.4-py3-none-any.whl (348 kB)\n",
            "\u001b[K     |████████████████████████████████| 348 kB 6.9 MB/s \n",
            "\u001b[?25hRequirement already satisfied: importlib-metadata<5.0.0 in /usr/local/lib/python3.8/dist-packages (from optuna) (4.13.0)\n",
            "Collecting alembic>=1.5.0\n",
            "  Downloading alembic-1.9.0-py3-none-any.whl (210 kB)\n",
            "\u001b[K     |████████████████████████████████| 210 kB 51.4 MB/s \n",
            "\u001b[?25hCollecting colorlog\n",
            "  Downloading colorlog-6.7.0-py2.py3-none-any.whl (11 kB)\n",
            "Requirement already satisfied: scipy<1.9.0,>=1.7.0 in /usr/local/lib/python3.8/dist-packages (from optuna) (1.7.3)\n",
            "Requirement already satisfied: sqlalchemy>=1.3.0 in /usr/local/lib/python3.8/dist-packages (from optuna) (1.4.44)\n",
            "Requirement already satisfied: tqdm in /usr/local/lib/python3.8/dist-packages (from optuna) (4.64.1)\n",
            "Requirement already satisfied: packaging>=20.0 in /usr/local/lib/python3.8/dist-packages (from optuna) (21.3)\n",
            "Collecting cliff\n",
            "  Downloading cliff-4.1.0-py3-none-any.whl (81 kB)\n",
            "\u001b[K     |████████████████████████████████| 81 kB 9.3 MB/s \n",
            "\u001b[?25hRequirement already satisfied: numpy in /usr/local/lib/python3.8/dist-packages (from optuna) (1.21.6)\n",
            "Requirement already satisfied: PyYAML in /usr/local/lib/python3.8/dist-packages (from optuna) (6.0)\n",
            "Collecting cmaes>=0.8.2\n",
            "  Downloading cmaes-0.9.0-py3-none-any.whl (23 kB)\n",
            "Requirement already satisfied: importlib-resources in /usr/local/lib/python3.8/dist-packages (from alembic>=1.5.0->optuna) (5.10.0)\n",
            "Collecting Mako\n",
            "  Downloading Mako-1.2.4-py3-none-any.whl (78 kB)\n",
            "\u001b[K     |████████████████████████████████| 78 kB 7.3 MB/s \n",
            "\u001b[?25hRequirement already satisfied: zipp>=0.5 in /usr/local/lib/python3.8/dist-packages (from importlib-metadata<5.0.0->optuna) (3.11.0)\n",
            "Requirement already satisfied: pyparsing!=3.0.5,>=2.0.2 in /usr/local/lib/python3.8/dist-packages (from packaging>=20.0->optuna) (3.0.9)\n",
            "Requirement already satisfied: greenlet!=0.4.17 in /usr/local/lib/python3.8/dist-packages (from sqlalchemy>=1.3.0->optuna) (2.0.1)\n",
            "Requirement already satisfied: PrettyTable>=0.7.2 in /usr/local/lib/python3.8/dist-packages (from cliff->optuna) (3.5.0)\n",
            "Collecting stevedore>=2.0.1\n",
            "  Downloading stevedore-4.1.1-py3-none-any.whl (50 kB)\n",
            "\u001b[K     |████████████████████████████████| 50 kB 6.6 MB/s \n",
            "\u001b[?25hCollecting autopage>=0.4.0\n",
            "  Downloading autopage-0.5.1-py3-none-any.whl (29 kB)\n",
            "Collecting cmd2>=1.0.0\n",
            "  Downloading cmd2-2.4.2-py3-none-any.whl (147 kB)\n",
            "\u001b[K     |████████████████████████████████| 147 kB 61.1 MB/s \n",
            "\u001b[?25hRequirement already satisfied: wcwidth>=0.1.7 in /usr/local/lib/python3.8/dist-packages (from cmd2>=1.0.0->cliff->optuna) (0.2.5)\n",
            "Collecting pyperclip>=1.6\n",
            "  Downloading pyperclip-1.8.2.tar.gz (20 kB)\n",
            "Requirement already satisfied: attrs>=16.3.0 in /usr/local/lib/python3.8/dist-packages (from cmd2>=1.0.0->cliff->optuna) (22.1.0)\n",
            "Collecting pbr!=2.1.0,>=2.0.0\n",
            "  Downloading pbr-5.11.0-py2.py3-none-any.whl (112 kB)\n",
            "\u001b[K     |████████████████████████████████| 112 kB 69.1 MB/s \n",
            "\u001b[?25hRequirement already satisfied: MarkupSafe>=0.9.2 in /usr/local/lib/python3.8/dist-packages (from Mako->alembic>=1.5.0->optuna) (2.0.1)\n",
            "Building wheels for collected packages: pyperclip\n",
            "  Building wheel for pyperclip (setup.py) ... \u001b[?25l\u001b[?25hdone\n",
            "  Created wheel for pyperclip: filename=pyperclip-1.8.2-py3-none-any.whl size=11136 sha256=f5ffc36601779341cb868a5ef665abd7a3cbe5026bf62a414018e56544793bbf\n",
            "  Stored in directory: /root/.cache/pip/wheels/7f/1a/65/84ff8c386bec21fca6d220ea1f5498a0367883a78dd5ba6122\n",
            "Successfully built pyperclip\n",
            "Installing collected packages: pyperclip, pbr, stevedore, Mako, cmd2, autopage, colorlog, cmaes, cliff, alembic, optuna\n",
            "Successfully installed Mako-1.2.4 alembic-1.9.0 autopage-0.5.1 cliff-4.1.0 cmaes-0.9.0 cmd2-2.4.2 colorlog-6.7.0 optuna-3.0.4 pbr-5.11.0 pyperclip-1.8.2 stevedore-4.1.1\n"
          ]
        }
      ]
    },
    {
      "cell_type": "code",
      "source": [
        "from sklearn.linear_model import LogisticRegression\n",
        "import optuna\n",
        "from sklearn.model_selection import cross_val_score\n",
        "\n",
        "def objective_LogReg(trial, X_train, y_train):\n",
        "    params = {\n",
        "        'penalty': trial.suggest_categorical('penalty', ['l1', 'l2']),\n",
        "        'C': trial.suggest_float('C', 1e-4, 100),\n",
        "        'max_iter': trial.suggest_int('max_iter', 5000, 10000),\n",
        "        \"solver\": trial.suggest_categorical('solver', ['liblinear', 'saga']),\n",
        "        'random_state': 11\n",
        "    }\n",
        "    model = LogisticRegression(**params)\n",
        "    scores = cross_val_score(model, X_train, y_train, scoring='accuracy', cv=5).mean()\n",
        "\n",
        "    return scores"
      ],
      "metadata": {
        "id": "dNizKnQ5Y4wL"
      },
      "execution_count": 56,
      "outputs": []
    },
    {
      "cell_type": "code",
      "source": [
        "from optuna.samplers import TPESampler\n",
        "\n",
        "# 시도 과정을 출력하지 않는 코드입니다.\n",
        "optuna.logging.set_verbosity(optuna.logging.WARNING)\n",
        "\n",
        "study = optuna.create_study(sampler=TPESampler(), direction='maximize')\n",
        "study.optimize(lambda trial: objective_LogReg(trial, X_train_df, y_train_df), n_trials=50,\n",
        "               show_progress_bar=True)\n",
        "\n",
        "print(f'Best trial score: {study.best_trial.value}')\n",
        "print(f'Best params: {study.best_trial.params}')"
      ],
      "metadata": {
        "id": "PkigsVshxCJq"
      },
      "execution_count": null,
      "outputs": []
    },
    {
      "cell_type": "markdown",
      "source": [
        "#### **3.1.1.2. 모델 훈련**"
      ],
      "metadata": {
        "id": "_yPlDqIWVUGC"
      }
    },
    {
      "cell_type": "code",
      "source": [
        "params = study.best_trial.params\n",
        "logistic_reg_model = LogisticRegression(**params)\n",
        "logistic_reg_model.fit(X_train_df, y_train_df)\n",
        "prediction_logistic_reg = logistic_reg_model.predict(X_test_df)"
      ],
      "metadata": {
        "id": "PDsKmoGGg9Hr"
      },
      "execution_count": null,
      "outputs": []
    },
    {
      "cell_type": "code",
      "source": [
        "submission['Survived'] = prediction_logistic_reg\n",
        "submission.to_csv('Titanic_submission_15.csv', index=False)"
      ],
      "metadata": {
        "id": "h10FvZ1zh1jw"
      },
      "execution_count": null,
      "outputs": []
    },
    {
      "cell_type": "markdown",
      "source": [
        "퍼블릭 스코어는 0.76794입니다. 이 모델의 예전 스코어인 0.76555보다 약간 상승했습니다."
      ],
      "metadata": {
        "id": "KzNlsGFIzsnl"
      }
    },
    {
      "cell_type": "markdown",
      "source": [
        "### **3.1.2. XGBoost**"
      ],
      "metadata": {
        "id": "wEfHgL9jbRhK"
      }
    },
    {
      "cell_type": "markdown",
      "source": [
        "#### **3.1.2.1. 하이퍼파라미터 튜닝**"
      ],
      "metadata": {
        "id": "wBrAH5XtbRhK"
      }
    },
    {
      "cell_type": "code",
      "source": [
        "import optuna\n",
        "from optuna.samplers import TPESampler\n",
        "from sklearn.model_selection import cross_val_score\n",
        "from xgboost import XGBClassifier\n",
        "\n",
        "def objective_XGB(trial, X_train, y_train):\n",
        "    params = {\n",
        "        'booster': trial.suggest_categorical('booster', ['gbtree', 'dart']),\n",
        "        'learning_rate': trial.suggest_float('learning_rate', 0.0001, 0.1),\n",
        "        'n_estimators': trial.suggest_int('n_estimators', 100, 500),\n",
        "        'max_depth': trial.suggest_int('max_depth', 3, 10),\n",
        "        'subsample': trial.suggest_float('subsample', 0.6, 1),\n",
        "        'colsample_bytree': trial.suggest_float('colsample_bytree', 0.6, 1),\n",
        "        'reg_alpha': trial.suggest_float('reg_alpha', 0, 100),\n",
        "        'reg_lambda': trial.suggest_float('reg_lambda', 0, 100),\n",
        "        'gamma': trial.suggest_float('gamma', 0, 100),\n",
        "        'random_state': 11\n",
        "    }\n",
        "    model = XGBClassifier(**params)\n",
        "    scores = cross_val_score(model, X_train, y_train, scoring='accuracy', cv=5).mean()\n",
        "\n",
        "    return scores"
      ],
      "metadata": {
        "id": "n_p__5sJM9lc"
      },
      "execution_count": 47,
      "outputs": []
    },
    {
      "cell_type": "code",
      "source": [
        "study = optuna.create_study(direction='maximize', sampler=TPESampler())\n",
        "study.optimize(lambda trial: objective_XGB(trial, X_train_df, y_train_df), n_trials=500,\n",
        "               show_progress_bar=True)\n",
        "\n",
        "print(f'Best trial score: {study.best_trial.value}')\n",
        "print(f'Best params: {study.best_trial.params}')"
      ],
      "metadata": {
        "id": "fX2dQtZRM_hV"
      },
      "execution_count": null,
      "outputs": []
    },
    {
      "cell_type": "code",
      "source": [
        "params = study.best_trial.params\n",
        "xgb_clf_model = XGBClassifier(**params)\n",
        "xgb_clf_model.fit(X_train_df, y_train_df, early_stopping_rounds=100)\n",
        "prediction_xgb_clf = xgb_clf_model.predict(X_test_df)"
      ],
      "metadata": {
        "id": "2JbMDy06jXdH"
      },
      "execution_count": null,
      "outputs": []
    },
    {
      "cell_type": "code",
      "source": [
        "submission['Survived'] = prediction_xgb_clf\n",
        "submission.to_csv('Titanic_submission_16.csv', index=False)"
      ],
      "metadata": {
        "id": "nHxX2xddjqi-"
      },
      "execution_count": null,
      "outputs": []
    },
    {
      "cell_type": "markdown",
      "source": [
        "퍼블릭 스코어는 0.77511입니다. 이 모델의 예전 스코어인 0.77751보다 약간 하락했습니다."
      ],
      "metadata": {
        "id": "P3vNRPMf0BtQ"
      }
    },
    {
      "cell_type": "markdown",
      "source": [
        "#### **3.1.2.2. 모델 훈련**"
      ],
      "metadata": {
        "id": "tG9kMoAwbRhK"
      }
    },
    {
      "cell_type": "markdown",
      "source": [
        "### **3.1.3. LightGBM**"
      ],
      "metadata": {
        "id": "3SOB8R7ubSAd"
      }
    },
    {
      "cell_type": "markdown",
      "source": [
        "#### **3.1.3.1. 하이퍼파라미터 튜닝**"
      ],
      "metadata": {
        "id": "owAzV35EbSAd"
      }
    },
    {
      "cell_type": "code",
      "source": [
        "import optuna\n",
        "from optuna.samplers import TPESampler\n",
        "from sklearn.model_selection import cross_val_score\n",
        "from lightgbm import LGBMClassifier\n",
        "\n",
        "def objective_LGBM(trial, X_train, y_train):\n",
        "    params = {\n",
        "        'boosting_type': trial.suggest_categorical('boosting_type', ['gbdt', 'dart']),\n",
        "        'learning_rate': trial.suggest_float('learning_rate', 0.0001, 0.1),\n",
        "        'n_estimators': trial.suggest_int('n_estimators', 100, 500),\n",
        "        'num_leaves': trial.suggest_int('num_leaves', 31, 100),\n",
        "        'max_depth': trial.suggest_int('max_depth', 1, 100),\n",
        "        'subsample': trial.suggest_float('subsample', 0.6, 1),\n",
        "        'colsample_bytree': trial.suggest_float('colsample_bytree', 0.6, 1),\n",
        "        'reg_alpha': trial.suggest_float('reg_alpha', 0, 100),\n",
        "        'reg_lambda': trial.suggest_float('reg_lambda', 0, 100),\n",
        "        'min_child_samples': trial.suggest_int('min_child_samples', 20, 500),\n",
        "        'min_child_weight': trial.suggest_float('min_child_weight', 1e-3, 10),\n",
        "        'random_state': 11\n",
        "    }\n",
        "    model = LGBMClassifier(**params)\n",
        "    scores = cross_val_score(model, X_train, y_train, scoring='accuracy', cv=5).mean()\n",
        "\n",
        "    return scores"
      ],
      "metadata": {
        "id": "lB3oYHmVk1e6"
      },
      "execution_count": 51,
      "outputs": []
    },
    {
      "cell_type": "code",
      "source": [
        "study = optuna.create_study(direction='maximize', sampler=TPESampler())\n",
        "study.optimize(lambda trial: objective_LGBM(trial, X_train_df, y_train_df), n_trials=500,\n",
        "               show_progress_bar=True)\n",
        "\n",
        "print(f'Best trial score: {study.best_trial.value}')\n",
        "print(f'Best params: {study.best_trial.params}')"
      ],
      "metadata": {
        "colab": {
          "base_uri": "https://localhost:8080/",
          "height": 1000,
          "referenced_widgets": [
            "8e9dd6632bf74ce59b7a133cf99bdbea",
            "0a0c07e825504b1c982ec1a6cd200143",
            "28d3320912f24fcaadd1be0b101a0827",
            "06304a24e0b7401bb53ffb9c727e60be",
            "bd4058ff5add405ca7d2ee577deba106",
            "af65b59f4ef2401a90b6456828b9278a",
            "b0241e370ad84463af6ca63cbe7eb90c",
            "dba5b3e61839476197f4d8e5104da3e5",
            "ce508ff7503b42e0acd09f9ffe6c99b2",
            "cfbf48e08bda4101bf7ad6c6432e4b11",
            "d19cc45e418c4128819be4f14eba0dad"
          ]
        },
        "outputId": "6946fc84-a755-4de3-b98c-a1a71ea0b87e",
        "id": "UW0vCSS3k1e6"
      },
      "execution_count": 52,
      "outputs": [
        {
          "output_type": "stream",
          "name": "stderr",
          "text": [
            "\u001b[32m[I 2022-12-16 16:27:55,371]\u001b[0m A new study created in memory with name: no-name-3510f92f-e55c-4ade-945f-b4818cf3e2e9\u001b[0m\n"
          ]
        },
        {
          "output_type": "display_data",
          "data": {
            "text/plain": [
              "  0%|          | 0/500 [00:00<?, ?it/s]"
            ],
            "application/vnd.jupyter.widget-view+json": {
              "version_major": 2,
              "version_minor": 0,
              "model_id": "8e9dd6632bf74ce59b7a133cf99bdbea"
            }
          },
          "metadata": {}
        },
        {
          "output_type": "stream",
          "name": "stdout",
          "text": [
            "\u001b[32m[I 2022-12-16 16:27:55,542]\u001b[0m Trial 0 finished with value: 0.6161634548992531 and parameters: {'boosting_type': 'gbdt', 'learning_rate': 0.03621170054271854, 'n_estimators': 323, 'num_leaves': 37, 'max_depth': 15, 'subsample': 0.8837487264322595, 'colsample_bytree': 0.916219752590754, 'reg_alpha': 52.69868859846001, 'reg_lambda': 5.286970119106693, 'min_child_samples': 500, 'min_child_weight': 1.4039008010695648}. Best is trial 0 with value: 0.6161634548992531.\u001b[0m\n",
            "\u001b[32m[I 2022-12-16 16:27:56,177]\u001b[0m Trial 1 finished with value: 0.7867428284476806 and parameters: {'boosting_type': 'dart', 'learning_rate': 0.09251280926343908, 'n_estimators': 366, 'num_leaves': 78, 'max_depth': 44, 'subsample': 0.6135028644649048, 'colsample_bytree': 0.8786247676819936, 'reg_alpha': 52.577920703608626, 'reg_lambda': 38.587716498299194, 'min_child_samples': 240, 'min_child_weight': 4.321626226038237}. Best is trial 1 with value: 0.7867428284476806.\u001b[0m\n",
            "\u001b[32m[I 2022-12-16 16:27:56,346]\u001b[0m Trial 2 finished with value: 0.7991400414286611 and parameters: {'boosting_type': 'gbdt', 'learning_rate': 0.01516869212069249, 'n_estimators': 173, 'num_leaves': 94, 'max_depth': 92, 'subsample': 0.7185269058574779, 'colsample_bytree': 0.9643094484868412, 'reg_alpha': 25.590506110189448, 'reg_lambda': 39.89194313342943, 'min_child_samples': 88, 'min_child_weight': 9.278083005246973}. Best is trial 2 with value: 0.7991400414286611.\u001b[0m\n",
            "\u001b[32m[I 2022-12-16 16:27:56,517]\u001b[0m Trial 3 finished with value: 0.7912372104701525 and parameters: {'boosting_type': 'gbdt', 'learning_rate': 0.040084516803669167, 'n_estimators': 218, 'num_leaves': 32, 'max_depth': 42, 'subsample': 0.6655947756191896, 'colsample_bytree': 0.9276008939048811, 'reg_alpha': 28.708474795595873, 'reg_lambda': 77.19996339117436, 'min_child_samples': 160, 'min_child_weight': 2.866227591732772}. Best is trial 2 with value: 0.7991400414286611.\u001b[0m\n",
            "\u001b[32m[I 2022-12-16 16:27:57,407]\u001b[0m Trial 4 finished with value: 0.6161634548992531 and parameters: {'boosting_type': 'dart', 'learning_rate': 0.052399205516658144, 'n_estimators': 492, 'num_leaves': 42, 'max_depth': 24, 'subsample': 0.6396863072042795, 'colsample_bytree': 0.8449095280009102, 'reg_alpha': 68.61304622557707, 'reg_lambda': 35.85968193453471, 'min_child_samples': 209, 'min_child_weight': 8.560440713476343}. Best is trial 2 with value: 0.7991400414286611.\u001b[0m\n",
            "\u001b[32m[I 2022-12-16 16:27:57,527]\u001b[0m Trial 5 finished with value: 0.6161634548992531 and parameters: {'boosting_type': 'dart', 'learning_rate': 0.005212770751114078, 'n_estimators': 416, 'num_leaves': 84, 'max_depth': 83, 'subsample': 0.6453636069411819, 'colsample_bytree': 0.7950771845513384, 'reg_alpha': 20.826161736430226, 'reg_lambda': 36.87540639871925, 'min_child_samples': 376, 'min_child_weight': 8.94491817691738}. Best is trial 2 with value: 0.7991400414286611.\u001b[0m\n",
            "\u001b[32m[I 2022-12-16 16:27:57,747]\u001b[0m Trial 6 finished with value: 0.7912309334002888 and parameters: {'boosting_type': 'gbdt', 'learning_rate': 0.027267270206208557, 'n_estimators': 403, 'num_leaves': 74, 'max_depth': 27, 'subsample': 0.6530880279451173, 'colsample_bytree': 0.6688687787842803, 'reg_alpha': 56.70243596001294, 'reg_lambda': 95.36155126736607, 'min_child_samples': 200, 'min_child_weight': 8.327538033297186}. Best is trial 2 with value: 0.7991400414286611.\u001b[0m\n",
            "\u001b[32m[I 2022-12-16 16:27:58,049]\u001b[0m Trial 7 finished with value: 0.6161634548992531 and parameters: {'boosting_type': 'dart', 'learning_rate': 0.017211596349882983, 'n_estimators': 244, 'num_leaves': 70, 'max_depth': 24, 'subsample': 0.67825058254685, 'colsample_bytree': 0.8626771110469678, 'reg_alpha': 84.86939339151175, 'reg_lambda': 81.12389954078692, 'min_child_samples': 254, 'min_child_weight': 3.2724354337498953}. Best is trial 2 with value: 0.7991400414286611.\u001b[0m\n",
            "\u001b[32m[I 2022-12-16 16:27:58,282]\u001b[0m Trial 8 finished with value: 0.7923608059757704 and parameters: {'boosting_type': 'dart', 'learning_rate': 0.04705933075865906, 'n_estimators': 187, 'num_leaves': 45, 'max_depth': 54, 'subsample': 0.788123513807683, 'colsample_bytree': 0.833167148467832, 'reg_alpha': 24.848495544374515, 'reg_lambda': 97.84584663530222, 'min_child_samples': 246, 'min_child_weight': 1.3809007564244737}. Best is trial 2 with value: 0.7991400414286611.\u001b[0m\n",
            "\u001b[32m[I 2022-12-16 16:27:58,569]\u001b[0m Trial 9 finished with value: 0.7945828887075513 and parameters: {'boosting_type': 'dart', 'learning_rate': 0.022530360280706648, 'n_estimators': 204, 'num_leaves': 89, 'max_depth': 2, 'subsample': 0.8193935851221108, 'colsample_bytree': 0.8340943949477764, 'reg_alpha': 37.885765934042595, 'reg_lambda': 33.81688727059109, 'min_child_samples': 162, 'min_child_weight': 7.742424235131715}. Best is trial 2 with value: 0.7991400414286611.\u001b[0m\n",
            "\u001b[32m[I 2022-12-16 16:27:58,782]\u001b[0m Trial 10 finished with value: 0.8226602222082733 and parameters: {'boosting_type': 'gbdt', 'learning_rate': 0.07107794700204356, 'n_estimators': 101, 'num_leaves': 100, 'max_depth': 98, 'subsample': 0.9935471513025866, 'colsample_bytree': 0.9840091141618263, 'reg_alpha': 4.209845480342814, 'reg_lambda': 7.825981113809206, 'min_child_samples': 26, 'min_child_weight': 6.104655695468646}. Best is trial 10 with value: 0.8226602222082733.\u001b[0m\n",
            "\u001b[32m[I 2022-12-16 16:27:59,003]\u001b[0m Trial 11 finished with value: 0.8193208210407382 and parameters: {'boosting_type': 'gbdt', 'learning_rate': 0.0675156718948426, 'n_estimators': 105, 'num_leaves': 100, 'max_depth': 95, 'subsample': 0.9963910969488061, 'colsample_bytree': 0.9886568914703051, 'reg_alpha': 1.9497672610572465, 'reg_lambda': 3.7930141336799323, 'min_child_samples': 35, 'min_child_weight': 6.28343246750419}. Best is trial 10 with value: 0.8226602222082733.\u001b[0m\n",
            "\u001b[32m[I 2022-12-16 16:27:59,202]\u001b[0m Trial 12 finished with value: 0.826062394074446 and parameters: {'boosting_type': 'gbdt', 'learning_rate': 0.0718635330483206, 'n_estimators': 108, 'num_leaves': 100, 'max_depth': 72, 'subsample': 0.9938614526110484, 'colsample_bytree': 0.9914145795208349, 'reg_alpha': 0.7487013433283136, 'reg_lambda': 4.594455689739265, 'min_child_samples': 28, 'min_child_weight': 6.444444677961712}. Best is trial 12 with value: 0.826062394074446.\u001b[0m\n",
            "\u001b[32m[I 2022-12-16 16:27:59,399]\u001b[0m Trial 13 finished with value: 0.8204130311970372 and parameters: {'boosting_type': 'gbdt', 'learning_rate': 0.07504080529309386, 'n_estimators': 101, 'num_leaves': 60, 'max_depth': 72, 'subsample': 0.995444055491383, 'colsample_bytree': 0.7302895398709719, 'reg_alpha': 0.4188440454368381, 'reg_lambda': 17.504432323377486, 'min_child_samples': 20, 'min_child_weight': 6.206469867405732}. Best is trial 12 with value: 0.826062394074446.\u001b[0m\n",
            "\u001b[32m[I 2022-12-16 16:27:59,585]\u001b[0m Trial 14 finished with value: 0.7946456594061893 and parameters: {'boosting_type': 'gbdt', 'learning_rate': 0.0956201729903069, 'n_estimators': 135, 'num_leaves': 59, 'max_depth': 71, 'subsample': 0.9190944402247097, 'colsample_bytree': 0.9984544452478165, 'reg_alpha': 10.909970618717093, 'reg_lambda': 20.671773908529566, 'min_child_samples': 87, 'min_child_weight': 6.39210569427737}. Best is trial 12 with value: 0.826062394074446.\u001b[0m\n",
            "\u001b[32m[I 2022-12-16 16:27:59,766]\u001b[0m Trial 15 finished with value: 0.6038729521059569 and parameters: {'boosting_type': 'gbdt', 'learning_rate': 0.07030439906386947, 'n_estimators': 263, 'num_leaves': 98, 'max_depth': 65, 'subsample': 0.9313353952857399, 'colsample_bytree': 0.9233833211937995, 'reg_alpha': 11.771396509328513, 'reg_lambda': 58.61739314427618, 'min_child_samples': 341, 'min_child_weight': 5.085442545858804}. Best is trial 12 with value: 0.826062394074446.\u001b[0m\n",
            "\u001b[32m[I 2022-12-16 16:27:59,921]\u001b[0m Trial 16 finished with value: 0.6768376122026238 and parameters: {'boosting_type': 'gbdt', 'learning_rate': 0.08051588516348504, 'n_estimators': 150, 'num_leaves': 83, 'max_depth': 81, 'subsample': 0.9486189939497278, 'colsample_bytree': 0.6015347036091645, 'reg_alpha': 96.40398402314942, 'reg_lambda': 15.261334681477571, 'min_child_samples': 88, 'min_child_weight': 7.235743420839029}. Best is trial 12 with value: 0.826062394074446.\u001b[0m\n",
            "\u001b[32m[I 2022-12-16 16:28:00,155]\u001b[0m Trial 17 finished with value: 0.7968300797187873 and parameters: {'boosting_type': 'gbdt', 'learning_rate': 0.059514290994227406, 'n_estimators': 288, 'num_leaves': 90, 'max_depth': 100, 'subsample': 0.8573559320387082, 'colsample_bytree': 0.9523593774843642, 'reg_alpha': 35.27331665518946, 'reg_lambda': 0.5355204444700039, 'min_child_samples': 143, 'min_child_weight': 4.672425803569958}. Best is trial 12 with value: 0.826062394074446.\u001b[0m\n",
            "\u001b[32m[I 2022-12-16 16:28:00,334]\u001b[0m Trial 18 finished with value: 0.6161634548992531 and parameters: {'boosting_type': 'gbdt', 'learning_rate': 0.08540815258007739, 'n_estimators': 135, 'num_leaves': 52, 'max_depth': 56, 'subsample': 0.9625909046162685, 'colsample_bytree': 0.7743451850963609, 'reg_alpha': 12.84757781973939, 'reg_lambda': 52.463459767946865, 'min_child_samples': 328, 'min_child_weight': 9.997923894980941}. Best is trial 12 with value: 0.826062394074446.\u001b[0m\n",
            "\u001b[32m[I 2022-12-16 16:28:00,506]\u001b[0m Trial 19 finished with value: 0.7867804908668633 and parameters: {'boosting_type': 'gbdt', 'learning_rate': 0.0597261744567658, 'n_estimators': 166, 'num_leaves': 83, 'max_depth': 84, 'subsample': 0.7677609191823079, 'colsample_bytree': 0.8940038944434464, 'reg_alpha': 42.42427286673831, 'reg_lambda': 25.259187954479536, 'min_child_samples': 61, 'min_child_weight': 5.342859790539595}. Best is trial 12 with value: 0.826062394074446.\u001b[0m\n",
            "\u001b[32m[I 2022-12-16 16:28:00,731]\u001b[0m Trial 20 finished with value: 0.7923608059757704 and parameters: {'boosting_type': 'gbdt', 'learning_rate': 0.087499869672722, 'n_estimators': 326, 'num_leaves': 93, 'max_depth': 66, 'subsample': 0.8919413504400978, 'colsample_bytree': 0.7338861521822575, 'reg_alpha': 64.983572482542, 'reg_lambda': 13.380525933550349, 'min_child_samples': 120, 'min_child_weight': 0.1582812816461754}. Best is trial 12 with value: 0.826062394074446.\u001b[0m\n",
            "\u001b[32m[I 2022-12-16 16:28:00,924]\u001b[0m Trial 21 finished with value: 0.8238089259933463 and parameters: {'boosting_type': 'gbdt', 'learning_rate': 0.07564157506868599, 'n_estimators': 102, 'num_leaves': 63, 'max_depth': 73, 'subsample': 0.9966550600689357, 'colsample_bytree': 0.729587755732693, 'reg_alpha': 0.19650944428203496, 'reg_lambda': 11.408577176760804, 'min_child_samples': 45, 'min_child_weight': 6.490641547274831}. Best is trial 12 with value: 0.826062394074446.\u001b[0m\n",
            "\u001b[32m[I 2022-12-16 16:28:01,117]\u001b[0m Trial 22 finished with value: 0.8293766869625261 and parameters: {'boosting_type': 'gbdt', 'learning_rate': 0.06287535243721357, 'n_estimators': 110, 'num_leaves': 64, 'max_depth': 78, 'subsample': 0.9776634047615598, 'colsample_bytree': 0.6826446978788762, 'reg_alpha': 7.651495214350763, 'reg_lambda': 9.381836735557568, 'min_child_samples': 21, 'min_child_weight': 7.0735177182971745}. Best is trial 22 with value: 0.8293766869625261.\u001b[0m\n",
            "\u001b[32m[I 2022-12-16 16:28:01,302]\u001b[0m Trial 23 finished with value: 0.8013307388111229 and parameters: {'boosting_type': 'gbdt', 'learning_rate': 0.06227997961419566, 'n_estimators': 137, 'num_leaves': 64, 'max_depth': 77, 'subsample': 0.9673314820155179, 'colsample_bytree': 0.6826753788910456, 'reg_alpha': 16.957191928125326, 'reg_lambda': 27.036702362367535, 'min_child_samples': 62, 'min_child_weight': 7.255311072650393}. Best is trial 22 with value: 0.8293766869625261.\u001b[0m\n",
            "\u001b[32m[I 2022-12-16 16:28:01,507]\u001b[0m Trial 24 finished with value: 0.8092021844203126 and parameters: {'boosting_type': 'gbdt', 'learning_rate': 0.08023097022966544, 'n_estimators': 224, 'num_leaves': 53, 'max_depth': 58, 'subsample': 0.909991903353303, 'colsample_bytree': 0.6580922388676518, 'reg_alpha': 6.842138464491176, 'reg_lambda': 10.221509546441657, 'min_child_samples': 113, 'min_child_weight': 7.126517751308018}. Best is trial 22 with value: 0.8293766869625261.\u001b[0m\n",
            "\u001b[32m[I 2022-12-16 16:28:01,680]\u001b[0m Trial 25 finished with value: 0.811436821291821 and parameters: {'boosting_type': 'gbdt', 'learning_rate': 0.052315051171966005, 'n_estimators': 129, 'num_leaves': 67, 'max_depth': 89, 'subsample': 0.95958320649623, 'colsample_bytree': 0.7186321220894372, 'reg_alpha': 17.217096364401723, 'reg_lambda': 25.424775453781663, 'min_child_samples': 58, 'min_child_weight': 3.87609623214043}. Best is trial 22 with value: 0.8293766869625261.\u001b[0m\n",
            "\u001b[32m[I 2022-12-16 16:28:01,829]\u001b[0m Trial 26 finished with value: 0.6161634548992531 and parameters: {'boosting_type': 'gbdt', 'learning_rate': 0.0763047480656311, 'n_estimators': 193, 'num_leaves': 55, 'max_depth': 66, 'subsample': 0.8562795000636836, 'colsample_bytree': 0.6072401404629716, 'reg_alpha': 7.87989834044676, 'reg_lambda': 1.1585791911729144, 'min_child_samples': 453, 'min_child_weight': 7.797553477324912}. Best is trial 22 with value: 0.8293766869625261.\u001b[0m\n",
            "\u001b[32m[I 2022-12-16 16:28:02,020]\u001b[0m Trial 27 finished with value: 0.8159374803841567 and parameters: {'boosting_type': 'gbdt', 'learning_rate': 0.09797909934878479, 'n_estimators': 170, 'num_leaves': 73, 'max_depth': 48, 'subsample': 0.936610841726376, 'colsample_bytree': 0.7521459805411249, 'reg_alpha': 0.8291932112237318, 'reg_lambda': 47.88297143452076, 'min_child_samples': 132, 'min_child_weight': 5.362881160177931}. Best is trial 22 with value: 0.8293766869625261.\u001b[0m\n",
            "\u001b[32m[I 2022-12-16 16:28:02,200]\u001b[0m Trial 28 finished with value: 0.8035528215429038 and parameters: {'boosting_type': 'gbdt', 'learning_rate': 0.06426106349232208, 'n_estimators': 116, 'num_leaves': 48, 'max_depth': 76, 'subsample': 0.9841444294660874, 'colsample_bytree': 0.6336722136339323, 'reg_alpha': 31.612608307667447, 'reg_lambda': 10.765144785853586, 'min_child_samples': 21, 'min_child_weight': 6.720958143875161}. Best is trial 22 with value: 0.8293766869625261.\u001b[0m\n",
            "\u001b[32m[I 2022-12-16 16:28:02,309]\u001b[0m Trial 29 finished with value: 0.6161634548992531 and parameters: {'boosting_type': 'gbdt', 'learning_rate': 0.0464913142482133, 'n_estimators': 154, 'num_leaves': 63, 'max_depth': 86, 'subsample': 0.8731894163931438, 'colsample_bytree': 0.6955307219921172, 'reg_alpha': 17.25146188491707, 'reg_lambda': 65.10746204348817, 'min_child_samples': 489, 'min_child_weight': 5.585236586217168}. Best is trial 22 with value: 0.8293766869625261.\u001b[0m\n",
            "\u001b[32m[I 2022-12-16 16:28:02,520]\u001b[0m Trial 30 finished with value: 0.7879040863724812 and parameters: {'boosting_type': 'gbdt', 'learning_rate': 0.04015714442615384, 'n_estimators': 247, 'num_leaves': 77, 'max_depth': 61, 'subsample': 0.8937213201090667, 'colsample_bytree': 0.7739207779671163, 'reg_alpha': 45.310293843468635, 'reg_lambda': 19.554970659672883, 'min_child_samples': 61, 'min_child_weight': 7.9787524498958735}. Best is trial 22 with value: 0.8293766869625261.\u001b[0m\n",
            "\u001b[32m[I 2022-12-16 16:28:02,706]\u001b[0m Trial 31 finished with value: 0.8293892411022534 and parameters: {'boosting_type': 'gbdt', 'learning_rate': 0.07206319198671667, 'n_estimators': 103, 'num_leaves': 97, 'max_depth': 98, 'subsample': 0.9791060024831041, 'colsample_bytree': 0.9616122176747361, 'reg_alpha': 6.061923927459609, 'reg_lambda': 7.960851848525429, 'min_child_samples': 43, 'min_child_weight': 5.820969090249581}. Best is trial 31 with value: 0.8293892411022534.\u001b[0m\n",
            "\u001b[32m[I 2022-12-16 16:28:02,869]\u001b[0m Trial 32 finished with value: 0.8193082669010107 and parameters: {'boosting_type': 'gbdt', 'learning_rate': 0.0884762088503494, 'n_estimators': 125, 'num_leaves': 68, 'max_depth': 78, 'subsample': 0.9678654212566768, 'colsample_bytree': 0.9478541154533373, 'reg_alpha': 8.51346478958103, 'reg_lambda': 7.181759315563084, 'min_child_samples': 100, 'min_child_weight': 5.822742363248105}. Best is trial 31 with value: 0.8293892411022534.\u001b[0m\n",
            "\u001b[32m[I 2022-12-16 16:28:03,043]\u001b[0m Trial 33 finished with value: 0.8013119076015316 and parameters: {'boosting_type': 'gbdt', 'learning_rate': 0.05662519478648262, 'n_estimators': 155, 'num_leaves': 95, 'max_depth': 91, 'subsample': 0.9370883304460629, 'colsample_bytree': 0.7093860999968437, 'reg_alpha': 21.026981889499798, 'reg_lambda': 0.40516444826900866, 'min_child_samples': 52, 'min_child_weight': 4.374775654637875}. Best is trial 31 with value: 0.8293892411022534.\u001b[0m\n",
            "\u001b[32m[I 2022-12-16 16:28:03,215]\u001b[0m Trial 34 finished with value: 0.7912748728893353 and parameters: {'boosting_type': 'gbdt', 'learning_rate': 0.0749469327149484, 'n_estimators': 104, 'num_leaves': 59, 'max_depth': 41, 'subsample': 0.9761805744208407, 'colsample_bytree': 0.9009983592794344, 'reg_alpha': 13.164873716481885, 'reg_lambda': 27.51804740662186, 'min_child_samples': 88, 'min_child_weight': 6.822844417711403}. Best is trial 31 with value: 0.8293892411022534.\u001b[0m\n",
            "\u001b[32m[I 2022-12-16 16:28:03,495]\u001b[0m Trial 35 finished with value: 0.7946079969870065 and parameters: {'boosting_type': 'dart', 'learning_rate': 0.06653098442333748, 'n_estimators': 181, 'num_leaves': 39, 'max_depth': 72, 'subsample': 0.7176932194474065, 'colsample_bytree': 0.6517410620131151, 'reg_alpha': 0.23394155298653874, 'reg_lambda': 13.10123988184643, 'min_child_samples': 197, 'min_child_weight': 4.761262936026849}. Best is trial 31 with value: 0.8293892411022534.\u001b[0m\n",
            "\u001b[32m[I 2022-12-16 16:28:03,835]\u001b[0m Trial 36 finished with value: 0.8114054359425019 and parameters: {'boosting_type': 'gbdt', 'learning_rate': 0.08014902884719831, 'n_estimators': 499, 'num_leaves': 88, 'max_depth': 92, 'subsample': 0.9078659295238524, 'colsample_bytree': 0.9651195608294991, 'reg_alpha': 6.495715318267871, 'reg_lambda': 6.770109692078693, 'min_child_samples': 162, 'min_child_weight': 3.7393971429146267}. Best is trial 31 with value: 0.8293892411022534.\u001b[0m\n",
            "\u001b[32m[I 2022-12-16 16:28:04,142]\u001b[0m Trial 37 finished with value: 0.8114242671520934 and parameters: {'boosting_type': 'gbdt', 'learning_rate': 0.05499739868892061, 'n_estimators': 353, 'num_leaves': 79, 'max_depth': 49, 'subsample': 0.9995076934155798, 'colsample_bytree': 0.8127359059094703, 'reg_alpha': 24.90444043237643, 'reg_lambda': 30.598933210705585, 'min_child_samples': 45, 'min_child_weight': 9.021703309198507}. Best is trial 31 with value: 0.8293892411022534.\u001b[0m\n",
            "\u001b[32m[I 2022-12-16 16:28:04,446]\u001b[0m Trial 38 finished with value: 0.7856568953612454 and parameters: {'boosting_type': 'dart', 'learning_rate': 0.08418184902081882, 'n_estimators': 149, 'num_leaves': 73, 'max_depth': 37, 'subsample': 0.601586622402059, 'colsample_bytree': 0.9377579368091775, 'reg_alpha': 17.30131659992073, 'reg_lambda': 40.196843226379414, 'min_child_samples': 78, 'min_child_weight': 2.642291790508329}. Best is trial 31 with value: 0.8293892411022534.\u001b[0m\n",
            "\u001b[32m[I 2022-12-16 16:28:04,716]\u001b[0m Trial 39 finished with value: 0.6161634548992531 and parameters: {'boosting_type': 'gbdt', 'learning_rate': 0.09048940949076267, 'n_estimators': 454, 'num_leaves': 95, 'max_depth': 87, 'subsample': 0.9495221503661303, 'colsample_bytree': 0.8633556537653149, 'reg_alpha': 75.89720829812183, 'reg_lambda': 20.8437805667486, 'min_child_samples': 221, 'min_child_weight': 8.578859770648128}. Best is trial 31 with value: 0.8293892411022534.\u001b[0m\n",
            "\u001b[32m[I 2022-12-16 16:28:05,107]\u001b[0m Trial 40 finished with value: 0.7822861088443914 and parameters: {'boosting_type': 'dart', 'learning_rate': 0.0403728838674475, 'n_estimators': 215, 'num_leaves': 79, 'max_depth': 80, 'subsample': 0.8114377702931714, 'colsample_bytree': 0.9721245012968363, 'reg_alpha': 57.592287731438326, 'reg_lambda': 5.605056784444573, 'min_child_samples': 111, 'min_child_weight': 7.610581148517273}. Best is trial 31 with value: 0.8293892411022534.\u001b[0m\n",
            "\u001b[32m[I 2022-12-16 16:28:05,329]\u001b[0m Trial 41 finished with value: 0.8237838177138912 and parameters: {'boosting_type': 'gbdt', 'learning_rate': 0.07311256723089363, 'n_estimators': 116, 'num_leaves': 99, 'max_depth': 98, 'subsample': 0.9807378189150724, 'colsample_bytree': 0.9811547466141277, 'reg_alpha': 4.532593184268206, 'reg_lambda': 8.821650993177242, 'min_child_samples': 22, 'min_child_weight': 5.97199130611696}. Best is trial 31 with value: 0.8293892411022534.\u001b[0m\n",
            "\u001b[32m[I 2022-12-16 16:28:05,463]\u001b[0m Trial 42 finished with value: 0.7082982863599272 and parameters: {'boosting_type': 'gbdt', 'learning_rate': 0.07212389010848855, 'n_estimators': 117, 'num_leaves': 92, 'max_depth': 96, 'subsample': 0.9765630973500615, 'colsample_bytree': 0.9742422556003985, 'reg_alpha': 5.687223135391088, 'reg_lambda': 16.02345265738855, 'min_child_samples': 285, 'min_child_weight': 6.709401356906458}. Best is trial 31 with value: 0.8293892411022534.\u001b[0m\n",
            "\u001b[32m[I 2022-12-16 16:28:05,671]\u001b[0m Trial 43 finished with value: 0.8249011361496453 and parameters: {'boosting_type': 'gbdt', 'learning_rate': 0.067791410468609, 'n_estimators': 119, 'num_leaves': 86, 'max_depth': 95, 'subsample': 0.944025176387596, 'colsample_bytree': 0.9102897238279063, 'reg_alpha': 4.652757181109272, 'reg_lambda': 9.523474442607093, 'min_child_samples': 42, 'min_child_weight': 5.8034153143735425}. Best is trial 31 with value: 0.8293892411022534.\u001b[0m\n",
            "\u001b[32m[I 2022-12-16 16:28:05,835]\u001b[0m Trial 44 finished with value: 0.8226602222082733 and parameters: {'boosting_type': 'gbdt', 'learning_rate': 0.06751059285902786, 'n_estimators': 100, 'num_leaves': 87, 'max_depth': 94, 'subsample': 0.9485927633343422, 'colsample_bytree': 0.9071769473327695, 'reg_alpha': 21.684055654328652, 'reg_lambda': 86.98073954089676, 'min_child_samples': 44, 'min_child_weight': 5.733713407776385}. Best is trial 31 with value: 0.8293892411022534.\u001b[0m\n",
            "\u001b[32m[I 2022-12-16 16:28:06,035]\u001b[0m Trial 45 finished with value: 0.7968928504174251 and parameters: {'boosting_type': 'gbdt', 'learning_rate': 0.078026660659875, 'n_estimators': 171, 'num_leaves': 96, 'max_depth': 84, 'subsample': 0.9307911646728073, 'colsample_bytree': 0.8777135729677297, 'reg_alpha': 11.868688338181297, 'reg_lambda': 22.12438977666977, 'min_child_samples': 70, 'min_child_weight': 6.49236887442562}. Best is trial 31 with value: 0.8293892411022534.\u001b[0m\n",
            "\u001b[32m[I 2022-12-16 16:28:06,339]\u001b[0m Trial 46 finished with value: 0.8282781997363632 and parameters: {'boosting_type': 'dart', 'learning_rate': 0.04897042017039817, 'n_estimators': 140, 'num_leaves': 71, 'max_depth': 72, 'subsample': 0.9990425043184455, 'colsample_bytree': 0.9486180456200093, 'reg_alpha': 27.706187653452545, 'reg_lambda': 4.258944269148449, 'min_child_samples': 41, 'min_child_weight': 7.1379027764820275}. Best is trial 31 with value: 0.8293892411022534.\u001b[0m\n",
            "\u001b[32m[I 2022-12-16 16:28:06,667]\u001b[0m Trial 47 finished with value: 0.7946079969870065 and parameters: {'boosting_type': 'dart', 'learning_rate': 0.03259857428383938, 'n_estimators': 198, 'num_leaves': 85, 'max_depth': 8, 'subsample': 0.9217195219235944, 'colsample_bytree': 0.9336439477546769, 'reg_alpha': 29.522501308493645, 'reg_lambda': 4.802810720563474, 'min_child_samples': 136, 'min_child_weight': 8.213483806303573}. Best is trial 31 with value: 0.8293892411022534.\u001b[0m\n",
            "\u001b[32m[I 2022-12-16 16:28:06,931]\u001b[0m Trial 48 finished with value: 0.7901512773837173 and parameters: {'boosting_type': 'dart', 'learning_rate': 0.04681309027469385, 'n_estimators': 146, 'num_leaves': 91, 'max_depth': 68, 'subsample': 0.956432726960386, 'colsample_bytree': 0.9965804688716384, 'reg_alpha': 34.22647804267959, 'reg_lambda': 15.69428531695589, 'min_child_samples': 98, 'min_child_weight': 7.260263713676003}. Best is trial 31 with value: 0.8293892411022534.\u001b[0m\n",
            "\u001b[32m[I 2022-12-16 16:28:07,186]\u001b[0m Trial 49 finished with value: 0.8148703785073128 and parameters: {'boosting_type': 'dart', 'learning_rate': 0.051377541740847, 'n_estimators': 123, 'num_leaves': 71, 'max_depth': 60, 'subsample': 0.9798851832370287, 'colsample_bytree': 0.9544217093379873, 'reg_alpha': 24.564142721420083, 'reg_lambda': 73.8037645301301, 'min_child_samples': 39, 'min_child_weight': 7.5353661050411}. Best is trial 31 with value: 0.8293892411022534.\u001b[0m\n",
            "\u001b[32m[I 2022-12-16 16:28:07,478]\u001b[0m Trial 50 finished with value: 0.7923608059757704 and parameters: {'boosting_type': 'dart', 'learning_rate': 0.06158609268772281, 'n_estimators': 163, 'num_leaves': 76, 'max_depth': 100, 'subsample': 0.8387129473773258, 'colsample_bytree': 0.9198529229501186, 'reg_alpha': 14.473874864686145, 'reg_lambda': 43.42587168520183, 'min_child_samples': 172, 'min_child_weight': 5.345392600094644}. Best is trial 31 with value: 0.8293892411022534.\u001b[0m\n",
            "\u001b[32m[I 2022-12-16 16:28:07,781]\u001b[0m Trial 51 finished with value: 0.7935220639005711 and parameters: {'boosting_type': 'dart', 'learning_rate': 0.002704651812705232, 'n_estimators': 135, 'num_leaves': 62, 'max_depth': 69, 'subsample': 0.9983311174943507, 'colsample_bytree': 0.9404228476646369, 'reg_alpha': 3.844772377454138, 'reg_lambda': 11.31604512771053, 'min_child_samples': 35, 'min_child_weight': 6.228210051706551}. Best is trial 31 with value: 0.8293892411022534.\u001b[0m\n",
            "\u001b[32m[I 2022-12-16 16:28:07,977]\u001b[0m Trial 52 finished with value: 0.8249325214989642 and parameters: {'boosting_type': 'gbdt', 'learning_rate': 0.06987399132700037, 'n_estimators': 113, 'num_leaves': 69, 'max_depth': 74, 'subsample': 0.9901546548998548, 'colsample_bytree': 0.9997277270807109, 'reg_alpha': 0.14814350744917487, 'reg_lambda': 2.514022423792227, 'min_child_samples': 80, 'min_child_weight': 4.942632487650534}. Best is trial 31 with value: 0.8293892411022534.\u001b[0m\n",
            "\u001b[32m[I 2022-12-16 16:28:08,144]\u001b[0m Trial 53 finished with value: 0.8181783943255289 and parameters: {'boosting_type': 'gbdt', 'learning_rate': 0.06814363092713475, 'n_estimators': 119, 'num_leaves': 81, 'max_depth': 63, 'subsample': 0.9483564562373159, 'colsample_bytree': 0.99963100790764, 'reg_alpha': 9.18072687661514, 'reg_lambda': 2.5478749095609876, 'min_child_samples': 72, 'min_child_weight': 5.02588778442305}. Best is trial 31 with value: 0.8293892411022534.\u001b[0m\n",
            "\u001b[32m[I 2022-12-16 16:28:08,462]\u001b[0m Trial 54 finished with value: 0.807005209967987 and parameters: {'boosting_type': 'dart', 'learning_rate': 0.055814439248980496, 'n_estimators': 146, 'num_leaves': 69, 'max_depth': 74, 'subsample': 0.9837447394719925, 'colsample_bytree': 0.9556310993193547, 'reg_alpha': 3.939877927393595, 'reg_lambda': 3.6625780959031973, 'min_child_samples': 75, 'min_child_weight': 3.8982666508482082}. Best is trial 31 with value: 0.8293892411022534.\u001b[0m\n",
            "\u001b[32m[I 2022-12-16 16:28:08,639]\u001b[0m Trial 55 finished with value: 0.8338710689849979 and parameters: {'boosting_type': 'gbdt', 'learning_rate': 0.06447176480984942, 'n_estimators': 131, 'num_leaves': 57, 'max_depth': 83, 'subsample': 0.9663046401439163, 'colsample_bytree': 0.9825746154260533, 'reg_alpha': 9.452234786434275, 'reg_lambda': 0.10265222131140206, 'min_child_samples': 25, 'min_child_weight': 4.364226054933381}. Best is trial 55 with value: 0.8338710689849979.\u001b[0m\n",
            "\u001b[32m[I 2022-12-16 16:28:08,848]\u001b[0m Trial 56 finished with value: 0.8181972255351203 and parameters: {'boosting_type': 'gbdt', 'learning_rate': 0.058993307629239634, 'n_estimators': 185, 'num_leaves': 31, 'max_depth': 80, 'subsample': 0.9644230821493732, 'colsample_bytree': 0.9855944168890501, 'reg_alpha': 14.84516571353476, 'reg_lambda': 4.6947820122645165, 'min_child_samples': 21, 'min_child_weight': 3.3163553587692878}. Best is trial 55 with value: 0.8338710689849979.\u001b[0m\n",
            "\u001b[32m[I 2022-12-16 16:28:09,032]\u001b[0m Trial 57 finished with value: 0.7991400414286611 and parameters: {'boosting_type': 'gbdt', 'learning_rate': 0.08373945759029415, 'n_estimators': 137, 'num_leaves': 56, 'max_depth': 83, 'subsample': 0.7446551556185491, 'colsample_bytree': 0.9602592546679417, 'reg_alpha': 11.251377351729527, 'reg_lambda': 18.549221564364558, 'min_child_samples': 94, 'min_child_weight': 2.3453472573569156}. Best is trial 55 with value: 0.8338710689849979.\u001b[0m\n",
            "\u001b[32m[I 2022-12-16 16:28:09,190]\u001b[0m Trial 58 finished with value: 0.7867804908668633 and parameters: {'boosting_type': 'gbdt', 'learning_rate': 0.06418398678866513, 'n_estimators': 110, 'num_leaves': 66, 'max_depth': 54, 'subsample': 0.9121478982182054, 'colsample_bytree': 0.9736861549045522, 'reg_alpha': 39.9911844229094, 'reg_lambda': 2.0215491702337345, 'min_child_samples': 58, 'min_child_weight': 4.295368299107912}. Best is trial 55 with value: 0.8338710689849979.\u001b[0m\n",
            "\u001b[32m[I 2022-12-16 16:28:09,342]\u001b[0m Trial 59 finished with value: 0.6161634548992531 and parameters: {'boosting_type': 'dart', 'learning_rate': 0.043646715448593276, 'n_estimators': 299, 'num_leaves': 57, 'max_depth': 75, 'subsample': 0.9866455579834243, 'colsample_bytree': 0.9863746588400418, 'reg_alpha': 20.579266538192044, 'reg_lambda': 14.247351408372296, 'min_child_samples': 382, 'min_child_weight': 4.578075037253041}. Best is trial 55 with value: 0.8338710689849979.\u001b[0m\n",
            "\u001b[32m[I 2022-12-16 16:28:09,643]\u001b[0m Trial 60 finished with value: 0.7923608059757704 and parameters: {'boosting_type': 'gbdt', 'learning_rate': 0.07156365529626005, 'n_estimators': 407, 'num_leaves': 50, 'max_depth': 88, 'subsample': 0.9268793910434966, 'colsample_bytree': 0.9250949374654486, 'reg_alpha': 49.28582694688619, 'reg_lambda': 7.056014280125727, 'min_child_samples': 269, 'min_child_weight': 6.86929642110981}. Best is trial 55 with value: 0.8338710689849979.\u001b[0m\n",
            "\u001b[32m[I 2022-12-16 16:28:09,886]\u001b[0m Trial 61 finished with value: 0.8181846713953925 and parameters: {'boosting_type': 'gbdt', 'learning_rate': 0.06448409065258238, 'n_estimators': 131, 'num_leaves': 100, 'max_depth': 91, 'subsample': 0.9720962897989366, 'colsample_bytree': 0.8859552479226126, 'reg_alpha': 3.3140585365707134, 'reg_lambda': 9.905041958911903, 'min_child_samples': 34, 'min_child_weight': 5.00578752159651}. Best is trial 55 with value: 0.8338710689849979.\u001b[0m\n",
            "\u001b[32m[I 2022-12-16 16:28:10,066]\u001b[0m Trial 62 finished with value: 0.8282593685267716 and parameters: {'boosting_type': 'gbdt', 'learning_rate': 0.06916097402032051, 'n_estimators': 114, 'num_leaves': 71, 'max_depth': 81, 'subsample': 0.9425352495364155, 'colsample_bytree': 0.9118458335016564, 'reg_alpha': 8.929889140212559, 'reg_lambda': 9.135987613372045, 'min_child_samples': 48, 'min_child_weight': 5.562417777622553}. Best is trial 55 with value: 0.8338710689849979.\u001b[0m\n",
            "\u001b[32m[I 2022-12-16 16:28:10,227]\u001b[0m Trial 63 finished with value: 0.8338710689849979 and parameters: {'boosting_type': 'gbdt', 'learning_rate': 0.07077157916113788, 'n_estimators': 100, 'num_leaves': 71, 'max_depth': 70, 'subsample': 0.9604746471149367, 'colsample_bytree': 0.9667103509189466, 'reg_alpha': 9.7363461493794, 'reg_lambda': 0.32754410015770974, 'min_child_samples': 20, 'min_child_weight': 5.357199706434115}. Best is trial 55 with value: 0.8338710689849979.\u001b[0m\n",
            "\u001b[32m[I 2022-12-16 16:28:10,415]\u001b[0m Trial 64 finished with value: 0.8238152030632101 and parameters: {'boosting_type': 'gbdt', 'learning_rate': 0.05851418607926619, 'n_estimators': 159, 'num_leaves': 71, 'max_depth': 69, 'subsample': 0.9593308068856166, 'colsample_bytree': 0.9445299769965265, 'reg_alpha': 19.244139294542112, 'reg_lambda': 0.057140676998644224, 'min_child_samples': 20, 'min_child_weight': 5.341629043566649}. Best is trial 55 with value: 0.8338710689849979.\u001b[0m\n",
            "\u001b[32m[I 2022-12-16 16:28:10,584]\u001b[0m Trial 65 finished with value: 0.8181783943255289 and parameters: {'boosting_type': 'gbdt', 'learning_rate': 0.07752841397647195, 'n_estimators': 139, 'num_leaves': 75, 'max_depth': 78, 'subsample': 0.9014238476947489, 'colsample_bytree': 0.9679434879869541, 'reg_alpha': 9.479421368829877, 'reg_lambda': 6.973334643136077, 'min_child_samples': 59, 'min_child_weight': 6.222232587888268}. Best is trial 55 with value: 0.8338710689849979.\u001b[0m\n",
            "\u001b[32m[I 2022-12-16 16:28:10,759]\u001b[0m Trial 66 finished with value: 0.8238152030632101 and parameters: {'boosting_type': 'gbdt', 'learning_rate': 0.04963345989755392, 'n_estimators': 102, 'num_leaves': 65, 'max_depth': 81, 'subsample': 0.8779391493192099, 'colsample_bytree': 0.8146100816610302, 'reg_alpha': 14.973152951037404, 'reg_lambda': 22.403776064512748, 'min_child_samples': 36, 'min_child_weight': 7.269641491490648}. Best is trial 55 with value: 0.8338710689849979.\u001b[0m\n",
            "\u001b[32m[I 2022-12-16 16:28:10,964]\u001b[0m Trial 67 finished with value: 0.7991400414286611 and parameters: {'boosting_type': 'gbdt', 'learning_rate': 0.008878851026917808, 'n_estimators': 179, 'num_leaves': 61, 'max_depth': 84, 'subsample': 0.96915647026415, 'colsample_bytree': 0.9303679696990922, 'reg_alpha': 8.742561825880404, 'reg_lambda': 12.22631473366453, 'min_child_samples': 111, 'min_child_weight': 6.982745839328224}. Best is trial 55 with value: 0.8338710689849979.\u001b[0m\n",
            "\u001b[32m[I 2022-12-16 16:28:11,199]\u001b[0m Trial 68 finished with value: 0.8035590986127674 and parameters: {'boosting_type': 'gbdt', 'learning_rate': 0.035990681282598094, 'n_estimators': 274, 'num_leaves': 47, 'max_depth': 64, 'subsample': 0.9405127275294138, 'colsample_bytree': 0.8428894559417086, 'reg_alpha': 29.05769408423143, 'reg_lambda': 16.57665110779517, 'min_child_samples': 53, 'min_child_weight': 5.555780411481282}. Best is trial 55 with value: 0.8338710689849979.\u001b[0m\n",
            "\u001b[32m[I 2022-12-16 16:28:11,388]\u001b[0m Trial 69 finished with value: 0.8238152030632101 and parameters: {'boosting_type': 'gbdt', 'learning_rate': 0.06270735412916238, 'n_estimators': 128, 'num_leaves': 97, 'max_depth': 71, 'subsample': 0.9998507930800333, 'colsample_bytree': 0.9579061311165684, 'reg_alpha': 23.854645665159058, 'reg_lambda': 4.279813751218255, 'min_child_samples': 31, 'min_child_weight': 4.2503976917085335}. Best is trial 55 with value: 0.8338710689849979.\u001b[0m\n",
            "\u001b[32m[I 2022-12-16 16:28:11,627]\u001b[0m Trial 70 finished with value: 0.8249011361496453 and parameters: {'boosting_type': 'gbdt', 'learning_rate': 0.05489148025116159, 'n_estimators': 210, 'num_leaves': 44, 'max_depth': 77, 'subsample': 0.6884150167678749, 'colsample_bytree': 0.9807706460913076, 'reg_alpha': 6.937367339565371, 'reg_lambda': 33.84270159640858, 'min_child_samples': 51, 'min_child_weight': 6.4304152118490014}. Best is trial 55 with value: 0.8338710689849979.\u001b[0m\n",
            "\u001b[32m[I 2022-12-16 16:28:11,815]\u001b[0m Trial 71 finished with value: 0.8114556525014123 and parameters: {'boosting_type': 'gbdt', 'learning_rate': 0.07427933932293582, 'n_estimators': 110, 'num_leaves': 67, 'max_depth': 74, 'subsample': 0.9903427591132234, 'colsample_bytree': 0.9923230761769641, 'reg_alpha': 2.3430312655920735, 'reg_lambda': 0.5671094567757198, 'min_child_samples': 81, 'min_child_weight': 4.606219078512707}. Best is trial 55 with value: 0.8338710689849979.\u001b[0m\n",
            "\u001b[32m[I 2022-12-16 16:28:11,988]\u001b[0m Trial 72 finished with value: 0.8159625886636119 and parameters: {'boosting_type': 'gbdt', 'learning_rate': 0.06944582530008295, 'n_estimators': 100, 'num_leaves': 70, 'max_depth': 68, 'subsample': 0.957928839345296, 'colsample_bytree': 0.9483690819548847, 'reg_alpha': 0.20733800253442602, 'reg_lambda': 3.2498106564580933, 'min_child_samples': 86, 'min_child_weight': 5.9912435986881825}. Best is trial 55 with value: 0.8338710689849979.\u001b[0m\n",
            "\u001b[32m[I 2022-12-16 16:28:12,167]\u001b[0m Trial 73 finished with value: 0.8181783943255289 and parameters: {'boosting_type': 'gbdt', 'learning_rate': 0.08082923154355942, 'n_estimators': 123, 'num_leaves': 59, 'max_depth': 31, 'subsample': 0.9888949928149606, 'colsample_bytree': 0.9679250978516261, 'reg_alpha': 11.09906348823644, 'reg_lambda': 8.124869960135646, 'min_child_samples': 64, 'min_child_weight': 4.771647026701986}. Best is trial 55 with value: 0.8338710689849979.\u001b[0m\n",
            "\u001b[32m[I 2022-12-16 16:28:12,334]\u001b[0m Trial 74 finished with value: 0.6161634548992531 and parameters: {'boosting_type': 'gbdt', 'learning_rate': 0.06538080849340963, 'n_estimators': 143, 'num_leaves': 72, 'max_depth': 86, 'subsample': 0.9706805259091499, 'colsample_bytree': 0.9782917942436603, 'reg_alpha': 94.39200858948757, 'reg_lambda': 5.527297158164709, 'min_child_samples': 33, 'min_child_weight': 5.286067392678518}. Best is trial 55 with value: 0.8338710689849979.\u001b[0m\n",
            "\u001b[32m[I 2022-12-16 16:28:12,547]\u001b[0m Trial 75 finished with value: 0.8170485217500472 and parameters: {'boosting_type': 'gbdt', 'learning_rate': 0.07035941004300274, 'n_estimators': 115, 'num_leaves': 64, 'max_depth': 71, 'subsample': 0.9786160253361519, 'colsample_bytree': 0.7729753367163821, 'reg_alpha': 6.601286469985315, 'reg_lambda': 13.176437516800034, 'min_child_samples': 70, 'min_child_weight': 6.608146465500281}. Best is trial 55 with value: 0.8338710689849979.\u001b[0m\n",
            "\u001b[32m[I 2022-12-16 16:28:12,843]\u001b[0m Trial 76 finished with value: 0.8148515472977215 and parameters: {'boosting_type': 'gbdt', 'learning_rate': 0.07272016511536174, 'n_estimators': 384, 'num_leaves': 53, 'max_depth': 80, 'subsample': 0.9554388632740145, 'colsample_bytree': 0.9981043390681061, 'reg_alpha': 13.64861599130273, 'reg_lambda': 9.07407048803775, 'min_child_samples': 49, 'min_child_weight': 5.5976887651908385}. Best is trial 55 with value: 0.8338710689849979.\u001b[0m\n",
            "\u001b[32m[I 2022-12-16 16:28:13,100]\u001b[0m Trial 77 finished with value: 0.8182286108844391 and parameters: {'boosting_type': 'gbdt', 'learning_rate': 0.06211103033309619, 'n_estimators': 158, 'num_leaves': 82, 'max_depth': 61, 'subsample': 0.9888453626263068, 'colsample_bytree': 0.9156318496884635, 'reg_alpha': 1.9669573569867551, 'reg_lambda': 3.2487397550140398, 'min_child_samples': 30, 'min_child_weight': 3.5705336068925257}. Best is trial 55 with value: 0.8338710689849979.\u001b[0m\n",
            "\u001b[32m[I 2022-12-16 16:28:13,327]\u001b[0m Trial 78 finished with value: 0.7991400414286611 and parameters: {'boosting_type': 'dart', 'learning_rate': 0.0593048078320817, 'n_estimators': 111, 'num_leaves': 74, 'max_depth': 89, 'subsample': 0.9390391155120454, 'colsample_bytree': 0.96506264893812, 'reg_alpha': 17.339389296435243, 'reg_lambda': 0.14480170884546784, 'min_child_samples': 102, 'min_child_weight': 5.975599149852194}. Best is trial 55 with value: 0.8338710689849979.\u001b[0m\n",
            "\u001b[32m[I 2022-12-16 16:28:13,507]\u001b[0m Trial 79 finished with value: 0.824913690289373 and parameters: {'boosting_type': 'gbdt', 'learning_rate': 0.0808991094046055, 'n_estimators': 128, 'num_leaves': 69, 'max_depth': 66, 'subsample': 0.7867667771561562, 'colsample_bytree': 0.9885765249850799, 'reg_alpha': 9.29504250505746, 'reg_lambda': 17.831057732348555, 'min_child_samples': 126, 'min_child_weight': 4.919718575875059}. Best is trial 55 with value: 0.8338710689849979.\u001b[0m\n",
            "\u001b[32m[I 2022-12-16 16:28:13,807]\u001b[0m Trial 80 finished with value: 0.8237838177138912 and parameters: {'boosting_type': 'gbdt', 'learning_rate': 0.07644332408307951, 'n_estimators': 461, 'num_leaves': 35, 'max_depth': 56, 'subsample': 0.6304689072465127, 'colsample_bytree': 0.6241827948632688, 'reg_alpha': 5.660151793819975, 'reg_lambda': 11.351810750147605, 'min_child_samples': 20, 'min_child_weight': 4.008803754669438}. Best is trial 55 with value: 0.8338710689849979.\u001b[0m\n",
            "\u001b[32m[I 2022-12-16 16:28:13,988]\u001b[0m Trial 81 finished with value: 0.8260247316552632 and parameters: {'boosting_type': 'gbdt', 'learning_rate': 0.08154666601092132, 'n_estimators': 128, 'num_leaves': 68, 'max_depth': 75, 'subsample': 0.7448909660677657, 'colsample_bytree': 0.9894217351656424, 'reg_alpha': 10.716624058531098, 'reg_lambda': 7.929289144607307, 'min_child_samples': 48, 'min_child_weight': 5.185651017277882}. Best is trial 55 with value: 0.8338710689849979.\u001b[0m\n",
            "\u001b[32m[I 2022-12-16 16:28:14,159]\u001b[0m Trial 82 finished with value: 0.8260247316552632 and parameters: {'boosting_type': 'gbdt', 'learning_rate': 0.09535015706000435, 'n_estimators': 111, 'num_leaves': 66, 'max_depth': 77, 'subsample': 0.7729189760497295, 'colsample_bytree': 0.9740361407083467, 'reg_alpha': 11.230404732353078, 'reg_lambda': 6.648804499387449, 'min_child_samples': 46, 'min_child_weight': 5.113399062384257}. Best is trial 55 with value: 0.8338710689849979.\u001b[0m\n",
            "\u001b[32m[I 2022-12-16 16:28:14,339]\u001b[0m Trial 83 finished with value: 0.8249074132195091 and parameters: {'boosting_type': 'gbdt', 'learning_rate': 0.09235586456321143, 'n_estimators': 150, 'num_leaves': 61, 'max_depth': 77, 'subsample': 0.7674135223511036, 'colsample_bytree': 0.9436041204112637, 'reg_alpha': 11.818574655111751, 'reg_lambda': 6.8109208339350396, 'min_child_samples': 45, 'min_child_weight': 5.536831317495041}. Best is trial 55 with value: 0.8338710689849979.\u001b[0m\n",
            "\u001b[32m[I 2022-12-16 16:28:14,533]\u001b[0m Trial 84 finished with value: 0.7867804908668633 and parameters: {'boosting_type': 'gbdt', 'learning_rate': 0.09924678274680243, 'n_estimators': 131, 'num_leaves': 66, 'max_depth': 81, 'subsample': 0.7514808192135654, 'colsample_bytree': 0.9753458364223858, 'reg_alpha': 15.535941119513085, 'reg_lambda': 13.445460149714142, 'min_child_samples': 66, 'min_child_weight': 5.129854127711691}. Best is trial 55 with value: 0.8338710689849979.\u001b[0m\n",
            "\u001b[32m[I 2022-12-16 16:28:14,715]\u001b[0m Trial 85 finished with value: 0.8204130311970372 and parameters: {'boosting_type': 'gbdt', 'learning_rate': 0.09520590173357725, 'n_estimators': 169, 'num_leaves': 78, 'max_depth': 83, 'subsample': 0.7387563202867002, 'colsample_bytree': 0.958959286137726, 'reg_alpha': 19.356395220950997, 'reg_lambda': 7.941084430864391, 'min_child_samples': 47, 'min_child_weight': 6.1820904270478865}. Best is trial 55 with value: 0.8338710689849979.\u001b[0m\n",
            "\u001b[32m[I 2022-12-16 16:28:14,973]\u001b[0m Trial 86 finished with value: 0.8316238779737619 and parameters: {'boosting_type': 'gbdt', 'learning_rate': 0.0849487809579881, 'n_estimators': 332, 'num_leaves': 58, 'max_depth': 78, 'subsample': 0.7149765122002292, 'colsample_bytree': 0.9269837748107853, 'reg_alpha': 8.110442085992911, 'reg_lambda': 5.324553629228241, 'min_child_samples': 33, 'min_child_weight': 7.431899665082387}. Best is trial 55 with value: 0.8338710689849979.\u001b[0m\n",
            "\u001b[32m[I 2022-12-16 16:28:15,937]\u001b[0m Trial 87 finished with value: 0.8327537505492437 and parameters: {'boosting_type': 'dart', 'learning_rate': 0.09577673148257057, 'n_estimators': 320, 'num_leaves': 64, 'max_depth': 86, 'subsample': 0.6998273419627856, 'colsample_bytree': 0.9358380075107746, 'reg_alpha': 7.239973379366965, 'reg_lambda': 14.735873451172422, 'min_child_samples': 30, 'min_child_weight': 8.12890961222446}. Best is trial 55 with value: 0.8338710689849979.\u001b[0m\n",
            "\u001b[32m[I 2022-12-16 16:28:16,908]\u001b[0m Trial 88 finished with value: 0.8338710689849979 and parameters: {'boosting_type': 'dart', 'learning_rate': 0.08821993190549696, 'n_estimators': 328, 'num_leaves': 54, 'max_depth': 97, 'subsample': 0.6983846381863674, 'colsample_bytree': 0.8911794016590225, 'reg_alpha': 7.625179346493122, 'reg_lambda': 59.384632019527, 'min_child_samples': 31, 'min_child_weight': 7.989692041221975}. Best is trial 55 with value: 0.8338710689849979.\u001b[0m\n",
            "\u001b[32m[I 2022-12-16 16:28:17,788]\u001b[0m Trial 89 finished with value: 0.8338710689849979 and parameters: {'boosting_type': 'dart', 'learning_rate': 0.0875371221736765, 'n_estimators': 329, 'num_leaves': 58, 'max_depth': 97, 'subsample': 0.6957851651216027, 'colsample_bytree': 0.8959428696255743, 'reg_alpha': 27.27667789402422, 'reg_lambda': 59.310909141112234, 'min_child_samples': 26, 'min_child_weight': 8.238216525912316}. Best is trial 55 with value: 0.8338710689849979.\u001b[0m\n",
            "\u001b[32m[I 2022-12-16 16:28:18,604]\u001b[0m Trial 90 finished with value: 0.8069047768501664 and parameters: {'boosting_type': 'dart', 'learning_rate': 0.08702246117569457, 'n_estimators': 326, 'num_leaves': 57, 'max_depth': 97, 'subsample': 0.7037092387177826, 'colsample_bytree': 0.895544103743105, 'reg_alpha': 37.78959394881723, 'reg_lambda': 59.66833701488868, 'min_child_samples': 29, 'min_child_weight': 8.415128552727284}. Best is trial 55 with value: 0.8338710689849979.\u001b[0m\n",
            "\u001b[32m[I 2022-12-16 16:28:19,511]\u001b[0m Trial 91 finished with value: 0.828253091456908 and parameters: {'boosting_type': 'dart', 'learning_rate': 0.09060897252588573, 'n_estimators': 345, 'num_leaves': 54, 'max_depth': 94, 'subsample': 0.6569290331719807, 'colsample_bytree': 0.8614413754427692, 'reg_alpha': 22.524398280455497, 'reg_lambda': 47.538862220454895, 'min_child_samples': 34, 'min_child_weight': 8.01043423472394}. Best is trial 55 with value: 0.8338710689849979.\u001b[0m\n",
            "\u001b[32m[I 2022-12-16 16:28:20,360]\u001b[0m Trial 92 finished with value: 0.8125541397275752 and parameters: {'boosting_type': 'dart', 'learning_rate': 0.08889373662586479, 'n_estimators': 314, 'num_leaves': 51, 'max_depth': 90, 'subsample': 0.6777790673932991, 'colsample_bytree': 0.9025917535550669, 'reg_alpha': 6.956904962636443, 'reg_lambda': 56.635240175505224, 'min_child_samples': 59, 'min_child_weight': 9.498679474768469}. Best is trial 55 with value: 0.8338710689849979.\u001b[0m\n",
            "\u001b[32m[I 2022-12-16 16:28:21,015]\u001b[0m Trial 93 finished with value: 0.7755633670202748 and parameters: {'boosting_type': 'dart', 'learning_rate': 0.08411394241538407, 'n_estimators': 338, 'num_leaves': 58, 'max_depth': 93, 'subsample': 0.7034689483083281, 'colsample_bytree': 0.8734239742313565, 'reg_alpha': 58.4524025013777, 'reg_lambda': 66.23373981683729, 'min_child_samples': 27, 'min_child_weight': 8.72591329236382}. Best is trial 55 with value: 0.8338710689849979.\u001b[0m\n",
            "\u001b[32m[I 2022-12-16 16:28:22,009]\u001b[0m Trial 94 finished with value: 0.8237838177138912 and parameters: {'boosting_type': 'dart', 'learning_rate': 0.09196722759552221, 'n_estimators': 362, 'num_leaves': 60, 'max_depth': 99, 'subsample': 0.6713685752930637, 'colsample_bytree': 0.9165666573197355, 'reg_alpha': 27.109512056207173, 'reg_lambda': 64.69749609067418, 'min_child_samples': 39, 'min_child_weight': 7.503233917636316}. Best is trial 55 with value: 0.8338710689849979.\u001b[0m\n",
            "\u001b[32m[I 2022-12-16 16:28:22,822]\u001b[0m Trial 95 finished with value: 0.8103195028560668 and parameters: {'boosting_type': 'dart', 'learning_rate': 0.09687416408963345, 'n_estimators': 313, 'num_leaves': 55, 'max_depth': 87, 'subsample': 0.7216585047234619, 'colsample_bytree': 0.9320632714130118, 'reg_alpha': 4.40158098037568, 'reg_lambda': 52.71135245840042, 'min_child_samples': 69, 'min_child_weight': 8.05978992966805}. Best is trial 55 with value: 0.8338710689849979.\u001b[0m\n",
            "\u001b[32m[I 2022-12-16 16:28:23,556]\u001b[0m Trial 96 finished with value: 0.8338710689849979 and parameters: {'boosting_type': 'dart', 'learning_rate': 0.08603858898652839, 'n_estimators': 286, 'num_leaves': 63, 'max_depth': 92, 'subsample': 0.7003391183483196, 'colsample_bytree': 0.9216707227704309, 'reg_alpha': 13.805375161702198, 'reg_lambda': 62.39111116844853, 'min_child_samples': 23, 'min_child_weight': 7.700257220713748}. Best is trial 55 with value: 0.8338710689849979.\u001b[0m\n",
            "\u001b[32m[I 2022-12-16 16:28:24,306]\u001b[0m Trial 97 finished with value: 0.8338710689849979 and parameters: {'boosting_type': 'dart', 'learning_rate': 0.0858565157586984, 'n_estimators': 283, 'num_leaves': 64, 'max_depth': 95, 'subsample': 0.6960510403599525, 'colsample_bytree': 0.9218090493812572, 'reg_alpha': 13.36421420054651, 'reg_lambda': 70.0742950560529, 'min_child_samples': 24, 'min_child_weight': 7.8314347879513395}. Best is trial 55 with value: 0.8338710689849979.\u001b[0m\n",
            "\u001b[32m[I 2022-12-16 16:28:24,447]\u001b[0m Trial 98 finished with value: 0.6161634548992531 and parameters: {'boosting_type': 'dart', 'learning_rate': 0.0869963589703317, 'n_estimators': 283, 'num_leaves': 63, 'max_depth': 98, 'subsample': 0.6941383740813031, 'colsample_bytree': 0.8816250146080086, 'reg_alpha': 13.617562616809408, 'reg_lambda': 71.01015180410428, 'min_child_samples': 386, 'min_child_weight': 7.750254896136989}. Best is trial 55 with value: 0.8338710689849979.\u001b[0m\n",
            "\u001b[32m[I 2022-12-16 16:28:25,046]\u001b[0m Trial 99 finished with value: 0.8316364321134895 and parameters: {'boosting_type': 'dart', 'learning_rate': 0.09383280432838344, 'n_estimators': 253, 'num_leaves': 49, 'max_depth': 92, 'subsample': 0.7226946651472176, 'colsample_bytree': 0.9363575638500397, 'reg_alpha': 16.52306764851378, 'reg_lambda': 62.89259162865545, 'min_child_samples': 24, 'min_child_weight': 9.241873373813439}. Best is trial 55 with value: 0.8338710689849979.\u001b[0m\n",
            "\u001b[32m[I 2022-12-16 16:28:25,656]\u001b[0m Trial 100 finished with value: 0.8316364321134895 and parameters: {'boosting_type': 'dart', 'learning_rate': 0.09410604199099043, 'n_estimators': 258, 'num_leaves': 49, 'max_depth': 96, 'subsample': 0.7256410606251389, 'colsample_bytree': 0.8896180519741196, 'reg_alpha': 17.982587299226182, 'reg_lambda': 62.73021032652284, 'min_child_samples': 27, 'min_child_weight': 9.169576972611042}. Best is trial 55 with value: 0.8338710689849979.\u001b[0m\n",
            "\u001b[32m[I 2022-12-16 16:28:26,267]\u001b[0m Trial 101 finished with value: 0.8327537505492437 and parameters: {'boosting_type': 'dart', 'learning_rate': 0.09378219473025293, 'n_estimators': 246, 'num_leaves': 49, 'max_depth': 96, 'subsample': 0.7284056750875731, 'colsample_bytree': 0.888728529342626, 'reg_alpha': 14.819669434949413, 'reg_lambda': 60.49190655526989, 'min_child_samples': 26, 'min_child_weight': 9.199594757634987}. Best is trial 55 with value: 0.8338710689849979.\u001b[0m\n",
            "\u001b[32m[I 2022-12-16 16:28:26,813]\u001b[0m Trial 102 finished with value: 0.8316364321134895 and parameters: {'boosting_type': 'dart', 'learning_rate': 0.09397862992529354, 'n_estimators': 236, 'num_leaves': 48, 'max_depth': 96, 'subsample': 0.7245944788373624, 'colsample_bytree': 0.8943447762786079, 'reg_alpha': 18.2692192318055, 'reg_lambda': 62.24389360549151, 'min_child_samples': 20, 'min_child_weight': 9.435140859903116}. Best is trial 55 with value: 0.8338710689849979.\u001b[0m\n",
            "\u001b[32m[I 2022-12-16 16:28:27,372]\u001b[0m Trial 103 finished with value: 0.8294017952419811 and parameters: {'boosting_type': 'dart', 'learning_rate': 0.09464695608520812, 'n_estimators': 239, 'num_leaves': 45, 'max_depth': 96, 'subsample': 0.728241882812923, 'colsample_bytree': 0.8677579016044588, 'reg_alpha': 18.868544451213506, 'reg_lambda': 60.325618206832566, 'min_child_samples': 20, 'min_child_weight': 9.430533322658922}. Best is trial 55 with value: 0.8338710689849979.\u001b[0m\n",
            "\u001b[32m[I 2022-12-16 16:28:27,959]\u001b[0m Trial 104 finished with value: 0.8316364321134895 and parameters: {'boosting_type': 'dart', 'learning_rate': 0.09908153607848648, 'n_estimators': 245, 'num_leaves': 48, 'max_depth': 92, 'subsample': 0.6889794423972007, 'colsample_bytree': 0.8946468994903446, 'reg_alpha': 15.778266773653332, 'reg_lambda': 67.43492396524441, 'min_child_samples': 20, 'min_child_weight': 9.138864758825996}. Best is trial 55 with value: 0.8338710689849979.\u001b[0m\n",
            "\u001b[32m[I 2022-12-16 16:28:28,550]\u001b[0m Trial 105 finished with value: 0.812560416797439 and parameters: {'boosting_type': 'dart', 'learning_rate': 0.09990163705441685, 'n_estimators': 261, 'num_leaves': 50, 'max_depth': 91, 'subsample': 0.6887424841988542, 'colsample_bytree': 0.8874725410876311, 'reg_alpha': 16.386441612277775, 'reg_lambda': 67.26445805001826, 'min_child_samples': 59, 'min_child_weight': 9.880497993268579}. Best is trial 55 with value: 0.8338710689849979.\u001b[0m\n",
            "\u001b[32m[I 2022-12-16 16:28:29,103]\u001b[0m Trial 106 finished with value: 0.8294017952419811 and parameters: {'boosting_type': 'dart', 'learning_rate': 0.08992893438134633, 'n_estimators': 230, 'num_leaves': 53, 'max_depth': 95, 'subsample': 0.7083311350480044, 'colsample_bytree': 0.8916814764113171, 'reg_alpha': 22.89224755018836, 'reg_lambda': 70.07839859992507, 'min_child_samples': 39, 'min_child_weight': 9.74121774004719}. Best is trial 55 with value: 0.8338710689849979.\u001b[0m\n",
            "\u001b[32m[I 2022-12-16 16:28:29,808]\u001b[0m Trial 107 finished with value: 0.8069047768501664 and parameters: {'boosting_type': 'dart', 'learning_rate': 0.09722322558564242, 'n_estimators': 296, 'num_leaves': 41, 'max_depth': 100, 'subsample': 0.69632301753052, 'colsample_bytree': 0.857711254028874, 'reg_alpha': 32.15729787919128, 'reg_lambda': 56.1508396206398, 'min_child_samples': 29, 'min_child_weight': 8.666320390833084}. Best is trial 55 with value: 0.8338710689849979.\u001b[0m\n",
            "\u001b[32m[I 2022-12-16 16:28:30,438]\u001b[0m Trial 108 finished with value: 0.8035590986127674 and parameters: {'boosting_type': 'dart', 'learning_rate': 0.09353511837515308, 'n_estimators': 269, 'num_leaves': 45, 'max_depth': 96, 'subsample': 0.6777638362697287, 'colsample_bytree': 0.8516002357177359, 'reg_alpha': 20.737901656403473, 'reg_lambda': 76.32039307901695, 'min_child_samples': 55, 'min_child_weight': 9.092203603141648}. Best is trial 55 with value: 0.8338710689849979.\u001b[0m\n",
            "\u001b[32m[I 2022-12-16 16:28:31,177]\u001b[0m Trial 109 finished with value: 0.8338710689849979 and parameters: {'boosting_type': 'dart', 'learning_rate': 0.09194733356921668, 'n_estimators': 288, 'num_leaves': 47, 'max_depth': 93, 'subsample': 0.7310977346626159, 'colsample_bytree': 0.9032167240316588, 'reg_alpha': 25.653339476369972, 'reg_lambda': 62.570829444483515, 'min_child_samples': 20, 'min_child_weight': 8.856367173270424}. Best is trial 55 with value: 0.8338710689849979.\u001b[0m\n",
            "\u001b[32m[I 2022-12-16 16:28:32,012]\u001b[0m Trial 110 finished with value: 0.8294017952419811 and parameters: {'boosting_type': 'dart', 'learning_rate': 0.09093183429169041, 'n_estimators': 313, 'num_leaves': 47, 'max_depth': 93, 'subsample': 0.732779872160992, 'colsample_bytree': 0.9051346255358823, 'reg_alpha': 26.220959648915002, 'reg_lambda': 62.940144216988834, 'min_child_samples': 38, 'min_child_weight': 8.909901853712375}. Best is trial 55 with value: 0.8338710689849979.\u001b[0m\n",
            "\u001b[32m[I 2022-12-16 16:28:32,695]\u001b[0m Trial 111 finished with value: 0.8338710689849979 and parameters: {'boosting_type': 'dart', 'learning_rate': 0.08665431475646064, 'n_estimators': 281, 'num_leaves': 47, 'max_depth': 88, 'subsample': 0.711485790201675, 'colsample_bytree': 0.894274935248302, 'reg_alpha': 19.170709400218733, 'reg_lambda': 68.14335504200545, 'min_child_samples': 20, 'min_child_weight': 8.336312424571407}. Best is trial 55 with value: 0.8338710689849979.\u001b[0m\n",
            "\u001b[32m[I 2022-12-16 16:28:33,312]\u001b[0m Trial 112 finished with value: 0.8338710689849979 and parameters: {'boosting_type': 'dart', 'learning_rate': 0.08589694852026364, 'n_estimators': 253, 'num_leaves': 42, 'max_depth': 86, 'subsample': 0.6628687406629542, 'colsample_bytree': 0.8996709332910602, 'reg_alpha': 13.629407679543538, 'reg_lambda': 70.6766003898926, 'min_child_samples': 27, 'min_child_weight': 8.27241700823216}. Best is trial 55 with value: 0.8338710689849979.\u001b[0m\n",
            "\u001b[32m[I 2022-12-16 16:28:34,144]\u001b[0m Trial 113 finished with value: 0.8338710689849979 and parameters: {'boosting_type': 'dart', 'learning_rate': 0.0859131735503745, 'n_estimators': 305, 'num_leaves': 51, 'max_depth': 85, 'subsample': 0.6580343053598406, 'colsample_bytree': 0.9219999956019086, 'reg_alpha': 12.334412997664135, 'reg_lambda': 69.37151080021566, 'min_child_samples': 30, 'min_child_weight': 8.338820101479081}. Best is trial 55 with value: 0.8338710689849979.\u001b[0m\n",
            "\u001b[32m[I 2022-12-16 16:28:34,621]\u001b[0m Trial 114 finished with value: 0.6914443537756576 and parameters: {'boosting_type': 'dart', 'learning_rate': 0.08631934945319907, 'n_estimators': 289, 'num_leaves': 42, 'max_depth': 89, 'subsample': 0.6366241719562925, 'colsample_bytree': 0.9204461249660898, 'reg_alpha': 12.615886266421281, 'reg_lambda': 70.06748668720684, 'min_child_samples': 311, 'min_child_weight': 8.319330795723516}. Best is trial 55 with value: 0.8338710689849979.\u001b[0m\n",
            "\u001b[32m[I 2022-12-16 16:28:35,331]\u001b[0m Trial 115 finished with value: 0.8192894356914191 and parameters: {'boosting_type': 'dart', 'learning_rate': 0.08261057572987343, 'n_estimators': 283, 'num_leaves': 52, 'max_depth': 86, 'subsample': 0.6511870194898305, 'colsample_bytree': 0.8722826268069315, 'reg_alpha': 12.948783077752426, 'reg_lambda': 74.14953171956732, 'min_child_samples': 53, 'min_child_weight': 8.864807527429386}. Best is trial 55 with value: 0.8338710689849979.\u001b[0m\n",
            "\u001b[32m[I 2022-12-16 16:28:36,070]\u001b[0m Trial 116 finished with value: 0.7990772707300232 and parameters: {'boosting_type': 'dart', 'learning_rate': 0.08902342712667481, 'n_estimators': 305, 'num_leaves': 38, 'max_depth': 85, 'subsample': 0.6627251496475123, 'colsample_bytree': 0.9010182078999452, 'reg_alpha': 10.430342090973719, 'reg_lambda': 80.30564603521819, 'min_child_samples': 77, 'min_child_weight': 8.439667261117533}. Best is trial 55 with value: 0.8338710689849979.\u001b[0m\n",
            "\u001b[32m[I 2022-12-16 16:28:36,740]\u001b[0m Trial 117 finished with value: 0.8327537505492437 and parameters: {'boosting_type': 'dart', 'learning_rate': 0.07852107398666845, 'n_estimators': 272, 'num_leaves': 43, 'max_depth': 88, 'subsample': 0.7123246476806179, 'colsample_bytree': 0.9148290185864157, 'reg_alpha': 13.872836320387185, 'reg_lambda': 56.73569580819254, 'min_child_samples': 39, 'min_child_weight': 8.170812382225213}. Best is trial 55 with value: 0.8338710689849979.\u001b[0m\n",
            "\u001b[32m[I 2022-12-16 16:28:36,887]\u001b[0m Trial 118 finished with value: 0.6161634548992531 and parameters: {'boosting_type': 'dart', 'learning_rate': 0.07876317505587153, 'n_estimators': 306, 'num_leaves': 43, 'max_depth': 89, 'subsample': 0.7134215820342192, 'colsample_bytree': 0.8808883732004685, 'reg_alpha': 14.781326124458385, 'reg_lambda': 56.11755781909912, 'min_child_samples': 419, 'min_child_weight': 7.8834007798022565}. Best is trial 55 with value: 0.8338710689849979.\u001b[0m\n",
            "\u001b[32m[I 2022-12-16 16:28:37,643]\u001b[0m Trial 119 finished with value: 0.8338710689849979 and parameters: {'boosting_type': 'dart', 'learning_rate': 0.08299974274805962, 'n_estimators': 295, 'num_leaves': 46, 'max_depth': 94, 'subsample': 0.6261127722546942, 'colsample_bytree': 0.9098832281153694, 'reg_alpha': 20.57116081731627, 'reg_lambda': 68.55696382849433, 'min_child_samples': 31, 'min_child_weight': 7.719052256821975}. Best is trial 55 with value: 0.8338710689849979.\u001b[0m\n",
            "\u001b[32m[I 2022-12-16 16:28:38,326]\u001b[0m Trial 120 finished with value: 0.7879040863724813 and parameters: {'boosting_type': 'dart', 'learning_rate': 0.08590083877575354, 'n_estimators': 293, 'num_leaves': 55, 'max_depth': 94, 'subsample': 0.6135838450347948, 'colsample_bytree': 0.9069497591188248, 'reg_alpha': 30.597671415375252, 'reg_lambda': 71.58865355642922, 'min_child_samples': 68, 'min_child_weight': 7.704550434153228}. Best is trial 55 with value: 0.8338710689849979.\u001b[0m\n",
            "\u001b[32m[I 2022-12-16 16:28:39,017]\u001b[0m Trial 121 finished with value: 0.8338710689849979 and parameters: {'boosting_type': 'dart', 'learning_rate': 0.08269623532405931, 'n_estimators': 280, 'num_leaves': 46, 'max_depth': 91, 'subsample': 0.6659787801663277, 'colsample_bytree': 0.921594639999458, 'reg_alpha': 21.646668055115484, 'reg_lambda': 52.893707384456505, 'min_child_samples': 30, 'min_child_weight': 8.590669250127377}. Best is trial 55 with value: 0.8338710689849979.\u001b[0m\n",
            "\u001b[32m[I 2022-12-16 16:28:39,706]\u001b[0m Trial 122 finished with value: 0.8294017952419811 and parameters: {'boosting_type': 'dart', 'learning_rate': 0.08236599194575245, 'n_estimators': 280, 'num_leaves': 46, 'max_depth': 90, 'subsample': 0.6695910420306909, 'colsample_bytree': 0.9233877758644625, 'reg_alpha': 24.79269257926749, 'reg_lambda': 51.56228263969221, 'min_child_samples': 40, 'min_child_weight': 8.536323968277957}. Best is trial 55 with value: 0.8338710689849979.\u001b[0m\n",
            "\u001b[32m[I 2022-12-16 16:28:40,403]\u001b[0m Trial 123 finished with value: 0.8237838177138912 and parameters: {'boosting_type': 'dart', 'learning_rate': 0.07804604990310866, 'n_estimators': 279, 'num_leaves': 41, 'max_depth': 88, 'subsample': 0.6444364392147467, 'colsample_bytree': 0.9120145648382425, 'reg_alpha': 20.21869593518569, 'reg_lambda': 57.62138652559227, 'min_child_samples': 41, 'min_child_weight': 8.773432175921725}. Best is trial 55 with value: 0.8338710689849979.\u001b[0m\n",
            "\u001b[32m[I 2022-12-16 16:28:41,231]\u001b[0m Trial 124 finished with value: 0.8204130311970372 and parameters: {'boosting_type': 'dart', 'learning_rate': 0.08812773685321489, 'n_estimators': 318, 'num_leaves': 51, 'max_depth': 83, 'subsample': 0.6248612899951763, 'colsample_bytree': 0.9298516317907825, 'reg_alpha': 21.599472081132973, 'reg_lambda': 72.88766862230429, 'min_child_samples': 54, 'min_child_weight': 8.245979206297193}. Best is trial 55 with value: 0.8338710689849979.\u001b[0m\n",
            "\u001b[32m[I 2022-12-16 16:28:41,997]\u001b[0m Trial 125 finished with value: 0.8338710689849979 and parameters: {'boosting_type': 'dart', 'learning_rate': 0.08456891930545132, 'n_estimators': 303, 'num_leaves': 46, 'max_depth': 85, 'subsample': 0.6829695942415426, 'colsample_bytree': 0.9388271090552797, 'reg_alpha': 23.048681038329825, 'reg_lambda': 78.00605577468387, 'min_child_samples': 31, 'min_child_weight': 7.844571156483199}. Best is trial 55 with value: 0.8338710689849979.\u001b[0m\n",
            "\u001b[32m[I 2022-12-16 16:28:42,768]\u001b[0m Trial 126 finished with value: 0.8192894356914191 and parameters: {'boosting_type': 'dart', 'learning_rate': 0.08458623659061115, 'n_estimators': 305, 'num_leaves': 40, 'max_depth': 100, 'subsample': 0.6833758031719495, 'colsample_bytree': 0.9008033608761018, 'reg_alpha': 25.691894051523622, 'reg_lambda': 82.34975723354553, 'min_child_samples': 49, 'min_child_weight': 7.903079077613981}. Best is trial 55 with value: 0.8338710689849979.\u001b[0m\n",
            "\u001b[32m[I 2022-12-16 16:28:43,639]\u001b[0m Trial 127 finished with value: 0.8013872324398971 and parameters: {'boosting_type': 'dart', 'learning_rate': 0.0823434010830116, 'n_estimators': 335, 'num_leaves': 35, 'max_depth': 93, 'subsample': 0.6618993717461071, 'colsample_bytree': 0.945128410779048, 'reg_alpha': 28.56080676416726, 'reg_lambda': 76.60675836707438, 'min_child_samples': 61, 'min_child_weight': 1.8117910602162008}. Best is trial 55 with value: 0.8338710689849979.\u001b[0m\n",
            "\u001b[32m[I 2022-12-16 16:28:44,141]\u001b[0m Trial 128 finished with value: 0.7923608059757704 and parameters: {'boosting_type': 'dart', 'learning_rate': 0.08769531761638735, 'n_estimators': 292, 'num_leaves': 44, 'max_depth': 18, 'subsample': 0.6522090400930993, 'colsample_bytree': 0.9236015316254785, 'reg_alpha': 33.18160825201706, 'reg_lambda': 68.86032394292074, 'min_child_samples': 185, 'min_child_weight': 8.584821824324381}. Best is trial 55 with value: 0.8338710689849979.\u001b[0m\n",
            "\u001b[32m[I 2022-12-16 16:28:44,914]\u001b[0m Trial 129 finished with value: 0.8338710689849979 and parameters: {'boosting_type': 'dart', 'learning_rate': 0.08538622143861677, 'n_estimators': 300, 'num_leaves': 46, 'max_depth': 91, 'subsample': 0.6718563295791683, 'colsample_bytree': 0.9124866452525957, 'reg_alpha': 22.79559898985211, 'reg_lambda': 54.47381946541279, 'min_child_samples': 32, 'min_child_weight': 7.377247447958835}. Best is trial 55 with value: 0.8338710689849979.\u001b[0m\n",
            "\u001b[32m[I 2022-12-16 16:28:45,702]\u001b[0m Trial 130 finished with value: 0.8338710689849979 and parameters: {'boosting_type': 'dart', 'learning_rate': 0.08534405436947276, 'n_estimators': 305, 'num_leaves': 47, 'max_depth': 91, 'subsample': 0.6732969159732672, 'colsample_bytree': 0.9495847129407138, 'reg_alpha': 24.11408526187887, 'reg_lambda': 53.428178678585134, 'min_child_samples': 20, 'min_child_weight': 7.350429302656691}. Best is trial 55 with value: 0.8338710689849979.\u001b[0m\n",
            "\u001b[32m[I 2022-12-16 16:28:46,357]\u001b[0m Trial 131 finished with value: 0.8338710689849979 and parameters: {'boosting_type': 'dart', 'learning_rate': 0.0846437129952039, 'n_estimators': 267, 'num_leaves': 46, 'max_depth': 90, 'subsample': 0.6746684585172118, 'colsample_bytree': 0.9080424999683266, 'reg_alpha': 23.541160011783717, 'reg_lambda': 54.69585471445487, 'min_child_samples': 31, 'min_child_weight': 7.545042471275931}. Best is trial 55 with value: 0.8338710689849979.\u001b[0m\n",
            "\u001b[32m[I 2022-12-16 16:28:46,990]\u001b[0m Trial 132 finished with value: 0.8338710689849979 and parameters: {'boosting_type': 'dart', 'learning_rate': 0.08539864594404951, 'n_estimators': 268, 'num_leaves': 51, 'max_depth': 84, 'subsample': 0.678897747645778, 'colsample_bytree': 0.943106283470109, 'reg_alpha': 27.49606408583087, 'reg_lambda': 54.500105910020245, 'min_child_samples': 21, 'min_child_weight': 7.384455512937893}. Best is trial 55 with value: 0.8338710689849979.\u001b[0m\n",
            "\u001b[32m[I 2022-12-16 16:28:47,609]\u001b[0m Trial 133 finished with value: 0.8192643274119641 and parameters: {'boosting_type': 'dart', 'learning_rate': 0.09022522487008915, 'n_estimators': 267, 'num_leaves': 51, 'max_depth': 83, 'subsample': 0.6784867798591476, 'colsample_bytree': 0.9402069329008164, 'reg_alpha': 35.86363712464424, 'reg_lambda': 48.64336307502559, 'min_child_samples': 20, 'min_child_weight': 7.317259906344883}. Best is trial 55 with value: 0.8338710689849979.\u001b[0m\n",
            "\u001b[32m[I 2022-12-16 16:28:48,209]\u001b[0m Trial 134 finished with value: 0.7912372104701525 and parameters: {'boosting_type': 'dart', 'learning_rate': 0.07939500840073878, 'n_estimators': 349, 'num_leaves': 47, 'max_depth': 85, 'subsample': 0.6648767108969171, 'colsample_bytree': 0.9517034148637643, 'reg_alpha': 28.05040543979847, 'reg_lambda': 44.069442667420965, 'min_child_samples': 219, 'min_child_weight': 7.089404350491717}. Best is trial 55 with value: 0.8338710689849979.\u001b[0m\n",
            "\u001b[32m[I 2022-12-16 16:28:48,831]\u001b[0m Trial 135 finished with value: 0.8316301550436258 and parameters: {'boosting_type': 'dart', 'learning_rate': 0.0825947281780534, 'n_estimators': 257, 'num_leaves': 56, 'max_depth': 87, 'subsample': 0.6850912853590814, 'colsample_bytree': 0.9288039406890558, 'reg_alpha': 19.969835137868333, 'reg_lambda': 64.23199827098678, 'min_child_samples': 43, 'min_child_weight': 7.905387469695182}. Best is trial 55 with value: 0.8338710689849979.\u001b[0m\n",
            "\u001b[32m[I 2022-12-16 16:28:49,295]\u001b[0m Trial 136 finished with value: 0.6161634548992531 and parameters: {'boosting_type': 'dart', 'learning_rate': 0.07585044753915639, 'n_estimators': 285, 'num_leaves': 46, 'max_depth': 91, 'subsample': 0.6405583032473221, 'colsample_bytree': 0.9173562809687583, 'reg_alpha': 73.51660328187893, 'reg_lambda': 53.6333389135522, 'min_child_samples': 36, 'min_child_weight': 7.702993822601395}. Best is trial 55 with value: 0.8338710689849979.\u001b[0m\n",
            "\u001b[32m[I 2022-12-16 16:28:49,976]\u001b[0m Trial 137 finished with value: 0.8114242671520934 and parameters: {'boosting_type': 'dart', 'learning_rate': 0.08634468912270112, 'n_estimators': 276, 'num_leaves': 54, 'max_depth': 90, 'subsample': 0.6717201844646642, 'colsample_bytree': 0.9213973354119285, 'reg_alpha': 23.192819947228305, 'reg_lambda': 51.022920949018015, 'min_child_samples': 51, 'min_child_weight': 8.293436524083775}. Best is trial 55 with value: 0.8338710689849979.\u001b[0m\n",
            "\u001b[32m[I 2022-12-16 16:28:50,759]\u001b[0m Trial 138 finished with value: 0.8338710689849979 and parameters: {'boosting_type': 'dart', 'learning_rate': 0.0843904643925255, 'n_estimators': 306, 'num_leaves': 44, 'max_depth': 98, 'subsample': 0.6550591216053564, 'colsample_bytree': 0.9027595140449731, 'reg_alpha': 30.011920194445654, 'reg_lambda': 54.45477722602326, 'min_child_samples': 32, 'min_child_weight': 7.38885173610075}. Best is trial 55 with value: 0.8338710689849979.\u001b[0m\n",
            "\u001b[32m[I 2022-12-16 16:28:51,616]\u001b[0m Trial 139 finished with value: 0.8338710689849979 and parameters: {'boosting_type': 'dart', 'learning_rate': 0.09166996748825093, 'n_estimators': 322, 'num_leaves': 43, 'max_depth': 99, 'subsample': 0.6243793215864064, 'colsample_bytree': 0.879114358283131, 'reg_alpha': 18.46091763463353, 'reg_lambda': 91.34758020889646, 'min_child_samples': 34, 'min_child_weight': 8.109648597423282}. Best is trial 55 with value: 0.8338710689849979.\u001b[0m\n",
            "\u001b[32m[I 2022-12-16 16:28:52,592]\u001b[0m Trial 140 finished with value: 0.8002008662356411 and parameters: {'boosting_type': 'dart', 'learning_rate': 0.09202547838855414, 'n_estimators': 376, 'num_leaves': 43, 'max_depth': 97, 'subsample': 0.6941224056260631, 'colsample_bytree': 0.8784777442881617, 'reg_alpha': 30.473945567634367, 'reg_lambda': 85.22478847164068, 'min_child_samples': 59, 'min_child_weight': 8.1251860137262}. Best is trial 55 with value: 0.8338710689849979.\u001b[0m\n",
            "\u001b[32m[I 2022-12-16 16:28:53,327]\u001b[0m Trial 141 finished with value: 0.8338710689849979 and parameters: {'boosting_type': 'dart', 'learning_rate': 0.08491266521707198, 'n_estimators': 295, 'num_leaves': 46, 'max_depth': 84, 'subsample': 0.6246454549290712, 'colsample_bytree': 0.9548271841981646, 'reg_alpha': 23.807350036219336, 'reg_lambda': 95.29884024206581, 'min_child_samples': 32, 'min_child_weight': 7.5531806885754005}. Best is trial 55 with value: 0.8338710689849979.\u001b[0m\n",
            "\u001b[32m[I 2022-12-16 16:28:54,243]\u001b[0m Trial 142 finished with value: 0.8338710689849979 and parameters: {'boosting_type': 'dart', 'learning_rate': 0.08886283448271712, 'n_estimators': 330, 'num_leaves': 44, 'max_depth': 98, 'subsample': 0.6179813956600122, 'colsample_bytree': 0.8994458113094765, 'reg_alpha': 17.708422940390236, 'reg_lambda': 92.02764477200039, 'min_child_samples': 34, 'min_child_weight': 8.456814420805141}. Best is trial 55 with value: 0.8338710689849979.\u001b[0m\n",
            "\u001b[32m[I 2022-12-16 16:28:55,120]\u001b[0m Trial 143 finished with value: 0.8035590986127674 and parameters: {'boosting_type': 'dart', 'learning_rate': 0.08869089293690034, 'n_estimators': 329, 'num_leaves': 49, 'max_depth': 94, 'subsample': 0.6118285207717159, 'colsample_bytree': 0.9140469053553906, 'reg_alpha': 25.087764982878344, 'reg_lambda': 59.2468323173939, 'min_child_samples': 45, 'min_child_weight': 7.745441304847141}. Best is trial 55 with value: 0.8338710689849979.\u001b[0m\n",
            "\u001b[32m[I 2022-12-16 16:28:55,902]\u001b[0m Trial 144 finished with value: 0.8338710689849979 and parameters: {'boosting_type': 'dart', 'learning_rate': 0.08036270894243729, 'n_estimators': 300, 'num_leaves': 39, 'max_depth': 93, 'subsample': 0.6559188587158874, 'colsample_bytree': 0.9012930133009033, 'reg_alpha': 21.328137702535923, 'reg_lambda': 99.66720940067393, 'min_child_samples': 32, 'min_child_weight': 8.445093126464537}. Best is trial 55 with value: 0.8338710689849979.\u001b[0m\n",
            "\u001b[32m[I 2022-12-16 16:28:56,670]\u001b[0m Trial 145 finished with value: 0.8226476680685456 and parameters: {'boosting_type': 'dart', 'learning_rate': 0.08012752686750144, 'n_estimators': 298, 'num_leaves': 47, 'max_depth': 92, 'subsample': 0.6729452914090117, 'colsample_bytree': 0.9379502374253319, 'reg_alpha': 22.324467422340117, 'reg_lambda': 49.34988610576838, 'min_child_samples': 45, 'min_child_weight': 7.524832626924779}. Best is trial 55 with value: 0.8338710689849979.\u001b[0m\n",
            "\u001b[32m[I 2022-12-16 16:28:57,394]\u001b[0m Trial 146 finished with value: 0.8338710689849979 and parameters: {'boosting_type': 'dart', 'learning_rate': 0.0816624370939981, 'n_estimators': 289, 'num_leaves': 46, 'max_depth': 90, 'subsample': 0.6481259124663746, 'colsample_bytree': 0.9103786957348616, 'reg_alpha': 27.129246382772173, 'reg_lambda': 53.92734190637542, 'min_child_samples': 21, 'min_child_weight': 7.125870879342903}. Best is trial 55 with value: 0.8338710689849979.\u001b[0m\n",
            "\u001b[32m[I 2022-12-16 16:28:58,054]\u001b[0m Trial 147 finished with value: 0.8338710689849979 and parameters: {'boosting_type': 'dart', 'learning_rate': 0.0859274321275375, 'n_estimators': 263, 'num_leaves': 46, 'max_depth': 88, 'subsample': 0.6464518790623254, 'colsample_bytree': 0.9112326178070603, 'reg_alpha': 26.26906237390086, 'reg_lambda': 53.84406956786271, 'min_child_samples': 20, 'min_child_weight': 6.888680434012291}. Best is trial 55 with value: 0.8338710689849979.\u001b[0m\n",
            "\u001b[32m[I 2022-12-16 16:28:58,669]\u001b[0m Trial 148 finished with value: 0.7991400414286611 and parameters: {'boosting_type': 'dart', 'learning_rate': 0.024239049207315778, 'n_estimators': 277, 'num_leaves': 61, 'max_depth': 88, 'subsample': 0.6987690420580948, 'colsample_bytree': 0.930030450395614, 'reg_alpha': 12.3546484342538, 'reg_lambda': 67.98080789433189, 'min_child_samples': 66, 'min_child_weight': 8.019244976642623}. Best is trial 55 with value: 0.8338710689849979.\u001b[0m\n",
            "\u001b[32m[I 2022-12-16 16:28:58,830]\u001b[0m Trial 149 finished with value: 0.6161634548992531 and parameters: {'boosting_type': 'dart', 'learning_rate': 0.09124521791427267, 'n_estimators': 312, 'num_leaves': 44, 'max_depth': 82, 'subsample': 0.618605226992551, 'colsample_bytree': 0.9630614071440045, 'reg_alpha': 17.095297133296995, 'reg_lambda': 93.64814111728572, 'min_child_samples': 498, 'min_child_weight': 6.951755748122366}. Best is trial 55 with value: 0.8338710689849979.\u001b[0m\n",
            "\u001b[32m[I 2022-12-16 16:28:59,773]\u001b[0m Trial 150 finished with value: 0.8338710689849979 and parameters: {'boosting_type': 'dart', 'learning_rate': 0.08319083413856516, 'n_estimators': 340, 'num_leaves': 40, 'max_depth': 99, 'subsample': 0.6328011671068732, 'colsample_bytree': 0.9540308740832377, 'reg_alpha': 19.31251365662392, 'reg_lambda': 99.65975039632089, 'min_child_samples': 36, 'min_child_weight': 8.650986709314175}. Best is trial 55 with value: 0.8338710689849979.\u001b[0m\n",
            "\u001b[32m[I 2022-12-16 16:29:00,368]\u001b[0m Trial 151 finished with value: 0.8338710689849979 and parameters: {'boosting_type': 'dart', 'learning_rate': 0.08430701976603176, 'n_estimators': 253, 'num_leaves': 50, 'max_depth': 92, 'subsample': 0.6366197861174274, 'colsample_bytree': 0.9086675171689553, 'reg_alpha': 26.184767021582235, 'reg_lambda': 45.425494203560206, 'min_child_samples': 29, 'min_child_weight': 7.815910317297838}. Best is trial 55 with value: 0.8338710689849979.\u001b[0m\n",
            "\u001b[32m[I 2022-12-16 16:29:01,860]\u001b[0m Trial 152 finished with value: 0.8338710689849979 and parameters: {'boosting_type': 'dart', 'learning_rate': 0.08359929615668366, 'n_estimators': 265, 'num_leaves': 50, 'max_depth': 91, 'subsample': 0.6390087786261521, 'colsample_bytree': 0.9397460114102447, 'reg_alpha': 23.787000628936937, 'reg_lambda': 47.40824361389671, 'min_child_samples': 21, 'min_child_weight': 6.758003057613036}. Best is trial 55 with value: 0.8338710689849979.\u001b[0m\n",
            "\u001b[32m[I 2022-12-16 16:29:04,469]\u001b[0m Trial 153 finished with value: 0.8226602222082733 and parameters: {'boosting_type': 'dart', 'learning_rate': 0.08394943897224648, 'n_estimators': 342, 'num_leaves': 41, 'max_depth': 94, 'subsample': 0.6014769490878692, 'colsample_bytree': 0.9488685728633824, 'reg_alpha': 23.811062502539848, 'reg_lambda': 65.39446204813004, 'min_child_samples': 44, 'min_child_weight': 7.3540863733585}. Best is trial 55 with value: 0.8338710689849979.\u001b[0m\n",
            "\u001b[32m[I 2022-12-16 16:29:05,233]\u001b[0m Trial 154 finished with value: 0.8204130311970372 and parameters: {'boosting_type': 'dart', 'learning_rate': 0.08697010566735323, 'n_estimators': 306, 'num_leaves': 48, 'max_depth': 85, 'subsample': 0.6589280188608471, 'colsample_bytree': 0.9322171022585396, 'reg_alpha': 29.12273804732378, 'reg_lambda': 54.97011459674798, 'min_child_samples': 51, 'min_child_weight': 0.18342551044623434}. Best is trial 55 with value: 0.8338710689849979.\u001b[0m\n",
            "\u001b[32m[I 2022-12-16 16:29:05,860]\u001b[0m Trial 155 finished with value: 0.8035528215429038 and parameters: {'boosting_type': 'dart', 'learning_rate': 0.08759194552728176, 'n_estimators': 287, 'num_leaves': 54, 'max_depth': 89, 'subsample': 0.706173134352082, 'colsample_bytree': 0.9225227344296814, 'reg_alpha': 44.575742987101485, 'reg_lambda': 60.79221308126248, 'min_child_samples': 28, 'min_child_weight': 8.870594794589893}. Best is trial 55 with value: 0.8338710689849979.\u001b[0m\n",
            "\u001b[32m[I 2022-12-16 16:29:06,676]\u001b[0m Trial 156 finished with value: 0.8136714581633294 and parameters: {'boosting_type': 'dart', 'learning_rate': 0.08955084101293584, 'n_estimators': 320, 'num_leaves': 44, 'max_depth': 99, 'subsample': 0.624039546782503, 'colsample_bytree': 0.8993074202071114, 'reg_alpha': 31.870340665786106, 'reg_lambda': 94.44282605611552, 'min_child_samples': 37, 'min_child_weight': 7.549262166628399}. Best is trial 55 with value: 0.8338710689849979.\u001b[0m\n",
            "\u001b[32m[I 2022-12-16 16:29:07,539]\u001b[0m Trial 157 finished with value: 0.8338710689849979 and parameters: {'boosting_type': 'dart', 'learning_rate': 0.08926023093171502, 'n_estimators': 323, 'num_leaves': 45, 'max_depth': 98, 'subsample': 0.6850653703297362, 'colsample_bytree': 0.8849716857139643, 'reg_alpha': 22.508401937711778, 'reg_lambda': 91.7094388167507, 'min_child_samples': 32, 'min_child_weight': 7.363712624256671}. Best is trial 55 with value: 0.8338710689849979.\u001b[0m\n",
            "\u001b[32m[I 2022-12-16 16:29:08,350]\u001b[0m Trial 158 finished with value: 0.8114242671520934 and parameters: {'boosting_type': 'dart', 'learning_rate': 0.08799341378873493, 'n_estimators': 311, 'num_leaves': 52, 'max_depth': 95, 'subsample': 0.6752468668436353, 'colsample_bytree': 0.88411641288063, 'reg_alpha': 21.832782978978, 'reg_lambda': 57.54169956450036, 'min_child_samples': 55, 'min_child_weight': 7.318986692928972}. Best is trial 55 with value: 0.8338710689849979.\u001b[0m\n",
            "\u001b[32m[I 2022-12-16 16:29:09,124]\u001b[0m Trial 159 finished with value: 0.8338710689849979 and parameters: {'boosting_type': 'dart', 'learning_rate': 0.08497658641398259, 'n_estimators': 298, 'num_leaves': 43, 'max_depth': 79, 'subsample': 0.6210099951698302, 'colsample_bytree': 0.8317159080799976, 'reg_alpha': 18.326081144130875, 'reg_lambda': 89.52188366122881, 'min_child_samples': 36, 'min_child_weight': 8.42382095970864}. Best is trial 55 with value: 0.8338710689849979.\u001b[0m\n",
            "\u001b[32m[I 2022-12-16 16:29:09,904]\u001b[0m Trial 160 finished with value: 0.8237712635741635 and parameters: {'boosting_type': 'dart', 'learning_rate': 0.07725103663831615, 'n_estimators': 300, 'num_leaves': 57, 'max_depth': 82, 'subsample': 0.8174460163733019, 'colsample_bytree': 0.7524036110191373, 'reg_alpha': 10.257979069608222, 'reg_lambda': 79.85221594880757, 'min_child_samples': 45, 'min_child_weight': 8.285687132631388}. Best is trial 55 with value: 0.8338710689849979.\u001b[0m\n",
            "\u001b[32m[I 2022-12-16 16:29:10,731]\u001b[0m Trial 161 finished with value: 0.8338710689849979 and parameters: {'boosting_type': 'dart', 'learning_rate': 0.08139102053962084, 'n_estimators': 304, 'num_leaves': 42, 'max_depth': 86, 'subsample': 0.6653938213645765, 'colsample_bytree': 0.8905251390778597, 'reg_alpha': 16.274273796344076, 'reg_lambda': 50.61491027149093, 'min_child_samples': 30, 'min_child_weight': 7.603622030937013}. Best is trial 55 with value: 0.8338710689849979.\u001b[0m\n",
            "\u001b[32m[I 2022-12-16 16:29:11,502]\u001b[0m Trial 162 finished with value: 0.8338710689849979 and parameters: {'boosting_type': 'dart', 'learning_rate': 0.08184193002044288, 'n_estimators': 288, 'num_leaves': 47, 'max_depth': 90, 'subsample': 0.6683924691451082, 'colsample_bytree': 0.9076887253639817, 'reg_alpha': 15.526195432994502, 'reg_lambda': 73.79535347740736, 'min_child_samples': 21, 'min_child_weight': 7.881789776972948}. Best is trial 55 with value: 0.8338710689849979.\u001b[0m\n",
            "\u001b[32m[I 2022-12-16 16:29:12,249]\u001b[0m Trial 163 finished with value: 0.8338710689849979 and parameters: {'boosting_type': 'dart', 'learning_rate': 0.08088254464134462, 'n_estimators': 284, 'num_leaves': 48, 'max_depth': 87, 'subsample': 0.6935163798219875, 'colsample_bytree': 0.8938739021244847, 'reg_alpha': 16.327897400925163, 'reg_lambda': 78.37617589654893, 'min_child_samples': 26, 'min_child_weight': 7.932769740545329}. Best is trial 55 with value: 0.8338710689849979.\u001b[0m\n",
            "\u001b[32m[I 2022-12-16 16:29:12,972]\u001b[0m Trial 164 finished with value: 0.8338710689849979 and parameters: {'boosting_type': 'dart', 'learning_rate': 0.080041237316381, 'n_estimators': 282, 'num_leaves': 48, 'max_depth': 92, 'subsample': 0.6976900307133136, 'colsample_bytree': 0.9177819467890995, 'reg_alpha': 13.995281936459378, 'reg_lambda': 74.28457477246874, 'min_child_samples': 21, 'min_child_weight': 7.9712481790606775}. Best is trial 55 with value: 0.8338710689849979.\u001b[0m\n",
            "\u001b[32m[I 2022-12-16 16:29:13,929]\u001b[0m Trial 165 finished with value: 0.8316364321134895 and parameters: {'boosting_type': 'dart', 'learning_rate': 0.08645968690740607, 'n_estimators': 277, 'num_leaves': 49, 'max_depth': 94, 'subsample': 0.6934157902497394, 'colsample_bytree': 0.9191827674682226, 'reg_alpha': 13.01128852068374, 'reg_lambda': 79.36448304092505, 'min_child_samples': 40, 'min_child_weight': 8.046746833240038}. Best is trial 55 with value: 0.8338710689849979.\u001b[0m\n",
            "\u001b[32m[I 2022-12-16 16:29:14,741]\u001b[0m Trial 166 finished with value: 0.8338710689849979 and parameters: {'boosting_type': 'dart', 'learning_rate': 0.0861947413426227, 'n_estimators': 271, 'num_leaves': 52, 'max_depth': 45, 'subsample': 0.6808039688757073, 'colsample_bytree': 0.9280707137726806, 'reg_alpha': 20.18932483512516, 'reg_lambda': 75.13582309610977, 'min_child_samples': 20, 'min_child_weight': 8.217107905473375}. Best is trial 55 with value: 0.8338710689849979.\u001b[0m\n",
            "\u001b[32m[I 2022-12-16 16:29:15,385]\u001b[0m Trial 167 finished with value: 0.8338710689849979 and parameters: {'boosting_type': 'dart', 'learning_rate': 0.08617641500919704, 'n_estimators': 269, 'num_leaves': 52, 'max_depth': 95, 'subsample': 0.6820610726293149, 'colsample_bytree': 0.9297190858957305, 'reg_alpha': 19.91278918204217, 'reg_lambda': 69.43233384489761, 'min_child_samples': 20, 'min_child_weight': 7.759742392587514}. Best is trial 55 with value: 0.8338710689849979.\u001b[0m\n",
            "\u001b[32m[I 2022-12-16 16:29:16,017]\u001b[0m Trial 168 finished with value: 0.8204130311970372 and parameters: {'boosting_type': 'dart', 'learning_rate': 0.09055512578046031, 'n_estimators': 270, 'num_leaves': 51, 'max_depth': 95, 'subsample': 0.7061792001647991, 'colsample_bytree': 0.944607459696316, 'reg_alpha': 24.816391512032226, 'reg_lambda': 65.8836271679549, 'min_child_samples': 49, 'min_child_weight': 7.6974451652013425}. Best is trial 55 with value: 0.8338710689849979.\u001b[0m\n",
            "\u001b[32m[I 2022-12-16 16:29:16,641]\u001b[0m Trial 169 finished with value: 0.7912372104701525 and parameters: {'boosting_type': 'dart', 'learning_rate': 0.08920053102331962, 'n_estimators': 325, 'num_leaves': 45, 'max_depth': 97, 'subsample': 0.6444156984673792, 'colsample_bytree': 0.8080283692128837, 'reg_alpha': 26.026098285811166, 'reg_lambda': 85.08355167729599, 'min_child_samples': 145, 'min_child_weight': 8.672833426534392}. Best is trial 55 with value: 0.8338710689849979.\u001b[0m\n",
            "\u001b[32m[I 2022-12-16 16:29:17,638]\u001b[0m Trial 170 finished with value: 0.8338710689849979 and parameters: {'boosting_type': 'dart', 'learning_rate': 0.07375637617756776, 'n_estimators': 358, 'num_leaves': 37, 'max_depth': 80, 'subsample': 0.6326199490298209, 'colsample_bytree': 0.8302865669526323, 'reg_alpha': 21.73881671927912, 'reg_lambda': 99.4198659894984, 'min_child_samples': 36, 'min_child_weight': 6.920730707804662}. Best is trial 55 with value: 0.8338710689849979.\u001b[0m\n",
            "\u001b[32m[I 2022-12-16 16:29:18,792]\u001b[0m Trial 171 finished with value: 0.8338710689849979 and parameters: {'boosting_type': 'dart', 'learning_rate': 0.07330611683965431, 'n_estimators': 398, 'num_leaves': 42, 'max_depth': 85, 'subsample': 0.6323135598737601, 'colsample_bytree': 0.959467971873857, 'reg_alpha': 23.980315363785213, 'reg_lambda': 96.88131461355165, 'min_child_samples': 36, 'min_child_weight': 7.050125697377553}. Best is trial 55 with value: 0.8338710689849979.\u001b[0m\n",
            "\u001b[32m[I 2022-12-16 16:29:19,582]\u001b[0m Trial 172 finished with value: 0.8338710689849979 and parameters: {'boosting_type': 'dart', 'learning_rate': 0.09158077516875565, 'n_estimators': 295, 'num_leaves': 45, 'max_depth': 83, 'subsample': 0.6081990509915572, 'colsample_bytree': 0.9622567909849112, 'reg_alpha': 18.372582996951667, 'reg_lambda': 90.75996809515065, 'min_child_samples': 35, 'min_child_weight': 7.172051931609601}. Best is trial 55 with value: 0.8338710689849979.\u001b[0m\n",
            "\u001b[32m[I 2022-12-16 16:29:20,716]\u001b[0m Trial 173 finished with value: 0.7980164459230432 and parameters: {'boosting_type': 'dart', 'learning_rate': 0.09282274867555458, 'n_estimators': 415, 'num_leaves': 62, 'max_depth': 86, 'subsample': 0.6089698210042489, 'colsample_bytree': 0.968176578674406, 'reg_alpha': 27.170973147200087, 'reg_lambda': 58.570968205154195, 'min_child_samples': 56, 'min_child_weight': 7.1684316561090515}. Best is trial 55 with value: 0.8338710689849979.\u001b[0m\n",
            "\u001b[32m[I 2022-12-16 16:29:21,670]\u001b[0m Trial 174 finished with value: 0.8294017952419811 and parameters: {'boosting_type': 'dart', 'learning_rate': 0.09149735893097741, 'n_estimators': 356, 'num_leaves': 59, 'max_depth': 99, 'subsample': 0.6367814236853497, 'colsample_bytree': 0.9786662868790488, 'reg_alpha': 27.337317916644437, 'reg_lambda': 91.10959782274418, 'min_child_samples': 40, 'min_child_weight': 6.5455477424833095}. Best is trial 55 with value: 0.8338710689849979.\u001b[0m\n",
            "\u001b[32m[I 2022-12-16 16:29:22,480]\u001b[0m Trial 175 finished with value: 0.8181407319063461 and parameters: {'boosting_type': 'dart', 'learning_rate': 0.08380446078646413, 'n_estimators': 312, 'num_leaves': 47, 'max_depth': 97, 'subsample': 0.8355820586522007, 'colsample_bytree': 0.8719775584878849, 'reg_alpha': 29.990820389881964, 'reg_lambda': 61.49296294649361, 'min_child_samples': 30, 'min_child_weight': 8.138205830740649}. Best is trial 55 with value: 0.8338710689849979.\u001b[0m\n",
            "\u001b[32m[I 2022-12-16 16:29:23,399]\u001b[0m Trial 176 finished with value: 0.828253091456908 and parameters: {'boosting_type': 'dart', 'learning_rate': 0.08360522230442814, 'n_estimators': 337, 'num_leaves': 38, 'max_depth': 92, 'subsample': 0.6505055429422981, 'colsample_bytree': 0.9089205232699036, 'reg_alpha': 21.260668038647648, 'reg_lambda': 45.66011115889995, 'min_child_samples': 35, 'min_child_weight': 6.72840545195645}. Best is trial 55 with value: 0.8338710689849979.\u001b[0m\n",
            "\u001b[32m[I 2022-12-16 16:29:24,322]\u001b[0m Trial 177 finished with value: 0.8338710689849979 and parameters: {'boosting_type': 'dart', 'learning_rate': 0.08777599396879088, 'n_estimators': 316, 'num_leaves': 56, 'max_depth': 100, 'subsample': 0.6585052519886329, 'colsample_bytree': 0.9032706179428381, 'reg_alpha': 9.979927077287346, 'reg_lambda': 72.14646957068699, 'min_child_samples': 29, 'min_child_weight': 4.432632233975425}. Best is trial 55 with value: 0.8338710689849979.\u001b[0m\n",
            "\u001b[32m[I 2022-12-16 16:29:25,072]\u001b[0m Trial 178 finished with value: 0.8114242671520934 and parameters: {'boosting_type': 'dart', 'learning_rate': 0.08503637220652117, 'n_estimators': 291, 'num_leaves': 46, 'max_depth': 90, 'subsample': 0.6719749653304931, 'colsample_bytree': 0.8994650113368103, 'reg_alpha': 23.608342863804605, 'reg_lambda': 55.141806890119355, 'min_child_samples': 49, 'min_child_weight': 7.485909946234054}. Best is trial 55 with value: 0.8338710689849979.\u001b[0m\n",
            "\u001b[32m[I 2022-12-16 16:29:25,889]\u001b[0m Trial 179 finished with value: 0.7856568953612454 and parameters: {'boosting_type': 'dart', 'learning_rate': 0.07884714744497301, 'n_estimators': 331, 'num_leaves': 39, 'max_depth': 99, 'subsample': 0.6492573656433491, 'colsample_bytree': 0.9545107434137207, 'reg_alpha': 27.541156194065167, 'reg_lambda': 99.4203498968225, 'min_child_samples': 68, 'min_child_weight': 7.259625954896593}. Best is trial 55 with value: 0.8338710689849979.\u001b[0m\n",
            "\u001b[32m[I 2022-12-16 16:29:26,356]\u001b[0m Trial 180 finished with value: 0.7912372104701525 and parameters: {'boosting_type': 'dart', 'learning_rate': 0.08104511801439855, 'n_estimators': 284, 'num_leaves': 48, 'max_depth': 88, 'subsample': 0.6999012184592197, 'colsample_bytree': 0.8879446496439691, 'reg_alpha': 15.659404214677826, 'reg_lambda': 73.41589323485151, 'min_child_samples': 239, 'min_child_weight': 7.834704969443288}. Best is trial 55 with value: 0.8338710689849979.\u001b[0m\n",
            "\u001b[32m[I 2022-12-16 16:29:26,971]\u001b[0m Trial 181 finished with value: 0.8338710689849979 and parameters: {'boosting_type': 'dart', 'learning_rate': 0.08203518813537895, 'n_estimators': 249, 'num_leaves': 50, 'max_depth': 43, 'subsample': 0.6647885540494161, 'colsample_bytree': 0.9129498197902364, 'reg_alpha': 16.38323848215454, 'reg_lambda': 75.89396133920354, 'min_child_samples': 21, 'min_child_weight': 7.914321592412727}. Best is trial 55 with value: 0.8338710689849979.\u001b[0m\n",
            "\u001b[32m[I 2022-12-16 16:29:27,842]\u001b[0m Trial 182 finished with value: 0.8327474734793799 and parameters: {'boosting_type': 'dart', 'learning_rate': 0.08463620723411057, 'n_estimators': 322, 'num_leaves': 39, 'max_depth': 98, 'subsample': 0.6205923336930481, 'colsample_bytree': 0.8284593818566701, 'reg_alpha': 18.618365002939303, 'reg_lambda': 89.59233450653855, 'min_child_samples': 36, 'min_child_weight': 7.466408259516211}. Best is trial 55 with value: 0.8338710689849979.\u001b[0m\n",
            "\u001b[32m[I 2022-12-16 16:29:28,657]\u001b[0m Trial 183 finished with value: 0.830500282468144 and parameters: {'boosting_type': 'dart', 'learning_rate': 0.08529716918979004, 'n_estimators': 304, 'num_leaves': 44, 'max_depth': 36, 'subsample': 0.6637846652973488, 'colsample_bytree': 0.9147057706436988, 'reg_alpha': 17.72125244306506, 'reg_lambda': 51.61872235444354, 'min_child_samples': 32, 'min_child_weight': 8.417094753000372}. Best is trial 55 with value: 0.8338710689849979.\u001b[0m\n",
            "\u001b[32m[I 2022-12-16 16:29:29,412]\u001b[0m Trial 184 finished with value: 0.8192894356914191 and parameters: {'boosting_type': 'dart', 'learning_rate': 0.08960254325446826, 'n_estimators': 298, 'num_leaves': 43, 'max_depth': 93, 'subsample': 0.6856945913385747, 'colsample_bytree': 0.9001499433308556, 'reg_alpha': 20.65948296788926, 'reg_lambda': 63.17196334392861, 'min_child_samples': 45, 'min_child_weight': 8.41105551488687}. Best is trial 55 with value: 0.8338710689849979.\u001b[0m\n",
            "\u001b[32m[I 2022-12-16 16:29:30,322]\u001b[0m Trial 185 finished with value: 0.8338710689849979 and parameters: {'boosting_type': 'dart', 'learning_rate': 0.0830268527631056, 'n_estimators': 340, 'num_leaves': 40, 'max_depth': 98, 'subsample': 0.6271774456195759, 'colsample_bytree': 0.9439551950209252, 'reg_alpha': 35.526361586865214, 'reg_lambda': 97.11557042595948, 'min_child_samples': 31, 'min_child_weight': 8.631844146011428}. Best is trial 55 with value: 0.8338710689849979.\u001b[0m\n",
            "\u001b[32m[I 2022-12-16 16:29:31,145]\u001b[0m Trial 186 finished with value: 0.8013872324398971 and parameters: {'boosting_type': 'dart', 'learning_rate': 0.08283606451464375, 'n_estimators': 334, 'num_leaves': 35, 'max_depth': 97, 'subsample': 0.629217609998819, 'colsample_bytree': 0.9485668461691478, 'reg_alpha': 34.58020264226726, 'reg_lambda': 97.42179509168074, 'min_child_samples': 57, 'min_child_weight': 4.13358251470381}. Best is trial 55 with value: 0.8338710689849979.\u001b[0m\n",
            "\u001b[32m[I 2022-12-16 16:29:32,648]\u001b[0m Trial 187 finished with value: 0.8338710689849979 and parameters: {'boosting_type': 'dart', 'learning_rate': 0.08745832393011707, 'n_estimators': 447, 'num_leaves': 57, 'max_depth': 95, 'subsample': 0.6066818147796207, 'colsample_bytree': 0.9372370902216567, 'reg_alpha': 11.25990997026408, 'reg_lambda': 69.86890167642383, 'min_child_samples': 30, 'min_child_weight': 7.675554130598871}. Best is trial 55 with value: 0.8338710689849979.\u001b[0m\n",
            "\u001b[32m[I 2022-12-16 16:29:33,782]\u001b[0m Trial 188 finished with value: 0.7867804908668633 and parameters: {'boosting_type': 'dart', 'learning_rate': 0.088720538365805, 'n_estimators': 460, 'num_leaves': 42, 'max_depth': 84, 'subsample': 0.6064387339050401, 'colsample_bytree': 0.9583564222958023, 'reg_alpha': 54.04237157021902, 'reg_lambda': 95.25855061256819, 'min_child_samples': 42, 'min_child_weight': 4.424984775220441}. Best is trial 55 with value: 0.8338710689849979.\u001b[0m\n",
            "\u001b[32m[I 2022-12-16 16:29:35,447]\u001b[0m Trial 189 finished with value: 0.8338710689849979 and parameters: {'boosting_type': 'dart', 'learning_rate': 0.07297572190131574, 'n_estimators': 478, 'num_leaves': 37, 'max_depth': 48, 'subsample': 0.6001189609519813, 'colsample_bytree': 0.7876993023349846, 'reg_alpha': 9.559761558547912, 'reg_lambda': 70.47661581672696, 'min_child_samples': 20, 'min_child_weight': 6.947050626833509}. Best is trial 55 with value: 0.8338710689849979.\u001b[0m\n",
            "\u001b[32m[I 2022-12-16 16:29:36,070]\u001b[0m Trial 190 finished with value: 0.8294017952419811 and parameters: {'boosting_type': 'dart', 'learning_rate': 0.07563704634521701, 'n_estimators': 259, 'num_leaves': 45, 'max_depth': 49, 'subsample': 0.6544076173888586, 'colsample_bytree': 0.7805917504335238, 'reg_alpha': 25.416216046935443, 'reg_lambda': 93.76133617781508, 'min_child_samples': 20, 'min_child_weight': 9.005164751205859}. Best is trial 55 with value: 0.8338710689849979.\u001b[0m\n",
            "\u001b[32m[I 2022-12-16 16:29:36,886]\u001b[0m Trial 191 finished with value: 0.8058062896240035 and parameters: {'boosting_type': 'dart', 'learning_rate': 0.07920581822033153, 'n_estimators': 323, 'num_leaves': 50, 'max_depth': 100, 'subsample': 0.6403493661017519, 'colsample_bytree': 0.7943052695409376, 'reg_alpha': 28.303407868579907, 'reg_lambda': 40.121718182382125, 'min_child_samples': 39, 'min_child_weight': 6.831562774553883}. Best is trial 55 with value: 0.8338710689849979.\u001b[0m\n",
            "\u001b[32m[I 2022-12-16 16:29:37,551]\u001b[0m Trial 192 finished with value: 0.8338710689849979 and parameters: {'boosting_type': 'dart', 'learning_rate': 0.08112602178914687, 'n_estimators': 266, 'num_leaves': 53, 'max_depth': 88, 'subsample': 0.6425951001567031, 'colsample_bytree': 0.889284338124604, 'reg_alpha': 17.599351195069673, 'reg_lambda': 88.2553423159462, 'min_child_samples': 20, 'min_child_weight': 7.820108471915561}. Best is trial 55 with value: 0.8338710689849979.\u001b[0m\n",
            "\u001b[32m[I 2022-12-16 16:29:37,701]\u001b[0m Trial 193 finished with value: 0.6161634548992531 and parameters: {'boosting_type': 'dart', 'learning_rate': 0.08571309934180582, 'n_estimators': 305, 'num_leaves': 46, 'max_depth': 93, 'subsample': 0.6782993034911705, 'colsample_bytree': 0.8978238723941874, 'reg_alpha': 22.47481945944086, 'reg_lambda': 59.09837978868687, 'min_child_samples': 358, 'min_child_weight': 8.237034782878897}. Best is trial 55 with value: 0.8338710689849979.\u001b[0m\n",
            "\u001b[32m[I 2022-12-16 16:29:38,336]\u001b[0m Trial 194 finished with value: 0.8338710689849979 and parameters: {'boosting_type': 'dart', 'learning_rate': 0.0856321710986763, 'n_estimators': 255, 'num_leaves': 47, 'max_depth': 44, 'subsample': 0.6608057571374595, 'colsample_bytree': 0.9199767707008784, 'reg_alpha': 19.081774542974166, 'reg_lambda': 87.50333924917366, 'min_child_samples': 27, 'min_child_weight': 8.028964854899291}. Best is trial 55 with value: 0.8338710689849979.\u001b[0m\n",
            "\u001b[32m[I 2022-12-16 16:29:39,102]\u001b[0m Trial 195 finished with value: 0.8058062896240035 and parameters: {'boosting_type': 'dart', 'learning_rate': 0.08744949214422702, 'n_estimators': 297, 'num_leaves': 44, 'max_depth': 91, 'subsample': 0.7152090121457758, 'colsample_bytree': 0.904835582665042, 'reg_alpha': 23.67188711247975, 'reg_lambda': 52.724344473074424, 'min_child_samples': 52, 'min_child_weight': 8.514704114731845}. Best is trial 55 with value: 0.8338710689849979.\u001b[0m\n",
            "\u001b[32m[I 2022-12-16 16:29:39,895]\u001b[0m Trial 196 finished with value: 0.8338710689849979 and parameters: {'boosting_type': 'dart', 'learning_rate': 0.08031076889288369, 'n_estimators': 291, 'num_leaves': 41, 'max_depth': 90, 'subsample': 0.6180952482028089, 'colsample_bytree': 0.8712341276223307, 'reg_alpha': 14.868924998554407, 'reg_lambda': 92.38180713920973, 'min_child_samples': 27, 'min_child_weight': 7.670788446045698}. Best is trial 55 with value: 0.8338710689849979.\u001b[0m\n",
            "\u001b[32m[I 2022-12-16 16:29:40,877]\u001b[0m Trial 197 finished with value: 0.8271420500910175 and parameters: {'boosting_type': 'dart', 'learning_rate': 0.08318801954330639, 'n_estimators': 347, 'num_leaves': 65, 'max_depth': 95, 'subsample': 0.690592063081273, 'colsample_bytree': 0.8771966429612787, 'reg_alpha': 13.247365147849228, 'reg_lambda': 56.15284775845054, 'min_child_samples': 45, 'min_child_weight': 8.729440264538077}. Best is trial 55 with value: 0.8338710689849979.\u001b[0m\n",
            "\u001b[32m[I 2022-12-16 16:29:42,475]\u001b[0m Trial 198 finished with value: 0.8338710689849979 and parameters: {'boosting_type': 'dart', 'learning_rate': 0.07718055865006192, 'n_estimators': 467, 'num_leaves': 40, 'max_depth': 48, 'subsample': 0.6178064449373568, 'colsample_bytree': 0.7626642791785542, 'reg_alpha': 8.995668505080328, 'reg_lambda': 95.92551066281342, 'min_child_samples': 30, 'min_child_weight': 7.579405806942258}. Best is trial 55 with value: 0.8338710689849979.\u001b[0m\n",
            "\u001b[32m[I 2022-12-16 16:29:43,221]\u001b[0m Trial 199 finished with value: 0.8338710689849979 and parameters: {'boosting_type': 'dart', 'learning_rate': 0.016319713871325123, 'n_estimators': 288, 'num_leaves': 46, 'max_depth': 46, 'subsample': 0.6153107718709789, 'colsample_bytree': 0.7442741407619171, 'reg_alpha': 24.773359174267156, 'reg_lambda': 53.66898150221749, 'min_child_samples': 31, 'min_child_weight': 7.47932245118106}. Best is trial 55 with value: 0.8338710689849979.\u001b[0m\n",
            "\u001b[32m[I 2022-12-16 16:29:43,842]\u001b[0m Trial 200 finished with value: 0.777810558031511 and parameters: {'boosting_type': 'dart', 'learning_rate': 0.003636870170626784, 'n_estimators': 276, 'num_leaves': 45, 'max_depth': 46, 'subsample': 0.619016941315167, 'colsample_bytree': 0.7519757960336111, 'reg_alpha': 21.01026303148372, 'reg_lambda': 67.2229566953872, 'min_child_samples': 43, 'min_child_weight': 7.6112239654834815}. Best is trial 55 with value: 0.8338710689849979.\u001b[0m\n",
            "\u001b[32m[I 2022-12-16 16:29:45,236]\u001b[0m Trial 201 finished with value: 0.8249325214989642 and parameters: {'boosting_type': 'dart', 'learning_rate': 0.018290521145453244, 'n_estimators': 443, 'num_leaves': 36, 'max_depth': 53, 'subsample': 0.6023618055398356, 'colsample_bytree': 0.7228466410518062, 'reg_alpha': 11.710154457524155, 'reg_lambda': 70.16207382350098, 'min_child_samples': 28, 'min_child_weight': 8.137291162858984}. Best is trial 55 with value: 0.8338710689849979.\u001b[0m\n",
            "\u001b[32m[I 2022-12-16 16:29:46,050]\u001b[0m Trial 202 finished with value: 0.8338710689849979 and parameters: {'boosting_type': 'dart', 'learning_rate': 0.08427837261729151, 'n_estimators': 308, 'num_leaves': 43, 'max_depth': 87, 'subsample': 0.6487613142140848, 'colsample_bytree': 0.8837814545615631, 'reg_alpha': 26.215311305432504, 'reg_lambda': 49.891148993443906, 'min_child_samples': 36, 'min_child_weight': 7.354335343182369}. Best is trial 55 with value: 0.8338710689849979.\u001b[0m\n",
            "\u001b[32m[I 2022-12-16 16:29:46,818]\u001b[0m Trial 203 finished with value: 0.8192894356914193 and parameters: {'boosting_type': 'dart', 'learning_rate': 0.08430846251400248, 'n_estimators': 310, 'num_leaves': 43, 'max_depth': 90, 'subsample': 0.6551566218466656, 'colsample_bytree': 0.9058077466600408, 'reg_alpha': 29.96373941694899, 'reg_lambda': 49.722271106817814, 'min_child_samples': 39, 'min_child_weight': 8.360278713155191}. Best is trial 55 with value: 0.8338710689849979.\u001b[0m\n",
            "\u001b[32m[I 2022-12-16 16:29:47,523]\u001b[0m Trial 204 finished with value: 0.8338710689849979 and parameters: {'boosting_type': 'dart', 'learning_rate': 0.08081929961645429, 'n_estimators': 273, 'num_leaves': 48, 'max_depth': 79, 'subsample': 0.6814500077398723, 'colsample_bytree': 0.8498835505507474, 'reg_alpha': 20.730089690647393, 'reg_lambda': 78.17681870372493, 'min_child_samples': 21, 'min_child_weight': 7.343255041525451}. Best is trial 55 with value: 0.8338710689849979.\u001b[0m\n",
            "\u001b[32m[I 2022-12-16 16:29:48,298]\u001b[0m Trial 205 finished with value: 0.8338710689849979 and parameters: {'boosting_type': 'dart', 'learning_rate': 0.08680265120864203, 'n_estimators': 296, 'num_leaves': 47, 'max_depth': 93, 'subsample': 0.6732083248478364, 'colsample_bytree': 0.8960799393675049, 'reg_alpha': 22.58750024079466, 'reg_lambda': 54.63282470956582, 'min_child_samples': 28, 'min_child_weight': 8.85392482688192}. Best is trial 55 with value: 0.8338710689849979.\u001b[0m\n",
            "\u001b[32m[I 2022-12-16 16:29:48,940]\u001b[0m Trial 206 finished with value: 0.8294017952419811 and parameters: {'boosting_type': 'dart', 'learning_rate': 0.08594935376129417, 'n_estimators': 264, 'num_leaves': 46, 'max_depth': 93, 'subsample': 0.6724124428964442, 'colsample_bytree': 0.9134945552359485, 'reg_alpha': 22.127821882523303, 'reg_lambda': 52.811529368002354, 'min_child_samples': 29, 'min_child_weight': 8.983545717875547}. Best is trial 55 with value: 0.8338710689849979.\u001b[0m\n",
            "\u001b[32m[I 2022-12-16 16:29:49,713]\u001b[0m Trial 207 finished with value: 0.8271420500910175 and parameters: {'boosting_type': 'dart', 'learning_rate': 0.08297919197385625, 'n_estimators': 301, 'num_leaves': 33, 'max_depth': 89, 'subsample': 0.6407532663932497, 'colsample_bytree': 0.9386603442812648, 'reg_alpha': 19.489575077463552, 'reg_lambda': 99.91536665943833, 'min_child_samples': 50, 'min_child_weight': 7.070722334476202}. Best is trial 55 with value: 0.8338710689849979.\u001b[0m\n",
            "\u001b[32m[I 2022-12-16 16:29:50,439]\u001b[0m Trial 208 finished with value: 0.8338710689849979 and parameters: {'boosting_type': 'dart', 'learning_rate': 0.08079930258184449, 'n_estimators': 293, 'num_leaves': 49, 'max_depth': 2, 'subsample': 0.6335431121975134, 'colsample_bytree': 0.9083177205800091, 'reg_alpha': 24.428295353785384, 'reg_lambda': 46.84794582644807, 'min_child_samples': 36, 'min_child_weight': 7.157570137253005}. Best is trial 55 with value: 0.8338710689849979.\u001b[0m\n",
            "\u001b[32m[I 2022-12-16 16:29:51,210]\u001b[0m Trial 209 finished with value: 0.8338710689849979 and parameters: {'boosting_type': 'dart', 'learning_rate': 0.09010156947302042, 'n_estimators': 290, 'num_leaves': 45, 'max_depth': 87, 'subsample': 0.65575475258413, 'colsample_bytree': 0.9252030824977406, 'reg_alpha': 25.09829360975973, 'reg_lambda': 54.04913131257119, 'min_child_samples': 20, 'min_child_weight': 7.158377151709153}. Best is trial 55 with value: 0.8338710689849979.\u001b[0m\n",
            "\u001b[32m[I 2022-12-16 16:29:51,902]\u001b[0m Trial 210 finished with value: 0.7912748728893353 and parameters: {'boosting_type': 'dart', 'learning_rate': 0.0897720935342672, 'n_estimators': 292, 'num_leaves': 49, 'max_depth': 86, 'subsample': 0.6341915258457869, 'colsample_bytree': 0.9092377256228539, 'reg_alpha': 25.303910758429122, 'reg_lambda': 44.4735021912112, 'min_child_samples': 62, 'min_child_weight': 7.1072852259596075}. Best is trial 55 with value: 0.8338710689849979.\u001b[0m\n",
            "\u001b[32m[I 2022-12-16 16:29:53,472]\u001b[0m Trial 211 finished with value: 0.8327537505492437 and parameters: {'boosting_type': 'dart', 'learning_rate': 0.07154793982470802, 'n_estimators': 481, 'num_leaves': 36, 'max_depth': 41, 'subsample': 0.6333803509091384, 'colsample_bytree': 0.9575875637574452, 'reg_alpha': 18.363719793259875, 'reg_lambda': 98.53449937524681, 'min_child_samples': 38, 'min_child_weight': 6.8960301990241}. Best is trial 55 with value: 0.8338710689849979.\u001b[0m\n",
            "\u001b[32m[I 2022-12-16 16:29:54,730]\u001b[0m Trial 212 finished with value: 0.8338710689849979 and parameters: {'boosting_type': 'dart', 'learning_rate': 0.07494122106656984, 'n_estimators': 392, 'num_leaves': 52, 'max_depth': 39, 'subsample': 0.6450929692945755, 'colsample_bytree': 0.8285154028052633, 'reg_alpha': 16.87297372431702, 'reg_lambda': 85.51317849817482, 'min_child_samples': 21, 'min_child_weight': 6.4693235899364305}. Best is trial 55 with value: 0.8338710689849979.\u001b[0m\n",
            "\u001b[32m[I 2022-12-16 16:29:55,241]\u001b[0m Trial 213 finished with value: 0.8338710689849979 and parameters: {'boosting_type': 'dart', 'learning_rate': 0.08326683543122158, 'n_estimators': 224, 'num_leaves': 44, 'max_depth': 91, 'subsample': 0.6478227585584942, 'colsample_bytree': 0.9356068251948279, 'reg_alpha': 22.948342914280886, 'reg_lambda': 82.25839846122159, 'min_child_samples': 31, 'min_child_weight': 8.53387542721233}. Best is trial 55 with value: 0.8338710689849979.\u001b[0m\n",
            "\u001b[32m[I 2022-12-16 16:29:55,756]\u001b[0m Trial 214 finished with value: 0.8215366267026551 and parameters: {'boosting_type': 'dart', 'learning_rate': 0.08438597543513923, 'n_estimators': 222, 'num_leaves': 44, 'max_depth': 91, 'subsample': 0.6245623033648987, 'colsample_bytree': 0.9100308104283114, 'reg_alpha': 22.743663422144863, 'reg_lambda': 92.55189968647383, 'min_child_samples': 44, 'min_child_weight': 8.44661875420319}. Best is trial 55 with value: 0.8338710689849979.\u001b[0m\n",
            "\u001b[32m[I 2022-12-16 16:29:56,950]\u001b[0m Trial 215 finished with value: 0.8293829640323898 and parameters: {'boosting_type': 'dart', 'learning_rate': 0.08130329880872675, 'n_estimators': 400, 'num_leaves': 42, 'max_depth': 84, 'subsample': 0.6712786787147154, 'colsample_bytree': 0.9535011081632245, 'reg_alpha': 16.00647905792963, 'reg_lambda': 75.39119072292077, 'min_child_samples': 39, 'min_child_weight': 7.926637813171646}. Best is trial 55 with value: 0.8338710689849979.\u001b[0m\n",
            "\u001b[32m[I 2022-12-16 16:29:58,445]\u001b[0m Trial 216 finished with value: 0.8338710689849979 and parameters: {'boosting_type': 'dart', 'learning_rate': 0.08756727828357135, 'n_estimators': 447, 'num_leaves': 52, 'max_depth': 43, 'subsample': 0.689768126945683, 'colsample_bytree': 0.9288769100823936, 'reg_alpha': 10.926819285986726, 'reg_lambda': 72.7700778801733, 'min_child_samples': 20, 'min_child_weight': 8.347232823439095}. Best is trial 55 with value: 0.8338710689849979.\u001b[0m\n",
            "\u001b[32m[I 2022-12-16 16:29:59,205]\u001b[0m Trial 217 finished with value: 0.8338710689849979 and parameters: {'boosting_type': 'dart', 'learning_rate': 0.09235884407338593, 'n_estimators': 281, 'num_leaves': 54, 'max_depth': 81, 'subsample': 0.6998472496906419, 'colsample_bytree': 0.8937246672272694, 'reg_alpha': 7.788947525715669, 'reg_lambda': 72.42131655117842, 'min_child_samples': 22, 'min_child_weight': 4.459228044884969}. Best is trial 55 with value: 0.8338710689849979.\u001b[0m\n",
            "\u001b[32m[I 2022-12-16 16:29:59,997]\u001b[0m Trial 218 finished with value: 0.8338710689849979 and parameters: {'boosting_type': 'dart', 'learning_rate': 0.0661626137573663, 'n_estimators': 281, 'num_leaves': 54, 'max_depth': 81, 'subsample': 0.7017875091163072, 'colsample_bytree': 0.8934224978571178, 'reg_alpha': 7.403694296811468, 'reg_lambda': 74.84747633854188, 'min_child_samples': 21, 'min_child_weight': 3.83111478475876}. Best is trial 55 with value: 0.8338710689849979.\u001b[0m\n",
            "\u001b[32m[I 2022-12-16 16:30:00,580]\u001b[0m Trial 219 finished with value: 0.8338710689849979 and parameters: {'boosting_type': 'dart', 'learning_rate': 0.09291095016961494, 'n_estimators': 239, 'num_leaves': 46, 'max_depth': 88, 'subsample': 0.65618755412225, 'colsample_bytree': 0.9046382713684692, 'reg_alpha': 29.259009289558858, 'reg_lambda': 42.173713255196844, 'min_child_samples': 32, 'min_child_weight': 6.747705547723651}. Best is trial 55 with value: 0.8338710689849979.\u001b[0m\n",
            "\u001b[32m[I 2022-12-16 16:30:01,149]\u001b[0m Trial 220 finished with value: 0.8114242671520934 and parameters: {'boosting_type': 'dart', 'learning_rate': 0.08447745248379772, 'n_estimators': 250, 'num_leaves': 46, 'max_depth': 98, 'subsample': 0.6405605632513809, 'colsample_bytree': 0.9149686971900484, 'reg_alpha': 26.601927959780067, 'reg_lambda': 48.10978699271605, 'min_child_samples': 51, 'min_child_weight': 7.389176638127068}. Best is trial 55 with value: 0.8338710689849979.\u001b[0m\n",
            "\u001b[32m[I 2022-12-16 16:30:01,785]\u001b[0m Trial 221 finished with value: 0.8338710689849979 and parameters: {'boosting_type': 'dart', 'learning_rate': 0.07151932954691852, 'n_estimators': 245, 'num_leaves': 58, 'max_depth': 83, 'subsample': 0.6043119287042766, 'colsample_bytree': 0.8215018894900384, 'reg_alpha': 10.247874602627315, 'reg_lambda': 69.69674533764321, 'min_child_samples': 29, 'min_child_weight': 4.688008690557039}. Best is trial 55 with value: 0.8338710689849979.\u001b[0m\n",
            "\u001b[32m[I 2022-12-16 16:30:02,436]\u001b[0m Trial 222 finished with value: 0.8338710689849979 and parameters: {'boosting_type': 'dart', 'learning_rate': 0.07822000608598227, 'n_estimators': 263, 'num_leaves': 42, 'max_depth': 84, 'subsample': 0.6227606967935043, 'colsample_bytree': 0.9087186636478398, 'reg_alpha': 19.58611866346199, 'reg_lambda': 37.58506730262641, 'min_child_samples': 33, 'min_child_weight': 7.590205697152466}. Best is trial 55 with value: 0.8338710689849979.\u001b[0m\n",
            "\u001b[32m[I 2022-12-16 16:30:03,310]\u001b[0m Trial 223 finished with value: 0.8338710689849979 and parameters: {'boosting_type': 'dart', 'learning_rate': 0.08267708531545184, 'n_estimators': 319, 'num_leaves': 41, 'max_depth': 85, 'subsample': 0.6621970756808568, 'colsample_bytree': 0.8823351700294669, 'reg_alpha': 20.944340219882253, 'reg_lambda': 89.77689020749985, 'min_child_samples': 35, 'min_child_weight': 8.515530574703298}. Best is trial 55 with value: 0.8338710689849979.\u001b[0m\n",
            "\u001b[32m[I 2022-12-16 16:30:03,941]\u001b[0m Trial 224 finished with value: 0.8215240725629276 and parameters: {'boosting_type': 'dart', 'learning_rate': 0.07846715405246366, 'n_estimators': 259, 'num_leaves': 42, 'max_depth': 86, 'subsample': 0.6268017894080666, 'colsample_bytree': 0.8985012698815648, 'reg_alpha': 18.475906489303902, 'reg_lambda': 34.785370675109064, 'min_child_samples': 45, 'min_child_weight': 7.474696805647542}. Best is trial 55 with value: 0.8338710689849979.\u001b[0m\n",
            "\u001b[32m[I 2022-12-16 16:30:04,092]\u001b[0m Trial 225 finished with value: 0.6161634548992531 and parameters: {'boosting_type': 'dart', 'learning_rate': 0.07485223894674643, 'n_estimators': 380, 'num_leaves': 38, 'max_depth': 80, 'subsample': 0.6355933659995292, 'colsample_bytree': 0.8865223549164682, 'reg_alpha': 19.941640602557342, 'reg_lambda': 95.99139308292378, 'min_child_samples': 465, 'min_child_weight': 8.744147724140571}. Best is trial 55 with value: 0.8338710689849979.\u001b[0m\n",
            "\u001b[32m[I 2022-12-16 16:30:04,925]\u001b[0m Trial 226 finished with value: 0.6296466009666688 and parameters: {'boosting_type': 'dart', 'learning_rate': 0.08591179267825931, 'n_estimators': 431, 'num_leaves': 45, 'max_depth': 91, 'subsample': 0.6497104192122836, 'colsample_bytree': 0.9268443705149687, 'reg_alpha': 27.37775361831069, 'reg_lambda': 81.4594807645894, 'min_child_samples': 301, 'min_child_weight': 8.186197448434307}. Best is trial 55 with value: 0.8338710689849979.\u001b[0m\n",
            "\u001b[32m[I 2022-12-16 16:30:07,760]\u001b[0m Trial 227 finished with value: 0.828253091456908 and parameters: {'boosting_type': 'dart', 'learning_rate': 0.08794379034150296, 'n_estimators': 314, 'num_leaves': 47, 'max_depth': 28, 'subsample': 0.6484282876857829, 'colsample_bytree': 0.9191640799147512, 'reg_alpha': 30.982967370603568, 'reg_lambda': 83.19401032177167, 'min_child_samples': 29, 'min_child_weight': 8.12322031495554}. Best is trial 55 with value: 0.8338710689849979.\u001b[0m\n",
            "\u001b[32m[I 2022-12-16 16:30:08,926]\u001b[0m Trial 228 finished with value: 0.8338710689849979 and parameters: {'boosting_type': 'dart', 'learning_rate': 0.0802291094632139, 'n_estimators': 352, 'num_leaves': 51, 'max_depth': 95, 'subsample': 0.8033119693342301, 'colsample_bytree': 0.9296745099676568, 'reg_alpha': 14.829521693384834, 'reg_lambda': 98.06854630240926, 'min_child_samples': 21, 'min_child_weight': 7.911883900890956}. Best is trial 55 with value: 0.8338710689849979.\u001b[0m\n",
            "\u001b[32m[I 2022-12-16 16:30:09,275]\u001b[0m Trial 229 finished with value: 0.6161634548992531 and parameters: {'boosting_type': 'dart', 'learning_rate': 0.08580107273744433, 'n_estimators': 211, 'num_leaves': 44, 'max_depth': 95, 'subsample': 0.7988686470849568, 'colsample_bytree': 0.9377088104194113, 'reg_alpha': 88.66413756088035, 'reg_lambda': 98.40667554627663, 'min_child_samples': 38, 'min_child_weight': 8.61297852644903}. Best is trial 55 with value: 0.8338710689849979.\u001b[0m\n",
            "\u001b[32m[I 2022-12-16 16:30:10,361]\u001b[0m Trial 230 finished with value: 0.8215303496327915 and parameters: {'boosting_type': 'dart', 'learning_rate': 0.0834609031005414, 'n_estimators': 328, 'num_leaves': 54, 'max_depth': 97, 'subsample': 0.6829520313143795, 'colsample_bytree': 0.9458453430238273, 'reg_alpha': 5.210888655316655, 'reg_lambda': 30.256363379459284, 'min_child_samples': 45, 'min_child_weight': 7.809202869146937}. Best is trial 55 with value: 0.8338710689849979.\u001b[0m\n",
            "\u001b[32m[I 2022-12-16 16:30:11,406]\u001b[0m Trial 231 finished with value: 0.8338710689849979 and parameters: {'boosting_type': 'dart', 'learning_rate': 0.0702117731821675, 'n_estimators': 358, 'num_leaves': 50, 'max_depth': 40, 'subsample': 0.665733158106271, 'colsample_bytree': 0.9648537527660533, 'reg_alpha': 15.810653166302423, 'reg_lambda': 79.48388891036144, 'min_child_samples': 28, 'min_child_weight': 7.922193833288137}. Best is trial 55 with value: 0.8338710689849979.\u001b[0m\n",
            "\u001b[32m[I 2022-12-16 16:30:12,124]\u001b[0m Trial 232 finished with value: 0.8338710689849979 and parameters: {'boosting_type': 'dart', 'learning_rate': 0.0681951054036543, 'n_estimators': 273, 'num_leaves': 50, 'max_depth': 39, 'subsample': 0.6661156083530452, 'colsample_bytree': 0.9673092495277149, 'reg_alpha': 16.607843521920145, 'reg_lambda': 78.21399001117915, 'min_child_samples': 28, 'min_child_weight': 7.921756016596998}. Best is trial 55 with value: 0.8338710689849979.\u001b[0m\n",
            "\u001b[32m[I 2022-12-16 16:30:13,740]\u001b[0m Trial 233 finished with value: 0.8158872638252463 and parameters: {'boosting_type': 'dart', 'learning_rate': 0.0866627589611509, 'n_estimators': 488, 'num_leaves': 67, 'max_depth': 33, 'subsample': 0.6671308108650711, 'colsample_bytree': 0.7828196213475712, 'reg_alpha': 14.640610847310974, 'reg_lambda': 68.49685600240399, 'min_child_samples': 27, 'min_child_weight': 7.671207783256864}. Best is trial 55 with value: 0.8338710689849979.\u001b[0m\n",
            "\u001b[32m[I 2022-12-16 16:30:14,401]\u001b[0m Trial 234 finished with value: 0.8058000125541398 and parameters: {'boosting_type': 'dart', 'learning_rate': 0.06582950988229079, 'n_estimators': 272, 'num_leaves': 63, 'max_depth': 51, 'subsample': 0.6756311132991188, 'colsample_bytree': 0.7904813219863409, 'reg_alpha': 40.200292123056876, 'reg_lambda': 65.16927134995822, 'min_child_samples': 20, 'min_child_weight': 7.741509330091523}. Best is trial 55 with value: 0.8338710689849979.\u001b[0m\n",
            "\u001b[32m[I 2022-12-16 16:30:15,235]\u001b[0m Trial 235 finished with value: 0.8338710689849979 and parameters: {'boosting_type': 'dart', 'learning_rate': 0.07672520993271173, 'n_estimators': 292, 'num_leaves': 48, 'max_depth': 47, 'subsample': 0.6140107240976475, 'colsample_bytree': 0.7414634620270144, 'reg_alpha': 12.694269554243478, 'reg_lambda': 71.5823140200762, 'min_child_samples': 28, 'min_child_weight': 7.4059531894349915}. Best is trial 55 with value: 0.8338710689849979.\u001b[0m\n",
            "\u001b[32m[I 2022-12-16 16:30:16,024]\u001b[0m Trial 236 finished with value: 0.8024355031071495 and parameters: {'boosting_type': 'dart', 'learning_rate': 0.08021605354205863, 'n_estimators': 303, 'num_leaves': 48, 'max_depth': 89, 'subsample': 0.6252963905667634, 'colsample_bytree': 0.6774708808005478, 'reg_alpha': 22.8313290087554, 'reg_lambda': 92.19862387722235, 'min_child_samples': 37, 'min_child_weight': 7.313931878961844}. Best is trial 55 with value: 0.8338710689849979.\u001b[0m\n",
            "\u001b[32m[I 2022-12-16 16:30:17,807]\u001b[0m Trial 237 finished with value: 0.8338710689849979 and parameters: {'boosting_type': 'dart', 'learning_rate': 0.07656762115105077, 'n_estimators': 500, 'num_leaves': 56, 'max_depth': 46, 'subsample': 0.6000192144113579, 'colsample_bytree': 0.804314606130832, 'reg_alpha': 10.021407012248844, 'reg_lambda': 70.49418155665612, 'min_child_samples': 20, 'min_child_weight': 4.770781508892129}. Best is trial 55 with value: 0.8338710689849979.\u001b[0m\n",
            "\u001b[32m[I 2022-12-16 16:30:18,690]\u001b[0m Trial 238 finished with value: 0.8294017952419811 and parameters: {'boosting_type': 'dart', 'learning_rate': 0.08270054350700859, 'n_estimators': 319, 'num_leaves': 40, 'max_depth': 88, 'subsample': 0.6581974592877611, 'colsample_bytree': 0.8814326581456279, 'reg_alpha': 21.37832407784026, 'reg_lambda': 90.46431137529554, 'min_child_samples': 40, 'min_child_weight': 8.62119277431374}. Best is trial 55 with value: 0.8338710689849979.\u001b[0m\n",
            "\u001b[32m[I 2022-12-16 16:30:19,640]\u001b[0m Trial 239 finished with value: 0.8237838177138912 and parameters: {'boosting_type': 'dart', 'learning_rate': 0.08928699239882877, 'n_estimators': 341, 'num_leaves': 60, 'max_depth': 100, 'subsample': 0.6930445227748525, 'colsample_bytree': 0.8973768383560285, 'reg_alpha': 27.11974309389714, 'reg_lambda': 57.6612590737809, 'min_child_samples': 39, 'min_child_weight': 8.137447006687088}. Best is trial 55 with value: 0.8338710689849979.\u001b[0m\n",
            "\u001b[32m[I 2022-12-16 16:30:20,301]\u001b[0m Trial 240 finished with value: 0.8338710689849979 and parameters: {'boosting_type': 'dart', 'learning_rate': 0.08162141004574673, 'n_estimators': 254, 'num_leaves': 50, 'max_depth': 78, 'subsample': 0.6373955582168278, 'colsample_bytree': 0.9122303958169191, 'reg_alpha': 17.35694469560635, 'reg_lambda': 74.91304593469819, 'min_child_samples': 20, 'min_child_weight': 6.696929276120054}. Best is trial 55 with value: 0.8338710689849979.\u001b[0m\n",
            "\u001b[32m[I 2022-12-16 16:30:21,579]\u001b[0m Trial 241 finished with value: 0.8304940053982801 and parameters: {'boosting_type': 'dart', 'learning_rate': 0.09288422490537221, 'n_estimators': 371, 'num_leaves': 54, 'max_depth': 85, 'subsample': 0.7033012684878648, 'colsample_bytree': 0.8930795209975094, 'reg_alpha': 3.0946879996109384, 'reg_lambda': 55.856750674633375, 'min_child_samples': 20, 'min_child_weight': 6.423774720587313}. Best is trial 55 with value: 0.8338710689849979.\u001b[0m\n",
            "\u001b[32m[I 2022-12-16 16:30:22,197]\u001b[0m Trial 242 finished with value: 0.8215115184232001 and parameters: {'boosting_type': 'dart', 'learning_rate': 0.07918800925506818, 'n_estimators': 243, 'num_leaves': 41, 'max_depth': 83, 'subsample': 0.6547236137496604, 'colsample_bytree': 0.8377437152911287, 'reg_alpha': 28.626172879658682, 'reg_lambda': 42.90008633317995, 'min_child_samples': 33, 'min_child_weight': 6.6468091286085045}. Best is trial 55 with value: 0.8338710689849979.\u001b[0m\n",
            "\u001b[32m[I 2022-12-16 16:30:23,560]\u001b[0m Trial 243 finished with value: 0.8338710689849979 and parameters: {'boosting_type': 'dart', 'learning_rate': 0.073853201900465, 'n_estimators': 432, 'num_leaves': 49, 'max_depth': 96, 'subsample': 0.6106038334002294, 'colsample_bytree': 0.9825754493249098, 'reg_alpha': 16.13055029193061, 'reg_lambda': 76.8031037936319, 'min_child_samples': 30, 'min_child_weight': 6.963136060890012}. Best is trial 55 with value: 0.8338710689849979.\u001b[0m\n",
            "\u001b[32m[I 2022-12-16 16:30:24,349]\u001b[0m Trial 244 finished with value: 0.8058062896240035 and parameters: {'boosting_type': 'dart', 'learning_rate': 0.08246427869938425, 'n_estimators': 299, 'num_leaves': 46, 'max_depth': 92, 'subsample': 0.6790477476339379, 'colsample_bytree': 0.9191519445142334, 'reg_alpha': 23.93756503332762, 'reg_lambda': 51.831396750639655, 'min_child_samples': 49, 'min_child_weight': 7.5155523964487205}. Best is trial 55 with value: 0.8338710689849979.\u001b[0m\n",
            "\u001b[32m[I 2022-12-16 16:30:25,510]\u001b[0m Trial 245 finished with value: 0.8338710689849979 and parameters: {'boosting_type': 'dart', 'learning_rate': 0.07372537868458133, 'n_estimators': 391, 'num_leaves': 49, 'max_depth': 7, 'subsample': 0.6130926859357247, 'colsample_bytree': 0.845485635333736, 'reg_alpha': 24.154350760741394, 'reg_lambda': 84.98703998836237, 'min_child_samples': 32, 'min_child_weight': 7.077228716538878}. Best is trial 55 with value: 0.8338710689849979.\u001b[0m\n",
            "\u001b[32m[I 2022-12-16 16:30:26,575]\u001b[0m Trial 246 finished with value: 0.8338710689849979 and parameters: {'boosting_type': 'dart', 'learning_rate': 0.08899706525477902, 'n_estimators': 366, 'num_leaves': 48, 'max_depth': 18, 'subsample': 0.7118048702211472, 'colsample_bytree': 0.8385424338866718, 'reg_alpha': 20.013316873142802, 'reg_lambda': 95.07075946422981, 'min_child_samples': 20, 'min_child_weight': 8.290580868378171}. Best is trial 55 with value: 0.8338710689849979.\u001b[0m\n",
            "\u001b[32m[I 2022-12-16 16:30:27,635]\u001b[0m Trial 247 finished with value: 0.8294017952419811 and parameters: {'boosting_type': 'dart', 'learning_rate': 0.08256803317725224, 'n_estimators': 366, 'num_leaves': 40, 'max_depth': 81, 'subsample': 0.6275792194335357, 'colsample_bytree': 0.8333891842448271, 'reg_alpha': 17.95334741618187, 'reg_lambda': 96.54210178002012, 'min_child_samples': 37, 'min_child_weight': 4.195691365856728}. Best is trial 55 with value: 0.8338710689849979.\u001b[0m\n",
            "\u001b[32m[I 2022-12-16 16:30:29,251]\u001b[0m Trial 248 finished with value: 0.8215115184232001 and parameters: {'boosting_type': 'dart', 'learning_rate': 0.07971003384374781, 'n_estimators': 482, 'num_leaves': 37, 'max_depth': 51, 'subsample': 0.6108120115694788, 'colsample_bytree': 0.8686981219659086, 'reg_alpha': 15.326257071557471, 'reg_lambda': 88.52841785915162, 'min_child_samples': 31, 'min_child_weight': 8.025601624854945}. Best is trial 55 with value: 0.8338710689849979.\u001b[0m\n",
            "\u001b[32m[I 2022-12-16 16:30:29,794]\u001b[0m Trial 249 finished with value: 0.7822861088443914 and parameters: {'boosting_type': 'dart', 'learning_rate': 0.07463441979007081, 'n_estimators': 266, 'num_leaves': 56, 'max_depth': 45, 'subsample': 0.6300016064062045, 'colsample_bytree': 0.9430853920266461, 'reg_alpha': 61.70648975927517, 'reg_lambda': 97.06208235479212, 'min_child_samples': 20, 'min_child_weight': 7.813050702860763}. Best is trial 55 with value: 0.8338710689849979.\u001b[0m\n",
            "\u001b[32m[I 2022-12-16 16:30:30,460]\u001b[0m Trial 250 finished with value: 0.8192894356914191 and parameters: {'boosting_type': 'dart', 'learning_rate': 0.0850794995214335, 'n_estimators': 262, 'num_leaves': 43, 'max_depth': 39, 'subsample': 0.6645791574269051, 'colsample_bytree': 0.909702637930046, 'reg_alpha': 19.389606209772538, 'reg_lambda': 50.71651814868268, 'min_child_samples': 54, 'min_child_weight': 8.03010805333663}. Best is trial 55 with value: 0.8338710689849979.\u001b[0m\n",
            "\u001b[32m[I 2022-12-16 16:30:31,269]\u001b[0m Trial 251 finished with value: 0.8338710689849979 and parameters: {'boosting_type': 'dart', 'learning_rate': 0.07255146658820459, 'n_estimators': 284, 'num_leaves': 57, 'max_depth': 43, 'subsample': 0.6066620922783389, 'colsample_bytree': 0.7596898539531879, 'reg_alpha': 8.773405142223057, 'reg_lambda': 87.53350714165494, 'min_child_samples': 29, 'min_child_weight': 3.502541403564726}. Best is trial 55 with value: 0.8338710689849979.\u001b[0m\n",
            "\u001b[32m[I 2022-12-16 16:30:32,052]\u001b[0m Trial 252 finished with value: 0.8305128366078716 and parameters: {'boosting_type': 'dart', 'learning_rate': 0.08564856531434709, 'n_estimators': 283, 'num_leaves': 42, 'max_depth': 87, 'subsample': 0.6824662721765219, 'colsample_bytree': 0.9249882095056361, 'reg_alpha': 13.747434685982501, 'reg_lambda': 99.72167756976803, 'min_child_samples': 43, 'min_child_weight': 8.372571520342236}. Best is trial 55 with value: 0.8338710689849979.\u001b[0m\n",
            "\u001b[32m[I 2022-12-16 16:30:32,917]\u001b[0m Trial 253 finished with value: 0.8338710689849979 and parameters: {'boosting_type': 'dart', 'learning_rate': 0.08033591521352577, 'n_estimators': 289, 'num_leaves': 48, 'max_depth': 88, 'subsample': 0.6582317530458761, 'colsample_bytree': 0.8889626898243356, 'reg_alpha': 13.427734262649995, 'reg_lambda': 73.20719397985516, 'min_child_samples': 28, 'min_child_weight': 7.205743822026685}. Best is trial 55 with value: 0.8338710689849979.\u001b[0m\n",
            "\u001b[32m[I 2022-12-16 16:30:33,271]\u001b[0m Trial 254 finished with value: 0.82712949595129 and parameters: {'boosting_type': 'gbdt', 'learning_rate': 0.0776336425534633, 'n_estimators': 471, 'num_leaves': 53, 'max_depth': 49, 'subsample': 0.6158749926089333, 'colsample_bytree': 0.7344227260582558, 'reg_alpha': 10.912421572281508, 'reg_lambda': 72.9391490115807, 'min_child_samples': 27, 'min_child_weight': 7.719948401962752}. Best is trial 55 with value: 0.8338710689849979.\u001b[0m\n",
            "\u001b[32m[I 2022-12-16 16:30:33,914]\u001b[0m Trial 255 finished with value: 0.8338710689849979 and parameters: {'boosting_type': 'dart', 'learning_rate': 0.09310866893839961, 'n_estimators': 232, 'num_leaves': 58, 'max_depth': 42, 'subsample': 0.6143983831844079, 'colsample_bytree': 0.8263215784990106, 'reg_alpha': 7.085756841069908, 'reg_lambda': 93.97936087261066, 'min_child_samples': 35, 'min_child_weight': 3.990139007358751}. Best is trial 55 with value: 0.8338710689849979.\u001b[0m\n",
            "\u001b[32m[I 2022-12-16 16:30:34,478]\u001b[0m Trial 256 finished with value: 0.8181658401858012 and parameters: {'boosting_type': 'dart', 'learning_rate': 0.08772234833027814, 'n_estimators': 226, 'num_leaves': 60, 'max_depth': 93, 'subsample': 0.678254148268074, 'colsample_bytree': 0.811694516064474, 'reg_alpha': 24.26532822700055, 'reg_lambda': 54.47086844591575, 'min_child_samples': 43, 'min_child_weight': 7.265098060202656}. Best is trial 55 with value: 0.8338710689849979.\u001b[0m\n",
            "\u001b[32m[I 2022-12-16 16:30:34,952]\u001b[0m Trial 257 finished with value: 0.8193459293201932 and parameters: {'boosting_type': 'dart', 'learning_rate': 0.06144398795509154, 'n_estimators': 194, 'num_leaves': 54, 'max_depth': 42, 'subsample': 0.6997554901860502, 'colsample_bytree': 0.9744908576957932, 'reg_alpha': 7.1307109168907274, 'reg_lambda': 58.40970897013963, 'min_child_samples': 38, 'min_child_weight': 3.7637493949499623}. Best is trial 55 with value: 0.8338710689849979.\u001b[0m\n",
            "\u001b[32m[I 2022-12-16 16:30:35,938]\u001b[0m Trial 258 finished with value: 0.8338710689849979 and parameters: {'boosting_type': 'dart', 'learning_rate': 0.06528085368269643, 'n_estimators': 348, 'num_leaves': 55, 'max_depth': 40, 'subsample': 0.8437749414754109, 'colsample_bytree': 0.969498860131475, 'reg_alpha': 32.93384249537129, 'reg_lambda': 54.049145398926214, 'min_child_samples': 20, 'min_child_weight': 3.2830133124419287}. Best is trial 55 with value: 0.8338710689849979.\u001b[0m\n",
            "\u001b[32m[I 2022-12-16 16:30:36,665]\u001b[0m Trial 259 finished with value: 0.8249074132195091 and parameters: {'boosting_type': 'dart', 'learning_rate': 0.08627602444628973, 'n_estimators': 277, 'num_leaves': 39, 'max_depth': 89, 'subsample': 0.6877349544354403, 'colsample_bytree': 0.9180219411621876, 'reg_alpha': 19.56755024345709, 'reg_lambda': 99.85921533753161, 'min_child_samples': 49, 'min_child_weight': 6.944141547491244}. Best is trial 55 with value: 0.8338710689849979.\u001b[0m\n",
            "\u001b[32m[I 2022-12-16 16:30:36,932]\u001b[0m Trial 260 finished with value: 0.8159939740129307 and parameters: {'boosting_type': 'gbdt', 'learning_rate': 0.08195454328292308, 'n_estimators': 272, 'num_leaves': 51, 'max_depth': 80, 'subsample': 0.6319412584426889, 'colsample_bytree': 0.9370372512120817, 'reg_alpha': 15.625085907829368, 'reg_lambda': 1.744647189967793, 'min_child_samples': 40, 'min_child_weight': 7.698822091505069}. Best is trial 55 with value: 0.8338710689849979.\u001b[0m\n",
            "\u001b[32m[I 2022-12-16 16:30:37,919]\u001b[0m Trial 261 finished with value: 0.7912372104701525 and parameters: {'boosting_type': 'dart', 'learning_rate': 0.03275165819368345, 'n_estimators': 477, 'num_leaves': 62, 'max_depth': 1, 'subsample': 0.6179251693637188, 'colsample_bytree': 0.7662527155056412, 'reg_alpha': 9.417572385217431, 'reg_lambda': 67.36057007379243, 'min_child_samples': 28, 'min_child_weight': 7.5853047809085705}. Best is trial 55 with value: 0.8338710689849979.\u001b[0m\n",
            "\u001b[32m[I 2022-12-16 16:30:38,756]\u001b[0m Trial 262 finished with value: 0.8204130311970372 and parameters: {'boosting_type': 'dart', 'learning_rate': 0.0687579350955745, 'n_estimators': 305, 'num_leaves': 50, 'max_depth': 37, 'subsample': 0.7994595883389157, 'colsample_bytree': 0.9522847491359022, 'reg_alpha': 21.676218687303386, 'reg_lambda': 46.368104492912686, 'min_child_samples': 53, 'min_child_weight': 8.332682881465207}. Best is trial 55 with value: 0.8338710689849979.\u001b[0m\n",
            "\u001b[32m[I 2022-12-16 16:30:40,389]\u001b[0m Trial 263 finished with value: 0.8338710689849979 and parameters: {'boosting_type': 'dart', 'learning_rate': 0.07282218007079663, 'n_estimators': 472, 'num_leaves': 37, 'max_depth': 45, 'subsample': 0.6066415445638087, 'colsample_bytree': 0.8732614008115623, 'reg_alpha': 9.248783797807008, 'reg_lambda': 92.16682960779383, 'min_child_samples': 29, 'min_child_weight': 7.650529943372771}. Best is trial 55 with value: 0.8338710689849979.\u001b[0m\n",
            "\u001b[32m[I 2022-12-16 16:30:41,165]\u001b[0m Trial 264 finished with value: 0.8316364321134895 and parameters: {'boosting_type': 'dart', 'learning_rate': 0.09098088732155504, 'n_estimators': 284, 'num_leaves': 45, 'max_depth': 92, 'subsample': 0.6421109735980156, 'colsample_bytree': 0.9013459573666678, 'reg_alpha': 17.854990362795853, 'reg_lambda': 67.9766417225119, 'min_child_samples': 40, 'min_child_weight': 8.237038515105585}. Best is trial 55 with value: 0.8338710689849979.\u001b[0m\n",
            "\u001b[32m[I 2022-12-16 16:30:42,125]\u001b[0m Trial 265 finished with value: 0.8338710689849979 and parameters: {'boosting_type': 'dart', 'learning_rate': 0.0899918562618802, 'n_estimators': 328, 'num_leaves': 51, 'max_depth': 97, 'subsample': 0.6921531905831385, 'colsample_bytree': 0.886354113858994, 'reg_alpha': 17.818850469314366, 'reg_lambda': 90.81521149265895, 'min_child_samples': 20, 'min_child_weight': 8.021992780044572}. Best is trial 55 with value: 0.8338710689849979.\u001b[0m\n",
            "\u001b[32m[I 2022-12-16 16:30:42,874]\u001b[0m Trial 266 finished with value: 0.8316364321134895 and parameters: {'boosting_type': 'dart', 'learning_rate': 0.08768210528688518, 'n_estimators': 282, 'num_leaves': 39, 'max_depth': 86, 'subsample': 0.7084960714688348, 'colsample_bytree': 0.9269053200388349, 'reg_alpha': 15.010307447836333, 'reg_lambda': 74.56612153660477, 'min_child_samples': 39, 'min_child_weight': 8.765822494817462}. Best is trial 55 with value: 0.8338710689849979.\u001b[0m\n",
            "\u001b[32m[I 2022-12-16 16:30:44,413]\u001b[0m Trial 267 finished with value: 0.8327537505492437 and parameters: {'boosting_type': 'dart', 'learning_rate': 0.09594550437629971, 'n_estimators': 432, 'num_leaves': 58, 'max_depth': 83, 'subsample': 0.6030353966767464, 'colsample_bytree': 0.8924611823782094, 'reg_alpha': 5.404065109808911, 'reg_lambda': 71.41997131694484, 'min_child_samples': 33, 'min_child_weight': 4.3724340302912}. Best is trial 55 with value: 0.8338710689849979.\u001b[0m\n",
            "\u001b[32m[I 2022-12-16 16:30:45,955]\u001b[0m Trial 268 finished with value: 0.8338710689849979 and parameters: {'boosting_type': 'dart', 'learning_rate': 0.07689109893073372, 'n_estimators': 453, 'num_leaves': 64, 'max_depth': 48, 'subsample': 0.7196058050796523, 'colsample_bytree': 0.8576178105356289, 'reg_alpha': 12.042254949248804, 'reg_lambda': 88.49202034420031, 'min_child_samples': 20, 'min_child_weight': 7.501846318504697}. Best is trial 55 with value: 0.8338710689849979.\u001b[0m\n",
            "\u001b[32m[I 2022-12-16 16:30:46,542]\u001b[0m Trial 269 finished with value: 0.801324461741259 and parameters: {'boosting_type': 'dart', 'learning_rate': 0.08219481322127983, 'n_estimators': 255, 'num_leaves': 44, 'max_depth': 95, 'subsample': 0.642054582036126, 'colsample_bytree': 0.8522616040497516, 'reg_alpha': 21.814419587551782, 'reg_lambda': 48.41103524721878, 'min_child_samples': 58, 'min_child_weight': 7.374245600343845}. Best is trial 55 with value: 0.8338710689849979.\u001b[0m\n",
            "\u001b[32m[I 2022-12-16 16:30:46,909]\u001b[0m Trial 270 finished with value: 0.8293766869625261 and parameters: {'boosting_type': 'gbdt', 'learning_rate': 0.07527183562689058, 'n_estimators': 359, 'num_leaves': 57, 'max_depth': 46, 'subsample': 0.6031665200282569, 'colsample_bytree': 0.8059837848206808, 'reg_alpha': 11.28872088748538, 'reg_lambda': 95.27367776347066, 'min_child_samples': 21, 'min_child_weight': 4.6355354439187755}. Best is trial 55 with value: 0.8338710689849979.\u001b[0m\n",
            "\u001b[32m[I 2022-12-16 16:30:48,305]\u001b[0m Trial 271 finished with value: 0.8338710689849979 and parameters: {'boosting_type': 'dart', 'learning_rate': 0.07044282733275843, 'n_estimators': 423, 'num_leaves': 52, 'max_depth': 95, 'subsample': 0.7538439991922893, 'colsample_bytree': 0.9023752490494144, 'reg_alpha': 11.964167883183734, 'reg_lambda': 76.41565862834122, 'min_child_samples': 20, 'min_child_weight': 7.953581522508142}. Best is trial 55 with value: 0.8338710689849979.\u001b[0m\n",
            "\u001b[32m[I 2022-12-16 16:30:49,539]\u001b[0m Trial 272 finished with value: 0.8237649865042999 and parameters: {'boosting_type': 'dart', 'learning_rate': 0.06914063818859023, 'n_estimators': 408, 'num_leaves': 53, 'max_depth': 97, 'subsample': 0.6875482389060763, 'colsample_bytree': 0.9884652678127044, 'reg_alpha': 17.157475386619385, 'reg_lambda': 76.42273905375363, 'min_child_samples': 45, 'min_child_weight': 7.967949026055367}. Best is trial 55 with value: 0.8338710689849979.\u001b[0m\n",
            "\u001b[32m[I 2022-12-16 16:30:50,237]\u001b[0m Trial 273 finished with value: 0.8204632477559475 and parameters: {'boosting_type': 'dart', 'learning_rate': 0.044609180114187755, 'n_estimators': 255, 'num_leaves': 48, 'max_depth': 50, 'subsample': 0.6483154737688934, 'colsample_bytree': 0.7456106090323553, 'reg_alpha': 8.893160772818112, 'reg_lambda': 65.47268702075746, 'min_child_samples': 29, 'min_child_weight': 9.03332336261519}. Best is trial 55 with value: 0.8338710689849979.\u001b[0m\n",
            "\u001b[32m[I 2022-12-16 16:30:51,493]\u001b[0m Trial 274 finished with value: 0.8024292260372858 and parameters: {'boosting_type': 'dart', 'learning_rate': 0.07348402175128717, 'n_estimators': 474, 'num_leaves': 33, 'max_depth': 43, 'subsample': 0.612367358961036, 'colsample_bytree': 0.8229938697257237, 'reg_alpha': 49.642739050890306, 'reg_lambda': 94.86183919076309, 'min_child_samples': 33, 'min_child_weight': 2.391139230997444}. Best is trial 55 with value: 0.8338710689849979.\u001b[0m\n",
            "\u001b[32m[I 2022-12-16 16:30:52,175]\u001b[0m Trial 275 finished with value: 0.8035528215429038 and parameters: {'boosting_type': 'dart', 'learning_rate': 0.07670651655683944, 'n_estimators': 265, 'num_leaves': 50, 'max_depth': 79, 'subsample': 0.8597186788624933, 'colsample_bytree': 0.6505259390740646, 'reg_alpha': 26.741816918817, 'reg_lambda': 55.88214083795234, 'min_child_samples': 20, 'min_child_weight': 6.798763237044138}. Best is trial 55 with value: 0.8338710689849979.\u001b[0m\n",
            "\u001b[32m[I 2022-12-16 16:30:52,520]\u001b[0m Trial 276 finished with value: 0.8238152030632101 and parameters: {'boosting_type': 'gbdt', 'learning_rate': 0.07817962646031916, 'n_estimators': 498, 'num_leaves': 49, 'max_depth': 40, 'subsample': 0.6241782551119084, 'colsample_bytree': 0.9719790920575876, 'reg_alpha': 16.73686795268738, 'reg_lambda': 78.85102407079894, 'min_child_samples': 28, 'min_child_weight': 4.854407342484662}. Best is trial 55 with value: 0.8338710689849979.\u001b[0m\n",
            "\u001b[32m[I 2022-12-16 16:30:53,323]\u001b[0m Trial 277 finished with value: 0.8081099742640134 and parameters: {'boosting_type': 'dart', 'learning_rate': 0.011564760885536214, 'n_estimators': 315, 'num_leaves': 56, 'max_depth': 45, 'subsample': 0.6183362109238262, 'colsample_bytree': 0.7612803300018233, 'reg_alpha': 13.62521469679919, 'reg_lambda': 78.06423566548054, 'min_child_samples': 47, 'min_child_weight': 7.774544458073824}. Best is trial 55 with value: 0.8338710689849979.\u001b[0m\n",
            "\u001b[32m[I 2022-12-16 16:30:53,480]\u001b[0m Trial 278 finished with value: 0.6161634548992531 and parameters: {'boosting_type': 'dart', 'learning_rate': 0.09185144274021052, 'n_estimators': 241, 'num_leaves': 47, 'max_depth': 90, 'subsample': 0.7026804164551119, 'colsample_bytree': 0.9238018877790808, 'reg_alpha': 25.37493152491512, 'reg_lambda': 59.67695937993154, 'min_child_samples': 417, 'min_child_weight': 3.1225024127479597}. Best is trial 55 with value: 0.8338710689849979.\u001b[0m\n",
            "\u001b[32m[I 2022-12-16 16:30:54,204]\u001b[0m Trial 279 finished with value: 0.8294017952419811 and parameters: {'boosting_type': 'dart', 'learning_rate': 0.08452992346015117, 'n_estimators': 276, 'num_leaves': 38, 'max_depth': 93, 'subsample': 0.6371022161178663, 'colsample_bytree': 0.8810064624723718, 'reg_alpha': 19.25539453737761, 'reg_lambda': 92.71964630613965, 'min_child_samples': 38, 'min_child_weight': 8.188397352075922}. Best is trial 55 with value: 0.8338710689849979.\u001b[0m\n",
            "\u001b[32m[I 2022-12-16 16:30:55,175]\u001b[0m Trial 280 finished with value: 0.8316364321134895 and parameters: {'boosting_type': 'dart', 'learning_rate': 0.09134589765704708, 'n_estimators': 337, 'num_leaves': 74, 'max_depth': 100, 'subsample': 0.6293399402281465, 'colsample_bytree': 0.9577974912834162, 'reg_alpha': 19.90273931604537, 'reg_lambda': 97.30064908471705, 'min_child_samples': 38, 'min_child_weight': 7.221147520093211}. Best is trial 55 with value: 0.8338710689849979.\u001b[0m\n",
            "\u001b[32m[I 2022-12-16 16:30:56,034]\u001b[0m Trial 281 finished with value: 0.8338710689849979 and parameters: {'boosting_type': 'dart', 'learning_rate': 0.08161045274154126, 'n_estimators': 318, 'num_leaves': 48, 'max_depth': 5, 'subsample': 0.6371397588532682, 'colsample_bytree': 0.9858329766007958, 'reg_alpha': 20.135681203005053, 'reg_lambda': 89.59479552770088, 'min_child_samples': 31, 'min_child_weight': 8.478850039112485}. Best is trial 55 with value: 0.8338710689849979.\u001b[0m\n",
            "\u001b[32m[I 2022-12-16 16:30:56,993]\u001b[0m Trial 282 finished with value: 0.8204130311970372 and parameters: {'boosting_type': 'dart', 'learning_rate': 0.08397223463887718, 'n_estimators': 353, 'num_leaves': 46, 'max_depth': 26, 'subsample': 0.6652246582384925, 'colsample_bytree': 0.9501464702647374, 'reg_alpha': 23.19759843411215, 'reg_lambda': 52.132110016742665, 'min_child_samples': 51, 'min_child_weight': 8.611324346904524}. Best is trial 55 with value: 0.8338710689849979.\u001b[0m\n",
            "\u001b[32m[I 2022-12-16 16:30:57,794]\u001b[0m Trial 283 finished with value: 0.8338710689849979 and parameters: {'boosting_type': 'dart', 'learning_rate': 0.08741387677021434, 'n_estimators': 292, 'num_leaves': 41, 'max_depth': 53, 'subsample': 0.6491271404137003, 'colsample_bytree': 0.8574527309804925, 'reg_alpha': 12.054724016741945, 'reg_lambda': 86.98197853091857, 'min_child_samples': 27, 'min_child_weight': 8.79943073915394}. Best is trial 55 with value: 0.8338710689849979.\u001b[0m\n",
            "\u001b[32m[I 2022-12-16 16:30:58,239]\u001b[0m Trial 284 finished with value: 0.7554892975958822 and parameters: {'boosting_type': 'dart', 'learning_rate': 0.08128695166215584, 'n_estimators': 250, 'num_leaves': 42, 'max_depth': 87, 'subsample': 0.660455587954635, 'colsample_bytree': 0.9062609812937117, 'reg_alpha': 14.756907528197392, 'reg_lambda': 73.38590519300165, 'min_child_samples': 275, 'min_child_weight': 7.037668536672269}. Best is trial 55 with value: 0.8338710689849979.\u001b[0m\n",
            "\u001b[32m[I 2022-12-16 16:30:58,966]\u001b[0m Trial 285 finished with value: 0.8237838177138912 and parameters: {'boosting_type': 'dart', 'learning_rate': 0.08927550085706576, 'n_estimators': 287, 'num_leaves': 43, 'max_depth': 92, 'subsample': 0.6883699289715188, 'colsample_bytree': 0.9011871554289528, 'reg_alpha': 18.345372483524844, 'reg_lambda': 98.12323258527977, 'min_child_samples': 41, 'min_child_weight': 8.099598331783058}. Best is trial 55 with value: 0.8338710689849979.\u001b[0m\n",
            "\u001b[32m[I 2022-12-16 16:30:59,338]\u001b[0m Trial 286 finished with value: 0.800263636934279 and parameters: {'boosting_type': 'gbdt', 'learning_rate': 0.027602693135794065, 'n_estimators': 333, 'num_leaves': 35, 'max_depth': 100, 'subsample': 0.6105654697306849, 'colsample_bytree': 0.8747105396107799, 'reg_alpha': 8.550476986324053, 'reg_lambda': 93.28581679249072, 'min_child_samples': 62, 'min_child_weight': 7.659415635423533}. Best is trial 55 with value: 0.8338710689849979.\u001b[0m\n",
            "\u001b[32m[I 2022-12-16 16:31:00,162]\u001b[0m Trial 287 finished with value: 0.8338710689849979 and parameters: {'boosting_type': 'dart', 'learning_rate': 0.08395651905336593, 'n_estimators': 299, 'num_leaves': 50, 'max_depth': 35, 'subsample': 0.666980991610834, 'colsample_bytree': 0.9130020692101843, 'reg_alpha': 25.382854733092064, 'reg_lambda': 49.996527485413864, 'min_child_samples': 32, 'min_child_weight': 7.491167123750943}. Best is trial 55 with value: 0.8338710689849979.\u001b[0m\n",
            "\u001b[32m[I 2022-12-16 16:31:01,273]\u001b[0m Trial 288 finished with value: 0.828253091456908 and parameters: {'boosting_type': 'dart', 'learning_rate': 0.06388532792477637, 'n_estimators': 385, 'num_leaves': 44, 'max_depth': 7, 'subsample': 0.6237719490126985, 'colsample_bytree': 0.8371872229508007, 'reg_alpha': 26.628344291445373, 'reg_lambda': 40.794830011832765, 'min_child_samples': 36, 'min_child_weight': 6.716094376095392}. Best is trial 55 with value: 0.8338710689849979.\u001b[0m\n",
            "\u001b[32m[I 2022-12-16 16:31:02,134]\u001b[0m Trial 289 finished with value: 0.8024355031071495 and parameters: {'boosting_type': 'dart', 'learning_rate': 0.079222372918177, 'n_estimators': 310, 'num_leaves': 39, 'max_depth': 46, 'subsample': 0.9516113852238404, 'colsample_bytree': 0.7078218040335631, 'reg_alpha': 15.888856583257368, 'reg_lambda': 86.29248570530129, 'min_child_samples': 48, 'min_child_weight': 7.025974943045}. Best is trial 55 with value: 0.8338710689849979.\u001b[0m\n",
            "\u001b[32m[I 2022-12-16 16:31:03,208]\u001b[0m Trial 290 finished with value: 0.8338710689849979 and parameters: {'boosting_type': 'dart', 'learning_rate': 0.0736209162088017, 'n_estimators': 370, 'num_leaves': 49, 'max_depth': 18, 'subsample': 0.7869254376765656, 'colsample_bytree': 0.8175600862189302, 'reg_alpha': 20.059222977017313, 'reg_lambda': 95.33114672662786, 'min_child_samples': 28, 'min_child_weight': 6.355914800953387}. Best is trial 55 with value: 0.8338710689849979.\u001b[0m\n",
            "\u001b[32m[I 2022-12-16 16:31:04,843]\u001b[0m Trial 291 finished with value: 0.8327537505492437 and parameters: {'boosting_type': 'dart', 'learning_rate': 0.08782764365829897, 'n_estimators': 460, 'num_leaves': 66, 'max_depth': 16, 'subsample': 0.7597631673472056, 'colsample_bytree': 0.7980853788953334, 'reg_alpha': 10.074660487536836, 'reg_lambda': 62.90471904885394, 'min_child_samples': 20, 'min_child_weight': 6.131277403516502}. Best is trial 55 with value: 0.8338710689849979.\u001b[0m\n",
            "\u001b[32m[I 2022-12-16 16:31:06,549]\u001b[0m Trial 292 finished with value: 0.8327537505492437 and parameters: {'boosting_type': 'dart', 'learning_rate': 0.08776169885581864, 'n_estimators': 488, 'num_leaves': 76, 'max_depth': 49, 'subsample': 0.6540685213640572, 'colsample_bytree': 0.8633075706234401, 'reg_alpha': 11.795653327730223, 'reg_lambda': 70.60299175091747, 'min_child_samples': 30, 'min_child_weight': 8.93661116694921}. Best is trial 55 with value: 0.8338710689849979.\u001b[0m\n",
            "\u001b[32m[I 2022-12-16 16:31:06,827]\u001b[0m Trial 293 finished with value: 0.8316301550436258 and parameters: {'boosting_type': 'gbdt', 'learning_rate': 0.08188569404015898, 'n_estimators': 273, 'num_leaves': 65, 'max_depth': 76, 'subsample': 0.965724164938854, 'colsample_bytree': 0.9300084604305299, 'reg_alpha': 13.527431255115367, 'reg_lambda': 24.233327698986585, 'min_child_samples': 42, 'min_child_weight': 7.87724257663878}. Best is trial 55 with value: 0.8338710689849979.\u001b[0m\n",
            "\u001b[32m[I 2022-12-16 16:31:07,574]\u001b[0m Trial 294 finished with value: 0.8338710689849979 and parameters: {'boosting_type': 'dart', 'learning_rate': 0.07951554074388059, 'n_estimators': 269, 'num_leaves': 69, 'max_depth': 94, 'subsample': 0.6000147065261597, 'colsample_bytree': 0.9333818762149815, 'reg_alpha': 16.191487829085528, 'reg_lambda': 74.99968334788475, 'min_child_samples': 20, 'min_child_weight': 7.056065570448188}. Best is trial 55 with value: 0.8338710689849979.\u001b[0m\n",
            "\u001b[32m[I 2022-12-16 16:31:08,083]\u001b[0m Trial 295 finished with value: 0.7923608059757704 and parameters: {'boosting_type': 'dart', 'learning_rate': 0.08658767666395283, 'n_estimators': 281, 'num_leaves': 40, 'max_depth': 95, 'subsample': 0.6332393697199795, 'colsample_bytree': 0.915770074960659, 'reg_alpha': 36.52922462005424, 'reg_lambda': 44.77657189444585, 'min_child_samples': 177, 'min_child_weight': 7.785316605062583}. Best is trial 55 with value: 0.8338710689849979.\u001b[0m\n",
            "\u001b[32m[I 2022-12-16 16:31:08,931]\u001b[0m Trial 296 finished with value: 0.8338710689849979 and parameters: {'boosting_type': 'dart', 'learning_rate': 0.09381037327417369, 'n_estimators': 290, 'num_leaves': 47, 'max_depth': 98, 'subsample': 0.69564577422299, 'colsample_bytree': 0.8943220169448632, 'reg_alpha': 17.62727302990307, 'reg_lambda': 91.16448160788966, 'min_child_samples': 36, 'min_child_weight': 8.254529252583984}. Best is trial 55 with value: 0.8338710689849979.\u001b[0m\n",
            "\u001b[32m[I 2022-12-16 16:31:10,586]\u001b[0m Trial 297 finished with value: 0.8338710689849979 and parameters: {'boosting_type': 'dart', 'learning_rate': 0.07732157733305281, 'n_estimators': 463, 'num_leaves': 56, 'max_depth': 43, 'subsample': 0.7368871589719903, 'colsample_bytree': 0.7645161179363004, 'reg_alpha': 9.086577941696458, 'reg_lambda': 70.76976884379204, 'min_child_samples': 28, 'min_child_weight': 5.114634930458498}. Best is trial 55 with value: 0.8338710689849979.\u001b[0m\n",
            "\u001b[32m[I 2022-12-16 16:31:11,338]\u001b[0m Trial 298 finished with value: 0.8058062896240035 and parameters: {'boosting_type': 'dart', 'learning_rate': 0.09624403783993596, 'n_estimators': 295, 'num_leaves': 45, 'max_depth': 97, 'subsample': 0.7325426291922585, 'colsample_bytree': 0.8920817865097831, 'reg_alpha': 29.14320926257049, 'reg_lambda': 91.11153053326414, 'min_child_samples': 55, 'min_child_weight': 7.235389622800362}. Best is trial 55 with value: 0.8338710689849979.\u001b[0m\n",
            "\u001b[32m[I 2022-12-16 16:31:11,622]\u001b[0m Trial 299 finished with value: 0.8282593685267716 and parameters: {'boosting_type': 'gbdt', 'learning_rate': 0.08349641290204654, 'n_estimators': 251, 'num_leaves': 52, 'max_depth': 29, 'subsample': 0.6691917307780839, 'colsample_bytree': 0.9624160685987322, 'reg_alpha': 14.683904977916885, 'reg_lambda': 87.42392010776578, 'min_child_samples': 46, 'min_child_weight': 8.005461015866869}. Best is trial 55 with value: 0.8338710689849979.\u001b[0m\n",
            "\u001b[32m[I 2022-12-16 16:31:12,510]\u001b[0m Trial 300 finished with value: 0.830500282468144 and parameters: {'boosting_type': 'dart', 'learning_rate': 0.07560466843547907, 'n_estimators': 295, 'num_leaves': 40, 'max_depth': 23, 'subsample': 0.658301336930227, 'colsample_bytree': 0.7452034633699771, 'reg_alpha': 10.555844500508499, 'reg_lambda': 29.527621986357158, 'min_child_samples': 36, 'min_child_weight': 7.197827464230853}. Best is trial 55 with value: 0.8338710689849979.\u001b[0m\n",
            "\u001b[32m[I 2022-12-16 16:31:13,160]\u001b[0m Trial 301 finished with value: 0.7912372104701525 and parameters: {'boosting_type': 'dart', 'learning_rate': 0.08001831452318509, 'n_estimators': 341, 'num_leaves': 42, 'max_depth': 82, 'subsample': 0.619767775846907, 'colsample_bytree': 0.7324341074348547, 'reg_alpha': 18.40920407896732, 'reg_lambda': 96.289854808744, 'min_child_samples': 243, 'min_child_weight': 7.839455200818571}. Best is trial 55 with value: 0.8338710689849979.\u001b[0m\n",
            "\u001b[32m[I 2022-12-16 16:31:13,924]\u001b[0m Trial 302 finished with value: 0.8294017952419811 and parameters: {'boosting_type': 'dart', 'learning_rate': 0.08630077726970248, 'n_estimators': 290, 'num_leaves': 52, 'max_depth': 89, 'subsample': 0.6432523138522509, 'colsample_bytree': 0.8710844196047047, 'reg_alpha': 24.61943489869334, 'reg_lambda': 83.83004510548818, 'min_child_samples': 28, 'min_child_weight': 9.28595484979811}. Best is trial 55 with value: 0.8338710689849979.\u001b[0m\n",
            "\u001b[32m[I 2022-12-16 16:31:14,859]\u001b[0m Trial 303 finished with value: 0.8148327160881299 and parameters: {'boosting_type': 'dart', 'learning_rate': 0.07794742500549462, 'n_estimators': 311, 'num_leaves': 38, 'max_depth': 47, 'subsample': 0.6255879344090539, 'colsample_bytree': 0.7883502036911126, 'reg_alpha': 5.4419368319145045, 'reg_lambda': 73.5369483534421, 'min_child_samples': 46, 'min_child_weight': 7.583346746115291}. Best is trial 55 with value: 0.8338710689849979.\u001b[0m\n",
            "\u001b[32m[I 2022-12-16 16:31:16,135]\u001b[0m Trial 304 finished with value: 0.828253091456908 and parameters: {'boosting_type': 'dart', 'learning_rate': 0.0902463023256653, 'n_estimators': 409, 'num_leaves': 49, 'max_depth': 12, 'subsample': 0.6418098183637495, 'colsample_bytree': 0.8286877269261108, 'reg_alpha': 23.32315329355138, 'reg_lambda': 84.75258852671568, 'min_child_samples': 22, 'min_child_weight': 6.613795117533893}. Best is trial 55 with value: 0.8338710689849979.\u001b[0m\n",
            "\u001b[32m[I 2022-12-16 16:31:17,187]\u001b[0m Trial 305 finished with value: 0.7912372104701525 and parameters: {'boosting_type': 'dart', 'learning_rate': 0.07591547366617102, 'n_estimators': 464, 'num_leaves': 53, 'max_depth': 48, 'subsample': 0.6307508600901263, 'colsample_bytree': 0.9445045863088604, 'reg_alpha': 24.919383997600008, 'reg_lambda': 47.55276070896891, 'min_child_samples': 146, 'min_child_weight': 6.87239573205458}. Best is trial 55 with value: 0.8338710689849979.\u001b[0m\n",
            "\u001b[32m[I 2022-12-16 16:31:17,939]\u001b[0m Trial 306 finished with value: 0.8338710689849979 and parameters: {'boosting_type': 'dart', 'learning_rate': 0.08880208010896355, 'n_estimators': 277, 'num_leaves': 45, 'max_depth': 95, 'subsample': 0.7142034979885785, 'colsample_bytree': 0.905718121972264, 'reg_alpha': 21.54233481965176, 'reg_lambda': 64.08491898063826, 'min_child_samples': 20, 'min_child_weight': 8.503837480644936}. Best is trial 55 with value: 0.8338710689849979.\u001b[0m\n",
            "\u001b[32m[I 2022-12-16 16:31:18,777]\u001b[0m Trial 307 finished with value: 0.8338710689849979 and parameters: {'boosting_type': 'dart', 'learning_rate': 0.0902393377538563, 'n_estimators': 275, 'num_leaves': 54, 'max_depth': 88, 'subsample': 0.7176782947499885, 'colsample_bytree': 0.8866495840767337, 'reg_alpha': 7.108649099551613, 'reg_lambda': 64.52327138073014, 'min_child_samples': 26, 'min_child_weight': 3.655117108739539}. Best is trial 55 with value: 0.8338710689849979.\u001b[0m\n",
            "\u001b[32m[I 2022-12-16 16:31:19,643]\u001b[0m Trial 308 finished with value: 0.8338710689849979 and parameters: {'boosting_type': 'dart', 'learning_rate': 0.0904101789226917, 'n_estimators': 286, 'num_leaves': 54, 'max_depth': 90, 'subsample': 0.7055205215165543, 'colsample_bytree': 0.8892223712764012, 'reg_alpha': 6.344945911855832, 'reg_lambda': 61.583044839454196, 'min_child_samples': 20, 'min_child_weight': 8.275833932940518}. Best is trial 55 with value: 0.8338710689849979.\u001b[0m\n",
            "\u001b[32m[I 2022-12-16 16:31:20,299]\u001b[0m Trial 309 finished with value: 0.8316364321134895 and parameters: {'boosting_type': 'dart', 'learning_rate': 0.09127054737031665, 'n_estimators': 235, 'num_leaves': 55, 'max_depth': 86, 'subsample': 0.7002498786606134, 'colsample_bytree': 0.8960228782992441, 'reg_alpha': 6.619523111146599, 'reg_lambda': 80.76560462101736, 'min_child_samples': 37, 'min_child_weight': 8.835833756316381}. Best is trial 55 with value: 0.8338710689849979.\u001b[0m\n",
            "\u001b[32m[I 2022-12-16 16:31:20,655]\u001b[0m Trial 310 finished with value: 0.8249325214989642 and parameters: {'boosting_type': 'gbdt', 'learning_rate': 0.0680976651222795, 'n_estimators': 393, 'num_leaves': 48, 'max_depth': 12, 'subsample': 0.6120159327540748, 'colsample_bytree': 0.978713168928599, 'reg_alpha': 13.089978335437642, 'reg_lambda': 89.41686396373242, 'min_child_samples': 28, 'min_child_weight': 7.190869266278843}. Best is trial 55 with value: 0.8338710689849979.\u001b[0m\n",
            "\u001b[32m[I 2022-12-16 16:31:21,364]\u001b[0m Trial 311 finished with value: 0.8338710689849979 and parameters: {'boosting_type': 'dart', 'learning_rate': 0.07186903113463775, 'n_estimators': 263, 'num_leaves': 51, 'max_depth': 46, 'subsample': 0.6138113202434697, 'colsample_bytree': 0.8431033179762135, 'reg_alpha': 26.341996734603427, 'reg_lambda': 49.804513966995465, 'min_child_samples': 20, 'min_child_weight': 7.420835130967692}. Best is trial 55 with value: 0.8338710689849979.\u001b[0m\n",
            "\u001b[32m[I 2022-12-16 16:31:22,049]\u001b[0m Trial 312 finished with value: 0.8035590986127674 and parameters: {'boosting_type': 'dart', 'learning_rate': 0.0843778219930566, 'n_estimators': 266, 'num_leaves': 43, 'max_depth': 92, 'subsample': 0.6504211369691968, 'colsample_bytree': 0.842076796963096, 'reg_alpha': 31.926317193651794, 'reg_lambda': 51.070451980273404, 'min_child_samples': 38, 'min_child_weight': 7.551714176230928}. Best is trial 55 with value: 0.8338710689849979.\u001b[0m\n",
            "\u001b[32m[I 2022-12-16 16:31:23,066]\u001b[0m Trial 313 finished with value: 0.8338710689849979 and parameters: {'boosting_type': 'dart', 'learning_rate': 0.07243360860954144, 'n_estimators': 331, 'num_leaves': 51, 'max_depth': 78, 'subsample': 0.6816353475541747, 'colsample_bytree': 0.8800749468420518, 'reg_alpha': 16.13928310236871, 'reg_lambda': 75.77958702557216, 'min_child_samples': 21, 'min_child_weight': 4.837264264319742}. Best is trial 55 with value: 0.8338710689849979.\u001b[0m\n",
            "\u001b[32m[I 2022-12-16 16:31:24,015]\u001b[0m Trial 314 finished with value: 0.811436821291821 and parameters: {'boosting_type': 'dart', 'learning_rate': 0.07914925536832985, 'n_estimators': 349, 'num_leaves': 41, 'max_depth': 84, 'subsample': 0.8807429256665834, 'colsample_bytree': 0.8806431451433684, 'reg_alpha': 20.955420282971396, 'reg_lambda': 93.71205293666709, 'min_child_samples': 58, 'min_child_weight': 5.687422966632819}. Best is trial 55 with value: 0.8338710689849979.\u001b[0m\n",
            "\u001b[32m[I 2022-12-16 16:31:24,620]\u001b[0m Trial 315 finished with value: 0.7923608059757704 and parameters: {'boosting_type': 'dart', 'learning_rate': 0.06710574526272524, 'n_estimators': 326, 'num_leaves': 51, 'max_depth': 38, 'subsample': 0.8677822172770817, 'colsample_bytree': 0.9661547533279927, 'reg_alpha': 32.79206677782975, 'reg_lambda': 92.40371444505934, 'min_child_samples': 195, 'min_child_weight': 3.2143926602367228}. Best is trial 55 with value: 0.8338710689849979.\u001b[0m\n",
            "\u001b[32m[I 2022-12-16 16:31:25,380]\u001b[0m Trial 316 finished with value: 0.8215366267026551 and parameters: {'boosting_type': 'dart', 'learning_rate': 0.08706313295881843, 'n_estimators': 286, 'num_leaves': 47, 'max_depth': 93, 'subsample': 0.6440777861708238, 'colsample_bytree': 0.9201595416808204, 'reg_alpha': 20.92802409710155, 'reg_lambda': 96.04613624215604, 'min_child_samples': 44, 'min_child_weight': 8.67486623059561}. Best is trial 55 with value: 0.8338710689849979.\u001b[0m\n",
            "\u001b[32m[I 2022-12-16 16:31:26,016]\u001b[0m Trial 317 finished with value: 0.8338710689849979 and parameters: {'boosting_type': 'dart', 'learning_rate': 0.09488923770839035, 'n_estimators': 229, 'num_leaves': 58, 'max_depth': 22, 'subsample': 0.610294082466831, 'colsample_bytree': 0.820251775617786, 'reg_alpha': 4.2050072545944, 'reg_lambda': 69.65257838585481, 'min_child_samples': 31, 'min_child_weight': 3.5109079763399906}. Best is trial 55 with value: 0.8338710689849979.\u001b[0m\n",
            "\u001b[32m[I 2022-12-16 16:31:26,957]\u001b[0m Trial 318 finished with value: 0.807005209967987 and parameters: {'boosting_type': 'dart', 'learning_rate': 0.06804916318150384, 'n_estimators': 347, 'num_leaves': 50, 'max_depth': 36, 'subsample': 0.84137101380994, 'colsample_bytree': 0.966683921557042, 'reg_alpha': 16.48555232393048, 'reg_lambda': 77.15487574748487, 'min_child_samples': 56, 'min_child_weight': 2.8586644726004495}. Best is trial 55 with value: 0.8338710689849979.\u001b[0m\n",
            "\u001b[32m[I 2022-12-16 16:31:27,835]\u001b[0m Trial 319 finished with value: 0.8181658401858012 and parameters: {'boosting_type': 'dart', 'learning_rate': 0.08877076958693055, 'n_estimators': 326, 'num_leaves': 49, 'max_depth': 98, 'subsample': 0.6216899543829273, 'colsample_bytree': 0.9068866079763557, 'reg_alpha': 28.91357226190881, 'reg_lambda': 57.08534848801605, 'min_child_samples': 37, 'min_child_weight': 6.845793843798974}. Best is trial 55 with value: 0.8338710689849979.\u001b[0m\n",
            "\u001b[32m[I 2022-12-16 16:31:28,876]\u001b[0m Trial 320 finished with value: 0.8249074132195091 and parameters: {'boosting_type': 'dart', 'learning_rate': 0.07093262485539603, 'n_estimators': 364, 'num_leaves': 46, 'max_depth': 96, 'subsample': 0.8050825757103005, 'colsample_bytree': 0.950050765804424, 'reg_alpha': 22.4749310928426, 'reg_lambda': 80.7924106399924, 'min_child_samples': 50, 'min_child_weight': 7.53867827427352}. Best is trial 55 with value: 0.8338710689849979.\u001b[0m\n",
            "\u001b[32m[I 2022-12-16 16:31:29,534]\u001b[0m Trial 321 finished with value: 0.8338710689849979 and parameters: {'boosting_type': 'dart', 'learning_rate': 0.07103725476973549, 'n_estimators': 240, 'num_leaves': 53, 'max_depth': 57, 'subsample': 0.6456125105863064, 'colsample_bytree': 0.933959607635333, 'reg_alpha': 7.747586006791995, 'reg_lambda': 41.38932273172731, 'min_child_samples': 29, 'min_child_weight': 6.443177058322795}. Best is trial 55 with value: 0.8338710689849979.\u001b[0m\n",
            "\u001b[32m[I 2022-12-16 16:31:29,803]\u001b[0m Trial 322 finished with value: 0.8226853304877284 and parameters: {'boosting_type': 'gbdt', 'learning_rate': 0.07053627949100641, 'n_estimators': 247, 'num_leaves': 50, 'max_depth': 58, 'subsample': 0.6758391795873969, 'colsample_bytree': 0.8033805116188002, 'reg_alpha': 14.140388902253015, 'reg_lambda': 36.33343134018112, 'min_child_samples': 31, 'min_child_weight': 4.569370386879998}. Best is trial 55 with value: 0.8338710689849979.\u001b[0m\n",
            "\u001b[32m[I 2022-12-16 16:31:30,551]\u001b[0m Trial 323 finished with value: 0.8338710689849979 and parameters: {'boosting_type': 'dart', 'learning_rate': 0.09274665844010517, 'n_estimators': 280, 'num_leaves': 61, 'max_depth': 82, 'subsample': 0.6947947137831448, 'colsample_bytree': 0.9243542501295978, 'reg_alpha': 23.79836865228947, 'reg_lambda': 66.92819031565297, 'min_child_samples': 29, 'min_child_weight': 8.387985055550775}. Best is trial 55 with value: 0.8338710689849979.\u001b[0m\n",
            "\u001b[32m[I 2022-12-16 16:31:31,219]\u001b[0m Trial 324 finished with value: 0.8069298851296214 and parameters: {'boosting_type': 'dart', 'learning_rate': 0.08097409464626065, 'n_estimators': 261, 'num_leaves': 36, 'max_depth': 51, 'subsample': 0.6180309898782375, 'colsample_bytree': 0.7701275381788223, 'reg_alpha': 18.29937980104291, 'reg_lambda': 71.91904253800291, 'min_child_samples': 44, 'min_child_weight': 7.849816295582275}. Best is trial 55 with value: 0.8338710689849979.\u001b[0m\n",
            "\u001b[32m[I 2022-12-16 16:31:31,438]\u001b[0m Trial 325 finished with value: 0.6161634548992531 and parameters: {'boosting_type': 'gbdt', 'learning_rate': 0.08214821611420335, 'n_estimators': 218, 'num_leaves': 47, 'max_depth': 73, 'subsample': 0.6709043300826318, 'colsample_bytree': 0.9932103284549465, 'reg_alpha': 22.640576588049395, 'reg_lambda': 54.79752899659575, 'min_child_samples': 333, 'min_child_weight': 7.323018208561265}. Best is trial 55 with value: 0.8338710689849979.\u001b[0m\n",
            "\u001b[32m[I 2022-12-16 16:31:32,127]\u001b[0m Trial 326 finished with value: 0.8316364321134895 and parameters: {'boosting_type': 'dart', 'learning_rate': 0.08522332883611905, 'n_estimators': 258, 'num_leaves': 44, 'max_depth': 96, 'subsample': 0.6333605291528697, 'colsample_bytree': 0.9169131653547353, 'reg_alpha': 17.540708641028274, 'reg_lambda': 88.35363048421766, 'min_child_samples': 38, 'min_child_weight': 7.925891181758257}. Best is trial 55 with value: 0.8338710689849979.\u001b[0m\n",
            "\u001b[32m[I 2022-12-16 16:31:33,416]\u001b[0m Trial 327 finished with value: 0.7990772707300232 and parameters: {'boosting_type': 'dart', 'learning_rate': 0.048379924432311414, 'n_estimators': 440, 'num_leaves': 41, 'max_depth': 87, 'subsample': 0.6065435626040875, 'colsample_bytree': 0.7808232136924569, 'reg_alpha': 14.742510109743755, 'reg_lambda': 74.54668407302792, 'min_child_samples': 72, 'min_child_weight': 4.165085181810523}. Best is trial 55 with value: 0.8338710689849979.\u001b[0m\n",
            "\u001b[32m[I 2022-12-16 16:31:34,327]\u001b[0m Trial 328 finished with value: 0.827154604230745 and parameters: {'boosting_type': 'dart', 'learning_rate': 0.08844441869519742, 'n_estimators': 316, 'num_leaves': 43, 'max_depth': 99, 'subsample': 0.7800346389847832, 'colsample_bytree': 0.9099634656072063, 'reg_alpha': 19.13758522655868, 'reg_lambda': 99.56444085465883, 'min_child_samples': 44, 'min_child_weight': 8.272691827557976}. Best is trial 55 with value: 0.8338710689849979.\u001b[0m\n",
            "\u001b[32m[I 2022-12-16 16:31:35,861]\u001b[0m Trial 329 finished with value: 0.8338710689849979 and parameters: {'boosting_type': 'dart', 'learning_rate': 0.08782072894853586, 'n_estimators': 448, 'num_leaves': 59, 'max_depth': 41, 'subsample': 0.7022547080023404, 'colsample_bytree': 0.7556507204026088, 'reg_alpha': 10.818660325417051, 'reg_lambda': 83.37992345721787, 'min_child_samples': 21, 'min_child_weight': 8.105896528934421}. Best is trial 55 with value: 0.8338710689849979.\u001b[0m\n",
            "\u001b[32m[I 2022-12-16 16:31:36,495]\u001b[0m Trial 330 finished with value: 0.8192643274119641 and parameters: {'boosting_type': 'dart', 'learning_rate': 0.08081638943858085, 'n_estimators': 269, 'num_leaves': 33, 'max_depth': 44, 'subsample': 0.6276383099085263, 'colsample_bytree': 0.9416817238249888, 'reg_alpha': 41.63818527196457, 'reg_lambda': 72.51442105882832, 'min_child_samples': 30, 'min_child_weight': 7.787828264300778}. Best is trial 55 with value: 0.8338710689849979.\u001b[0m\n",
            "\u001b[32m[I 2022-12-16 16:31:36,799]\u001b[0m Trial 331 finished with value: 0.8327537505492437 and parameters: {'boosting_type': 'dart', 'learning_rate': 0.06567368298638386, 'n_estimators': 118, 'num_leaves': 58, 'max_depth': 43, 'subsample': 0.9190668446508904, 'colsample_bytree': 0.8642936371920784, 'reg_alpha': 8.414921741403704, 'reg_lambda': 38.6965120320803, 'min_child_samples': 20, 'min_child_weight': 3.8373540990322494}. Best is trial 55 with value: 0.8338710689849979.\u001b[0m\n",
            "\u001b[32m[I 2022-12-16 16:31:37,079]\u001b[0m Trial 332 finished with value: 0.8181972255351203 and parameters: {'boosting_type': 'gbdt', 'learning_rate': 0.07777423683809366, 'n_estimators': 275, 'num_leaves': 38, 'max_depth': 44, 'subsample': 0.677387690870154, 'colsample_bytree': 0.8513539120639112, 'reg_alpha': 12.182537761153295, 'reg_lambda': 0.00024632013914058226, 'min_child_samples': 28, 'min_child_weight': 7.672533487389653}. Best is trial 55 with value: 0.8338710689849979.\u001b[0m\n",
            "\u001b[32m[I 2022-12-16 16:31:37,949]\u001b[0m Trial 333 finished with value: 0.7935220639005712 and parameters: {'boosting_type': 'dart', 'learning_rate': 0.07367814082865604, 'n_estimators': 321, 'num_leaves': 48, 'max_depth': 11, 'subsample': 0.668658688803189, 'colsample_bytree': 0.9571827964136829, 'reg_alpha': 20.88795510832528, 'reg_lambda': 78.4184489085541, 'min_child_samples': 62, 'min_child_weight': 8.1037099041339}. Best is trial 55 with value: 0.8338710689849979.\u001b[0m\n",
            "\u001b[32m[I 2022-12-16 16:31:38,746]\u001b[0m Trial 334 finished with value: 0.8013119076015316 and parameters: {'boosting_type': 'dart', 'learning_rate': 0.08456052754898136, 'n_estimators': 304, 'num_leaves': 49, 'max_depth': 100, 'subsample': 0.6327497699106558, 'colsample_bytree': 0.8220931378231365, 'reg_alpha': 27.226425307778495, 'reg_lambda': 57.0704675774022, 'min_child_samples': 49, 'min_child_weight': 6.222072499094063}. Best is trial 55 with value: 0.8338710689849979.\u001b[0m\n",
            "\u001b[32m[I 2022-12-16 16:31:39,601]\u001b[0m Trial 335 finished with value: 0.7923608059757704 and parameters: {'boosting_type': 'dart', 'learning_rate': 0.08351441008015202, 'n_estimators': 418, 'num_leaves': 45, 'max_depth': 34, 'subsample': 0.743062021826614, 'colsample_bytree': 0.9037314424732255, 'reg_alpha': 19.63349895637032, 'reg_lambda': 97.74995894579881, 'min_child_samples': 256, 'min_child_weight': 8.45306134242823}. Best is trial 55 with value: 0.8338710689849979.\u001b[0m\n",
            "\u001b[32m[I 2022-12-16 16:31:40,299]\u001b[0m Trial 336 finished with value: 0.7901512773837174 and parameters: {'boosting_type': 'dart', 'learning_rate': 0.07933653825554261, 'n_estimators': 271, 'num_leaves': 70, 'max_depth': 90, 'subsample': 0.6001521773332752, 'colsample_bytree': 0.9410861638973358, 'reg_alpha': 47.08656810885338, 'reg_lambda': 75.0062706492544, 'min_child_samples': 37, 'min_child_weight': 7.039407204332887}. Best is trial 55 with value: 0.8338710689849979.\u001b[0m\n",
            "\u001b[32m[I 2022-12-16 16:31:40,786]\u001b[0m Trial 337 finished with value: 0.8338710689849979 and parameters: {'boosting_type': 'dart', 'learning_rate': 0.09077615612907136, 'n_estimators': 203, 'num_leaves': 52, 'max_depth': 39, 'subsample': 0.6739107182274936, 'colsample_bytree': 0.9316340995289698, 'reg_alpha': 25.67513339897198, 'reg_lambda': 61.377906163362596, 'min_child_samples': 36, 'min_child_weight': 8.310921454133434}. Best is trial 55 with value: 0.8338710689849979.\u001b[0m\n",
            "\u001b[32m[I 2022-12-16 16:31:41,240]\u001b[0m Trial 338 finished with value: 0.8338710689849979 and parameters: {'boosting_type': 'dart', 'learning_rate': 0.07415488381585925, 'n_estimators': 187, 'num_leaves': 52, 'max_depth': 84, 'subsample': 0.6825495335286336, 'colsample_bytree': 0.9343063504308644, 'reg_alpha': 23.44046784047827, 'reg_lambda': 68.8478046204702, 'min_child_samples': 33, 'min_child_weight': 6.47223722058065}. Best is trial 55 with value: 0.8338710689849979.\u001b[0m\n",
            "\u001b[32m[I 2022-12-16 16:31:41,634]\u001b[0m Trial 339 finished with value: 0.8249074132195091 and parameters: {'boosting_type': 'dart', 'learning_rate': 0.08292620804202312, 'n_estimators': 175, 'num_leaves': 52, 'max_depth': 82, 'subsample': 0.6850949755016771, 'colsample_bytree': 0.9333550951579712, 'reg_alpha': 22.508790993406386, 'reg_lambda': 98.17918768477873, 'min_child_samples': 54, 'min_child_weight': 6.819318461597868}. Best is trial 55 with value: 0.8338710689849979.\u001b[0m\n",
            "\u001b[32m[I 2022-12-16 16:31:41,867]\u001b[0m Trial 340 finished with value: 0.8316301550436258 and parameters: {'boosting_type': 'gbdt', 'learning_rate': 0.08134050886362956, 'n_estimators': 123, 'num_leaves': 36, 'max_depth': 84, 'subsample': 0.6366482315723198, 'colsample_bytree': 0.957799195398517, 'reg_alpha': 17.321274229203734, 'reg_lambda': 68.96306492725115, 'min_child_samples': 42, 'min_child_weight': 6.510589834452668}. Best is trial 55 with value: 0.8338710689849979.\u001b[0m\n",
            "\u001b[32m[I 2022-12-16 16:31:42,695]\u001b[0m Trial 341 finished with value: 0.8238152030632101 and parameters: {'boosting_type': 'dart', 'learning_rate': 0.016183138318938743, 'n_estimators': 296, 'num_leaves': 40, 'max_depth': 87, 'subsample': 0.6599880078104471, 'colsample_bytree': 0.9226161052644385, 'reg_alpha': 15.151275793524905, 'reg_lambda': 77.6242581703926, 'min_child_samples': 28, 'min_child_weight': 7.638775440475468}. Best is trial 55 with value: 0.8338710689849979.\u001b[0m\n",
            "\u001b[32m[I 2022-12-16 16:31:43,423]\u001b[0m Trial 342 finished with value: 0.830500282468144 and parameters: {'boosting_type': 'dart', 'learning_rate': 0.018762132666412995, 'n_estimators': 281, 'num_leaves': 55, 'max_depth': 80, 'subsample': 0.6943924946852134, 'colsample_bytree': 0.8971413152153224, 'reg_alpha': 28.976441302404048, 'reg_lambda': 66.10607530470307, 'min_child_samples': 30, 'min_child_weight': 8.901563188382434}. Best is trial 55 with value: 0.8338710689849979.\u001b[0m\n",
            "\u001b[32m[I 2022-12-16 16:31:45,041]\u001b[0m Trial 343 finished with value: 0.8338710689849979 and parameters: {'boosting_type': 'dart', 'learning_rate': 0.07464021999465689, 'n_estimators': 484, 'num_leaves': 45, 'max_depth': 47, 'subsample': 0.8981104906894307, 'colsample_bytree': 0.9269183454240133, 'reg_alpha': 21.431788148802962, 'reg_lambda': 85.8415815453765, 'min_child_samples': 20, 'min_child_weight': 5.9511605955497835}. Best is trial 55 with value: 0.8338710689849979.\u001b[0m\n",
            "\u001b[32m[I 2022-12-16 16:31:45,793]\u001b[0m Trial 344 finished with value: 0.6161634548992531 and parameters: {'boosting_type': 'dart', 'learning_rate': 0.0006986378629840959, 'n_estimators': 310, 'num_leaves': 42, 'max_depth': 49, 'subsample': 0.6184596832978997, 'colsample_bytree': 0.8710627692290778, 'reg_alpha': 18.78861128928239, 'reg_lambda': 92.46749593893105, 'min_child_samples': 38, 'min_child_weight': 7.437560597466615}. Best is trial 55 with value: 0.8338710689849979.\u001b[0m\n",
            "\u001b[32m[I 2022-12-16 16:31:47,344]\u001b[0m Trial 345 finished with value: 0.8215303496327915 and parameters: {'boosting_type': 'dart', 'learning_rate': 0.07622797121772423, 'n_estimators': 483, 'num_leaves': 39, 'max_depth': 47, 'subsample': 0.6198164669155012, 'colsample_bytree': 0.9469270522264658, 'reg_alpha': 19.289800154734756, 'reg_lambda': 86.8513058158897, 'min_child_samples': 50, 'min_child_weight': 5.973100686721498}. Best is trial 55 with value: 0.8338710689849979.\u001b[0m\n",
            "\u001b[32m[I 2022-12-16 16:31:47,891]\u001b[0m Trial 346 finished with value: 0.6161634548992531 and parameters: {'boosting_type': 'dart', 'learning_rate': 0.09243066362634246, 'n_estimators': 301, 'num_leaves': 46, 'max_depth': 4, 'subsample': 0.6870590464808748, 'colsample_bytree': 0.9123134261587649, 'reg_alpha': 79.0705014467888, 'reg_lambda': 72.10506747601144, 'min_child_samples': 31, 'min_child_weight': 0.8955161312834283}. Best is trial 55 with value: 0.8338710689849979.\u001b[0m\n",
            "\u001b[32m[I 2022-12-16 16:31:49,422]\u001b[0m Trial 347 finished with value: 0.8316364321134895 and parameters: {'boosting_type': 'dart', 'learning_rate': 0.05238471468206569, 'n_estimators': 467, 'num_leaves': 40, 'max_depth': 66, 'subsample': 0.6623606192025444, 'colsample_bytree': 0.8879198893035737, 'reg_alpha': 14.098817001689909, 'reg_lambda': 76.382936205185, 'min_child_samples': 40, 'min_child_weight': 7.250337152020498}. Best is trial 55 with value: 0.8338710689849979.\u001b[0m\n",
            "\u001b[32m[I 2022-12-16 16:31:50,122]\u001b[0m Trial 348 finished with value: 0.8338710689849979 and parameters: {'boosting_type': 'dart', 'learning_rate': 0.09096619873304615, 'n_estimators': 264, 'num_leaves': 54, 'max_depth': 61, 'subsample': 0.7088553150738108, 'colsample_bytree': 0.8850433537846274, 'reg_alpha': 16.63177331444269, 'reg_lambda': 90.54523617565255, 'min_child_samples': 22, 'min_child_weight': 8.027620638588223}. Best is trial 55 with value: 0.8338710689849979.\u001b[0m\n",
            "\u001b[32m[I 2022-12-16 16:31:51,495]\u001b[0m Trial 349 finished with value: 0.8338710689849979 and parameters: {'boosting_type': 'dart', 'learning_rate': 0.0387054990055951, 'n_estimators': 439, 'num_leaves': 55, 'max_depth': 61, 'subsample': 0.6510108199170772, 'colsample_bytree': 0.9407678291361584, 'reg_alpha': 24.44720837390856, 'reg_lambda': 82.24997611233627, 'min_child_samples': 28, 'min_child_weight': 7.094494617672999}. Best is trial 55 with value: 0.8338710689849979.\u001b[0m\n",
            "\u001b[32m[I 2022-12-16 16:31:52,793]\u001b[0m Trial 350 finished with value: 0.8192894356914191 and parameters: {'boosting_type': 'dart', 'learning_rate': 0.037211620250553815, 'n_estimators': 432, 'num_leaves': 55, 'max_depth': 68, 'subsample': 0.6517439552039167, 'colsample_bytree': 0.8756887402510555, 'reg_alpha': 31.22712623053068, 'reg_lambda': 51.73549817813818, 'min_child_samples': 47, 'min_child_weight': 7.075364150378255}. Best is trial 55 with value: 0.8338710689849979.\u001b[0m\n",
            "\u001b[32m[I 2022-12-16 16:31:53,734]\u001b[0m Trial 351 finished with value: 0.828253091456908 and parameters: {'boosting_type': 'dart', 'learning_rate': 0.08541257876061911, 'n_estimators': 331, 'num_leaves': 48, 'max_depth': 98, 'subsample': 0.7192577926320638, 'colsample_bytree': 0.8617806614688336, 'reg_alpha': 28.236000614646425, 'reg_lambda': 53.339162331537956, 'min_child_samples': 20, 'min_child_weight': 7.368356184079769}. Best is trial 55 with value: 0.8338710689849979.\u001b[0m\n",
            "\u001b[32m[I 2022-12-16 16:31:54,580]\u001b[0m Trial 352 finished with value: 0.7912372104701525 and parameters: {'boosting_type': 'dart', 'learning_rate': 0.08561924288778495, 'n_estimators': 429, 'num_leaves': 62, 'max_depth': 97, 'subsample': 0.7102997878760414, 'colsample_bytree': 0.9015070943663483, 'reg_alpha': 26.362199427204015, 'reg_lambda': 88.94944334467715, 'min_child_samples': 224, 'min_child_weight': 7.3165063928937695}. Best is trial 55 with value: 0.8338710689849979.\u001b[0m\n",
            "\u001b[32m[I 2022-12-16 16:31:55,422]\u001b[0m Trial 353 finished with value: 0.8013872324398971 and parameters: {'boosting_type': 'dart', 'learning_rate': 0.011370398279843472, 'n_estimators': 338, 'num_leaves': 52, 'max_depth': 54, 'subsample': 0.6122284381693018, 'colsample_bytree': 0.8506525543565148, 'reg_alpha': 25.55365696718395, 'reg_lambda': 50.07124197146982, 'min_child_samples': 62, 'min_child_weight': 7.377724883362007}. Best is trial 55 with value: 0.8338710689849979.\u001b[0m\n",
            "\u001b[32m[I 2022-12-16 16:31:55,811]\u001b[0m Trial 354 finished with value: 0.8237838177138912 and parameters: {'boosting_type': 'gbdt', 'learning_rate': 0.07764860766985418, 'n_estimators': 288, 'num_leaves': 45, 'max_depth': 88, 'subsample': 0.6476174237853541, 'colsample_bytree': 0.8850644003935244, 'reg_alpha': 4.179018811674977, 'reg_lambda': 52.25685666046208, 'min_child_samples': 21, 'min_child_weight': 7.163397595042828}. Best is trial 55 with value: 0.8338710689849979.\u001b[0m\n",
            "\u001b[32m[I 2022-12-16 16:31:56,461]\u001b[0m Trial 355 finished with value: 0.8338710689849979 and parameters: {'boosting_type': 'dart', 'learning_rate': 0.09349989255015372, 'n_estimators': 240, 'num_leaves': 47, 'max_depth': 91, 'subsample': 0.6588946094799295, 'colsample_bytree': 0.807290595296356, 'reg_alpha': 10.324884281880811, 'reg_lambda': 71.7910916734068, 'min_child_samples': 28, 'min_child_weight': 4.618100915229062}. Best is trial 55 with value: 0.8338710689849979.\u001b[0m\n",
            "\u001b[32m[I 2022-12-16 16:31:57,262]\u001b[0m Trial 356 finished with value: 0.8204130311970372 and parameters: {'boosting_type': 'dart', 'learning_rate': 0.08066125088159291, 'n_estimators': 295, 'num_leaves': 41, 'max_depth': 75, 'subsample': 0.6270032017794025, 'colsample_bytree': 0.7714716417951404, 'reg_alpha': 16.64404797422285, 'reg_lambda': 46.99707799939648, 'min_child_samples': 39, 'min_child_weight': 7.61682558174921}. Best is trial 55 with value: 0.8338710689849979.\u001b[0m\n",
            "\u001b[32m[I 2022-12-16 16:31:58,851]\u001b[0m Trial 357 finished with value: 0.8215240725629277 and parameters: {'boosting_type': 'dart', 'learning_rate': 0.07748163517103507, 'n_estimators': 458, 'num_leaves': 71, 'max_depth': 98, 'subsample': 0.6203966410793035, 'colsample_bytree': 0.7636377470043206, 'reg_alpha': 2.0476220954628896, 'reg_lambda': 93.72087281336951, 'min_child_samples': 53, 'min_child_weight': 5.011743945941661}. Best is trial 55 with value: 0.8338710689849979.\u001b[0m\n",
            "\u001b[32m[I 2022-12-16 16:31:59,758]\u001b[0m Trial 358 finished with value: 0.8338710689849979 and parameters: {'boosting_type': 'dart', 'learning_rate': 0.08695468046315166, 'n_estimators': 308, 'num_leaves': 68, 'max_depth': 4, 'subsample': 0.7551120446575584, 'colsample_bytree': 0.9010978045300854, 'reg_alpha': 8.419502356581098, 'reg_lambda': 55.83515215255253, 'min_child_samples': 35, 'min_child_weight': 3.477332723338863}. Best is trial 55 with value: 0.8338710689849979.\u001b[0m\n",
            "\u001b[32m[I 2022-12-16 16:32:00,389]\u001b[0m Trial 359 finished with value: 0.8024355031071495 and parameters: {'boosting_type': 'dart', 'learning_rate': 0.0820850815211585, 'n_estimators': 250, 'num_leaves': 38, 'max_depth': 51, 'subsample': 0.6307330327620353, 'colsample_bytree': 0.7856541584229567, 'reg_alpha': 18.741179145258865, 'reg_lambda': 96.46198007081877, 'min_child_samples': 45, 'min_child_weight': 7.818824774394472}. Best is trial 55 with value: 0.8338710689849979.\u001b[0m\n",
            "\u001b[32m[I 2022-12-16 16:32:02,066]\u001b[0m Trial 360 finished with value: 0.8338710689849979 and parameters: {'boosting_type': 'dart', 'learning_rate': 0.0791652621688486, 'n_estimators': 488, 'num_leaves': 43, 'max_depth': 78, 'subsample': 0.6690347914194142, 'colsample_bytree': 0.8947688171616587, 'reg_alpha': 20.647182627699536, 'reg_lambda': 79.26874630757882, 'min_child_samples': 36, 'min_child_weight': 5.831930369947558}. Best is trial 55 with value: 0.8338710689849979.\u001b[0m\n",
            "\u001b[32m[I 2022-12-16 16:32:02,910]\u001b[0m Trial 361 finished with value: 0.8338710689849979 and parameters: {'boosting_type': 'dart', 'learning_rate': 0.08649179735400123, 'n_estimators': 290, 'num_leaves': 47, 'max_depth': 89, 'subsample': 0.6918573308770057, 'colsample_bytree': 0.8930754528858086, 'reg_alpha': 7.785610197423612, 'reg_lambda': 81.41634566339644, 'min_child_samples': 28, 'min_child_weight': 8.533960451138217}. Best is trial 55 with value: 0.8338710689849979.\u001b[0m\n",
            "\u001b[32m[I 2022-12-16 16:32:03,638]\u001b[0m Trial 362 finished with value: 0.8294017952419811 and parameters: {'boosting_type': 'dart', 'learning_rate': 0.09744886117700433, 'n_estimators': 275, 'num_leaves': 42, 'max_depth': 79, 'subsample': 0.6890632860109109, 'colsample_bytree': 0.7953373817387733, 'reg_alpha': 19.959977313066865, 'reg_lambda': 79.28001897341221, 'min_child_samples': 40, 'min_child_weight': 8.65653598831586}. Best is trial 55 with value: 0.8338710689849979.\u001b[0m\n",
            "\u001b[32m[I 2022-12-16 16:32:05,040]\u001b[0m Trial 363 finished with value: 0.8192643274119641 and parameters: {'boosting_type': 'dart', 'learning_rate': 0.08759347109129131, 'n_estimators': 449, 'num_leaves': 53, 'max_depth': 94, 'subsample': 0.6544208823459673, 'colsample_bytree': 0.9170309532115245, 'reg_alpha': 30.671244718273364, 'reg_lambda': 83.76156928195724, 'min_child_samples': 20, 'min_child_weight': 7.633032736038593}. Best is trial 55 with value: 0.8338710689849979.\u001b[0m\n",
            "\u001b[32m[I 2022-12-16 16:32:06,265]\u001b[0m Trial 364 finished with value: 0.8338710689849979 and parameters: {'boosting_type': 'dart', 'learning_rate': 0.08352648941370097, 'n_estimators': 393, 'num_leaves': 50, 'max_depth': 96, 'subsample': 0.639945021573033, 'colsample_bytree': 0.8411166305841488, 'reg_alpha': 13.18442449779721, 'reg_lambda': 91.57765939547124, 'min_child_samples': 30, 'min_child_weight': 6.981184992358554}. Best is trial 55 with value: 0.8338710689849979.\u001b[0m\n",
            "\u001b[32m[I 2022-12-16 16:32:07,073]\u001b[0m Trial 365 finished with value: 0.8338710689849979 and parameters: {'boosting_type': 'dart', 'learning_rate': 0.0796773189381423, 'n_estimators': 283, 'num_leaves': 49, 'max_depth': 86, 'subsample': 0.6104371345326488, 'colsample_bytree': 0.929302574929992, 'reg_alpha': 12.530208273277708, 'reg_lambda': 95.45775833423473, 'min_child_samples': 31, 'min_child_weight': 6.993666331109733}. Best is trial 55 with value: 0.8338710689849979.\u001b[0m\n",
            "\u001b[32m[I 2022-12-16 16:32:07,930]\u001b[0m Trial 366 finished with value: 0.8249074132195091 and parameters: {'boosting_type': 'dart', 'learning_rate': 0.08016119552352755, 'n_estimators': 291, 'num_leaves': 49, 'max_depth': 86, 'subsample': 0.6073954814901286, 'colsample_bytree': 0.8466885115493522, 'reg_alpha': 12.57141701272405, 'reg_lambda': 96.29732609535405, 'min_child_samples': 43, 'min_child_weight': 6.843094762065958}. Best is trial 55 with value: 0.8338710689849979.\u001b[0m\n",
            "\u001b[32m[I 2022-12-16 16:32:08,995]\u001b[0m Trial 367 finished with value: 0.8271420500910175 and parameters: {'boosting_type': 'dart', 'learning_rate': 0.07628697377615683, 'n_estimators': 348, 'num_leaves': 57, 'max_depth': 40, 'subsample': 0.814993958756004, 'colsample_bytree': 0.9725712366557464, 'reg_alpha': 15.236878846313633, 'reg_lambda': 87.31402623820165, 'min_child_samples': 53, 'min_child_weight': 3.2980187094825424}. Best is trial 55 with value: 0.8338710689849979.\u001b[0m\n",
            "\u001b[32m[I 2022-12-16 16:32:09,672]\u001b[0m Trial 368 finished with value: 0.8316364321134895 and parameters: {'boosting_type': 'dart', 'learning_rate': 0.0889746460853652, 'n_estimators': 227, 'num_leaves': 64, 'max_depth': 82, 'subsample': 0.7021206839149233, 'colsample_bytree': 0.8920708935359056, 'reg_alpha': 6.5830800020309965, 'reg_lambda': 32.80758538931505, 'min_child_samples': 34, 'min_child_weight': 9.588396412336374}. Best is trial 55 with value: 0.8338710689849979.\u001b[0m\n",
            "\u001b[32m[I 2022-12-16 16:32:10,774]\u001b[0m Trial 369 finished with value: 0.828253091456908 and parameters: {'boosting_type': 'dart', 'learning_rate': 0.08491061145229642, 'n_estimators': 373, 'num_leaves': 60, 'max_depth': 94, 'subsample': 0.7243423518624384, 'colsample_bytree': 0.9022985502719745, 'reg_alpha': 27.16299567179663, 'reg_lambda': 59.035379120444794, 'min_child_samples': 29, 'min_child_weight': 2.9055010517714748}. Best is trial 55 with value: 0.8338710689849979.\u001b[0m\n",
            "\u001b[32m[I 2022-12-16 16:32:11,673]\u001b[0m Trial 370 finished with value: 0.828253091456908 and parameters: {'boosting_type': 'dart', 'learning_rate': 0.08883996938471805, 'n_estimators': 321, 'num_leaves': 63, 'max_depth': 92, 'subsample': 0.716762485566616, 'colsample_bytree': 0.8595940326709898, 'reg_alpha': 28.35597082848725, 'reg_lambda': 94.79039697106896, 'min_child_samples': 20, 'min_child_weight': 7.4995966873596895}. Best is trial 55 with value: 0.8338710689849979.\u001b[0m\n",
            "\u001b[32m[I 2022-12-16 16:32:12,196]\u001b[0m Trial 371 finished with value: 0.764270918335321 and parameters: {'boosting_type': 'dart', 'learning_rate': 0.09297358367350378, 'n_estimators': 299, 'num_leaves': 43, 'max_depth': 81, 'subsample': 0.6994742844879795, 'colsample_bytree': 0.8146245006835687, 'reg_alpha': 67.2832488864062, 'reg_lambda': 67.41504329719244, 'min_child_samples': 38, 'min_child_weight': 9.25438722315122}. Best is trial 55 with value: 0.8338710689849979.\u001b[0m\n",
            "\u001b[32m[I 2022-12-16 16:32:12,858]\u001b[0m Trial 372 finished with value: 0.8215240725629276 and parameters: {'boosting_type': 'dart', 'learning_rate': 0.08115517152061673, 'n_estimators': 257, 'num_leaves': 34, 'max_depth': 48, 'subsample': 0.6790047202374249, 'colsample_bytree': 0.881212243794915, 'reg_alpha': 17.357658999968514, 'reg_lambda': 45.37877200180553, 'min_child_samples': 46, 'min_child_weight': 7.811631881881231}. Best is trial 55 with value: 0.8338710689849979.\u001b[0m\n",
            "\u001b[32m[I 2022-12-16 16:32:13,053]\u001b[0m Trial 373 finished with value: 0.6161634548992531 and parameters: {'boosting_type': 'dart', 'learning_rate': 0.07149567451541182, 'n_estimators': 281, 'num_leaves': 60, 'max_depth': 77, 'subsample': 0.6969473314420922, 'colsample_bytree': 0.8289139143716453, 'reg_alpha': 5.692397392223872, 'reg_lambda': 39.36835345514466, 'min_child_samples': 361, 'min_child_weight': 5.339058335236289}. Best is trial 55 with value: 0.8338710689849979.\u001b[0m\n",
            "\u001b[32m[I 2022-12-16 16:32:13,867]\u001b[0m Trial 374 finished with value: 0.8338710689849979 and parameters: {'boosting_type': 'dart', 'learning_rate': 0.08930375174855709, 'n_estimators': 304, 'num_leaves': 44, 'max_depth': 94, 'subsample': 0.6678934690467764, 'colsample_bytree': 0.9133387838239454, 'reg_alpha': 24.45349495992779, 'reg_lambda': 53.9057125253239, 'min_child_samples': 35, 'min_child_weight': 8.07898212558217}. Best is trial 55 with value: 0.8338710689849979.\u001b[0m\n",
            "\u001b[32m[I 2022-12-16 16:32:15,081]\u001b[0m Trial 375 finished with value: 0.8091519678614023 and parameters: {'boosting_type': 'dart', 'learning_rate': 0.07512985413919863, 'n_estimators': 404, 'num_leaves': 51, 'max_depth': 44, 'subsample': 0.641482898900986, 'colsample_bytree': 0.7141115645617122, 'reg_alpha': 21.909240521330744, 'reg_lambda': 82.13590455065689, 'min_child_samples': 20, 'min_child_weight': 7.3840879072249015}. Best is trial 55 with value: 0.8338710689849979.\u001b[0m\n",
            "\u001b[32m[I 2022-12-16 16:32:15,846]\u001b[0m Trial 376 finished with value: 0.7856568953612454 and parameters: {'boosting_type': 'dart', 'learning_rate': 0.08355269735643508, 'n_estimators': 298, 'num_leaves': 44, 'max_depth': 94, 'subsample': 0.6348657338800373, 'colsample_bytree': 0.9353802943307711, 'reg_alpha': 17.65626511772836, 'reg_lambda': 91.38857087685156, 'min_child_samples': 67, 'min_child_weight': 8.19932280840561}. Best is trial 55 with value: 0.8338710689849979.\u001b[0m\n",
            "\u001b[32m[I 2022-12-16 16:32:16,677]\u001b[0m Trial 377 finished with value: 0.8327474734793799 and parameters: {'boosting_type': 'dart', 'learning_rate': 0.025383569614343224, 'n_estimators': 313, 'num_leaves': 31, 'max_depth': 91, 'subsample': 0.6481608213482073, 'colsample_bytree': 0.9506166424532204, 'reg_alpha': 22.47166618736112, 'reg_lambda': 86.79529444688855, 'min_child_samples': 20, 'min_child_weight': 7.195972276107451}. Best is trial 55 with value: 0.8338710689849979.\u001b[0m\n",
            "\u001b[32m[I 2022-12-16 16:32:17,808]\u001b[0m Trial 378 finished with value: 0.8338710689849979 and parameters: {'boosting_type': 'dart', 'learning_rate': 0.07636120463863215, 'n_estimators': 355, 'num_leaves': 69, 'max_depth': 42, 'subsample': 0.7617342332566974, 'colsample_bytree': 0.9814572883525727, 'reg_alpha': 12.258192170341117, 'reg_lambda': 77.03050273328387, 'min_child_samples': 27, 'min_child_weight': 7.929371134141286}. Best is trial 55 with value: 0.8338710689849979.\u001b[0m\n",
            "\u001b[32m[I 2022-12-16 16:32:18,771]\u001b[0m Trial 379 finished with value: 0.7856129558721989 and parameters: {'boosting_type': 'dart', 'learning_rate': 0.006658272552334926, 'n_estimators': 447, 'num_leaves': 37, 'max_depth': 45, 'subsample': 0.6451076322266749, 'colsample_bytree': 0.7374271000423664, 'reg_alpha': 38.01073675317526, 'reg_lambda': 75.0115847774862, 'min_child_samples': 162, 'min_child_weight': 7.203399354068078}. Best is trial 55 with value: 0.8338710689849979.\u001b[0m\n",
            "\u001b[32m[I 2022-12-16 16:32:19,512]\u001b[0m Trial 380 finished with value: 0.8338710689849979 and parameters: {'boosting_type': 'dart', 'learning_rate': 0.07863265348543445, 'n_estimators': 257, 'num_leaves': 41, 'max_depth': 42, 'subsample': 0.6614744171244961, 'colsample_bytree': 0.8028885663857668, 'reg_alpha': 10.920676078958708, 'reg_lambda': 73.7057419648107, 'min_child_samples': 29, 'min_child_weight': 7.9229881118137495}. Best is trial 55 with value: 0.8338710689849979.\u001b[0m\n",
            "\u001b[32m[I 2022-12-16 16:32:20,154]\u001b[0m Trial 381 finished with value: 0.8316238779737619 and parameters: {'boosting_type': 'dart', 'learning_rate': 0.05859144247705866, 'n_estimators': 234, 'num_leaves': 56, 'max_depth': 42, 'subsample': 0.6543963601498571, 'colsample_bytree': 0.7231875450405981, 'reg_alpha': 10.337733069370726, 'reg_lambda': 70.53546445550066, 'min_child_samples': 28, 'min_child_weight': 4.332637604784171}. Best is trial 55 with value: 0.8338710689849979.\u001b[0m\n",
            "\u001b[32m[I 2022-12-16 16:32:20,815]\u001b[0m Trial 382 finished with value: 0.8349883874207521 and parameters: {'boosting_type': 'dart', 'learning_rate': 0.07782045489758342, 'n_estimators': 245, 'num_leaves': 57, 'max_depth': 88, 'subsample': 0.6000656334940778, 'colsample_bytree': 0.7772728882858525, 'reg_alpha': 9.452305856566438, 'reg_lambda': 42.4636864679745, 'min_child_samples': 29, 'min_child_weight': 7.634575873503615}. Best is trial 382 with value: 0.8349883874207521.\u001b[0m\n",
            "\u001b[32m[I 2022-12-16 16:32:21,489]\u001b[0m Trial 383 finished with value: 0.8192894356914191 and parameters: {'boosting_type': 'dart', 'learning_rate': 0.08335329764082289, 'n_estimators': 241, 'num_leaves': 53, 'max_depth': 90, 'subsample': 0.6440567716016963, 'colsample_bytree': 0.9088852189214573, 'reg_alpha': 2.6584950253868476, 'reg_lambda': 44.23515156986828, 'min_child_samples': 45, 'min_child_weight': 6.735619415139806}. Best is trial 382 with value: 0.8349883874207521.\u001b[0m\n",
            "\u001b[32m[I 2022-12-16 16:32:23,047]\u001b[0m Trial 384 finished with value: 0.8237775406440273 and parameters: {'boosting_type': 'dart', 'learning_rate': 0.09589196637821196, 'n_estimators': 468, 'num_leaves': 59, 'max_depth': 44, 'subsample': 0.6016630339727753, 'colsample_bytree': 0.7771338560456117, 'reg_alpha': 10.034739282403722, 'reg_lambda': 60.967812308680415, 'min_child_samples': 54, 'min_child_weight': 8.087421040118246}. Best is trial 382 with value: 0.8349883874207521.\u001b[0m\n",
            "\u001b[32m[I 2022-12-16 16:32:24,214]\u001b[0m Trial 385 finished with value: 0.8338710689849979 and parameters: {'boosting_type': 'dart', 'learning_rate': 0.06913152683520736, 'n_estimators': 367, 'num_leaves': 50, 'max_depth': 35, 'subsample': 0.6045731482698533, 'colsample_bytree': 0.8141532834839226, 'reg_alpha': 12.384926506648585, 'reg_lambda': 46.0881301140349, 'min_child_samples': 31, 'min_child_weight': 4.810450761345801}. Best is trial 382 with value: 0.8349883874207521.\u001b[0m\n",
            "\u001b[32m[I 2022-12-16 16:32:25,831]\u001b[0m Trial 386 finished with value: 0.8091519678614023 and parameters: {'boosting_type': 'dart', 'learning_rate': 0.07432644896549452, 'n_estimators': 477, 'num_leaves': 53, 'max_depth': 52, 'subsample': 0.6181192701171374, 'colsample_bytree': 0.7496743876323132, 'reg_alpha': 21.22292532548792, 'reg_lambda': 84.29280392340075, 'min_child_samples': 20, 'min_child_weight': 7.552283255360195}. Best is trial 382 with value: 0.8349883874207521.\u001b[0m\n",
            "\u001b[32m[I 2022-12-16 16:32:26,960]\u001b[0m Trial 387 finished with value: 0.8069675475488042 and parameters: {'boosting_type': 'dart', 'learning_rate': 0.05580089777321799, 'n_estimators': 376, 'num_leaves': 50, 'max_depth': 47, 'subsample': 0.6020537696189707, 'colsample_bytree': 0.780608670945038, 'reg_alpha': 13.61092267543916, 'reg_lambda': 43.01475302178094, 'min_child_samples': 43, 'min_child_weight': 6.9883821380373705}. Best is trial 382 with value: 0.8349883874207521.\u001b[0m\n",
            "\u001b[32m[I 2022-12-16 16:32:27,660]\u001b[0m Trial 388 finished with value: 0.8204632477559475 and parameters: {'boosting_type': 'dart', 'learning_rate': 0.041866082148314006, 'n_estimators': 270, 'num_leaves': 48, 'max_depth': 84, 'subsample': 0.611109239395909, 'colsample_bytree': 0.7934257400332767, 'reg_alpha': 13.690898548477726, 'reg_lambda': 94.39243949646168, 'min_child_samples': 38, 'min_child_weight': 7.065503779354131}. Best is trial 382 with value: 0.8349883874207521.\u001b[0m\n",
            "\u001b[32m[I 2022-12-16 16:32:28,253]\u001b[0m Trial 389 finished with value: 0.7990772707300232 and parameters: {'boosting_type': 'dart', 'learning_rate': 0.08524069767726727, 'n_estimators': 248, 'num_leaves': 46, 'max_depth': 21, 'subsample': 0.8407889785771419, 'colsample_bytree': 0.8671835847843365, 'reg_alpha': 34.26510844653508, 'reg_lambda': 54.090520558359565, 'min_child_samples': 59, 'min_child_weight': 3.1820373719849284}. Best is trial 382 with value: 0.8349883874207521.\u001b[0m\n",
            "\u001b[32m[I 2022-12-16 16:32:28,957]\u001b[0m Trial 390 finished with value: 0.8282593685267716 and parameters: {'boosting_type': 'dart', 'learning_rate': 0.08183676907040816, 'n_estimators': 262, 'num_leaves': 56, 'max_depth': 40, 'subsample': 0.6273744121405028, 'colsample_bytree': 0.9412393618674347, 'reg_alpha': 15.575197968337227, 'reg_lambda': 99.94151246290238, 'min_child_samples': 49, 'min_child_weight': 8.03672900281344}. Best is trial 382 with value: 0.8349883874207521.\u001b[0m\n",
            "\u001b[32m[I 2022-12-16 16:32:29,482]\u001b[0m Trial 391 finished with value: 0.8361057058565062 and parameters: {'boosting_type': 'dart', 'learning_rate': 0.08982073889302954, 'n_estimators': 198, 'num_leaves': 55, 'max_depth': 88, 'subsample': 0.7137920352044803, 'colsample_bytree': 0.7697593654775751, 'reg_alpha': 5.13137156363926, 'reg_lambda': 62.21513408653043, 'min_child_samples': 20, 'min_child_weight': 8.329221604292918}. Best is trial 391 with value: 0.8361057058565062.\u001b[0m\n",
            "\u001b[32m[I 2022-12-16 16:32:30,034]\u001b[0m Trial 392 finished with value: 0.8338710689849979 and parameters: {'boosting_type': 'dart', 'learning_rate': 0.08207947897725061, 'n_estimators': 212, 'num_leaves': 51, 'max_depth': 89, 'subsample': 0.6833095659753946, 'colsample_bytree': 0.9193670147794922, 'reg_alpha': 20.545263301205143, 'reg_lambda': 99.90373322014406, 'min_child_samples': 20, 'min_child_weight': 8.484168108812558}. Best is trial 391 with value: 0.8361057058565062.\u001b[0m\n",
            "\u001b[32m[I 2022-12-16 16:32:30,205]\u001b[0m Trial 393 finished with value: 0.6161634548992531 and parameters: {'boosting_type': 'dart', 'learning_rate': 0.02852571911039585, 'n_estimators': 200, 'num_leaves': 37, 'max_depth': 32, 'subsample': 0.6135147584771592, 'colsample_bytree': 0.7744610917406852, 'reg_alpha': 8.609578100370495, 'reg_lambda': 85.48062359928801, 'min_child_samples': 408, 'min_child_weight': 7.309985852250724}. Best is trial 391 with value: 0.8361057058565062.\u001b[0m\n",
            "\u001b[32m[I 2022-12-16 16:32:30,747]\u001b[0m Trial 394 finished with value: 0.828253091456908 and parameters: {'boosting_type': 'dart', 'learning_rate': 0.07816423673941449, 'n_estimators': 217, 'num_leaves': 52, 'max_depth': 88, 'subsample': 0.6812155987482691, 'colsample_bytree': 0.7555971143542907, 'reg_alpha': 19.924332491031965, 'reg_lambda': 48.461950610430684, 'min_child_samples': 27, 'min_child_weight': 7.7080391284877905}. Best is trial 391 with value: 0.8361057058565062.\u001b[0m\n",
            "\u001b[32m[I 2022-12-16 16:32:31,455]\u001b[0m Trial 395 finished with value: 0.8361057058565062 and parameters: {'boosting_type': 'dart', 'learning_rate': 0.09508422699067681, 'n_estimators': 234, 'num_leaves': 57, 'max_depth': 85, 'subsample': 0.8337825548955279, 'colsample_bytree': 0.8947593321364342, 'reg_alpha': 4.04148329406209, 'reg_lambda': 68.12558963301095, 'min_child_samples': 20, 'min_child_weight': 4.04910015549226}. Best is trial 391 with value: 0.8361057058565062.\u001b[0m\n",
            "\u001b[32m[I 2022-12-16 16:32:32,140]\u001b[0m Trial 396 finished with value: 0.8338710689849979 and parameters: {'boosting_type': 'dart', 'learning_rate': 0.09395432525004997, 'n_estimators': 232, 'num_leaves': 55, 'max_depth': 85, 'subsample': 0.7154824892238639, 'colsample_bytree': 0.8979088930643297, 'reg_alpha': 4.8254720440359264, 'reg_lambda': 36.42969025269203, 'min_child_samples': 33, 'min_child_weight': 3.6945903711403645}. Best is trial 391 with value: 0.8361057058565062.\u001b[0m\n",
            "\u001b[32m[I 2022-12-16 16:32:32,731]\u001b[0m Trial 397 finished with value: 0.8271483271608814 and parameters: {'boosting_type': 'dart', 'learning_rate': 0.09895779233989126, 'n_estimators': 223, 'num_leaves': 57, 'max_depth': 86, 'subsample': 0.6325832889800039, 'colsample_bytree': 0.7601019176540865, 'reg_alpha': 0.7960265271807114, 'reg_lambda': 71.57658794469468, 'min_child_samples': 39, 'min_child_weight': 4.081371234496748}. Best is trial 391 with value: 0.8361057058565062.\u001b[0m\n",
            "\u001b[32m[I 2022-12-16 16:32:33,399]\u001b[0m Trial 398 finished with value: 0.8327349193396522 and parameters: {'boosting_type': 'dart', 'learning_rate': 0.0976795449187769, 'n_estimators': 234, 'num_leaves': 46, 'max_depth': 85, 'subsample': 0.6729680308626063, 'colsample_bytree': 0.7706233701116937, 'reg_alpha': 2.6650678379481834, 'reg_lambda': 66.85720304892651, 'min_child_samples': 32, 'min_child_weight': 4.060818626482479}. Best is trial 391 with value: 0.8361057058565062.\u001b[0m\n",
            "\u001b[32m[I 2022-12-16 16:32:33,596]\u001b[0m Trial 399 finished with value: 0.6161634548992531 and parameters: {'boosting_type': 'dart', 'learning_rate': 0.09086115814972627, 'n_estimators': 388, 'num_leaves': 56, 'max_depth': 88, 'subsample': 0.6405680366901843, 'colsample_bytree': 0.7822369731113042, 'reg_alpha': 55.07650775731038, 'reg_lambda': 59.48713051498171, 'min_child_samples': 460, 'min_child_weight': 7.240504379007226}. Best is trial 391 with value: 0.8361057058565062.\u001b[0m\n",
            "\u001b[32m[I 2022-12-16 16:32:34,230]\u001b[0m Trial 400 finished with value: 0.38383654510074694 and parameters: {'boosting_type': 'dart', 'learning_rate': 0.09542716284891713, 'n_estimators': 397, 'num_leaves': 44, 'max_depth': 50, 'subsample': 0.8323869987478932, 'colsample_bytree': 0.925445220184184, 'reg_alpha': 97.52236757472491, 'reg_lambda': 49.24022796432191, 'min_child_samples': 40, 'min_child_weight': 7.410269178535282}. Best is trial 391 with value: 0.8361057058565062.\u001b[0m\n",
            "\u001b[32m[I 2022-12-16 16:32:35,057]\u001b[0m Trial 401 finished with value: 0.8338710689849979 and parameters: {'boosting_type': 'dart', 'learning_rate': 0.08987392734837972, 'n_estimators': 266, 'num_leaves': 54, 'max_depth': 30, 'subsample': 0.707418418947027, 'colsample_bytree': 0.905524361555796, 'reg_alpha': 3.2915132089328876, 'reg_lambda': 64.10571537359444, 'min_child_samples': 20, 'min_child_weight': 4.34193201136236}. Best is trial 391 with value: 0.8361057058565062.\u001b[0m\n",
            "\u001b[32m[I 2022-12-16 16:32:36,208]\u001b[0m Trial 402 finished with value: 0.830500282468144 and parameters: {'boosting_type': 'dart', 'learning_rate': 0.08687454726775434, 'n_estimators': 341, 'num_leaves': 58, 'max_depth': 37, 'subsample': 0.7693824092166431, 'colsample_bytree': 0.7868789813656923, 'reg_alpha': 3.7141499315233295, 'reg_lambda': 62.37577052222197, 'min_child_samples': 28, 'min_child_weight': 7.7238522529637095}. Best is trial 391 with value: 0.8361057058565062.\u001b[0m\n",
            "\u001b[32m[I 2022-12-16 16:32:36,865]\u001b[0m Trial 403 finished with value: 0.8282593685267716 and parameters: {'boosting_type': 'dart', 'learning_rate': 0.06505969266839859, 'n_estimators': 244, 'num_leaves': 57, 'max_depth': 38, 'subsample': 0.8527732736344017, 'colsample_bytree': 0.9677577208991446, 'reg_alpha': 6.557518149364962, 'reg_lambda': 34.304777342610926, 'min_child_samples': 46, 'min_child_weight': 3.86375225453959}. Best is trial 391 with value: 0.8361057058565062.\u001b[0m\n",
            "\u001b[32m[I 2022-12-16 16:32:37,812]\u001b[0m Trial 404 finished with value: 0.7912372104701525 and parameters: {'boosting_type': 'dart', 'learning_rate': 0.07259305782583164, 'n_estimators': 457, 'num_leaves': 64, 'max_depth': 1, 'subsample': 0.8479723525204824, 'colsample_bytree': 0.8427110430171885, 'reg_alpha': 7.601844157537487, 'reg_lambda': 89.72353031541077, 'min_child_samples': 20, 'min_child_weight': 3.2225349064304103}. Best is trial 391 with value: 0.8361057058565062.\u001b[0m\n",
            "\u001b[32m[I 2022-12-16 16:32:39,360]\u001b[0m Trial 405 finished with value: 0.7979536752244052 and parameters: {'boosting_type': 'dart', 'learning_rate': 0.03350658569939462, 'n_estimators': 486, 'num_leaves': 59, 'max_depth': 89, 'subsample': 0.8304842610164878, 'colsample_bytree': 0.8932527385159149, 'reg_alpha': 5.618229203610544, 'reg_lambda': 60.52848732848486, 'min_child_samples': 76, 'min_child_weight': 7.610800547458514}. Best is trial 391 with value: 0.8361057058565062.\u001b[0m\n",
            "\u001b[32m[I 2022-12-16 16:32:40,014]\u001b[0m Trial 406 finished with value: 0.8282781997363632 and parameters: {'boosting_type': 'dart', 'learning_rate': 0.07897028463172091, 'n_estimators': 261, 'num_leaves': 55, 'max_depth': 61, 'subsample': 0.6171607536653584, 'colsample_bytree': 0.7734416610498895, 'reg_alpha': 15.954583168226103, 'reg_lambda': 88.58187775453517, 'min_child_samples': 38, 'min_child_weight': 7.957472719888302}. Best is trial 391 with value: 0.8361057058565062.\u001b[0m\n",
            "\u001b[32m[I 2022-12-16 16:32:40,919]\u001b[0m Trial 407 finished with value: 0.8114242671520934 and parameters: {'boosting_type': 'dart', 'learning_rate': 0.08344487733764937, 'n_estimators': 322, 'num_leaves': 45, 'max_depth': 100, 'subsample': 0.7859441128226649, 'colsample_bytree': 0.912466099723463, 'reg_alpha': 19.348841317408034, 'reg_lambda': 42.87030312379615, 'min_child_samples': 51, 'min_child_weight': 8.725082746045366}. Best is trial 391 with value: 0.8361057058565062.\u001b[0m\n",
            "\u001b[32m[I 2022-12-16 16:32:41,343]\u001b[0m Trial 408 finished with value: 0.8002008662356411 and parameters: {'boosting_type': 'dart', 'learning_rate': 0.09073933789857463, 'n_estimators': 182, 'num_leaves': 54, 'max_depth': 95, 'subsample': 0.7240234028075532, 'colsample_bytree': 0.888553066628463, 'reg_alpha': 5.659726049928015, 'reg_lambda': 64.0835532465415, 'min_child_samples': 109, 'min_child_weight': 8.15222278959532}. Best is trial 391 with value: 0.8361057058565062.\u001b[0m\n",
            "\u001b[32m[I 2022-12-16 16:32:41,842]\u001b[0m Trial 409 finished with value: 0.8338710689849979 and parameters: {'boosting_type': 'dart', 'learning_rate': 0.07598036405036265, 'n_estimators': 195, 'num_leaves': 39, 'max_depth': 83, 'subsample': 0.6859658563838353, 'colsample_bytree': 0.9287934720744017, 'reg_alpha': 16.94821037372477, 'reg_lambda': 69.30587394354328, 'min_child_samples': 20, 'min_child_weight': 7.7690176773744914}. Best is trial 391 with value: 0.8361057058565062.\u001b[0m\n",
            "\u001b[32m[I 2022-12-16 16:32:43,411]\u001b[0m Trial 410 finished with value: 0.8327537505492437 and parameters: {'boosting_type': 'dart', 'learning_rate': 0.09465542214826558, 'n_estimators': 437, 'num_leaves': 55, 'max_depth': 80, 'subsample': 0.6509086052505478, 'colsample_bytree': 0.8725907773025863, 'reg_alpha': 8.678650334834927, 'reg_lambda': 72.31563577754157, 'min_child_samples': 35, 'min_child_weight': 3.9724410758385957}. Best is trial 391 with value: 0.8361057058565062.\u001b[0m\n",
            "\u001b[32m[I 2022-12-16 16:32:43,864]\u001b[0m Trial 411 finished with value: 0.7879040863724813 and parameters: {'boosting_type': 'dart', 'learning_rate': 0.07486174546938068, 'n_estimators': 209, 'num_leaves': 36, 'max_depth': 83, 'subsample': 0.6581395512537535, 'colsample_bytree': 0.8797796166550015, 'reg_alpha': 24.62597733577345, 'reg_lambda': 87.35609372033822, 'min_child_samples': 64, 'min_child_weight': 6.843456846182085}. Best is trial 391 with value: 0.8361057058565062.\u001b[0m\n",
            "\u001b[32m[I 2022-12-16 16:32:44,556]\u001b[0m Trial 412 finished with value: 0.8338710689849979 and parameters: {'boosting_type': 'dart', 'learning_rate': 0.0766613628397753, 'n_estimators': 255, 'num_leaves': 40, 'max_depth': 45, 'subsample': 0.6235877955258149, 'colsample_bytree': 0.7980527517983476, 'reg_alpha': 11.209940838791276, 'reg_lambda': 97.9333084010636, 'min_child_samples': 31, 'min_child_weight': 7.538147905881692}. Best is trial 391 with value: 0.8361057058565062.\u001b[0m\n",
            "\u001b[32m[I 2022-12-16 16:32:45,385]\u001b[0m Trial 413 finished with value: 0.8316301550436258 and parameters: {'boosting_type': 'dart', 'learning_rate': 0.07720663249111923, 'n_estimators': 286, 'num_leaves': 48, 'max_depth': 87, 'subsample': 0.7094873808097043, 'colsample_bytree': 0.795927280881578, 'reg_alpha': 9.556678008655357, 'reg_lambda': 65.70631780313724, 'min_child_samples': 27, 'min_child_weight': 9.016707631213427}. Best is trial 391 with value: 0.8361057058565062.\u001b[0m\n",
            "\u001b[32m[I 2022-12-16 16:32:46,235]\u001b[0m Trial 414 finished with value: 0.8316364321134895 and parameters: {'boosting_type': 'dart', 'learning_rate': 0.07769103989320311, 'n_estimators': 295, 'num_leaves': 47, 'max_depth': 77, 'subsample': 0.6104300376608578, 'colsample_bytree': 0.7526972520617455, 'reg_alpha': 11.525966553656717, 'reg_lambda': 67.16546797919416, 'min_child_samples': 29, 'min_child_weight': 8.89675088752392}. Best is trial 391 with value: 0.8361057058565062.\u001b[0m\n",
            "\u001b[32m[I 2022-12-16 16:32:47,062]\u001b[0m Trial 415 finished with value: 0.7879040863724813 and parameters: {'boosting_type': 'dart', 'learning_rate': 0.08003076050675029, 'n_estimators': 315, 'num_leaves': 48, 'max_depth': 91, 'subsample': 0.8257067916691619, 'colsample_bytree': 0.9812208939520751, 'reg_alpha': 14.232234558448734, 'reg_lambda': 58.28787019763752, 'min_child_samples': 88, 'min_child_weight': 4.7253420501599095}. Best is trial 391 with value: 0.8361057058565062.\u001b[0m\n",
            "\u001b[32m[I 2022-12-16 16:32:47,615]\u001b[0m Trial 416 finished with value: 0.8338710689849979 and parameters: {'boosting_type': 'dart', 'learning_rate': 0.08937815863256819, 'n_estimators': 209, 'num_leaves': 57, 'max_depth': 7, 'subsample': 0.6003039103074888, 'colsample_bytree': 0.7416789492870342, 'reg_alpha': 9.39009619382564, 'reg_lambda': 62.06325343114483, 'min_child_samples': 20, 'min_child_weight': 6.618185062682653}. Best is trial 391 with value: 0.8361057058565062.\u001b[0m\n",
            "\u001b[32m[I 2022-12-16 16:32:48,021]\u001b[0m Trial 417 finished with value: 0.8282656455966355 and parameters: {'boosting_type': 'dart', 'learning_rate': 0.0921462916357318, 'n_estimators': 166, 'num_leaves': 53, 'max_depth': 81, 'subsample': 0.635971791676393, 'colsample_bytree': 0.7696324587957191, 'reg_alpha': 7.487581775040635, 'reg_lambda': 74.13387469814565, 'min_child_samples': 42, 'min_child_weight': 4.490147854293292}. Best is trial 391 with value: 0.8361057058565062.\u001b[0m\n",
            "\u001b[32m[I 2022-12-16 16:32:49,821]\u001b[0m Trial 418 finished with value: 0.8338710689849979 and parameters: {'boosting_type': 'dart', 'learning_rate': 0.07090558521920776, 'n_estimators': 489, 'num_leaves': 61, 'max_depth': 9, 'subsample': 0.6021970686536197, 'colsample_bytree': 0.9660543954308604, 'reg_alpha': 10.643294634850742, 'reg_lambda': 69.51941880826426, 'min_child_samples': 36, 'min_child_weight': 7.769312086683416}. Best is trial 391 with value: 0.8361057058565062.\u001b[0m\n",
            "\u001b[32m[I 2022-12-16 16:32:50,242]\u001b[0m Trial 419 finished with value: 0.7049274998430733 and parameters: {'boosting_type': 'dart', 'learning_rate': 0.09309318673931413, 'n_estimators': 244, 'num_leaves': 54, 'max_depth': 48, 'subsample': 0.8891653195131913, 'colsample_bytree': 0.7770959861509521, 'reg_alpha': 4.334385739194519, 'reg_lambda': 72.69714073194072, 'min_child_samples': 298, 'min_child_weight': 3.7839132265850406}. Best is trial 391 with value: 0.8361057058565062.\u001b[0m\n",
            "\u001b[32m[I 2022-12-16 16:32:51,821]\u001b[0m Trial 420 finished with value: 0.8282844768062269 and parameters: {'boosting_type': 'dart', 'learning_rate': 0.09159994510999024, 'n_estimators': 472, 'num_leaves': 56, 'max_depth': 2, 'subsample': 0.6035591239948699, 'colsample_bytree': 0.9589665158617737, 'reg_alpha': 1.2378986695586787, 'reg_lambda': 69.70066299587597, 'min_child_samples': 38, 'min_child_weight': 4.279460390168366}. Best is trial 391 with value: 0.8361057058565062.\u001b[0m\n",
            "\u001b[32m[I 2022-12-16 16:32:52,664]\u001b[0m Trial 421 finished with value: 0.8181595631159375 and parameters: {'boosting_type': 'dart', 'learning_rate': 0.08236368798307905, 'n_estimators': 309, 'num_leaves': 43, 'max_depth': 92, 'subsample': 0.6932145451141185, 'colsample_bytree': 0.8746050710353322, 'reg_alpha': 17.630504677472207, 'reg_lambda': 92.36445276305118, 'min_child_samples': 50, 'min_child_weight': 8.410291526109749}. Best is trial 391 with value: 0.8361057058565062.\u001b[0m\n",
            "\u001b[32m[I 2022-12-16 16:32:53,775]\u001b[0m Trial 422 finished with value: 0.7923733601154981 and parameters: {'boosting_type': 'dart', 'learning_rate': 0.07351086637444394, 'n_estimators': 418, 'num_leaves': 59, 'max_depth': 96, 'subsample': 0.7607551883736146, 'colsample_bytree': 0.8222243800919176, 'reg_alpha': 4.799710055359388, 'reg_lambda': 75.95376576024843, 'min_child_samples': 122, 'min_child_weight': 8.006708704583387}. Best is trial 391 with value: 0.8361057058565062.\u001b[0m\n",
            "\u001b[32m[I 2022-12-16 16:32:55,103]\u001b[0m Trial 423 finished with value: 0.801324461741259 and parameters: {'boosting_type': 'dart', 'learning_rate': 0.08797336569184233, 'n_estimators': 441, 'num_leaves': 56, 'max_depth': 97, 'subsample': 0.6172124274163249, 'colsample_bytree': 0.8843569801012753, 'reg_alpha': 24.061913870030953, 'reg_lambda': 96.86639156182103, 'min_child_samples': 57, 'min_child_weight': 7.6024727914535495}. Best is trial 391 with value: 0.8361057058565062.\u001b[0m\n",
            "\u001b[32m[I 2022-12-16 16:32:56,104]\u001b[0m Trial 424 finished with value: 0.8338710689849979 and parameters: {'boosting_type': 'dart', 'learning_rate': 0.08666519319804467, 'n_estimators': 333, 'num_leaves': 55, 'max_depth': 91, 'subsample': 0.6603690223390642, 'colsample_bytree': 0.9379213840828755, 'reg_alpha': 22.21512081722272, 'reg_lambda': 71.95358102520478, 'min_child_samples': 30, 'min_child_weight': 7.8100204176922645}. Best is trial 391 with value: 0.8361057058565062.\u001b[0m\n",
            "\u001b[32m[I 2022-12-16 16:32:56,782]\u001b[0m Trial 425 finished with value: 0.8338710689849979 and parameters: {'boosting_type': 'dart', 'learning_rate': 0.0936997934542982, 'n_estimators': 238, 'num_leaves': 53, 'max_depth': 87, 'subsample': 0.6125309831221175, 'colsample_bytree': 0.8963861934313687, 'reg_alpha': 7.119365239708011, 'reg_lambda': 41.27300659239802, 'min_child_samples': 28, 'min_child_weight': 4.623591378081505}. Best is trial 391 with value: 0.8361057058565062.\u001b[0m\n",
            "\u001b[32m[I 2022-12-16 16:32:57,262]\u001b[0m Trial 426 finished with value: 0.795687653003578 and parameters: {'boosting_type': 'dart', 'learning_rate': 0.08058427658429242, 'n_estimators': 223, 'num_leaves': 55, 'max_depth': 86, 'subsample': 0.6565152240448635, 'colsample_bytree': 0.7870784650774039, 'reg_alpha': 51.926956931666474, 'reg_lambda': 71.71198068780531, 'min_child_samples': 29, 'min_child_weight': 4.5085498001774695}. Best is trial 391 with value: 0.8361057058565062.\u001b[0m\n",
            "\u001b[32m[I 2022-12-16 16:32:58,036]\u001b[0m Trial 427 finished with value: 0.8293829640323898 and parameters: {'boosting_type': 'dart', 'learning_rate': 0.07978040223244057, 'n_estimators': 277, 'num_leaves': 62, 'max_depth': 93, 'subsample': 0.6057383190099386, 'colsample_bytree': 0.9238540267797771, 'reg_alpha': 9.345076232005155, 'reg_lambda': 47.688058722803675, 'min_child_samples': 42, 'min_child_weight': 7.474934138025921}. Best is trial 391 with value: 0.8361057058565062.\u001b[0m\n",
            "\u001b[32m[I 2022-12-16 16:32:58,630]\u001b[0m Trial 428 finished with value: 0.8338710689849979 and parameters: {'boosting_type': 'dart', 'learning_rate': 0.09756882943228919, 'n_estimators': 230, 'num_leaves': 47, 'max_depth': 5, 'subsample': 0.7341041757321921, 'colsample_bytree': 0.906944981994282, 'reg_alpha': 22.79568132705952, 'reg_lambda': 37.55058505036081, 'min_child_samples': 20, 'min_child_weight': 3.5732695300522868}. Best is trial 391 with value: 0.8361057058565062.\u001b[0m\n",
            "\u001b[32m[I 2022-12-16 16:32:59,440]\u001b[0m Trial 429 finished with value: 0.8080534806352395 and parameters: {'boosting_type': 'dart', 'learning_rate': 0.09755576195694861, 'n_estimators': 304, 'num_leaves': 45, 'max_depth': 8, 'subsample': 0.6363793321065061, 'colsample_bytree': 0.9063131625785895, 'reg_alpha': 27.018355268242413, 'reg_lambda': 45.32111398552282, 'min_child_samples': 46, 'min_child_weight': 8.545028777821518}. Best is trial 391 with value: 0.8361057058565062.\u001b[0m\n",
            "\u001b[32m[I 2022-12-16 16:33:00,245]\u001b[0m Trial 430 finished with value: 0.8192894356914191 and parameters: {'boosting_type': 'dart', 'learning_rate': 0.04482967617705576, 'n_estimators': 301, 'num_leaves': 58, 'max_depth': 63, 'subsample': 0.8599062108026032, 'colsample_bytree': 0.8899630576150108, 'reg_alpha': 32.77588861589323, 'reg_lambda': 51.979261480086, 'min_child_samples': 49, 'min_child_weight': 2.788656195173045}. Best is trial 391 with value: 0.8361057058565062.\u001b[0m\n",
            "\u001b[32m[I 2022-12-16 16:33:01,911]\u001b[0m Trial 431 finished with value: 0.828253091456908 and parameters: {'boosting_type': 'dart', 'learning_rate': 0.09119682194370356, 'n_estimators': 497, 'num_leaves': 62, 'max_depth': 37, 'subsample': 0.7090337104977644, 'colsample_bytree': 0.9309174051446917, 'reg_alpha': 25.461299168827466, 'reg_lambda': 65.90142657242473, 'min_child_samples': 34, 'min_child_weight': 8.335858649979635}. Best is trial 391 with value: 0.8361057058565062.\u001b[0m\n",
            "\u001b[32m[I 2022-12-16 16:33:02,963]\u001b[0m Trial 432 finished with value: 0.8338710689849979 and parameters: {'boosting_type': 'dart', 'learning_rate': 0.07011384212665618, 'n_estimators': 327, 'num_leaves': 50, 'max_depth': 97, 'subsample': 0.804586513818015, 'colsample_bytree': 0.9509501559881633, 'reg_alpha': 15.422928658679508, 'reg_lambda': 55.07517703259526, 'min_child_samples': 29, 'min_child_weight': 8.203991237685937}. Best is trial 391 with value: 0.8361057058565062.\u001b[0m\n",
            "\u001b[32m[I 2022-12-16 16:33:03,612]\u001b[0m Trial 433 finished with value: 0.8338710689849979 and parameters: {'boosting_type': 'dart', 'learning_rate': 0.07568985176836314, 'n_estimators': 246, 'num_leaves': 41, 'max_depth': 84, 'subsample': 0.6259416897610695, 'colsample_bytree': 0.8768796829878189, 'reg_alpha': 7.018787180926017, 'reg_lambda': 85.13041236921102, 'min_child_samples': 35, 'min_child_weight': 8.670495309707313}. Best is trial 391 with value: 0.8361057058565062.\u001b[0m\n",
            "\u001b[32m[I 2022-12-16 16:33:04,327]\u001b[0m Trial 434 finished with value: 0.8338710689849979 and parameters: {'boosting_type': 'dart', 'learning_rate': 0.0786549501925484, 'n_estimators': 249, 'num_leaves': 52, 'max_depth': 82, 'subsample': 0.8085169425839854, 'colsample_bytree': 0.7658952036316663, 'reg_alpha': 7.611065177578654, 'reg_lambda': 41.86425536841851, 'min_child_samples': 28, 'min_child_weight': 4.264021881107267}. Best is trial 391 with value: 0.8361057058565062.\u001b[0m\n",
            "\u001b[32m[I 2022-12-16 16:33:05,060]\u001b[0m Trial 435 finished with value: 0.827154604230745 and parameters: {'boosting_type': 'dart', 'learning_rate': 0.07573333416503449, 'n_estimators': 247, 'num_leaves': 41, 'max_depth': 84, 'subsample': 0.6249172887823524, 'colsample_bytree': 0.8652748313975841, 'reg_alpha': 4.242727905182621, 'reg_lambda': 39.651497130894946, 'min_child_samples': 20, 'min_child_weight': 8.70378266102632}. Best is trial 391 with value: 0.8361057058565062.\u001b[0m\n",
            "\u001b[32m[I 2022-12-16 16:33:05,911]\u001b[0m Trial 436 finished with value: 0.7979599522942691 and parameters: {'boosting_type': 'dart', 'learning_rate': 0.08430164032794343, 'n_estimators': 315, 'num_leaves': 48, 'max_depth': 5, 'subsample': 0.6111208204885347, 'colsample_bytree': 0.7609651428930644, 'reg_alpha': 23.814159741246154, 'reg_lambda': 56.847656802105675, 'min_child_samples': 43, 'min_child_weight': 7.296189033004128}. Best is trial 391 with value: 0.8361057058565062.\u001b[0m\n",
            "\u001b[32m[I 2022-12-16 16:33:06,979]\u001b[0m Trial 437 finished with value: 0.8193019898311468 and parameters: {'boosting_type': 'dart', 'learning_rate': 0.06791106463173739, 'n_estimators': 347, 'num_leaves': 51, 'max_depth': 40, 'subsample': 0.8224436781258181, 'colsample_bytree': 0.8121784681642906, 'reg_alpha': 1.7348855174555258, 'reg_lambda': 55.64057645811478, 'min_child_samples': 57, 'min_child_weight': 4.735866371748985}. Best is trial 391 with value: 0.8361057058565062.\u001b[0m\n",
            "\u001b[32m[I 2022-12-16 16:33:07,716]\u001b[0m Trial 438 finished with value: 0.8338710689849979 and parameters: {'boosting_type': 'dart', 'learning_rate': 0.08544224055832644, 'n_estimators': 275, 'num_leaves': 45, 'max_depth': 90, 'subsample': 0.7164677998628741, 'colsample_bytree': 0.9000375491647343, 'reg_alpha': 21.283824527685276, 'reg_lambda': 63.672636223350736, 'min_child_samples': 20, 'min_child_weight': 8.494652924791547}. Best is trial 391 with value: 0.8361057058565062.\u001b[0m\n",
            "\u001b[32m[I 2022-12-16 16:33:08,363]\u001b[0m Trial 439 finished with value: 0.8338710689849979 and parameters: {'boosting_type': 'dart', 'learning_rate': 0.08015343379726186, 'n_estimators': 236, 'num_leaves': 53, 'max_depth': 85, 'subsample': 0.6446775991431676, 'colsample_bytree': 0.8838101147082787, 'reg_alpha': 8.926067932038384, 'reg_lambda': 82.18383296890937, 'min_child_samples': 20, 'min_child_weight': 3.991975765714712}. Best is trial 391 with value: 0.8361057058565062.\u001b[0m\n",
            "\u001b[32m[I 2022-12-16 16:33:09,089]\u001b[0m Trial 440 finished with value: 0.8338710689849979 and parameters: {'boosting_type': 'dart', 'learning_rate': 0.07859857635102939, 'n_estimators': 253, 'num_leaves': 43, 'max_depth': 88, 'subsample': 0.6508133414168036, 'colsample_bytree': 0.893342817171475, 'reg_alpha': 5.955970822131361, 'reg_lambda': 42.15594179583679, 'min_child_samples': 29, 'min_child_weight': 7.370127068462845}. Best is trial 391 with value: 0.8361057058565062.\u001b[0m\n",
            "\u001b[32m[I 2022-12-16 16:33:09,523]\u001b[0m Trial 441 finished with value: 0.7968928504174251 and parameters: {'boosting_type': 'dart', 'learning_rate': 0.09053698870158293, 'n_estimators': 185, 'num_leaves': 52, 'max_depth': 87, 'subsample': 0.6730265697837507, 'colsample_bytree': 0.9326889428077951, 'reg_alpha': 43.85063572917216, 'reg_lambda': 68.43813088974647, 'min_child_samples': 38, 'min_child_weight': 6.145011628100593}. Best is trial 391 with value: 0.8361057058565062.\u001b[0m\n",
            "\u001b[32m[I 2022-12-16 16:33:10,617]\u001b[0m Trial 442 finished with value: 0.8316364321134895 and parameters: {'boosting_type': 'dart', 'learning_rate': 0.081978569261919, 'n_estimators': 362, 'num_leaves': 68, 'max_depth': 26, 'subsample': 0.6068703046357641, 'colsample_bytree': 0.829657952298096, 'reg_alpha': 14.068640783210519, 'reg_lambda': 74.75001502682079, 'min_child_samples': 38, 'min_child_weight': 3.477770929511503}. Best is trial 391 with value: 0.8361057058565062.\u001b[0m\n",
            "\u001b[32m[I 2022-12-16 16:33:11,382]\u001b[0m Trial 443 finished with value: 0.43102755633670203 and parameters: {'boosting_type': 'dart', 'learning_rate': 0.07466552689039206, 'n_estimators': 412, 'num_leaves': 49, 'max_depth': 3, 'subsample': 0.6161819560877805, 'colsample_bytree': 0.8368112047023883, 'reg_alpha': 99.90198067615606, 'reg_lambda': 80.22153342425992, 'min_child_samples': 28, 'min_child_weight': 3.7202753114963723}. Best is trial 391 with value: 0.8361057058565062.\u001b[0m\n",
            "\u001b[32m[I 2022-12-16 16:33:11,557]\u001b[0m Trial 444 finished with value: 0.6161634548992531 and parameters: {'boosting_type': 'dart', 'learning_rate': 0.09542339670978915, 'n_estimators': 228, 'num_leaves': 90, 'max_depth': 82, 'subsample': 0.6080794501091601, 'colsample_bytree': 0.9183363695593629, 'reg_alpha': 10.07186464026211, 'reg_lambda': 70.27473455889337, 'min_child_samples': 483, 'min_child_weight': 4.294841789510085}. Best is trial 391 with value: 0.8361057058565062.\u001b[0m\n",
            "\u001b[32m[I 2022-12-16 16:33:12,211]\u001b[0m Trial 445 finished with value: 0.8338710689849979 and parameters: {'boosting_type': 'dart', 'learning_rate': 0.0995300945738441, 'n_estimators': 230, 'num_leaves': 56, 'max_depth': 44, 'subsample': 0.6553291431019941, 'colsample_bytree': 0.9034530918934126, 'reg_alpha': 8.74840173691608, 'reg_lambda': 70.7336306162696, 'min_child_samples': 20, 'min_child_weight': 3.9553782345227715}. Best is trial 391 with value: 0.8361057058565062.\u001b[0m\n",
            "\u001b[32m[I 2022-12-16 16:33:12,842]\u001b[0m Trial 446 finished with value: 0.8282593685267716 and parameters: {'boosting_type': 'dart', 'learning_rate': 0.08064270189364332, 'n_estimators': 240, 'num_leaves': 39, 'max_depth': 55, 'subsample': 0.6254443540344673, 'colsample_bytree': 0.8808944595980887, 'reg_alpha': 11.206738510575487, 'reg_lambda': 38.433556558607705, 'min_child_samples': 46, 'min_child_weight': 7.6587070473114665}. Best is trial 391 with value: 0.8361057058565062.\u001b[0m\n",
            "\u001b[32m[I 2022-12-16 16:33:13,812]\u001b[0m Trial 447 finished with value: 0.8338710689849979 and parameters: {'boosting_type': 'dart', 'learning_rate': 0.08502477804040068, 'n_estimators': 325, 'num_leaves': 50, 'max_depth': 100, 'subsample': 0.7931976072384915, 'colsample_bytree': 0.9759301750899373, 'reg_alpha': 15.478404924494239, 'reg_lambda': 58.15580969858325, 'min_child_samples': 36, 'min_child_weight': 7.91473596657022}. Best is trial 391 with value: 0.8361057058565062.\u001b[0m\n",
            "\u001b[32m[I 2022-12-16 16:33:14,577]\u001b[0m Trial 448 finished with value: 0.8248948590797817 and parameters: {'boosting_type': 'dart', 'learning_rate': 0.07806582452401513, 'n_estimators': 262, 'num_leaves': 42, 'max_depth': 86, 'subsample': 0.6664291269907491, 'colsample_bytree': 0.6088530697016327, 'reg_alpha': 5.722872836159272, 'reg_lambda': 31.91532025697916, 'min_child_samples': 29, 'min_child_weight': 7.568660593465782}. Best is trial 391 with value: 0.8361057058565062.\u001b[0m\n",
            "\u001b[32m[I 2022-12-16 16:33:15,360]\u001b[0m Trial 449 finished with value: 0.8248948590797817 and parameters: {'boosting_type': 'dart', 'learning_rate': 0.09421604888797648, 'n_estimators': 271, 'num_leaves': 73, 'max_depth': 90, 'subsample': 0.728853217973473, 'colsample_bytree': 0.915564515155143, 'reg_alpha': 17.898241327379417, 'reg_lambda': 46.057944002483616, 'min_child_samples': 43, 'min_child_weight': 6.661543100080721}. Best is trial 391 with value: 0.8361057058565062.\u001b[0m\n",
            "\u001b[32m[I 2022-12-16 16:33:16,062]\u001b[0m Trial 450 finished with value: 0.828253091456908 and parameters: {'boosting_type': 'dart', 'learning_rate': 0.08940392608343789, 'n_estimators': 265, 'num_leaves': 66, 'max_depth': 59, 'subsample': 0.7164268642714822, 'colsample_bytree': 0.6974520685150872, 'reg_alpha': 12.421800460278345, 'reg_lambda': 65.30582253618704, 'min_child_samples': 26, 'min_child_weight': 8.227199767117217}. Best is trial 391 with value: 0.8361057058565062.\u001b[0m\n",
            "\u001b[32m[I 2022-12-16 16:33:16,828]\u001b[0m Trial 451 finished with value: 0.8338710689849979 and parameters: {'boosting_type': 'dart', 'learning_rate': 0.07276573045280106, 'n_estimators': 275, 'num_leaves': 51, 'max_depth': 25, 'subsample': 0.7034090059173106, 'colsample_bytree': 0.9868092599730527, 'reg_alpha': 13.060231574993557, 'reg_lambda': 63.10211985866645, 'min_child_samples': 20, 'min_child_weight': 8.240344698388501}. Best is trial 391 with value: 0.8361057058565062.\u001b[0m\n",
            "\u001b[32m[I 2022-12-16 16:33:17,539]\u001b[0m Trial 452 finished with value: 0.8238152030632101 and parameters: {'boosting_type': 'dart', 'learning_rate': 0.020049351809789624, 'n_estimators': 244, 'num_leaves': 53, 'max_depth': 81, 'subsample': 0.8123899349067465, 'colsample_bytree': 0.7637573258603052, 'reg_alpha': 6.959621696012467, 'reg_lambda': 36.51188939195667, 'min_child_samples': 20, 'min_child_weight': 4.531844618606225}. Best is trial 391 with value: 0.8361057058565062.\u001b[0m\n",
            "\u001b[32m[I 2022-12-16 16:33:18,649]\u001b[0m Trial 453 finished with value: 0.8338710689849979 and parameters: {'boosting_type': 'dart', 'learning_rate': 0.07113717951844908, 'n_estimators': 331, 'num_leaves': 61, 'max_depth': 71, 'subsample': 0.6934758907554409, 'colsample_bytree': 0.8324033095779192, 'reg_alpha': 3.644979823402963, 'reg_lambda': 66.1105541417133, 'min_child_samples': 20, 'min_child_weight': 8.087869332463601}. Best is trial 391 with value: 0.8361057058565062.\u001b[0m\n",
            "\u001b[32m[I 2022-12-16 16:33:19,426]\u001b[0m Trial 454 finished with value: 0.822666499278137 and parameters: {'boosting_type': 'dart', 'learning_rate': 0.08249809907910234, 'n_estimators': 252, 'num_leaves': 58, 'max_depth': 80, 'subsample': 0.6191004633345513, 'colsample_bytree': 0.8684879656296489, 'reg_alpha': 0.5221483513627607, 'reg_lambda': 67.27502261000734, 'min_child_samples': 35, 'min_child_weight': 9.205685619383816}. Best is trial 391 with value: 0.8361057058565062.\u001b[0m\n",
            "\u001b[32m[I 2022-12-16 16:33:20,182]\u001b[0m Trial 455 finished with value: 0.8192894356914191 and parameters: {'boosting_type': 'dart', 'learning_rate': 0.08857127076279306, 'n_estimators': 280, 'num_leaves': 93, 'max_depth': 93, 'subsample': 0.6911315511739582, 'colsample_bytree': 0.911699229283464, 'reg_alpha': 19.73610558559717, 'reg_lambda': 66.9904743910137, 'min_child_samples': 53, 'min_child_weight': 8.41172273436148}. Best is trial 391 with value: 0.8361057058565062.\u001b[0m\n",
            "\u001b[32m[I 2022-12-16 16:33:20,981]\u001b[0m Trial 456 finished with value: 0.8338710689849979 and parameters: {'boosting_type': 'dart', 'learning_rate': 0.08676778902997355, 'n_estimators': 288, 'num_leaves': 60, 'max_depth': 89, 'subsample': 0.6980655858272989, 'colsample_bytree': 0.7424202651598003, 'reg_alpha': 13.53009235409382, 'reg_lambda': 81.0324966921581, 'min_child_samples': 35, 'min_child_weight': 8.111304128452455}. Best is trial 391 with value: 0.8361057058565062.\u001b[0m\n",
            "\u001b[32m[I 2022-12-16 16:33:21,807]\u001b[0m Trial 457 finished with value: 0.8226602222082733 and parameters: {'boosting_type': 'dart', 'learning_rate': 0.061647565450483215, 'n_estimators': 292, 'num_leaves': 49, 'max_depth': 84, 'subsample': 0.6639701810373123, 'colsample_bytree': 0.7332232189462842, 'reg_alpha': 16.610089455382663, 'reg_lambda': 78.03129429259234, 'min_child_samples': 43, 'min_child_weight': 7.377415668098528}. Best is trial 391 with value: 0.8361057058565062.\u001b[0m\n",
            "\u001b[32m[I 2022-12-16 16:33:22,547]\u001b[0m Trial 458 finished with value: 0.8338710689849979 and parameters: {'boosting_type': 'dart', 'learning_rate': 0.08876302369252433, 'n_estimators': 270, 'num_leaves': 46, 'max_depth': 92, 'subsample': 0.7115996588238538, 'colsample_bytree': 0.8991383775632578, 'reg_alpha': 21.303416405303754, 'reg_lambda': 47.45136289610113, 'min_child_samples': 20, 'min_child_weight': 8.443026072983644}. Best is trial 391 with value: 0.8361057058565062.\u001b[0m\n",
            "\u001b[32m[I 2022-12-16 16:33:23,293]\u001b[0m Trial 459 finished with value: 0.8349883874207521 and parameters: {'boosting_type': 'dart', 'learning_rate': 0.09816943066296803, 'n_estimators': 256, 'num_leaves': 57, 'max_depth': 89, 'subsample': 0.6726336781682405, 'colsample_bytree': 0.9011888273790506, 'reg_alpha': 3.074985009094869, 'reg_lambda': 52.33748662482606, 'min_child_samples': 31, 'min_child_weight': 7.877891607687112}. Best is trial 391 with value: 0.8361057058565062.\u001b[0m\n",
            "\u001b[32m[I 2022-12-16 16:33:24,050]\u001b[0m Trial 460 finished with value: 0.8361057058565062 and parameters: {'boosting_type': 'dart', 'learning_rate': 0.09624084442101553, 'n_estimators': 257, 'num_leaves': 58, 'max_depth': 87, 'subsample': 0.6503035788566093, 'colsample_bytree': 0.8569152769710586, 'reg_alpha': 3.17108902588857, 'reg_lambda': 83.67608868580498, 'min_child_samples': 34, 'min_child_weight': 7.126016757459225}. Best is trial 391 with value: 0.8361057058565062.\u001b[0m\n",
            "\u001b[32m[I 2022-12-16 16:33:24,800]\u001b[0m Trial 461 finished with value: 0.8170610758897746 and parameters: {'boosting_type': 'dart', 'learning_rate': 0.09567313604652782, 'n_estimators': 259, 'num_leaves': 51, 'max_depth': 90, 'subsample': 0.6787500193376199, 'colsample_bytree': 0.8529152348297026, 'reg_alpha': 4.812410970414595, 'reg_lambda': 44.671661418831626, 'min_child_samples': 56, 'min_child_weight': 6.838795986214693}. Best is trial 391 with value: 0.8361057058565062.\u001b[0m\n",
            "\u001b[32m[I 2022-12-16 16:33:25,312]\u001b[0m Trial 462 finished with value: 0.800263636934279 and parameters: {'boosting_type': 'dart', 'learning_rate': 0.09748468094199252, 'n_estimators': 195, 'num_leaves': 46, 'max_depth': 93, 'subsample': 0.673230733001648, 'colsample_bytree': 0.943031774951894, 'reg_alpha': 23.823708191545535, 'reg_lambda': 53.21794669559497, 'min_child_samples': 60, 'min_child_weight': 7.165220788591853}. Best is trial 391 with value: 0.8361057058565062.\u001b[0m\n",
            "\u001b[32m[I 2022-12-16 16:33:25,896]\u001b[0m Trial 463 finished with value: 0.8192894356914193 and parameters: {'boosting_type': 'dart', 'learning_rate': 0.09908122422005328, 'n_estimators': 218, 'num_leaves': 57, 'max_depth': 88, 'subsample': 0.630958370230598, 'colsample_bytree': 0.8563908012688739, 'reg_alpha': 0.2225830909005464, 'reg_lambda': 99.82788420487061, 'min_child_samples': 50, 'min_child_weight': 7.215555547273906}. Best is trial 391 with value: 0.8361057058565062.\u001b[0m\n",
            "\u001b[32m[I 2022-12-16 16:33:26,385]\u001b[0m Trial 464 finished with value: 0.8260372857949909 and parameters: {'boosting_type': 'dart', 'learning_rate': 0.09622850687006251, 'n_estimators': 188, 'num_leaves': 60, 'max_depth': 84, 'subsample': 0.6859041304221212, 'colsample_bytree': 0.9562333618493196, 'reg_alpha': 1.7613912727661445, 'reg_lambda': 78.96274303649314, 'min_child_samples': 44, 'min_child_weight': 7.969529656061161}. Best is trial 391 with value: 0.8361057058565062.\u001b[0m\n",
            "\u001b[32m[I 2022-12-16 16:33:26,977]\u001b[0m Trial 465 finished with value: 0.7923608059757704 and parameters: {'boosting_type': 'dart', 'learning_rate': 0.09629133505376052, 'n_estimators': 320, 'num_leaves': 44, 'max_depth': 98, 'subsample': 0.7495575334816221, 'colsample_bytree': 0.8675930082472465, 'reg_alpha': 30.393268288742657, 'reg_lambda': 90.97714975189912, 'min_child_samples': 211, 'min_child_weight': 1.9796193193480416}. Best is trial 391 with value: 0.8361057058565062.\u001b[0m\n",
            "\u001b[32m[I 2022-12-16 16:33:27,513]\u001b[0m Trial 466 finished with value: 0.8080283723557843 and parameters: {'boosting_type': 'dart', 'learning_rate': 0.09818055883420318, 'n_estimators': 212, 'num_leaves': 47, 'max_depth': 7, 'subsample': 0.7751041426850118, 'colsample_bytree': 0.7395968617231224, 'reg_alpha': 21.9077919717787, 'reg_lambda': 53.109289820497786, 'min_child_samples': 35, 'min_child_weight': 7.5532455497406135}. Best is trial 391 with value: 0.8361057058565062.\u001b[0m\n",
            "\u001b[32m[I 2022-12-16 16:33:28,121]\u001b[0m Trial 467 finished with value: 0.8002008662356411 and parameters: {'boosting_type': 'dart', 'learning_rate': 0.07566517730271916, 'n_estimators': 255, 'num_leaves': 37, 'max_depth': 42, 'subsample': 0.6639485214674686, 'colsample_bytree': 0.919325206259245, 'reg_alpha': 11.745228922658162, 'reg_lambda': 73.94227918823941, 'min_child_samples': 70, 'min_child_weight': 7.8248744184732795}. Best is trial 391 with value: 0.8361057058565062.\u001b[0m\n",
            "\u001b[32m[I 2022-12-16 16:33:28,614]\u001b[0m Trial 468 finished with value: 0.8338710689849979 and parameters: {'boosting_type': 'dart', 'learning_rate': 0.0914710476537156, 'n_estimators': 179, 'num_leaves': 61, 'max_depth': 88, 'subsample': 0.724233363972268, 'colsample_bytree': 0.9064373262572754, 'reg_alpha': 2.6674391911054416, 'reg_lambda': 62.09113376017602, 'min_child_samples': 30, 'min_child_weight': 8.312213044729003}. Best is trial 391 with value: 0.8361057058565062.\u001b[0m\n",
            "\u001b[32m[I 2022-12-16 16:33:29,050]\u001b[0m Trial 469 finished with value: 0.8294017952419811 and parameters: {'boosting_type': 'dart', 'learning_rate': 0.07825335497258525, 'n_estimators': 157, 'num_leaves': 41, 'max_depth': 86, 'subsample': 0.7261875095987314, 'colsample_bytree': 0.882304142141135, 'reg_alpha': 2.5468503586700577, 'reg_lambda': 50.48900629658193, 'min_child_samples': 36, 'min_child_weight': 9.123330418025148}. Best is trial 391 with value: 0.8361057058565062.\u001b[0m\n",
            "\u001b[32m[I 2022-12-16 16:33:29,479]\u001b[0m Trial 470 finished with value: 0.8215240725629276 and parameters: {'boosting_type': 'dart', 'learning_rate': 0.07682120268514324, 'n_estimators': 173, 'num_leaves': 58, 'max_depth': 41, 'subsample': 0.778485906149446, 'colsample_bytree': 0.8078367366443505, 'reg_alpha': 3.600551486132837, 'reg_lambda': 77.23215329326975, 'min_child_samples': 48, 'min_child_weight': 7.910842313734557}. Best is trial 391 with value: 0.8361057058565062.\u001b[0m\n",
            "\u001b[32m[I 2022-12-16 16:33:30,179]\u001b[0m Trial 471 finished with value: 0.8338710689849979 and parameters: {'boosting_type': 'dart', 'learning_rate': 0.0947065327462116, 'n_estimators': 239, 'num_leaves': 58, 'max_depth': 97, 'subsample': 0.6829508525455366, 'colsample_bytree': 0.9343101004588037, 'reg_alpha': 4.162799300569736, 'reg_lambda': 68.63667868134164, 'min_child_samples': 30, 'min_child_weight': 6.994520614189928}. Best is trial 391 with value: 0.8361057058565062.\u001b[0m\n",
            "\u001b[32m[I 2022-12-16 16:33:30,847]\u001b[0m Trial 472 finished with value: 0.8248948590797817 and parameters: {'boosting_type': 'dart', 'learning_rate': 0.07825538351189835, 'n_estimators': 242, 'num_leaves': 43, 'max_depth': 85, 'subsample': 0.6526019465486461, 'colsample_bytree': 0.7517181439100332, 'reg_alpha': 0.3642305540377966, 'reg_lambda': 80.50774876199124, 'min_child_samples': 42, 'min_child_weight': 7.436814501156348}. Best is trial 391 with value: 0.8361057058565062.\u001b[0m\n",
            "\u001b[32m[I 2022-12-16 16:33:31,494]\u001b[0m Trial 473 finished with value: 0.7856568953612454 and parameters: {'boosting_type': 'dart', 'learning_rate': 0.08377589789534375, 'n_estimators': 198, 'num_leaves': 49, 'max_depth': 100, 'subsample': 0.6339998019603956, 'colsample_bytree': 0.9072631652675993, 'reg_alpha': 27.595136459037978, 'reg_lambda': 55.395424562213044, 'min_child_samples': 63, 'min_child_weight': 6.5983491101817675}. Best is trial 391 with value: 0.8361057058565062.\u001b[0m\n",
            "\u001b[32m[I 2022-12-16 16:33:32,059]\u001b[0m Trial 474 finished with value: 0.7823049400539828 and parameters: {'boosting_type': 'dart', 'learning_rate': 0.09319823518726143, 'n_estimators': 300, 'num_leaves': 48, 'max_depth': 86, 'subsample': 0.6746098011223931, 'colsample_bytree': 0.8161895982782633, 'reg_alpha': 60.49431891313092, 'reg_lambda': 72.85097596834221, 'min_child_samples': 53, 'min_child_weight': 8.336483079305399}. Best is trial 391 with value: 0.8361057058565062.\u001b[0m\n",
            "\u001b[32m[I 2022-12-16 16:33:33,167]\u001b[0m Trial 475 finished with value: 0.665601657146444 and parameters: {'boosting_type': 'dart', 'learning_rate': 0.07176975278130576, 'n_estimators': 500, 'num_leaves': 57, 'max_depth': 49, 'subsample': 0.601738301713485, 'colsample_bytree': 0.8608776315870859, 'reg_alpha': 5.437260305368534, 'reg_lambda': 84.41485872251715, 'min_child_samples': 320, 'min_child_weight': 8.804908097850577}. Best is trial 391 with value: 0.8361057058565062.\u001b[0m\n",
            "\u001b[32m[I 2022-12-16 16:33:33,618]\u001b[0m Trial 476 finished with value: 0.6161634548992531 and parameters: {'boosting_type': 'dart', 'learning_rate': 0.09996963689612974, 'n_estimators': 254, 'num_leaves': 54, 'max_depth': 46, 'subsample': 0.6558945626110985, 'colsample_bytree': 0.8513324423196647, 'reg_alpha': 71.84873194557392, 'reg_lambda': 48.596297022838606, 'min_child_samples': 29, 'min_child_weight': 5.027844120531225}. Best is trial 391 with value: 0.8361057058565062.\u001b[0m\n",
            "\u001b[32m[I 2022-12-16 16:33:34,425]\u001b[0m Trial 477 finished with value: 0.8338710689849979 and parameters: {'boosting_type': 'dart', 'learning_rate': 0.05094890516624344, 'n_estimators': 261, 'num_leaves': 46, 'max_depth': 87, 'subsample': 0.6656966881103343, 'colsample_bytree': 0.8954209132223062, 'reg_alpha': 2.7440455526051926, 'reg_lambda': 47.99624794640187, 'min_child_samples': 28, 'min_child_weight': 7.550239247460018}. Best is trial 391 with value: 0.8361057058565062.\u001b[0m\n",
            "\u001b[32m[I 2022-12-16 16:33:35,194]\u001b[0m Trial 478 finished with value: 0.824913690289373 and parameters: {'boosting_type': 'dart', 'learning_rate': 0.0690724494780816, 'n_estimators': 256, 'num_leaves': 47, 'max_depth': 89, 'subsample': 0.6694682454364096, 'colsample_bytree': 0.9949927600940359, 'reg_alpha': 2.6871229854288297, 'reg_lambda': 51.931501300622436, 'min_child_samples': 43, 'min_child_weight': 7.72269054955424}. Best is trial 391 with value: 0.8361057058565062.\u001b[0m\n",
            "\u001b[32m[I 2022-12-16 16:33:35,962]\u001b[0m Trial 479 finished with value: 0.8338710689849979 and parameters: {'boosting_type': 'dart', 'learning_rate': 0.08524112674428481, 'n_estimators': 273, 'num_leaves': 55, 'max_depth': 91, 'subsample': 0.6878069975477119, 'colsample_bytree': 0.8879041649172036, 'reg_alpha': 25.55514250404699, 'reg_lambda': 45.75098578956546, 'min_child_samples': 20, 'min_child_weight': 8.089960137857606}. Best is trial 391 with value: 0.8361057058565062.\u001b[0m\n",
            "\u001b[32m[I 2022-12-16 16:33:36,564]\u001b[0m Trial 480 finished with value: 0.7946079969870065 and parameters: {'boosting_type': 'dart', 'learning_rate': 0.0857790575361324, 'n_estimators': 268, 'num_leaves': 52, 'max_depth': 91, 'subsample': 0.6822858105037389, 'colsample_bytree': 0.8872293771123013, 'reg_alpha': 25.025576891757495, 'reg_lambda': 49.81034537887386, 'min_child_samples': 135, 'min_child_weight': 8.175099677521578}. Best is trial 391 with value: 0.8361057058565062.\u001b[0m\n",
            "\u001b[32m[I 2022-12-16 16:33:36,751]\u001b[0m Trial 481 finished with value: 0.6161634548992531 and parameters: {'boosting_type': 'dart', 'learning_rate': 0.09737569057176215, 'n_estimators': 207, 'num_leaves': 56, 'max_depth': 6, 'subsample': 0.6381992179942682, 'colsample_bytree': 0.9911979523080281, 'reg_alpha': 6.312151187426762, 'reg_lambda': 89.07373109802303, 'min_child_samples': 442, 'min_child_weight': 6.661204552981236}. Best is trial 391 with value: 0.8361057058565062.\u001b[0m\n",
            "\u001b[32m[I 2022-12-16 16:33:37,490]\u001b[0m Trial 482 finished with value: 0.8294017952419811 and parameters: {'boosting_type': 'dart', 'learning_rate': 0.08199104940454896, 'n_estimators': 281, 'num_leaves': 45, 'max_depth': 93, 'subsample': 0.7367193980751168, 'colsample_bytree': 0.9005388448091027, 'reg_alpha': 18.13758822421154, 'reg_lambda': 93.96947101815033, 'min_child_samples': 37, 'min_child_weight': 8.531725420727474}. Best is trial 391 with value: 0.8361057058565062.\u001b[0m\n",
            "\u001b[32m[I 2022-12-16 16:33:38,381]\u001b[0m Trial 483 finished with value: 0.8147824995292197 and parameters: {'boosting_type': 'dart', 'learning_rate': 0.08295268264204231, 'n_estimators': 308, 'num_leaves': 50, 'max_depth': 96, 'subsample': 0.6738853905800418, 'colsample_bytree': 0.9083502263790283, 'reg_alpha': 18.560499680797125, 'reg_lambda': 78.15893607048984, 'min_child_samples': 46, 'min_child_weight': 7.87883549267684}. Best is trial 391 with value: 0.8361057058565062.\u001b[0m\n",
            "\u001b[32m[I 2022-12-16 16:33:39,202]\u001b[0m Trial 484 finished with value: 0.8193145439708743 and parameters: {'boosting_type': 'dart', 'learning_rate': 0.029520192953526172, 'n_estimators': 282, 'num_leaves': 57, 'max_depth': 88, 'subsample': 0.60005317265234, 'colsample_bytree': 0.7255938650127535, 'reg_alpha': 12.195154752800502, 'reg_lambda': 63.66716192534115, 'min_child_samples': 29, 'min_child_weight': 7.758124876669894}. Best is trial 391 with value: 0.8361057058565062.\u001b[0m\n",
            "\u001b[32m[I 2022-12-16 16:33:39,694]\u001b[0m Trial 485 finished with value: 0.8114995919904588 and parameters: {'boosting_type': 'dart', 'learning_rate': 0.09310374262836851, 'n_estimators': 199, 'num_leaves': 55, 'max_depth': 73, 'subsample': 0.6787278141794838, 'colsample_bytree': 0.9418964432483038, 'reg_alpha': 16.12295172277273, 'reg_lambda': 83.05759994176803, 'min_child_samples': 56, 'min_child_weight': 6.433218177387975}. Best is trial 391 with value: 0.8361057058565062.\u001b[0m\n",
            "\u001b[32m[I 2022-12-16 16:33:40,859]\u001b[0m Trial 486 finished with value: 0.8316364321134895 and parameters: {'boosting_type': 'dart', 'learning_rate': 0.07941725250363216, 'n_estimators': 357, 'num_leaves': 35, 'max_depth': 42, 'subsample': 0.6216121127163121, 'colsample_bytree': 0.7788508063997305, 'reg_alpha': 10.642596854040606, 'reg_lambda': 77.22440623866183, 'min_child_samples': 38, 'min_child_weight': 7.94345903757587}. Best is trial 391 with value: 0.8361057058565062.\u001b[0m\n",
            "\u001b[32m[I 2022-12-16 16:33:41,437]\u001b[0m Trial 487 finished with value: 0.8338710689849979 and parameters: {'boosting_type': 'dart', 'learning_rate': 0.09489956854240163, 'n_estimators': 221, 'num_leaves': 54, 'max_depth': 82, 'subsample': 0.8421942426582358, 'colsample_bytree': 0.9148460182495111, 'reg_alpha': 7.8651099319388695, 'reg_lambda': 68.76337644566256, 'min_child_samples': 28, 'min_child_weight': 8.663896647222856}. Best is trial 391 with value: 0.8361057058565062.\u001b[0m\n",
            "\u001b[32m[I 2022-12-16 16:33:53,240]\u001b[0m Trial 488 finished with value: 0.8327474734793799 and parameters: {'boosting_type': 'dart', 'learning_rate': 0.06692825114961623, 'n_estimators': 291, 'num_leaves': 51, 'max_depth': 39, 'subsample': 0.6457841090822413, 'colsample_bytree': 0.7464650370221391, 'reg_alpha': 5.281901736705623, 'reg_lambda': 81.94701383650288, 'min_child_samples': 35, 'min_child_weight': 7.4213164799697005}. Best is trial 391 with value: 0.8361057058565062.\u001b[0m\n",
            "\u001b[32m[I 2022-12-16 16:33:57,206]\u001b[0m Trial 489 finished with value: 0.5231623877973762 and parameters: {'boosting_type': 'dart', 'learning_rate': 0.0877000013204323, 'n_estimators': 252, 'num_leaves': 39, 'max_depth': 90, 'subsample': 0.6662126887751304, 'colsample_bytree': 0.9149935987707178, 'reg_alpha': 89.91904242082762, 'reg_lambda': 97.0529898553235, 'min_child_samples': 39, 'min_child_weight': 6.9929973759484625}. Best is trial 391 with value: 0.8361057058565062.\u001b[0m\n",
            "\u001b[32m[I 2022-12-16 16:33:57,917]\u001b[0m Trial 490 finished with value: 0.8338710689849979 and parameters: {'boosting_type': 'dart', 'learning_rate': 0.08656677352631109, 'n_estimators': 246, 'num_leaves': 44, 'max_depth': 65, 'subsample': 0.7207076191180799, 'colsample_bytree': 0.8942355552935376, 'reg_alpha': 8.257535941528456, 'reg_lambda': 81.64650963039726, 'min_child_samples': 30, 'min_child_weight': 3.4387991577803003}. Best is trial 391 with value: 0.8361057058565062.\u001b[0m\n",
            "\u001b[32m[I 2022-12-16 16:33:58,512]\u001b[0m Trial 491 finished with value: 0.8192894356914191 and parameters: {'boosting_type': 'dart', 'learning_rate': 0.07482292075420831, 'n_estimators': 235, 'num_leaves': 49, 'max_depth': 85, 'subsample': 0.6594529083656187, 'colsample_bytree': 0.8447152717108541, 'reg_alpha': 23.149469818965073, 'reg_lambda': 85.0408041216759, 'min_child_samples': 46, 'min_child_weight': 7.054992690855328}. Best is trial 391 with value: 0.8361057058565062.\u001b[0m\n",
            "\u001b[32m[I 2022-12-16 16:33:59,906]\u001b[0m Trial 492 finished with value: 0.7890276818780994 and parameters: {'boosting_type': 'dart', 'learning_rate': 0.03933889420769341, 'n_estimators': 479, 'num_leaves': 59, 'max_depth': 76, 'subsample': 0.6675011913676906, 'colsample_bytree': 0.7863668617138246, 'reg_alpha': 46.587516952368155, 'reg_lambda': 76.38509223946694, 'min_child_samples': 51, 'min_child_weight': 8.090998376698066}. Best is trial 391 with value: 0.8361057058565062.\u001b[0m\n",
            "\u001b[32m[I 2022-12-16 16:34:00,766]\u001b[0m Trial 493 finished with value: 0.8204632477559475 and parameters: {'boosting_type': 'dart', 'learning_rate': 0.013935900793096083, 'n_estimators': 291, 'num_leaves': 59, 'max_depth': 15, 'subsample': 0.6078195179328545, 'colsample_bytree': 0.7546842257354002, 'reg_alpha': 7.180960310588549, 'reg_lambda': 50.904375396761125, 'min_child_samples': 30, 'min_child_weight': 4.1605895654823195}. Best is trial 391 with value: 0.8361057058565062.\u001b[0m\n",
            "\u001b[32m[I 2022-12-16 16:34:01,210]\u001b[0m Trial 494 finished with value: 0.7856568953612454 and parameters: {'boosting_type': 'dart', 'learning_rate': 0.09232294086050982, 'n_estimators': 188, 'num_leaves': 53, 'max_depth': 55, 'subsample': 0.6876925110128786, 'colsample_bytree': 0.9295894450329706, 'reg_alpha': 20.413595923508744, 'reg_lambda': 89.79516619274692, 'min_child_samples': 69, 'min_child_weight': 6.794424516347655}. Best is trial 391 with value: 0.8361057058565062.\u001b[0m\n",
            "\u001b[32m[I 2022-12-16 16:34:01,971]\u001b[0m Trial 495 finished with value: 0.8260372857949909 and parameters: {'boosting_type': 'dart', 'learning_rate': 0.09642611697116303, 'n_estimators': 236, 'num_leaves': 42, 'max_depth': 83, 'subsample': 0.6502248270606794, 'colsample_bytree': 0.875361783182447, 'reg_alpha': 3.649701747413025, 'reg_lambda': 41.090990994771055, 'min_child_samples': 37, 'min_child_weight': 7.25725925342201}. Best is trial 391 with value: 0.8361057058565062.\u001b[0m\n",
            "\u001b[32m[I 2022-12-16 16:34:02,842]\u001b[0m Trial 496 finished with value: 0.8013119076015316 and parameters: {'boosting_type': 'dart', 'learning_rate': 0.08351324294982813, 'n_estimators': 316, 'num_leaves': 42, 'max_depth': 14, 'subsample': 0.6394015202914263, 'colsample_bytree': 0.8129500263353856, 'reg_alpha': 29.498323135235772, 'reg_lambda': 92.56933426226773, 'min_child_samples': 50, 'min_child_weight': 8.76782178230493}. Best is trial 391 with value: 0.8361057058565062.\u001b[0m\n",
            "\u001b[32m[I 2022-12-16 16:34:03,567]\u001b[0m Trial 497 finished with value: 0.830500282468144 and parameters: {'boosting_type': 'dart', 'learning_rate': 0.09782240003644407, 'n_estimators': 262, 'num_leaves': 51, 'max_depth': 87, 'subsample': 0.6791911466288123, 'colsample_bytree': 0.8336392667062866, 'reg_alpha': 19.705583050197262, 'reg_lambda': 43.14697853056861, 'min_child_samples': 20, 'min_child_weight': 4.90399620842779}. Best is trial 391 with value: 0.8361057058565062.\u001b[0m\n",
            "\u001b[32m[I 2022-12-16 16:34:04,413]\u001b[0m Trial 498 finished with value: 0.8338710689849979 and parameters: {'boosting_type': 'dart', 'learning_rate': 0.08382335348301306, 'n_estimators': 304, 'num_leaves': 47, 'max_depth': 89, 'subsample': 0.6628517122073736, 'colsample_bytree': 0.9213292876392125, 'reg_alpha': 21.119763987598912, 'reg_lambda': 94.52653463167826, 'min_child_samples': 31, 'min_child_weight': 8.311561311917092}. Best is trial 391 with value: 0.8361057058565062.\u001b[0m\n",
            "\u001b[32m[I 2022-12-16 16:34:05,367]\u001b[0m Trial 499 finished with value: 0.8091770761408574 and parameters: {'boosting_type': 'dart', 'learning_rate': 0.08992694962931064, 'n_estimators': 335, 'num_leaves': 44, 'max_depth': 100, 'subsample': 0.850858706252321, 'colsample_bytree': 0.8725879040632042, 'reg_alpha': 30.60216038786529, 'reg_lambda': 91.3111980279022, 'min_child_samples': 39, 'min_child_weight': 8.43232264729269}. Best is trial 391 with value: 0.8361057058565062.\u001b[0m\n",
            "Best trial score: 0.8361057058565062\n",
            "Best params: {'boosting_type': 'dart', 'learning_rate': 0.08982073889302954, 'n_estimators': 198, 'num_leaves': 55, 'max_depth': 88, 'subsample': 0.7137920352044803, 'colsample_bytree': 0.7697593654775751, 'reg_alpha': 5.13137156363926, 'reg_lambda': 62.21513408653043, 'min_child_samples': 20, 'min_child_weight': 8.329221604292918}\n"
          ]
        }
      ]
    },
    {
      "cell_type": "markdown",
      "source": [
        "#### **3.1.3.2. 모델 훈련**"
      ],
      "metadata": {
        "id": "aLsHKTN0bSAe"
      }
    },
    {
      "cell_type": "code",
      "source": [
        "params = study.best_trial.params\n",
        "lgbm_clf_model = LGBMClassifier(**params)\n",
        "lgbm_clf_model.fit(X_train_df, y_train_df)\n",
        "prediction_lgbm_clf = lgbm_clf_model.predict(X_test_df)"
      ],
      "metadata": {
        "id": "8hgDq_DRk1e7"
      },
      "execution_count": 53,
      "outputs": []
    },
    {
      "cell_type": "code",
      "source": [
        "submission['Survived'] = prediction_lgbm_clf\n",
        "submission.to_csv('Titanic_submission_21.csv', index=False)"
      ],
      "metadata": {
        "id": "2zNiNq2Yk1e7"
      },
      "execution_count": 54,
      "outputs": []
    },
    {
      "cell_type": "markdown",
      "source": [
        "퍼블릭 스코어는 0.75119입니다. 이 모델의 예전 스코어인 0.77751보다 꽤 하락했습니다."
      ],
      "metadata": {
        "id": "gYVgM2z90Ft0"
      }
    },
    {
      "cell_type": "markdown",
      "source": [
        "## **3.2. 앙상블**"
      ],
      "metadata": {
        "id": "djgVIyMlGQmV"
      }
    },
    {
      "cell_type": "code",
      "source": [
        "prediction_ensemble = (prediction_xgb_clf * 0.5) + (prediction_lgbm_clf * 0.5)\n",
        "prediction_ensemble_to_int = (prediction_ensemble > 0.5).astype(int)\n",
        "submission['Survived'] = prediction_ensemble_to_int\n",
        "submission.to_csv('Titanic_submission_18.csv', index=False)"
      ],
      "metadata": {
        "id": "6wGMXePD_8_M"
      },
      "execution_count": null,
      "outputs": []
    },
    {
      "cell_type": "markdown",
      "source": [
        "퍼블릭 스코어는 0.77751입니다. 이 앙상블의 예전 스코어인 0.77272보다 약간 상승했습니다."
      ],
      "metadata": {
        "id": "M7Zb-PAcF8Nw"
      }
    }
  ]
}